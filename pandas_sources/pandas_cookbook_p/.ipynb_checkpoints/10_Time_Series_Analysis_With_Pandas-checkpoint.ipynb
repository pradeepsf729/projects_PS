{
 "cells": [
  {
   "cell_type": "code",
   "execution_count": 89,
   "id": "e687ad2e",
   "metadata": {},
   "outputs": [],
   "source": [
    "import datetime\n",
    "import pandas as pd"
   ]
  },
  {
   "cell_type": "markdown",
   "id": "f6b5c97f",
   "metadata": {},
   "source": [
    "### Date,Time handling with Python"
   ]
  },
  {
   "cell_type": "code",
   "execution_count": 90,
   "id": "5d95cee3",
   "metadata": {},
   "outputs": [],
   "source": [
    "date = datetime.date(year=2013, month=6, day=7)"
   ]
  },
  {
   "cell_type": "code",
   "execution_count": 91,
   "id": "f2ca976e",
   "metadata": {},
   "outputs": [
    {
     "data": {
      "text/plain": [
       "(datetime.date(2013, 6, 7), datetime.date)"
      ]
     },
     "execution_count": 91,
     "metadata": {},
     "output_type": "execute_result"
    }
   ],
   "source": [
    "date, type(date)"
   ]
  },
  {
   "cell_type": "code",
   "execution_count": 92,
   "id": "670ad10e",
   "metadata": {},
   "outputs": [],
   "source": [
    "time = datetime.time(hour=12, minute=30, second=19, microsecond=463198)"
   ]
  },
  {
   "cell_type": "code",
   "execution_count": 93,
   "id": "3fbd6640",
   "metadata": {},
   "outputs": [
    {
     "data": {
      "text/plain": [
       "(datetime.time(12, 30, 19, 463198), datetime.time)"
      ]
     },
     "execution_count": 93,
     "metadata": {},
     "output_type": "execute_result"
    }
   ],
   "source": [
    "time, type(time)"
   ]
  },
  {
   "cell_type": "code",
   "execution_count": 94,
   "id": "007fa14f",
   "metadata": {},
   "outputs": [],
   "source": [
    "dt = datetime.datetime(year=2013, month=6, day=7, \n",
    "                           hour=12, minute=30, second=19, \n",
    "                           microsecond=463198)"
   ]
  },
  {
   "cell_type": "code",
   "execution_count": 95,
   "id": "3c1896e6",
   "metadata": {},
   "outputs": [
    {
     "data": {
      "text/plain": [
       "(datetime.datetime(2013, 6, 7, 12, 30, 19, 463198), datetime.datetime)"
      ]
     },
     "execution_count": 95,
     "metadata": {},
     "output_type": "execute_result"
    }
   ],
   "source": [
    "dt, type(dt)"
   ]
  },
  {
   "cell_type": "code",
   "execution_count": 96,
   "id": "7660b682",
   "metadata": {},
   "outputs": [
    {
     "name": "stdout",
     "output_type": "stream",
     "text": [
      "2013-06-07\n",
      "12:30:19.463198\n",
      "2013-06-07 12:30:19.463198\n"
     ]
    }
   ],
   "source": [
    "print(date)\n",
    "print(time)\n",
    "print(dt)"
   ]
  },
  {
   "cell_type": "code",
   "execution_count": 97,
   "id": "d22c75ad",
   "metadata": {},
   "outputs": [],
   "source": [
    "time_delta = datetime.timedelta(weeks=2, days=5, hours=10,\n",
    "                            minutes=20, seconds=6.73,\n",
    "                            milliseconds=99, microseconds=8)"
   ]
  },
  {
   "cell_type": "code",
   "execution_count": 98,
   "id": "6ff2d11f",
   "metadata": {},
   "outputs": [
    {
     "name": "stdout",
     "output_type": "stream",
     "text": [
      "19 days, 10:20:06.829008\n"
     ]
    }
   ],
   "source": [
    "print(time_delta)"
   ]
  },
  {
   "cell_type": "code",
   "execution_count": 99,
   "id": "c17065b1",
   "metadata": {},
   "outputs": [
    {
     "name": "stdout",
     "output_type": "stream",
     "text": [
      "New date is  2013-06-26\n"
     ]
    }
   ],
   "source": [
    "print('New date is ', date + time_delta) # (7th + 19th)"
   ]
  },
  {
   "cell_type": "code",
   "execution_count": 100,
   "id": "cf46c114",
   "metadata": {},
   "outputs": [
    {
     "name": "stdout",
     "output_type": "stream",
     "text": [
      "new datetime is 2013-06-26 22:50:26.292206\n"
     ]
    }
   ],
   "source": [
    "print('new datetime is', dt + time_delta)"
   ]
  },
  {
   "cell_type": "code",
   "execution_count": 101,
   "id": "7ef97abb",
   "metadata": {},
   "outputs": [
    {
     "name": "stdout",
     "output_type": "stream",
     "text": [
      "unsupported operand type(s) for +: 'datetime.time' and 'datetime.timedelta'\n"
     ]
    }
   ],
   "source": [
    "try:\n",
    "    time + time_delta\n",
    "except TypeError as e:\n",
    "    print(e)"
   ]
  },
  {
   "cell_type": "markdown",
   "id": "3a1b1976",
   "metadata": {},
   "source": [
    "### Date, time handling with pandas"
   ]
  },
  {
   "cell_type": "code",
   "execution_count": 102,
   "id": "9458bead",
   "metadata": {},
   "outputs": [
    {
     "data": {
      "text/plain": [
       "Timestamp('2012-12-21 05:10:08.000099')"
      ]
     },
     "execution_count": 102,
     "metadata": {},
     "output_type": "execute_result"
    }
   ],
   "source": [
    "pd.Timestamp(year=2012, month=12, day=21, hour=5,\n",
    "             minute=10, second=8, microsecond=99)"
   ]
  },
  {
   "cell_type": "code",
   "execution_count": 103,
   "id": "42b0218e",
   "metadata": {},
   "outputs": [
    {
     "data": {
      "text/plain": [
       "Timestamp('2016-01-10 00:00:00')"
      ]
     },
     "execution_count": 103,
     "metadata": {},
     "output_type": "execute_result"
    }
   ],
   "source": [
    "pd.Timestamp('2016/1/10')"
   ]
  },
  {
   "cell_type": "code",
   "execution_count": 104,
   "id": "6d09732f",
   "metadata": {},
   "outputs": [
    {
     "data": {
      "text/plain": [
       "Timestamp('2014-05-10 00:00:00')"
      ]
     },
     "execution_count": 104,
     "metadata": {},
     "output_type": "execute_result"
    }
   ],
   "source": [
    "pd.Timestamp('2014-5/10')"
   ]
  },
  {
   "cell_type": "code",
   "execution_count": 105,
   "id": "e1f629fd",
   "metadata": {},
   "outputs": [
    {
     "data": {
      "text/plain": [
       "Timestamp('2019-01-03 20:45:33')"
      ]
     },
     "execution_count": 105,
     "metadata": {},
     "output_type": "execute_result"
    }
   ],
   "source": [
    "pd.Timestamp('Jan 3, 2019 20:45.56')"
   ]
  },
  {
   "cell_type": "code",
   "execution_count": 106,
   "id": "911c91b3",
   "metadata": {},
   "outputs": [
    {
     "data": {
      "text/plain": [
       "Timestamp('2016-01-05 05:34:43.123456789')"
      ]
     },
     "execution_count": 106,
     "metadata": {},
     "output_type": "execute_result"
    }
   ],
   "source": [
    "pd.Timestamp('2016-01-05T05:34:43.123456789')  # UTC format"
   ]
  },
  {
   "cell_type": "code",
   "execution_count": 107,
   "id": "c5c87674",
   "metadata": {},
   "outputs": [
    {
     "data": {
      "text/plain": [
       "Timestamp('2001-09-05 11:37:35.788540')"
      ]
     },
     "execution_count": 107,
     "metadata": {},
     "output_type": "execute_result"
    }
   ],
   "source": [
    "pd.Timestamp(999689855788540000)   # seconds from UNIX epoch"
   ]
  },
  {
   "cell_type": "code",
   "execution_count": 108,
   "id": "01b94892",
   "metadata": {},
   "outputs": [
    {
     "data": {
      "text/plain": [
       "Timestamp('2199-12-26 00:00:00')"
      ]
     },
     "execution_count": 108,
     "metadata": {},
     "output_type": "execute_result"
    }
   ],
   "source": [
    "pd.Timestamp(84000, unit='D')"
   ]
  },
  {
   "cell_type": "code",
   "execution_count": 109,
   "id": "d5142403",
   "metadata": {},
   "outputs": [
    {
     "data": {
      "text/plain": [
       "Timestamp('2015-05-13 00:00:00')"
      ]
     },
     "execution_count": 109,
     "metadata": {},
     "output_type": "execute_result"
    }
   ],
   "source": [
    "pd.to_datetime('2015-5-13')"
   ]
  },
  {
   "cell_type": "code",
   "execution_count": 110,
   "id": "c886441e",
   "metadata": {},
   "outputs": [
    {
     "data": {
      "text/plain": [
       "Timestamp('2015-05-13 00:00:00')"
      ]
     },
     "execution_count": 110,
     "metadata": {},
     "output_type": "execute_result"
    }
   ],
   "source": [
    "pd.to_datetime('2015-13-5', dayfirst=True)"
   ]
  },
  {
   "cell_type": "code",
   "execution_count": 111,
   "id": "484dc98a",
   "metadata": {},
   "outputs": [
    {
     "data": {
      "text/plain": [
       "Timestamp('2017-09-30 13:30:00')"
      ]
     },
     "execution_count": 111,
     "metadata": {},
     "output_type": "execute_result"
    }
   ],
   "source": [
    "pd.to_datetime('Start Date: Sep 30, 2017 Start Time: 1:30 pm', \n",
    "               format='Start Date: %b %d, %Y Start Time: %I:%M %p')"
   ]
  },
  {
   "cell_type": "code",
   "execution_count": 112,
   "id": "31cff57d",
   "metadata": {},
   "outputs": [
    {
     "data": {
      "text/plain": [
       "Timestamp('2013-04-11 00:00:00')"
      ]
     },
     "execution_count": 112,
     "metadata": {},
     "output_type": "execute_result"
    }
   ],
   "source": [
    "pd.to_datetime(100, unit='D', origin='2013-1-1')"
   ]
  },
  {
   "cell_type": "code",
   "execution_count": 113,
   "id": "93a13290",
   "metadata": {},
   "outputs": [],
   "source": [
    "s = pd.Series([10, 100, 1000, 10000])"
   ]
  },
  {
   "cell_type": "code",
   "execution_count": 114,
   "id": "ed5c748b",
   "metadata": {},
   "outputs": [
    {
     "data": {
      "text/plain": [
       "0   1970-01-11\n",
       "1   1970-04-11\n",
       "2   1972-09-27\n",
       "3   1997-05-19\n",
       "dtype: datetime64[ns]"
      ]
     },
     "execution_count": 114,
     "metadata": {},
     "output_type": "execute_result"
    }
   ],
   "source": [
    "pd.to_datetime(s, unit='D')  # can convert total series at once."
   ]
  },
  {
   "cell_type": "code",
   "execution_count": 115,
   "id": "b70a1e5e",
   "metadata": {},
   "outputs": [],
   "source": [
    "s = pd.Series(['12-5-2015', '14-1-2013', '20/12/2017', '40/23/2017'])"
   ]
  },
  {
   "cell_type": "code",
   "execution_count": 138,
   "id": "4d541eb1",
   "metadata": {},
   "outputs": [
    {
     "data": {
      "text/plain": [
       "0   2015-05-12\n",
       "1   2013-01-14\n",
       "2   2017-12-20\n",
       "3          NaT\n",
       "dtype: datetime64[ns]"
      ]
     },
     "execution_count": 138,
     "metadata": {},
     "output_type": "execute_result"
    }
   ],
   "source": [
    "pd.to_datetime(s, dayfirst=True, errors='coerce')   # coerce will convert invalid format to 'NaT'"
   ]
  },
  {
   "cell_type": "code",
   "execution_count": 117,
   "id": "4f03d030",
   "metadata": {},
   "outputs": [
    {
     "data": {
      "text/plain": [
       "DatetimeIndex(['1999-08-03 03:45:56', '2017-10-31 00:00:00'], dtype='datetime64[ns]', freq=None)"
      ]
     },
     "execution_count": 117,
     "metadata": {},
     "output_type": "execute_result"
    }
   ],
   "source": [
    "pd.to_datetime(['Aug 3 1999 3:45:56', '10/31/2017'])"
   ]
  },
  {
   "cell_type": "code",
   "execution_count": 118,
   "id": "78e5e00c",
   "metadata": {},
   "outputs": [
    {
     "data": {
      "text/plain": [
       "Timedelta('12 days 05:03:00.123456789')"
      ]
     },
     "execution_count": 118,
     "metadata": {},
     "output_type": "execute_result"
    }
   ],
   "source": [
    "pd.Timedelta('12 days 5 hours 3 minutes 123456789 nanoseconds')"
   ]
  },
  {
   "cell_type": "code",
   "execution_count": 119,
   "id": "64567ff3",
   "metadata": {},
   "outputs": [
    {
     "data": {
      "text/plain": [
       "Timedelta('5 days 00:07:20.400000')"
      ]
     },
     "execution_count": 119,
     "metadata": {},
     "output_type": "execute_result"
    }
   ],
   "source": [
    "pd.Timedelta(days=5, minutes=7.34)"
   ]
  },
  {
   "cell_type": "code",
   "execution_count": 120,
   "id": "b28530b8",
   "metadata": {},
   "outputs": [
    {
     "data": {
      "text/plain": [
       "Timedelta('700 days 00:00:00')"
      ]
     },
     "execution_count": 120,
     "metadata": {},
     "output_type": "execute_result"
    }
   ],
   "source": [
    "pd.Timedelta(100, unit='W')  # weeks unit"
   ]
  },
  {
   "cell_type": "code",
   "execution_count": 121,
   "id": "9d64b858",
   "metadata": {},
   "outputs": [
    {
     "data": {
      "text/plain": [
       "Timedelta('2 days 19:15:45.454000')"
      ]
     },
     "execution_count": 121,
     "metadata": {},
     "output_type": "execute_result"
    }
   ],
   "source": [
    "pd.to_timedelta('67:15:45.454')"
   ]
  },
  {
   "cell_type": "code",
   "execution_count": 122,
   "id": "8ae6fe57",
   "metadata": {},
   "outputs": [
    {
     "data": {
      "text/plain": [
       "0   0 days 00:00:00.000000010\n",
       "1   0 days 00:00:00.000000100\n",
       "dtype: timedelta64[ns]"
      ]
     },
     "execution_count": 122,
     "metadata": {},
     "output_type": "execute_result"
    }
   ],
   "source": [
    "pd.to_timedelta(pd.Series([10, 100]))"
   ]
  },
  {
   "cell_type": "code",
   "execution_count": 123,
   "id": "8a2188be",
   "metadata": {},
   "outputs": [],
   "source": [
    "time_strings = ['2 days 24 minutes 89.67 seconds', '00:45:23.6']"
   ]
  },
  {
   "cell_type": "code",
   "execution_count": 124,
   "id": "6c26a593",
   "metadata": {},
   "outputs": [
    {
     "data": {
      "text/plain": [
       "TimedeltaIndex(['2 days 00:25:29.670000', '0 days 00:45:23.600000'], dtype='timedelta64[ns]', freq=None)"
      ]
     },
     "execution_count": 124,
     "metadata": {},
     "output_type": "execute_result"
    }
   ],
   "source": [
    "pd.to_timedelta(time_strings)"
   ]
  },
  {
   "cell_type": "code",
   "execution_count": 129,
   "id": "feaef9a0",
   "metadata": {},
   "outputs": [
    {
     "data": {
      "text/plain": [
       "Timedelta('24 days 10:06:00')"
      ]
     },
     "execution_count": 129,
     "metadata": {},
     "output_type": "execute_result"
    }
   ],
   "source": [
    "pd.Timedelta('12 days 5 hours 3 minutes') * 2"
   ]
  },
  {
   "cell_type": "code",
   "execution_count": 128,
   "id": "1b316ad0",
   "metadata": {},
   "outputs": [
    {
     "data": {
      "text/plain": [
       "Timedelta('6 days 02:31:30')"
      ]
     },
     "execution_count": 128,
     "metadata": {},
     "output_type": "execute_result"
    }
   ],
   "source": [
    "pd.Timedelta('12 days 5 hours 3 minutes') / 2"
   ]
  },
  {
   "cell_type": "code",
   "execution_count": 131,
   "id": "5c8c3009",
   "metadata": {},
   "outputs": [
    {
     "data": {
      "text/plain": [
       "Timestamp('2017-01-25 10:06:00')"
      ]
     },
     "execution_count": 131,
     "metadata": {},
     "output_type": "execute_result"
    }
   ],
   "source": [
    "pd.Timestamp('1/1/2017') + pd.Timedelta('12 days 5 hours 3 minutes') * 2   # 1 + 24 days.."
   ]
  },
  {
   "cell_type": "code",
   "execution_count": 132,
   "id": "0785d6ee",
   "metadata": {},
   "outputs": [],
   "source": [
    "td1 = pd.to_timedelta([10, 100], unit='s')\n",
    "td2 = pd.to_timedelta(['3 hours', '4 hours'])"
   ]
  },
  {
   "cell_type": "code",
   "execution_count": 134,
   "id": "3ae373a7",
   "metadata": {},
   "outputs": [
    {
     "data": {
      "text/plain": [
       "(TimedeltaIndex(['0 days 00:00:10', '0 days 00:01:40'], dtype='timedelta64[ns]', freq=None),\n",
       " TimedeltaIndex(['0 days 03:00:00', '0 days 04:00:00'], dtype='timedelta64[ns]', freq=None))"
      ]
     },
     "execution_count": 134,
     "metadata": {},
     "output_type": "execute_result"
    }
   ],
   "source": [
    "td1, td2"
   ]
  },
  {
   "cell_type": "code",
   "execution_count": 135,
   "id": "804788a3",
   "metadata": {},
   "outputs": [
    {
     "data": {
      "text/plain": [
       "TimedeltaIndex(['0 days 03:00:10', '0 days 04:01:40'], dtype='timedelta64[ns]', freq=None)"
      ]
     },
     "execution_count": 135,
     "metadata": {},
     "output_type": "execute_result"
    }
   ],
   "source": [
    "td1 + td2"
   ]
  },
  {
   "cell_type": "markdown",
   "id": "8be584a9",
   "metadata": {},
   "source": [
    "#### Attributes/Methods on Timestamp and Timedelta objects"
   ]
  },
  {
   "cell_type": "code",
   "execution_count": 136,
   "id": "a10c7eca",
   "metadata": {},
   "outputs": [],
   "source": [
    "ts = pd.Timestamp('2016-10-1 4:23:23.9')"
   ]
  },
  {
   "cell_type": "code",
   "execution_count": 137,
   "id": "aa760c12",
   "metadata": {},
   "outputs": [
    {
     "data": {
      "text/plain": [
       "Timestamp('2016-10-01 04:23:23.900000')"
      ]
     },
     "execution_count": 137,
     "metadata": {},
     "output_type": "execute_result"
    }
   ],
   "source": [
    "ts"
   ]
  },
  {
   "cell_type": "code",
   "execution_count": 141,
   "id": "7249bc16",
   "metadata": {},
   "outputs": [
    {
     "data": {
      "text/plain": [
       "Timestamp('2016-10-01 05:00:00')"
      ]
     },
     "execution_count": 141,
     "metadata": {},
     "output_type": "execute_result"
    }
   ],
   "source": [
    "ts.ceil('h')  # round to next hour"
   ]
  },
  {
   "cell_type": "code",
   "execution_count": null,
   "id": "c582062f",
   "metadata": {},
   "outputs": [],
   "source": []
  }
 ],
 "metadata": {
  "kernelspec": {
   "display_name": "Python 3",
   "language": "python",
   "name": "python3"
  },
  "language_info": {
   "codemirror_mode": {
    "name": "ipython",
    "version": 3
   },
   "file_extension": ".py",
   "mimetype": "text/x-python",
   "name": "python",
   "nbconvert_exporter": "python",
   "pygments_lexer": "ipython3",
   "version": "3.8.5"
  }
 },
 "nbformat": 4,
 "nbformat_minor": 5
}
