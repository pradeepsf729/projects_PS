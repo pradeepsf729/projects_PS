{
 "cells": [
  {
   "cell_type": "code",
   "execution_count": 1,
   "id": "61e53447",
   "metadata": {},
   "outputs": [],
   "source": [
    "import pandas as pd"
   ]
  },
  {
   "cell_type": "code",
   "execution_count": 2,
   "id": "f1ccc05e",
   "metadata": {},
   "outputs": [],
   "source": [
    "base_url = 'https://docs.google.com/spreadsheets/d/1iEl565M1mICTubTtoxXMdxzaHzAcPTnb3kpRndsrfyY/edit?ts=5bd7f609#gid=671375968'"
   ]
  },
  {
   "cell_type": "code",
   "execution_count": 3,
   "id": "3a584233",
   "metadata": {},
   "outputs": [],
   "source": [
    "#trump_url = base_url.format(45)"
   ]
  },
  {
   "cell_type": "code",
   "execution_count": 4,
   "id": "8b2995e1",
   "metadata": {},
   "outputs": [],
   "source": [
    "#df_list = pd.read_html(trump_url)"
   ]
  },
  {
   "cell_type": "code",
   "execution_count": 5,
   "id": "52ba980b",
   "metadata": {},
   "outputs": [],
   "source": [
    "df_list = pd.read_html(base_url, header=1)"
   ]
  },
  {
   "cell_type": "code",
   "execution_count": 6,
   "id": "f025d5cb",
   "metadata": {},
   "outputs": [
    {
     "data": {
      "text/plain": [
       "1"
      ]
     },
     "execution_count": 6,
     "metadata": {},
     "output_type": "execute_result"
    }
   ],
   "source": [
    "len(df_list)"
   ]
  },
  {
   "cell_type": "code",
   "execution_count": 7,
   "id": "2fbf66dc",
   "metadata": {},
   "outputs": [
    {
     "data": {
      "text/plain": [
       "list"
      ]
     },
     "execution_count": 7,
     "metadata": {},
     "output_type": "execute_result"
    }
   ],
   "source": [
    "type(df_list)"
   ]
  },
  {
   "cell_type": "code",
   "execution_count": 8,
   "id": "beff87a9",
   "metadata": {},
   "outputs": [
    {
     "data": {
      "text/plain": [
       "pandas.core.frame.DataFrame"
      ]
     },
     "execution_count": 8,
     "metadata": {},
     "output_type": "execute_result"
    }
   ],
   "source": [
    "type(df_list[0])"
   ]
  },
  {
   "cell_type": "code",
   "execution_count": 9,
   "id": "046c3d93",
   "metadata": {},
   "outputs": [
    {
     "data": {
      "text/plain": [
       "Index(['1', 'Start Date', 'End Date', 'Approving', 'Disapproving',\n",
       "       'Unsure/NoData', 'Unnamed: 6', 'Unnamed: 7', 'Unnamed: 8', 'Unnamed: 9',\n",
       "       'Unnamed: 10', 'Unnamed: 11', 'Unnamed: 12', 'Unnamed: 13',\n",
       "       'Unnamed: 14', 'Unnamed: 15', 'Unnamed: 16', 'Unnamed: 17'],\n",
       "      dtype='object')"
      ]
     },
     "execution_count": 9,
     "metadata": {},
     "output_type": "execute_result"
    }
   ],
   "source": [
    "df_list[0].columns"
   ]
  },
  {
   "cell_type": "code",
   "execution_count": 10,
   "id": "a608545d",
   "metadata": {},
   "outputs": [
    {
     "data": {
      "text/plain": [
       "RangeIndex(start=0, stop=99, step=1)"
      ]
     },
     "execution_count": 10,
     "metadata": {},
     "output_type": "execute_result"
    }
   ],
   "source": [
    "df_list[0].index"
   ]
  },
  {
   "cell_type": "code",
   "execution_count": 11,
   "id": "0dd0a103",
   "metadata": {},
   "outputs": [
    {
     "data": {
      "text/plain": [
       "(99, 18)"
      ]
     },
     "execution_count": 11,
     "metadata": {},
     "output_type": "execute_result"
    }
   ],
   "source": [
    "df_list[0].shape"
   ]
  },
  {
   "cell_type": "markdown",
   "id": "b816b45d",
   "metadata": {},
   "source": [
    "#### Dataset not avaialble, TODO ( collect )"
   ]
  },
  {
   "cell_type": "code",
   "execution_count": null,
   "id": "aa859213",
   "metadata": {},
   "outputs": [],
   "source": []
  }
 ],
 "metadata": {
  "kernelspec": {
   "display_name": "Python 3",
   "language": "python",
   "name": "python3"
  },
  "language_info": {
   "codemirror_mode": {
    "name": "ipython",
    "version": 3
   },
   "file_extension": ".py",
   "mimetype": "text/x-python",
   "name": "python",
   "nbconvert_exporter": "python",
   "pygments_lexer": "ipython3",
   "version": "3.8.5"
  }
 },
 "nbformat": 4,
 "nbformat_minor": 5
}
