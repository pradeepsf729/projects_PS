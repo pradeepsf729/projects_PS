{
 "cells": [
  {
   "cell_type": "code",
   "execution_count": 1,
   "id": "872b5aef",
   "metadata": {},
   "outputs": [],
   "source": [
    "import pandas as pd\n",
    "import pandas_datareader as pdr"
   ]
  },
  {
   "cell_type": "markdown",
   "id": "5ceb306c",
   "metadata": {},
   "source": [
    "### get the latest stock price"
   ]
  },
  {
   "cell_type": "code",
   "execution_count": 2,
   "id": "6d358034",
   "metadata": {},
   "outputs": [
    {
     "data": {
      "text/html": [
       "<div>\n",
       "<style scoped>\n",
       "    .dataframe tbody tr th:only-of-type {\n",
       "        vertical-align: middle;\n",
       "    }\n",
       "\n",
       "    .dataframe tbody tr th {\n",
       "        vertical-align: top;\n",
       "    }\n",
       "\n",
       "    .dataframe thead th {\n",
       "        text-align: right;\n",
       "    }\n",
       "</style>\n",
       "<table border=\"1\" class=\"dataframe\">\n",
       "  <thead>\n",
       "    <tr style=\"text-align: right;\">\n",
       "      <th></th>\n",
       "      <th>High</th>\n",
       "      <th>Low</th>\n",
       "      <th>Open</th>\n",
       "      <th>Close</th>\n",
       "      <th>Volume</th>\n",
       "      <th>Adj Close</th>\n",
       "    </tr>\n",
       "    <tr>\n",
       "      <th>Date</th>\n",
       "      <th></th>\n",
       "      <th></th>\n",
       "      <th></th>\n",
       "      <th></th>\n",
       "      <th></th>\n",
       "      <th></th>\n",
       "    </tr>\n",
       "  </thead>\n",
       "  <tbody>\n",
       "    <tr>\n",
       "      <th>2021-06-01</th>\n",
       "      <td>633.799988</td>\n",
       "      <td>620.549988</td>\n",
       "      <td>627.799988</td>\n",
       "      <td>623.900024</td>\n",
       "      <td>18084900</td>\n",
       "      <td>623.900024</td>\n",
       "    </tr>\n",
       "    <tr>\n",
       "      <th>2021-06-02</th>\n",
       "      <td>623.359985</td>\n",
       "      <td>599.140015</td>\n",
       "      <td>620.130005</td>\n",
       "      <td>605.119995</td>\n",
       "      <td>23302800</td>\n",
       "      <td>605.119995</td>\n",
       "    </tr>\n",
       "    <tr>\n",
       "      <th>2021-06-03</th>\n",
       "      <td>604.549988</td>\n",
       "      <td>571.219971</td>\n",
       "      <td>601.799988</td>\n",
       "      <td>572.840027</td>\n",
       "      <td>30111900</td>\n",
       "      <td>572.840027</td>\n",
       "    </tr>\n",
       "    <tr>\n",
       "      <th>2021-06-04</th>\n",
       "      <td>600.609985</td>\n",
       "      <td>577.200012</td>\n",
       "      <td>579.710022</td>\n",
       "      <td>599.049988</td>\n",
       "      <td>24002100</td>\n",
       "      <td>599.049988</td>\n",
       "    </tr>\n",
       "    <tr>\n",
       "      <th>2021-06-07</th>\n",
       "      <td>610.000000</td>\n",
       "      <td>582.880005</td>\n",
       "      <td>591.830017</td>\n",
       "      <td>605.130005</td>\n",
       "      <td>22543700</td>\n",
       "      <td>605.130005</td>\n",
       "    </tr>\n",
       "    <tr>\n",
       "      <th>2021-06-08</th>\n",
       "      <td>623.090027</td>\n",
       "      <td>595.500000</td>\n",
       "      <td>623.010010</td>\n",
       "      <td>603.590027</td>\n",
       "      <td>26053400</td>\n",
       "      <td>603.590027</td>\n",
       "    </tr>\n",
       "    <tr>\n",
       "      <th>2021-06-09</th>\n",
       "      <td>611.789978</td>\n",
       "      <td>597.630005</td>\n",
       "      <td>602.169983</td>\n",
       "      <td>598.780029</td>\n",
       "      <td>16584600</td>\n",
       "      <td>598.780029</td>\n",
       "    </tr>\n",
       "    <tr>\n",
       "      <th>2021-06-10</th>\n",
       "      <td>616.590027</td>\n",
       "      <td>600.500000</td>\n",
       "      <td>603.880005</td>\n",
       "      <td>610.119995</td>\n",
       "      <td>23919600</td>\n",
       "      <td>610.119995</td>\n",
       "    </tr>\n",
       "  </tbody>\n",
       "</table>\n",
       "</div>"
      ],
      "text/plain": [
       "                  High         Low        Open       Close    Volume  \\\n",
       "Date                                                                   \n",
       "2021-06-01  633.799988  620.549988  627.799988  623.900024  18084900   \n",
       "2021-06-02  623.359985  599.140015  620.130005  605.119995  23302800   \n",
       "2021-06-03  604.549988  571.219971  601.799988  572.840027  30111900   \n",
       "2021-06-04  600.609985  577.200012  579.710022  599.049988  24002100   \n",
       "2021-06-07  610.000000  582.880005  591.830017  605.130005  22543700   \n",
       "2021-06-08  623.090027  595.500000  623.010010  603.590027  26053400   \n",
       "2021-06-09  611.789978  597.630005  602.169983  598.780029  16584600   \n",
       "2021-06-10  616.590027  600.500000  603.880005  610.119995  23919600   \n",
       "\n",
       "             Adj Close  \n",
       "Date                    \n",
       "2021-06-01  623.900024  \n",
       "2021-06-02  605.119995  \n",
       "2021-06-03  572.840027  \n",
       "2021-06-04  599.049988  \n",
       "2021-06-07  605.130005  \n",
       "2021-06-08  603.590027  \n",
       "2021-06-09  598.780029  \n",
       "2021-06-10  610.119995  "
      ]
     },
     "execution_count": 2,
     "metadata": {},
     "output_type": "execute_result"
    }
   ],
   "source": [
    "tsla = pdr.DataReader('TSLA', data_source='yahoo', start='2021-6-01')\n",
    "tsla.head(8)"
   ]
  },
  {
   "cell_type": "code",
   "execution_count": 3,
   "id": "9603528a",
   "metadata": {},
   "outputs": [],
   "source": [
    "tsla_close = tsla['Close']"
   ]
  },
  {
   "cell_type": "markdown",
   "id": "d853c2a6",
   "metadata": {},
   "source": [
    "### find the max price, until now"
   ]
  },
  {
   "cell_type": "code",
   "execution_count": 4,
   "id": "f3627986",
   "metadata": {},
   "outputs": [
    {
     "data": {
      "text/plain": [
       "Date\n",
       "2021-06-01    623.900024\n",
       "2021-06-02    623.900024\n",
       "2021-06-03    623.900024\n",
       "2021-06-04    623.900024\n",
       "2021-06-07    623.900024\n",
       "Name: Close, dtype: float64"
      ]
     },
     "execution_count": 4,
     "metadata": {},
     "output_type": "execute_result"
    }
   ],
   "source": [
    "tsla_cummax = tsla_close.cummax()\n",
    "tsla_cummax.head()"
   ]
  },
  {
   "cell_type": "markdown",
   "id": "4b31d83c",
   "metadata": {},
   "source": [
    "### adjust to 10% for the stoploss"
   ]
  },
  {
   "cell_type": "code",
   "execution_count": 5,
   "id": "b5fcb797",
   "metadata": {},
   "outputs": [
    {
     "data": {
      "text/plain": [
       "Date\n",
       "2021-06-01    561.510022\n",
       "2021-06-02    561.510022\n",
       "2021-06-03    561.510022\n",
       "2021-06-04    561.510022\n",
       "2021-06-07    561.510022\n",
       "Name: Close, dtype: float64"
      ]
     },
     "execution_count": 5,
     "metadata": {},
     "output_type": "execute_result"
    }
   ],
   "source": [
    "tsla_trailing_stop = tsla_cummax * 0.9\n",
    "tsla_trailing_stop.head()"
   ]
  },
  {
   "cell_type": "code",
   "execution_count": null,
   "id": "74f83e37",
   "metadata": {},
   "outputs": [],
   "source": []
  }
 ],
 "metadata": {
  "kernelspec": {
   "display_name": "Python 3",
   "language": "python",
   "name": "python3"
  },
  "language_info": {
   "codemirror_mode": {
    "name": "ipython",
    "version": 3
   },
   "file_extension": ".py",
   "mimetype": "text/x-python",
   "name": "python",
   "nbconvert_exporter": "python",
   "pygments_lexer": "ipython3",
   "version": "3.8.5"
  }
 },
 "nbformat": 4,
 "nbformat_minor": 5
}
