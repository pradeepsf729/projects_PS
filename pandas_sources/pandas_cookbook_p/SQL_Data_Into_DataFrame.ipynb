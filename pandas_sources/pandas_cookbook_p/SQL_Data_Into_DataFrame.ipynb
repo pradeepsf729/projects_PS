{
 "cells": [
  {
   "cell_type": "code",
   "execution_count": 1,
   "id": "7f8a1102",
   "metadata": {},
   "outputs": [],
   "source": [
    "import pandas as pd"
   ]
  },
  {
   "cell_type": "code",
   "execution_count": 2,
   "id": "5d0d59fb",
   "metadata": {},
   "outputs": [],
   "source": [
    "from sqlalchemy import create_engine\n",
    "import sqlite3"
   ]
  },
  {
   "cell_type": "code",
   "execution_count": 3,
   "id": "8d1b14d7",
   "metadata": {},
   "outputs": [],
   "source": [
    "engine = create_engine('sqlite:///data/chinook.db')"
   ]
  },
  {
   "cell_type": "code",
   "execution_count": 4,
   "id": "e4d8ffa0",
   "metadata": {},
   "outputs": [
    {
     "data": {
      "text/plain": [
       "sqlalchemy.engine.base.Engine"
      ]
     },
     "execution_count": 4,
     "metadata": {},
     "output_type": "execute_result"
    }
   ],
   "source": [
    "type(engine)"
   ]
  },
  {
   "cell_type": "markdown",
   "id": "2367ce62",
   "metadata": {},
   "source": [
    "### Getting tracke time for each genre"
   ]
  },
  {
   "cell_type": "code",
   "execution_count": 5,
   "id": "6a7859db",
   "metadata": {},
   "outputs": [],
   "source": [
    "tracks = None\n",
    "try:\n",
    "    tracks = pd.read_sql_table('tracks', con=engine)\n",
    "except ValueError as e:\n",
    "    print(e)"
   ]
  },
  {
   "cell_type": "code",
   "execution_count": 6,
   "id": "e54e2c64",
   "metadata": {},
   "outputs": [
    {
     "data": {
      "text/html": [
       "<div>\n",
       "<style scoped>\n",
       "    .dataframe tbody tr th:only-of-type {\n",
       "        vertical-align: middle;\n",
       "    }\n",
       "\n",
       "    .dataframe tbody tr th {\n",
       "        vertical-align: top;\n",
       "    }\n",
       "\n",
       "    .dataframe thead th {\n",
       "        text-align: right;\n",
       "    }\n",
       "</style>\n",
       "<table border=\"1\" class=\"dataframe\">\n",
       "  <thead>\n",
       "    <tr style=\"text-align: right;\">\n",
       "      <th></th>\n",
       "      <th>TrackId</th>\n",
       "      <th>Name</th>\n",
       "      <th>AlbumId</th>\n",
       "      <th>MediaTypeId</th>\n",
       "      <th>GenreId</th>\n",
       "      <th>Composer</th>\n",
       "      <th>Milliseconds</th>\n",
       "      <th>Bytes</th>\n",
       "      <th>UnitPrice</th>\n",
       "    </tr>\n",
       "  </thead>\n",
       "  <tbody>\n",
       "    <tr>\n",
       "      <th>0</th>\n",
       "      <td>1</td>\n",
       "      <td>For Those About To Rock (We Salute You)</td>\n",
       "      <td>1</td>\n",
       "      <td>1</td>\n",
       "      <td>1</td>\n",
       "      <td>Angus Young, Malcolm Young, Brian Johnson</td>\n",
       "      <td>343719</td>\n",
       "      <td>11170334</td>\n",
       "      <td>0.99</td>\n",
       "    </tr>\n",
       "    <tr>\n",
       "      <th>1</th>\n",
       "      <td>2</td>\n",
       "      <td>Balls to the Wall</td>\n",
       "      <td>2</td>\n",
       "      <td>2</td>\n",
       "      <td>1</td>\n",
       "      <td>None</td>\n",
       "      <td>342562</td>\n",
       "      <td>5510424</td>\n",
       "      <td>0.99</td>\n",
       "    </tr>\n",
       "    <tr>\n",
       "      <th>2</th>\n",
       "      <td>3</td>\n",
       "      <td>Fast As a Shark</td>\n",
       "      <td>3</td>\n",
       "      <td>2</td>\n",
       "      <td>1</td>\n",
       "      <td>F. Baltes, S. Kaufman, U. Dirkscneider &amp; W. Ho...</td>\n",
       "      <td>230619</td>\n",
       "      <td>3990994</td>\n",
       "      <td>0.99</td>\n",
       "    </tr>\n",
       "    <tr>\n",
       "      <th>3</th>\n",
       "      <td>4</td>\n",
       "      <td>Restless and Wild</td>\n",
       "      <td>3</td>\n",
       "      <td>2</td>\n",
       "      <td>1</td>\n",
       "      <td>F. Baltes, R.A. Smith-Diesel, S. Kaufman, U. D...</td>\n",
       "      <td>252051</td>\n",
       "      <td>4331779</td>\n",
       "      <td>0.99</td>\n",
       "    </tr>\n",
       "  </tbody>\n",
       "</table>\n",
       "</div>"
      ],
      "text/plain": [
       "   TrackId                                     Name  AlbumId  MediaTypeId  \\\n",
       "0        1  For Those About To Rock (We Salute You)        1            1   \n",
       "1        2                        Balls to the Wall        2            2   \n",
       "2        3                          Fast As a Shark        3            2   \n",
       "3        4                        Restless and Wild        3            2   \n",
       "\n",
       "   GenreId                                           Composer  Milliseconds  \\\n",
       "0        1          Angus Young, Malcolm Young, Brian Johnson        343719   \n",
       "1        1                                               None        342562   \n",
       "2        1  F. Baltes, S. Kaufman, U. Dirkscneider & W. Ho...        230619   \n",
       "3        1  F. Baltes, R.A. Smith-Diesel, S. Kaufman, U. D...        252051   \n",
       "\n",
       "      Bytes  UnitPrice  \n",
       "0  11170334       0.99  \n",
       "1   5510424       0.99  \n",
       "2   3990994       0.99  \n",
       "3   4331779       0.99  "
      ]
     },
     "execution_count": 6,
     "metadata": {},
     "output_type": "execute_result"
    }
   ],
   "source": [
    "tracks.head(4)"
   ]
  },
  {
   "cell_type": "code",
   "execution_count": 7,
   "id": "f177bab7",
   "metadata": {},
   "outputs": [
    {
     "data": {
      "text/html": [
       "<div>\n",
       "<style scoped>\n",
       "    .dataframe tbody tr th:only-of-type {\n",
       "        vertical-align: middle;\n",
       "    }\n",
       "\n",
       "    .dataframe tbody tr th {\n",
       "        vertical-align: top;\n",
       "    }\n",
       "\n",
       "    .dataframe thead th {\n",
       "        text-align: right;\n",
       "    }\n",
       "</style>\n",
       "<table border=\"1\" class=\"dataframe\">\n",
       "  <thead>\n",
       "    <tr style=\"text-align: right;\">\n",
       "      <th></th>\n",
       "      <th>GenreId</th>\n",
       "      <th>Name</th>\n",
       "    </tr>\n",
       "  </thead>\n",
       "  <tbody>\n",
       "    <tr>\n",
       "      <th>0</th>\n",
       "      <td>1</td>\n",
       "      <td>Rock</td>\n",
       "    </tr>\n",
       "    <tr>\n",
       "      <th>1</th>\n",
       "      <td>2</td>\n",
       "      <td>Jazz</td>\n",
       "    </tr>\n",
       "    <tr>\n",
       "      <th>2</th>\n",
       "      <td>3</td>\n",
       "      <td>Metal</td>\n",
       "    </tr>\n",
       "    <tr>\n",
       "      <th>3</th>\n",
       "      <td>4</td>\n",
       "      <td>Alternative &amp; Punk</td>\n",
       "    </tr>\n",
       "    <tr>\n",
       "      <th>4</th>\n",
       "      <td>5</td>\n",
       "      <td>Rock And Roll</td>\n",
       "    </tr>\n",
       "  </tbody>\n",
       "</table>\n",
       "</div>"
      ],
      "text/plain": [
       "   GenreId                Name\n",
       "0        1                Rock\n",
       "1        2                Jazz\n",
       "2        3               Metal\n",
       "3        4  Alternative & Punk\n",
       "4        5       Rock And Roll"
      ]
     },
     "execution_count": 7,
     "metadata": {},
     "output_type": "execute_result"
    }
   ],
   "source": [
    "genres = pd.read_sql_table('genres', engine)\n",
    "genres.head()"
   ]
  },
  {
   "cell_type": "code",
   "execution_count": 8,
   "id": "3e61e527",
   "metadata": {},
   "outputs": [],
   "source": [
    "genre_track = genres.merge(tracks[['GenreId', 'Milliseconds']], \n",
    "                           on='GenreId', how='left') \\\n",
    "                     .drop('GenreId', axis='columns')"
   ]
  },
  {
   "cell_type": "code",
   "execution_count": 9,
   "id": "8550d217",
   "metadata": {},
   "outputs": [
    {
     "data": {
      "text/html": [
       "<div>\n",
       "<style scoped>\n",
       "    .dataframe tbody tr th:only-of-type {\n",
       "        vertical-align: middle;\n",
       "    }\n",
       "\n",
       "    .dataframe tbody tr th {\n",
       "        vertical-align: top;\n",
       "    }\n",
       "\n",
       "    .dataframe thead th {\n",
       "        text-align: right;\n",
       "    }\n",
       "</style>\n",
       "<table border=\"1\" class=\"dataframe\">\n",
       "  <thead>\n",
       "    <tr style=\"text-align: right;\">\n",
       "      <th></th>\n",
       "      <th>Name</th>\n",
       "      <th>Milliseconds</th>\n",
       "    </tr>\n",
       "  </thead>\n",
       "  <tbody>\n",
       "    <tr>\n",
       "      <th>0</th>\n",
       "      <td>Rock</td>\n",
       "      <td>343719</td>\n",
       "    </tr>\n",
       "    <tr>\n",
       "      <th>1</th>\n",
       "      <td>Rock</td>\n",
       "      <td>342562</td>\n",
       "    </tr>\n",
       "    <tr>\n",
       "      <th>2</th>\n",
       "      <td>Rock</td>\n",
       "      <td>230619</td>\n",
       "    </tr>\n",
       "    <tr>\n",
       "      <th>3</th>\n",
       "      <td>Rock</td>\n",
       "      <td>252051</td>\n",
       "    </tr>\n",
       "    <tr>\n",
       "      <th>4</th>\n",
       "      <td>Rock</td>\n",
       "      <td>375418</td>\n",
       "    </tr>\n",
       "    <tr>\n",
       "      <th>5</th>\n",
       "      <td>Rock</td>\n",
       "      <td>205662</td>\n",
       "    </tr>\n",
       "    <tr>\n",
       "      <th>6</th>\n",
       "      <td>Rock</td>\n",
       "      <td>233926</td>\n",
       "    </tr>\n",
       "    <tr>\n",
       "      <th>7</th>\n",
       "      <td>Rock</td>\n",
       "      <td>210834</td>\n",
       "    </tr>\n",
       "    <tr>\n",
       "      <th>8</th>\n",
       "      <td>Rock</td>\n",
       "      <td>203102</td>\n",
       "    </tr>\n",
       "    <tr>\n",
       "      <th>9</th>\n",
       "      <td>Rock</td>\n",
       "      <td>263497</td>\n",
       "    </tr>\n",
       "  </tbody>\n",
       "</table>\n",
       "</div>"
      ],
      "text/plain": [
       "   Name  Milliseconds\n",
       "0  Rock        343719\n",
       "1  Rock        342562\n",
       "2  Rock        230619\n",
       "3  Rock        252051\n",
       "4  Rock        375418\n",
       "5  Rock        205662\n",
       "6  Rock        233926\n",
       "7  Rock        210834\n",
       "8  Rock        203102\n",
       "9  Rock        263497"
      ]
     },
     "execution_count": 9,
     "metadata": {},
     "output_type": "execute_result"
    }
   ],
   "source": [
    "genre_track.head(10)"
   ]
  },
  {
   "cell_type": "code",
   "execution_count": 10,
   "id": "352cc709",
   "metadata": {},
   "outputs": [],
   "source": [
    "per_genre_time = genre_track.groupby('Name')['Milliseconds'].mean()"
   ]
  },
  {
   "cell_type": "code",
   "execution_count": 11,
   "id": "4a87a6c3",
   "metadata": {},
   "outputs": [
    {
     "data": {
      "text/plain": [
       "Name\n",
       "Rock And Roll        0 days 00:02:14\n",
       "Opera                0 days 00:02:54\n",
       "Hip Hop/Rap          0 days 00:02:58\n",
       "Easy Listening       0 days 00:03:09\n",
       "Bossa Nova           0 days 00:03:39\n",
       "R&B/Soul             0 days 00:03:40\n",
       "World                0 days 00:03:44\n",
       "Pop                  0 days 00:03:49\n",
       "Latin                0 days 00:03:52\n",
       "Alternative & Punk   0 days 00:03:54\n",
       "Soundtrack           0 days 00:04:04\n",
       "Reggae               0 days 00:04:07\n",
       "Alternative          0 days 00:04:24\n",
       "Blues                0 days 00:04:30\n",
       "Rock                 0 days 00:04:43\n",
       "Jazz                 0 days 00:04:51\n",
       "Classical            0 days 00:04:53\n",
       "Heavy Metal          0 days 00:04:57\n",
       "Electronica/Dance    0 days 00:05:02\n",
       "Metal                0 days 00:05:09\n",
       "Comedy               0 days 00:26:25\n",
       "TV Shows             0 days 00:35:45\n",
       "Drama                0 days 00:42:55\n",
       "Science Fiction      0 days 00:43:45\n",
       "Sci Fi & Fantasy     0 days 00:48:31\n",
       "Name: Milliseconds, dtype: timedelta64[ns]"
      ]
     },
     "execution_count": 11,
     "metadata": {},
     "output_type": "execute_result"
    }
   ],
   "source": [
    "pd.to_timedelta(per_genre_time, unit='ms').dt.floor('s').sort_values()"
   ]
  },
  {
   "cell_type": "markdown",
   "id": "3e38fadf",
   "metadata": {},
   "source": [
    "### Total amount spent by the customer"
   ]
  },
  {
   "cell_type": "markdown",
   "id": "e81daff2",
   "metadata": {},
   "source": [
    "#### load the tables with required columns"
   ]
  },
  {
   "cell_type": "code",
   "execution_count": 12,
   "id": "763c11ec",
   "metadata": {},
   "outputs": [],
   "source": [
    "cust = pd.read_sql_table('customers', \n",
    "                         engine, \n",
    "                         columns=['CustomerId','FirstName', 'LastName'])"
   ]
  },
  {
   "cell_type": "code",
   "execution_count": 13,
   "id": "f6d38f70",
   "metadata": {},
   "outputs": [],
   "source": [
    "invoice = pd.read_sql_table('invoices', \n",
    "                            engine, \n",
    "                            columns=['InvoiceId','CustomerId'])"
   ]
  },
  {
   "cell_type": "code",
   "execution_count": 14,
   "id": "763a1048",
   "metadata": {},
   "outputs": [],
   "source": [
    "ii = pd.read_sql_table('invoice_items',\n",
    "                       engine, \n",
    "                        columns=['InvoiceId', 'UnitPrice', 'Quantity'])"
   ]
  },
  {
   "cell_type": "markdown",
   "id": "6215fb3f",
   "metadata": {},
   "source": [
    "#### merge based on relationship key"
   ]
  },
  {
   "cell_type": "code",
   "execution_count": 15,
   "id": "093871ab",
   "metadata": {},
   "outputs": [],
   "source": [
    "cust_inv = cust.merge(invoice, on='CustomerId') \\\n",
    "                   .merge(ii, on='InvoiceId')"
   ]
  },
  {
   "cell_type": "code",
   "execution_count": 16,
   "id": "fa063dc6",
   "metadata": {},
   "outputs": [
    {
     "data": {
      "text/html": [
       "<div>\n",
       "<style scoped>\n",
       "    .dataframe tbody tr th:only-of-type {\n",
       "        vertical-align: middle;\n",
       "    }\n",
       "\n",
       "    .dataframe tbody tr th {\n",
       "        vertical-align: top;\n",
       "    }\n",
       "\n",
       "    .dataframe thead th {\n",
       "        text-align: right;\n",
       "    }\n",
       "</style>\n",
       "<table border=\"1\" class=\"dataframe\">\n",
       "  <thead>\n",
       "    <tr style=\"text-align: right;\">\n",
       "      <th></th>\n",
       "      <th>CustomerId</th>\n",
       "      <th>FirstName</th>\n",
       "      <th>LastName</th>\n",
       "      <th>InvoiceId</th>\n",
       "      <th>UnitPrice</th>\n",
       "      <th>Quantity</th>\n",
       "    </tr>\n",
       "  </thead>\n",
       "  <tbody>\n",
       "    <tr>\n",
       "      <th>0</th>\n",
       "      <td>1</td>\n",
       "      <td>Luís</td>\n",
       "      <td>Gonçalves</td>\n",
       "      <td>98</td>\n",
       "      <td>1.99</td>\n",
       "      <td>1</td>\n",
       "    </tr>\n",
       "    <tr>\n",
       "      <th>1</th>\n",
       "      <td>1</td>\n",
       "      <td>Luís</td>\n",
       "      <td>Gonçalves</td>\n",
       "      <td>98</td>\n",
       "      <td>1.99</td>\n",
       "      <td>1</td>\n",
       "    </tr>\n",
       "    <tr>\n",
       "      <th>2</th>\n",
       "      <td>1</td>\n",
       "      <td>Luís</td>\n",
       "      <td>Gonçalves</td>\n",
       "      <td>121</td>\n",
       "      <td>0.99</td>\n",
       "      <td>1</td>\n",
       "    </tr>\n",
       "    <tr>\n",
       "      <th>3</th>\n",
       "      <td>1</td>\n",
       "      <td>Luís</td>\n",
       "      <td>Gonçalves</td>\n",
       "      <td>121</td>\n",
       "      <td>0.99</td>\n",
       "      <td>1</td>\n",
       "    </tr>\n",
       "    <tr>\n",
       "      <th>4</th>\n",
       "      <td>1</td>\n",
       "      <td>Luís</td>\n",
       "      <td>Gonçalves</td>\n",
       "      <td>121</td>\n",
       "      <td>0.99</td>\n",
       "      <td>1</td>\n",
       "    </tr>\n",
       "    <tr>\n",
       "      <th>5</th>\n",
       "      <td>1</td>\n",
       "      <td>Luís</td>\n",
       "      <td>Gonçalves</td>\n",
       "      <td>121</td>\n",
       "      <td>0.99</td>\n",
       "      <td>1</td>\n",
       "    </tr>\n",
       "    <tr>\n",
       "      <th>6</th>\n",
       "      <td>1</td>\n",
       "      <td>Luís</td>\n",
       "      <td>Gonçalves</td>\n",
       "      <td>143</td>\n",
       "      <td>0.99</td>\n",
       "      <td>1</td>\n",
       "    </tr>\n",
       "    <tr>\n",
       "      <th>7</th>\n",
       "      <td>1</td>\n",
       "      <td>Luís</td>\n",
       "      <td>Gonçalves</td>\n",
       "      <td>143</td>\n",
       "      <td>0.99</td>\n",
       "      <td>1</td>\n",
       "    </tr>\n",
       "    <tr>\n",
       "      <th>8</th>\n",
       "      <td>1</td>\n",
       "      <td>Luís</td>\n",
       "      <td>Gonçalves</td>\n",
       "      <td>143</td>\n",
       "      <td>0.99</td>\n",
       "      <td>1</td>\n",
       "    </tr>\n",
       "    <tr>\n",
       "      <th>9</th>\n",
       "      <td>1</td>\n",
       "      <td>Luís</td>\n",
       "      <td>Gonçalves</td>\n",
       "      <td>143</td>\n",
       "      <td>0.99</td>\n",
       "      <td>1</td>\n",
       "    </tr>\n",
       "  </tbody>\n",
       "</table>\n",
       "</div>"
      ],
      "text/plain": [
       "   CustomerId FirstName   LastName  InvoiceId  UnitPrice  Quantity\n",
       "0           1      Luís  Gonçalves         98       1.99         1\n",
       "1           1      Luís  Gonçalves         98       1.99         1\n",
       "2           1      Luís  Gonçalves        121       0.99         1\n",
       "3           1      Luís  Gonçalves        121       0.99         1\n",
       "4           1      Luís  Gonçalves        121       0.99         1\n",
       "5           1      Luís  Gonçalves        121       0.99         1\n",
       "6           1      Luís  Gonçalves        143       0.99         1\n",
       "7           1      Luís  Gonçalves        143       0.99         1\n",
       "8           1      Luís  Gonçalves        143       0.99         1\n",
       "9           1      Luís  Gonçalves        143       0.99         1"
      ]
     },
     "execution_count": 16,
     "metadata": {},
     "output_type": "execute_result"
    }
   ],
   "source": [
    "cust_inv.head(10)"
   ]
  },
  {
   "cell_type": "code",
   "execution_count": 17,
   "id": "cead2ba4",
   "metadata": {},
   "outputs": [],
   "source": [
    "total = cust_inv['Quantity'] * cust_inv['UnitPrice']"
   ]
  },
  {
   "cell_type": "code",
   "execution_count": 18,
   "id": "6469335a",
   "metadata": {},
   "outputs": [
    {
     "data": {
      "text/plain": [
       "0    1.99\n",
       "1    1.99\n",
       "2    0.99\n",
       "dtype: float64"
      ]
     },
     "execution_count": 18,
     "metadata": {},
     "output_type": "execute_result"
    }
   ],
   "source": [
    "total.head(3)"
   ]
  },
  {
   "cell_type": "code",
   "execution_count": 19,
   "id": "1ce67c87",
   "metadata": {},
   "outputs": [],
   "source": [
    "cols = ['CustomerId', 'FirstName', 'LastName']"
   ]
  },
  {
   "cell_type": "code",
   "execution_count": 20,
   "id": "40b2d82b",
   "metadata": {},
   "outputs": [],
   "source": [
    "cust_inv = cust_inv.assign(Total = total)"
   ]
  },
  {
   "cell_type": "code",
   "execution_count": 21,
   "id": "2b62b40d",
   "metadata": {},
   "outputs": [
    {
     "data": {
      "text/html": [
       "<div>\n",
       "<style scoped>\n",
       "    .dataframe tbody tr th:only-of-type {\n",
       "        vertical-align: middle;\n",
       "    }\n",
       "\n",
       "    .dataframe tbody tr th {\n",
       "        vertical-align: top;\n",
       "    }\n",
       "\n",
       "    .dataframe thead th {\n",
       "        text-align: right;\n",
       "    }\n",
       "</style>\n",
       "<table border=\"1\" class=\"dataframe\">\n",
       "  <thead>\n",
       "    <tr style=\"text-align: right;\">\n",
       "      <th></th>\n",
       "      <th>CustomerId</th>\n",
       "      <th>FirstName</th>\n",
       "      <th>LastName</th>\n",
       "      <th>InvoiceId</th>\n",
       "      <th>UnitPrice</th>\n",
       "      <th>Quantity</th>\n",
       "      <th>Total</th>\n",
       "    </tr>\n",
       "  </thead>\n",
       "  <tbody>\n",
       "    <tr>\n",
       "      <th>0</th>\n",
       "      <td>1</td>\n",
       "      <td>Luís</td>\n",
       "      <td>Gonçalves</td>\n",
       "      <td>98</td>\n",
       "      <td>1.99</td>\n",
       "      <td>1</td>\n",
       "      <td>1.99</td>\n",
       "    </tr>\n",
       "    <tr>\n",
       "      <th>1</th>\n",
       "      <td>1</td>\n",
       "      <td>Luís</td>\n",
       "      <td>Gonçalves</td>\n",
       "      <td>98</td>\n",
       "      <td>1.99</td>\n",
       "      <td>1</td>\n",
       "      <td>1.99</td>\n",
       "    </tr>\n",
       "    <tr>\n",
       "      <th>2</th>\n",
       "      <td>1</td>\n",
       "      <td>Luís</td>\n",
       "      <td>Gonçalves</td>\n",
       "      <td>121</td>\n",
       "      <td>0.99</td>\n",
       "      <td>1</td>\n",
       "      <td>0.99</td>\n",
       "    </tr>\n",
       "    <tr>\n",
       "      <th>3</th>\n",
       "      <td>1</td>\n",
       "      <td>Luís</td>\n",
       "      <td>Gonçalves</td>\n",
       "      <td>121</td>\n",
       "      <td>0.99</td>\n",
       "      <td>1</td>\n",
       "      <td>0.99</td>\n",
       "    </tr>\n",
       "  </tbody>\n",
       "</table>\n",
       "</div>"
      ],
      "text/plain": [
       "   CustomerId FirstName   LastName  InvoiceId  UnitPrice  Quantity  Total\n",
       "0           1      Luís  Gonçalves         98       1.99         1   1.99\n",
       "1           1      Luís  Gonçalves         98       1.99         1   1.99\n",
       "2           1      Luís  Gonçalves        121       0.99         1   0.99\n",
       "3           1      Luís  Gonçalves        121       0.99         1   0.99"
      ]
     },
     "execution_count": 21,
     "metadata": {},
     "output_type": "execute_result"
    }
   ],
   "source": [
    "cust_inv.head(4)"
   ]
  },
  {
   "cell_type": "markdown",
   "id": "10f700c5",
   "metadata": {},
   "source": [
    "#### using group by, get total cost for each customer"
   ]
  },
  {
   "cell_type": "code",
   "execution_count": 22,
   "id": "e15f34fe",
   "metadata": {},
   "outputs": [],
   "source": [
    "final_res = cust_inv.groupby(cols)['Total'] \\\n",
    "                    .sum() \\\n",
    "                    .sort_values(ascending=False)"
   ]
  },
  {
   "cell_type": "code",
   "execution_count": 23,
   "id": "2c7252e7",
   "metadata": {},
   "outputs": [
    {
     "data": {
      "text/plain": [
       "CustomerId  FirstName  LastName  \n",
       "6           Helena     Holý          49.62\n",
       "26          Richard    Cunningham    47.62\n",
       "57          Luis       Rojas         46.62\n",
       "45          Ladislav   Kovács        45.62\n",
       "46          Hugh       O'Reilly      45.62\n",
       "37          Fynn       Zimmermann    43.62\n",
       "24          Frank      Ralston       43.62\n",
       "28          Julia      Barnett       43.62\n",
       "25          Victor     Stevens       42.62\n",
       "7           Astrid     Gruber        42.62\n",
       "Name: Total, dtype: float64"
      ]
     },
     "execution_count": 23,
     "metadata": {},
     "output_type": "execute_result"
    }
   ],
   "source": [
    "final_res.head(10)"
   ]
  },
  {
   "cell_type": "markdown",
   "id": "cdd0eb50",
   "metadata": {},
   "source": [
    "### using the SQL query to load the data frame"
   ]
  },
  {
   "cell_type": "code",
   "execution_count": 24,
   "id": "35ba76f2",
   "metadata": {},
   "outputs": [],
   "source": [
    "query_str = 'select * from tracks'"
   ]
  },
  {
   "cell_type": "code",
   "execution_count": 25,
   "id": "398006f9",
   "metadata": {},
   "outputs": [],
   "source": [
    "tracks_df = pd.read_sql_query(query_str, engine)"
   ]
  },
  {
   "cell_type": "code",
   "execution_count": 26,
   "id": "0b089450",
   "metadata": {},
   "outputs": [
    {
     "data": {
      "text/html": [
       "<div>\n",
       "<style scoped>\n",
       "    .dataframe tbody tr th:only-of-type {\n",
       "        vertical-align: middle;\n",
       "    }\n",
       "\n",
       "    .dataframe tbody tr th {\n",
       "        vertical-align: top;\n",
       "    }\n",
       "\n",
       "    .dataframe thead th {\n",
       "        text-align: right;\n",
       "    }\n",
       "</style>\n",
       "<table border=\"1\" class=\"dataframe\">\n",
       "  <thead>\n",
       "    <tr style=\"text-align: right;\">\n",
       "      <th></th>\n",
       "      <th>TrackId</th>\n",
       "      <th>Name</th>\n",
       "      <th>AlbumId</th>\n",
       "      <th>MediaTypeId</th>\n",
       "      <th>GenreId</th>\n",
       "      <th>Composer</th>\n",
       "      <th>Milliseconds</th>\n",
       "      <th>Bytes</th>\n",
       "      <th>UnitPrice</th>\n",
       "    </tr>\n",
       "  </thead>\n",
       "  <tbody>\n",
       "    <tr>\n",
       "      <th>0</th>\n",
       "      <td>1</td>\n",
       "      <td>For Those About To Rock (We Salute You)</td>\n",
       "      <td>1</td>\n",
       "      <td>1</td>\n",
       "      <td>1</td>\n",
       "      <td>Angus Young, Malcolm Young, Brian Johnson</td>\n",
       "      <td>343719</td>\n",
       "      <td>11170334</td>\n",
       "      <td>0.99</td>\n",
       "    </tr>\n",
       "    <tr>\n",
       "      <th>1</th>\n",
       "      <td>2</td>\n",
       "      <td>Balls to the Wall</td>\n",
       "      <td>2</td>\n",
       "      <td>2</td>\n",
       "      <td>1</td>\n",
       "      <td>None</td>\n",
       "      <td>342562</td>\n",
       "      <td>5510424</td>\n",
       "      <td>0.99</td>\n",
       "    </tr>\n",
       "  </tbody>\n",
       "</table>\n",
       "</div>"
      ],
      "text/plain": [
       "   TrackId                                     Name  AlbumId  MediaTypeId  \\\n",
       "0        1  For Those About To Rock (We Salute You)        1            1   \n",
       "1        2                        Balls to the Wall        2            2   \n",
       "\n",
       "   GenreId                                   Composer  Milliseconds     Bytes  \\\n",
       "0        1  Angus Young, Malcolm Young, Brian Johnson        343719  11170334   \n",
       "1        1                                       None        342562   5510424   \n",
       "\n",
       "   UnitPrice  \n",
       "0       0.99  \n",
       "1       0.99  "
      ]
     },
     "execution_count": 26,
     "metadata": {},
     "output_type": "execute_result"
    }
   ],
   "source": [
    "tracks_df.head(2)"
   ]
  },
  {
   "cell_type": "code",
   "execution_count": null,
   "id": "10f6d777",
   "metadata": {},
   "outputs": [],
   "source": []
  }
 ],
 "metadata": {
  "kernelspec": {
   "display_name": "Python 3",
   "language": "python",
   "name": "python3"
  },
  "language_info": {
   "codemirror_mode": {
    "name": "ipython",
    "version": 3
   },
   "file_extension": ".py",
   "mimetype": "text/x-python",
   "name": "python",
   "nbconvert_exporter": "python",
   "pygments_lexer": "ipython3",
   "version": "3.8.5"
  }
 },
 "nbformat": 4,
 "nbformat_minor": 5
}
