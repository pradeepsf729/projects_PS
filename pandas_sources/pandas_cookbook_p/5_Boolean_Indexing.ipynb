{
 "cells": [
  {
   "cell_type": "code",
   "execution_count": 1,
   "id": "f1efe49d",
   "metadata": {},
   "outputs": [],
   "source": [
    "import pandas as pd"
   ]
  },
  {
   "cell_type": "code",
   "execution_count": 2,
   "id": "31147c6a",
   "metadata": {},
   "outputs": [],
   "source": [
    "pd.set_option('max_columns', 8, 'max_rows', 20)\n",
    "from IPython.core.interactiveshell import InteractiveShell\n",
    "InteractiveShell.ast_node_interactivity = \"all\""
   ]
  },
  {
   "cell_type": "code",
   "execution_count": 3,
   "id": "07b874bd",
   "metadata": {},
   "outputs": [
    {
     "data": {
      "text/html": [
       "<div>\n",
       "<style scoped>\n",
       "    .dataframe tbody tr th:only-of-type {\n",
       "        vertical-align: middle;\n",
       "    }\n",
       "\n",
       "    .dataframe tbody tr th {\n",
       "        vertical-align: top;\n",
       "    }\n",
       "\n",
       "    .dataframe thead th {\n",
       "        text-align: right;\n",
       "    }\n",
       "</style>\n",
       "<table border=\"1\" class=\"dataframe\">\n",
       "  <thead>\n",
       "    <tr style=\"text-align: right;\">\n",
       "      <th></th>\n",
       "      <th>color</th>\n",
       "      <th>director_name</th>\n",
       "      <th>num_critic_for_reviews</th>\n",
       "      <th>duration</th>\n",
       "      <th>...</th>\n",
       "      <th>actor_2_facebook_likes</th>\n",
       "      <th>imdb_score</th>\n",
       "      <th>aspect_ratio</th>\n",
       "      <th>movie_facebook_likes</th>\n",
       "    </tr>\n",
       "    <tr>\n",
       "      <th>movie_title</th>\n",
       "      <th></th>\n",
       "      <th></th>\n",
       "      <th></th>\n",
       "      <th></th>\n",
       "      <th></th>\n",
       "      <th></th>\n",
       "      <th></th>\n",
       "      <th></th>\n",
       "      <th></th>\n",
       "    </tr>\n",
       "  </thead>\n",
       "  <tbody>\n",
       "    <tr>\n",
       "      <th>Avatar</th>\n",
       "      <td>Color</td>\n",
       "      <td>James Cameron</td>\n",
       "      <td>723.0</td>\n",
       "      <td>178.0</td>\n",
       "      <td>...</td>\n",
       "      <td>936.0</td>\n",
       "      <td>7.9</td>\n",
       "      <td>1.78</td>\n",
       "      <td>33000</td>\n",
       "    </tr>\n",
       "    <tr>\n",
       "      <th>Pirates of the Caribbean: At World's End</th>\n",
       "      <td>Color</td>\n",
       "      <td>Gore Verbinski</td>\n",
       "      <td>302.0</td>\n",
       "      <td>169.0</td>\n",
       "      <td>...</td>\n",
       "      <td>5000.0</td>\n",
       "      <td>7.1</td>\n",
       "      <td>2.35</td>\n",
       "      <td>0</td>\n",
       "    </tr>\n",
       "  </tbody>\n",
       "</table>\n",
       "<p>2 rows × 27 columns</p>\n",
       "</div>"
      ],
      "text/plain": [
       "                                          color   director_name  \\\n",
       "movie_title                                                       \n",
       "Avatar                                    Color   James Cameron   \n",
       "Pirates of the Caribbean: At World's End  Color  Gore Verbinski   \n",
       "\n",
       "                                          num_critic_for_reviews  duration  \\\n",
       "movie_title                                                                  \n",
       "Avatar                                                     723.0     178.0   \n",
       "Pirates of the Caribbean: At World's End                   302.0     169.0   \n",
       "\n",
       "                                          ...  actor_2_facebook_likes  \\\n",
       "movie_title                               ...                           \n",
       "Avatar                                    ...                   936.0   \n",
       "Pirates of the Caribbean: At World's End  ...                  5000.0   \n",
       "\n",
       "                                          imdb_score aspect_ratio  \\\n",
       "movie_title                                                         \n",
       "Avatar                                           7.9         1.78   \n",
       "Pirates of the Caribbean: At World's End         7.1         2.35   \n",
       "\n",
       "                                          movie_facebook_likes  \n",
       "movie_title                                                     \n",
       "Avatar                                                   33000  \n",
       "Pirates of the Caribbean: At World's End                     0  \n",
       "\n",
       "[2 rows x 27 columns]"
      ]
     },
     "execution_count": 3,
     "metadata": {},
     "output_type": "execute_result"
    }
   ],
   "source": [
    "movie = pd.read_csv('data/movie.csv', index_col='movie_title')\n",
    "movie.head(2)"
   ]
  },
  {
   "cell_type": "code",
   "execution_count": 4,
   "id": "228e26ba",
   "metadata": {},
   "outputs": [
    {
     "data": {
      "text/plain": [
       "movie_title\n",
       "Avatar                                      True\n",
       "Pirates of the Caribbean: At World's End    True\n",
       "Spectre                                     True\n",
       "Name: duration, dtype: bool"
      ]
     },
     "execution_count": 4,
     "metadata": {},
     "output_type": "execute_result"
    }
   ],
   "source": [
    "movie_duration = movie['duration'] > 120\n",
    "movie_duration.head(3)"
   ]
  },
  {
   "cell_type": "code",
   "execution_count": 5,
   "id": "808946ba",
   "metadata": {},
   "outputs": [
    {
     "data": {
      "text/plain": [
       "1039"
      ]
     },
     "execution_count": 5,
     "metadata": {},
     "output_type": "execute_result"
    }
   ],
   "source": [
    "movie_duration.sum()   # movies more than 2 hours"
   ]
  },
  {
   "cell_type": "code",
   "execution_count": 6,
   "id": "4f68545b",
   "metadata": {},
   "outputs": [
    {
     "data": {
      "text/plain": [
       "0.2113506916192026"
      ]
     },
     "execution_count": 6,
     "metadata": {},
     "output_type": "execute_result"
    }
   ],
   "source": [
    "movie_duration.mean()"
   ]
  },
  {
   "cell_type": "code",
   "execution_count": 7,
   "id": "5ab7adaf",
   "metadata": {},
   "outputs": [
    {
     "data": {
      "text/plain": [
       "0.21199755152009794"
      ]
     },
     "execution_count": 7,
     "metadata": {},
     "output_type": "execute_result"
    }
   ],
   "source": [
    "movie['duration'].dropna().gt(120).mean()"
   ]
  },
  {
   "cell_type": "code",
   "execution_count": 8,
   "id": "f46d8d7e",
   "metadata": {},
   "outputs": [
    {
     "data": {
      "text/plain": [
       "count      4916\n",
       "unique        2\n",
       "top       False\n",
       "freq       3877\n",
       "Name: duration, dtype: object"
      ]
     },
     "execution_count": 8,
     "metadata": {},
     "output_type": "execute_result"
    }
   ],
   "source": [
    "movie_duration.describe()"
   ]
  },
  {
   "cell_type": "code",
   "execution_count": 9,
   "id": "2813df39",
   "metadata": {},
   "outputs": [
    {
     "data": {
      "text/plain": [
       "False    3877\n",
       "True     1039\n",
       "Name: duration, dtype: int64"
      ]
     },
     "execution_count": 9,
     "metadata": {},
     "output_type": "execute_result"
    }
   ],
   "source": [
    "movie_duration.value_counts()"
   ]
  },
  {
   "cell_type": "code",
   "execution_count": 10,
   "id": "d5acdb7e",
   "metadata": {},
   "outputs": [
    {
     "data": {
      "text/plain": [
       "False    0.788649\n",
       "True     0.211351\n",
       "Name: duration, dtype: float64"
      ]
     },
     "execution_count": 10,
     "metadata": {},
     "output_type": "execute_result"
    }
   ],
   "source": [
    "movie_duration.value_counts(normalize=True)"
   ]
  },
  {
   "cell_type": "code",
   "execution_count": 11,
   "id": "3efc9744",
   "metadata": {},
   "outputs": [
    {
     "data": {
      "text/html": [
       "<div>\n",
       "<style scoped>\n",
       "    .dataframe tbody tr th:only-of-type {\n",
       "        vertical-align: middle;\n",
       "    }\n",
       "\n",
       "    .dataframe tbody tr th {\n",
       "        vertical-align: top;\n",
       "    }\n",
       "\n",
       "    .dataframe thead th {\n",
       "        text-align: right;\n",
       "    }\n",
       "</style>\n",
       "<table border=\"1\" class=\"dataframe\">\n",
       "  <thead>\n",
       "    <tr style=\"text-align: right;\">\n",
       "      <th></th>\n",
       "      <th>actor_1_facebook_likes</th>\n",
       "      <th>actor_2_facebook_likes</th>\n",
       "    </tr>\n",
       "    <tr>\n",
       "      <th>movie_title</th>\n",
       "      <th></th>\n",
       "      <th></th>\n",
       "    </tr>\n",
       "  </thead>\n",
       "  <tbody>\n",
       "    <tr>\n",
       "      <th>Avatar</th>\n",
       "      <td>1000.0</td>\n",
       "      <td>936.0</td>\n",
       "    </tr>\n",
       "    <tr>\n",
       "      <th>Pirates of the Caribbean: At World's End</th>\n",
       "      <td>40000.0</td>\n",
       "      <td>5000.0</td>\n",
       "    </tr>\n",
       "    <tr>\n",
       "      <th>Spectre</th>\n",
       "      <td>11000.0</td>\n",
       "      <td>393.0</td>\n",
       "    </tr>\n",
       "    <tr>\n",
       "      <th>The Dark Knight Rises</th>\n",
       "      <td>27000.0</td>\n",
       "      <td>23000.0</td>\n",
       "    </tr>\n",
       "    <tr>\n",
       "      <th>Star Wars: Episode VII - The Force Awakens</th>\n",
       "      <td>131.0</td>\n",
       "      <td>12.0</td>\n",
       "    </tr>\n",
       "    <tr>\n",
       "      <th>...</th>\n",
       "      <td>...</td>\n",
       "      <td>...</td>\n",
       "    </tr>\n",
       "    <tr>\n",
       "      <th>Signed Sealed Delivered</th>\n",
       "      <td>637.0</td>\n",
       "      <td>470.0</td>\n",
       "    </tr>\n",
       "    <tr>\n",
       "      <th>The Following</th>\n",
       "      <td>841.0</td>\n",
       "      <td>593.0</td>\n",
       "    </tr>\n",
       "    <tr>\n",
       "      <th>A Plague So Pleasant</th>\n",
       "      <td>0.0</td>\n",
       "      <td>0.0</td>\n",
       "    </tr>\n",
       "    <tr>\n",
       "      <th>Shanghai Calling</th>\n",
       "      <td>946.0</td>\n",
       "      <td>719.0</td>\n",
       "    </tr>\n",
       "    <tr>\n",
       "      <th>My Date with Drew</th>\n",
       "      <td>86.0</td>\n",
       "      <td>23.0</td>\n",
       "    </tr>\n",
       "  </tbody>\n",
       "</table>\n",
       "<p>4903 rows × 2 columns</p>\n",
       "</div>"
      ],
      "text/plain": [
       "                                            actor_1_facebook_likes  \\\n",
       "movie_title                                                          \n",
       "Avatar                                                      1000.0   \n",
       "Pirates of the Caribbean: At World's End                   40000.0   \n",
       "Spectre                                                    11000.0   \n",
       "The Dark Knight Rises                                      27000.0   \n",
       "Star Wars: Episode VII - The Force Awakens                   131.0   \n",
       "...                                                            ...   \n",
       "Signed Sealed Delivered                                      637.0   \n",
       "The Following                                                841.0   \n",
       "A Plague So Pleasant                                           0.0   \n",
       "Shanghai Calling                                             946.0   \n",
       "My Date with Drew                                             86.0   \n",
       "\n",
       "                                            actor_2_facebook_likes  \n",
       "movie_title                                                         \n",
       "Avatar                                                       936.0  \n",
       "Pirates of the Caribbean: At World's End                    5000.0  \n",
       "Spectre                                                      393.0  \n",
       "The Dark Knight Rises                                      23000.0  \n",
       "Star Wars: Episode VII - The Force Awakens                    12.0  \n",
       "...                                                            ...  \n",
       "Signed Sealed Delivered                                      470.0  \n",
       "The Following                                                593.0  \n",
       "A Plague So Pleasant                                           0.0  \n",
       "Shanghai Calling                                             719.0  \n",
       "My Date with Drew                                             23.0  \n",
       "\n",
       "[4903 rows x 2 columns]"
      ]
     },
     "execution_count": 11,
     "metadata": {},
     "output_type": "execute_result"
    }
   ],
   "source": [
    "actor_likes = movie[['actor_1_facebook_likes', 'actor_2_facebook_likes']].dropna()\n",
    "actor_likes"
   ]
  },
  {
   "cell_type": "code",
   "execution_count": 12,
   "id": "69269eb2",
   "metadata": {},
   "outputs": [],
   "source": [
    "likes_count = actor_likes['actor_1_facebook_likes'] > actor_likes['actor_2_facebook_likes']"
   ]
  },
  {
   "cell_type": "code",
   "execution_count": 13,
   "id": "6da81074",
   "metadata": {},
   "outputs": [
    {
     "data": {
      "text/plain": [
       "True     4794\n",
       "False     109\n",
       "dtype: int64"
      ]
     },
     "execution_count": 13,
     "metadata": {},
     "output_type": "execute_result"
    }
   ],
   "source": [
    "likes_count.value_counts()"
   ]
  },
  {
   "cell_type": "code",
   "execution_count": 14,
   "id": "56aa26cd",
   "metadata": {},
   "outputs": [
    {
     "data": {
      "text/plain": [
       "0.9777687130328371"
      ]
     },
     "execution_count": 14,
     "metadata": {},
     "output_type": "execute_result"
    }
   ],
   "source": [
    "likes_count.mean()  # % of movies, actor_1 has more fb likes"
   ]
  },
  {
   "cell_type": "code",
   "execution_count": 15,
   "id": "76165355",
   "metadata": {},
   "outputs": [],
   "source": [
    "criteria1 = movie.imdb_score > 8\n",
    "criteria2 = movie.content_rating == 'PG-13'\n",
    "criteria3 = ((movie.title_year < 2000) | (movie.title_year > 2009))"
   ]
  },
  {
   "cell_type": "code",
   "execution_count": 16,
   "id": "df8d95d5",
   "metadata": {},
   "outputs": [
    {
     "data": {
      "text/plain": [
       "movie_title\n",
       "Avatar                                         True\n",
       "Pirates of the Caribbean: At World's End       True\n",
       "Spectre                                        True\n",
       "The Dark Knight Rises                          True\n",
       "Star Wars: Episode VII - The Force Awakens    False\n",
       "Name: content_rating, dtype: bool"
      ]
     },
     "execution_count": 16,
     "metadata": {},
     "output_type": "execute_result"
    }
   ],
   "source": [
    "criteria2.head()"
   ]
  },
  {
   "cell_type": "code",
   "execution_count": 17,
   "id": "a407bdc2",
   "metadata": {},
   "outputs": [
    {
     "data": {
      "text/plain": [
       "False    4893\n",
       "True       23\n",
       "dtype: int64"
      ]
     },
     "execution_count": 17,
     "metadata": {},
     "output_type": "execute_result"
    }
   ],
   "source": [
    "final_critirea = criteria1 & criteria2 & criteria3\n",
    "final_critirea.value_counts() "
   ]
  },
  {
   "cell_type": "code",
   "execution_count": 18,
   "id": "e11c7e02",
   "metadata": {},
   "outputs": [],
   "source": [
    "crit_a1 = movie.imdb_score > 8\n",
    "crit_a2 = movie.content_rating == 'PG-13'\n",
    "crit_a3 = (movie.title_year < 2000) | (movie.title_year > 2009)\n",
    "final_crit_a = crit_a1 & crit_a2 & crit_a3"
   ]
  },
  {
   "cell_type": "code",
   "execution_count": 19,
   "id": "825578ee",
   "metadata": {},
   "outputs": [],
   "source": [
    "crit_b1 = movie.imdb_score < 5\n",
    "crit_b2 = movie.content_rating == 'R'\n",
    "crit_b3 = (movie.title_year >= 2000) | (movie.title_year <= 2010)\n",
    "final_crit_b = crit_b1 & crit_b2 & crit_b3"
   ]
  },
  {
   "cell_type": "code",
   "execution_count": 20,
   "id": "deee28f1",
   "metadata": {},
   "outputs": [],
   "source": [
    "final_crit_all = final_crit_a | final_crit_b"
   ]
  },
  {
   "cell_type": "code",
   "execution_count": 21,
   "id": "069a66b7",
   "metadata": {},
   "outputs": [
    {
     "data": {
      "text/plain": [
       "False    4748\n",
       "True      168\n",
       "dtype: int64"
      ]
     },
     "execution_count": 21,
     "metadata": {},
     "output_type": "execute_result"
    }
   ],
   "source": [
    "final_crit_all.value_counts()"
   ]
  },
  {
   "cell_type": "code",
   "execution_count": 22,
   "id": "060a761a",
   "metadata": {
    "scrolled": true
   },
   "outputs": [
    {
     "data": {
      "text/plain": [
       "movie_title\n",
       "Avatar                                        False\n",
       "Pirates of the Caribbean: At World's End      False\n",
       "Spectre                                       False\n",
       "The Dark Knight Rises                          True\n",
       "Star Wars: Episode VII - The Force Awakens    False\n",
       "John Carter                                   False\n",
       "Spider-Man 3                                  False\n",
       "Tangled                                       False\n",
       "Avengers: Age of Ultron                       False\n",
       "Harry Potter and the Half-Blood Prince        False\n",
       "dtype: bool"
      ]
     },
     "execution_count": 22,
     "metadata": {},
     "output_type": "execute_result"
    }
   ],
   "source": [
    "final_crit_all.head(10)"
   ]
  },
  {
   "cell_type": "markdown",
   "id": "06d0f8c1",
   "metadata": {},
   "source": [
    "### using a boolean series as index to data frame, \n",
    "### it filters the values of the values only where the series value is true"
   ]
  },
  {
   "cell_type": "code",
   "execution_count": 23,
   "id": "4e582349",
   "metadata": {},
   "outputs": [
    {
     "data": {
      "text/html": [
       "<div>\n",
       "<style scoped>\n",
       "    .dataframe tbody tr th:only-of-type {\n",
       "        vertical-align: middle;\n",
       "    }\n",
       "\n",
       "    .dataframe tbody tr th {\n",
       "        vertical-align: top;\n",
       "    }\n",
       "\n",
       "    .dataframe thead th {\n",
       "        text-align: right;\n",
       "    }\n",
       "</style>\n",
       "<table border=\"1\" class=\"dataframe\">\n",
       "  <thead>\n",
       "    <tr style=\"text-align: right;\">\n",
       "      <th></th>\n",
       "      <th>color</th>\n",
       "      <th>director_name</th>\n",
       "      <th>num_critic_for_reviews</th>\n",
       "      <th>duration</th>\n",
       "      <th>...</th>\n",
       "      <th>actor_2_facebook_likes</th>\n",
       "      <th>imdb_score</th>\n",
       "      <th>aspect_ratio</th>\n",
       "      <th>movie_facebook_likes</th>\n",
       "    </tr>\n",
       "    <tr>\n",
       "      <th>movie_title</th>\n",
       "      <th></th>\n",
       "      <th></th>\n",
       "      <th></th>\n",
       "      <th></th>\n",
       "      <th></th>\n",
       "      <th></th>\n",
       "      <th></th>\n",
       "      <th></th>\n",
       "      <th></th>\n",
       "    </tr>\n",
       "  </thead>\n",
       "  <tbody>\n",
       "    <tr>\n",
       "      <th>The Dark Knight Rises</th>\n",
       "      <td>Color</td>\n",
       "      <td>Christopher Nolan</td>\n",
       "      <td>813.0</td>\n",
       "      <td>164.0</td>\n",
       "      <td>...</td>\n",
       "      <td>23000.0</td>\n",
       "      <td>8.5</td>\n",
       "      <td>2.35</td>\n",
       "      <td>164000</td>\n",
       "    </tr>\n",
       "    <tr>\n",
       "      <th>The Avengers</th>\n",
       "      <td>Color</td>\n",
       "      <td>Joss Whedon</td>\n",
       "      <td>703.0</td>\n",
       "      <td>173.0</td>\n",
       "      <td>...</td>\n",
       "      <td>21000.0</td>\n",
       "      <td>8.1</td>\n",
       "      <td>1.85</td>\n",
       "      <td>123000</td>\n",
       "    </tr>\n",
       "    <tr>\n",
       "      <th>Captain America: Civil War</th>\n",
       "      <td>Color</td>\n",
       "      <td>Anthony Russo</td>\n",
       "      <td>516.0</td>\n",
       "      <td>147.0</td>\n",
       "      <td>...</td>\n",
       "      <td>19000.0</td>\n",
       "      <td>8.2</td>\n",
       "      <td>2.35</td>\n",
       "      <td>72000</td>\n",
       "    </tr>\n",
       "    <tr>\n",
       "      <th>The Lovers</th>\n",
       "      <td>Color</td>\n",
       "      <td>Roland Joffé</td>\n",
       "      <td>10.0</td>\n",
       "      <td>109.0</td>\n",
       "      <td>...</td>\n",
       "      <td>525.0</td>\n",
       "      <td>4.5</td>\n",
       "      <td>NaN</td>\n",
       "      <td>677</td>\n",
       "    </tr>\n",
       "    <tr>\n",
       "      <th>Guardians of the Galaxy</th>\n",
       "      <td>Color</td>\n",
       "      <td>James Gunn</td>\n",
       "      <td>653.0</td>\n",
       "      <td>121.0</td>\n",
       "      <td>...</td>\n",
       "      <td>14000.0</td>\n",
       "      <td>8.1</td>\n",
       "      <td>2.35</td>\n",
       "      <td>96000</td>\n",
       "    </tr>\n",
       "  </tbody>\n",
       "</table>\n",
       "<p>5 rows × 27 columns</p>\n",
       "</div>"
      ],
      "text/plain": [
       "                            color      director_name  num_critic_for_reviews  \\\n",
       "movie_title                                                                    \n",
       "The Dark Knight Rises       Color  Christopher Nolan                   813.0   \n",
       "The Avengers                Color        Joss Whedon                   703.0   \n",
       "Captain America: Civil War  Color      Anthony Russo                   516.0   \n",
       "The Lovers                  Color       Roland Joffé                    10.0   \n",
       "Guardians of the Galaxy     Color         James Gunn                   653.0   \n",
       "\n",
       "                            duration  ...  actor_2_facebook_likes  imdb_score  \\\n",
       "movie_title                           ...                                       \n",
       "The Dark Knight Rises          164.0  ...                 23000.0         8.5   \n",
       "The Avengers                   173.0  ...                 21000.0         8.1   \n",
       "Captain America: Civil War     147.0  ...                 19000.0         8.2   \n",
       "The Lovers                     109.0  ...                   525.0         4.5   \n",
       "Guardians of the Galaxy        121.0  ...                 14000.0         8.1   \n",
       "\n",
       "                           aspect_ratio  movie_facebook_likes  \n",
       "movie_title                                                    \n",
       "The Dark Knight Rises              2.35                164000  \n",
       "The Avengers                       1.85                123000  \n",
       "Captain America: Civil War         2.35                 72000  \n",
       "The Lovers                          NaN                   677  \n",
       "Guardians of the Galaxy            2.35                 96000  \n",
       "\n",
       "[5 rows x 27 columns]"
      ]
     },
     "execution_count": 23,
     "metadata": {},
     "output_type": "execute_result"
    }
   ],
   "source": [
    "movie[final_crit_all].head(5)"
   ]
  },
  {
   "cell_type": "code",
   "execution_count": 24,
   "id": "7b80fb9b",
   "metadata": {},
   "outputs": [
    {
     "data": {
      "text/html": [
       "<div>\n",
       "<style scoped>\n",
       "    .dataframe tbody tr th:only-of-type {\n",
       "        vertical-align: middle;\n",
       "    }\n",
       "\n",
       "    .dataframe tbody tr th {\n",
       "        vertical-align: top;\n",
       "    }\n",
       "\n",
       "    .dataframe thead th {\n",
       "        text-align: right;\n",
       "    }\n",
       "</style>\n",
       "<table border=\"1\" class=\"dataframe\">\n",
       "  <thead>\n",
       "    <tr style=\"text-align: right;\">\n",
       "      <th></th>\n",
       "      <th>imdb_score</th>\n",
       "      <th>content_rating</th>\n",
       "      <th>title_year</th>\n",
       "    </tr>\n",
       "    <tr>\n",
       "      <th>movie_title</th>\n",
       "      <th></th>\n",
       "      <th></th>\n",
       "      <th></th>\n",
       "    </tr>\n",
       "  </thead>\n",
       "  <tbody>\n",
       "    <tr>\n",
       "      <th>The Dark Knight Rises</th>\n",
       "      <td>8.5</td>\n",
       "      <td>PG-13</td>\n",
       "      <td>2012.0</td>\n",
       "    </tr>\n",
       "    <tr>\n",
       "      <th>The Avengers</th>\n",
       "      <td>8.1</td>\n",
       "      <td>PG-13</td>\n",
       "      <td>2012.0</td>\n",
       "    </tr>\n",
       "    <tr>\n",
       "      <th>Captain America: Civil War</th>\n",
       "      <td>8.2</td>\n",
       "      <td>PG-13</td>\n",
       "      <td>2016.0</td>\n",
       "    </tr>\n",
       "    <tr>\n",
       "      <th>The Lovers</th>\n",
       "      <td>4.5</td>\n",
       "      <td>R</td>\n",
       "      <td>2015.0</td>\n",
       "    </tr>\n",
       "    <tr>\n",
       "      <th>Guardians of the Galaxy</th>\n",
       "      <td>8.1</td>\n",
       "      <td>PG-13</td>\n",
       "      <td>2014.0</td>\n",
       "    </tr>\n",
       "    <tr>\n",
       "      <th>Interstellar</th>\n",
       "      <td>8.6</td>\n",
       "      <td>PG-13</td>\n",
       "      <td>2014.0</td>\n",
       "    </tr>\n",
       "    <tr>\n",
       "      <th>Inception</th>\n",
       "      <td>8.8</td>\n",
       "      <td>PG-13</td>\n",
       "      <td>2010.0</td>\n",
       "    </tr>\n",
       "    <tr>\n",
       "      <th>The Martian</th>\n",
       "      <td>8.1</td>\n",
       "      <td>PG-13</td>\n",
       "      <td>2015.0</td>\n",
       "    </tr>\n",
       "    <tr>\n",
       "      <th>Town &amp; Country</th>\n",
       "      <td>4.4</td>\n",
       "      <td>R</td>\n",
       "      <td>2001.0</td>\n",
       "    </tr>\n",
       "    <tr>\n",
       "      <th>Sex and the City 2</th>\n",
       "      <td>4.3</td>\n",
       "      <td>R</td>\n",
       "      <td>2010.0</td>\n",
       "    </tr>\n",
       "  </tbody>\n",
       "</table>\n",
       "</div>"
      ],
      "text/plain": [
       "                            imdb_score content_rating  title_year\n",
       "movie_title                                                      \n",
       "The Dark Knight Rises              8.5          PG-13      2012.0\n",
       "The Avengers                       8.1          PG-13      2012.0\n",
       "Captain America: Civil War         8.2          PG-13      2016.0\n",
       "The Lovers                         4.5              R      2015.0\n",
       "Guardians of the Galaxy            8.1          PG-13      2014.0\n",
       "Interstellar                       8.6          PG-13      2014.0\n",
       "Inception                          8.8          PG-13      2010.0\n",
       "The Martian                        8.1          PG-13      2015.0\n",
       "Town & Country                     4.4              R      2001.0\n",
       "Sex and the City 2                 4.3              R      2010.0"
      ]
     },
     "execution_count": 24,
     "metadata": {},
     "output_type": "execute_result"
    }
   ],
   "source": [
    "cols = ['imdb_score', 'content_rating', 'title_year']\n",
    "movie_filtered = movie.loc[final_crit_all, cols]\n",
    "movie_filtered.head(10)"
   ]
  },
  {
   "cell_type": "code",
   "execution_count": 25,
   "id": "46e78a64",
   "metadata": {},
   "outputs": [],
   "source": [
    "college = pd.read_csv('data/college.csv')"
   ]
  },
  {
   "cell_type": "code",
   "execution_count": 26,
   "id": "79746663",
   "metadata": {},
   "outputs": [
    {
     "data": {
      "text/html": [
       "<div>\n",
       "<style scoped>\n",
       "    .dataframe tbody tr th:only-of-type {\n",
       "        vertical-align: middle;\n",
       "    }\n",
       "\n",
       "    .dataframe tbody tr th {\n",
       "        vertical-align: top;\n",
       "    }\n",
       "\n",
       "    .dataframe thead th {\n",
       "        text-align: right;\n",
       "    }\n",
       "</style>\n",
       "<table border=\"1\" class=\"dataframe\">\n",
       "  <thead>\n",
       "    <tr style=\"text-align: right;\">\n",
       "      <th></th>\n",
       "      <th>INSTNM</th>\n",
       "      <th>CITY</th>\n",
       "      <th>STABBR</th>\n",
       "      <th>HBCU</th>\n",
       "      <th>...</th>\n",
       "      <th>PCTFLOAN</th>\n",
       "      <th>UG25ABV</th>\n",
       "      <th>MD_EARN_WNE_P10</th>\n",
       "      <th>GRAD_DEBT_MDN_SUPP</th>\n",
       "    </tr>\n",
       "  </thead>\n",
       "  <tbody>\n",
       "    <tr>\n",
       "      <th>3610</th>\n",
       "      <td>Abilene Christian University</td>\n",
       "      <td>Abilene</td>\n",
       "      <td>TX</td>\n",
       "      <td>0.0</td>\n",
       "      <td>...</td>\n",
       "      <td>0.5527</td>\n",
       "      <td>0.0381</td>\n",
       "      <td>40200</td>\n",
       "      <td>25985</td>\n",
       "    </tr>\n",
       "    <tr>\n",
       "      <th>3611</th>\n",
       "      <td>Alvin Community College</td>\n",
       "      <td>Alvin</td>\n",
       "      <td>TX</td>\n",
       "      <td>0.0</td>\n",
       "      <td>...</td>\n",
       "      <td>0.0625</td>\n",
       "      <td>0.2841</td>\n",
       "      <td>34500</td>\n",
       "      <td>6750</td>\n",
       "    </tr>\n",
       "    <tr>\n",
       "      <th>3612</th>\n",
       "      <td>Amarillo College</td>\n",
       "      <td>Amarillo</td>\n",
       "      <td>TX</td>\n",
       "      <td>0.0</td>\n",
       "      <td>...</td>\n",
       "      <td>0.1573</td>\n",
       "      <td>0.3431</td>\n",
       "      <td>31700</td>\n",
       "      <td>10950</td>\n",
       "    </tr>\n",
       "    <tr>\n",
       "      <th>3613</th>\n",
       "      <td>Angelina College</td>\n",
       "      <td>Lufkin</td>\n",
       "      <td>TX</td>\n",
       "      <td>0.0</td>\n",
       "      <td>...</td>\n",
       "      <td>0.0000</td>\n",
       "      <td>0.2603</td>\n",
       "      <td>26900</td>\n",
       "      <td>PrivacySuppressed</td>\n",
       "    </tr>\n",
       "    <tr>\n",
       "      <th>3614</th>\n",
       "      <td>Angelo State University</td>\n",
       "      <td>San Angelo</td>\n",
       "      <td>TX</td>\n",
       "      <td>0.0</td>\n",
       "      <td>...</td>\n",
       "      <td>0.5279</td>\n",
       "      <td>0.1407</td>\n",
       "      <td>37700</td>\n",
       "      <td>21319.5</td>\n",
       "    </tr>\n",
       "  </tbody>\n",
       "</table>\n",
       "<p>5 rows × 27 columns</p>\n",
       "</div>"
      ],
      "text/plain": [
       "                            INSTNM        CITY STABBR  HBCU  ...  PCTFLOAN  \\\n",
       "3610  Abilene Christian University     Abilene     TX   0.0  ...    0.5527   \n",
       "3611       Alvin Community College       Alvin     TX   0.0  ...    0.0625   \n",
       "3612              Amarillo College    Amarillo     TX   0.0  ...    0.1573   \n",
       "3613              Angelina College      Lufkin     TX   0.0  ...    0.0000   \n",
       "3614       Angelo State University  San Angelo     TX   0.0  ...    0.5279   \n",
       "\n",
       "      UG25ABV  MD_EARN_WNE_P10  GRAD_DEBT_MDN_SUPP  \n",
       "3610   0.0381            40200               25985  \n",
       "3611   0.2841            34500                6750  \n",
       "3612   0.3431            31700               10950  \n",
       "3613   0.2603            26900   PrivacySuppressed  \n",
       "3614   0.1407            37700             21319.5  \n",
       "\n",
       "[5 rows x 27 columns]"
      ]
     },
     "execution_count": 26,
     "metadata": {},
     "output_type": "execute_result"
    }
   ],
   "source": [
    "college[college['STABBR'] == 'TX'].head()"
   ]
  },
  {
   "cell_type": "code",
   "execution_count": 27,
   "id": "f5fccc81",
   "metadata": {},
   "outputs": [
    {
     "data": {
      "text/html": [
       "<div>\n",
       "<style scoped>\n",
       "    .dataframe tbody tr th:only-of-type {\n",
       "        vertical-align: middle;\n",
       "    }\n",
       "\n",
       "    .dataframe tbody tr th {\n",
       "        vertical-align: top;\n",
       "    }\n",
       "\n",
       "    .dataframe thead th {\n",
       "        text-align: right;\n",
       "    }\n",
       "</style>\n",
       "<table border=\"1\" class=\"dataframe\">\n",
       "  <thead>\n",
       "    <tr style=\"text-align: right;\">\n",
       "      <th></th>\n",
       "      <th>INSTNM</th>\n",
       "      <th>CITY</th>\n",
       "      <th>HBCU</th>\n",
       "      <th>MENONLY</th>\n",
       "      <th>...</th>\n",
       "      <th>PCTFLOAN</th>\n",
       "      <th>UG25ABV</th>\n",
       "      <th>MD_EARN_WNE_P10</th>\n",
       "      <th>GRAD_DEBT_MDN_SUPP</th>\n",
       "    </tr>\n",
       "    <tr>\n",
       "      <th>STABBR</th>\n",
       "      <th></th>\n",
       "      <th></th>\n",
       "      <th></th>\n",
       "      <th></th>\n",
       "      <th></th>\n",
       "      <th></th>\n",
       "      <th></th>\n",
       "      <th></th>\n",
       "      <th></th>\n",
       "    </tr>\n",
       "  </thead>\n",
       "  <tbody>\n",
       "    <tr>\n",
       "      <th>TX</th>\n",
       "      <td>Abilene Christian University</td>\n",
       "      <td>Abilene</td>\n",
       "      <td>0.0</td>\n",
       "      <td>0.0</td>\n",
       "      <td>...</td>\n",
       "      <td>0.5527</td>\n",
       "      <td>0.0381</td>\n",
       "      <td>40200</td>\n",
       "      <td>25985</td>\n",
       "    </tr>\n",
       "    <tr>\n",
       "      <th>TX</th>\n",
       "      <td>Alvin Community College</td>\n",
       "      <td>Alvin</td>\n",
       "      <td>0.0</td>\n",
       "      <td>0.0</td>\n",
       "      <td>...</td>\n",
       "      <td>0.0625</td>\n",
       "      <td>0.2841</td>\n",
       "      <td>34500</td>\n",
       "      <td>6750</td>\n",
       "    </tr>\n",
       "    <tr>\n",
       "      <th>TX</th>\n",
       "      <td>Amarillo College</td>\n",
       "      <td>Amarillo</td>\n",
       "      <td>0.0</td>\n",
       "      <td>0.0</td>\n",
       "      <td>...</td>\n",
       "      <td>0.1573</td>\n",
       "      <td>0.3431</td>\n",
       "      <td>31700</td>\n",
       "      <td>10950</td>\n",
       "    </tr>\n",
       "    <tr>\n",
       "      <th>TX</th>\n",
       "      <td>Angelina College</td>\n",
       "      <td>Lufkin</td>\n",
       "      <td>0.0</td>\n",
       "      <td>0.0</td>\n",
       "      <td>...</td>\n",
       "      <td>0.0000</td>\n",
       "      <td>0.2603</td>\n",
       "      <td>26900</td>\n",
       "      <td>PrivacySuppressed</td>\n",
       "    </tr>\n",
       "    <tr>\n",
       "      <th>TX</th>\n",
       "      <td>Angelo State University</td>\n",
       "      <td>San Angelo</td>\n",
       "      <td>0.0</td>\n",
       "      <td>0.0</td>\n",
       "      <td>...</td>\n",
       "      <td>0.5279</td>\n",
       "      <td>0.1407</td>\n",
       "      <td>37700</td>\n",
       "      <td>21319.5</td>\n",
       "    </tr>\n",
       "  </tbody>\n",
       "</table>\n",
       "<p>5 rows × 26 columns</p>\n",
       "</div>"
      ],
      "text/plain": [
       "                              INSTNM        CITY  HBCU  MENONLY  ...  \\\n",
       "STABBR                                                           ...   \n",
       "TX      Abilene Christian University     Abilene   0.0      0.0  ...   \n",
       "TX           Alvin Community College       Alvin   0.0      0.0  ...   \n",
       "TX                  Amarillo College    Amarillo   0.0      0.0  ...   \n",
       "TX                  Angelina College      Lufkin   0.0      0.0  ...   \n",
       "TX           Angelo State University  San Angelo   0.0      0.0  ...   \n",
       "\n",
       "        PCTFLOAN  UG25ABV  MD_EARN_WNE_P10  GRAD_DEBT_MDN_SUPP  \n",
       "STABBR                                                          \n",
       "TX        0.5527   0.0381            40200               25985  \n",
       "TX        0.0625   0.2841            34500                6750  \n",
       "TX        0.1573   0.3431            31700               10950  \n",
       "TX        0.0000   0.2603            26900   PrivacySuppressed  \n",
       "TX        0.5279   0.1407            37700             21319.5  \n",
       "\n",
       "[5 rows x 26 columns]"
      ]
     },
     "execution_count": 27,
     "metadata": {},
     "output_type": "execute_result"
    }
   ],
   "source": [
    "college2 = college.set_index('STABBR')\n",
    "college2.loc['TX'].head()"
   ]
  },
  {
   "cell_type": "markdown",
   "id": "b7f7643b",
   "metadata": {},
   "source": [
    "#### Boolean indexing takes more time"
   ]
  },
  {
   "cell_type": "code",
   "execution_count": 28,
   "id": "ff02653d",
   "metadata": {},
   "outputs": [
    {
     "name": "stdout",
     "output_type": "stream",
     "text": [
      "551 µs ± 2.47 µs per loop (mean ± std. dev. of 7 runs, 1000 loops each)\n"
     ]
    }
   ],
   "source": [
    "%timeit college[college['STABBR'] == 'TX']"
   ]
  },
  {
   "cell_type": "code",
   "execution_count": 29,
   "id": "6bb49205",
   "metadata": {},
   "outputs": [
    {
     "name": "stdout",
     "output_type": "stream",
     "text": [
      "231 µs ± 1.59 µs per loop (mean ± std. dev. of 7 runs, 1000 loops each)\n"
     ]
    }
   ],
   "source": [
    "%timeit college2.loc['TX']"
   ]
  },
  {
   "cell_type": "markdown",
   "id": "15077c94",
   "metadata": {},
   "source": [
    "#### setting index takes time, but it needs to be done only once."
   ]
  },
  {
   "cell_type": "code",
   "execution_count": 30,
   "id": "f7791f5e",
   "metadata": {},
   "outputs": [
    {
     "name": "stdout",
     "output_type": "stream",
     "text": [
      "507 µs ± 1.58 µs per loop (mean ± std. dev. of 7 runs, 1000 loops each)\n"
     ]
    }
   ],
   "source": [
    "%timeit college2 = college.set_index('STABBR') "
   ]
  },
  {
   "cell_type": "code",
   "execution_count": 31,
   "id": "4d9c8964",
   "metadata": {},
   "outputs": [
    {
     "data": {
      "text/html": [
       "<div>\n",
       "<style scoped>\n",
       "    .dataframe tbody tr th:only-of-type {\n",
       "        vertical-align: middle;\n",
       "    }\n",
       "\n",
       "    .dataframe tbody tr th {\n",
       "        vertical-align: top;\n",
       "    }\n",
       "\n",
       "    .dataframe thead th {\n",
       "        text-align: right;\n",
       "    }\n",
       "</style>\n",
       "<table border=\"1\" class=\"dataframe\">\n",
       "  <thead>\n",
       "    <tr style=\"text-align: right;\">\n",
       "      <th></th>\n",
       "      <th>INSTNM</th>\n",
       "      <th>CITY</th>\n",
       "      <th>STABBR</th>\n",
       "      <th>HBCU</th>\n",
       "      <th>...</th>\n",
       "      <th>PCTFLOAN</th>\n",
       "      <th>UG25ABV</th>\n",
       "      <th>MD_EARN_WNE_P10</th>\n",
       "      <th>GRAD_DEBT_MDN_SUPP</th>\n",
       "    </tr>\n",
       "  </thead>\n",
       "  <tbody>\n",
       "    <tr>\n",
       "      <th>0</th>\n",
       "      <td>Alabama A &amp; M University</td>\n",
       "      <td>Normal</td>\n",
       "      <td>AL</td>\n",
       "      <td>1.0</td>\n",
       "      <td>...</td>\n",
       "      <td>0.8284</td>\n",
       "      <td>0.1049</td>\n",
       "      <td>30300</td>\n",
       "      <td>33888</td>\n",
       "    </tr>\n",
       "    <tr>\n",
       "      <th>1</th>\n",
       "      <td>University of Alabama at Birmingham</td>\n",
       "      <td>Birmingham</td>\n",
       "      <td>AL</td>\n",
       "      <td>0.0</td>\n",
       "      <td>...</td>\n",
       "      <td>0.5214</td>\n",
       "      <td>0.2422</td>\n",
       "      <td>39700</td>\n",
       "      <td>21941.5</td>\n",
       "    </tr>\n",
       "  </tbody>\n",
       "</table>\n",
       "<p>2 rows × 27 columns</p>\n",
       "</div>"
      ],
      "text/plain": [
       "                                INSTNM        CITY STABBR  HBCU  ...  \\\n",
       "0             Alabama A & M University      Normal     AL   1.0  ...   \n",
       "1  University of Alabama at Birmingham  Birmingham     AL   0.0  ...   \n",
       "\n",
       "   PCTFLOAN  UG25ABV  MD_EARN_WNE_P10  GRAD_DEBT_MDN_SUPP  \n",
       "0    0.8284   0.1049            30300               33888  \n",
       "1    0.5214   0.2422            39700             21941.5  \n",
       "\n",
       "[2 rows x 27 columns]"
      ]
     },
     "execution_count": 31,
     "metadata": {},
     "output_type": "execute_result"
    }
   ],
   "source": [
    "college.head(2) # without index"
   ]
  },
  {
   "cell_type": "code",
   "execution_count": 32,
   "id": "379eea85",
   "metadata": {},
   "outputs": [
    {
     "data": {
      "text/html": [
       "<div>\n",
       "<style scoped>\n",
       "    .dataframe tbody tr th:only-of-type {\n",
       "        vertical-align: middle;\n",
       "    }\n",
       "\n",
       "    .dataframe tbody tr th {\n",
       "        vertical-align: top;\n",
       "    }\n",
       "\n",
       "    .dataframe thead th {\n",
       "        text-align: right;\n",
       "    }\n",
       "</style>\n",
       "<table border=\"1\" class=\"dataframe\">\n",
       "  <thead>\n",
       "    <tr style=\"text-align: right;\">\n",
       "      <th></th>\n",
       "      <th>INSTNM</th>\n",
       "      <th>CITY</th>\n",
       "      <th>HBCU</th>\n",
       "      <th>MENONLY</th>\n",
       "      <th>...</th>\n",
       "      <th>PCTFLOAN</th>\n",
       "      <th>UG25ABV</th>\n",
       "      <th>MD_EARN_WNE_P10</th>\n",
       "      <th>GRAD_DEBT_MDN_SUPP</th>\n",
       "    </tr>\n",
       "    <tr>\n",
       "      <th>STABBR</th>\n",
       "      <th></th>\n",
       "      <th></th>\n",
       "      <th></th>\n",
       "      <th></th>\n",
       "      <th></th>\n",
       "      <th></th>\n",
       "      <th></th>\n",
       "      <th></th>\n",
       "      <th></th>\n",
       "    </tr>\n",
       "  </thead>\n",
       "  <tbody>\n",
       "    <tr>\n",
       "      <th>AL</th>\n",
       "      <td>Alabama A &amp; M University</td>\n",
       "      <td>Normal</td>\n",
       "      <td>1.0</td>\n",
       "      <td>0.0</td>\n",
       "      <td>...</td>\n",
       "      <td>0.8284</td>\n",
       "      <td>0.1049</td>\n",
       "      <td>30300</td>\n",
       "      <td>33888</td>\n",
       "    </tr>\n",
       "    <tr>\n",
       "      <th>AL</th>\n",
       "      <td>University of Alabama at Birmingham</td>\n",
       "      <td>Birmingham</td>\n",
       "      <td>0.0</td>\n",
       "      <td>0.0</td>\n",
       "      <td>...</td>\n",
       "      <td>0.5214</td>\n",
       "      <td>0.2422</td>\n",
       "      <td>39700</td>\n",
       "      <td>21941.5</td>\n",
       "    </tr>\n",
       "  </tbody>\n",
       "</table>\n",
       "<p>2 rows × 26 columns</p>\n",
       "</div>"
      ],
      "text/plain": [
       "                                     INSTNM        CITY  HBCU  MENONLY  ...  \\\n",
       "STABBR                                                                  ...   \n",
       "AL                 Alabama A & M University      Normal   1.0      0.0  ...   \n",
       "AL      University of Alabama at Birmingham  Birmingham   0.0      0.0  ...   \n",
       "\n",
       "        PCTFLOAN  UG25ABV  MD_EARN_WNE_P10  GRAD_DEBT_MDN_SUPP  \n",
       "STABBR                                                          \n",
       "AL        0.8284   0.1049            30300               33888  \n",
       "AL        0.5214   0.2422            39700             21941.5  \n",
       "\n",
       "[2 rows x 26 columns]"
      ]
     },
     "execution_count": 32,
     "metadata": {},
     "output_type": "execute_result"
    }
   ],
   "source": [
    "college2.head(2)  # with index"
   ]
  },
  {
   "cell_type": "code",
   "execution_count": 33,
   "id": "f7624b38",
   "metadata": {},
   "outputs": [
    {
     "data": {
      "text/plain": [
       "True"
      ]
     },
     "execution_count": 33,
     "metadata": {},
     "output_type": "execute_result"
    }
   ],
   "source": [
    "college3 = college2.sort_index()\n",
    "college3.index.is_monotonic"
   ]
  },
  {
   "cell_type": "code",
   "execution_count": 34,
   "id": "a0e8a172",
   "metadata": {},
   "outputs": [
    {
     "name": "stdout",
     "output_type": "stream",
     "text": [
      "551 µs ± 2.93 µs per loop (mean ± std. dev. of 7 runs, 1000 loops each)\n"
     ]
    }
   ],
   "source": [
    "%timeit college[college['STABBR'] == 'TX']"
   ]
  },
  {
   "cell_type": "code",
   "execution_count": 35,
   "id": "68c489ab",
   "metadata": {},
   "outputs": [
    {
     "name": "stdout",
     "output_type": "stream",
     "text": [
      "230 µs ± 2.19 µs per loop (mean ± std. dev. of 7 runs, 1000 loops each)\n"
     ]
    }
   ],
   "source": [
    "%timeit college2.loc['TX']"
   ]
  },
  {
   "cell_type": "code",
   "execution_count": 36,
   "id": "ce14f1ec",
   "metadata": {},
   "outputs": [
    {
     "name": "stdout",
     "output_type": "stream",
     "text": [
      "33.9 µs ± 55.8 ns per loop (mean ± std. dev. of 7 runs, 10000 loops each)\n"
     ]
    }
   ],
   "source": [
    "%timeit college3.loc['TX']    # index sorted will be fast in searching"
   ]
  },
  {
   "cell_type": "code",
   "execution_count": 37,
   "id": "f3d0f098",
   "metadata": {},
   "outputs": [
    {
     "data": {
      "text/plain": [
       "False"
      ]
     },
     "execution_count": 37,
     "metadata": {},
     "output_type": "execute_result"
    }
   ],
   "source": [
    "college3.index.is_unique"
   ]
  },
  {
   "cell_type": "code",
   "execution_count": 38,
   "id": "e665208d",
   "metadata": {},
   "outputs": [
    {
     "data": {
      "text/plain": [
       "True"
      ]
     },
     "execution_count": 38,
     "metadata": {},
     "output_type": "execute_result"
    }
   ],
   "source": [
    "college_unique = college.set_index('INSTNM')\n",
    "college_unique.index.is_unique"
   ]
  },
  {
   "cell_type": "code",
   "execution_count": 39,
   "id": "ea8d4613",
   "metadata": {},
   "outputs": [
    {
     "data": {
      "text/html": [
       "<div>\n",
       "<style scoped>\n",
       "    .dataframe tbody tr th:only-of-type {\n",
       "        vertical-align: middle;\n",
       "    }\n",
       "\n",
       "    .dataframe tbody tr th {\n",
       "        vertical-align: top;\n",
       "    }\n",
       "\n",
       "    .dataframe thead th {\n",
       "        text-align: right;\n",
       "    }\n",
       "</style>\n",
       "<table border=\"1\" class=\"dataframe\">\n",
       "  <thead>\n",
       "    <tr style=\"text-align: right;\">\n",
       "      <th></th>\n",
       "      <th>INSTNM</th>\n",
       "      <th>CITY</th>\n",
       "      <th>STABBR</th>\n",
       "      <th>HBCU</th>\n",
       "      <th>...</th>\n",
       "      <th>PCTFLOAN</th>\n",
       "      <th>UG25ABV</th>\n",
       "      <th>MD_EARN_WNE_P10</th>\n",
       "      <th>GRAD_DEBT_MDN_SUPP</th>\n",
       "    </tr>\n",
       "  </thead>\n",
       "  <tbody>\n",
       "    <tr>\n",
       "      <th>4217</th>\n",
       "      <td>Stanford University</td>\n",
       "      <td>Stanford</td>\n",
       "      <td>CA</td>\n",
       "      <td>0.0</td>\n",
       "      <td>...</td>\n",
       "      <td>0.1256</td>\n",
       "      <td>0.0401</td>\n",
       "      <td>86000</td>\n",
       "      <td>12782</td>\n",
       "    </tr>\n",
       "  </tbody>\n",
       "</table>\n",
       "<p>1 rows × 27 columns</p>\n",
       "</div>"
      ],
      "text/plain": [
       "                   INSTNM      CITY STABBR  HBCU  ...  PCTFLOAN  UG25ABV  \\\n",
       "4217  Stanford University  Stanford     CA   0.0  ...    0.1256   0.0401   \n",
       "\n",
       "      MD_EARN_WNE_P10  GRAD_DEBT_MDN_SUPP  \n",
       "4217            86000               12782  \n",
       "\n",
       "[1 rows x 27 columns]"
      ]
     },
     "execution_count": 39,
     "metadata": {},
     "output_type": "execute_result"
    }
   ],
   "source": [
    "college[college['INSTNM'] == 'Stanford University']"
   ]
  },
  {
   "cell_type": "code",
   "execution_count": 40,
   "id": "3959a792",
   "metadata": {},
   "outputs": [
    {
     "data": {
      "text/plain": [
       "CITY                  Stanford\n",
       "STABBR                      CA\n",
       "HBCU                       0.0\n",
       "MENONLY                    0.0\n",
       "WOMENONLY                  0.0\n",
       "                        ...   \n",
       "PCTPELL                 0.1556\n",
       "PCTFLOAN                0.1256\n",
       "UG25ABV                 0.0401\n",
       "MD_EARN_WNE_P10          86000\n",
       "GRAD_DEBT_MDN_SUPP       12782\n",
       "Name: Stanford University, Length: 26, dtype: object"
      ]
     },
     "execution_count": 40,
     "metadata": {},
     "output_type": "execute_result"
    }
   ],
   "source": [
    "college_unique.loc['Stanford University']"
   ]
  },
  {
   "cell_type": "code",
   "execution_count": 41,
   "id": "024c06a1",
   "metadata": {},
   "outputs": [
    {
     "name": "stdout",
     "output_type": "stream",
     "text": [
      "498 µs ± 2.08 µs per loop (mean ± std. dev. of 7 runs, 1000 loops each)\n"
     ]
    }
   ],
   "source": [
    "%timeit college[college['INSTNM'] == 'Stanford University']"
   ]
  },
  {
   "cell_type": "markdown",
   "id": "8ef0001a",
   "metadata": {},
   "source": [
    "### unique and sorted index will be more faster"
   ]
  },
  {
   "cell_type": "code",
   "execution_count": 42,
   "id": "84ae0afb",
   "metadata": {},
   "outputs": [
    {
     "name": "stdout",
     "output_type": "stream",
     "text": [
      "66.3 µs ± 225 ns per loop (mean ± std. dev. of 7 runs, 10000 loops each)\n"
     ]
    }
   ],
   "source": [
    "%timeit college_unique.loc['Stanford University']"
   ]
  },
  {
   "cell_type": "code",
   "execution_count": 43,
   "id": "edbe2976",
   "metadata": {},
   "outputs": [],
   "source": [
    "### Indexing with mor enumber of columns"
   ]
  },
  {
   "cell_type": "code",
   "execution_count": 44,
   "id": "2339bbd6",
   "metadata": {},
   "outputs": [
    {
     "data": {
      "text/html": [
       "<div>\n",
       "<style scoped>\n",
       "    .dataframe tbody tr th:only-of-type {\n",
       "        vertical-align: middle;\n",
       "    }\n",
       "\n",
       "    .dataframe tbody tr th {\n",
       "        vertical-align: top;\n",
       "    }\n",
       "\n",
       "    .dataframe thead th {\n",
       "        text-align: right;\n",
       "    }\n",
       "</style>\n",
       "<table border=\"1\" class=\"dataframe\">\n",
       "  <thead>\n",
       "    <tr style=\"text-align: right;\">\n",
       "      <th></th>\n",
       "      <th>INSTNM</th>\n",
       "      <th>CITY</th>\n",
       "      <th>STABBR</th>\n",
       "      <th>HBCU</th>\n",
       "      <th>...</th>\n",
       "      <th>PCTFLOAN</th>\n",
       "      <th>UG25ABV</th>\n",
       "      <th>MD_EARN_WNE_P10</th>\n",
       "      <th>GRAD_DEBT_MDN_SUPP</th>\n",
       "    </tr>\n",
       "  </thead>\n",
       "  <tbody>\n",
       "    <tr>\n",
       "      <th>0</th>\n",
       "      <td>Alabama A &amp; M University</td>\n",
       "      <td>Normal</td>\n",
       "      <td>AL</td>\n",
       "      <td>1.0</td>\n",
       "      <td>...</td>\n",
       "      <td>0.8284</td>\n",
       "      <td>0.1049</td>\n",
       "      <td>30300</td>\n",
       "      <td>33888</td>\n",
       "    </tr>\n",
       "    <tr>\n",
       "      <th>1</th>\n",
       "      <td>University of Alabama at Birmingham</td>\n",
       "      <td>Birmingham</td>\n",
       "      <td>AL</td>\n",
       "      <td>0.0</td>\n",
       "      <td>...</td>\n",
       "      <td>0.5214</td>\n",
       "      <td>0.2422</td>\n",
       "      <td>39700</td>\n",
       "      <td>21941.5</td>\n",
       "    </tr>\n",
       "    <tr>\n",
       "      <th>2</th>\n",
       "      <td>Amridge University</td>\n",
       "      <td>Montgomery</td>\n",
       "      <td>AL</td>\n",
       "      <td>0.0</td>\n",
       "      <td>...</td>\n",
       "      <td>0.7795</td>\n",
       "      <td>0.8540</td>\n",
       "      <td>40100</td>\n",
       "      <td>23370</td>\n",
       "    </tr>\n",
       "    <tr>\n",
       "      <th>3</th>\n",
       "      <td>University of Alabama in Huntsville</td>\n",
       "      <td>Huntsville</td>\n",
       "      <td>AL</td>\n",
       "      <td>0.0</td>\n",
       "      <td>...</td>\n",
       "      <td>0.4596</td>\n",
       "      <td>0.2640</td>\n",
       "      <td>45500</td>\n",
       "      <td>24097</td>\n",
       "    </tr>\n",
       "  </tbody>\n",
       "</table>\n",
       "<p>4 rows × 27 columns</p>\n",
       "</div>"
      ],
      "text/plain": [
       "                                INSTNM        CITY STABBR  HBCU  ...  \\\n",
       "0             Alabama A & M University      Normal     AL   1.0  ...   \n",
       "1  University of Alabama at Birmingham  Birmingham     AL   0.0  ...   \n",
       "2                   Amridge University  Montgomery     AL   0.0  ...   \n",
       "3  University of Alabama in Huntsville  Huntsville     AL   0.0  ...   \n",
       "\n",
       "   PCTFLOAN  UG25ABV  MD_EARN_WNE_P10  GRAD_DEBT_MDN_SUPP  \n",
       "0    0.8284   0.1049            30300               33888  \n",
       "1    0.5214   0.2422            39700             21941.5  \n",
       "2    0.7795   0.8540            40100               23370  \n",
       "3    0.4596   0.2640            45500               24097  \n",
       "\n",
       "[4 rows x 27 columns]"
      ]
     },
     "execution_count": 44,
     "metadata": {},
     "output_type": "execute_result"
    }
   ],
   "source": [
    "college.head(4)"
   ]
  },
  {
   "cell_type": "code",
   "execution_count": 45,
   "id": "fad9ec94",
   "metadata": {},
   "outputs": [
    {
     "data": {
      "text/html": [
       "<div>\n",
       "<style scoped>\n",
       "    .dataframe tbody tr th:only-of-type {\n",
       "        vertical-align: middle;\n",
       "    }\n",
       "\n",
       "    .dataframe tbody tr th {\n",
       "        vertical-align: top;\n",
       "    }\n",
       "\n",
       "    .dataframe thead th {\n",
       "        text-align: right;\n",
       "    }\n",
       "</style>\n",
       "<table border=\"1\" class=\"dataframe\">\n",
       "  <thead>\n",
       "    <tr style=\"text-align: right;\">\n",
       "      <th></th>\n",
       "      <th>INSTNM</th>\n",
       "      <th>CITY</th>\n",
       "      <th>STABBR</th>\n",
       "      <th>HBCU</th>\n",
       "      <th>...</th>\n",
       "      <th>PCTFLOAN</th>\n",
       "      <th>UG25ABV</th>\n",
       "      <th>MD_EARN_WNE_P10</th>\n",
       "      <th>GRAD_DEBT_MDN_SUPP</th>\n",
       "    </tr>\n",
       "  </thead>\n",
       "  <tbody>\n",
       "    <tr>\n",
       "      <th>ARTESIA, CA</th>\n",
       "      <td>Angeles Institute</td>\n",
       "      <td>ARTESIA</td>\n",
       "      <td>CA</td>\n",
       "      <td>0.0</td>\n",
       "      <td>...</td>\n",
       "      <td>0.8138</td>\n",
       "      <td>0.5429</td>\n",
       "      <td>NaN</td>\n",
       "      <td>16850</td>\n",
       "    </tr>\n",
       "    <tr>\n",
       "      <th>Aberdeen, SD</th>\n",
       "      <td>Presentation College</td>\n",
       "      <td>Aberdeen</td>\n",
       "      <td>SD</td>\n",
       "      <td>0.0</td>\n",
       "      <td>...</td>\n",
       "      <td>0.7560</td>\n",
       "      <td>0.3097</td>\n",
       "      <td>35900</td>\n",
       "      <td>25000</td>\n",
       "    </tr>\n",
       "    <tr>\n",
       "      <th>Aberdeen, SD</th>\n",
       "      <td>Northern State University</td>\n",
       "      <td>Aberdeen</td>\n",
       "      <td>SD</td>\n",
       "      <td>0.0</td>\n",
       "      <td>...</td>\n",
       "      <td>0.4303</td>\n",
       "      <td>0.1766</td>\n",
       "      <td>33600</td>\n",
       "      <td>24847</td>\n",
       "    </tr>\n",
       "    <tr>\n",
       "      <th>Aberdeen, WA</th>\n",
       "      <td>Grays Harbor College</td>\n",
       "      <td>Aberdeen</td>\n",
       "      <td>WA</td>\n",
       "      <td>0.0</td>\n",
       "      <td>...</td>\n",
       "      <td>0.1502</td>\n",
       "      <td>0.5087</td>\n",
       "      <td>27000</td>\n",
       "      <td>11490</td>\n",
       "    </tr>\n",
       "    <tr>\n",
       "      <th>Abilene, TX</th>\n",
       "      <td>Hardin-Simmons University</td>\n",
       "      <td>Abilene</td>\n",
       "      <td>TX</td>\n",
       "      <td>0.0</td>\n",
       "      <td>...</td>\n",
       "      <td>0.5547</td>\n",
       "      <td>0.0982</td>\n",
       "      <td>38700</td>\n",
       "      <td>25864</td>\n",
       "    </tr>\n",
       "  </tbody>\n",
       "</table>\n",
       "<p>5 rows × 27 columns</p>\n",
       "</div>"
      ],
      "text/plain": [
       "                                 INSTNM      CITY STABBR  HBCU  ...  PCTFLOAN  \\\n",
       "ARTESIA, CA           Angeles Institute   ARTESIA     CA   0.0  ...    0.8138   \n",
       "Aberdeen, SD       Presentation College  Aberdeen     SD   0.0  ...    0.7560   \n",
       "Aberdeen, SD  Northern State University  Aberdeen     SD   0.0  ...    0.4303   \n",
       "Aberdeen, WA       Grays Harbor College  Aberdeen     WA   0.0  ...    0.1502   \n",
       "Abilene, TX   Hardin-Simmons University   Abilene     TX   0.0  ...    0.5547   \n",
       "\n",
       "              UG25ABV  MD_EARN_WNE_P10  GRAD_DEBT_MDN_SUPP  \n",
       "ARTESIA, CA    0.5429              NaN               16850  \n",
       "Aberdeen, SD   0.3097            35900               25000  \n",
       "Aberdeen, SD   0.1766            33600               24847  \n",
       "Aberdeen, WA   0.5087            27000               11490  \n",
       "Abilene, TX    0.0982            38700               25864  \n",
       "\n",
       "[5 rows x 27 columns]"
      ]
     },
     "execution_count": 45,
     "metadata": {},
     "output_type": "execute_result"
    }
   ],
   "source": [
    "college.index = college['CITY'] + ', ' + college['STABBR']\n",
    "college = college.sort_index()\n",
    "college.head()"
   ]
  },
  {
   "cell_type": "code",
   "execution_count": 48,
   "id": "688278f5",
   "metadata": {},
   "outputs": [
    {
     "data": {
      "text/html": [
       "<div>\n",
       "<style scoped>\n",
       "    .dataframe tbody tr th:only-of-type {\n",
       "        vertical-align: middle;\n",
       "    }\n",
       "\n",
       "    .dataframe tbody tr th {\n",
       "        vertical-align: top;\n",
       "    }\n",
       "\n",
       "    .dataframe thead th {\n",
       "        text-align: right;\n",
       "    }\n",
       "</style>\n",
       "<table border=\"1\" class=\"dataframe\">\n",
       "  <thead>\n",
       "    <tr style=\"text-align: right;\">\n",
       "      <th></th>\n",
       "      <th>INSTNM</th>\n",
       "      <th>CITY</th>\n",
       "      <th>STABBR</th>\n",
       "      <th>HBCU</th>\n",
       "      <th>...</th>\n",
       "      <th>PCTFLOAN</th>\n",
       "      <th>UG25ABV</th>\n",
       "      <th>MD_EARN_WNE_P10</th>\n",
       "      <th>GRAD_DEBT_MDN_SUPP</th>\n",
       "    </tr>\n",
       "  </thead>\n",
       "  <tbody>\n",
       "    <tr>\n",
       "      <th>Miami, FL</th>\n",
       "      <td>New Professions Technical Institute</td>\n",
       "      <td>Miami</td>\n",
       "      <td>FL</td>\n",
       "      <td>0.0</td>\n",
       "      <td>...</td>\n",
       "      <td>0.6780</td>\n",
       "      <td>0.8358</td>\n",
       "      <td>18700</td>\n",
       "      <td>8682</td>\n",
       "    </tr>\n",
       "    <tr>\n",
       "      <th>Miami, FL</th>\n",
       "      <td>Management Resources College</td>\n",
       "      <td>Miami</td>\n",
       "      <td>FL</td>\n",
       "      <td>0.0</td>\n",
       "      <td>...</td>\n",
       "      <td>0.5458</td>\n",
       "      <td>0.8698</td>\n",
       "      <td>PrivacySuppressed</td>\n",
       "      <td>12182</td>\n",
       "    </tr>\n",
       "    <tr>\n",
       "      <th>Miami, FL</th>\n",
       "      <td>Strayer University-Doral</td>\n",
       "      <td>Miami</td>\n",
       "      <td>FL</td>\n",
       "      <td>NaN</td>\n",
       "      <td>...</td>\n",
       "      <td>NaN</td>\n",
       "      <td>NaN</td>\n",
       "      <td>49200</td>\n",
       "      <td>36173.5</td>\n",
       "    </tr>\n",
       "    <tr>\n",
       "      <th>Miami, FL</th>\n",
       "      <td>Keiser University- Miami</td>\n",
       "      <td>Miami</td>\n",
       "      <td>FL</td>\n",
       "      <td>NaN</td>\n",
       "      <td>...</td>\n",
       "      <td>NaN</td>\n",
       "      <td>NaN</td>\n",
       "      <td>29700</td>\n",
       "      <td>26063</td>\n",
       "    </tr>\n",
       "    <tr>\n",
       "      <th>Miami, FL</th>\n",
       "      <td>George T Baker Aviation Technical College</td>\n",
       "      <td>Miami</td>\n",
       "      <td>FL</td>\n",
       "      <td>0.0</td>\n",
       "      <td>...</td>\n",
       "      <td>0.0000</td>\n",
       "      <td>0.4366</td>\n",
       "      <td>38600</td>\n",
       "      <td>PrivacySuppressed</td>\n",
       "    </tr>\n",
       "  </tbody>\n",
       "</table>\n",
       "<p>5 rows × 27 columns</p>\n",
       "</div>"
      ],
      "text/plain": [
       "                                              INSTNM   CITY STABBR  HBCU  ...  \\\n",
       "Miami, FL        New Professions Technical Institute  Miami     FL   0.0  ...   \n",
       "Miami, FL               Management Resources College  Miami     FL   0.0  ...   \n",
       "Miami, FL                   Strayer University-Doral  Miami     FL   NaN  ...   \n",
       "Miami, FL                   Keiser University- Miami  Miami     FL   NaN  ...   \n",
       "Miami, FL  George T Baker Aviation Technical College  Miami     FL   0.0  ...   \n",
       "\n",
       "           PCTFLOAN  UG25ABV    MD_EARN_WNE_P10  GRAD_DEBT_MDN_SUPP  \n",
       "Miami, FL    0.6780   0.8358              18700                8682  \n",
       "Miami, FL    0.5458   0.8698  PrivacySuppressed               12182  \n",
       "Miami, FL       NaN      NaN              49200             36173.5  \n",
       "Miami, FL       NaN      NaN              29700               26063  \n",
       "Miami, FL    0.0000   0.4366              38600   PrivacySuppressed  \n",
       "\n",
       "[5 rows x 27 columns]"
      ]
     },
     "execution_count": 48,
     "metadata": {},
     "output_type": "execute_result"
    }
   ],
   "source": [
    "college.loc['Miami, FL'].head()"
   ]
  },
  {
   "cell_type": "code",
   "execution_count": 49,
   "id": "9d293f11",
   "metadata": {},
   "outputs": [
    {
     "name": "stdout",
     "output_type": "stream",
     "text": [
      "981 µs ± 5.06 µs per loop (mean ± std. dev. of 7 runs, 1000 loops each)\n"
     ]
    }
   ],
   "source": [
    "%%timeit\n",
    "crit1 = college['CITY'] == 'Miami'\n",
    "crit2 = college['STABBR'] == 'FL'\n",
    "college[crit1 & crit2]"
   ]
  },
  {
   "cell_type": "code",
   "execution_count": 50,
   "id": "55d08dd3",
   "metadata": {},
   "outputs": [
    {
     "name": "stdout",
     "output_type": "stream",
     "text": [
      "34.3 µs ± 418 ns per loop (mean ± std. dev. of 7 runs, 10000 loops each)\n"
     ]
    }
   ],
   "source": [
    "%timeit college.loc['Miami, FL']"
   ]
  }
 ],
 "metadata": {
  "kernelspec": {
   "display_name": "Python 3",
   "language": "python",
   "name": "python3"
  },
  "language_info": {
   "codemirror_mode": {
    "name": "ipython",
    "version": 3
   },
   "file_extension": ".py",
   "mimetype": "text/x-python",
   "name": "python",
   "nbconvert_exporter": "python",
   "pygments_lexer": "ipython3",
   "version": "3.8.5"
  }
 },
 "nbformat": 4,
 "nbformat_minor": 5
}
