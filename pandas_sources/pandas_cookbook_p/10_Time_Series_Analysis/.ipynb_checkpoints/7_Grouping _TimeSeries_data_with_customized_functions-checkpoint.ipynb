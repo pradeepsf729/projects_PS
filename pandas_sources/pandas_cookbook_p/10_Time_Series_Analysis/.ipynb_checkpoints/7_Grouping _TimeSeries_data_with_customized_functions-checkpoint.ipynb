{
 "cells": [
  {
   "cell_type": "code",
   "execution_count": 1,
   "id": "ed7886fc",
   "metadata": {},
   "outputs": [],
   "source": [
    "import pandas as pd"
   ]
  },
  {
   "cell_type": "code",
   "execution_count": 2,
   "id": "2eea5250",
   "metadata": {},
   "outputs": [],
   "source": [
    "import warnings\n",
    "warnings.simplefilter(action='ignore', category=FutureWarning)"
   ]
  },
  {
   "cell_type": "code",
   "execution_count": 3,
   "id": "02d3caae",
   "metadata": {},
   "outputs": [],
   "source": [
    "crime_sort = pd.read_hdf('data/crime.h5', 'crime') \\\n",
    "                .set_index('REPORTED_DATE') \\\n",
    "                .sort_index()"
   ]
  },
  {
   "cell_type": "code",
   "execution_count": 4,
   "id": "33d82286",
   "metadata": {},
   "outputs": [
    {
     "data": {
      "text/plain": [
       "pandas.core.indexes.datetimes.DatetimeIndex"
      ]
     },
     "execution_count": 4,
     "metadata": {},
     "output_type": "execute_result"
    }
   ],
   "source": [
    "type(crime_sort.index)"
   ]
  },
  {
   "cell_type": "markdown",
   "id": "9e304615",
   "metadata": {},
   "source": [
    "#### checking methods for Timestamp index"
   ]
  },
  {
   "cell_type": "code",
   "execution_count": 5,
   "id": "b37841d8",
   "metadata": {},
   "outputs": [],
   "source": [
    "common_attrs = set(dir(crime_sort.index)) & set(dir(pd.Timestamp))"
   ]
  },
  {
   "cell_type": "code",
   "execution_count": 6,
   "id": "53926071",
   "metadata": {},
   "outputs": [
    {
     "name": "stdout",
     "output_type": "stream",
     "text": [
      "['date', 'timetz', 'dayofyear', 'quarter', 'freq', 'microsecond', 'to_julian_date', 'round', 'time', 'month_name', 'is_quarter_start', 'nanosecond', 'to_pydatetime', 'week', 'day', 'second', 'tzinfo', 'days_in_month', 'month', 'is_month_start', 'to_numpy', 'weekofyear', 'normalize', 'tz', 'is_quarter_end', 'year', 'dayofweek', 'ceil', 'resolution', 'tz_localize', 'day_of_year', 'to_period', 'tz_convert', 'floor', 'hour', 'weekday', 'minute', 'is_year_start', 'max', 'min', 'day_of_week', 'day_name', 'daysinmonth', 'is_leap_year', 'isocalendar', 'strftime', 'freqstr', 'is_year_end', 'is_month_end']\n"
     ]
    }
   ],
   "source": [
    "print([attr for attr in common_attrs if attr[0] != '_'])"
   ]
  },
  {
   "cell_type": "code",
   "execution_count": 7,
   "id": "22f55daf",
   "metadata": {},
   "outputs": [
    {
     "data": {
      "text/plain": [
       "Monday       70024\n",
       "Friday       69621\n",
       "Wednesday    69538\n",
       "Thursday     69287\n",
       "Tuesday      68394\n",
       "Saturday     58834\n",
       "Sunday       55213\n",
       "Name: REPORTED_DATE, dtype: int64"
      ]
     },
     "execution_count": 7,
     "metadata": {},
     "output_type": "execute_result"
    }
   ],
   "source": [
    "crime_sort.index.day_name().value_counts()"
   ]
  },
  {
   "cell_type": "markdown",
   "id": "86760694",
   "metadata": {},
   "source": [
    "#### using the timestamp index methods for the pandas groupby, thereby grouping on weeks, days etc..."
   ]
  },
  {
   "cell_type": "code",
   "execution_count": 8,
   "id": "3dc40e7d",
   "metadata": {},
   "outputs": [],
   "source": [
    "cr_grp_by_wk = crime_sort.groupby(lambda x: x.day_name())"
   ]
  },
  {
   "cell_type": "code",
   "execution_count": 9,
   "id": "dc6cfeb9",
   "metadata": {},
   "outputs": [
    {
     "data": {
      "text/html": [
       "<div>\n",
       "<style scoped>\n",
       "    .dataframe tbody tr th:only-of-type {\n",
       "        vertical-align: middle;\n",
       "    }\n",
       "\n",
       "    .dataframe tbody tr th {\n",
       "        vertical-align: top;\n",
       "    }\n",
       "\n",
       "    .dataframe thead th {\n",
       "        text-align: right;\n",
       "    }\n",
       "</style>\n",
       "<table border=\"1\" class=\"dataframe\">\n",
       "  <thead>\n",
       "    <tr style=\"text-align: right;\">\n",
       "      <th></th>\n",
       "      <th>IS_CRIME</th>\n",
       "      <th>IS_TRAFFIC</th>\n",
       "    </tr>\n",
       "  </thead>\n",
       "  <tbody>\n",
       "    <tr>\n",
       "      <th>Friday</th>\n",
       "      <td>48833</td>\n",
       "      <td>20814</td>\n",
       "    </tr>\n",
       "    <tr>\n",
       "      <th>Monday</th>\n",
       "      <td>52158</td>\n",
       "      <td>17895</td>\n",
       "    </tr>\n",
       "    <tr>\n",
       "      <th>Saturday</th>\n",
       "      <td>43363</td>\n",
       "      <td>15516</td>\n",
       "    </tr>\n",
       "    <tr>\n",
       "      <th>Sunday</th>\n",
       "      <td>42315</td>\n",
       "      <td>12968</td>\n",
       "    </tr>\n",
       "    <tr>\n",
       "      <th>Thursday</th>\n",
       "      <td>49470</td>\n",
       "      <td>19845</td>\n",
       "    </tr>\n",
       "    <tr>\n",
       "      <th>Tuesday</th>\n",
       "      <td>49658</td>\n",
       "      <td>18755</td>\n",
       "    </tr>\n",
       "    <tr>\n",
       "      <th>Wednesday</th>\n",
       "      <td>50054</td>\n",
       "      <td>19508</td>\n",
       "    </tr>\n",
       "  </tbody>\n",
       "</table>\n",
       "</div>"
      ],
      "text/plain": [
       "           IS_CRIME  IS_TRAFFIC\n",
       "Friday        48833       20814\n",
       "Monday        52158       17895\n",
       "Saturday      43363       15516\n",
       "Sunday        42315       12968\n",
       "Thursday      49470       19845\n",
       "Tuesday       49658       18755\n",
       "Wednesday     50054       19508"
      ]
     },
     "execution_count": 9,
     "metadata": {},
     "output_type": "execute_result"
    }
   ],
   "source": [
    "cr_grp_by_wk['IS_CRIME', 'IS_TRAFFIC'].sum()"
   ]
  },
  {
   "cell_type": "markdown",
   "id": "09e35956",
   "metadata": {},
   "source": [
    "#### groupby with more than one function"
   ]
  },
  {
   "cell_type": "code",
   "execution_count": 10,
   "id": "3751a993",
   "metadata": {},
   "outputs": [],
   "source": [
    "funcs = [lambda x: x.round('2h').hour, lambda x: x.year]"
   ]
  },
  {
   "cell_type": "code",
   "execution_count": 11,
   "id": "5322e865",
   "metadata": {},
   "outputs": [],
   "source": [
    "cr_grp_by_2h_and_year = crime_sort.groupby(funcs)"
   ]
  },
  {
   "cell_type": "code",
   "execution_count": 12,
   "id": "09e53c9f",
   "metadata": {},
   "outputs": [
    {
     "data": {
      "text/html": [
       "<div>\n",
       "<style scoped>\n",
       "    .dataframe tbody tr th:only-of-type {\n",
       "        vertical-align: middle;\n",
       "    }\n",
       "\n",
       "    .dataframe tbody tr th {\n",
       "        vertical-align: top;\n",
       "    }\n",
       "\n",
       "    .dataframe thead th {\n",
       "        text-align: right;\n",
       "    }\n",
       "</style>\n",
       "<table border=\"1\" class=\"dataframe\">\n",
       "  <thead>\n",
       "    <tr style=\"text-align: right;\">\n",
       "      <th></th>\n",
       "      <th></th>\n",
       "      <th>IS_CRIME</th>\n",
       "      <th>IS_TRAFFIC</th>\n",
       "    </tr>\n",
       "  </thead>\n",
       "  <tbody>\n",
       "    <tr>\n",
       "      <th rowspan=\"5\" valign=\"top\">0</th>\n",
       "      <th>2012</th>\n",
       "      <td>2422</td>\n",
       "      <td>919</td>\n",
       "    </tr>\n",
       "    <tr>\n",
       "      <th>2013</th>\n",
       "      <td>4040</td>\n",
       "      <td>792</td>\n",
       "    </tr>\n",
       "    <tr>\n",
       "      <th>2014</th>\n",
       "      <td>5649</td>\n",
       "      <td>978</td>\n",
       "    </tr>\n",
       "    <tr>\n",
       "      <th>2015</th>\n",
       "      <td>5649</td>\n",
       "      <td>1136</td>\n",
       "    </tr>\n",
       "    <tr>\n",
       "      <th>2016</th>\n",
       "      <td>5377</td>\n",
       "      <td>980</td>\n",
       "    </tr>\n",
       "    <tr>\n",
       "      <th>...</th>\n",
       "      <th>...</th>\n",
       "      <td>...</td>\n",
       "      <td>...</td>\n",
       "    </tr>\n",
       "    <tr>\n",
       "      <th rowspan=\"5\" valign=\"top\">22</th>\n",
       "      <th>2013</th>\n",
       "      <td>4318</td>\n",
       "      <td>1330</td>\n",
       "    </tr>\n",
       "    <tr>\n",
       "      <th>2014</th>\n",
       "      <td>5496</td>\n",
       "      <td>1532</td>\n",
       "    </tr>\n",
       "    <tr>\n",
       "      <th>2015</th>\n",
       "      <td>5626</td>\n",
       "      <td>1671</td>\n",
       "    </tr>\n",
       "    <tr>\n",
       "      <th>2016</th>\n",
       "      <td>5637</td>\n",
       "      <td>1472</td>\n",
       "    </tr>\n",
       "    <tr>\n",
       "      <th>2017</th>\n",
       "      <td>4358</td>\n",
       "      <td>1072</td>\n",
       "    </tr>\n",
       "  </tbody>\n",
       "</table>\n",
       "<p>72 rows × 2 columns</p>\n",
       "</div>"
      ],
      "text/plain": [
       "         IS_CRIME  IS_TRAFFIC\n",
       "0  2012      2422         919\n",
       "   2013      4040         792\n",
       "   2014      5649         978\n",
       "   2015      5649        1136\n",
       "   2016      5377         980\n",
       "...           ...         ...\n",
       "22 2013      4318        1330\n",
       "   2014      5496        1532\n",
       "   2015      5626        1671\n",
       "   2016      5637        1472\n",
       "   2017      4358        1072\n",
       "\n",
       "[72 rows x 2 columns]"
      ]
     },
     "execution_count": 12,
     "metadata": {},
     "output_type": "execute_result"
    }
   ],
   "source": [
    "cr_grp_by_2h_and_year['IS_CRIME', 'IS_TRAFFIC'].sum()"
   ]
  },
  {
   "cell_type": "code",
   "execution_count": 13,
   "id": "79827936",
   "metadata": {},
   "outputs": [],
   "source": [
    "cr_grp_by_2h_and_year = cr_grp_by_2h_and_year['IS_CRIME', 'IS_TRAFFIC'].sum().unstack()"
   ]
  },
  {
   "cell_type": "code",
   "execution_count": 14,
   "id": "45d289d7",
   "metadata": {},
   "outputs": [
    {
     "data": {
      "text/html": [
       "<div>\n",
       "<style scoped>\n",
       "    .dataframe tbody tr th:only-of-type {\n",
       "        vertical-align: middle;\n",
       "    }\n",
       "\n",
       "    .dataframe tbody tr th {\n",
       "        vertical-align: top;\n",
       "    }\n",
       "\n",
       "    .dataframe thead tr th {\n",
       "        text-align: left;\n",
       "    }\n",
       "</style>\n",
       "<table border=\"1\" class=\"dataframe\">\n",
       "  <thead>\n",
       "    <tr>\n",
       "      <th></th>\n",
       "      <th colspan=\"6\" halign=\"left\">IS_CRIME</th>\n",
       "      <th colspan=\"6\" halign=\"left\">IS_TRAFFIC</th>\n",
       "    </tr>\n",
       "    <tr>\n",
       "      <th></th>\n",
       "      <th>2012</th>\n",
       "      <th>2013</th>\n",
       "      <th>2014</th>\n",
       "      <th>2015</th>\n",
       "      <th>2016</th>\n",
       "      <th>2017</th>\n",
       "      <th>2012</th>\n",
       "      <th>2013</th>\n",
       "      <th>2014</th>\n",
       "      <th>2015</th>\n",
       "      <th>2016</th>\n",
       "      <th>2017</th>\n",
       "    </tr>\n",
       "  </thead>\n",
       "  <tbody>\n",
       "    <tr>\n",
       "      <th>0</th>\n",
       "      <td>2422</td>\n",
       "      <td>4040</td>\n",
       "      <td>5649</td>\n",
       "      <td>5649</td>\n",
       "      <td>5377</td>\n",
       "      <td>3811</td>\n",
       "      <td>919</td>\n",
       "      <td>792</td>\n",
       "      <td>978</td>\n",
       "      <td>1136</td>\n",
       "      <td>980</td>\n",
       "      <td>782</td>\n",
       "    </tr>\n",
       "    <tr>\n",
       "      <th>2</th>\n",
       "      <td>1888</td>\n",
       "      <td>3214</td>\n",
       "      <td>4245</td>\n",
       "      <td>4050</td>\n",
       "      <td>4091</td>\n",
       "      <td>3041</td>\n",
       "      <td>718</td>\n",
       "      <td>652</td>\n",
       "      <td>779</td>\n",
       "      <td>773</td>\n",
       "      <td>718</td>\n",
       "      <td>537</td>\n",
       "    </tr>\n",
       "    <tr>\n",
       "      <th>4</th>\n",
       "      <td>1472</td>\n",
       "      <td>2181</td>\n",
       "      <td>2956</td>\n",
       "      <td>2959</td>\n",
       "      <td>3044</td>\n",
       "      <td>2255</td>\n",
       "      <td>399</td>\n",
       "      <td>378</td>\n",
       "      <td>424</td>\n",
       "      <td>471</td>\n",
       "      <td>464</td>\n",
       "      <td>313</td>\n",
       "    </tr>\n",
       "    <tr>\n",
       "      <th>6</th>\n",
       "      <td>1067</td>\n",
       "      <td>1365</td>\n",
       "      <td>1750</td>\n",
       "      <td>2167</td>\n",
       "      <td>2108</td>\n",
       "      <td>1567</td>\n",
       "      <td>411</td>\n",
       "      <td>399</td>\n",
       "      <td>479</td>\n",
       "      <td>494</td>\n",
       "      <td>593</td>\n",
       "      <td>462</td>\n",
       "    </tr>\n",
       "  </tbody>\n",
       "</table>\n",
       "</div>"
      ],
      "text/plain": [
       "  IS_CRIME                               IS_TRAFFIC                          \n",
       "      2012  2013  2014  2015  2016  2017       2012 2013 2014  2015 2016 2017\n",
       "0     2422  4040  5649  5649  5377  3811        919  792  978  1136  980  782\n",
       "2     1888  3214  4245  4050  4091  3041        718  652  779   773  718  537\n",
       "4     1472  2181  2956  2959  3044  2255        399  378  424   471  464  313\n",
       "6     1067  1365  1750  2167  2108  1567        411  399  479   494  593  462"
      ]
     },
     "execution_count": 14,
     "metadata": {},
     "output_type": "execute_result"
    }
   ],
   "source": [
    "cr_grp_by_2h_and_year.head(4)"
   ]
  },
  {
   "cell_type": "markdown",
   "id": "0c5e38c6",
   "metadata": {},
   "source": [
    "#### highlighting the maximum crimes at hours of the day (24 hour format)"
   ]
  },
  {
   "cell_type": "code",
   "execution_count": 15,
   "id": "28cb3d64",
   "metadata": {},
   "outputs": [
    {
     "data": {
      "text/html": [
       "<style  type=\"text/css\" >\n",
       "#T_84e12_row6_col0,#T_84e12_row8_col1,#T_84e12_row8_col2,#T_84e12_row8_col3,#T_84e12_row8_col4,#T_84e12_row8_col5,#T_84e12_row8_col11,#T_84e12_row9_col6,#T_84e12_row9_col7,#T_84e12_row9_col8,#T_84e12_row9_col9,#T_84e12_row9_col10{\n",
       "            background-color:  red;\n",
       "        }</style><table id=\"T_84e12_\" ><thead>    <tr>        <th class=\"blank level0\" ></th>        <th class=\"col_heading level0 col0\" colspan=\"6\">IS_CRIME</th>        <th class=\"col_heading level0 col6\" colspan=\"6\">IS_TRAFFIC</th>    </tr>    <tr>        <th class=\"blank level1\" ></th>        <th class=\"col_heading level1 col0\" >2012</th>        <th class=\"col_heading level1 col1\" >2013</th>        <th class=\"col_heading level1 col2\" >2014</th>        <th class=\"col_heading level1 col3\" >2015</th>        <th class=\"col_heading level1 col4\" >2016</th>        <th class=\"col_heading level1 col5\" >2017</th>        <th class=\"col_heading level1 col6\" >2012</th>        <th class=\"col_heading level1 col7\" >2013</th>        <th class=\"col_heading level1 col8\" >2014</th>        <th class=\"col_heading level1 col9\" >2015</th>        <th class=\"col_heading level1 col10\" >2016</th>        <th class=\"col_heading level1 col11\" >2017</th>    </tr></thead><tbody>\n",
       "                <tr>\n",
       "                        <th id=\"T_84e12_level0_row0\" class=\"row_heading level0 row0\" >0</th>\n",
       "                        <td id=\"T_84e12_row0_col0\" class=\"data row0 col0\" >2422</td>\n",
       "                        <td id=\"T_84e12_row0_col1\" class=\"data row0 col1\" >4040</td>\n",
       "                        <td id=\"T_84e12_row0_col2\" class=\"data row0 col2\" >5649</td>\n",
       "                        <td id=\"T_84e12_row0_col3\" class=\"data row0 col3\" >5649</td>\n",
       "                        <td id=\"T_84e12_row0_col4\" class=\"data row0 col4\" >5377</td>\n",
       "                        <td id=\"T_84e12_row0_col5\" class=\"data row0 col5\" >3811</td>\n",
       "                        <td id=\"T_84e12_row0_col6\" class=\"data row0 col6\" >919</td>\n",
       "                        <td id=\"T_84e12_row0_col7\" class=\"data row0 col7\" >792</td>\n",
       "                        <td id=\"T_84e12_row0_col8\" class=\"data row0 col8\" >978</td>\n",
       "                        <td id=\"T_84e12_row0_col9\" class=\"data row0 col9\" >1136</td>\n",
       "                        <td id=\"T_84e12_row0_col10\" class=\"data row0 col10\" >980</td>\n",
       "                        <td id=\"T_84e12_row0_col11\" class=\"data row0 col11\" >782</td>\n",
       "            </tr>\n",
       "            <tr>\n",
       "                        <th id=\"T_84e12_level0_row1\" class=\"row_heading level0 row1\" >2</th>\n",
       "                        <td id=\"T_84e12_row1_col0\" class=\"data row1 col0\" >1888</td>\n",
       "                        <td id=\"T_84e12_row1_col1\" class=\"data row1 col1\" >3214</td>\n",
       "                        <td id=\"T_84e12_row1_col2\" class=\"data row1 col2\" >4245</td>\n",
       "                        <td id=\"T_84e12_row1_col3\" class=\"data row1 col3\" >4050</td>\n",
       "                        <td id=\"T_84e12_row1_col4\" class=\"data row1 col4\" >4091</td>\n",
       "                        <td id=\"T_84e12_row1_col5\" class=\"data row1 col5\" >3041</td>\n",
       "                        <td id=\"T_84e12_row1_col6\" class=\"data row1 col6\" >718</td>\n",
       "                        <td id=\"T_84e12_row1_col7\" class=\"data row1 col7\" >652</td>\n",
       "                        <td id=\"T_84e12_row1_col8\" class=\"data row1 col8\" >779</td>\n",
       "                        <td id=\"T_84e12_row1_col9\" class=\"data row1 col9\" >773</td>\n",
       "                        <td id=\"T_84e12_row1_col10\" class=\"data row1 col10\" >718</td>\n",
       "                        <td id=\"T_84e12_row1_col11\" class=\"data row1 col11\" >537</td>\n",
       "            </tr>\n",
       "            <tr>\n",
       "                        <th id=\"T_84e12_level0_row2\" class=\"row_heading level0 row2\" >4</th>\n",
       "                        <td id=\"T_84e12_row2_col0\" class=\"data row2 col0\" >1472</td>\n",
       "                        <td id=\"T_84e12_row2_col1\" class=\"data row2 col1\" >2181</td>\n",
       "                        <td id=\"T_84e12_row2_col2\" class=\"data row2 col2\" >2956</td>\n",
       "                        <td id=\"T_84e12_row2_col3\" class=\"data row2 col3\" >2959</td>\n",
       "                        <td id=\"T_84e12_row2_col4\" class=\"data row2 col4\" >3044</td>\n",
       "                        <td id=\"T_84e12_row2_col5\" class=\"data row2 col5\" >2255</td>\n",
       "                        <td id=\"T_84e12_row2_col6\" class=\"data row2 col6\" >399</td>\n",
       "                        <td id=\"T_84e12_row2_col7\" class=\"data row2 col7\" >378</td>\n",
       "                        <td id=\"T_84e12_row2_col8\" class=\"data row2 col8\" >424</td>\n",
       "                        <td id=\"T_84e12_row2_col9\" class=\"data row2 col9\" >471</td>\n",
       "                        <td id=\"T_84e12_row2_col10\" class=\"data row2 col10\" >464</td>\n",
       "                        <td id=\"T_84e12_row2_col11\" class=\"data row2 col11\" >313</td>\n",
       "            </tr>\n",
       "            <tr>\n",
       "                        <th id=\"T_84e12_level0_row3\" class=\"row_heading level0 row3\" >6</th>\n",
       "                        <td id=\"T_84e12_row3_col0\" class=\"data row3 col0\" >1067</td>\n",
       "                        <td id=\"T_84e12_row3_col1\" class=\"data row3 col1\" >1365</td>\n",
       "                        <td id=\"T_84e12_row3_col2\" class=\"data row3 col2\" >1750</td>\n",
       "                        <td id=\"T_84e12_row3_col3\" class=\"data row3 col3\" >2167</td>\n",
       "                        <td id=\"T_84e12_row3_col4\" class=\"data row3 col4\" >2108</td>\n",
       "                        <td id=\"T_84e12_row3_col5\" class=\"data row3 col5\" >1567</td>\n",
       "                        <td id=\"T_84e12_row3_col6\" class=\"data row3 col6\" >411</td>\n",
       "                        <td id=\"T_84e12_row3_col7\" class=\"data row3 col7\" >399</td>\n",
       "                        <td id=\"T_84e12_row3_col8\" class=\"data row3 col8\" >479</td>\n",
       "                        <td id=\"T_84e12_row3_col9\" class=\"data row3 col9\" >494</td>\n",
       "                        <td id=\"T_84e12_row3_col10\" class=\"data row3 col10\" >593</td>\n",
       "                        <td id=\"T_84e12_row3_col11\" class=\"data row3 col11\" >462</td>\n",
       "            </tr>\n",
       "            <tr>\n",
       "                        <th id=\"T_84e12_level0_row4\" class=\"row_heading level0 row4\" >8</th>\n",
       "                        <td id=\"T_84e12_row4_col0\" class=\"data row4 col0\" >2998</td>\n",
       "                        <td id=\"T_84e12_row4_col1\" class=\"data row4 col1\" >3445</td>\n",
       "                        <td id=\"T_84e12_row4_col2\" class=\"data row4 col2\" >3727</td>\n",
       "                        <td id=\"T_84e12_row4_col3\" class=\"data row4 col3\" >4161</td>\n",
       "                        <td id=\"T_84e12_row4_col4\" class=\"data row4 col4\" >4488</td>\n",
       "                        <td id=\"T_84e12_row4_col5\" class=\"data row4 col5\" >3251</td>\n",
       "                        <td id=\"T_84e12_row4_col6\" class=\"data row4 col6\" >1957</td>\n",
       "                        <td id=\"T_84e12_row4_col7\" class=\"data row4 col7\" >1955</td>\n",
       "                        <td id=\"T_84e12_row4_col8\" class=\"data row4 col8\" >2210</td>\n",
       "                        <td id=\"T_84e12_row4_col9\" class=\"data row4 col9\" >2331</td>\n",
       "                        <td id=\"T_84e12_row4_col10\" class=\"data row4 col10\" >2372</td>\n",
       "                        <td id=\"T_84e12_row4_col11\" class=\"data row4 col11\" >1828</td>\n",
       "            </tr>\n",
       "            <tr>\n",
       "                        <th id=\"T_84e12_level0_row5\" class=\"row_heading level0 row5\" >10</th>\n",
       "                        <td id=\"T_84e12_row5_col0\" class=\"data row5 col0\" >4305</td>\n",
       "                        <td id=\"T_84e12_row5_col1\" class=\"data row5 col1\" >5035</td>\n",
       "                        <td id=\"T_84e12_row5_col2\" class=\"data row5 col2\" >5658</td>\n",
       "                        <td id=\"T_84e12_row5_col3\" class=\"data row5 col3\" >6205</td>\n",
       "                        <td id=\"T_84e12_row5_col4\" class=\"data row5 col4\" >6218</td>\n",
       "                        <td id=\"T_84e12_row5_col5\" class=\"data row5 col5\" >4993</td>\n",
       "                        <td id=\"T_84e12_row5_col6\" class=\"data row5 col6\" >1979</td>\n",
       "                        <td id=\"T_84e12_row5_col7\" class=\"data row5 col7\" >1901</td>\n",
       "                        <td id=\"T_84e12_row5_col8\" class=\"data row5 col8\" >2139</td>\n",
       "                        <td id=\"T_84e12_row5_col9\" class=\"data row5 col9\" >2320</td>\n",
       "                        <td id=\"T_84e12_row5_col10\" class=\"data row5 col10\" >2303</td>\n",
       "                        <td id=\"T_84e12_row5_col11\" class=\"data row5 col11\" >1873</td>\n",
       "            </tr>\n",
       "            <tr>\n",
       "                        <th id=\"T_84e12_level0_row6\" class=\"row_heading level0 row6\" >12</th>\n",
       "                        <td id=\"T_84e12_row6_col0\" class=\"data row6 col0\" >4496</td>\n",
       "                        <td id=\"T_84e12_row6_col1\" class=\"data row6 col1\" >5524</td>\n",
       "                        <td id=\"T_84e12_row6_col2\" class=\"data row6 col2\" >6434</td>\n",
       "                        <td id=\"T_84e12_row6_col3\" class=\"data row6 col3\" >6841</td>\n",
       "                        <td id=\"T_84e12_row6_col4\" class=\"data row6 col4\" >7226</td>\n",
       "                        <td id=\"T_84e12_row6_col5\" class=\"data row6 col5\" >5463</td>\n",
       "                        <td id=\"T_84e12_row6_col6\" class=\"data row6 col6\" >2200</td>\n",
       "                        <td id=\"T_84e12_row6_col7\" class=\"data row6 col7\" >2138</td>\n",
       "                        <td id=\"T_84e12_row6_col8\" class=\"data row6 col8\" >2379</td>\n",
       "                        <td id=\"T_84e12_row6_col9\" class=\"data row6 col9\" >2631</td>\n",
       "                        <td id=\"T_84e12_row6_col10\" class=\"data row6 col10\" >2760</td>\n",
       "                        <td id=\"T_84e12_row6_col11\" class=\"data row6 col11\" >1986</td>\n",
       "            </tr>\n",
       "            <tr>\n",
       "                        <th id=\"T_84e12_level0_row7\" class=\"row_heading level0 row7\" >14</th>\n",
       "                        <td id=\"T_84e12_row7_col0\" class=\"data row7 col0\" >4266</td>\n",
       "                        <td id=\"T_84e12_row7_col1\" class=\"data row7 col1\" >5698</td>\n",
       "                        <td id=\"T_84e12_row7_col2\" class=\"data row7 col2\" >6708</td>\n",
       "                        <td id=\"T_84e12_row7_col3\" class=\"data row7 col3\" >7218</td>\n",
       "                        <td id=\"T_84e12_row7_col4\" class=\"data row7 col4\" >6896</td>\n",
       "                        <td id=\"T_84e12_row7_col5\" class=\"data row7 col5\" >5396</td>\n",
       "                        <td id=\"T_84e12_row7_col6\" class=\"data row7 col6\" >2241</td>\n",
       "                        <td id=\"T_84e12_row7_col7\" class=\"data row7 col7\" >2245</td>\n",
       "                        <td id=\"T_84e12_row7_col8\" class=\"data row7 col8\" >2630</td>\n",
       "                        <td id=\"T_84e12_row7_col9\" class=\"data row7 col9\" >2840</td>\n",
       "                        <td id=\"T_84e12_row7_col10\" class=\"data row7 col10\" >2763</td>\n",
       "                        <td id=\"T_84e12_row7_col11\" class=\"data row7 col11\" >1990</td>\n",
       "            </tr>\n",
       "            <tr>\n",
       "                        <th id=\"T_84e12_level0_row8\" class=\"row_heading level0 row8\" >16</th>\n",
       "                        <td id=\"T_84e12_row8_col0\" class=\"data row8 col0\" >4113</td>\n",
       "                        <td id=\"T_84e12_row8_col1\" class=\"data row8 col1\" >5889</td>\n",
       "                        <td id=\"T_84e12_row8_col2\" class=\"data row8 col2\" >7351</td>\n",
       "                        <td id=\"T_84e12_row8_col3\" class=\"data row8 col3\" >7643</td>\n",
       "                        <td id=\"T_84e12_row8_col4\" class=\"data row8 col4\" >7926</td>\n",
       "                        <td id=\"T_84e12_row8_col5\" class=\"data row8 col5\" >6338</td>\n",
       "                        <td id=\"T_84e12_row8_col6\" class=\"data row8 col6\" >2714</td>\n",
       "                        <td id=\"T_84e12_row8_col7\" class=\"data row8 col7\" >2562</td>\n",
       "                        <td id=\"T_84e12_row8_col8\" class=\"data row8 col8\" >3002</td>\n",
       "                        <td id=\"T_84e12_row8_col9\" class=\"data row8 col9\" >3160</td>\n",
       "                        <td id=\"T_84e12_row8_col10\" class=\"data row8 col10\" >3527</td>\n",
       "                        <td id=\"T_84e12_row8_col11\" class=\"data row8 col11\" >2784</td>\n",
       "            </tr>\n",
       "            <tr>\n",
       "                        <th id=\"T_84e12_level0_row9\" class=\"row_heading level0 row9\" >18</th>\n",
       "                        <td id=\"T_84e12_row9_col0\" class=\"data row9 col0\" >3660</td>\n",
       "                        <td id=\"T_84e12_row9_col1\" class=\"data row9 col1\" >5094</td>\n",
       "                        <td id=\"T_84e12_row9_col2\" class=\"data row9 col2\" >6586</td>\n",
       "                        <td id=\"T_84e12_row9_col3\" class=\"data row9 col3\" >7015</td>\n",
       "                        <td id=\"T_84e12_row9_col4\" class=\"data row9 col4\" >7407</td>\n",
       "                        <td id=\"T_84e12_row9_col5\" class=\"data row9 col5\" >6157</td>\n",
       "                        <td id=\"T_84e12_row9_col6\" class=\"data row9 col6\" >3118</td>\n",
       "                        <td id=\"T_84e12_row9_col7\" class=\"data row9 col7\" >2704</td>\n",
       "                        <td id=\"T_84e12_row9_col8\" class=\"data row9 col8\" >3217</td>\n",
       "                        <td id=\"T_84e12_row9_col9\" class=\"data row9 col9\" >3412</td>\n",
       "                        <td id=\"T_84e12_row9_col10\" class=\"data row9 col10\" >3608</td>\n",
       "                        <td id=\"T_84e12_row9_col11\" class=\"data row9 col11\" >2718</td>\n",
       "            </tr>\n",
       "            <tr>\n",
       "                        <th id=\"T_84e12_level0_row10\" class=\"row_heading level0 row10\" >20</th>\n",
       "                        <td id=\"T_84e12_row10_col0\" class=\"data row10 col0\" >3521</td>\n",
       "                        <td id=\"T_84e12_row10_col1\" class=\"data row10 col1\" >4895</td>\n",
       "                        <td id=\"T_84e12_row10_col2\" class=\"data row10 col2\" >6130</td>\n",
       "                        <td id=\"T_84e12_row10_col3\" class=\"data row10 col3\" >6360</td>\n",
       "                        <td id=\"T_84e12_row10_col4\" class=\"data row10 col4\" >6963</td>\n",
       "                        <td id=\"T_84e12_row10_col5\" class=\"data row10 col5\" >5272</td>\n",
       "                        <td id=\"T_84e12_row10_col6\" class=\"data row10 col6\" >1787</td>\n",
       "                        <td id=\"T_84e12_row10_col7\" class=\"data row10 col7\" >1806</td>\n",
       "                        <td id=\"T_84e12_row10_col8\" class=\"data row10 col8\" >1994</td>\n",
       "                        <td id=\"T_84e12_row10_col9\" class=\"data row10 col9\" >2071</td>\n",
       "                        <td id=\"T_84e12_row10_col10\" class=\"data row10 col10\" >2184</td>\n",
       "                        <td id=\"T_84e12_row10_col11\" class=\"data row10 col11\" >1491</td>\n",
       "            </tr>\n",
       "            <tr>\n",
       "                        <th id=\"T_84e12_level0_row11\" class=\"row_heading level0 row11\" >22</th>\n",
       "                        <td id=\"T_84e12_row11_col0\" class=\"data row11 col0\" >3078</td>\n",
       "                        <td id=\"T_84e12_row11_col1\" class=\"data row11 col1\" >4318</td>\n",
       "                        <td id=\"T_84e12_row11_col2\" class=\"data row11 col2\" >5496</td>\n",
       "                        <td id=\"T_84e12_row11_col3\" class=\"data row11 col3\" >5626</td>\n",
       "                        <td id=\"T_84e12_row11_col4\" class=\"data row11 col4\" >5637</td>\n",
       "                        <td id=\"T_84e12_row11_col5\" class=\"data row11 col5\" >4358</td>\n",
       "                        <td id=\"T_84e12_row11_col6\" class=\"data row11 col6\" >1343</td>\n",
       "                        <td id=\"T_84e12_row11_col7\" class=\"data row11 col7\" >1330</td>\n",
       "                        <td id=\"T_84e12_row11_col8\" class=\"data row11 col8\" >1532</td>\n",
       "                        <td id=\"T_84e12_row11_col9\" class=\"data row11 col9\" >1671</td>\n",
       "                        <td id=\"T_84e12_row11_col10\" class=\"data row11 col10\" >1472</td>\n",
       "                        <td id=\"T_84e12_row11_col11\" class=\"data row11 col11\" >1072</td>\n",
       "            </tr>\n",
       "    </tbody></table>"
      ],
      "text/plain": [
       "<pandas.io.formats.style.Styler at 0x7fd340abbf70>"
      ]
     },
     "execution_count": 15,
     "metadata": {},
     "output_type": "execute_result"
    }
   ],
   "source": [
    "cr_grp_by_2h_and_year.style.highlight_max(color='red')"
   ]
  },
  {
   "cell_type": "code",
   "execution_count": 16,
   "id": "b2bdf94d",
   "metadata": {},
   "outputs": [
    {
     "data": {
      "text/plain": [
       "MultiIndex([(  'IS_CRIME', 2012),\n",
       "            (  'IS_CRIME', 2013),\n",
       "            (  'IS_CRIME', 2014),\n",
       "            (  'IS_CRIME', 2015),\n",
       "            (  'IS_CRIME', 2016),\n",
       "            (  'IS_CRIME', 2017),\n",
       "            ('IS_TRAFFIC', 2012),\n",
       "            ('IS_TRAFFIC', 2013),\n",
       "            ('IS_TRAFFIC', 2014),\n",
       "            ('IS_TRAFFIC', 2015),\n",
       "            ('IS_TRAFFIC', 2016),\n",
       "            ('IS_TRAFFIC', 2017)],\n",
       "           )"
      ]
     },
     "execution_count": 16,
     "metadata": {},
     "output_type": "execute_result"
    }
   ],
   "source": [
    "cr_grp_by_2h_and_year.columns  # columns is multi-index"
   ]
  },
  {
   "cell_type": "markdown",
   "id": "a5cd5847",
   "metadata": {},
   "source": [
    "#### Column is multi index, level0 - crime type, level1 - year"
   ]
  },
  {
   "cell_type": "code",
   "execution_count": 17,
   "id": "f8e4ed88",
   "metadata": {},
   "outputs": [
    {
     "data": {
      "text/html": [
       "<div>\n",
       "<style scoped>\n",
       "    .dataframe tbody tr th:only-of-type {\n",
       "        vertical-align: middle;\n",
       "    }\n",
       "\n",
       "    .dataframe tbody tr th {\n",
       "        vertical-align: top;\n",
       "    }\n",
       "\n",
       "    .dataframe thead th {\n",
       "        text-align: right;\n",
       "    }\n",
       "</style>\n",
       "<table border=\"1\" class=\"dataframe\">\n",
       "  <thead>\n",
       "    <tr style=\"text-align: right;\">\n",
       "      <th></th>\n",
       "      <th>2012</th>\n",
       "      <th>2013</th>\n",
       "      <th>2014</th>\n",
       "      <th>2015</th>\n",
       "      <th>2016</th>\n",
       "      <th>2017</th>\n",
       "    </tr>\n",
       "  </thead>\n",
       "  <tbody>\n",
       "    <tr>\n",
       "      <th>0</th>\n",
       "      <td>919</td>\n",
       "      <td>792</td>\n",
       "      <td>978</td>\n",
       "      <td>1136</td>\n",
       "      <td>980</td>\n",
       "      <td>782</td>\n",
       "    </tr>\n",
       "    <tr>\n",
       "      <th>2</th>\n",
       "      <td>718</td>\n",
       "      <td>652</td>\n",
       "      <td>779</td>\n",
       "      <td>773</td>\n",
       "      <td>718</td>\n",
       "      <td>537</td>\n",
       "    </tr>\n",
       "    <tr>\n",
       "      <th>4</th>\n",
       "      <td>399</td>\n",
       "      <td>378</td>\n",
       "      <td>424</td>\n",
       "      <td>471</td>\n",
       "      <td>464</td>\n",
       "      <td>313</td>\n",
       "    </tr>\n",
       "    <tr>\n",
       "      <th>6</th>\n",
       "      <td>411</td>\n",
       "      <td>399</td>\n",
       "      <td>479</td>\n",
       "      <td>494</td>\n",
       "      <td>593</td>\n",
       "      <td>462</td>\n",
       "    </tr>\n",
       "    <tr>\n",
       "      <th>8</th>\n",
       "      <td>1957</td>\n",
       "      <td>1955</td>\n",
       "      <td>2210</td>\n",
       "      <td>2331</td>\n",
       "      <td>2372</td>\n",
       "      <td>1828</td>\n",
       "    </tr>\n",
       "  </tbody>\n",
       "</table>\n",
       "</div>"
      ],
      "text/plain": [
       "   2012  2013  2014  2015  2016  2017\n",
       "0   919   792   978  1136   980   782\n",
       "2   718   652   779   773   718   537\n",
       "4   399   378   424   471   464   313\n",
       "6   411   399   479   494   593   462\n",
       "8  1957  1955  2210  2331  2372  1828"
      ]
     },
     "execution_count": 17,
     "metadata": {},
     "output_type": "execute_result"
    }
   ],
   "source": [
    "cr_grp_by_2h_and_year.xs('IS_TRAFFIC', axis='columns', level=0).head()  # getting the year data of one column"
   ]
  },
  {
   "cell_type": "code",
   "execution_count": 18,
   "id": "825ed6db",
   "metadata": {},
   "outputs": [
    {
     "data": {
      "text/html": [
       "<div>\n",
       "<style scoped>\n",
       "    .dataframe tbody tr th:only-of-type {\n",
       "        vertical-align: middle;\n",
       "    }\n",
       "\n",
       "    .dataframe tbody tr th {\n",
       "        vertical-align: top;\n",
       "    }\n",
       "\n",
       "    .dataframe thead th {\n",
       "        text-align: right;\n",
       "    }\n",
       "</style>\n",
       "<table border=\"1\" class=\"dataframe\">\n",
       "  <thead>\n",
       "    <tr style=\"text-align: right;\">\n",
       "      <th></th>\n",
       "      <th>IS_CRIME</th>\n",
       "      <th>IS_TRAFFIC</th>\n",
       "    </tr>\n",
       "  </thead>\n",
       "  <tbody>\n",
       "    <tr>\n",
       "      <th>0</th>\n",
       "      <td>5377</td>\n",
       "      <td>980</td>\n",
       "    </tr>\n",
       "    <tr>\n",
       "      <th>2</th>\n",
       "      <td>4091</td>\n",
       "      <td>718</td>\n",
       "    </tr>\n",
       "    <tr>\n",
       "      <th>4</th>\n",
       "      <td>3044</td>\n",
       "      <td>464</td>\n",
       "    </tr>\n",
       "    <tr>\n",
       "      <th>6</th>\n",
       "      <td>2108</td>\n",
       "      <td>593</td>\n",
       "    </tr>\n",
       "    <tr>\n",
       "      <th>8</th>\n",
       "      <td>4488</td>\n",
       "      <td>2372</td>\n",
       "    </tr>\n",
       "  </tbody>\n",
       "</table>\n",
       "</div>"
      ],
      "text/plain": [
       "   IS_CRIME  IS_TRAFFIC\n",
       "0      5377         980\n",
       "2      4091         718\n",
       "4      3044         464\n",
       "6      2108         593\n",
       "8      4488        2372"
      ]
     },
     "execution_count": 18,
     "metadata": {},
     "output_type": "execute_result"
    }
   ],
   "source": [
    "cr_grp_by_2h_and_year.xs(2016, axis='columns', level=1).head()  # getting crime data types for given year"
   ]
  },
  {
   "cell_type": "code",
   "execution_count": null,
   "id": "cd3e1b79",
   "metadata": {},
   "outputs": [],
   "source": []
  }
 ],
 "metadata": {
  "kernelspec": {
   "display_name": "Python 3",
   "language": "python",
   "name": "python3"
  },
  "language_info": {
   "codemirror_mode": {
    "name": "ipython",
    "version": 3
   },
   "file_extension": ".py",
   "mimetype": "text/x-python",
   "name": "python",
   "nbconvert_exporter": "python",
   "pygments_lexer": "ipython3",
   "version": "3.8.5"
  }
 },
 "nbformat": 4,
 "nbformat_minor": 5
}
