{
 "cells": [
  {
   "cell_type": "code",
   "execution_count": 1,
   "id": "95524d5d",
   "metadata": {},
   "outputs": [],
   "source": [
    "import pandas as pd\n",
    "import matplotlib.pyplot as plt\n",
    "import os"
   ]
  },
  {
   "cell_type": "code",
   "execution_count": 2,
   "id": "0dba2b0f",
   "metadata": {},
   "outputs": [],
   "source": [
    "movie = pd.read_csv('data/movie.csv')"
   ]
  },
  {
   "cell_type": "code",
   "execution_count": 3,
   "id": "47de7f5b",
   "metadata": {},
   "outputs": [
    {
     "data": {
      "text/html": [
       "<div>\n",
       "<style scoped>\n",
       "    .dataframe tbody tr th:only-of-type {\n",
       "        vertical-align: middle;\n",
       "    }\n",
       "\n",
       "    .dataframe tbody tr th {\n",
       "        vertical-align: top;\n",
       "    }\n",
       "\n",
       "    .dataframe thead th {\n",
       "        text-align: right;\n",
       "    }\n",
       "</style>\n",
       "<table border=\"1\" class=\"dataframe\">\n",
       "  <thead>\n",
       "    <tr style=\"text-align: right;\">\n",
       "      <th></th>\n",
       "      <th>color</th>\n",
       "      <th>director_name</th>\n",
       "      <th>num_critic_for_reviews</th>\n",
       "      <th>duration</th>\n",
       "      <th>director_facebook_likes</th>\n",
       "      <th>actor_3_facebook_likes</th>\n",
       "      <th>actor_2_name</th>\n",
       "      <th>actor_1_facebook_likes</th>\n",
       "      <th>gross</th>\n",
       "      <th>genres</th>\n",
       "      <th>...</th>\n",
       "      <th>num_user_for_reviews</th>\n",
       "      <th>language</th>\n",
       "      <th>country</th>\n",
       "      <th>content_rating</th>\n",
       "      <th>budget</th>\n",
       "      <th>title_year</th>\n",
       "      <th>actor_2_facebook_likes</th>\n",
       "      <th>imdb_score</th>\n",
       "      <th>aspect_ratio</th>\n",
       "      <th>movie_facebook_likes</th>\n",
       "    </tr>\n",
       "  </thead>\n",
       "  <tbody>\n",
       "    <tr>\n",
       "      <th>0</th>\n",
       "      <td>Color</td>\n",
       "      <td>James Cameron</td>\n",
       "      <td>723.0</td>\n",
       "      <td>178.0</td>\n",
       "      <td>0.0</td>\n",
       "      <td>855.0</td>\n",
       "      <td>Joel David Moore</td>\n",
       "      <td>1000.0</td>\n",
       "      <td>760505847.0</td>\n",
       "      <td>Action|Adventure|Fantasy|Sci-Fi</td>\n",
       "      <td>...</td>\n",
       "      <td>3054.0</td>\n",
       "      <td>English</td>\n",
       "      <td>USA</td>\n",
       "      <td>PG-13</td>\n",
       "      <td>237000000.0</td>\n",
       "      <td>2009.0</td>\n",
       "      <td>936.0</td>\n",
       "      <td>7.9</td>\n",
       "      <td>1.78</td>\n",
       "      <td>33000</td>\n",
       "    </tr>\n",
       "    <tr>\n",
       "      <th>1</th>\n",
       "      <td>Color</td>\n",
       "      <td>Gore Verbinski</td>\n",
       "      <td>302.0</td>\n",
       "      <td>169.0</td>\n",
       "      <td>563.0</td>\n",
       "      <td>1000.0</td>\n",
       "      <td>Orlando Bloom</td>\n",
       "      <td>40000.0</td>\n",
       "      <td>309404152.0</td>\n",
       "      <td>Action|Adventure|Fantasy</td>\n",
       "      <td>...</td>\n",
       "      <td>1238.0</td>\n",
       "      <td>English</td>\n",
       "      <td>USA</td>\n",
       "      <td>PG-13</td>\n",
       "      <td>300000000.0</td>\n",
       "      <td>2007.0</td>\n",
       "      <td>5000.0</td>\n",
       "      <td>7.1</td>\n",
       "      <td>2.35</td>\n",
       "      <td>0</td>\n",
       "    </tr>\n",
       "    <tr>\n",
       "      <th>2</th>\n",
       "      <td>Color</td>\n",
       "      <td>Sam Mendes</td>\n",
       "      <td>602.0</td>\n",
       "      <td>148.0</td>\n",
       "      <td>0.0</td>\n",
       "      <td>161.0</td>\n",
       "      <td>Rory Kinnear</td>\n",
       "      <td>11000.0</td>\n",
       "      <td>200074175.0</td>\n",
       "      <td>Action|Adventure|Thriller</td>\n",
       "      <td>...</td>\n",
       "      <td>994.0</td>\n",
       "      <td>English</td>\n",
       "      <td>UK</td>\n",
       "      <td>PG-13</td>\n",
       "      <td>245000000.0</td>\n",
       "      <td>2015.0</td>\n",
       "      <td>393.0</td>\n",
       "      <td>6.8</td>\n",
       "      <td>2.35</td>\n",
       "      <td>85000</td>\n",
       "    </tr>\n",
       "  </tbody>\n",
       "</table>\n",
       "<p>3 rows × 28 columns</p>\n",
       "</div>"
      ],
      "text/plain": [
       "   color   director_name  num_critic_for_reviews  duration  \\\n",
       "0  Color   James Cameron                   723.0     178.0   \n",
       "1  Color  Gore Verbinski                   302.0     169.0   \n",
       "2  Color      Sam Mendes                   602.0     148.0   \n",
       "\n",
       "   director_facebook_likes  actor_3_facebook_likes      actor_2_name  \\\n",
       "0                      0.0                   855.0  Joel David Moore   \n",
       "1                    563.0                  1000.0     Orlando Bloom   \n",
       "2                      0.0                   161.0      Rory Kinnear   \n",
       "\n",
       "   actor_1_facebook_likes        gross                           genres  ...  \\\n",
       "0                  1000.0  760505847.0  Action|Adventure|Fantasy|Sci-Fi  ...   \n",
       "1                 40000.0  309404152.0         Action|Adventure|Fantasy  ...   \n",
       "2                 11000.0  200074175.0        Action|Adventure|Thriller  ...   \n",
       "\n",
       "  num_user_for_reviews language  country  content_rating       budget  \\\n",
       "0               3054.0  English      USA           PG-13  237000000.0   \n",
       "1               1238.0  English      USA           PG-13  300000000.0   \n",
       "2                994.0  English       UK           PG-13  245000000.0   \n",
       "\n",
       "   title_year actor_2_facebook_likes imdb_score  aspect_ratio  \\\n",
       "0      2009.0                  936.0        7.9          1.78   \n",
       "1      2007.0                 5000.0        7.1          2.35   \n",
       "2      2015.0                  393.0        6.8          2.35   \n",
       "\n",
       "  movie_facebook_likes  \n",
       "0                33000  \n",
       "1                    0  \n",
       "2                85000  \n",
       "\n",
       "[3 rows x 28 columns]"
      ]
     },
     "execution_count": 3,
     "metadata": {},
     "output_type": "execute_result"
    }
   ],
   "source": [
    "movie.head(3)"
   ]
  },
  {
   "cell_type": "code",
   "execution_count": 4,
   "id": "817a6e4c",
   "metadata": {},
   "outputs": [],
   "source": [
    "#### get the budget of moview in Millions"
   ]
  },
  {
   "cell_type": "code",
   "execution_count": 5,
   "id": "d8274632",
   "metadata": {},
   "outputs": [],
   "source": [
    "med_budget = movie.groupby('title_year')['budget'].median() / 1e6"
   ]
  },
  {
   "cell_type": "code",
   "execution_count": 6,
   "id": "091ee797",
   "metadata": {},
   "outputs": [],
   "source": [
    "med_budget_roll = med_budget.rolling(5, min_periods=1).mean()"
   ]
  },
  {
   "cell_type": "code",
   "execution_count": 7,
   "id": "c4fdaf9b",
   "metadata": {},
   "outputs": [
    {
     "data": {
      "text/plain": [
       "title_year\n",
       "2012.0    20.893\n",
       "2013.0    19.893\n",
       "2014.0    19.100\n",
       "2015.0    17.980\n",
       "2016.0    17.780\n",
       "Name: budget, dtype: float64"
      ]
     },
     "execution_count": 7,
     "metadata": {},
     "output_type": "execute_result"
    }
   ],
   "source": [
    "med_budget_roll.tail()"
   ]
  },
  {
   "cell_type": "code",
   "execution_count": 8,
   "id": "60b4cd53",
   "metadata": {},
   "outputs": [
    {
     "data": {
      "text/plain": [
       "array([2012., 2013., 2014., 2015., 2016.])"
      ]
     },
     "execution_count": 8,
     "metadata": {},
     "output_type": "execute_result"
    }
   ],
   "source": [
    "years = med_budget_roll.index.values\n",
    "years[-5:]"
   ]
  },
  {
   "cell_type": "code",
   "execution_count": 9,
   "id": "a5a99cd3",
   "metadata": {},
   "outputs": [
    {
     "data": {
      "text/plain": [
       "array([20.893, 19.893, 19.1  , 17.98 , 17.78 ])"
      ]
     },
     "execution_count": 9,
     "metadata": {},
     "output_type": "execute_result"
    }
   ],
   "source": [
    "budget = med_budget_roll.values\n",
    "budget[-5:]"
   ]
  },
  {
   "cell_type": "markdown",
   "id": "69117e17",
   "metadata": {},
   "source": [
    "### for line plot, use the plot method."
   ]
  },
  {
   "cell_type": "code",
   "execution_count": 10,
   "id": "768d1c23",
   "metadata": {},
   "outputs": [
    {
     "data": {
      "text/plain": [
       "Text(0, 0.5, 'Millions of Dollars')"
      ]
     },
     "execution_count": 10,
     "metadata": {},
     "output_type": "execute_result"
    },
    {
     "data": {
      "image/png": "[encoded data removed]",
      "text/plain": [
       "<Figure size 1008x288 with 1 Axes>"
      ]
     },
     "metadata": {
      "needs_background": "light"
     },
     "output_type": "display_data"
    }
   ],
   "source": [
    "fig, ax = plt.subplots(figsize=(14, 4), linewidth=5, edgecolor='.5')\n",
    "ax.plot(years, budget, linestyle='--', linewidth=3, color='.2', label='All Movies')\n",
    "text_kwargs = dict(fontsize=20, family='cursive')\n",
    "ax.set_title('Median Movie Budget', **text_kwargs)\n",
    "ax.set_ylabel('Millions of Dollars', **text_kwargs)"
   ]
  },
  {
   "cell_type": "markdown",
   "id": "794df26b",
   "metadata": {},
   "source": [
    "#### Budget increased a lot around 2000, is this real or number of movies are more in 2000's"
   ]
  },
  {
   "cell_type": "code",
   "execution_count": 11,
   "id": "34e84ec7",
   "metadata": {},
   "outputs": [
    {
     "data": {
      "text/plain": [
       "title_year\n",
       "2012.0    191\n",
       "2013.0    208\n",
       "2014.0    221\n",
       "2015.0    192\n",
       "2016.0     86\n",
       "Name: budget, dtype: int64"
      ]
     },
     "execution_count": 11,
     "metadata": {},
     "output_type": "execute_result"
    }
   ],
   "source": [
    "movie_count = movie.groupby('title_year')['budget'].count()\n",
    "movie_count.tail()"
   ]
  },
  {
   "cell_type": "markdown",
   "id": "8f10cc73",
   "metadata": {},
   "source": [
    "### plotting the number of movies against the budget"
   ]
  },
  {
   "cell_type": "code",
   "execution_count": 12,
   "id": "ae4895cc",
   "metadata": {},
   "outputs": [],
   "source": [
    "ct = movie_count.values\n",
    "ct_norm = ct / ct.max() * budget.max()"
   ]
  },
  {
   "cell_type": "code",
   "execution_count": 13,
   "id": "8629af8b",
   "metadata": {},
   "outputs": [
    {
     "data": {
      "text/plain": [
       "array([1970., 1975., 1980., 1985., 1990., 1995., 2000., 2005., 2010.,\n",
       "       2015.])"
      ]
     },
     "execution_count": 13,
     "metadata": {},
     "output_type": "execute_result"
    }
   ],
   "source": [
    "fifth_year = (years % 5 == 0) & (years >= 1970)\n",
    "years_5 = years[fifth_year]\n",
    "years_5"
   ]
  },
  {
   "cell_type": "code",
   "execution_count": 14,
   "id": "6825626b",
   "metadata": {},
   "outputs": [
    {
     "data": {
      "text/plain": [
       "array([1995., 2000., 2005., 2010., 2015.])"
      ]
     },
     "execution_count": 14,
     "metadata": {},
     "output_type": "execute_result"
    }
   ],
   "source": [
    "ct_5 = ct[fifth_year]\n",
    "ct_norm_5 = ct_norm[fifth_year]\n",
    "ct_norm_5[2:]\n",
    "years_5[5:]"
   ]
  },
  {
   "cell_type": "markdown",
   "id": "142aa45a",
   "metadata": {},
   "source": [
    "### bar method of the Axes object "
   ]
  },
  {
   "cell_type": "code",
   "execution_count": 15,
   "id": "f434a9bf",
   "metadata": {},
   "outputs": [
    {
     "data": {
      "text/plain": [
       "<BarContainer object of 10 artists>"
      ]
     },
     "execution_count": 15,
     "metadata": {},
     "output_type": "execute_result"
    }
   ],
   "source": [
    "ax.bar(years_5, ct_norm_5, 3, facecolor='.5', alpha=.3, label='Movies per Year')"
   ]
  },
  {
   "cell_type": "code",
   "execution_count": 16,
   "id": "b647dada",
   "metadata": {},
   "outputs": [
    {
     "data": {
      "text/plain": [
       "(1968.0, 2017.0)"
      ]
     },
     "execution_count": 16,
     "metadata": {},
     "output_type": "execute_result"
    }
   ],
   "source": [
    "ax.set_xlim(1968, 2017)"
   ]
  },
  {
   "cell_type": "markdown",
   "id": "ce9c750a",
   "metadata": {},
   "source": [
    "#### adding the text to each bar in the histogram"
   ]
  },
  {
   "cell_type": "code",
   "execution_count": 17,
   "id": "c3af9bce",
   "metadata": {},
   "outputs": [],
   "source": [
    "for x, y, v in zip(years_5, ct_norm_5, ct_5):\n",
    "    ax.text(x, y + .5, str(v), ha='center')"
   ]
  },
  {
   "cell_type": "code",
   "execution_count": 18,
   "id": "8569e97e",
   "metadata": {},
   "outputs": [
    {
     "data": {
      "text/plain": [
       "<matplotlib.legend.Legend at 0x7ff8482b0520>"
      ]
     },
     "execution_count": 18,
     "metadata": {},
     "output_type": "execute_result"
    }
   ],
   "source": [
    "ax.legend()"
   ]
  },
  {
   "cell_type": "code",
   "execution_count": 19,
   "id": "87a84c85",
   "metadata": {},
   "outputs": [
    {
     "data": {
      "image/png": "[encoded data removed]",
      "text/plain": [
       "<Figure size 1008x288 with 1 Axes>"
      ]
     },
     "execution_count": 19,
     "metadata": {},
     "output_type": "execute_result"
    }
   ],
   "source": [
    "fig  #note, we modified the existing axes object which already has plot"
   ]
  },
  {
   "cell_type": "markdown",
   "id": "e77b8816",
   "metadata": {},
   "source": [
    "#### the plot suggest that moview increased, but still the budget decreased"
   ]
  },
  {
   "cell_type": "code",
   "execution_count": 20,
   "id": "b95d4258",
   "metadata": {},
   "outputs": [],
   "source": [
    "movie_sorted = movie.sort_values('budget', ascending=False)"
   ]
  },
  {
   "cell_type": "markdown",
   "id": "3e3c7401",
   "metadata": {},
   "source": [
    "#### picking top10 budget movies from each year, using groupby"
   ]
  },
  {
   "cell_type": "code",
   "execution_count": 21,
   "id": "1905b39d",
   "metadata": {},
   "outputs": [],
   "source": [
    "top10 = movie_sorted.groupby('title_year')['budget']\\\n",
    "                     .apply(lambda x: x.iloc[:10].median() / 1e6)"
   ]
  },
  {
   "cell_type": "code",
   "execution_count": 22,
   "id": "aab98cf6",
   "metadata": {},
   "outputs": [
    {
     "data": {
      "text/plain": [
       "title_year\n",
       "2012.0    214.5\n",
       "2013.0    200.0\n",
       "2014.0    179.0\n",
       "2015.0    175.5\n",
       "2016.0    176.5\n",
       "Name: budget, dtype: float64"
      ]
     },
     "execution_count": 22,
     "metadata": {},
     "output_type": "execute_result"
    }
   ],
   "source": [
    "top10.tail()"
   ]
  },
  {
   "cell_type": "code",
   "execution_count": 23,
   "id": "66931afe",
   "metadata": {},
   "outputs": [],
   "source": [
    "top10_roll = top10.rolling(5, min_periods=1).mean()"
   ]
  },
  {
   "cell_type": "code",
   "execution_count": 24,
   "id": "ab1a0952",
   "metadata": {},
   "outputs": [
    {
     "data": {
      "text/plain": [
       "title_year\n",
       "2012.0    192.9\n",
       "2013.0    195.9\n",
       "2014.0    191.7\n",
       "2015.0    186.8\n",
       "2016.0    189.1\n",
       "Name: budget, dtype: float64"
      ]
     },
     "execution_count": 24,
     "metadata": {},
     "output_type": "execute_result"
    }
   ],
   "source": [
    "top10_roll.tail()"
   ]
  },
  {
   "cell_type": "code",
   "execution_count": 25,
   "id": "82bab645",
   "metadata": {},
   "outputs": [
    {
     "data": {
      "image/png": "[encoded data removed]",
      "text/plain": [
       "<Figure size 1008x576 with 2 Axes>"
      ]
     },
     "metadata": {
      "needs_background": "light"
     },
     "output_type": "display_data"
    }
   ],
   "source": [
    "fig2 , axes = plt.subplots(2, 1, figsize=(14, 8), sharex=True)\n",
    "ax1 = axes[0]\n",
    "ax2 = axes[1]"
   ]
  },
  {
   "cell_type": "code",
   "execution_count": 26,
   "id": "7d5dd088",
   "metadata": {},
   "outputs": [
    {
     "data": {
      "text/plain": [
       "[<matplotlib.lines.Line2D at 0x7ff858fc8910>]"
      ]
     },
     "execution_count": 26,
     "metadata": {},
     "output_type": "execute_result"
    }
   ],
   "source": [
    "ax1.plot(years, budget, \n",
    "         linestyle='--', linewidth=3, color='.2',\n",
    "         label='All Movies')"
   ]
  },
  {
   "cell_type": "code",
   "execution_count": 27,
   "id": "0a1fa9c8",
   "metadata": {},
   "outputs": [
    {
     "data": {
      "text/plain": [
       "<BarContainer object of 10 artists>"
      ]
     },
     "execution_count": 27,
     "metadata": {},
     "output_type": "execute_result"
    }
   ],
   "source": [
    "ax1.bar(years_5, ct_norm_5, 3,\n",
    "        facecolor='.5', alpha=.3,\n",
    "        label='Movies per Year')"
   ]
  },
  {
   "cell_type": "code",
   "execution_count": 28,
   "id": "f70d8540",
   "metadata": {},
   "outputs": [
    {
     "data": {
      "text/plain": [
       "<matplotlib.legend.Legend at 0x7ff858fd1c40>"
      ]
     },
     "execution_count": 28,
     "metadata": {},
     "output_type": "execute_result"
    }
   ],
   "source": [
    "ax1.legend(loc='upper left')"
   ]
  },
  {
   "cell_type": "code",
   "execution_count": 29,
   "id": "84f40273",
   "metadata": {},
   "outputs": [
    {
     "data": {
      "text/plain": [
       "(1968.0, 2017.0)"
      ]
     },
     "execution_count": 29,
     "metadata": {},
     "output_type": "execute_result"
    }
   ],
   "source": [
    "ax1.set_xlim(1968, 2017)"
   ]
  },
  {
   "cell_type": "code",
   "execution_count": 30,
   "id": "65c6eefb",
   "metadata": {},
   "outputs": [],
   "source": [
    "plt = plt.setp(ax1.get_xticklines(), visible=False)"
   ]
  },
  {
   "cell_type": "code",
   "execution_count": 31,
   "id": "9974d48d",
   "metadata": {},
   "outputs": [],
   "source": [
    "for x, y, v in zip(years_5, ct_norm_5, ct_5):\n",
    "    ax1.text(x, y + .5, str(v), ha='center')"
   ]
  },
  {
   "cell_type": "code",
   "execution_count": 32,
   "id": "e7d7bcd9",
   "metadata": {},
   "outputs": [
    {
     "data": {
      "text/plain": [
       "[<matplotlib.lines.Line2D at 0x7ff83a676820>]"
      ]
     },
     "execution_count": 32,
     "metadata": {},
     "output_type": "execute_result"
    }
   ],
   "source": [
    "ax2.plot(years, top10_roll.values, \n",
    "         color='.2',\n",
    "         label='Top 10 Movies')"
   ]
  },
  {
   "cell_type": "code",
   "execution_count": 33,
   "id": "f55b2abd",
   "metadata": {},
   "outputs": [
    {
     "data": {
      "text/plain": [
       "<matplotlib.legend.Legend at 0x7ff83a66c310>"
      ]
     },
     "execution_count": 33,
     "metadata": {},
     "output_type": "execute_result"
    }
   ],
   "source": [
    "ax2.legend(loc='upper left')"
   ]
  },
  {
   "cell_type": "code",
   "execution_count": 34,
   "id": "0fc68913",
   "metadata": {},
   "outputs": [
    {
     "data": {
      "text/plain": [
       "Text(0, 0.6, 'Millions of Dollars')"
      ]
     },
     "execution_count": 34,
     "metadata": {},
     "output_type": "execute_result"
    }
   ],
   "source": [
    "fig2.tight_layout()\n",
    "fig2.suptitle('Median Movie Budget', y=1.02, **text_kwargs)\n",
    "fig2.text(0, .6, \n",
    "          'Millions of Dollars', \n",
    "          rotation='vertical', ha='center',\n",
    "          **text_kwargs)"
   ]
  },
  {
   "cell_type": "code",
   "execution_count": 35,
   "id": "e2d6a789",
   "metadata": {},
   "outputs": [
    {
     "data": {
      "image/png": "[encoded data removed]",
      "text/plain": [
       "<Figure size 1008x576 with 2 Axes>"
      ]
     },
     "execution_count": 35,
     "metadata": {},
     "output_type": "execute_result"
    }
   ],
   "source": [
    "fig2"
   ]
  },
  {
   "cell_type": "code",
   "execution_count": 36,
   "id": "3c91cd42",
   "metadata": {},
   "outputs": [],
   "source": [
    "path = os.path.expanduser('movie_budget.png')\n",
    "fig2.savefig(path, bbox_inches='tight')"
   ]
  }
 ],
 "metadata": {
  "kernelspec": {
   "display_name": "Python 3",
   "language": "python",
   "name": "python3"
  },
  "language_info": {
   "codemirror_mode": {
    "name": "ipython",
    "version": 3
   },
   "file_extension": ".py",
   "mimetype": "text/x-python",
   "name": "python",
   "nbconvert_exporter": "python",
   "pygments_lexer": "ipython3",
   "version": "3.8.5"
  }
 },
 "nbformat": 4,
 "nbformat_minor": 5
}
