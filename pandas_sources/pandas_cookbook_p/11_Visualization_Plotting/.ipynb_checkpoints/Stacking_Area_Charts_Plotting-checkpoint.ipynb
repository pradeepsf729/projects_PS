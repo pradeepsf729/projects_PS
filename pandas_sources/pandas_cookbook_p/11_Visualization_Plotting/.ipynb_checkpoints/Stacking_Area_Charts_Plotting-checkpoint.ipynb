{
 "cells": [
  {
   "cell_type": "code",
   "execution_count": 1,
   "id": "ccf4a846",
   "metadata": {},
   "outputs": [],
   "source": [
    "import pandas as pd\n",
    "import numpy as np\n",
    "import matplotlib.pyplot as plt"
   ]
  },
  {
   "cell_type": "code",
   "execution_count": 2,
   "id": "418bab0f",
   "metadata": {},
   "outputs": [],
   "source": [
    "meetup = pd.read_csv('data/meetup_groups.csv', parse_dates=['join_date'], index_col='join_date')"
   ]
  },
  {
   "cell_type": "code",
   "execution_count": 3,
   "id": "b62006ad",
   "metadata": {},
   "outputs": [
    {
     "data": {
      "text/html": [
       "<div>\n",
       "<style scoped>\n",
       "    .dataframe tbody tr th:only-of-type {\n",
       "        vertical-align: middle;\n",
       "    }\n",
       "\n",
       "    .dataframe tbody tr th {\n",
       "        vertical-align: top;\n",
       "    }\n",
       "\n",
       "    .dataframe thead th {\n",
       "        text-align: right;\n",
       "    }\n",
       "</style>\n",
       "<table border=\"1\" class=\"dataframe\">\n",
       "  <thead>\n",
       "    <tr style=\"text-align: right;\">\n",
       "      <th></th>\n",
       "      <th>group</th>\n",
       "      <th>city</th>\n",
       "      <th>state</th>\n",
       "      <th>country</th>\n",
       "    </tr>\n",
       "    <tr>\n",
       "      <th>join_date</th>\n",
       "      <th></th>\n",
       "      <th></th>\n",
       "      <th></th>\n",
       "      <th></th>\n",
       "    </tr>\n",
       "  </thead>\n",
       "  <tbody>\n",
       "    <tr>\n",
       "      <th>2016-11-18 02:41:29</th>\n",
       "      <td>houston machine learning</td>\n",
       "      <td>Houston</td>\n",
       "      <td>TX</td>\n",
       "      <td>us</td>\n",
       "    </tr>\n",
       "    <tr>\n",
       "      <th>2017-05-09 14:16:37</th>\n",
       "      <td>houston machine learning</td>\n",
       "      <td>Houston</td>\n",
       "      <td>TX</td>\n",
       "      <td>us</td>\n",
       "    </tr>\n",
       "    <tr>\n",
       "      <th>2016-12-30 02:34:16</th>\n",
       "      <td>houston machine learning</td>\n",
       "      <td>Houston</td>\n",
       "      <td>TX</td>\n",
       "      <td>us</td>\n",
       "    </tr>\n",
       "    <tr>\n",
       "      <th>2016-07-18 00:48:17</th>\n",
       "      <td>houston machine learning</td>\n",
       "      <td>Houston</td>\n",
       "      <td>TX</td>\n",
       "      <td>us</td>\n",
       "    </tr>\n",
       "    <tr>\n",
       "      <th>2017-05-25 12:58:16</th>\n",
       "      <td>houston machine learning</td>\n",
       "      <td>Houston</td>\n",
       "      <td>TX</td>\n",
       "      <td>us</td>\n",
       "    </tr>\n",
       "  </tbody>\n",
       "</table>\n",
       "</div>"
      ],
      "text/plain": [
       "                                        group     city state country\n",
       "join_date                                                           \n",
       "2016-11-18 02:41:29  houston machine learning  Houston    TX      us\n",
       "2017-05-09 14:16:37  houston machine learning  Houston    TX      us\n",
       "2016-12-30 02:34:16  houston machine learning  Houston    TX      us\n",
       "2016-07-18 00:48:17  houston machine learning  Houston    TX      us\n",
       "2017-05-25 12:58:16  houston machine learning  Houston    TX      us"
      ]
     },
     "execution_count": 3,
     "metadata": {},
     "output_type": "execute_result"
    }
   ],
   "source": [
    "meetup.head(5)"
   ]
  },
  {
   "cell_type": "code",
   "execution_count": 4,
   "id": "c41a8b26",
   "metadata": {},
   "outputs": [
    {
     "data": {
      "text/plain": [
       "pandas.core.indexes.datetimes.DatetimeIndex"
      ]
     },
     "execution_count": 4,
     "metadata": {},
     "output_type": "execute_result"
    }
   ],
   "source": [
    "type(meetup.index)"
   ]
  },
  {
   "cell_type": "code",
   "execution_count": 5,
   "id": "06fba34b",
   "metadata": {},
   "outputs": [
    {
     "data": {
      "text/plain": [
       "houston data science            2180\n",
       "houston energy data science     1927\n",
       "houston data visualization      1741\n",
       "houstonr                        1068\n",
       "houston machine learning         755\n",
       "Name: group, dtype: int64"
      ]
     },
     "execution_count": 5,
     "metadata": {},
     "output_type": "execute_result"
    }
   ],
   "source": [
    "meetup['group'].value_counts()"
   ]
  },
  {
   "cell_type": "code",
   "execution_count": 6,
   "id": "d7153a3f",
   "metadata": {},
   "outputs": [],
   "source": [
    "group_count = meetup.groupby([pd.Grouper(freq='W'), 'group']).size()"
   ]
  },
  {
   "cell_type": "code",
   "execution_count": 7,
   "id": "94bd4254",
   "metadata": {},
   "outputs": [
    {
     "data": {
      "text/plain": [
       "join_date   group   \n",
       "2010-11-07  houstonr     5\n",
       "2010-11-14  houstonr    11\n",
       "2010-11-21  houstonr     2\n",
       "2010-12-05  houstonr     1\n",
       "2011-01-16  houstonr     2\n",
       "dtype: int64"
      ]
     },
     "execution_count": 7,
     "metadata": {},
     "output_type": "execute_result"
    }
   ],
   "source": [
    "group_count.head()"
   ]
  },
  {
   "cell_type": "code",
   "execution_count": 8,
   "id": "6159280d",
   "metadata": {},
   "outputs": [],
   "source": [
    "gc2 = group_count.unstack('group', fill_value=0)"
   ]
  },
  {
   "cell_type": "code",
   "execution_count": 9,
   "id": "6220dc68",
   "metadata": {},
   "outputs": [
    {
     "data": {
      "text/html": [
       "<div>\n",
       "<style scoped>\n",
       "    .dataframe tbody tr th:only-of-type {\n",
       "        vertical-align: middle;\n",
       "    }\n",
       "\n",
       "    .dataframe tbody tr th {\n",
       "        vertical-align: top;\n",
       "    }\n",
       "\n",
       "    .dataframe thead th {\n",
       "        text-align: right;\n",
       "    }\n",
       "</style>\n",
       "<table border=\"1\" class=\"dataframe\">\n",
       "  <thead>\n",
       "    <tr style=\"text-align: right;\">\n",
       "      <th>group</th>\n",
       "      <th>houston data science</th>\n",
       "      <th>houston data visualization</th>\n",
       "      <th>houston energy data science</th>\n",
       "      <th>houston machine learning</th>\n",
       "      <th>houstonr</th>\n",
       "    </tr>\n",
       "    <tr>\n",
       "      <th>join_date</th>\n",
       "      <th></th>\n",
       "      <th></th>\n",
       "      <th></th>\n",
       "      <th></th>\n",
       "      <th></th>\n",
       "    </tr>\n",
       "  </thead>\n",
       "  <tbody>\n",
       "    <tr>\n",
       "      <th>2017-09-17</th>\n",
       "      <td>16</td>\n",
       "      <td>2</td>\n",
       "      <td>6</td>\n",
       "      <td>5</td>\n",
       "      <td>0</td>\n",
       "    </tr>\n",
       "    <tr>\n",
       "      <th>2017-09-24</th>\n",
       "      <td>19</td>\n",
       "      <td>4</td>\n",
       "      <td>16</td>\n",
       "      <td>12</td>\n",
       "      <td>7</td>\n",
       "    </tr>\n",
       "    <tr>\n",
       "      <th>2017-10-01</th>\n",
       "      <td>20</td>\n",
       "      <td>6</td>\n",
       "      <td>6</td>\n",
       "      <td>20</td>\n",
       "      <td>1</td>\n",
       "    </tr>\n",
       "    <tr>\n",
       "      <th>2017-10-08</th>\n",
       "      <td>22</td>\n",
       "      <td>10</td>\n",
       "      <td>10</td>\n",
       "      <td>4</td>\n",
       "      <td>2</td>\n",
       "    </tr>\n",
       "    <tr>\n",
       "      <th>2017-10-15</th>\n",
       "      <td>14</td>\n",
       "      <td>13</td>\n",
       "      <td>9</td>\n",
       "      <td>11</td>\n",
       "      <td>2</td>\n",
       "    </tr>\n",
       "  </tbody>\n",
       "</table>\n",
       "</div>"
      ],
      "text/plain": [
       "group       houston data science  houston data visualization   \\\n",
       "join_date                                                       \n",
       "2017-09-17                    16                            2   \n",
       "2017-09-24                    19                            4   \n",
       "2017-10-01                    20                            6   \n",
       "2017-10-08                    22                           10   \n",
       "2017-10-15                    14                           13   \n",
       "\n",
       "group       houston energy data science   houston machine learning  houstonr  \n",
       "join_date                                                                     \n",
       "2017-09-17                             6                         5         0  \n",
       "2017-09-24                            16                        12         7  \n",
       "2017-10-01                             6                        20         1  \n",
       "2017-10-08                            10                         4         2  \n",
       "2017-10-15                             9                        11         2  "
      ]
     },
     "execution_count": 9,
     "metadata": {},
     "output_type": "execute_result"
    }
   ],
   "source": [
    "gc2.tail(5)"
   ]
  },
  {
   "cell_type": "code",
   "execution_count": 10,
   "id": "1e11edd8",
   "metadata": {},
   "outputs": [],
   "source": [
    "group_total = gc2.cumsum()"
   ]
  },
  {
   "cell_type": "code",
   "execution_count": 11,
   "id": "780eb734",
   "metadata": {},
   "outputs": [
    {
     "data": {
      "text/html": [
       "<div>\n",
       "<style scoped>\n",
       "    .dataframe tbody tr th:only-of-type {\n",
       "        vertical-align: middle;\n",
       "    }\n",
       "\n",
       "    .dataframe tbody tr th {\n",
       "        vertical-align: top;\n",
       "    }\n",
       "\n",
       "    .dataframe thead th {\n",
       "        text-align: right;\n",
       "    }\n",
       "</style>\n",
       "<table border=\"1\" class=\"dataframe\">\n",
       "  <thead>\n",
       "    <tr style=\"text-align: right;\">\n",
       "      <th>group</th>\n",
       "      <th>houston data science</th>\n",
       "      <th>houston data visualization</th>\n",
       "      <th>houston energy data science</th>\n",
       "      <th>houston machine learning</th>\n",
       "      <th>houstonr</th>\n",
       "    </tr>\n",
       "    <tr>\n",
       "      <th>join_date</th>\n",
       "      <th></th>\n",
       "      <th></th>\n",
       "      <th></th>\n",
       "      <th></th>\n",
       "      <th></th>\n",
       "    </tr>\n",
       "  </thead>\n",
       "  <tbody>\n",
       "    <tr>\n",
       "      <th>2017-09-17</th>\n",
       "      <td>2105</td>\n",
       "      <td>1708</td>\n",
       "      <td>1886</td>\n",
       "      <td>708</td>\n",
       "      <td>1056</td>\n",
       "    </tr>\n",
       "    <tr>\n",
       "      <th>2017-09-24</th>\n",
       "      <td>2124</td>\n",
       "      <td>1712</td>\n",
       "      <td>1902</td>\n",
       "      <td>720</td>\n",
       "      <td>1063</td>\n",
       "    </tr>\n",
       "    <tr>\n",
       "      <th>2017-10-01</th>\n",
       "      <td>2144</td>\n",
       "      <td>1718</td>\n",
       "      <td>1908</td>\n",
       "      <td>740</td>\n",
       "      <td>1064</td>\n",
       "    </tr>\n",
       "    <tr>\n",
       "      <th>2017-10-08</th>\n",
       "      <td>2166</td>\n",
       "      <td>1728</td>\n",
       "      <td>1918</td>\n",
       "      <td>744</td>\n",
       "      <td>1066</td>\n",
       "    </tr>\n",
       "    <tr>\n",
       "      <th>2017-10-15</th>\n",
       "      <td>2180</td>\n",
       "      <td>1741</td>\n",
       "      <td>1927</td>\n",
       "      <td>755</td>\n",
       "      <td>1068</td>\n",
       "    </tr>\n",
       "  </tbody>\n",
       "</table>\n",
       "</div>"
      ],
      "text/plain": [
       "group       houston data science  houston data visualization   \\\n",
       "join_date                                                       \n",
       "2017-09-17                  2105                         1708   \n",
       "2017-09-24                  2124                         1712   \n",
       "2017-10-01                  2144                         1718   \n",
       "2017-10-08                  2166                         1728   \n",
       "2017-10-15                  2180                         1741   \n",
       "\n",
       "group       houston energy data science   houston machine learning  houstonr  \n",
       "join_date                                                                     \n",
       "2017-09-17                          1886                       708      1056  \n",
       "2017-09-24                          1902                       720      1063  \n",
       "2017-10-01                          1908                       740      1064  \n",
       "2017-10-08                          1918                       744      1066  \n",
       "2017-10-15                          1927                       755      1068  "
      ]
     },
     "execution_count": 11,
     "metadata": {},
     "output_type": "execute_result"
    }
   ],
   "source": [
    "group_total.tail()"
   ]
  },
  {
   "cell_type": "code",
   "execution_count": 12,
   "id": "e7de29d3",
   "metadata": {},
   "outputs": [
    {
     "data": {
      "text/html": [
       "<div>\n",
       "<style scoped>\n",
       "    .dataframe tbody tr th:only-of-type {\n",
       "        vertical-align: middle;\n",
       "    }\n",
       "\n",
       "    .dataframe tbody tr th {\n",
       "        vertical-align: top;\n",
       "    }\n",
       "\n",
       "    .dataframe thead th {\n",
       "        text-align: right;\n",
       "    }\n",
       "</style>\n",
       "<table border=\"1\" class=\"dataframe\">\n",
       "  <thead>\n",
       "    <tr style=\"text-align: right;\">\n",
       "      <th>group</th>\n",
       "      <th>houston data science</th>\n",
       "      <th>houston data visualization</th>\n",
       "      <th>houston energy data science</th>\n",
       "      <th>houston machine learning</th>\n",
       "      <th>houstonr</th>\n",
       "    </tr>\n",
       "    <tr>\n",
       "      <th>join_date</th>\n",
       "      <th></th>\n",
       "      <th></th>\n",
       "      <th></th>\n",
       "      <th></th>\n",
       "      <th></th>\n",
       "    </tr>\n",
       "  </thead>\n",
       "  <tbody>\n",
       "    <tr>\n",
       "      <th>2017-09-17</th>\n",
       "      <td>0.282058</td>\n",
       "      <td>0.228862</td>\n",
       "      <td>0.252713</td>\n",
       "      <td>0.094868</td>\n",
       "      <td>0.141498</td>\n",
       "    </tr>\n",
       "    <tr>\n",
       "      <th>2017-09-24</th>\n",
       "      <td>0.282409</td>\n",
       "      <td>0.227629</td>\n",
       "      <td>0.252892</td>\n",
       "      <td>0.095732</td>\n",
       "      <td>0.141338</td>\n",
       "    </tr>\n",
       "    <tr>\n",
       "      <th>2017-10-01</th>\n",
       "      <td>0.283074</td>\n",
       "      <td>0.226829</td>\n",
       "      <td>0.251914</td>\n",
       "      <td>0.097703</td>\n",
       "      <td>0.140481</td>\n",
       "    </tr>\n",
       "    <tr>\n",
       "      <th>2017-10-08</th>\n",
       "      <td>0.284177</td>\n",
       "      <td>0.226712</td>\n",
       "      <td>0.251640</td>\n",
       "      <td>0.097612</td>\n",
       "      <td>0.139858</td>\n",
       "    </tr>\n",
       "    <tr>\n",
       "      <th>2017-10-15</th>\n",
       "      <td>0.284187</td>\n",
       "      <td>0.226959</td>\n",
       "      <td>0.251206</td>\n",
       "      <td>0.098423</td>\n",
       "      <td>0.139226</td>\n",
       "    </tr>\n",
       "  </tbody>\n",
       "</table>\n",
       "</div>"
      ],
      "text/plain": [
       "group       houston data science  houston data visualization   \\\n",
       "join_date                                                       \n",
       "2017-09-17              0.282058                     0.228862   \n",
       "2017-09-24              0.282409                     0.227629   \n",
       "2017-10-01              0.283074                     0.226829   \n",
       "2017-10-08              0.284177                     0.226712   \n",
       "2017-10-15              0.284187                     0.226959   \n",
       "\n",
       "group       houston energy data science   houston machine learning  houstonr  \n",
       "join_date                                                                     \n",
       "2017-09-17                      0.252713                  0.094868  0.141498  \n",
       "2017-09-24                      0.252892                  0.095732  0.141338  \n",
       "2017-10-01                      0.251914                  0.097703  0.140481  \n",
       "2017-10-08                      0.251640                  0.097612  0.139858  \n",
       "2017-10-15                      0.251206                  0.098423  0.139226  "
      ]
     },
     "execution_count": 12,
     "metadata": {},
     "output_type": "execute_result"
    }
   ],
   "source": [
    "row_total = group_total.sum(axis='columns')\n",
    "group_cum_pct = group_total.div(row_total, axis='index')\n",
    "group_cum_pct.tail()"
   ]
  },
  {
   "cell_type": "code",
   "execution_count": 13,
   "id": "dd3546b8",
   "metadata": {},
   "outputs": [
    {
     "data": {
      "text/plain": [
       "Text(0.86, 0.78, 'Machine Learning')"
      ]
     },
     "execution_count": 13,
     "metadata": {},
     "output_type": "execute_result"
    },
    {
     "data": {
      "image/png": "[encoded data removed]",
      "text/plain": [
       "<Figure size 1296x288 with 1 Axes>"
      ]
     },
     "metadata": {
      "needs_background": "light"
     },
     "output_type": "display_data"
    }
   ],
   "source": [
    "ax = group_cum_pct.plot(kind='area', figsize=(18,4),cmap='Greys',\n",
    "                        xlim=('2013-6', None), ylim=(0, 1),\n",
    "                        legend=False)\n",
    "\n",
    "ax.figure.suptitle('Houston Meetup Groups', size=25)\n",
    "\n",
    "ax.set_xlabel('')\n",
    "\n",
    "ax.yaxis.tick_right()\n",
    "\n",
    "plot_kwargs = dict(xycoords='axes fraction', size=15)\n",
    "ax.annotate(xy=(.1, .7), text='R Users', color='w', **plot_kwargs)\n",
    "ax.annotate(xy=(.25, .16), text='Data Visualization', color='k', **plot_kwargs)\n",
    "ax.annotate(xy=(.5, .55), text='Energy Data Science', color='k', **plot_kwargs)\n",
    "ax.annotate(xy=(.83, .07), text='Data Science', color='k', **plot_kwargs)\n",
    "ax.annotate(xy=(.86, .78), text='Machine Learning', color='w', **plot_kwargs)"
   ]
  },
  {
   "cell_type": "markdown",
   "id": "b59a26a9",
   "metadata": {},
   "source": [
    "### plotting pie chart for montly joiners to the group"
   ]
  },
  {
   "cell_type": "code",
   "execution_count": 14,
   "id": "b75fca3f",
   "metadata": {},
   "outputs": [
    {
     "data": {
      "text/html": [
       "<div>\n",
       "<style scoped>\n",
       "    .dataframe tbody tr th:only-of-type {\n",
       "        vertical-align: middle;\n",
       "    }\n",
       "\n",
       "    .dataframe tbody tr th {\n",
       "        vertical-align: top;\n",
       "    }\n",
       "\n",
       "    .dataframe thead th {\n",
       "        text-align: right;\n",
       "    }\n",
       "</style>\n",
       "<table border=\"1\" class=\"dataframe\">\n",
       "  <thead>\n",
       "    <tr style=\"text-align: right;\">\n",
       "      <th>group</th>\n",
       "      <th>houston data science</th>\n",
       "      <th>houston data visualization</th>\n",
       "      <th>houston energy data science</th>\n",
       "      <th>houston machine learning</th>\n",
       "      <th>houstonr</th>\n",
       "    </tr>\n",
       "    <tr>\n",
       "      <th>join_date</th>\n",
       "      <th></th>\n",
       "      <th></th>\n",
       "      <th></th>\n",
       "      <th></th>\n",
       "      <th></th>\n",
       "    </tr>\n",
       "  </thead>\n",
       "  <tbody>\n",
       "    <tr>\n",
       "      <th>2016-06</th>\n",
       "      <td>0.016949</td>\n",
       "      <td>0.337827</td>\n",
       "      <td>0.416025</td>\n",
       "      <td>0.000000</td>\n",
       "      <td>0.229199</td>\n",
       "    </tr>\n",
       "    <tr>\n",
       "      <th>2016-09</th>\n",
       "      <td>0.110375</td>\n",
       "      <td>0.306052</td>\n",
       "      <td>0.354467</td>\n",
       "      <td>0.037176</td>\n",
       "      <td>0.191931</td>\n",
       "    </tr>\n",
       "    <tr>\n",
       "      <th>2016-12</th>\n",
       "      <td>0.171245</td>\n",
       "      <td>0.277244</td>\n",
       "      <td>0.312271</td>\n",
       "      <td>0.051969</td>\n",
       "      <td>0.187271</td>\n",
       "    </tr>\n",
       "    <tr>\n",
       "      <th>2017-03</th>\n",
       "      <td>0.212289</td>\n",
       "      <td>0.261103</td>\n",
       "      <td>0.288859</td>\n",
       "      <td>0.071593</td>\n",
       "      <td>0.166156</td>\n",
       "    </tr>\n",
       "    <tr>\n",
       "      <th>2017-06</th>\n",
       "      <td>0.244033</td>\n",
       "      <td>0.242085</td>\n",
       "      <td>0.267576</td>\n",
       "      <td>0.087839</td>\n",
       "      <td>0.158467</td>\n",
       "    </tr>\n",
       "    <tr>\n",
       "      <th>2017-09</th>\n",
       "      <td>0.280162</td>\n",
       "      <td>0.230332</td>\n",
       "      <td>0.253758</td>\n",
       "      <td>0.093026</td>\n",
       "      <td>0.142722</td>\n",
       "    </tr>\n",
       "  </tbody>\n",
       "</table>\n",
       "</div>"
      ],
      "text/plain": [
       "group      houston data science  houston data visualization   \\\n",
       "join_date                                                      \n",
       "2016-06                0.016949                     0.337827   \n",
       "2016-09                0.110375                     0.306052   \n",
       "2016-12                0.171245                     0.277244   \n",
       "2017-03                0.212289                     0.261103   \n",
       "2017-06                0.244033                     0.242085   \n",
       "2017-09                0.280162                     0.230332   \n",
       "\n",
       "group      houston energy data science   houston machine learning  houstonr  \n",
       "join_date                                                                    \n",
       "2016-06                        0.416025                  0.000000  0.229199  \n",
       "2016-09                        0.354467                  0.037176  0.191931  \n",
       "2016-12                        0.312271                  0.051969  0.187271  \n",
       "2017-03                        0.288859                  0.071593  0.166156  \n",
       "2017-06                        0.267576                  0.087839  0.158467  \n",
       "2017-09                        0.253758                  0.093026  0.142722  "
      ]
     },
     "execution_count": 14,
     "metadata": {},
     "output_type": "execute_result"
    }
   ],
   "source": [
    "group_cum_pct.asfreq('3MS', method='bfill').tail(6).to_period('M')"
   ]
  },
  {
   "cell_type": "code",
   "execution_count": 15,
   "id": "188cd1de",
   "metadata": {},
   "outputs": [],
   "source": [
    "monthly_data = group_cum_pct.asfreq('3MS', method='bfill').tail(6).to_period('M').T"
   ]
  },
  {
   "cell_type": "code",
   "execution_count": 16,
   "id": "c436eec9",
   "metadata": {},
   "outputs": [
    {
     "data": {
      "text/html": [
       "<div>\n",
       "<style scoped>\n",
       "    .dataframe tbody tr th:only-of-type {\n",
       "        vertical-align: middle;\n",
       "    }\n",
       "\n",
       "    .dataframe tbody tr th {\n",
       "        vertical-align: top;\n",
       "    }\n",
       "\n",
       "    .dataframe thead th {\n",
       "        text-align: right;\n",
       "    }\n",
       "</style>\n",
       "<table border=\"1\" class=\"dataframe\">\n",
       "  <thead>\n",
       "    <tr style=\"text-align: right;\">\n",
       "      <th>join_date</th>\n",
       "      <th>2016-06</th>\n",
       "      <th>2016-09</th>\n",
       "      <th>2016-12</th>\n",
       "      <th>2017-03</th>\n",
       "      <th>2017-06</th>\n",
       "      <th>2017-09</th>\n",
       "    </tr>\n",
       "    <tr>\n",
       "      <th>group</th>\n",
       "      <th></th>\n",
       "      <th></th>\n",
       "      <th></th>\n",
       "      <th></th>\n",
       "      <th></th>\n",
       "      <th></th>\n",
       "    </tr>\n",
       "  </thead>\n",
       "  <tbody>\n",
       "    <tr>\n",
       "      <th>houston data science</th>\n",
       "      <td>0.016949</td>\n",
       "      <td>0.110375</td>\n",
       "      <td>0.171245</td>\n",
       "      <td>0.212289</td>\n",
       "      <td>0.244033</td>\n",
       "      <td>0.280162</td>\n",
       "    </tr>\n",
       "    <tr>\n",
       "      <th>houston data visualization</th>\n",
       "      <td>0.337827</td>\n",
       "      <td>0.306052</td>\n",
       "      <td>0.277244</td>\n",
       "      <td>0.261103</td>\n",
       "      <td>0.242085</td>\n",
       "      <td>0.230332</td>\n",
       "    </tr>\n",
       "    <tr>\n",
       "      <th>houston energy data science</th>\n",
       "      <td>0.416025</td>\n",
       "      <td>0.354467</td>\n",
       "      <td>0.312271</td>\n",
       "      <td>0.288859</td>\n",
       "      <td>0.267576</td>\n",
       "      <td>0.253758</td>\n",
       "    </tr>\n",
       "    <tr>\n",
       "      <th>houston machine learning</th>\n",
       "      <td>0.000000</td>\n",
       "      <td>0.037176</td>\n",
       "      <td>0.051969</td>\n",
       "      <td>0.071593</td>\n",
       "      <td>0.087839</td>\n",
       "      <td>0.093026</td>\n",
       "    </tr>\n",
       "    <tr>\n",
       "      <th>houstonr</th>\n",
       "      <td>0.229199</td>\n",
       "      <td>0.191931</td>\n",
       "      <td>0.187271</td>\n",
       "      <td>0.166156</td>\n",
       "      <td>0.158467</td>\n",
       "      <td>0.142722</td>\n",
       "    </tr>\n",
       "  </tbody>\n",
       "</table>\n",
       "</div>"
      ],
      "text/plain": [
       "join_date                      2016-06   2016-09   2016-12   2017-03  \\\n",
       "group                                                                  \n",
       "houston data science          0.016949  0.110375  0.171245  0.212289   \n",
       "houston data visualization    0.337827  0.306052  0.277244  0.261103   \n",
       "houston energy data science   0.416025  0.354467  0.312271  0.288859   \n",
       "houston machine learning      0.000000  0.037176  0.051969  0.071593   \n",
       "houstonr                      0.229199  0.191931  0.187271  0.166156   \n",
       "\n",
       "join_date                      2017-06   2017-09  \n",
       "group                                             \n",
       "houston data science          0.244033  0.280162  \n",
       "houston data visualization    0.242085  0.230332  \n",
       "houston energy data science   0.267576  0.253758  \n",
       "houston machine learning      0.087839  0.093026  \n",
       "houstonr                      0.158467  0.142722  "
      ]
     },
     "execution_count": 16,
     "metadata": {},
     "output_type": "execute_result"
    }
   ],
   "source": [
    "monthly_data  # transpose it, so we get for each month in columns"
   ]
  },
  {
   "cell_type": "code",
   "execution_count": 17,
   "id": "309ebe36",
   "metadata": {},
   "outputs": [],
   "source": [
    "from matplotlib.cm import Greys\n",
    "greys = Greys(np.arange(50,250,40))"
   ]
  },
  {
   "cell_type": "code",
   "execution_count": 18,
   "id": "d5ce64e8",
   "metadata": {},
   "outputs": [
    {
     "name": "stderr",
     "output_type": "stream",
     "text": [
      "No handles with labels found to put in legend.\n",
      "No handles with labels found to put in legend.\n",
      "No handles with labels found to put in legend.\n",
      "No handles with labels found to put in legend.\n",
      "No handles with labels found to put in legend.\n",
      "No handles with labels found to put in legend.\n"
     ]
    },
    {
     "data": {
      "image/png": "[encoded data removed]",
      "text/plain": [
       "<Figure size 432x288 with 6 Axes>"
      ]
     },
     "metadata": {},
     "output_type": "display_data"
    }
   ],
   "source": [
    "ax_array = monthly_data.plot(kind='pie', \n",
    "                         subplots=True,layout=(2,3), labels=None,\n",
    "                         autopct='%1.0f%%', pctdistance=1.22,\n",
    "                         colors=greys, normalize=False)\n",
    "\n",
    "ax1 = ax_array[0, 0]\n",
    "\n",
    "ax1.figure.legend(ax1.patches, monthly_data.index, ncol=3)\n",
    "\n",
    "for ax in ax_array.flatten():\n",
    "    ax.xaxis.label.set_visible(True)        \n",
    "    ax.set_xlabel(ax.get_ylabel())        \n",
    "    ax.set_ylabel('')\n",
    "\n",
    "ax1.figure.subplots_adjust(hspace=.5)"
   ]
  },
  {
   "cell_type": "code",
   "execution_count": null,
   "id": "2532d67e",
   "metadata": {},
   "outputs": [],
   "source": []
  }
 ],
 "metadata": {
  "kernelspec": {
   "display_name": "Python 3",
   "language": "python",
   "name": "python3"
  },
  "language_info": {
   "codemirror_mode": {
    "name": "ipython",
    "version": 3
   },
   "file_extension": ".py",
   "mimetype": "text/x-python",
   "name": "python",
   "nbconvert_exporter": "python",
   "pygments_lexer": "ipython3",
   "version": "3.8.5"
  }
 },
 "nbformat": 4,
 "nbformat_minor": 5
}
