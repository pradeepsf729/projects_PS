{
 "cells": [
  {
   "cell_type": "code",
   "execution_count": 1,
   "id": "f86acee6",
   "metadata": {},
   "outputs": [],
   "source": [
    "import pandas as pd\n",
    "import numpy as np"
   ]
  },
  {
   "cell_type": "code",
   "execution_count": 2,
   "id": "ce70be41",
   "metadata": {},
   "outputs": [],
   "source": [
    "pd.set_option('max_columns', 8, 'max_rows', 20)\n",
    "from IPython.core.interactiveshell import InteractiveShell\n",
    "InteractiveShell.ast_node_interactivity = \"all\""
   ]
  },
  {
   "cell_type": "markdown",
   "id": "28fbc0e0",
   "metadata": {},
   "source": [
    "### Index Object"
   ]
  },
  {
   "cell_type": "code",
   "execution_count": 3,
   "id": "ca27f767",
   "metadata": {},
   "outputs": [],
   "source": [
    "college = pd.read_csv('data/college.csv')"
   ]
  },
  {
   "cell_type": "code",
   "execution_count": 4,
   "id": "0a5358de",
   "metadata": {},
   "outputs": [
    {
     "data": {
      "text/plain": [
       "Index(['INSTNM', 'CITY', 'STABBR', 'HBCU', 'MENONLY', 'WOMENONLY', 'RELAFFIL',\n",
       "       'SATVRMID', 'SATMTMID', 'DISTANCEONLY', 'UGDS', 'UGDS_WHITE',\n",
       "       'UGDS_BLACK', 'UGDS_HISP', 'UGDS_ASIAN', 'UGDS_AIAN', 'UGDS_NHPI',\n",
       "       'UGDS_2MOR', 'UGDS_NRA', 'UGDS_UNKN', 'PPTUG_EF', 'CURROPER', 'PCTPELL',\n",
       "       'PCTFLOAN', 'UG25ABV', 'MD_EARN_WNE_P10', 'GRAD_DEBT_MDN_SUPP'],\n",
       "      dtype='object')"
      ]
     },
     "execution_count": 4,
     "metadata": {},
     "output_type": "execute_result"
    }
   ],
   "source": [
    "columns = college.columns\n",
    "columns"
   ]
  },
  {
   "cell_type": "code",
   "execution_count": 5,
   "id": "78fb38d8",
   "metadata": {},
   "outputs": [
    {
     "data": {
      "text/plain": [
       "array(['INSTNM', 'CITY', 'STABBR', 'HBCU', 'MENONLY', 'WOMENONLY',\n",
       "       'RELAFFIL', 'SATVRMID', 'SATMTMID', 'DISTANCEONLY', 'UGDS',\n",
       "       'UGDS_WHITE', 'UGDS_BLACK', 'UGDS_HISP', 'UGDS_ASIAN', 'UGDS_AIAN',\n",
       "       'UGDS_NHPI', 'UGDS_2MOR', 'UGDS_NRA', 'UGDS_UNKN', 'PPTUG_EF',\n",
       "       'CURROPER', 'PCTPELL', 'PCTFLOAN', 'UG25ABV', 'MD_EARN_WNE_P10',\n",
       "       'GRAD_DEBT_MDN_SUPP'], dtype=object)"
      ]
     },
     "execution_count": 5,
     "metadata": {},
     "output_type": "execute_result"
    }
   ],
   "source": [
    "columns.values   # values are the nd.array with 1-dimension"
   ]
  },
  {
   "cell_type": "code",
   "execution_count": 6,
   "id": "f50ba5b5",
   "metadata": {},
   "outputs": [
    {
     "data": {
      "text/plain": [
       "'WOMENONLY'"
      ]
     },
     "execution_count": 6,
     "metadata": {},
     "output_type": "execute_result"
    }
   ],
   "source": [
    "columns[5]"
   ]
  },
  {
   "cell_type": "code",
   "execution_count": 7,
   "id": "3fd0e4a5",
   "metadata": {},
   "outputs": [
    {
     "data": {
      "text/plain": [
       "Index(['CITY', 'SATMTMID', 'WOMENONLY'], dtype='object')"
      ]
     },
     "execution_count": 7,
     "metadata": {},
     "output_type": "execute_result"
    }
   ],
   "source": [
    "columns[[1, 8, 5]]"
   ]
  },
  {
   "cell_type": "code",
   "execution_count": 8,
   "id": "2cdd139b",
   "metadata": {},
   "outputs": [
    {
     "data": {
      "text/plain": [
       "Index(['PPTUG_EF', 'CURROPER', 'PCTPELL'], dtype='object')"
      ]
     },
     "execution_count": 8,
     "metadata": {},
     "output_type": "execute_result"
    }
   ],
   "source": [
    "columns[-7:-4]"
   ]
  },
  {
   "cell_type": "code",
   "execution_count": 9,
   "id": "e858c303",
   "metadata": {},
   "outputs": [
    {
     "data": {
      "text/plain": [
       "('CITY', 'WOMENONLY')"
      ]
     },
     "execution_count": 9,
     "metadata": {},
     "output_type": "execute_result"
    }
   ],
   "source": [
    "columns.min(), columns.max()"
   ]
  },
  {
   "cell_type": "code",
   "execution_count": 10,
   "id": "0aecfe4a",
   "metadata": {},
   "outputs": [
    {
     "data": {
      "text/plain": [
       "0"
      ]
     },
     "execution_count": 10,
     "metadata": {},
     "output_type": "execute_result"
    }
   ],
   "source": [
    "columns.isnull().sum()"
   ]
  },
  {
   "cell_type": "code",
   "execution_count": 11,
   "id": "d34be71c",
   "metadata": {},
   "outputs": [
    {
     "data": {
      "text/plain": [
       "Index(['INSTNM_COL', 'CITY_COL', 'STABBR_COL', 'HBCU_COL', 'MENONLY_COL',\n",
       "       'WOMENONLY_COL', 'RELAFFIL_COL', 'SATVRMID_COL', 'SATMTMID_COL',\n",
       "       'DISTANCEONLY_COL', 'UGDS_COL', 'UGDS_WHITE_COL', 'UGDS_BLACK_COL',\n",
       "       'UGDS_HISP_COL', 'UGDS_ASIAN_COL', 'UGDS_AIAN_COL', 'UGDS_NHPI_COL',\n",
       "       'UGDS_2MOR_COL', 'UGDS_NRA_COL', 'UGDS_UNKN_COL', 'PPTUG_EF_COL',\n",
       "       'CURROPER_COL', 'PCTPELL_COL', 'PCTFLOAN_COL', 'UG25ABV_COL',\n",
       "       'MD_EARN_WNE_P10_COL', 'GRAD_DEBT_MDN_SUPP_COL'],\n",
       "      dtype='object')"
      ]
     },
     "execution_count": 11,
     "metadata": {},
     "output_type": "execute_result"
    }
   ],
   "source": [
    "columns + '_COL'"
   ]
  },
  {
   "cell_type": "markdown",
   "id": "0cd4171f",
   "metadata": {},
   "source": [
    "#### index are not mutable"
   ]
  },
  {
   "cell_type": "code",
   "execution_count": 12,
   "id": "0f2612a0",
   "metadata": {},
   "outputs": [],
   "source": [
    "# columns[1] = 'city'"
   ]
  },
  {
   "cell_type": "code",
   "execution_count": 13,
   "id": "779e2c1e",
   "metadata": {},
   "outputs": [
    {
     "data": {
      "text/plain": [
       "Index(['INSTNM', 'CITY', 'STABBR', 'HBCU'], dtype='object')"
      ]
     },
     "execution_count": 13,
     "metadata": {},
     "output_type": "execute_result"
    }
   ],
   "source": [
    "c1 = columns[:4]\n",
    "c1"
   ]
  },
  {
   "cell_type": "code",
   "execution_count": 14,
   "id": "8689850b",
   "metadata": {},
   "outputs": [
    {
     "data": {
      "text/plain": [
       "Index(['STABBR', 'HBCU', 'MENONLY', 'WOMENONLY'], dtype='object')"
      ]
     },
     "execution_count": 14,
     "metadata": {},
     "output_type": "execute_result"
    }
   ],
   "source": [
    "c2 = columns[2:6]\n",
    "c2"
   ]
  },
  {
   "cell_type": "code",
   "execution_count": 15,
   "id": "61dee764",
   "metadata": {},
   "outputs": [
    {
     "data": {
      "text/plain": [
       "Index(['CITY', 'HBCU', 'INSTNM', 'MENONLY', 'STABBR', 'WOMENONLY'], dtype='object')"
      ]
     },
     "execution_count": 15,
     "metadata": {},
     "output_type": "execute_result"
    }
   ],
   "source": [
    "c1.union(c2)"
   ]
  },
  {
   "cell_type": "code",
   "execution_count": 16,
   "id": "c113721e",
   "metadata": {},
   "outputs": [
    {
     "data": {
      "text/plain": [
       "Index(['STABBR', 'HBCU'], dtype='object')"
      ]
     },
     "execution_count": 16,
     "metadata": {},
     "output_type": "execute_result"
    }
   ],
   "source": [
    "c1.intersection(c2)"
   ]
  },
  {
   "cell_type": "code",
   "execution_count": 17,
   "id": "009e791f",
   "metadata": {},
   "outputs": [
    {
     "data": {
      "text/plain": [
       "Index(['CITY', 'INSTNM', 'MENONLY', 'WOMENONLY'], dtype='object')"
      ]
     },
     "execution_count": 17,
     "metadata": {},
     "output_type": "execute_result"
    }
   ],
   "source": [
    "c1.symmetric_difference(c2)"
   ]
  },
  {
   "cell_type": "code",
   "execution_count": 18,
   "id": "51db193e",
   "metadata": {},
   "outputs": [],
   "source": [
    "s1 = pd.Series(index=list('aaab'), data=np.arange(4))\n",
    "s2 = pd.Series(index=list('cababb'), data=np.arange(6))"
   ]
  },
  {
   "cell_type": "code",
   "execution_count": 19,
   "id": "46d3b90b",
   "metadata": {},
   "outputs": [
    {
     "data": {
      "text/plain": [
       "(a    0\n",
       " a    1\n",
       " a    2\n",
       " b    3\n",
       " dtype: int64,\n",
       " c    0\n",
       " a    1\n",
       " b    2\n",
       " a    3\n",
       " b    4\n",
       " b    5\n",
       " dtype: int64)"
      ]
     },
     "execution_count": 19,
     "metadata": {},
     "output_type": "execute_result"
    }
   ],
   "source": [
    "s1, s2"
   ]
  },
  {
   "cell_type": "code",
   "execution_count": 20,
   "id": "e9799a25",
   "metadata": {},
   "outputs": [
    {
     "data": {
      "text/plain": [
       "a    1.0\n",
       "a    3.0\n",
       "a    2.0\n",
       "a    4.0\n",
       "a    3.0\n",
       "a    5.0\n",
       "b    5.0\n",
       "b    7.0\n",
       "b    8.0\n",
       "c    NaN\n",
       "dtype: float64"
      ]
     },
     "execution_count": 20,
     "metadata": {},
     "output_type": "execute_result"
    }
   ],
   "source": [
    "s1 + s2"
   ]
  },
  {
   "cell_type": "code",
   "execution_count": 21,
   "id": "adfb125d",
   "metadata": {},
   "outputs": [],
   "source": [
    "### Adding series with same index"
   ]
  },
  {
   "cell_type": "code",
   "execution_count": 22,
   "id": "88e54d37",
   "metadata": {},
   "outputs": [],
   "source": [
    "s1 = pd.Series(index=list('aaabb'), data=np.arange(5))\n",
    "s2 = pd.Series(index=list('aaabb'), data=np.arange(5))"
   ]
  },
  {
   "cell_type": "code",
   "execution_count": 23,
   "id": "cfbaf122",
   "metadata": {},
   "outputs": [
    {
     "data": {
      "text/plain": [
       "a    0\n",
       "a    2\n",
       "a    4\n",
       "b    6\n",
       "b    8\n",
       "dtype: int64"
      ]
     },
     "execution_count": 23,
     "metadata": {},
     "output_type": "execute_result"
    }
   ],
   "source": [
    "s1 + s2"
   ]
  },
  {
   "cell_type": "code",
   "execution_count": 24,
   "id": "5c0e480d",
   "metadata": {},
   "outputs": [
    {
     "data": {
      "text/html": [
       "<div>\n",
       "<style scoped>\n",
       "    .dataframe tbody tr th:only-of-type {\n",
       "        vertical-align: middle;\n",
       "    }\n",
       "\n",
       "    .dataframe tbody tr th {\n",
       "        vertical-align: top;\n",
       "    }\n",
       "\n",
       "    .dataframe thead th {\n",
       "        text-align: right;\n",
       "    }\n",
       "</style>\n",
       "<table border=\"1\" class=\"dataframe\">\n",
       "  <thead>\n",
       "    <tr style=\"text-align: right;\">\n",
       "      <th></th>\n",
       "      <th>UNIQUE_ID</th>\n",
       "      <th>POSITION_TITLE</th>\n",
       "      <th>DEPARTMENT</th>\n",
       "      <th>BASE_SALARY</th>\n",
       "      <th>...</th>\n",
       "      <th>GENDER</th>\n",
       "      <th>EMPLOYMENT_STATUS</th>\n",
       "      <th>HIRE_DATE</th>\n",
       "      <th>JOB_DATE</th>\n",
       "    </tr>\n",
       "    <tr>\n",
       "      <th>RACE</th>\n",
       "      <th></th>\n",
       "      <th></th>\n",
       "      <th></th>\n",
       "      <th></th>\n",
       "      <th></th>\n",
       "      <th></th>\n",
       "      <th></th>\n",
       "      <th></th>\n",
       "      <th></th>\n",
       "    </tr>\n",
       "  </thead>\n",
       "  <tbody>\n",
       "    <tr>\n",
       "      <th>Hispanic/Latino</th>\n",
       "      <td>0</td>\n",
       "      <td>ASSISTANT DIRECTOR (EX LVL)</td>\n",
       "      <td>Municipal Courts Department</td>\n",
       "      <td>121862.0</td>\n",
       "      <td>...</td>\n",
       "      <td>Female</td>\n",
       "      <td>Active</td>\n",
       "      <td>2006-06-12</td>\n",
       "      <td>2012-10-13</td>\n",
       "    </tr>\n",
       "    <tr>\n",
       "      <th>Hispanic/Latino</th>\n",
       "      <td>1</td>\n",
       "      <td>LIBRARY ASSISTANT</td>\n",
       "      <td>Library</td>\n",
       "      <td>26125.0</td>\n",
       "      <td>...</td>\n",
       "      <td>Female</td>\n",
       "      <td>Active</td>\n",
       "      <td>2000-07-19</td>\n",
       "      <td>2010-09-18</td>\n",
       "    </tr>\n",
       "    <tr>\n",
       "      <th>White</th>\n",
       "      <td>2</td>\n",
       "      <td>POLICE OFFICER</td>\n",
       "      <td>Houston Police Department-HPD</td>\n",
       "      <td>45279.0</td>\n",
       "      <td>...</td>\n",
       "      <td>Male</td>\n",
       "      <td>Active</td>\n",
       "      <td>2015-02-03</td>\n",
       "      <td>2015-02-03</td>\n",
       "    </tr>\n",
       "    <tr>\n",
       "      <th>White</th>\n",
       "      <td>3</td>\n",
       "      <td>ENGINEER/OPERATOR</td>\n",
       "      <td>Houston Fire Department (HFD)</td>\n",
       "      <td>63166.0</td>\n",
       "      <td>...</td>\n",
       "      <td>Male</td>\n",
       "      <td>Active</td>\n",
       "      <td>1982-02-08</td>\n",
       "      <td>1991-05-25</td>\n",
       "    </tr>\n",
       "    <tr>\n",
       "      <th>White</th>\n",
       "      <td>4</td>\n",
       "      <td>ELECTRICIAN</td>\n",
       "      <td>General Services Department</td>\n",
       "      <td>56347.0</td>\n",
       "      <td>...</td>\n",
       "      <td>Male</td>\n",
       "      <td>Active</td>\n",
       "      <td>1989-06-19</td>\n",
       "      <td>1994-10-22</td>\n",
       "    </tr>\n",
       "  </tbody>\n",
       "</table>\n",
       "<p>5 rows × 9 columns</p>\n",
       "</div>"
      ],
      "text/plain": [
       "                 UNIQUE_ID               POSITION_TITLE  \\\n",
       "RACE                                                      \n",
       "Hispanic/Latino          0  ASSISTANT DIRECTOR (EX LVL)   \n",
       "Hispanic/Latino          1            LIBRARY ASSISTANT   \n",
       "White                    2               POLICE OFFICER   \n",
       "White                    3            ENGINEER/OPERATOR   \n",
       "White                    4                  ELECTRICIAN   \n",
       "\n",
       "                                    DEPARTMENT  BASE_SALARY  ...  GENDER  \\\n",
       "RACE                                                         ...           \n",
       "Hispanic/Latino    Municipal Courts Department     121862.0  ...  Female   \n",
       "Hispanic/Latino                        Library      26125.0  ...  Female   \n",
       "White            Houston Police Department-HPD      45279.0  ...    Male   \n",
       "White            Houston Fire Department (HFD)      63166.0  ...    Male   \n",
       "White              General Services Department      56347.0  ...    Male   \n",
       "\n",
       "                EMPLOYMENT_STATUS   HIRE_DATE    JOB_DATE  \n",
       "RACE                                                       \n",
       "Hispanic/Latino            Active  2006-06-12  2012-10-13  \n",
       "Hispanic/Latino            Active  2000-07-19  2010-09-18  \n",
       "White                      Active  2015-02-03  2015-02-03  \n",
       "White                      Active  1982-02-08  1991-05-25  \n",
       "White                      Active  1989-06-19  1994-10-22  \n",
       "\n",
       "[5 rows x 9 columns]"
      ]
     },
     "execution_count": 24,
     "metadata": {},
     "output_type": "execute_result"
    }
   ],
   "source": [
    "employee = pd.read_csv('data/employee.csv', index_col='RACE')\n",
    "employee.head()"
   ]
  },
  {
   "cell_type": "code",
   "execution_count": 25,
   "id": "2c650612",
   "metadata": {},
   "outputs": [
    {
     "data": {
      "text/plain": [
       "2000"
      ]
     },
     "execution_count": 25,
     "metadata": {},
     "output_type": "execute_result"
    }
   ],
   "source": [
    "employee.index.size"
   ]
  },
  {
   "cell_type": "code",
   "execution_count": 26,
   "id": "1b87fb94",
   "metadata": {},
   "outputs": [
    {
     "data": {
      "text/plain": [
       "True"
      ]
     },
     "execution_count": 26,
     "metadata": {},
     "output_type": "execute_result"
    }
   ],
   "source": [
    "sal_1 = employee['BASE_SALARY']\n",
    "sal_2 = employee['BASE_SALARY']\n",
    "sal_1 is sal_2    #reference created."
   ]
  },
  {
   "cell_type": "code",
   "execution_count": 27,
   "id": "61a10b23",
   "metadata": {},
   "outputs": [
    {
     "data": {
      "text/plain": [
       "False"
      ]
     },
     "execution_count": 27,
     "metadata": {},
     "output_type": "execute_result"
    }
   ],
   "source": [
    "sal_1 = employee['BASE_SALARY'].copy()\n",
    "sal_2 = employee['BASE_SALARY'].copy()\n",
    "sal_1 is sal_2"
   ]
  },
  {
   "cell_type": "markdown",
   "id": "b16d37d3",
   "metadata": {},
   "source": [
    "#### Changing the index alignment for one Series object"
   ]
  },
  {
   "cell_type": "code",
   "execution_count": 28,
   "id": "bed16ff1",
   "metadata": {},
   "outputs": [
    {
     "data": {
      "text/plain": [
       "RACE\n",
       "American Indian or Alaskan Native    78355.0\n",
       "American Indian or Alaskan Native    26125.0\n",
       "American Indian or Alaskan Native    98536.0\n",
       "American Indian or Alaskan Native        NaN\n",
       "American Indian or Alaskan Native    55461.0\n",
       "Name: BASE_SALARY, dtype: float64"
      ]
     },
     "execution_count": 28,
     "metadata": {},
     "output_type": "execute_result"
    }
   ],
   "source": [
    "sal_1 = sal_1.sort_index()\n",
    "sal_1.head()"
   ]
  },
  {
   "cell_type": "code",
   "execution_count": 29,
   "id": "c1d71d4d",
   "metadata": {},
   "outputs": [
    {
     "data": {
      "text/plain": [
       "RACE\n",
       "Hispanic/Latino    121862.0\n",
       "Hispanic/Latino     26125.0\n",
       "White               45279.0\n",
       "White               63166.0\n",
       "White               56347.0\n",
       "Name: BASE_SALARY, dtype: float64"
      ]
     },
     "execution_count": 29,
     "metadata": {},
     "output_type": "execute_result"
    }
   ],
   "source": [
    "sal_2.head()"
   ]
  },
  {
   "cell_type": "code",
   "execution_count": 30,
   "id": "d7b24a39",
   "metadata": {},
   "outputs": [],
   "source": [
    "sal_add = sal_1 + sal_2     ## cartesian product created for both index columsn, due to different alignment,\n",
    "sal_add_same = sal_1 + sal_1"
   ]
  },
  {
   "cell_type": "code",
   "execution_count": 31,
   "id": "5a58973f",
   "metadata": {},
   "outputs": [
    {
     "data": {
      "text/plain": [
       "(2000, 2000, 1175424, 2000)"
      ]
     },
     "execution_count": 31,
     "metadata": {},
     "output_type": "execute_result"
    }
   ],
   "source": [
    "len(sal_1),len(sal_2),len(sal_add),len(sal_add_same)"
   ]
  },
  {
   "cell_type": "code",
   "execution_count": 32,
   "id": "addf5b4f",
   "metadata": {},
   "outputs": [],
   "source": [
    "index_vc = sal_1.index.value_counts(dropna=False)  # get all values, default drops the NA values"
   ]
  },
  {
   "cell_type": "code",
   "execution_count": 33,
   "id": "47f3ae2d",
   "metadata": {},
   "outputs": [
    {
     "data": {
      "text/plain": [
       "Black or African American            700\n",
       "White                                665\n",
       "Hispanic/Latino                      480\n",
       "Asian/Pacific Islander               107\n",
       "NaN                                   35\n",
       "American Indian or Alaskan Native     11\n",
       "Others                                 2\n",
       "Name: RACE, dtype: int64"
      ]
     },
     "execution_count": 33,
     "metadata": {},
     "output_type": "execute_result"
    }
   ],
   "source": [
    "index_vc"
   ]
  },
  {
   "cell_type": "code",
   "execution_count": 34,
   "id": "0a824f54",
   "metadata": {},
   "outputs": [
    {
     "data": {
      "text/plain": [
       "1175424"
      ]
     },
     "execution_count": 34,
     "metadata": {},
     "output_type": "execute_result"
    }
   ],
   "source": [
    "index_vc.pow(2).sum()  # cartesian product proof (index_count * index_count)"
   ]
  },
  {
   "cell_type": "markdown",
   "id": "39c1da6f",
   "metadata": {},
   "source": [
    "### Adding Series or DF with different index values"
   ]
  },
  {
   "cell_type": "code",
   "execution_count": 35,
   "id": "351f90d4",
   "metadata": {},
   "outputs": [],
   "source": [
    "baseball_14 = pd.read_csv('data/baseball14.csv', index_col='playerID')\n",
    "baseball_15 = pd.read_csv('data/baseball15.csv', index_col='playerID')\n",
    "baseball_16 = pd.read_csv('data/baseball16.csv', index_col='playerID')"
   ]
  },
  {
   "cell_type": "code",
   "execution_count": 36,
   "id": "f6975122",
   "metadata": {},
   "outputs": [
    {
     "data": {
      "text/html": [
       "<div>\n",
       "<style scoped>\n",
       "    .dataframe tbody tr th:only-of-type {\n",
       "        vertical-align: middle;\n",
       "    }\n",
       "\n",
       "    .dataframe tbody tr th {\n",
       "        vertical-align: top;\n",
       "    }\n",
       "\n",
       "    .dataframe thead th {\n",
       "        text-align: right;\n",
       "    }\n",
       "</style>\n",
       "<table border=\"1\" class=\"dataframe\">\n",
       "  <thead>\n",
       "    <tr style=\"text-align: right;\">\n",
       "      <th></th>\n",
       "      <th>yearID</th>\n",
       "      <th>stint</th>\n",
       "      <th>teamID</th>\n",
       "      <th>lgID</th>\n",
       "      <th>...</th>\n",
       "      <th>HBP</th>\n",
       "      <th>SH</th>\n",
       "      <th>SF</th>\n",
       "      <th>GIDP</th>\n",
       "    </tr>\n",
       "    <tr>\n",
       "      <th>playerID</th>\n",
       "      <th></th>\n",
       "      <th></th>\n",
       "      <th></th>\n",
       "      <th></th>\n",
       "      <th></th>\n",
       "      <th></th>\n",
       "      <th></th>\n",
       "      <th></th>\n",
       "      <th></th>\n",
       "    </tr>\n",
       "  </thead>\n",
       "  <tbody>\n",
       "    <tr>\n",
       "      <th>altuvjo01</th>\n",
       "      <td>2014</td>\n",
       "      <td>1</td>\n",
       "      <td>HOU</td>\n",
       "      <td>AL</td>\n",
       "      <td>...</td>\n",
       "      <td>5.0</td>\n",
       "      <td>1.0</td>\n",
       "      <td>5.0</td>\n",
       "      <td>20.0</td>\n",
       "    </tr>\n",
       "    <tr>\n",
       "      <th>cartech02</th>\n",
       "      <td>2014</td>\n",
       "      <td>1</td>\n",
       "      <td>HOU</td>\n",
       "      <td>AL</td>\n",
       "      <td>...</td>\n",
       "      <td>5.0</td>\n",
       "      <td>0.0</td>\n",
       "      <td>4.0</td>\n",
       "      <td>12.0</td>\n",
       "    </tr>\n",
       "    <tr>\n",
       "      <th>castrja01</th>\n",
       "      <td>2014</td>\n",
       "      <td>1</td>\n",
       "      <td>HOU</td>\n",
       "      <td>AL</td>\n",
       "      <td>...</td>\n",
       "      <td>9.0</td>\n",
       "      <td>1.0</td>\n",
       "      <td>3.0</td>\n",
       "      <td>11.0</td>\n",
       "    </tr>\n",
       "    <tr>\n",
       "      <th>corpoca01</th>\n",
       "      <td>2014</td>\n",
       "      <td>1</td>\n",
       "      <td>HOU</td>\n",
       "      <td>AL</td>\n",
       "      <td>...</td>\n",
       "      <td>3.0</td>\n",
       "      <td>1.0</td>\n",
       "      <td>2.0</td>\n",
       "      <td>3.0</td>\n",
       "    </tr>\n",
       "    <tr>\n",
       "      <th>dominma01</th>\n",
       "      <td>2014</td>\n",
       "      <td>1</td>\n",
       "      <td>HOU</td>\n",
       "      <td>AL</td>\n",
       "      <td>...</td>\n",
       "      <td>5.0</td>\n",
       "      <td>2.0</td>\n",
       "      <td>7.0</td>\n",
       "      <td>23.0</td>\n",
       "    </tr>\n",
       "  </tbody>\n",
       "</table>\n",
       "<p>5 rows × 21 columns</p>\n",
       "</div>"
      ],
      "text/plain": [
       "           yearID  stint teamID lgID  ...  HBP   SH   SF  GIDP\n",
       "playerID                              ...                     \n",
       "altuvjo01    2014      1    HOU   AL  ...  5.0  1.0  5.0  20.0\n",
       "cartech02    2014      1    HOU   AL  ...  5.0  0.0  4.0  12.0\n",
       "castrja01    2014      1    HOU   AL  ...  9.0  1.0  3.0  11.0\n",
       "corpoca01    2014      1    HOU   AL  ...  3.0  1.0  2.0   3.0\n",
       "dominma01    2014      1    HOU   AL  ...  5.0  2.0  7.0  23.0\n",
       "\n",
       "[5 rows x 21 columns]"
      ]
     },
     "execution_count": 36,
     "metadata": {},
     "output_type": "execute_result"
    }
   ],
   "source": [
    "baseball_14.head()"
   ]
  },
  {
   "cell_type": "code",
   "execution_count": 37,
   "id": "7b1a642c",
   "metadata": {},
   "outputs": [
    {
     "data": {
      "text/plain": [
       "Index(['corpoca01', 'dominma01', 'fowlede01', 'grossro01', 'guzmaje01',\n",
       "       'hoeslj01', 'krausma01', 'preslal01', 'singljo02'],\n",
       "      dtype='object', name='playerID')"
      ]
     },
     "execution_count": 37,
     "metadata": {},
     "output_type": "execute_result"
    }
   ],
   "source": [
    "baseball_14.index.difference(baseball_15.index)"
   ]
  },
  {
   "cell_type": "code",
   "execution_count": 38,
   "id": "7adeac1f",
   "metadata": {},
   "outputs": [
    {
     "data": {
      "text/plain": [
       "Index(['cartech02', 'corpoca01', 'dominma01', 'fowlede01', 'grossro01',\n",
       "       'guzmaje01', 'hoeslj01', 'krausma01', 'preslal01', 'singljo02',\n",
       "       'villajo01'],\n",
       "      dtype='object', name='playerID')"
      ]
     },
     "execution_count": 38,
     "metadata": {},
     "output_type": "execute_result"
    }
   ],
   "source": [
    "baseball_14.index.difference(baseball_16.index)"
   ]
  },
  {
   "cell_type": "code",
   "execution_count": 39,
   "id": "2f886dc2",
   "metadata": {},
   "outputs": [],
   "source": [
    "hits_14 = baseball_14['H']\n",
    "hits_15 = baseball_15['H']\n",
    "hits_16 = baseball_16['H']"
   ]
  },
  {
   "cell_type": "code",
   "execution_count": 40,
   "id": "93342fce",
   "metadata": {},
   "outputs": [
    {
     "data": {
      "text/plain": [
       "playerID\n",
       "altuvjo01    225\n",
       "cartech02    115\n",
       "castrja01    103\n",
       "corpoca01     40\n",
       "dominma01    121\n",
       "Name: H, dtype: int64"
      ]
     },
     "execution_count": 40,
     "metadata": {},
     "output_type": "execute_result"
    }
   ],
   "source": [
    "hits_14.head()"
   ]
  },
  {
   "cell_type": "code",
   "execution_count": 41,
   "id": "0b1594bc",
   "metadata": {},
   "outputs": [
    {
     "data": {
      "text/plain": [
       "playerID\n",
       "altuvjo01    425.0\n",
       "cartech02    193.0\n",
       "castrja01    174.0\n",
       "congeha01      NaN\n",
       "corpoca01      NaN\n",
       "Name: H, dtype: float64"
      ]
     },
     "execution_count": 41,
     "metadata": {},
     "output_type": "execute_result"
    }
   ],
   "source": [
    "(hits_14 + hits_15).head()"
   ]
  },
  {
   "cell_type": "code",
   "execution_count": 42,
   "id": "d09477e9",
   "metadata": {},
   "outputs": [
    {
     "data": {
      "text/plain": [
       "playerID\n",
       "altuvjo01    425.0\n",
       "cartech02    193.0\n",
       "castrja01    174.0\n",
       "congeha01     46.0\n",
       "corpoca01     40.0\n",
       "Name: H, dtype: float64"
      ]
     },
     "execution_count": 42,
     "metadata": {},
     "output_type": "execute_result"
    }
   ],
   "source": [
    "hits_14.add(hits_15, fill_value=0).head()"
   ]
  },
  {
   "cell_type": "code",
   "execution_count": 43,
   "id": "a426f1d2",
   "metadata": {},
   "outputs": [
    {
     "data": {
      "text/plain": [
       "playerID\n",
       "altuvjo01    641\n",
       "bregmal01     53\n",
       "cartech02    193\n",
       "castrja01    243\n",
       "congeha01     46\n",
       "Name: H, dtype: int64"
      ]
     },
     "execution_count": 43,
     "metadata": {},
     "output_type": "execute_result"
    }
   ],
   "source": [
    "hits_total = hits_14.add(hits_15, fill_value=0).add(hits_16, fill_value=0).astype(int)\n",
    "hits_total.head()"
   ]
  },
  {
   "cell_type": "code",
   "execution_count": 44,
   "id": "940bcc3b",
   "metadata": {},
   "outputs": [
    {
     "data": {
      "text/plain": [
       "False"
      ]
     },
     "execution_count": 44,
     "metadata": {},
     "output_type": "execute_result"
    }
   ],
   "source": [
    "hits_total.hasnans"
   ]
  },
  {
   "cell_type": "markdown",
   "id": "c5670106",
   "metadata": {},
   "source": [
    "### With data frames"
   ]
  },
  {
   "cell_type": "code",
   "execution_count": 45,
   "id": "4e603326",
   "metadata": {},
   "outputs": [],
   "source": [
    "df_14 = baseball_14[['G','AB', 'R', 'H']]\n",
    "df_15 = baseball_15[['AB', 'R', 'H', 'HR']]"
   ]
  },
  {
   "cell_type": "code",
   "execution_count": 46,
   "id": "b59e21ab",
   "metadata": {},
   "outputs": [
    {
     "data": {
      "text/html": [
       "<div>\n",
       "<style scoped>\n",
       "    .dataframe tbody tr th:only-of-type {\n",
       "        vertical-align: middle;\n",
       "    }\n",
       "\n",
       "    .dataframe tbody tr th {\n",
       "        vertical-align: top;\n",
       "    }\n",
       "\n",
       "    .dataframe thead th {\n",
       "        text-align: right;\n",
       "    }\n",
       "</style>\n",
       "<table border=\"1\" class=\"dataframe\">\n",
       "  <thead>\n",
       "    <tr style=\"text-align: right;\">\n",
       "      <th></th>\n",
       "      <th>G</th>\n",
       "      <th>AB</th>\n",
       "      <th>R</th>\n",
       "      <th>H</th>\n",
       "    </tr>\n",
       "    <tr>\n",
       "      <th>playerID</th>\n",
       "      <th></th>\n",
       "      <th></th>\n",
       "      <th></th>\n",
       "      <th></th>\n",
       "    </tr>\n",
       "  </thead>\n",
       "  <tbody>\n",
       "    <tr>\n",
       "      <th>altuvjo01</th>\n",
       "      <td>158</td>\n",
       "      <td>660</td>\n",
       "      <td>85</td>\n",
       "      <td>225</td>\n",
       "    </tr>\n",
       "    <tr>\n",
       "      <th>cartech02</th>\n",
       "      <td>145</td>\n",
       "      <td>507</td>\n",
       "      <td>68</td>\n",
       "      <td>115</td>\n",
       "    </tr>\n",
       "    <tr>\n",
       "      <th>castrja01</th>\n",
       "      <td>126</td>\n",
       "      <td>465</td>\n",
       "      <td>43</td>\n",
       "      <td>103</td>\n",
       "    </tr>\n",
       "    <tr>\n",
       "      <th>corpoca01</th>\n",
       "      <td>55</td>\n",
       "      <td>170</td>\n",
       "      <td>22</td>\n",
       "      <td>40</td>\n",
       "    </tr>\n",
       "    <tr>\n",
       "      <th>dominma01</th>\n",
       "      <td>157</td>\n",
       "      <td>564</td>\n",
       "      <td>51</td>\n",
       "      <td>121</td>\n",
       "    </tr>\n",
       "  </tbody>\n",
       "</table>\n",
       "</div>"
      ],
      "text/plain": [
       "             G   AB   R    H\n",
       "playerID                    \n",
       "altuvjo01  158  660  85  225\n",
       "cartech02  145  507  68  115\n",
       "castrja01  126  465  43  103\n",
       "corpoca01   55  170  22   40\n",
       "dominma01  157  564  51  121"
      ]
     },
     "execution_count": 46,
     "metadata": {},
     "output_type": "execute_result"
    }
   ],
   "source": [
    "df_14.head()"
   ]
  },
  {
   "cell_type": "code",
   "execution_count": 47,
   "id": "e2516592",
   "metadata": {},
   "outputs": [
    {
     "data": {
      "text/html": [
       "<div>\n",
       "<style scoped>\n",
       "    .dataframe tbody tr th:only-of-type {\n",
       "        vertical-align: middle;\n",
       "    }\n",
       "\n",
       "    .dataframe tbody tr th {\n",
       "        vertical-align: top;\n",
       "    }\n",
       "\n",
       "    .dataframe thead th {\n",
       "        text-align: right;\n",
       "    }\n",
       "</style>\n",
       "<table border=\"1\" class=\"dataframe\">\n",
       "  <thead>\n",
       "    <tr style=\"text-align: right;\">\n",
       "      <th></th>\n",
       "      <th>AB</th>\n",
       "      <th>R</th>\n",
       "      <th>H</th>\n",
       "      <th>HR</th>\n",
       "    </tr>\n",
       "    <tr>\n",
       "      <th>playerID</th>\n",
       "      <th></th>\n",
       "      <th></th>\n",
       "      <th></th>\n",
       "      <th></th>\n",
       "    </tr>\n",
       "  </thead>\n",
       "  <tbody>\n",
       "    <tr>\n",
       "      <th>altuvjo01</th>\n",
       "      <td>638</td>\n",
       "      <td>86</td>\n",
       "      <td>200</td>\n",
       "      <td>15</td>\n",
       "    </tr>\n",
       "    <tr>\n",
       "      <th>cartech02</th>\n",
       "      <td>391</td>\n",
       "      <td>50</td>\n",
       "      <td>78</td>\n",
       "      <td>24</td>\n",
       "    </tr>\n",
       "    <tr>\n",
       "      <th>castrja01</th>\n",
       "      <td>337</td>\n",
       "      <td>38</td>\n",
       "      <td>71</td>\n",
       "      <td>11</td>\n",
       "    </tr>\n",
       "    <tr>\n",
       "      <th>congeha01</th>\n",
       "      <td>201</td>\n",
       "      <td>25</td>\n",
       "      <td>46</td>\n",
       "      <td>11</td>\n",
       "    </tr>\n",
       "    <tr>\n",
       "      <th>correca01</th>\n",
       "      <td>387</td>\n",
       "      <td>52</td>\n",
       "      <td>108</td>\n",
       "      <td>22</td>\n",
       "    </tr>\n",
       "  </tbody>\n",
       "</table>\n",
       "</div>"
      ],
      "text/plain": [
       "            AB   R    H  HR\n",
       "playerID                   \n",
       "altuvjo01  638  86  200  15\n",
       "cartech02  391  50   78  24\n",
       "castrja01  337  38   71  11\n",
       "congeha01  201  25   46  11\n",
       "correca01  387  52  108  22"
      ]
     },
     "execution_count": 47,
     "metadata": {},
     "output_type": "execute_result"
    }
   ],
   "source": [
    "df_15.head()"
   ]
  },
  {
   "cell_type": "code",
   "execution_count": 48,
   "id": "8c4477af",
   "metadata": {},
   "outputs": [
    {
     "data": {
      "text/html": [
       "<style  type=\"text/css\" >\n",
       "#T_fed8e_row0_col1,#T_fed8e_row0_col3,#T_fed8e_row1_col1,#T_fed8e_row1_col3,#T_fed8e_row2_col1,#T_fed8e_row2_col3,#T_fed8e_row3_col0,#T_fed8e_row3_col1,#T_fed8e_row3_col2,#T_fed8e_row3_col3,#T_fed8e_row3_col4,#T_fed8e_row4_col0,#T_fed8e_row4_col1,#T_fed8e_row4_col2,#T_fed8e_row4_col3,#T_fed8e_row4_col4,#T_fed8e_row5_col0,#T_fed8e_row5_col1,#T_fed8e_row5_col2,#T_fed8e_row5_col3,#T_fed8e_row5_col4,#T_fed8e_row6_col0,#T_fed8e_row6_col1,#T_fed8e_row6_col2,#T_fed8e_row6_col3,#T_fed8e_row6_col4,#T_fed8e_row7_col0,#T_fed8e_row7_col1,#T_fed8e_row7_col2,#T_fed8e_row7_col3,#T_fed8e_row7_col4,#T_fed8e_row8_col0,#T_fed8e_row8_col1,#T_fed8e_row8_col2,#T_fed8e_row8_col3,#T_fed8e_row8_col4,#T_fed8e_row9_col0,#T_fed8e_row9_col1,#T_fed8e_row9_col2,#T_fed8e_row9_col3,#T_fed8e_row9_col4{\n",
       "            background-color:  lightgreen;\n",
       "        }</style><table id=\"T_fed8e_\" ><thead>    <tr>        <th class=\"blank level0\" ></th>        <th class=\"col_heading level0 col0\" >AB</th>        <th class=\"col_heading level0 col1\" >G</th>        <th class=\"col_heading level0 col2\" >H</th>        <th class=\"col_heading level0 col3\" >HR</th>        <th class=\"col_heading level0 col4\" >R</th>    </tr>    <tr>        <th class=\"index_name level0\" >playerID</th>        <th class=\"blank\" ></th>        <th class=\"blank\" ></th>        <th class=\"blank\" ></th>        <th class=\"blank\" ></th>        <th class=\"blank\" ></th>    </tr></thead><tbody>\n",
       "                <tr>\n",
       "                        <th id=\"T_fed8e_level0_row0\" class=\"row_heading level0 row0\" >altuvjo01</th>\n",
       "                        <td id=\"T_fed8e_row0_col0\" class=\"data row0 col0\" >1298.000000</td>\n",
       "                        <td id=\"T_fed8e_row0_col1\" class=\"data row0 col1\" >nan</td>\n",
       "                        <td id=\"T_fed8e_row0_col2\" class=\"data row0 col2\" >425.000000</td>\n",
       "                        <td id=\"T_fed8e_row0_col3\" class=\"data row0 col3\" >nan</td>\n",
       "                        <td id=\"T_fed8e_row0_col4\" class=\"data row0 col4\" >171.000000</td>\n",
       "            </tr>\n",
       "            <tr>\n",
       "                        <th id=\"T_fed8e_level0_row1\" class=\"row_heading level0 row1\" >cartech02</th>\n",
       "                        <td id=\"T_fed8e_row1_col0\" class=\"data row1 col0\" >898.000000</td>\n",
       "                        <td id=\"T_fed8e_row1_col1\" class=\"data row1 col1\" >nan</td>\n",
       "                        <td id=\"T_fed8e_row1_col2\" class=\"data row1 col2\" >193.000000</td>\n",
       "                        <td id=\"T_fed8e_row1_col3\" class=\"data row1 col3\" >nan</td>\n",
       "                        <td id=\"T_fed8e_row1_col4\" class=\"data row1 col4\" >118.000000</td>\n",
       "            </tr>\n",
       "            <tr>\n",
       "                        <th id=\"T_fed8e_level0_row2\" class=\"row_heading level0 row2\" >castrja01</th>\n",
       "                        <td id=\"T_fed8e_row2_col0\" class=\"data row2 col0\" >802.000000</td>\n",
       "                        <td id=\"T_fed8e_row2_col1\" class=\"data row2 col1\" >nan</td>\n",
       "                        <td id=\"T_fed8e_row2_col2\" class=\"data row2 col2\" >174.000000</td>\n",
       "                        <td id=\"T_fed8e_row2_col3\" class=\"data row2 col3\" >nan</td>\n",
       "                        <td id=\"T_fed8e_row2_col4\" class=\"data row2 col4\" >81.000000</td>\n",
       "            </tr>\n",
       "            <tr>\n",
       "                        <th id=\"T_fed8e_level0_row3\" class=\"row_heading level0 row3\" >congeha01</th>\n",
       "                        <td id=\"T_fed8e_row3_col0\" class=\"data row3 col0\" >nan</td>\n",
       "                        <td id=\"T_fed8e_row3_col1\" class=\"data row3 col1\" >nan</td>\n",
       "                        <td id=\"T_fed8e_row3_col2\" class=\"data row3 col2\" >nan</td>\n",
       "                        <td id=\"T_fed8e_row3_col3\" class=\"data row3 col3\" >nan</td>\n",
       "                        <td id=\"T_fed8e_row3_col4\" class=\"data row3 col4\" >nan</td>\n",
       "            </tr>\n",
       "            <tr>\n",
       "                        <th id=\"T_fed8e_level0_row4\" class=\"row_heading level0 row4\" >corpoca01</th>\n",
       "                        <td id=\"T_fed8e_row4_col0\" class=\"data row4 col0\" >nan</td>\n",
       "                        <td id=\"T_fed8e_row4_col1\" class=\"data row4 col1\" >nan</td>\n",
       "                        <td id=\"T_fed8e_row4_col2\" class=\"data row4 col2\" >nan</td>\n",
       "                        <td id=\"T_fed8e_row4_col3\" class=\"data row4 col3\" >nan</td>\n",
       "                        <td id=\"T_fed8e_row4_col4\" class=\"data row4 col4\" >nan</td>\n",
       "            </tr>\n",
       "            <tr>\n",
       "                        <th id=\"T_fed8e_level0_row5\" class=\"row_heading level0 row5\" >correca01</th>\n",
       "                        <td id=\"T_fed8e_row5_col0\" class=\"data row5 col0\" >nan</td>\n",
       "                        <td id=\"T_fed8e_row5_col1\" class=\"data row5 col1\" >nan</td>\n",
       "                        <td id=\"T_fed8e_row5_col2\" class=\"data row5 col2\" >nan</td>\n",
       "                        <td id=\"T_fed8e_row5_col3\" class=\"data row5 col3\" >nan</td>\n",
       "                        <td id=\"T_fed8e_row5_col4\" class=\"data row5 col4\" >nan</td>\n",
       "            </tr>\n",
       "            <tr>\n",
       "                        <th id=\"T_fed8e_level0_row6\" class=\"row_heading level0 row6\" >dominma01</th>\n",
       "                        <td id=\"T_fed8e_row6_col0\" class=\"data row6 col0\" >nan</td>\n",
       "                        <td id=\"T_fed8e_row6_col1\" class=\"data row6 col1\" >nan</td>\n",
       "                        <td id=\"T_fed8e_row6_col2\" class=\"data row6 col2\" >nan</td>\n",
       "                        <td id=\"T_fed8e_row6_col3\" class=\"data row6 col3\" >nan</td>\n",
       "                        <td id=\"T_fed8e_row6_col4\" class=\"data row6 col4\" >nan</td>\n",
       "            </tr>\n",
       "            <tr>\n",
       "                        <th id=\"T_fed8e_level0_row7\" class=\"row_heading level0 row7\" >fowlede01</th>\n",
       "                        <td id=\"T_fed8e_row7_col0\" class=\"data row7 col0\" >nan</td>\n",
       "                        <td id=\"T_fed8e_row7_col1\" class=\"data row7 col1\" >nan</td>\n",
       "                        <td id=\"T_fed8e_row7_col2\" class=\"data row7 col2\" >nan</td>\n",
       "                        <td id=\"T_fed8e_row7_col3\" class=\"data row7 col3\" >nan</td>\n",
       "                        <td id=\"T_fed8e_row7_col4\" class=\"data row7 col4\" >nan</td>\n",
       "            </tr>\n",
       "            <tr>\n",
       "                        <th id=\"T_fed8e_level0_row8\" class=\"row_heading level0 row8\" >gattiev01</th>\n",
       "                        <td id=\"T_fed8e_row8_col0\" class=\"data row8 col0\" >nan</td>\n",
       "                        <td id=\"T_fed8e_row8_col1\" class=\"data row8 col1\" >nan</td>\n",
       "                        <td id=\"T_fed8e_row8_col2\" class=\"data row8 col2\" >nan</td>\n",
       "                        <td id=\"T_fed8e_row8_col3\" class=\"data row8 col3\" >nan</td>\n",
       "                        <td id=\"T_fed8e_row8_col4\" class=\"data row8 col4\" >nan</td>\n",
       "            </tr>\n",
       "            <tr>\n",
       "                        <th id=\"T_fed8e_level0_row9\" class=\"row_heading level0 row9\" >gomezca01</th>\n",
       "                        <td id=\"T_fed8e_row9_col0\" class=\"data row9 col0\" >nan</td>\n",
       "                        <td id=\"T_fed8e_row9_col1\" class=\"data row9 col1\" >nan</td>\n",
       "                        <td id=\"T_fed8e_row9_col2\" class=\"data row9 col2\" >nan</td>\n",
       "                        <td id=\"T_fed8e_row9_col3\" class=\"data row9 col3\" >nan</td>\n",
       "                        <td id=\"T_fed8e_row9_col4\" class=\"data row9 col4\" >nan</td>\n",
       "            </tr>\n",
       "    </tbody></table>"
      ],
      "text/plain": [
       "<pandas.io.formats.style.Styler at 0x7fe441ed3be0>"
      ]
     },
     "execution_count": 48,
     "metadata": {},
     "output_type": "execute_result"
    }
   ],
   "source": [
    "(df_14 + df_15).head(10).style.highlight_null('lightgreen')"
   ]
  },
  {
   "cell_type": "code",
   "execution_count": 49,
   "id": "b7987c44",
   "metadata": {},
   "outputs": [
    {
     "data": {
      "text/html": [
       "<style  type=\"text/css\" >\n",
       "#T_58f3b_row3_col1,#T_58f3b_row4_col3,#T_58f3b_row5_col1,#T_58f3b_row6_col3,#T_58f3b_row7_col3,#T_58f3b_row8_col1,#T_58f3b_row9_col1{\n",
       "            background-color:  yellow;\n",
       "        }</style><table id=\"T_58f3b_\" ><thead>    <tr>        <th class=\"blank level0\" ></th>        <th class=\"col_heading level0 col0\" >AB</th>        <th class=\"col_heading level0 col1\" >G</th>        <th class=\"col_heading level0 col2\" >H</th>        <th class=\"col_heading level0 col3\" >HR</th>        <th class=\"col_heading level0 col4\" >R</th>    </tr>    <tr>        <th class=\"index_name level0\" >playerID</th>        <th class=\"blank\" ></th>        <th class=\"blank\" ></th>        <th class=\"blank\" ></th>        <th class=\"blank\" ></th>        <th class=\"blank\" ></th>    </tr></thead><tbody>\n",
       "                <tr>\n",
       "                        <th id=\"T_58f3b_level0_row0\" class=\"row_heading level0 row0\" >altuvjo01</th>\n",
       "                        <td id=\"T_58f3b_row0_col0\" class=\"data row0 col0\" >1298.000000</td>\n",
       "                        <td id=\"T_58f3b_row0_col1\" class=\"data row0 col1\" >158.000000</td>\n",
       "                        <td id=\"T_58f3b_row0_col2\" class=\"data row0 col2\" >425.000000</td>\n",
       "                        <td id=\"T_58f3b_row0_col3\" class=\"data row0 col3\" >15.000000</td>\n",
       "                        <td id=\"T_58f3b_row0_col4\" class=\"data row0 col4\" >171.000000</td>\n",
       "            </tr>\n",
       "            <tr>\n",
       "                        <th id=\"T_58f3b_level0_row1\" class=\"row_heading level0 row1\" >cartech02</th>\n",
       "                        <td id=\"T_58f3b_row1_col0\" class=\"data row1 col0\" >898.000000</td>\n",
       "                        <td id=\"T_58f3b_row1_col1\" class=\"data row1 col1\" >145.000000</td>\n",
       "                        <td id=\"T_58f3b_row1_col2\" class=\"data row1 col2\" >193.000000</td>\n",
       "                        <td id=\"T_58f3b_row1_col3\" class=\"data row1 col3\" >24.000000</td>\n",
       "                        <td id=\"T_58f3b_row1_col4\" class=\"data row1 col4\" >118.000000</td>\n",
       "            </tr>\n",
       "            <tr>\n",
       "                        <th id=\"T_58f3b_level0_row2\" class=\"row_heading level0 row2\" >castrja01</th>\n",
       "                        <td id=\"T_58f3b_row2_col0\" class=\"data row2 col0\" >802.000000</td>\n",
       "                        <td id=\"T_58f3b_row2_col1\" class=\"data row2 col1\" >126.000000</td>\n",
       "                        <td id=\"T_58f3b_row2_col2\" class=\"data row2 col2\" >174.000000</td>\n",
       "                        <td id=\"T_58f3b_row2_col3\" class=\"data row2 col3\" >11.000000</td>\n",
       "                        <td id=\"T_58f3b_row2_col4\" class=\"data row2 col4\" >81.000000</td>\n",
       "            </tr>\n",
       "            <tr>\n",
       "                        <th id=\"T_58f3b_level0_row3\" class=\"row_heading level0 row3\" >congeha01</th>\n",
       "                        <td id=\"T_58f3b_row3_col0\" class=\"data row3 col0\" >201.000000</td>\n",
       "                        <td id=\"T_58f3b_row3_col1\" class=\"data row3 col1\" >nan</td>\n",
       "                        <td id=\"T_58f3b_row3_col2\" class=\"data row3 col2\" >46.000000</td>\n",
       "                        <td id=\"T_58f3b_row3_col3\" class=\"data row3 col3\" >11.000000</td>\n",
       "                        <td id=\"T_58f3b_row3_col4\" class=\"data row3 col4\" >25.000000</td>\n",
       "            </tr>\n",
       "            <tr>\n",
       "                        <th id=\"T_58f3b_level0_row4\" class=\"row_heading level0 row4\" >corpoca01</th>\n",
       "                        <td id=\"T_58f3b_row4_col0\" class=\"data row4 col0\" >170.000000</td>\n",
       "                        <td id=\"T_58f3b_row4_col1\" class=\"data row4 col1\" >55.000000</td>\n",
       "                        <td id=\"T_58f3b_row4_col2\" class=\"data row4 col2\" >40.000000</td>\n",
       "                        <td id=\"T_58f3b_row4_col3\" class=\"data row4 col3\" >nan</td>\n",
       "                        <td id=\"T_58f3b_row4_col4\" class=\"data row4 col4\" >22.000000</td>\n",
       "            </tr>\n",
       "            <tr>\n",
       "                        <th id=\"T_58f3b_level0_row5\" class=\"row_heading level0 row5\" >correca01</th>\n",
       "                        <td id=\"T_58f3b_row5_col0\" class=\"data row5 col0\" >387.000000</td>\n",
       "                        <td id=\"T_58f3b_row5_col1\" class=\"data row5 col1\" >nan</td>\n",
       "                        <td id=\"T_58f3b_row5_col2\" class=\"data row5 col2\" >108.000000</td>\n",
       "                        <td id=\"T_58f3b_row5_col3\" class=\"data row5 col3\" >22.000000</td>\n",
       "                        <td id=\"T_58f3b_row5_col4\" class=\"data row5 col4\" >52.000000</td>\n",
       "            </tr>\n",
       "            <tr>\n",
       "                        <th id=\"T_58f3b_level0_row6\" class=\"row_heading level0 row6\" >dominma01</th>\n",
       "                        <td id=\"T_58f3b_row6_col0\" class=\"data row6 col0\" >564.000000</td>\n",
       "                        <td id=\"T_58f3b_row6_col1\" class=\"data row6 col1\" >157.000000</td>\n",
       "                        <td id=\"T_58f3b_row6_col2\" class=\"data row6 col2\" >121.000000</td>\n",
       "                        <td id=\"T_58f3b_row6_col3\" class=\"data row6 col3\" >nan</td>\n",
       "                        <td id=\"T_58f3b_row6_col4\" class=\"data row6 col4\" >51.000000</td>\n",
       "            </tr>\n",
       "            <tr>\n",
       "                        <th id=\"T_58f3b_level0_row7\" class=\"row_heading level0 row7\" >fowlede01</th>\n",
       "                        <td id=\"T_58f3b_row7_col0\" class=\"data row7 col0\" >434.000000</td>\n",
       "                        <td id=\"T_58f3b_row7_col1\" class=\"data row7 col1\" >116.000000</td>\n",
       "                        <td id=\"T_58f3b_row7_col2\" class=\"data row7 col2\" >120.000000</td>\n",
       "                        <td id=\"T_58f3b_row7_col3\" class=\"data row7 col3\" >nan</td>\n",
       "                        <td id=\"T_58f3b_row7_col4\" class=\"data row7 col4\" >61.000000</td>\n",
       "            </tr>\n",
       "            <tr>\n",
       "                        <th id=\"T_58f3b_level0_row8\" class=\"row_heading level0 row8\" >gattiev01</th>\n",
       "                        <td id=\"T_58f3b_row8_col0\" class=\"data row8 col0\" >566.000000</td>\n",
       "                        <td id=\"T_58f3b_row8_col1\" class=\"data row8 col1\" >nan</td>\n",
       "                        <td id=\"T_58f3b_row8_col2\" class=\"data row8 col2\" >139.000000</td>\n",
       "                        <td id=\"T_58f3b_row8_col3\" class=\"data row8 col3\" >27.000000</td>\n",
       "                        <td id=\"T_58f3b_row8_col4\" class=\"data row8 col4\" >66.000000</td>\n",
       "            </tr>\n",
       "            <tr>\n",
       "                        <th id=\"T_58f3b_level0_row9\" class=\"row_heading level0 row9\" >gomezca01</th>\n",
       "                        <td id=\"T_58f3b_row9_col0\" class=\"data row9 col0\" >149.000000</td>\n",
       "                        <td id=\"T_58f3b_row9_col1\" class=\"data row9 col1\" >nan</td>\n",
       "                        <td id=\"T_58f3b_row9_col2\" class=\"data row9 col2\" >36.000000</td>\n",
       "                        <td id=\"T_58f3b_row9_col3\" class=\"data row9 col3\" >4.000000</td>\n",
       "                        <td id=\"T_58f3b_row9_col4\" class=\"data row9 col4\" >19.000000</td>\n",
       "            </tr>\n",
       "    </tbody></table>"
      ],
      "text/plain": [
       "<pandas.io.formats.style.Styler at 0x7fe442840e50>"
      ]
     },
     "execution_count": 49,
     "metadata": {},
     "output_type": "execute_result"
    }
   ],
   "source": [
    "df_14.add(df_15, fill_value=0).head(10).style.highlight_null('yellow')"
   ]
  },
  {
   "cell_type": "code",
   "execution_count": 50,
   "id": "e3d2ea8f",
   "metadata": {},
   "outputs": [],
   "source": [
    "employee = pd.read_csv('data/employee.csv')"
   ]
  },
  {
   "cell_type": "code",
   "execution_count": 51,
   "id": "5fa56be2",
   "metadata": {},
   "outputs": [
    {
     "data": {
      "text/html": [
       "<div>\n",
       "<style scoped>\n",
       "    .dataframe tbody tr th:only-of-type {\n",
       "        vertical-align: middle;\n",
       "    }\n",
       "\n",
       "    .dataframe tbody tr th {\n",
       "        vertical-align: top;\n",
       "    }\n",
       "\n",
       "    .dataframe thead th {\n",
       "        text-align: right;\n",
       "    }\n",
       "</style>\n",
       "<table border=\"1\" class=\"dataframe\">\n",
       "  <thead>\n",
       "    <tr style=\"text-align: right;\">\n",
       "      <th></th>\n",
       "      <th>DEPARTMENT</th>\n",
       "      <th>BASE_SALARY</th>\n",
       "    </tr>\n",
       "  </thead>\n",
       "  <tbody>\n",
       "    <tr>\n",
       "      <th>0</th>\n",
       "      <td>Municipal Courts Department</td>\n",
       "      <td>121862.0</td>\n",
       "    </tr>\n",
       "    <tr>\n",
       "      <th>1</th>\n",
       "      <td>Library</td>\n",
       "      <td>26125.0</td>\n",
       "    </tr>\n",
       "    <tr>\n",
       "      <th>2</th>\n",
       "      <td>Houston Police Department-HPD</td>\n",
       "      <td>45279.0</td>\n",
       "    </tr>\n",
       "    <tr>\n",
       "      <th>3</th>\n",
       "      <td>Houston Fire Department (HFD)</td>\n",
       "      <td>63166.0</td>\n",
       "    </tr>\n",
       "    <tr>\n",
       "      <th>4</th>\n",
       "      <td>General Services Department</td>\n",
       "      <td>56347.0</td>\n",
       "    </tr>\n",
       "  </tbody>\n",
       "</table>\n",
       "</div>"
      ],
      "text/plain": [
       "                      DEPARTMENT  BASE_SALARY\n",
       "0    Municipal Courts Department     121862.0\n",
       "1                        Library      26125.0\n",
       "2  Houston Police Department-HPD      45279.0\n",
       "3  Houston Fire Department (HFD)      63166.0\n",
       "4    General Services Department      56347.0"
      ]
     },
     "execution_count": 51,
     "metadata": {},
     "output_type": "execute_result"
    }
   ],
   "source": [
    "dept_sal = employee[['DEPARTMENT', 'BASE_SALARY']]\n",
    "dept_sal.head()"
   ]
  },
  {
   "cell_type": "code",
   "execution_count": 52,
   "id": "40b83a53",
   "metadata": {},
   "outputs": [],
   "source": [
    "dept_sal = dept_sal.sort_values(['DEPARTMENT', 'BASE_SALARY'], ascending=[True, False])"
   ]
  },
  {
   "cell_type": "code",
   "execution_count": 53,
   "id": "b8b40b1c",
   "metadata": {},
   "outputs": [
    {
     "data": {
      "text/html": [
       "<div>\n",
       "<style scoped>\n",
       "    .dataframe tbody tr th:only-of-type {\n",
       "        vertical-align: middle;\n",
       "    }\n",
       "\n",
       "    .dataframe tbody tr th {\n",
       "        vertical-align: top;\n",
       "    }\n",
       "\n",
       "    .dataframe thead th {\n",
       "        text-align: right;\n",
       "    }\n",
       "</style>\n",
       "<table border=\"1\" class=\"dataframe\">\n",
       "  <thead>\n",
       "    <tr style=\"text-align: right;\">\n",
       "      <th></th>\n",
       "      <th>DEPARTMENT</th>\n",
       "      <th>BASE_SALARY</th>\n",
       "    </tr>\n",
       "  </thead>\n",
       "  <tbody>\n",
       "    <tr>\n",
       "      <th>1494</th>\n",
       "      <td>Admn. &amp; Regulatory Affairs</td>\n",
       "      <td>140416.0</td>\n",
       "    </tr>\n",
       "    <tr>\n",
       "      <th>237</th>\n",
       "      <td>Admn. &amp; Regulatory Affairs</td>\n",
       "      <td>130416.0</td>\n",
       "    </tr>\n",
       "    <tr>\n",
       "      <th>1679</th>\n",
       "      <td>Admn. &amp; Regulatory Affairs</td>\n",
       "      <td>103776.0</td>\n",
       "    </tr>\n",
       "    <tr>\n",
       "      <th>988</th>\n",
       "      <td>Admn. &amp; Regulatory Affairs</td>\n",
       "      <td>72741.0</td>\n",
       "    </tr>\n",
       "    <tr>\n",
       "      <th>693</th>\n",
       "      <td>Admn. &amp; Regulatory Affairs</td>\n",
       "      <td>66825.0</td>\n",
       "    </tr>\n",
       "  </tbody>\n",
       "</table>\n",
       "</div>"
      ],
      "text/plain": [
       "                      DEPARTMENT  BASE_SALARY\n",
       "1494  Admn. & Regulatory Affairs     140416.0\n",
       "237   Admn. & Regulatory Affairs     130416.0\n",
       "1679  Admn. & Regulatory Affairs     103776.0\n",
       "988   Admn. & Regulatory Affairs      72741.0\n",
       "693   Admn. & Regulatory Affairs      66825.0"
      ]
     },
     "execution_count": 53,
     "metadata": {},
     "output_type": "execute_result"
    }
   ],
   "source": [
    "dept_sal.head()"
   ]
  },
  {
   "cell_type": "code",
   "execution_count": 54,
   "id": "d79c1c14",
   "metadata": {},
   "outputs": [
    {
     "data": {
      "text/html": [
       "<div>\n",
       "<style scoped>\n",
       "    .dataframe tbody tr th:only-of-type {\n",
       "        vertical-align: middle;\n",
       "    }\n",
       "\n",
       "    .dataframe tbody tr th {\n",
       "        vertical-align: top;\n",
       "    }\n",
       "\n",
       "    .dataframe thead th {\n",
       "        text-align: right;\n",
       "    }\n",
       "</style>\n",
       "<table border=\"1\" class=\"dataframe\">\n",
       "  <thead>\n",
       "    <tr style=\"text-align: right;\">\n",
       "      <th></th>\n",
       "      <th>DEPARTMENT</th>\n",
       "      <th>BASE_SALARY</th>\n",
       "    </tr>\n",
       "  </thead>\n",
       "  <tbody>\n",
       "    <tr>\n",
       "      <th>1494</th>\n",
       "      <td>Admn. &amp; Regulatory Affairs</td>\n",
       "      <td>140416.0</td>\n",
       "    </tr>\n",
       "    <tr>\n",
       "      <th>149</th>\n",
       "      <td>City Controller's Office</td>\n",
       "      <td>64251.0</td>\n",
       "    </tr>\n",
       "    <tr>\n",
       "      <th>236</th>\n",
       "      <td>City Council</td>\n",
       "      <td>100000.0</td>\n",
       "    </tr>\n",
       "    <tr>\n",
       "      <th>647</th>\n",
       "      <td>Convention and Entertainment</td>\n",
       "      <td>38397.0</td>\n",
       "    </tr>\n",
       "    <tr>\n",
       "      <th>1500</th>\n",
       "      <td>Dept of Neighborhoods (DON)</td>\n",
       "      <td>89221.0</td>\n",
       "    </tr>\n",
       "  </tbody>\n",
       "</table>\n",
       "</div>"
      ],
      "text/plain": [
       "                        DEPARTMENT  BASE_SALARY\n",
       "1494    Admn. & Regulatory Affairs     140416.0\n",
       "149       City Controller's Office      64251.0\n",
       "236                   City Council     100000.0\n",
       "647   Convention and Entertainment      38397.0\n",
       "1500   Dept of Neighborhoods (DON)      89221.0"
      ]
     },
     "execution_count": 54,
     "metadata": {},
     "output_type": "execute_result"
    }
   ],
   "source": [
    "max_dept_sal = dept_sal.drop_duplicates(subset=['DEPARTMENT'])\n",
    "max_dept_sal.head(5)"
   ]
  },
  {
   "cell_type": "code",
   "execution_count": 55,
   "id": "1f3a8b59",
   "metadata": {},
   "outputs": [],
   "source": [
    "max_dept_sal = max_dept_sal.set_index('DEPARTMENT')\n",
    "employee = employee.set_index('DEPARTMENT')"
   ]
  },
  {
   "cell_type": "code",
   "execution_count": 56,
   "id": "e31f5e75",
   "metadata": {},
   "outputs": [
    {
     "data": {
      "text/plain": [
       "Index(['Municipal Courts Department', 'Library',\n",
       "       'Houston Police Department-HPD', 'Houston Fire Department (HFD)',\n",
       "       'General Services Department', 'Houston Police Department-HPD',\n",
       "       'Public Works & Engineering-PWE', 'Houston Airport System (HAS)',\n",
       "       'Public Works & Engineering-PWE', 'Houston Airport System (HAS)',\n",
       "       ...\n",
       "       'Parks & Recreation', 'Houston Police Department-HPD',\n",
       "       'Houston Airport System (HAS)', 'Houston Police Department-HPD',\n",
       "       'Houston Police Department-HPD', 'Houston Police Department-HPD',\n",
       "       'Houston Fire Department (HFD)', 'Houston Police Department-HPD',\n",
       "       'Houston Police Department-HPD', 'Houston Fire Department (HFD)'],\n",
       "      dtype='object', name='DEPARTMENT', length=2000)"
      ]
     },
     "execution_count": 56,
     "metadata": {},
     "output_type": "execute_result"
    }
   ],
   "source": [
    "employee.index"
   ]
  },
  {
   "cell_type": "code",
   "execution_count": 57,
   "id": "7c06f86d",
   "metadata": {},
   "outputs": [
    {
     "data": {
      "text/plain": [
       "Index(['Admn. & Regulatory Affairs', 'City Controller's Office',\n",
       "       'City Council', 'Convention and Entertainment',\n",
       "       'Dept of Neighborhoods (DON)', 'Finance', 'Fleet Management Department',\n",
       "       'General Services Department', 'Health & Human Services',\n",
       "       'Housing and Community Devp.', 'Houston Airport System (HAS)',\n",
       "       'Houston Emergency Center (HEC)', 'Houston Fire Department (HFD)',\n",
       "       'Houston Information Tech Svcs', 'Houston Police Department-HPD',\n",
       "       'Human Resources Dept.', 'Legal Department', 'Library',\n",
       "       'Mayor's Office', 'Municipal Courts Department', 'Parks & Recreation',\n",
       "       'Planning & Development', 'Public Works & Engineering-PWE',\n",
       "       'Solid Waste Management'],\n",
       "      dtype='object', name='DEPARTMENT')"
      ]
     },
     "execution_count": 57,
     "metadata": {},
     "output_type": "execute_result"
    }
   ],
   "source": [
    "max_dept_sal.index"
   ]
  },
  {
   "cell_type": "code",
   "execution_count": 58,
   "id": "2dba7207",
   "metadata": {},
   "outputs": [
    {
     "data": {
      "text/html": [
       "<div>\n",
       "<style scoped>\n",
       "    .dataframe tbody tr th:only-of-type {\n",
       "        vertical-align: middle;\n",
       "    }\n",
       "\n",
       "    .dataframe tbody tr th {\n",
       "        vertical-align: top;\n",
       "    }\n",
       "\n",
       "    .dataframe thead th {\n",
       "        text-align: right;\n",
       "    }\n",
       "</style>\n",
       "<table border=\"1\" class=\"dataframe\">\n",
       "  <thead>\n",
       "    <tr style=\"text-align: right;\">\n",
       "      <th></th>\n",
       "      <th>UNIQUE_ID</th>\n",
       "      <th>POSITION_TITLE</th>\n",
       "      <th>BASE_SALARY</th>\n",
       "      <th>RACE</th>\n",
       "      <th>...</th>\n",
       "      <th>EMPLOYMENT_STATUS</th>\n",
       "      <th>HIRE_DATE</th>\n",
       "      <th>JOB_DATE</th>\n",
       "      <th>MAX_DEPT_SALARY</th>\n",
       "    </tr>\n",
       "    <tr>\n",
       "      <th>DEPARTMENT</th>\n",
       "      <th></th>\n",
       "      <th></th>\n",
       "      <th></th>\n",
       "      <th></th>\n",
       "      <th></th>\n",
       "      <th></th>\n",
       "      <th></th>\n",
       "      <th></th>\n",
       "      <th></th>\n",
       "    </tr>\n",
       "  </thead>\n",
       "  <tbody>\n",
       "    <tr>\n",
       "      <th>Municipal Courts Department</th>\n",
       "      <td>0</td>\n",
       "      <td>ASSISTANT DIRECTOR (EX LVL)</td>\n",
       "      <td>121862.0</td>\n",
       "      <td>Hispanic/Latino</td>\n",
       "      <td>...</td>\n",
       "      <td>Active</td>\n",
       "      <td>2006-06-12</td>\n",
       "      <td>2012-10-13</td>\n",
       "      <td>121862.0</td>\n",
       "    </tr>\n",
       "    <tr>\n",
       "      <th>Library</th>\n",
       "      <td>1</td>\n",
       "      <td>LIBRARY ASSISTANT</td>\n",
       "      <td>26125.0</td>\n",
       "      <td>Hispanic/Latino</td>\n",
       "      <td>...</td>\n",
       "      <td>Active</td>\n",
       "      <td>2000-07-19</td>\n",
       "      <td>2010-09-18</td>\n",
       "      <td>107763.0</td>\n",
       "    </tr>\n",
       "    <tr>\n",
       "      <th>Houston Police Department-HPD</th>\n",
       "      <td>2</td>\n",
       "      <td>POLICE OFFICER</td>\n",
       "      <td>45279.0</td>\n",
       "      <td>White</td>\n",
       "      <td>...</td>\n",
       "      <td>Active</td>\n",
       "      <td>2015-02-03</td>\n",
       "      <td>2015-02-03</td>\n",
       "      <td>199596.0</td>\n",
       "    </tr>\n",
       "    <tr>\n",
       "      <th>Houston Fire Department (HFD)</th>\n",
       "      <td>3</td>\n",
       "      <td>ENGINEER/OPERATOR</td>\n",
       "      <td>63166.0</td>\n",
       "      <td>White</td>\n",
       "      <td>...</td>\n",
       "      <td>Active</td>\n",
       "      <td>1982-02-08</td>\n",
       "      <td>1991-05-25</td>\n",
       "      <td>210588.0</td>\n",
       "    </tr>\n",
       "    <tr>\n",
       "      <th>General Services Department</th>\n",
       "      <td>4</td>\n",
       "      <td>ELECTRICIAN</td>\n",
       "      <td>56347.0</td>\n",
       "      <td>White</td>\n",
       "      <td>...</td>\n",
       "      <td>Active</td>\n",
       "      <td>1989-06-19</td>\n",
       "      <td>1994-10-22</td>\n",
       "      <td>89194.0</td>\n",
       "    </tr>\n",
       "  </tbody>\n",
       "</table>\n",
       "<p>5 rows × 10 columns</p>\n",
       "</div>"
      ],
      "text/plain": [
       "                               UNIQUE_ID               POSITION_TITLE  \\\n",
       "DEPARTMENT                                                              \n",
       "Municipal Courts Department            0  ASSISTANT DIRECTOR (EX LVL)   \n",
       "Library                                1            LIBRARY ASSISTANT   \n",
       "Houston Police Department-HPD          2               POLICE OFFICER   \n",
       "Houston Fire Department (HFD)          3            ENGINEER/OPERATOR   \n",
       "General Services Department            4                  ELECTRICIAN   \n",
       "\n",
       "                               BASE_SALARY             RACE  ...  \\\n",
       "DEPARTMENT                                                   ...   \n",
       "Municipal Courts Department       121862.0  Hispanic/Latino  ...   \n",
       "Library                            26125.0  Hispanic/Latino  ...   \n",
       "Houston Police Department-HPD      45279.0            White  ...   \n",
       "Houston Fire Department (HFD)      63166.0            White  ...   \n",
       "General Services Department        56347.0            White  ...   \n",
       "\n",
       "                              EMPLOYMENT_STATUS   HIRE_DATE    JOB_DATE  \\\n",
       "DEPARTMENT                                                                \n",
       "Municipal Courts Department              Active  2006-06-12  2012-10-13   \n",
       "Library                                  Active  2000-07-19  2010-09-18   \n",
       "Houston Police Department-HPD            Active  2015-02-03  2015-02-03   \n",
       "Houston Fire Department (HFD)            Active  1982-02-08  1991-05-25   \n",
       "General Services Department              Active  1989-06-19  1994-10-22   \n",
       "\n",
       "                              MAX_DEPT_SALARY  \n",
       "DEPARTMENT                                     \n",
       "Municipal Courts Department          121862.0  \n",
       "Library                              107763.0  \n",
       "Houston Police Department-HPD        199596.0  \n",
       "Houston Fire Department (HFD)        210588.0  \n",
       "General Services Department           89194.0  \n",
       "\n",
       "[5 rows x 10 columns]"
      ]
     },
     "execution_count": 58,
     "metadata": {},
     "output_type": "execute_result"
    }
   ],
   "source": [
    "employee['MAX_DEPT_SALARY'] = max_dept_sal['BASE_SALARY']\n",
    "employee.head()"
   ]
  },
  {
   "cell_type": "code",
   "execution_count": 59,
   "id": "3466e795",
   "metadata": {},
   "outputs": [
    {
     "data": {
      "text/html": [
       "<div>\n",
       "<style scoped>\n",
       "    .dataframe tbody tr th:only-of-type {\n",
       "        vertical-align: middle;\n",
       "    }\n",
       "\n",
       "    .dataframe tbody tr th {\n",
       "        vertical-align: top;\n",
       "    }\n",
       "\n",
       "    .dataframe thead th {\n",
       "        text-align: right;\n",
       "    }\n",
       "</style>\n",
       "<table border=\"1\" class=\"dataframe\">\n",
       "  <thead>\n",
       "    <tr style=\"text-align: right;\">\n",
       "      <th></th>\n",
       "      <th>UNIQUE_ID</th>\n",
       "      <th>POSITION_TITLE</th>\n",
       "      <th>BASE_SALARY</th>\n",
       "      <th>RACE</th>\n",
       "      <th>...</th>\n",
       "      <th>EMPLOYMENT_STATUS</th>\n",
       "      <th>HIRE_DATE</th>\n",
       "      <th>JOB_DATE</th>\n",
       "      <th>MAX_DEPT_SALARY</th>\n",
       "    </tr>\n",
       "    <tr>\n",
       "      <th>DEPARTMENT</th>\n",
       "      <th></th>\n",
       "      <th></th>\n",
       "      <th></th>\n",
       "      <th></th>\n",
       "      <th></th>\n",
       "      <th></th>\n",
       "      <th></th>\n",
       "      <th></th>\n",
       "      <th></th>\n",
       "    </tr>\n",
       "  </thead>\n",
       "  <tbody>\n",
       "  </tbody>\n",
       "</table>\n",
       "<p>0 rows × 10 columns</p>\n",
       "</div>"
      ],
      "text/plain": [
       "Empty DataFrame\n",
       "Columns: [UNIQUE_ID, POSITION_TITLE, BASE_SALARY, RACE, EMPLOYMENT_TYPE, GENDER, EMPLOYMENT_STATUS, HIRE_DATE, JOB_DATE, MAX_DEPT_SALARY]\n",
       "Index: []\n",
       "\n",
       "[0 rows x 10 columns]"
      ]
     },
     "execution_count": 59,
     "metadata": {},
     "output_type": "execute_result"
    }
   ],
   "source": [
    "employee.query('BASE_SALARY > MAX_DEPT_SALARY')  # should be zero as all deprtments updated with max salary"
   ]
  },
  {
   "cell_type": "markdown",
   "id": "1b334e81",
   "metadata": {},
   "source": [
    "### Getting max value from each column"
   ]
  },
  {
   "cell_type": "code",
   "execution_count": 60,
   "id": "9e27b77b",
   "metadata": {},
   "outputs": [
    {
     "data": {
      "text/plain": [
       "CITY                   object\n",
       "STABBR                 object\n",
       "HBCU                  float64\n",
       "MENONLY               float64\n",
       "WOMENONLY             float64\n",
       "                       ...   \n",
       "PCTPELL               float64\n",
       "PCTFLOAN              float64\n",
       "UG25ABV               float64\n",
       "MD_EARN_WNE_P10        object\n",
       "GRAD_DEBT_MDN_SUPP     object\n",
       "Length: 26, dtype: object"
      ]
     },
     "execution_count": 60,
     "metadata": {},
     "output_type": "execute_result"
    }
   ],
   "source": [
    "college = pd.read_csv('data/college.csv', index_col='INSTNM')\n",
    "college.dtypes"
   ]
  },
  {
   "cell_type": "code",
   "execution_count": 61,
   "id": "af334bf0",
   "metadata": {},
   "outputs": [
    {
     "data": {
      "text/plain": [
       "'44200'"
      ]
     },
     "execution_count": 61,
     "metadata": {},
     "output_type": "execute_result"
    }
   ],
   "source": [
    "college.MD_EARN_WNE_P10.iloc[10]"
   ]
  },
  {
   "cell_type": "code",
   "execution_count": 62,
   "id": "5fbcac59",
   "metadata": {},
   "outputs": [
    {
     "data": {
      "text/plain": [
       "'4500'"
      ]
     },
     "execution_count": 62,
     "metadata": {},
     "output_type": "execute_result"
    }
   ],
   "source": [
    "college.GRAD_DEBT_MDN_SUPP.iloc[40]"
   ]
  },
  {
   "cell_type": "code",
   "execution_count": 63,
   "id": "bc59a0f3",
   "metadata": {},
   "outputs": [
    {
     "data": {
      "text/plain": [
       "INSTNM\n",
       "Sharon Regional Health System School of Nursing          PrivacySuppressed\n",
       "P&A Scholars Beauty School                               PrivacySuppressed\n",
       "Fairview Beauty Academy                                  PrivacySuppressed\n",
       "Rabbi Jacob Joseph School                                PrivacySuppressed\n",
       "Acupuncture and Integrative Medicine College-Berkeley    PrivacySuppressed\n",
       "Name: MD_EARN_WNE_P10, dtype: object"
      ]
     },
     "execution_count": 63,
     "metadata": {},
     "output_type": "execute_result"
    }
   ],
   "source": [
    "college.MD_EARN_WNE_P10.sort_values(ascending=False).head(5)"
   ]
  },
  {
   "cell_type": "code",
   "execution_count": 64,
   "id": "84d3d6d1",
   "metadata": {},
   "outputs": [],
   "source": [
    "cols = ['MD_EARN_WNE_P10', 'GRAD_DEBT_MDN_SUPP']\n",
    "for col in cols:\n",
    "    college[col] = pd.to_numeric(college[col], errors='coerce')"
   ]
  },
  {
   "cell_type": "code",
   "execution_count": 65,
   "id": "9ec27f43",
   "metadata": {},
   "outputs": [
    {
     "data": {
      "text/plain": [
       "MD_EARN_WNE_P10       float64\n",
       "GRAD_DEBT_MDN_SUPP    float64\n",
       "dtype: object"
      ]
     },
     "execution_count": 65,
     "metadata": {},
     "output_type": "execute_result"
    }
   ],
   "source": [
    "college.dtypes.loc[cols]"
   ]
  },
  {
   "cell_type": "code",
   "execution_count": 66,
   "id": "c69280bf",
   "metadata": {},
   "outputs": [
    {
     "data": {
      "text/html": [
       "<div>\n",
       "<style scoped>\n",
       "    .dataframe tbody tr th:only-of-type {\n",
       "        vertical-align: middle;\n",
       "    }\n",
       "\n",
       "    .dataframe tbody tr th {\n",
       "        vertical-align: top;\n",
       "    }\n",
       "\n",
       "    .dataframe thead th {\n",
       "        text-align: right;\n",
       "    }\n",
       "</style>\n",
       "<table border=\"1\" class=\"dataframe\">\n",
       "  <thead>\n",
       "    <tr style=\"text-align: right;\">\n",
       "      <th></th>\n",
       "      <th>HBCU</th>\n",
       "      <th>MENONLY</th>\n",
       "      <th>WOMENONLY</th>\n",
       "      <th>RELAFFIL</th>\n",
       "      <th>...</th>\n",
       "      <th>PCTFLOAN</th>\n",
       "      <th>UG25ABV</th>\n",
       "      <th>MD_EARN_WNE_P10</th>\n",
       "      <th>GRAD_DEBT_MDN_SUPP</th>\n",
       "    </tr>\n",
       "    <tr>\n",
       "      <th>INSTNM</th>\n",
       "      <th></th>\n",
       "      <th></th>\n",
       "      <th></th>\n",
       "      <th></th>\n",
       "      <th></th>\n",
       "      <th></th>\n",
       "      <th></th>\n",
       "      <th></th>\n",
       "      <th></th>\n",
       "    </tr>\n",
       "  </thead>\n",
       "  <tbody>\n",
       "    <tr>\n",
       "      <th>Alabama A &amp; M University</th>\n",
       "      <td>1.0</td>\n",
       "      <td>0.0</td>\n",
       "      <td>0.0</td>\n",
       "      <td>0</td>\n",
       "      <td>...</td>\n",
       "      <td>0.8284</td>\n",
       "      <td>0.1049</td>\n",
       "      <td>30300.0</td>\n",
       "      <td>33888.0</td>\n",
       "    </tr>\n",
       "    <tr>\n",
       "      <th>University of Alabama at Birmingham</th>\n",
       "      <td>0.0</td>\n",
       "      <td>0.0</td>\n",
       "      <td>0.0</td>\n",
       "      <td>0</td>\n",
       "      <td>...</td>\n",
       "      <td>0.5214</td>\n",
       "      <td>0.2422</td>\n",
       "      <td>39700.0</td>\n",
       "      <td>21941.5</td>\n",
       "    </tr>\n",
       "    <tr>\n",
       "      <th>Amridge University</th>\n",
       "      <td>0.0</td>\n",
       "      <td>0.0</td>\n",
       "      <td>0.0</td>\n",
       "      <td>1</td>\n",
       "      <td>...</td>\n",
       "      <td>0.7795</td>\n",
       "      <td>0.8540</td>\n",
       "      <td>40100.0</td>\n",
       "      <td>23370.0</td>\n",
       "    </tr>\n",
       "  </tbody>\n",
       "</table>\n",
       "<p>3 rows × 24 columns</p>\n",
       "</div>"
      ],
      "text/plain": [
       "                                     HBCU  MENONLY  WOMENONLY  RELAFFIL  ...  \\\n",
       "INSTNM                                                                   ...   \n",
       "Alabama A & M University              1.0      0.0        0.0         0  ...   \n",
       "University of Alabama at Birmingham   0.0      0.0        0.0         0  ...   \n",
       "Amridge University                    0.0      0.0        0.0         1  ...   \n",
       "\n",
       "                                     PCTFLOAN  UG25ABV  MD_EARN_WNE_P10  \\\n",
       "INSTNM                                                                    \n",
       "Alabama A & M University               0.8284   0.1049          30300.0   \n",
       "University of Alabama at Birmingham    0.5214   0.2422          39700.0   \n",
       "Amridge University                     0.7795   0.8540          40100.0   \n",
       "\n",
       "                                     GRAD_DEBT_MDN_SUPP  \n",
       "INSTNM                                                   \n",
       "Alabama A & M University                        33888.0  \n",
       "University of Alabama at Birmingham             21941.5  \n",
       "Amridge University                              23370.0  \n",
       "\n",
       "[3 rows x 24 columns]"
      ]
     },
     "execution_count": 66,
     "metadata": {},
     "output_type": "execute_result"
    }
   ],
   "source": [
    "college_n = college.select_dtypes(include=[np.number])\n",
    "college_n.head(3)"
   ]
  },
  {
   "cell_type": "code",
   "execution_count": 67,
   "id": "5bf75d21",
   "metadata": {},
   "outputs": [
    {
     "data": {
      "text/plain": [
       "HBCU                   True\n",
       "MENONLY                True\n",
       "WOMENONLY              True\n",
       "RELAFFIL               True\n",
       "SATVRMID              False\n",
       "                      ...  \n",
       "PCTPELL               False\n",
       "PCTFLOAN              False\n",
       "UG25ABV               False\n",
       "MD_EARN_WNE_P10       False\n",
       "GRAD_DEBT_MDN_SUPP    False\n",
       "Length: 24, dtype: bool"
      ]
     },
     "execution_count": 67,
     "metadata": {},
     "output_type": "execute_result"
    }
   ],
   "source": [
    "criteria = college_n.nunique() == 2\n",
    "criteria"
   ]
  },
  {
   "cell_type": "code",
   "execution_count": 68,
   "id": "b51c9519",
   "metadata": {},
   "outputs": [
    {
     "data": {
      "text/plain": [
       "['HBCU', 'MENONLY', 'WOMENONLY', 'RELAFFIL', 'DISTANCEONLY', 'CURROPER']"
      ]
     },
     "execution_count": 68,
     "metadata": {},
     "output_type": "execute_result"
    }
   ],
   "source": [
    "binary_cols = college_n.columns[criteria].tolist()  # columns with only two values (binary ??)\n",
    "binary_cols"
   ]
  },
  {
   "cell_type": "code",
   "execution_count": 69,
   "id": "83250183",
   "metadata": {},
   "outputs": [],
   "source": [
    "college_n2 = college_n.drop(labels=binary_cols, axis='columns')"
   ]
  },
  {
   "cell_type": "code",
   "execution_count": 70,
   "id": "9708811d",
   "metadata": {},
   "outputs": [
    {
     "data": {
      "text/html": [
       "<div>\n",
       "<style scoped>\n",
       "    .dataframe tbody tr th:only-of-type {\n",
       "        vertical-align: middle;\n",
       "    }\n",
       "\n",
       "    .dataframe tbody tr th {\n",
       "        vertical-align: top;\n",
       "    }\n",
       "\n",
       "    .dataframe thead th {\n",
       "        text-align: right;\n",
       "    }\n",
       "</style>\n",
       "<table border=\"1\" class=\"dataframe\">\n",
       "  <thead>\n",
       "    <tr style=\"text-align: right;\">\n",
       "      <th></th>\n",
       "      <th>SATVRMID</th>\n",
       "      <th>SATMTMID</th>\n",
       "      <th>UGDS</th>\n",
       "      <th>UGDS_WHITE</th>\n",
       "      <th>...</th>\n",
       "      <th>PCTFLOAN</th>\n",
       "      <th>UG25ABV</th>\n",
       "      <th>MD_EARN_WNE_P10</th>\n",
       "      <th>GRAD_DEBT_MDN_SUPP</th>\n",
       "    </tr>\n",
       "    <tr>\n",
       "      <th>INSTNM</th>\n",
       "      <th></th>\n",
       "      <th></th>\n",
       "      <th></th>\n",
       "      <th></th>\n",
       "      <th></th>\n",
       "      <th></th>\n",
       "      <th></th>\n",
       "      <th></th>\n",
       "      <th></th>\n",
       "    </tr>\n",
       "  </thead>\n",
       "  <tbody>\n",
       "    <tr>\n",
       "      <th>Alabama A &amp; M University</th>\n",
       "      <td>424.0</td>\n",
       "      <td>420.0</td>\n",
       "      <td>4206.0</td>\n",
       "      <td>0.0333</td>\n",
       "      <td>...</td>\n",
       "      <td>0.8284</td>\n",
       "      <td>0.1049</td>\n",
       "      <td>30300.0</td>\n",
       "      <td>33888.0</td>\n",
       "    </tr>\n",
       "    <tr>\n",
       "      <th>University of Alabama at Birmingham</th>\n",
       "      <td>570.0</td>\n",
       "      <td>565.0</td>\n",
       "      <td>11383.0</td>\n",
       "      <td>0.5922</td>\n",
       "      <td>...</td>\n",
       "      <td>0.5214</td>\n",
       "      <td>0.2422</td>\n",
       "      <td>39700.0</td>\n",
       "      <td>21941.5</td>\n",
       "    </tr>\n",
       "    <tr>\n",
       "      <th>Amridge University</th>\n",
       "      <td>NaN</td>\n",
       "      <td>NaN</td>\n",
       "      <td>291.0</td>\n",
       "      <td>0.2990</td>\n",
       "      <td>...</td>\n",
       "      <td>0.7795</td>\n",
       "      <td>0.8540</td>\n",
       "      <td>40100.0</td>\n",
       "      <td>23370.0</td>\n",
       "    </tr>\n",
       "    <tr>\n",
       "      <th>University of Alabama in Huntsville</th>\n",
       "      <td>595.0</td>\n",
       "      <td>590.0</td>\n",
       "      <td>5451.0</td>\n",
       "      <td>0.6988</td>\n",
       "      <td>...</td>\n",
       "      <td>0.4596</td>\n",
       "      <td>0.2640</td>\n",
       "      <td>45500.0</td>\n",
       "      <td>24097.0</td>\n",
       "    </tr>\n",
       "    <tr>\n",
       "      <th>Alabama State University</th>\n",
       "      <td>425.0</td>\n",
       "      <td>430.0</td>\n",
       "      <td>4811.0</td>\n",
       "      <td>0.0158</td>\n",
       "      <td>...</td>\n",
       "      <td>0.7554</td>\n",
       "      <td>0.1270</td>\n",
       "      <td>26600.0</td>\n",
       "      <td>33118.5</td>\n",
       "    </tr>\n",
       "  </tbody>\n",
       "</table>\n",
       "<p>5 rows × 18 columns</p>\n",
       "</div>"
      ],
      "text/plain": [
       "                                     SATVRMID  SATMTMID     UGDS  UGDS_WHITE  \\\n",
       "INSTNM                                                                         \n",
       "Alabama A & M University                424.0     420.0   4206.0      0.0333   \n",
       "University of Alabama at Birmingham     570.0     565.0  11383.0      0.5922   \n",
       "Amridge University                        NaN       NaN    291.0      0.2990   \n",
       "University of Alabama in Huntsville     595.0     590.0   5451.0      0.6988   \n",
       "Alabama State University                425.0     430.0   4811.0      0.0158   \n",
       "\n",
       "                                     ...  PCTFLOAN  UG25ABV  MD_EARN_WNE_P10  \\\n",
       "INSTNM                               ...                                       \n",
       "Alabama A & M University             ...    0.8284   0.1049          30300.0   \n",
       "University of Alabama at Birmingham  ...    0.5214   0.2422          39700.0   \n",
       "Amridge University                   ...    0.7795   0.8540          40100.0   \n",
       "University of Alabama in Huntsville  ...    0.4596   0.2640          45500.0   \n",
       "Alabama State University             ...    0.7554   0.1270          26600.0   \n",
       "\n",
       "                                     GRAD_DEBT_MDN_SUPP  \n",
       "INSTNM                                                   \n",
       "Alabama A & M University                        33888.0  \n",
       "University of Alabama at Birmingham             21941.5  \n",
       "Amridge University                              23370.0  \n",
       "University of Alabama in Huntsville             24097.0  \n",
       "Alabama State University                        33118.5  \n",
       "\n",
       "[5 rows x 18 columns]"
      ]
     },
     "execution_count": 70,
     "metadata": {},
     "output_type": "execute_result"
    }
   ],
   "source": [
    "college_n2.head()"
   ]
  },
  {
   "cell_type": "markdown",
   "id": "3b256c17",
   "metadata": {},
   "source": [
    "### getting the max value of each column ( the index value is returned)"
   ]
  },
  {
   "cell_type": "code",
   "execution_count": 71,
   "id": "3143e9de",
   "metadata": {},
   "outputs": [],
   "source": [
    "max_cols = college_n2.idxmax()"
   ]
  },
  {
   "cell_type": "code",
   "execution_count": 72,
   "id": "e70281a7",
   "metadata": {},
   "outputs": [
    {
     "data": {
      "text/plain": [
       "SATVRMID                             California Institute of Technology\n",
       "SATMTMID                             California Institute of Technology\n",
       "UGDS                                      University of Phoenix-Arizona\n",
       "UGDS_WHITE                       Mr Leon's School of Hair Design-Moscow\n",
       "UGDS_BLACK                           Velvatex College of Beauty Culture\n",
       "UGDS_HISP                       Thunderbird School of Global Management\n",
       "UGDS_ASIAN                          Cosmopolitan Beauty and Tech School\n",
       "UGDS_AIAN                             Haskell Indian Nations University\n",
       "UGDS_NHPI                                       Palau Community College\n",
       "UGDS_2MOR                                                 LIU Brentwood\n",
       "UGDS_NRA               California University of Management and Sciences\n",
       "UGDS_UNKN             Le Cordon Bleu College of Culinary Arts-San Fr...\n",
       "PPTUG_EF                        Thunderbird School of Global Management\n",
       "PCTPELL                                        MTI Business College Inc\n",
       "PCTFLOAN                                         ABC Beauty College Inc\n",
       "UG25ABV                                  Dongguk University-Los Angeles\n",
       "MD_EARN_WNE_P10                            Medical College of Wisconsin\n",
       "GRAD_DEBT_MDN_SUPP           Southwest University of Visual Arts-Tucson\n",
       "dtype: object"
      ]
     },
     "execution_count": 72,
     "metadata": {},
     "output_type": "execute_result"
    }
   ],
   "source": [
    "max_cols"
   ]
  },
  {
   "cell_type": "code",
   "execution_count": 73,
   "id": "456e446c",
   "metadata": {},
   "outputs": [
    {
     "data": {
      "text/plain": [
       "array(['California Institute of Technology',\n",
       "       'University of Phoenix-Arizona',\n",
       "       \"Mr Leon's School of Hair Design-Moscow\",\n",
       "       'Velvatex College of Beauty Culture',\n",
       "       'Thunderbird School of Global Management'], dtype=object)"
      ]
     },
     "execution_count": 73,
     "metadata": {},
     "output_type": "execute_result"
    }
   ],
   "source": [
    "unique_max_cols = max_cols.unique()\n",
    "unique_max_cols[:5]"
   ]
  },
  {
   "cell_type": "code",
   "execution_count": 74,
   "id": "6d4b0038",
   "metadata": {},
   "outputs": [
    {
     "data": {
      "text/html": [
       "<style  type=\"text/css\" >\n",
       "#T_096ae_row0_col0,#T_096ae_row0_col1,#T_096ae_row1_col2,#T_096ae_row2_col3,#T_096ae_row3_col4,#T_096ae_row4_col5,#T_096ae_row4_col12,#T_096ae_row5_col6,#T_096ae_row6_col7,#T_096ae_row7_col8,#T_096ae_row8_col9,#T_096ae_row9_col10,#T_096ae_row10_col11,#T_096ae_row11_col13,#T_096ae_row11_col14,#T_096ae_row12_col14,#T_096ae_row13_col15,#T_096ae_row14_col16,#T_096ae_row15_col17{\n",
       "            background-color:  yellow;\n",
       "        }</style><table id=\"T_096ae_\" ><thead>    <tr>        <th class=\"blank level0\" ></th>        <th class=\"col_heading level0 col0\" >SATVRMID</th>        <th class=\"col_heading level0 col1\" >SATMTMID</th>        <th class=\"col_heading level0 col2\" >UGDS</th>        <th class=\"col_heading level0 col3\" >UGDS_WHITE</th>        <th class=\"col_heading level0 col4\" >UGDS_BLACK</th>        <th class=\"col_heading level0 col5\" >UGDS_HISP</th>        <th class=\"col_heading level0 col6\" >UGDS_ASIAN</th>        <th class=\"col_heading level0 col7\" >UGDS_AIAN</th>        <th class=\"col_heading level0 col8\" >UGDS_NHPI</th>        <th class=\"col_heading level0 col9\" >UGDS_2MOR</th>        <th class=\"col_heading level0 col10\" >UGDS_NRA</th>        <th class=\"col_heading level0 col11\" >UGDS_UNKN</th>        <th class=\"col_heading level0 col12\" >PPTUG_EF</th>        <th class=\"col_heading level0 col13\" >PCTPELL</th>        <th class=\"col_heading level0 col14\" >PCTFLOAN</th>        <th class=\"col_heading level0 col15\" >UG25ABV</th>        <th class=\"col_heading level0 col16\" >MD_EARN_WNE_P10</th>        <th class=\"col_heading level0 col17\" >GRAD_DEBT_MDN_SUPP</th>    </tr>    <tr>        <th class=\"index_name level0\" >INSTNM</th>        <th class=\"blank\" ></th>        <th class=\"blank\" ></th>        <th class=\"blank\" ></th>        <th class=\"blank\" ></th>        <th class=\"blank\" ></th>        <th class=\"blank\" ></th>        <th class=\"blank\" ></th>        <th class=\"blank\" ></th>        <th class=\"blank\" ></th>        <th class=\"blank\" ></th>        <th class=\"blank\" ></th>        <th class=\"blank\" ></th>        <th class=\"blank\" ></th>        <th class=\"blank\" ></th>        <th class=\"blank\" ></th>        <th class=\"blank\" ></th>        <th class=\"blank\" ></th>        <th class=\"blank\" ></th>    </tr></thead><tbody>\n",
       "                <tr>\n",
       "                        <th id=\"T_096ae_level0_row0\" class=\"row_heading level0 row0\" >California Institute of Technology</th>\n",
       "                        <td id=\"T_096ae_row0_col0\" class=\"data row0 col0\" >765.000000</td>\n",
       "                        <td id=\"T_096ae_row0_col1\" class=\"data row0 col1\" >785.000000</td>\n",
       "                        <td id=\"T_096ae_row0_col2\" class=\"data row0 col2\" >983.000000</td>\n",
       "                        <td id=\"T_096ae_row0_col3\" class=\"data row0 col3\" >0.278700</td>\n",
       "                        <td id=\"T_096ae_row0_col4\" class=\"data row0 col4\" >0.015300</td>\n",
       "                        <td id=\"T_096ae_row0_col5\" class=\"data row0 col5\" >0.122100</td>\n",
       "                        <td id=\"T_096ae_row0_col6\" class=\"data row0 col6\" >0.438500</td>\n",
       "                        <td id=\"T_096ae_row0_col7\" class=\"data row0 col7\" >0.001000</td>\n",
       "                        <td id=\"T_096ae_row0_col8\" class=\"data row0 col8\" >0.000000</td>\n",
       "                        <td id=\"T_096ae_row0_col9\" class=\"data row0 col9\" >0.057000</td>\n",
       "                        <td id=\"T_096ae_row0_col10\" class=\"data row0 col10\" >0.087500</td>\n",
       "                        <td id=\"T_096ae_row0_col11\" class=\"data row0 col11\" >0.000000</td>\n",
       "                        <td id=\"T_096ae_row0_col12\" class=\"data row0 col12\" >0.000000</td>\n",
       "                        <td id=\"T_096ae_row0_col13\" class=\"data row0 col13\" >0.112600</td>\n",
       "                        <td id=\"T_096ae_row0_col14\" class=\"data row0 col14\" >0.230300</td>\n",
       "                        <td id=\"T_096ae_row0_col15\" class=\"data row0 col15\" >0.008200</td>\n",
       "                        <td id=\"T_096ae_row0_col16\" class=\"data row0 col16\" >77800.000000</td>\n",
       "                        <td id=\"T_096ae_row0_col17\" class=\"data row0 col17\" >11812.500000</td>\n",
       "            </tr>\n",
       "            <tr>\n",
       "                        <th id=\"T_096ae_level0_row1\" class=\"row_heading level0 row1\" >University of Phoenix-Arizona</th>\n",
       "                        <td id=\"T_096ae_row1_col0\" class=\"data row1 col0\" >nan</td>\n",
       "                        <td id=\"T_096ae_row1_col1\" class=\"data row1 col1\" >nan</td>\n",
       "                        <td id=\"T_096ae_row1_col2\" class=\"data row1 col2\" >151558.000000</td>\n",
       "                        <td id=\"T_096ae_row1_col3\" class=\"data row1 col3\" >0.309800</td>\n",
       "                        <td id=\"T_096ae_row1_col4\" class=\"data row1 col4\" >0.155500</td>\n",
       "                        <td id=\"T_096ae_row1_col5\" class=\"data row1 col5\" >0.076000</td>\n",
       "                        <td id=\"T_096ae_row1_col6\" class=\"data row1 col6\" >0.008200</td>\n",
       "                        <td id=\"T_096ae_row1_col7\" class=\"data row1 col7\" >0.004200</td>\n",
       "                        <td id=\"T_096ae_row1_col8\" class=\"data row1 col8\" >0.005000</td>\n",
       "                        <td id=\"T_096ae_row1_col9\" class=\"data row1 col9\" >0.113100</td>\n",
       "                        <td id=\"T_096ae_row1_col10\" class=\"data row1 col10\" >0.013100</td>\n",
       "                        <td id=\"T_096ae_row1_col11\" class=\"data row1 col11\" >0.315200</td>\n",
       "                        <td id=\"T_096ae_row1_col12\" class=\"data row1 col12\" >0.000000</td>\n",
       "                        <td id=\"T_096ae_row1_col13\" class=\"data row1 col13\" >0.600900</td>\n",
       "                        <td id=\"T_096ae_row1_col14\" class=\"data row1 col14\" >0.592000</td>\n",
       "                        <td id=\"T_096ae_row1_col15\" class=\"data row1 col15\" >nan</td>\n",
       "                        <td id=\"T_096ae_row1_col16\" class=\"data row1 col16\" >nan</td>\n",
       "                        <td id=\"T_096ae_row1_col17\" class=\"data row1 col17\" >33000.000000</td>\n",
       "            </tr>\n",
       "            <tr>\n",
       "                        <th id=\"T_096ae_level0_row2\" class=\"row_heading level0 row2\" >Mr Leon's School of Hair Design-Moscow</th>\n",
       "                        <td id=\"T_096ae_row2_col0\" class=\"data row2 col0\" >nan</td>\n",
       "                        <td id=\"T_096ae_row2_col1\" class=\"data row2 col1\" >nan</td>\n",
       "                        <td id=\"T_096ae_row2_col2\" class=\"data row2 col2\" >16.000000</td>\n",
       "                        <td id=\"T_096ae_row2_col3\" class=\"data row2 col3\" >1.000000</td>\n",
       "                        <td id=\"T_096ae_row2_col4\" class=\"data row2 col4\" >0.000000</td>\n",
       "                        <td id=\"T_096ae_row2_col5\" class=\"data row2 col5\" >0.000000</td>\n",
       "                        <td id=\"T_096ae_row2_col6\" class=\"data row2 col6\" >0.000000</td>\n",
       "                        <td id=\"T_096ae_row2_col7\" class=\"data row2 col7\" >0.000000</td>\n",
       "                        <td id=\"T_096ae_row2_col8\" class=\"data row2 col8\" >0.000000</td>\n",
       "                        <td id=\"T_096ae_row2_col9\" class=\"data row2 col9\" >0.000000</td>\n",
       "                        <td id=\"T_096ae_row2_col10\" class=\"data row2 col10\" >0.000000</td>\n",
       "                        <td id=\"T_096ae_row2_col11\" class=\"data row2 col11\" >0.000000</td>\n",
       "                        <td id=\"T_096ae_row2_col12\" class=\"data row2 col12\" >0.000000</td>\n",
       "                        <td id=\"T_096ae_row2_col13\" class=\"data row2 col13\" >0.625000</td>\n",
       "                        <td id=\"T_096ae_row2_col14\" class=\"data row2 col14\" >0.625000</td>\n",
       "                        <td id=\"T_096ae_row2_col15\" class=\"data row2 col15\" >0.200000</td>\n",
       "                        <td id=\"T_096ae_row2_col16\" class=\"data row2 col16\" >nan</td>\n",
       "                        <td id=\"T_096ae_row2_col17\" class=\"data row2 col17\" >15710.000000</td>\n",
       "            </tr>\n",
       "            <tr>\n",
       "                        <th id=\"T_096ae_level0_row3\" class=\"row_heading level0 row3\" >Velvatex College of Beauty Culture</th>\n",
       "                        <td id=\"T_096ae_row3_col0\" class=\"data row3 col0\" >nan</td>\n",
       "                        <td id=\"T_096ae_row3_col1\" class=\"data row3 col1\" >nan</td>\n",
       "                        <td id=\"T_096ae_row3_col2\" class=\"data row3 col2\" >25.000000</td>\n",
       "                        <td id=\"T_096ae_row3_col3\" class=\"data row3 col3\" >0.000000</td>\n",
       "                        <td id=\"T_096ae_row3_col4\" class=\"data row3 col4\" >1.000000</td>\n",
       "                        <td id=\"T_096ae_row3_col5\" class=\"data row3 col5\" >0.000000</td>\n",
       "                        <td id=\"T_096ae_row3_col6\" class=\"data row3 col6\" >0.000000</td>\n",
       "                        <td id=\"T_096ae_row3_col7\" class=\"data row3 col7\" >0.000000</td>\n",
       "                        <td id=\"T_096ae_row3_col8\" class=\"data row3 col8\" >0.000000</td>\n",
       "                        <td id=\"T_096ae_row3_col9\" class=\"data row3 col9\" >0.000000</td>\n",
       "                        <td id=\"T_096ae_row3_col10\" class=\"data row3 col10\" >0.000000</td>\n",
       "                        <td id=\"T_096ae_row3_col11\" class=\"data row3 col11\" >0.000000</td>\n",
       "                        <td id=\"T_096ae_row3_col12\" class=\"data row3 col12\" >0.200000</td>\n",
       "                        <td id=\"T_096ae_row3_col13\" class=\"data row3 col13\" >0.769200</td>\n",
       "                        <td id=\"T_096ae_row3_col14\" class=\"data row3 col14\" >0.000000</td>\n",
       "                        <td id=\"T_096ae_row3_col15\" class=\"data row3 col15\" >0.520000</td>\n",
       "                        <td id=\"T_096ae_row3_col16\" class=\"data row3 col16\" >nan</td>\n",
       "                        <td id=\"T_096ae_row3_col17\" class=\"data row3 col17\" >nan</td>\n",
       "            </tr>\n",
       "            <tr>\n",
       "                        <th id=\"T_096ae_level0_row4\" class=\"row_heading level0 row4\" >Thunderbird School of Global Management</th>\n",
       "                        <td id=\"T_096ae_row4_col0\" class=\"data row4 col0\" >nan</td>\n",
       "                        <td id=\"T_096ae_row4_col1\" class=\"data row4 col1\" >nan</td>\n",
       "                        <td id=\"T_096ae_row4_col2\" class=\"data row4 col2\" >1.000000</td>\n",
       "                        <td id=\"T_096ae_row4_col3\" class=\"data row4 col3\" >0.000000</td>\n",
       "                        <td id=\"T_096ae_row4_col4\" class=\"data row4 col4\" >0.000000</td>\n",
       "                        <td id=\"T_096ae_row4_col5\" class=\"data row4 col5\" >1.000000</td>\n",
       "                        <td id=\"T_096ae_row4_col6\" class=\"data row4 col6\" >0.000000</td>\n",
       "                        <td id=\"T_096ae_row4_col7\" class=\"data row4 col7\" >0.000000</td>\n",
       "                        <td id=\"T_096ae_row4_col8\" class=\"data row4 col8\" >0.000000</td>\n",
       "                        <td id=\"T_096ae_row4_col9\" class=\"data row4 col9\" >0.000000</td>\n",
       "                        <td id=\"T_096ae_row4_col10\" class=\"data row4 col10\" >0.000000</td>\n",
       "                        <td id=\"T_096ae_row4_col11\" class=\"data row4 col11\" >0.000000</td>\n",
       "                        <td id=\"T_096ae_row4_col12\" class=\"data row4 col12\" >1.000000</td>\n",
       "                        <td id=\"T_096ae_row4_col13\" class=\"data row4 col13\" >0.000000</td>\n",
       "                        <td id=\"T_096ae_row4_col14\" class=\"data row4 col14\" >0.000000</td>\n",
       "                        <td id=\"T_096ae_row4_col15\" class=\"data row4 col15\" >0.000000</td>\n",
       "                        <td id=\"T_096ae_row4_col16\" class=\"data row4 col16\" >118900.000000</td>\n",
       "                        <td id=\"T_096ae_row4_col17\" class=\"data row4 col17\" >nan</td>\n",
       "            </tr>\n",
       "            <tr>\n",
       "                        <th id=\"T_096ae_level0_row5\" class=\"row_heading level0 row5\" >Cosmopolitan Beauty and Tech School</th>\n",
       "                        <td id=\"T_096ae_row5_col0\" class=\"data row5 col0\" >nan</td>\n",
       "                        <td id=\"T_096ae_row5_col1\" class=\"data row5 col1\" >nan</td>\n",
       "                        <td id=\"T_096ae_row5_col2\" class=\"data row5 col2\" >110.000000</td>\n",
       "                        <td id=\"T_096ae_row5_col3\" class=\"data row5 col3\" >0.009100</td>\n",
       "                        <td id=\"T_096ae_row5_col4\" class=\"data row5 col4\" >0.000000</td>\n",
       "                        <td id=\"T_096ae_row5_col5\" class=\"data row5 col5\" >0.018200</td>\n",
       "                        <td id=\"T_096ae_row5_col6\" class=\"data row5 col6\" >0.972700</td>\n",
       "                        <td id=\"T_096ae_row5_col7\" class=\"data row5 col7\" >0.000000</td>\n",
       "                        <td id=\"T_096ae_row5_col8\" class=\"data row5 col8\" >0.000000</td>\n",
       "                        <td id=\"T_096ae_row5_col9\" class=\"data row5 col9\" >0.000000</td>\n",
       "                        <td id=\"T_096ae_row5_col10\" class=\"data row5 col10\" >0.000000</td>\n",
       "                        <td id=\"T_096ae_row5_col11\" class=\"data row5 col11\" >0.000000</td>\n",
       "                        <td id=\"T_096ae_row5_col12\" class=\"data row5 col12\" >0.318200</td>\n",
       "                        <td id=\"T_096ae_row5_col13\" class=\"data row5 col13\" >0.776100</td>\n",
       "                        <td id=\"T_096ae_row5_col14\" class=\"data row5 col14\" >0.124400</td>\n",
       "                        <td id=\"T_096ae_row5_col15\" class=\"data row5 col15\" >0.954500</td>\n",
       "                        <td id=\"T_096ae_row5_col16\" class=\"data row5 col16\" >nan</td>\n",
       "                        <td id=\"T_096ae_row5_col17\" class=\"data row5 col17\" >nan</td>\n",
       "            </tr>\n",
       "            <tr>\n",
       "                        <th id=\"T_096ae_level0_row6\" class=\"row_heading level0 row6\" >Haskell Indian Nations University</th>\n",
       "                        <td id=\"T_096ae_row6_col0\" class=\"data row6 col0\" >430.000000</td>\n",
       "                        <td id=\"T_096ae_row6_col1\" class=\"data row6 col1\" >440.000000</td>\n",
       "                        <td id=\"T_096ae_row6_col2\" class=\"data row6 col2\" >805.000000</td>\n",
       "                        <td id=\"T_096ae_row6_col3\" class=\"data row6 col3\" >0.000000</td>\n",
       "                        <td id=\"T_096ae_row6_col4\" class=\"data row6 col4\" >0.000000</td>\n",
       "                        <td id=\"T_096ae_row6_col5\" class=\"data row6 col5\" >0.000000</td>\n",
       "                        <td id=\"T_096ae_row6_col6\" class=\"data row6 col6\" >0.000000</td>\n",
       "                        <td id=\"T_096ae_row6_col7\" class=\"data row6 col7\" >1.000000</td>\n",
       "                        <td id=\"T_096ae_row6_col8\" class=\"data row6 col8\" >0.000000</td>\n",
       "                        <td id=\"T_096ae_row6_col9\" class=\"data row6 col9\" >0.000000</td>\n",
       "                        <td id=\"T_096ae_row6_col10\" class=\"data row6 col10\" >0.000000</td>\n",
       "                        <td id=\"T_096ae_row6_col11\" class=\"data row6 col11\" >0.000000</td>\n",
       "                        <td id=\"T_096ae_row6_col12\" class=\"data row6 col12\" >0.022400</td>\n",
       "                        <td id=\"T_096ae_row6_col13\" class=\"data row6 col13\" >0.839600</td>\n",
       "                        <td id=\"T_096ae_row6_col14\" class=\"data row6 col14\" >0.000000</td>\n",
       "                        <td id=\"T_096ae_row6_col15\" class=\"data row6 col15\" >0.208900</td>\n",
       "                        <td id=\"T_096ae_row6_col16\" class=\"data row6 col16\" >22800.000000</td>\n",
       "                        <td id=\"T_096ae_row6_col17\" class=\"data row6 col17\" >nan</td>\n",
       "            </tr>\n",
       "            <tr>\n",
       "                        <th id=\"T_096ae_level0_row7\" class=\"row_heading level0 row7\" >Palau Community College</th>\n",
       "                        <td id=\"T_096ae_row7_col0\" class=\"data row7 col0\" >nan</td>\n",
       "                        <td id=\"T_096ae_row7_col1\" class=\"data row7 col1\" >nan</td>\n",
       "                        <td id=\"T_096ae_row7_col2\" class=\"data row7 col2\" >602.000000</td>\n",
       "                        <td id=\"T_096ae_row7_col3\" class=\"data row7 col3\" >0.000000</td>\n",
       "                        <td id=\"T_096ae_row7_col4\" class=\"data row7 col4\" >0.001700</td>\n",
       "                        <td id=\"T_096ae_row7_col5\" class=\"data row7 col5\" >0.000000</td>\n",
       "                        <td id=\"T_096ae_row7_col6\" class=\"data row7 col6\" >0.000000</td>\n",
       "                        <td id=\"T_096ae_row7_col7\" class=\"data row7 col7\" >0.000000</td>\n",
       "                        <td id=\"T_096ae_row7_col8\" class=\"data row7 col8\" >0.998300</td>\n",
       "                        <td id=\"T_096ae_row7_col9\" class=\"data row7 col9\" >0.000000</td>\n",
       "                        <td id=\"T_096ae_row7_col10\" class=\"data row7 col10\" >0.000000</td>\n",
       "                        <td id=\"T_096ae_row7_col11\" class=\"data row7 col11\" >0.000000</td>\n",
       "                        <td id=\"T_096ae_row7_col12\" class=\"data row7 col12\" >0.388700</td>\n",
       "                        <td id=\"T_096ae_row7_col13\" class=\"data row7 col13\" >0.856000</td>\n",
       "                        <td id=\"T_096ae_row7_col14\" class=\"data row7 col14\" >0.000000</td>\n",
       "                        <td id=\"T_096ae_row7_col15\" class=\"data row7 col15\" >0.261600</td>\n",
       "                        <td id=\"T_096ae_row7_col16\" class=\"data row7 col16\" >24700.000000</td>\n",
       "                        <td id=\"T_096ae_row7_col17\" class=\"data row7 col17\" >nan</td>\n",
       "            </tr>\n",
       "            <tr>\n",
       "                        <th id=\"T_096ae_level0_row8\" class=\"row_heading level0 row8\" >LIU Brentwood</th>\n",
       "                        <td id=\"T_096ae_row8_col0\" class=\"data row8 col0\" >nan</td>\n",
       "                        <td id=\"T_096ae_row8_col1\" class=\"data row8 col1\" >nan</td>\n",
       "                        <td id=\"T_096ae_row8_col2\" class=\"data row8 col2\" >15.000000</td>\n",
       "                        <td id=\"T_096ae_row8_col3\" class=\"data row8 col3\" >0.000000</td>\n",
       "                        <td id=\"T_096ae_row8_col4\" class=\"data row8 col4\" >0.133300</td>\n",
       "                        <td id=\"T_096ae_row8_col5\" class=\"data row8 col5\" >0.266700</td>\n",
       "                        <td id=\"T_096ae_row8_col6\" class=\"data row8 col6\" >0.000000</td>\n",
       "                        <td id=\"T_096ae_row8_col7\" class=\"data row8 col7\" >0.000000</td>\n",
       "                        <td id=\"T_096ae_row8_col8\" class=\"data row8 col8\" >0.000000</td>\n",
       "                        <td id=\"T_096ae_row8_col9\" class=\"data row8 col9\" >0.533300</td>\n",
       "                        <td id=\"T_096ae_row8_col10\" class=\"data row8 col10\" >0.000000</td>\n",
       "                        <td id=\"T_096ae_row8_col11\" class=\"data row8 col11\" >0.066700</td>\n",
       "                        <td id=\"T_096ae_row8_col12\" class=\"data row8 col12\" >0.400000</td>\n",
       "                        <td id=\"T_096ae_row8_col13\" class=\"data row8 col13\" >0.565200</td>\n",
       "                        <td id=\"T_096ae_row8_col14\" class=\"data row8 col14\" >0.782600</td>\n",
       "                        <td id=\"T_096ae_row8_col15\" class=\"data row8 col15\" >0.782600</td>\n",
       "                        <td id=\"T_096ae_row8_col16\" class=\"data row8 col16\" >44600.000000</td>\n",
       "                        <td id=\"T_096ae_row8_col17\" class=\"data row8 col17\" >25499.000000</td>\n",
       "            </tr>\n",
       "            <tr>\n",
       "                        <th id=\"T_096ae_level0_row9\" class=\"row_heading level0 row9\" >California University of Management and Sciences</th>\n",
       "                        <td id=\"T_096ae_row9_col0\" class=\"data row9 col0\" >nan</td>\n",
       "                        <td id=\"T_096ae_row9_col1\" class=\"data row9 col1\" >nan</td>\n",
       "                        <td id=\"T_096ae_row9_col2\" class=\"data row9 col2\" >98.000000</td>\n",
       "                        <td id=\"T_096ae_row9_col3\" class=\"data row9 col3\" >0.010200</td>\n",
       "                        <td id=\"T_096ae_row9_col4\" class=\"data row9 col4\" >0.020400</td>\n",
       "                        <td id=\"T_096ae_row9_col5\" class=\"data row9 col5\" >0.000000</td>\n",
       "                        <td id=\"T_096ae_row9_col6\" class=\"data row9 col6\" >0.040800</td>\n",
       "                        <td id=\"T_096ae_row9_col7\" class=\"data row9 col7\" >0.000000</td>\n",
       "                        <td id=\"T_096ae_row9_col8\" class=\"data row9 col8\" >0.000000</td>\n",
       "                        <td id=\"T_096ae_row9_col9\" class=\"data row9 col9\" >0.000000</td>\n",
       "                        <td id=\"T_096ae_row9_col10\" class=\"data row9 col10\" >0.928600</td>\n",
       "                        <td id=\"T_096ae_row9_col11\" class=\"data row9 col11\" >0.000000</td>\n",
       "                        <td id=\"T_096ae_row9_col12\" class=\"data row9 col12\" >0.000000</td>\n",
       "                        <td id=\"T_096ae_row9_col13\" class=\"data row9 col13\" >0.092600</td>\n",
       "                        <td id=\"T_096ae_row9_col14\" class=\"data row9 col14\" >0.055600</td>\n",
       "                        <td id=\"T_096ae_row9_col15\" class=\"data row9 col15\" >0.685200</td>\n",
       "                        <td id=\"T_096ae_row9_col16\" class=\"data row9 col16\" >nan</td>\n",
       "                        <td id=\"T_096ae_row9_col17\" class=\"data row9 col17\" >nan</td>\n",
       "            </tr>\n",
       "            <tr>\n",
       "                        <th id=\"T_096ae_level0_row10\" class=\"row_heading level0 row10\" >Le Cordon Bleu College of Culinary Arts-San Francisco</th>\n",
       "                        <td id=\"T_096ae_row10_col0\" class=\"data row10 col0\" >nan</td>\n",
       "                        <td id=\"T_096ae_row10_col1\" class=\"data row10 col1\" >nan</td>\n",
       "                        <td id=\"T_096ae_row10_col2\" class=\"data row10 col2\" >442.000000</td>\n",
       "                        <td id=\"T_096ae_row10_col3\" class=\"data row10 col3\" >0.031700</td>\n",
       "                        <td id=\"T_096ae_row10_col4\" class=\"data row10 col4\" >0.009000</td>\n",
       "                        <td id=\"T_096ae_row10_col5\" class=\"data row10 col5\" >0.011300</td>\n",
       "                        <td id=\"T_096ae_row10_col6\" class=\"data row10 col6\" >0.027100</td>\n",
       "                        <td id=\"T_096ae_row10_col7\" class=\"data row10 col7\" >0.004500</td>\n",
       "                        <td id=\"T_096ae_row10_col8\" class=\"data row10 col8\" >0.002300</td>\n",
       "                        <td id=\"T_096ae_row10_col9\" class=\"data row10 col9\" >0.011300</td>\n",
       "                        <td id=\"T_096ae_row10_col10\" class=\"data row10 col10\" >0.000000</td>\n",
       "                        <td id=\"T_096ae_row10_col11\" class=\"data row10 col11\" >0.902700</td>\n",
       "                        <td id=\"T_096ae_row10_col12\" class=\"data row10 col12\" >0.000000</td>\n",
       "                        <td id=\"T_096ae_row10_col13\" class=\"data row10 col13\" >0.372200</td>\n",
       "                        <td id=\"T_096ae_row10_col14\" class=\"data row10 col14\" >0.535800</td>\n",
       "                        <td id=\"T_096ae_row10_col15\" class=\"data row10 col15\" >0.544000</td>\n",
       "                        <td id=\"T_096ae_row10_col16\" class=\"data row10 col16\" >34000.000000</td>\n",
       "                        <td id=\"T_096ae_row10_col17\" class=\"data row10 col17\" >12931.000000</td>\n",
       "            </tr>\n",
       "            <tr>\n",
       "                        <th id=\"T_096ae_level0_row11\" class=\"row_heading level0 row11\" >MTI Business College Inc</th>\n",
       "                        <td id=\"T_096ae_row11_col0\" class=\"data row11 col0\" >nan</td>\n",
       "                        <td id=\"T_096ae_row11_col1\" class=\"data row11 col1\" >nan</td>\n",
       "                        <td id=\"T_096ae_row11_col2\" class=\"data row11 col2\" >146.000000</td>\n",
       "                        <td id=\"T_096ae_row11_col3\" class=\"data row11 col3\" >0.239700</td>\n",
       "                        <td id=\"T_096ae_row11_col4\" class=\"data row11 col4\" >0.513700</td>\n",
       "                        <td id=\"T_096ae_row11_col5\" class=\"data row11 col5\" >0.143800</td>\n",
       "                        <td id=\"T_096ae_row11_col6\" class=\"data row11 col6\" >0.047900</td>\n",
       "                        <td id=\"T_096ae_row11_col7\" class=\"data row11 col7\" >0.034200</td>\n",
       "                        <td id=\"T_096ae_row11_col8\" class=\"data row11 col8\" >0.020500</td>\n",
       "                        <td id=\"T_096ae_row11_col9\" class=\"data row11 col9\" >0.000000</td>\n",
       "                        <td id=\"T_096ae_row11_col10\" class=\"data row11 col10\" >0.000000</td>\n",
       "                        <td id=\"T_096ae_row11_col11\" class=\"data row11 col11\" >0.000000</td>\n",
       "                        <td id=\"T_096ae_row11_col12\" class=\"data row11 col12\" >0.000000</td>\n",
       "                        <td id=\"T_096ae_row11_col13\" class=\"data row11 col13\" >1.000000</td>\n",
       "                        <td id=\"T_096ae_row11_col14\" class=\"data row11 col14\" >1.000000</td>\n",
       "                        <td id=\"T_096ae_row11_col15\" class=\"data row11 col15\" >0.398600</td>\n",
       "                        <td id=\"T_096ae_row11_col16\" class=\"data row11 col16\" >23000.000000</td>\n",
       "                        <td id=\"T_096ae_row11_col17\" class=\"data row11 col17\" >9500.000000</td>\n",
       "            </tr>\n",
       "            <tr>\n",
       "                        <th id=\"T_096ae_level0_row12\" class=\"row_heading level0 row12\" >ABC Beauty College Inc</th>\n",
       "                        <td id=\"T_096ae_row12_col0\" class=\"data row12 col0\" >nan</td>\n",
       "                        <td id=\"T_096ae_row12_col1\" class=\"data row12 col1\" >nan</td>\n",
       "                        <td id=\"T_096ae_row12_col2\" class=\"data row12 col2\" >38.000000</td>\n",
       "                        <td id=\"T_096ae_row12_col3\" class=\"data row12 col3\" >0.289500</td>\n",
       "                        <td id=\"T_096ae_row12_col4\" class=\"data row12 col4\" >0.657900</td>\n",
       "                        <td id=\"T_096ae_row12_col5\" class=\"data row12 col5\" >0.052600</td>\n",
       "                        <td id=\"T_096ae_row12_col6\" class=\"data row12 col6\" >0.000000</td>\n",
       "                        <td id=\"T_096ae_row12_col7\" class=\"data row12 col7\" >0.000000</td>\n",
       "                        <td id=\"T_096ae_row12_col8\" class=\"data row12 col8\" >0.000000</td>\n",
       "                        <td id=\"T_096ae_row12_col9\" class=\"data row12 col9\" >0.000000</td>\n",
       "                        <td id=\"T_096ae_row12_col10\" class=\"data row12 col10\" >0.000000</td>\n",
       "                        <td id=\"T_096ae_row12_col11\" class=\"data row12 col11\" >0.000000</td>\n",
       "                        <td id=\"T_096ae_row12_col12\" class=\"data row12 col12\" >0.210500</td>\n",
       "                        <td id=\"T_096ae_row12_col13\" class=\"data row12 col13\" >0.981500</td>\n",
       "                        <td id=\"T_096ae_row12_col14\" class=\"data row12 col14\" >1.000000</td>\n",
       "                        <td id=\"T_096ae_row12_col15\" class=\"data row12 col15\" >0.468800</td>\n",
       "                        <td id=\"T_096ae_row12_col16\" class=\"data row12 col16\" >nan</td>\n",
       "                        <td id=\"T_096ae_row12_col17\" class=\"data row12 col17\" >16500.000000</td>\n",
       "            </tr>\n",
       "            <tr>\n",
       "                        <th id=\"T_096ae_level0_row13\" class=\"row_heading level0 row13\" >Dongguk University-Los Angeles</th>\n",
       "                        <td id=\"T_096ae_row13_col0\" class=\"data row13 col0\" >nan</td>\n",
       "                        <td id=\"T_096ae_row13_col1\" class=\"data row13 col1\" >nan</td>\n",
       "                        <td id=\"T_096ae_row13_col2\" class=\"data row13 col2\" >20.000000</td>\n",
       "                        <td id=\"T_096ae_row13_col3\" class=\"data row13 col3\" >0.350000</td>\n",
       "                        <td id=\"T_096ae_row13_col4\" class=\"data row13 col4\" >0.000000</td>\n",
       "                        <td id=\"T_096ae_row13_col5\" class=\"data row13 col5\" >0.150000</td>\n",
       "                        <td id=\"T_096ae_row13_col6\" class=\"data row13 col6\" >0.500000</td>\n",
       "                        <td id=\"T_096ae_row13_col7\" class=\"data row13 col7\" >0.000000</td>\n",
       "                        <td id=\"T_096ae_row13_col8\" class=\"data row13 col8\" >0.000000</td>\n",
       "                        <td id=\"T_096ae_row13_col9\" class=\"data row13 col9\" >0.000000</td>\n",
       "                        <td id=\"T_096ae_row13_col10\" class=\"data row13 col10\" >0.000000</td>\n",
       "                        <td id=\"T_096ae_row13_col11\" class=\"data row13 col11\" >0.000000</td>\n",
       "                        <td id=\"T_096ae_row13_col12\" class=\"data row13 col12\" >nan</td>\n",
       "                        <td id=\"T_096ae_row13_col13\" class=\"data row13 col13\" >nan</td>\n",
       "                        <td id=\"T_096ae_row13_col14\" class=\"data row13 col14\" >nan</td>\n",
       "                        <td id=\"T_096ae_row13_col15\" class=\"data row13 col15\" >1.000000</td>\n",
       "                        <td id=\"T_096ae_row13_col16\" class=\"data row13 col16\" >nan</td>\n",
       "                        <td id=\"T_096ae_row13_col17\" class=\"data row13 col17\" >nan</td>\n",
       "            </tr>\n",
       "            <tr>\n",
       "                        <th id=\"T_096ae_level0_row14\" class=\"row_heading level0 row14\" >Medical College of Wisconsin</th>\n",
       "                        <td id=\"T_096ae_row14_col0\" class=\"data row14 col0\" >nan</td>\n",
       "                        <td id=\"T_096ae_row14_col1\" class=\"data row14 col1\" >nan</td>\n",
       "                        <td id=\"T_096ae_row14_col2\" class=\"data row14 col2\" >nan</td>\n",
       "                        <td id=\"T_096ae_row14_col3\" class=\"data row14 col3\" >nan</td>\n",
       "                        <td id=\"T_096ae_row14_col4\" class=\"data row14 col4\" >nan</td>\n",
       "                        <td id=\"T_096ae_row14_col5\" class=\"data row14 col5\" >nan</td>\n",
       "                        <td id=\"T_096ae_row14_col6\" class=\"data row14 col6\" >nan</td>\n",
       "                        <td id=\"T_096ae_row14_col7\" class=\"data row14 col7\" >nan</td>\n",
       "                        <td id=\"T_096ae_row14_col8\" class=\"data row14 col8\" >nan</td>\n",
       "                        <td id=\"T_096ae_row14_col9\" class=\"data row14 col9\" >nan</td>\n",
       "                        <td id=\"T_096ae_row14_col10\" class=\"data row14 col10\" >nan</td>\n",
       "                        <td id=\"T_096ae_row14_col11\" class=\"data row14 col11\" >nan</td>\n",
       "                        <td id=\"T_096ae_row14_col12\" class=\"data row14 col12\" >nan</td>\n",
       "                        <td id=\"T_096ae_row14_col13\" class=\"data row14 col13\" >nan</td>\n",
       "                        <td id=\"T_096ae_row14_col14\" class=\"data row14 col14\" >nan</td>\n",
       "                        <td id=\"T_096ae_row14_col15\" class=\"data row14 col15\" >nan</td>\n",
       "                        <td id=\"T_096ae_row14_col16\" class=\"data row14 col16\" >233100.000000</td>\n",
       "                        <td id=\"T_096ae_row14_col17\" class=\"data row14 col17\" >nan</td>\n",
       "            </tr>\n",
       "            <tr>\n",
       "                        <th id=\"T_096ae_level0_row15\" class=\"row_heading level0 row15\" >Southwest University of Visual Arts-Tucson</th>\n",
       "                        <td id=\"T_096ae_row15_col0\" class=\"data row15 col0\" >nan</td>\n",
       "                        <td id=\"T_096ae_row15_col1\" class=\"data row15 col1\" >nan</td>\n",
       "                        <td id=\"T_096ae_row15_col2\" class=\"data row15 col2\" >161.000000</td>\n",
       "                        <td id=\"T_096ae_row15_col3\" class=\"data row15 col3\" >0.453400</td>\n",
       "                        <td id=\"T_096ae_row15_col4\" class=\"data row15 col4\" >0.043500</td>\n",
       "                        <td id=\"T_096ae_row15_col5\" class=\"data row15 col5\" >0.316800</td>\n",
       "                        <td id=\"T_096ae_row15_col6\" class=\"data row15 col6\" >0.006200</td>\n",
       "                        <td id=\"T_096ae_row15_col7\" class=\"data row15 col7\" >0.031100</td>\n",
       "                        <td id=\"T_096ae_row15_col8\" class=\"data row15 col8\" >0.000000</td>\n",
       "                        <td id=\"T_096ae_row15_col9\" class=\"data row15 col9\" >0.000000</td>\n",
       "                        <td id=\"T_096ae_row15_col10\" class=\"data row15 col10\" >0.000000</td>\n",
       "                        <td id=\"T_096ae_row15_col11\" class=\"data row15 col11\" >0.149100</td>\n",
       "                        <td id=\"T_096ae_row15_col12\" class=\"data row15 col12\" >0.279500</td>\n",
       "                        <td id=\"T_096ae_row15_col13\" class=\"data row15 col13\" >0.446900</td>\n",
       "                        <td id=\"T_096ae_row15_col14\" class=\"data row15 col14\" >0.429200</td>\n",
       "                        <td id=\"T_096ae_row15_col15\" class=\"data row15 col15\" >0.865700</td>\n",
       "                        <td id=\"T_096ae_row15_col16\" class=\"data row15 col16\" >27200.000000</td>\n",
       "                        <td id=\"T_096ae_row15_col17\" class=\"data row15 col17\" >49750.000000</td>\n",
       "            </tr>\n",
       "    </tbody></table>"
      ],
      "text/plain": [
       "<pandas.io.formats.style.Styler at 0x7fe45094bb20>"
      ]
     },
     "execution_count": 74,
     "metadata": {},
     "output_type": "execute_result"
    }
   ],
   "source": [
    "college_n2.loc[unique_max_cols].style.highlight_max()"
   ]
  },
  {
   "cell_type": "code",
   "execution_count": 75,
   "id": "2e6adcf4",
   "metadata": {},
   "outputs": [],
   "source": [
    "### highlighting maximum values of each row"
   ]
  },
  {
   "cell_type": "code",
   "execution_count": 76,
   "id": "018e5834",
   "metadata": {},
   "outputs": [],
   "source": [
    "college_ugds = college.filter(like='UGDS_').head()"
   ]
  },
  {
   "cell_type": "code",
   "execution_count": 77,
   "id": "74e328dd",
   "metadata": {},
   "outputs": [
    {
     "data": {
      "text/html": [
       "<style  type=\"text/css\" >\n",
       "#T_752bd_row0_col1,#T_752bd_row1_col0,#T_752bd_row2_col1,#T_752bd_row3_col0,#T_752bd_row4_col1{\n",
       "            background-color:  yellow;\n",
       "        }</style><table id=\"T_752bd_\" ><thead>    <tr>        <th class=\"blank level0\" ></th>        <th class=\"col_heading level0 col0\" >UGDS_WHITE</th>        <th class=\"col_heading level0 col1\" >UGDS_BLACK</th>        <th class=\"col_heading level0 col2\" >UGDS_HISP</th>        <th class=\"col_heading level0 col3\" >UGDS_ASIAN</th>        <th class=\"col_heading level0 col4\" >UGDS_AIAN</th>        <th class=\"col_heading level0 col5\" >UGDS_NHPI</th>        <th class=\"col_heading level0 col6\" >UGDS_2MOR</th>        <th class=\"col_heading level0 col7\" >UGDS_NRA</th>        <th class=\"col_heading level0 col8\" >UGDS_UNKN</th>    </tr>    <tr>        <th class=\"index_name level0\" >INSTNM</th>        <th class=\"blank\" ></th>        <th class=\"blank\" ></th>        <th class=\"blank\" ></th>        <th class=\"blank\" ></th>        <th class=\"blank\" ></th>        <th class=\"blank\" ></th>        <th class=\"blank\" ></th>        <th class=\"blank\" ></th>        <th class=\"blank\" ></th>    </tr></thead><tbody>\n",
       "                <tr>\n",
       "                        <th id=\"T_752bd_level0_row0\" class=\"row_heading level0 row0\" >Alabama A & M University</th>\n",
       "                        <td id=\"T_752bd_row0_col0\" class=\"data row0 col0\" >0.033300</td>\n",
       "                        <td id=\"T_752bd_row0_col1\" class=\"data row0 col1\" >0.935300</td>\n",
       "                        <td id=\"T_752bd_row0_col2\" class=\"data row0 col2\" >0.005500</td>\n",
       "                        <td id=\"T_752bd_row0_col3\" class=\"data row0 col3\" >0.001900</td>\n",
       "                        <td id=\"T_752bd_row0_col4\" class=\"data row0 col4\" >0.002400</td>\n",
       "                        <td id=\"T_752bd_row0_col5\" class=\"data row0 col5\" >0.001900</td>\n",
       "                        <td id=\"T_752bd_row0_col6\" class=\"data row0 col6\" >0.000000</td>\n",
       "                        <td id=\"T_752bd_row0_col7\" class=\"data row0 col7\" >0.005900</td>\n",
       "                        <td id=\"T_752bd_row0_col8\" class=\"data row0 col8\" >0.013800</td>\n",
       "            </tr>\n",
       "            <tr>\n",
       "                        <th id=\"T_752bd_level0_row1\" class=\"row_heading level0 row1\" >University of Alabama at Birmingham</th>\n",
       "                        <td id=\"T_752bd_row1_col0\" class=\"data row1 col0\" >0.592200</td>\n",
       "                        <td id=\"T_752bd_row1_col1\" class=\"data row1 col1\" >0.260000</td>\n",
       "                        <td id=\"T_752bd_row1_col2\" class=\"data row1 col2\" >0.028300</td>\n",
       "                        <td id=\"T_752bd_row1_col3\" class=\"data row1 col3\" >0.051800</td>\n",
       "                        <td id=\"T_752bd_row1_col4\" class=\"data row1 col4\" >0.002200</td>\n",
       "                        <td id=\"T_752bd_row1_col5\" class=\"data row1 col5\" >0.000700</td>\n",
       "                        <td id=\"T_752bd_row1_col6\" class=\"data row1 col6\" >0.036800</td>\n",
       "                        <td id=\"T_752bd_row1_col7\" class=\"data row1 col7\" >0.017900</td>\n",
       "                        <td id=\"T_752bd_row1_col8\" class=\"data row1 col8\" >0.010000</td>\n",
       "            </tr>\n",
       "            <tr>\n",
       "                        <th id=\"T_752bd_level0_row2\" class=\"row_heading level0 row2\" >Amridge University</th>\n",
       "                        <td id=\"T_752bd_row2_col0\" class=\"data row2 col0\" >0.299000</td>\n",
       "                        <td id=\"T_752bd_row2_col1\" class=\"data row2 col1\" >0.419200</td>\n",
       "                        <td id=\"T_752bd_row2_col2\" class=\"data row2 col2\" >0.006900</td>\n",
       "                        <td id=\"T_752bd_row2_col3\" class=\"data row2 col3\" >0.003400</td>\n",
       "                        <td id=\"T_752bd_row2_col4\" class=\"data row2 col4\" >0.000000</td>\n",
       "                        <td id=\"T_752bd_row2_col5\" class=\"data row2 col5\" >0.000000</td>\n",
       "                        <td id=\"T_752bd_row2_col6\" class=\"data row2 col6\" >0.000000</td>\n",
       "                        <td id=\"T_752bd_row2_col7\" class=\"data row2 col7\" >0.000000</td>\n",
       "                        <td id=\"T_752bd_row2_col8\" class=\"data row2 col8\" >0.271500</td>\n",
       "            </tr>\n",
       "            <tr>\n",
       "                        <th id=\"T_752bd_level0_row3\" class=\"row_heading level0 row3\" >University of Alabama in Huntsville</th>\n",
       "                        <td id=\"T_752bd_row3_col0\" class=\"data row3 col0\" >0.698800</td>\n",
       "                        <td id=\"T_752bd_row3_col1\" class=\"data row3 col1\" >0.125500</td>\n",
       "                        <td id=\"T_752bd_row3_col2\" class=\"data row3 col2\" >0.038200</td>\n",
       "                        <td id=\"T_752bd_row3_col3\" class=\"data row3 col3\" >0.037600</td>\n",
       "                        <td id=\"T_752bd_row3_col4\" class=\"data row3 col4\" >0.014300</td>\n",
       "                        <td id=\"T_752bd_row3_col5\" class=\"data row3 col5\" >0.000200</td>\n",
       "                        <td id=\"T_752bd_row3_col6\" class=\"data row3 col6\" >0.017200</td>\n",
       "                        <td id=\"T_752bd_row3_col7\" class=\"data row3 col7\" >0.033200</td>\n",
       "                        <td id=\"T_752bd_row3_col8\" class=\"data row3 col8\" >0.035000</td>\n",
       "            </tr>\n",
       "            <tr>\n",
       "                        <th id=\"T_752bd_level0_row4\" class=\"row_heading level0 row4\" >Alabama State University</th>\n",
       "                        <td id=\"T_752bd_row4_col0\" class=\"data row4 col0\" >0.015800</td>\n",
       "                        <td id=\"T_752bd_row4_col1\" class=\"data row4 col1\" >0.920800</td>\n",
       "                        <td id=\"T_752bd_row4_col2\" class=\"data row4 col2\" >0.012100</td>\n",
       "                        <td id=\"T_752bd_row4_col3\" class=\"data row4 col3\" >0.001900</td>\n",
       "                        <td id=\"T_752bd_row4_col4\" class=\"data row4 col4\" >0.001000</td>\n",
       "                        <td id=\"T_752bd_row4_col5\" class=\"data row4 col5\" >0.000600</td>\n",
       "                        <td id=\"T_752bd_row4_col6\" class=\"data row4 col6\" >0.009800</td>\n",
       "                        <td id=\"T_752bd_row4_col7\" class=\"data row4 col7\" >0.024300</td>\n",
       "                        <td id=\"T_752bd_row4_col8\" class=\"data row4 col8\" >0.013700</td>\n",
       "            </tr>\n",
       "    </tbody></table>"
      ],
      "text/plain": [
       "<pandas.io.formats.style.Styler at 0x7fe4509180d0>"
      ]
     },
     "execution_count": 77,
     "metadata": {},
     "output_type": "execute_result"
    }
   ],
   "source": [
    "college_ugds.head().style.highlight_max(axis='columns')"
   ]
  },
  {
   "cell_type": "code",
   "execution_count": 78,
   "id": "fe634282",
   "metadata": {},
   "outputs": [
    {
     "data": {
      "text/html": [
       "<div>\n",
       "<style scoped>\n",
       "    .dataframe tbody tr th:only-of-type {\n",
       "        vertical-align: middle;\n",
       "    }\n",
       "\n",
       "    .dataframe tbody tr th {\n",
       "        vertical-align: top;\n",
       "    }\n",
       "\n",
       "    .dataframe thead th {\n",
       "        text-align: right;\n",
       "    }\n",
       "</style>\n",
       "<table border=\"1\" class=\"dataframe\">\n",
       "  <thead>\n",
       "    <tr style=\"text-align: right;\">\n",
       "      <th></th>\n",
       "      <th>HBCU</th>\n",
       "      <th>MENONLY</th>\n",
       "      <th>WOMENONLY</th>\n",
       "      <th>RELAFFIL</th>\n",
       "      <th>...</th>\n",
       "      <th>PCTFLOAN</th>\n",
       "      <th>UG25ABV</th>\n",
       "      <th>MD_EARN_WNE_P10</th>\n",
       "      <th>GRAD_DEBT_MDN_SUPP</th>\n",
       "    </tr>\n",
       "    <tr>\n",
       "      <th>INSTNM</th>\n",
       "      <th></th>\n",
       "      <th></th>\n",
       "      <th></th>\n",
       "      <th></th>\n",
       "      <th></th>\n",
       "      <th></th>\n",
       "      <th></th>\n",
       "      <th></th>\n",
       "      <th></th>\n",
       "    </tr>\n",
       "  </thead>\n",
       "  <tbody>\n",
       "    <tr>\n",
       "      <th>Alabama A &amp; M University</th>\n",
       "      <td>1.0</td>\n",
       "      <td>0.0</td>\n",
       "      <td>0.0</td>\n",
       "      <td>0</td>\n",
       "      <td>...</td>\n",
       "      <td>0.8284</td>\n",
       "      <td>0.1049</td>\n",
       "      <td>30300.0</td>\n",
       "      <td>33888.0</td>\n",
       "    </tr>\n",
       "    <tr>\n",
       "      <th>University of Alabama at Birmingham</th>\n",
       "      <td>0.0</td>\n",
       "      <td>0.0</td>\n",
       "      <td>0.0</td>\n",
       "      <td>0</td>\n",
       "      <td>...</td>\n",
       "      <td>0.5214</td>\n",
       "      <td>0.2422</td>\n",
       "      <td>39700.0</td>\n",
       "      <td>21941.5</td>\n",
       "    </tr>\n",
       "    <tr>\n",
       "      <th>Amridge University</th>\n",
       "      <td>0.0</td>\n",
       "      <td>0.0</td>\n",
       "      <td>0.0</td>\n",
       "      <td>1</td>\n",
       "      <td>...</td>\n",
       "      <td>0.7795</td>\n",
       "      <td>0.8540</td>\n",
       "      <td>40100.0</td>\n",
       "      <td>23370.0</td>\n",
       "    </tr>\n",
       "    <tr>\n",
       "      <th>University of Alabama in Huntsville</th>\n",
       "      <td>0.0</td>\n",
       "      <td>0.0</td>\n",
       "      <td>0.0</td>\n",
       "      <td>0</td>\n",
       "      <td>...</td>\n",
       "      <td>0.4596</td>\n",
       "      <td>0.2640</td>\n",
       "      <td>45500.0</td>\n",
       "      <td>24097.0</td>\n",
       "    </tr>\n",
       "    <tr>\n",
       "      <th>Alabama State University</th>\n",
       "      <td>1.0</td>\n",
       "      <td>0.0</td>\n",
       "      <td>0.0</td>\n",
       "      <td>0</td>\n",
       "      <td>...</td>\n",
       "      <td>0.7554</td>\n",
       "      <td>0.1270</td>\n",
       "      <td>26600.0</td>\n",
       "      <td>33118.5</td>\n",
       "    </tr>\n",
       "  </tbody>\n",
       "</table>\n",
       "<p>5 rows × 24 columns</p>\n",
       "</div>"
      ],
      "text/plain": [
       "                                     HBCU  MENONLY  WOMENONLY  RELAFFIL  ...  \\\n",
       "INSTNM                                                                   ...   \n",
       "Alabama A & M University              1.0      0.0        0.0         0  ...   \n",
       "University of Alabama at Birmingham   0.0      0.0        0.0         0  ...   \n",
       "Amridge University                    0.0      0.0        0.0         1  ...   \n",
       "University of Alabama in Huntsville   0.0      0.0        0.0         0  ...   \n",
       "Alabama State University              1.0      0.0        0.0         0  ...   \n",
       "\n",
       "                                     PCTFLOAN  UG25ABV  MD_EARN_WNE_P10  \\\n",
       "INSTNM                                                                    \n",
       "Alabama A & M University               0.8284   0.1049          30300.0   \n",
       "University of Alabama at Birmingham    0.5214   0.2422          39700.0   \n",
       "Amridge University                     0.7795   0.8540          40100.0   \n",
       "University of Alabama in Huntsville    0.4596   0.2640          45500.0   \n",
       "Alabama State University               0.7554   0.1270          26600.0   \n",
       "\n",
       "                                     GRAD_DEBT_MDN_SUPP  \n",
       "INSTNM                                                   \n",
       "Alabama A & M University                        33888.0  \n",
       "University of Alabama at Birmingham             21941.5  \n",
       "Amridge University                              23370.0  \n",
       "University of Alabama in Huntsville             24097.0  \n",
       "Alabama State University                        33118.5  \n",
       "\n",
       "[5 rows x 24 columns]"
      ]
     },
     "execution_count": 78,
     "metadata": {},
     "output_type": "execute_result"
    }
   ],
   "source": [
    "college_n.head()"
   ]
  },
  {
   "cell_type": "code",
   "execution_count": 79,
   "id": "6cb2652c",
   "metadata": {},
   "outputs": [
    {
     "data": {
      "text/plain": [
       "HBCU           1.0\n",
       "MENONLY        1.0\n",
       "WOMENONLY      1.0\n",
       "RELAFFIL       1.0\n",
       "SATVRMID     765.0\n",
       "dtype: float64"
      ]
     },
     "execution_count": 79,
     "metadata": {},
     "output_type": "execute_result"
    }
   ],
   "source": [
    "college_n.max().head()"
   ]
  },
  {
   "cell_type": "code",
   "execution_count": 80,
   "id": "d780f24d",
   "metadata": {},
   "outputs": [
    {
     "data": {
      "text/html": [
       "<div>\n",
       "<style scoped>\n",
       "    .dataframe tbody tr th:only-of-type {\n",
       "        vertical-align: middle;\n",
       "    }\n",
       "\n",
       "    .dataframe tbody tr th {\n",
       "        vertical-align: top;\n",
       "    }\n",
       "\n",
       "    .dataframe thead th {\n",
       "        text-align: right;\n",
       "    }\n",
       "</style>\n",
       "<table border=\"1\" class=\"dataframe\">\n",
       "  <thead>\n",
       "    <tr style=\"text-align: right;\">\n",
       "      <th></th>\n",
       "      <th>HBCU</th>\n",
       "      <th>MENONLY</th>\n",
       "      <th>WOMENONLY</th>\n",
       "      <th>RELAFFIL</th>\n",
       "      <th>...</th>\n",
       "      <th>PCTFLOAN</th>\n",
       "      <th>UG25ABV</th>\n",
       "      <th>MD_EARN_WNE_P10</th>\n",
       "      <th>GRAD_DEBT_MDN_SUPP</th>\n",
       "    </tr>\n",
       "    <tr>\n",
       "      <th>INSTNM</th>\n",
       "      <th></th>\n",
       "      <th></th>\n",
       "      <th></th>\n",
       "      <th></th>\n",
       "      <th></th>\n",
       "      <th></th>\n",
       "      <th></th>\n",
       "      <th></th>\n",
       "      <th></th>\n",
       "    </tr>\n",
       "  </thead>\n",
       "  <tbody>\n",
       "    <tr>\n",
       "      <th>Alabama A &amp; M University</th>\n",
       "      <td>True</td>\n",
       "      <td>False</td>\n",
       "      <td>False</td>\n",
       "      <td>False</td>\n",
       "      <td>...</td>\n",
       "      <td>False</td>\n",
       "      <td>False</td>\n",
       "      <td>False</td>\n",
       "      <td>False</td>\n",
       "    </tr>\n",
       "    <tr>\n",
       "      <th>University of Alabama at Birmingham</th>\n",
       "      <td>False</td>\n",
       "      <td>False</td>\n",
       "      <td>False</td>\n",
       "      <td>False</td>\n",
       "      <td>...</td>\n",
       "      <td>False</td>\n",
       "      <td>False</td>\n",
       "      <td>False</td>\n",
       "      <td>False</td>\n",
       "    </tr>\n",
       "    <tr>\n",
       "      <th>Amridge University</th>\n",
       "      <td>False</td>\n",
       "      <td>False</td>\n",
       "      <td>False</td>\n",
       "      <td>True</td>\n",
       "      <td>...</td>\n",
       "      <td>False</td>\n",
       "      <td>False</td>\n",
       "      <td>False</td>\n",
       "      <td>False</td>\n",
       "    </tr>\n",
       "    <tr>\n",
       "      <th>University of Alabama in Huntsville</th>\n",
       "      <td>False</td>\n",
       "      <td>False</td>\n",
       "      <td>False</td>\n",
       "      <td>False</td>\n",
       "      <td>...</td>\n",
       "      <td>False</td>\n",
       "      <td>False</td>\n",
       "      <td>False</td>\n",
       "      <td>False</td>\n",
       "    </tr>\n",
       "    <tr>\n",
       "      <th>Alabama State University</th>\n",
       "      <td>True</td>\n",
       "      <td>False</td>\n",
       "      <td>False</td>\n",
       "      <td>False</td>\n",
       "      <td>...</td>\n",
       "      <td>False</td>\n",
       "      <td>False</td>\n",
       "      <td>False</td>\n",
       "      <td>False</td>\n",
       "    </tr>\n",
       "  </tbody>\n",
       "</table>\n",
       "<p>5 rows × 24 columns</p>\n",
       "</div>"
      ],
      "text/plain": [
       "                                      HBCU  MENONLY  WOMENONLY  RELAFFIL  ...  \\\n",
       "INSTNM                                                                    ...   \n",
       "Alabama A & M University              True    False      False     False  ...   \n",
       "University of Alabama at Birmingham  False    False      False     False  ...   \n",
       "Amridge University                   False    False      False      True  ...   \n",
       "University of Alabama in Huntsville  False    False      False     False  ...   \n",
       "Alabama State University              True    False      False     False  ...   \n",
       "\n",
       "                                     PCTFLOAN  UG25ABV  MD_EARN_WNE_P10  \\\n",
       "INSTNM                                                                    \n",
       "Alabama A & M University                False    False            False   \n",
       "University of Alabama at Birmingham     False    False            False   \n",
       "Amridge University                      False    False            False   \n",
       "University of Alabama in Huntsville     False    False            False   \n",
       "Alabama State University                False    False            False   \n",
       "\n",
       "                                     GRAD_DEBT_MDN_SUPP  \n",
       "INSTNM                                                   \n",
       "Alabama A & M University                          False  \n",
       "University of Alabama at Birmingham               False  \n",
       "Amridge University                                False  \n",
       "University of Alabama in Huntsville               False  \n",
       "Alabama State University                          False  \n",
       "\n",
       "[5 rows x 24 columns]"
      ]
     },
     "execution_count": 80,
     "metadata": {},
     "output_type": "execute_result"
    }
   ],
   "source": [
    "college_n.eq(college_n.max()).head()"
   ]
  },
  {
   "cell_type": "code",
   "execution_count": 81,
   "id": "d19c6a7f",
   "metadata": {},
   "outputs": [
    {
     "data": {
      "text/plain": [
       "INSTNM\n",
       "Alabama A & M University                                  True\n",
       "University of Alabama at Birmingham                       True\n",
       "Amridge University                                        True\n",
       "University of Alabama in Huntsville                       True\n",
       "Alabama State University                                  True\n",
       "                                                          ... \n",
       "SAE Institute of Technology  San Francisco                True\n",
       "Rasmussen College - Overland Park                         True\n",
       "National Personal Training Institute of Cleveland         True\n",
       "Bay Area Medical Academy - San Jose Satellite Location    True\n",
       "Excel Learning Center-San Antonio South                   True\n",
       "Length: 7535, dtype: bool"
      ]
     },
     "execution_count": 81,
     "metadata": {},
     "output_type": "execute_result"
    }
   ],
   "source": [
    "has_row_max = college_n.eq(college_n.max()).any(axis='columns')\n",
    "has_row_max"
   ]
  },
  {
   "cell_type": "code",
   "execution_count": 82,
   "id": "315df73e",
   "metadata": {},
   "outputs": [
    {
     "data": {
      "text/plain": [
       "(7535, 24)"
      ]
     },
     "execution_count": 82,
     "metadata": {},
     "output_type": "execute_result"
    }
   ],
   "source": [
    "college_n.shape"
   ]
  },
  {
   "cell_type": "code",
   "execution_count": 83,
   "id": "4b415d7f",
   "metadata": {},
   "outputs": [
    {
     "data": {
      "text/plain": [
       "7210"
      ]
     },
     "execution_count": 83,
     "metadata": {},
     "output_type": "execute_result"
    }
   ],
   "source": [
    "has_row_max.sum()"
   ]
  },
  {
   "cell_type": "code",
   "execution_count": 84,
   "id": "2258c630",
   "metadata": {},
   "outputs": [
    {
     "data": {
      "text/html": [
       "<div>\n",
       "<style scoped>\n",
       "    .dataframe tbody tr th:only-of-type {\n",
       "        vertical-align: middle;\n",
       "    }\n",
       "\n",
       "    .dataframe tbody tr th {\n",
       "        vertical-align: top;\n",
       "    }\n",
       "\n",
       "    .dataframe thead th {\n",
       "        text-align: right;\n",
       "    }\n",
       "</style>\n",
       "<table border=\"1\" class=\"dataframe\">\n",
       "  <thead>\n",
       "    <tr style=\"text-align: right;\">\n",
       "      <th></th>\n",
       "      <th>HBCU</th>\n",
       "      <th>MENONLY</th>\n",
       "      <th>WOMENONLY</th>\n",
       "      <th>RELAFFIL</th>\n",
       "      <th>...</th>\n",
       "      <th>PCTFLOAN</th>\n",
       "      <th>UG25ABV</th>\n",
       "      <th>MD_EARN_WNE_P10</th>\n",
       "      <th>GRAD_DEBT_MDN_SUPP</th>\n",
       "    </tr>\n",
       "    <tr>\n",
       "      <th>INSTNM</th>\n",
       "      <th></th>\n",
       "      <th></th>\n",
       "      <th></th>\n",
       "      <th></th>\n",
       "      <th></th>\n",
       "      <th></th>\n",
       "      <th></th>\n",
       "      <th></th>\n",
       "      <th></th>\n",
       "    </tr>\n",
       "  </thead>\n",
       "  <tbody>\n",
       "    <tr>\n",
       "      <th>Alabama A &amp; M University</th>\n",
       "      <td>1</td>\n",
       "      <td>0</td>\n",
       "      <td>0</td>\n",
       "      <td>0</td>\n",
       "      <td>...</td>\n",
       "      <td>0</td>\n",
       "      <td>0</td>\n",
       "      <td>0</td>\n",
       "      <td>0</td>\n",
       "    </tr>\n",
       "    <tr>\n",
       "      <th>University of Alabama at Birmingham</th>\n",
       "      <td>1</td>\n",
       "      <td>0</td>\n",
       "      <td>0</td>\n",
       "      <td>0</td>\n",
       "      <td>...</td>\n",
       "      <td>0</td>\n",
       "      <td>0</td>\n",
       "      <td>0</td>\n",
       "      <td>0</td>\n",
       "    </tr>\n",
       "    <tr>\n",
       "      <th>Amridge University</th>\n",
       "      <td>1</td>\n",
       "      <td>0</td>\n",
       "      <td>0</td>\n",
       "      <td>1</td>\n",
       "      <td>...</td>\n",
       "      <td>0</td>\n",
       "      <td>0</td>\n",
       "      <td>0</td>\n",
       "      <td>0</td>\n",
       "    </tr>\n",
       "    <tr>\n",
       "      <th>University of Alabama in Huntsville</th>\n",
       "      <td>1</td>\n",
       "      <td>0</td>\n",
       "      <td>0</td>\n",
       "      <td>1</td>\n",
       "      <td>...</td>\n",
       "      <td>0</td>\n",
       "      <td>0</td>\n",
       "      <td>0</td>\n",
       "      <td>0</td>\n",
       "    </tr>\n",
       "    <tr>\n",
       "      <th>Alabama State University</th>\n",
       "      <td>2</td>\n",
       "      <td>0</td>\n",
       "      <td>0</td>\n",
       "      <td>1</td>\n",
       "      <td>...</td>\n",
       "      <td>0</td>\n",
       "      <td>0</td>\n",
       "      <td>0</td>\n",
       "      <td>0</td>\n",
       "    </tr>\n",
       "    <tr>\n",
       "      <th>...</th>\n",
       "      <td>...</td>\n",
       "      <td>...</td>\n",
       "      <td>...</td>\n",
       "      <td>...</td>\n",
       "      <td>...</td>\n",
       "      <td>...</td>\n",
       "      <td>...</td>\n",
       "      <td>...</td>\n",
       "      <td>...</td>\n",
       "    </tr>\n",
       "    <tr>\n",
       "      <th>SAE Institute of Technology  San Francisco</th>\n",
       "      <td>102</td>\n",
       "      <td>66</td>\n",
       "      <td>38</td>\n",
       "      <td>1435</td>\n",
       "      <td>...</td>\n",
       "      <td>55</td>\n",
       "      <td>12</td>\n",
       "      <td>1</td>\n",
       "      <td>2</td>\n",
       "    </tr>\n",
       "    <tr>\n",
       "      <th>Rasmussen College - Overland Park</th>\n",
       "      <td>102</td>\n",
       "      <td>66</td>\n",
       "      <td>38</td>\n",
       "      <td>1436</td>\n",
       "      <td>...</td>\n",
       "      <td>55</td>\n",
       "      <td>12</td>\n",
       "      <td>1</td>\n",
       "      <td>2</td>\n",
       "    </tr>\n",
       "    <tr>\n",
       "      <th>National Personal Training Institute of Cleveland</th>\n",
       "      <td>102</td>\n",
       "      <td>66</td>\n",
       "      <td>38</td>\n",
       "      <td>1437</td>\n",
       "      <td>...</td>\n",
       "      <td>55</td>\n",
       "      <td>12</td>\n",
       "      <td>1</td>\n",
       "      <td>2</td>\n",
       "    </tr>\n",
       "    <tr>\n",
       "      <th>Bay Area Medical Academy - San Jose Satellite Location</th>\n",
       "      <td>102</td>\n",
       "      <td>66</td>\n",
       "      <td>38</td>\n",
       "      <td>1438</td>\n",
       "      <td>...</td>\n",
       "      <td>55</td>\n",
       "      <td>12</td>\n",
       "      <td>1</td>\n",
       "      <td>2</td>\n",
       "    </tr>\n",
       "    <tr>\n",
       "      <th>Excel Learning Center-San Antonio South</th>\n",
       "      <td>102</td>\n",
       "      <td>66</td>\n",
       "      <td>38</td>\n",
       "      <td>1439</td>\n",
       "      <td>...</td>\n",
       "      <td>55</td>\n",
       "      <td>12</td>\n",
       "      <td>1</td>\n",
       "      <td>2</td>\n",
       "    </tr>\n",
       "  </tbody>\n",
       "</table>\n",
       "<p>7535 rows × 24 columns</p>\n",
       "</div>"
      ],
      "text/plain": [
       "                                                    HBCU  MENONLY  WOMENONLY  \\\n",
       "INSTNM                                                                         \n",
       "Alabama A & M University                               1        0          0   \n",
       "University of Alabama at Birmingham                    1        0          0   \n",
       "Amridge University                                     1        0          0   \n",
       "University of Alabama in Huntsville                    1        0          0   \n",
       "Alabama State University                               2        0          0   \n",
       "...                                                  ...      ...        ...   \n",
       "SAE Institute of Technology  San Francisco           102       66         38   \n",
       "Rasmussen College - Overland Park                    102       66         38   \n",
       "National Personal Training Institute of Cleveland    102       66         38   \n",
       "Bay Area Medical Academy - San Jose Satellite L...   102       66         38   \n",
       "Excel Learning Center-San Antonio South              102       66         38   \n",
       "\n",
       "                                                    RELAFFIL  ...  PCTFLOAN  \\\n",
       "INSTNM                                                        ...             \n",
       "Alabama A & M University                                   0  ...         0   \n",
       "University of Alabama at Birmingham                        0  ...         0   \n",
       "Amridge University                                         1  ...         0   \n",
       "University of Alabama in Huntsville                        1  ...         0   \n",
       "Alabama State University                                   1  ...         0   \n",
       "...                                                      ...  ...       ...   \n",
       "SAE Institute of Technology  San Francisco              1435  ...        55   \n",
       "Rasmussen College - Overland Park                       1436  ...        55   \n",
       "National Personal Training Institute of Cleveland       1437  ...        55   \n",
       "Bay Area Medical Academy - San Jose Satellite L...      1438  ...        55   \n",
       "Excel Learning Center-San Antonio South                 1439  ...        55   \n",
       "\n",
       "                                                    UG25ABV  MD_EARN_WNE_P10  \\\n",
       "INSTNM                                                                         \n",
       "Alabama A & M University                                  0                0   \n",
       "University of Alabama at Birmingham                       0                0   \n",
       "Amridge University                                        0                0   \n",
       "University of Alabama in Huntsville                       0                0   \n",
       "Alabama State University                                  0                0   \n",
       "...                                                     ...              ...   \n",
       "SAE Institute of Technology  San Francisco               12                1   \n",
       "Rasmussen College - Overland Park                        12                1   \n",
       "National Personal Training Institute of Cleveland        12                1   \n",
       "Bay Area Medical Academy - San Jose Satellite L...       12                1   \n",
       "Excel Learning Center-San Antonio South                  12                1   \n",
       "\n",
       "                                                    GRAD_DEBT_MDN_SUPP  \n",
       "INSTNM                                                                  \n",
       "Alabama A & M University                                             0  \n",
       "University of Alabama at Birmingham                                  0  \n",
       "Amridge University                                                   0  \n",
       "University of Alabama in Huntsville                                  0  \n",
       "Alabama State University                                             0  \n",
       "...                                                                ...  \n",
       "SAE Institute of Technology  San Francisco                           2  \n",
       "Rasmussen College - Overland Park                                    2  \n",
       "National Personal Training Institute of Cleveland                    2  \n",
       "Bay Area Medical Academy - San Jose Satellite L...                   2  \n",
       "Excel Learning Center-San Antonio South                              2  \n",
       "\n",
       "[7535 rows x 24 columns]"
      ]
     },
     "execution_count": 84,
     "metadata": {},
     "output_type": "execute_result"
    }
   ],
   "source": [
    "college_n.eq(college_n.max()).cumsum()"
   ]
  },
  {
   "cell_type": "code",
   "execution_count": 85,
   "id": "49377e73",
   "metadata": {},
   "outputs": [
    {
     "data": {
      "text/html": [
       "<div>\n",
       "<style scoped>\n",
       "    .dataframe tbody tr th:only-of-type {\n",
       "        vertical-align: middle;\n",
       "    }\n",
       "\n",
       "    .dataframe tbody tr th {\n",
       "        vertical-align: top;\n",
       "    }\n",
       "\n",
       "    .dataframe thead th {\n",
       "        text-align: right;\n",
       "    }\n",
       "</style>\n",
       "<table border=\"1\" class=\"dataframe\">\n",
       "  <thead>\n",
       "    <tr style=\"text-align: right;\">\n",
       "      <th></th>\n",
       "      <th>HBCU</th>\n",
       "      <th>MENONLY</th>\n",
       "      <th>WOMENONLY</th>\n",
       "      <th>RELAFFIL</th>\n",
       "      <th>...</th>\n",
       "      <th>PCTFLOAN</th>\n",
       "      <th>UG25ABV</th>\n",
       "      <th>MD_EARN_WNE_P10</th>\n",
       "      <th>GRAD_DEBT_MDN_SUPP</th>\n",
       "    </tr>\n",
       "    <tr>\n",
       "      <th>INSTNM</th>\n",
       "      <th></th>\n",
       "      <th></th>\n",
       "      <th></th>\n",
       "      <th></th>\n",
       "      <th></th>\n",
       "      <th></th>\n",
       "      <th></th>\n",
       "      <th></th>\n",
       "      <th></th>\n",
       "    </tr>\n",
       "  </thead>\n",
       "  <tbody>\n",
       "    <tr>\n",
       "      <th>Alabama A &amp; M University</th>\n",
       "      <td>1</td>\n",
       "      <td>0</td>\n",
       "      <td>0</td>\n",
       "      <td>0</td>\n",
       "      <td>...</td>\n",
       "      <td>0</td>\n",
       "      <td>0</td>\n",
       "      <td>0</td>\n",
       "      <td>0</td>\n",
       "    </tr>\n",
       "    <tr>\n",
       "      <th>University of Alabama at Birmingham</th>\n",
       "      <td>2</td>\n",
       "      <td>0</td>\n",
       "      <td>0</td>\n",
       "      <td>0</td>\n",
       "      <td>...</td>\n",
       "      <td>0</td>\n",
       "      <td>0</td>\n",
       "      <td>0</td>\n",
       "      <td>0</td>\n",
       "    </tr>\n",
       "    <tr>\n",
       "      <th>Amridge University</th>\n",
       "      <td>3</td>\n",
       "      <td>0</td>\n",
       "      <td>0</td>\n",
       "      <td>1</td>\n",
       "      <td>...</td>\n",
       "      <td>0</td>\n",
       "      <td>0</td>\n",
       "      <td>0</td>\n",
       "      <td>0</td>\n",
       "    </tr>\n",
       "    <tr>\n",
       "      <th>University of Alabama in Huntsville</th>\n",
       "      <td>4</td>\n",
       "      <td>0</td>\n",
       "      <td>0</td>\n",
       "      <td>2</td>\n",
       "      <td>...</td>\n",
       "      <td>0</td>\n",
       "      <td>0</td>\n",
       "      <td>0</td>\n",
       "      <td>0</td>\n",
       "    </tr>\n",
       "    <tr>\n",
       "      <th>Alabama State University</th>\n",
       "      <td>6</td>\n",
       "      <td>0</td>\n",
       "      <td>0</td>\n",
       "      <td>3</td>\n",
       "      <td>...</td>\n",
       "      <td>0</td>\n",
       "      <td>0</td>\n",
       "      <td>0</td>\n",
       "      <td>0</td>\n",
       "    </tr>\n",
       "    <tr>\n",
       "      <th>...</th>\n",
       "      <td>...</td>\n",
       "      <td>...</td>\n",
       "      <td>...</td>\n",
       "      <td>...</td>\n",
       "      <td>...</td>\n",
       "      <td>...</td>\n",
       "      <td>...</td>\n",
       "      <td>...</td>\n",
       "      <td>...</td>\n",
       "    </tr>\n",
       "    <tr>\n",
       "      <th>SAE Institute of Technology  San Francisco</th>\n",
       "      <td>555503</td>\n",
       "      <td>310361</td>\n",
       "      <td>208208</td>\n",
       "      <td>5141571</td>\n",
       "      <td>...</td>\n",
       "      <td>170273</td>\n",
       "      <td>36183</td>\n",
       "      <td>3445</td>\n",
       "      <td>10266</td>\n",
       "    </tr>\n",
       "    <tr>\n",
       "      <th>Rasmussen College - Overland Park</th>\n",
       "      <td>555605</td>\n",
       "      <td>310427</td>\n",
       "      <td>208246</td>\n",
       "      <td>5143007</td>\n",
       "      <td>...</td>\n",
       "      <td>170328</td>\n",
       "      <td>36195</td>\n",
       "      <td>3446</td>\n",
       "      <td>10268</td>\n",
       "    </tr>\n",
       "    <tr>\n",
       "      <th>National Personal Training Institute of Cleveland</th>\n",
       "      <td>555707</td>\n",
       "      <td>310493</td>\n",
       "      <td>208284</td>\n",
       "      <td>5144444</td>\n",
       "      <td>...</td>\n",
       "      <td>170383</td>\n",
       "      <td>36207</td>\n",
       "      <td>3447</td>\n",
       "      <td>10270</td>\n",
       "    </tr>\n",
       "    <tr>\n",
       "      <th>Bay Area Medical Academy - San Jose Satellite Location</th>\n",
       "      <td>555809</td>\n",
       "      <td>310559</td>\n",
       "      <td>208322</td>\n",
       "      <td>5145882</td>\n",
       "      <td>...</td>\n",
       "      <td>170438</td>\n",
       "      <td>36219</td>\n",
       "      <td>3448</td>\n",
       "      <td>10272</td>\n",
       "    </tr>\n",
       "    <tr>\n",
       "      <th>Excel Learning Center-San Antonio South</th>\n",
       "      <td>555911</td>\n",
       "      <td>310625</td>\n",
       "      <td>208360</td>\n",
       "      <td>5147321</td>\n",
       "      <td>...</td>\n",
       "      <td>170493</td>\n",
       "      <td>36231</td>\n",
       "      <td>3449</td>\n",
       "      <td>10274</td>\n",
       "    </tr>\n",
       "  </tbody>\n",
       "</table>\n",
       "<p>7535 rows × 24 columns</p>\n",
       "</div>"
      ],
      "text/plain": [
       "                                                      HBCU  MENONLY  \\\n",
       "INSTNM                                                                \n",
       "Alabama A & M University                                 1        0   \n",
       "University of Alabama at Birmingham                      2        0   \n",
       "Amridge University                                       3        0   \n",
       "University of Alabama in Huntsville                      4        0   \n",
       "Alabama State University                                 6        0   \n",
       "...                                                    ...      ...   \n",
       "SAE Institute of Technology  San Francisco          555503   310361   \n",
       "Rasmussen College - Overland Park                   555605   310427   \n",
       "National Personal Training Institute of Cleveland   555707   310493   \n",
       "Bay Area Medical Academy - San Jose Satellite L...  555809   310559   \n",
       "Excel Learning Center-San Antonio South             555911   310625   \n",
       "\n",
       "                                                    WOMENONLY  RELAFFIL  ...  \\\n",
       "INSTNM                                                                   ...   \n",
       "Alabama A & M University                                    0         0  ...   \n",
       "University of Alabama at Birmingham                         0         0  ...   \n",
       "Amridge University                                          0         1  ...   \n",
       "University of Alabama in Huntsville                         0         2  ...   \n",
       "Alabama State University                                    0         3  ...   \n",
       "...                                                       ...       ...  ...   \n",
       "SAE Institute of Technology  San Francisco             208208   5141571  ...   \n",
       "Rasmussen College - Overland Park                      208246   5143007  ...   \n",
       "National Personal Training Institute of Cleveland      208284   5144444  ...   \n",
       "Bay Area Medical Academy - San Jose Satellite L...     208322   5145882  ...   \n",
       "Excel Learning Center-San Antonio South                208360   5147321  ...   \n",
       "\n",
       "                                                    PCTFLOAN  UG25ABV  \\\n",
       "INSTNM                                                                  \n",
       "Alabama A & M University                                   0        0   \n",
       "University of Alabama at Birmingham                        0        0   \n",
       "Amridge University                                         0        0   \n",
       "University of Alabama in Huntsville                        0        0   \n",
       "Alabama State University                                   0        0   \n",
       "...                                                      ...      ...   \n",
       "SAE Institute of Technology  San Francisco            170273    36183   \n",
       "Rasmussen College - Overland Park                     170328    36195   \n",
       "National Personal Training Institute of Cleveland     170383    36207   \n",
       "Bay Area Medical Academy - San Jose Satellite L...    170438    36219   \n",
       "Excel Learning Center-San Antonio South               170493    36231   \n",
       "\n",
       "                                                    MD_EARN_WNE_P10  \\\n",
       "INSTNM                                                                \n",
       "Alabama A & M University                                          0   \n",
       "University of Alabama at Birmingham                               0   \n",
       "Amridge University                                                0   \n",
       "University of Alabama in Huntsville                               0   \n",
       "Alabama State University                                          0   \n",
       "...                                                             ...   \n",
       "SAE Institute of Technology  San Francisco                     3445   \n",
       "Rasmussen College - Overland Park                              3446   \n",
       "National Personal Training Institute of Cleveland              3447   \n",
       "Bay Area Medical Academy - San Jose Satellite L...             3448   \n",
       "Excel Learning Center-San Antonio South                        3449   \n",
       "\n",
       "                                                    GRAD_DEBT_MDN_SUPP  \n",
       "INSTNM                                                                  \n",
       "Alabama A & M University                                             0  \n",
       "University of Alabama at Birmingham                                  0  \n",
       "Amridge University                                                   0  \n",
       "University of Alabama in Huntsville                                  0  \n",
       "Alabama State University                                             0  \n",
       "...                                                                ...  \n",
       "SAE Institute of Technology  San Francisco                       10266  \n",
       "Rasmussen College - Overland Park                                10268  \n",
       "National Personal Training Institute of Cleveland                10270  \n",
       "Bay Area Medical Academy - San Jose Satellite L...               10272  \n",
       "Excel Learning Center-San Antonio South                          10274  \n",
       "\n",
       "[7535 rows x 24 columns]"
      ]
     },
     "execution_count": 85,
     "metadata": {},
     "output_type": "execute_result"
    }
   ],
   "source": [
    "college_n.eq(college_n.max()).cumsum().cumsum()"
   ]
  },
  {
   "cell_type": "code",
   "execution_count": 86,
   "id": "b6b9c4ed",
   "metadata": {},
   "outputs": [
    {
     "data": {
      "text/plain": [
       "INSTNM\n",
       "Alabama A & M University                                   True\n",
       "University of Alabama at Birmingham                       False\n",
       "Amridge University                                         True\n",
       "University of Alabama in Huntsville                       False\n",
       "Alabama State University                                  False\n",
       "                                                          ...  \n",
       "SAE Institute of Technology  San Francisco                False\n",
       "Rasmussen College - Overland Park                         False\n",
       "National Personal Training Institute of Cleveland         False\n",
       "Bay Area Medical Academy - San Jose Satellite Location    False\n",
       "Excel Learning Center-San Antonio South                   False\n",
       "Length: 7535, dtype: bool"
      ]
     },
     "execution_count": 86,
     "metadata": {},
     "output_type": "execute_result"
    }
   ],
   "source": [
    "has_row_max2 = college_n.eq(college_n.max()) \\\n",
    "                             .cumsum() \\\n",
    "                             .cumsum() \\\n",
    "                             .eq(1) \\\n",
    "                             .any(axis='columns')\n",
    "has_row_max2"
   ]
  },
  {
   "cell_type": "code",
   "execution_count": 87,
   "id": "c35c4a09",
   "metadata": {},
   "outputs": [
    {
     "data": {
      "text/plain": [
       "20"
      ]
     },
     "execution_count": 87,
     "metadata": {},
     "output_type": "execute_result"
    }
   ],
   "source": [
    "has_row_max2.sum()"
   ]
  },
  {
   "cell_type": "code",
   "execution_count": 88,
   "id": "cb359dd0",
   "metadata": {},
   "outputs": [
    {
     "data": {
      "text/plain": [
       "(7535, 18)"
      ]
     },
     "execution_count": 88,
     "metadata": {},
     "output_type": "execute_result"
    }
   ],
   "source": [
    "college_n2.shape"
   ]
  },
  {
   "cell_type": "code",
   "execution_count": 89,
   "id": "2decb84a",
   "metadata": {},
   "outputs": [],
   "source": [
    "idxmax_cols = has_row_max2[has_row_max2].index"
   ]
  },
  {
   "cell_type": "code",
   "execution_count": 90,
   "id": "5be882cb",
   "metadata": {},
   "outputs": [
    {
     "data": {
      "text/plain": [
       "Index(['Alabama A & M University', 'Amridge University', 'Judson College',\n",
       "       'Thunderbird School of Global Management',\n",
       "       'Southwest University of Visual Arts-Tucson', 'ABC Beauty College Inc',\n",
       "       'Velvatex College of Beauty Culture',\n",
       "       'California Institute of Technology',\n",
       "       'Le Cordon Bleu College of Culinary Arts-San Francisco',\n",
       "       'MTI Business College Inc', 'Dongguk University-Los Angeles',\n",
       "       'Yeshiva Ohr Elchonon Chabad West Coast Talmudical Seminary',\n",
       "       'Mr Leon's School of Hair Design-Moscow',\n",
       "       'Haskell Indian Nations University', 'LIU Brentwood',\n",
       "       'Medical College of Wisconsin', 'Palau Community College',\n",
       "       'California University of Management and Sciences',\n",
       "       'Cosmopolitan Beauty and Tech School', 'University of Phoenix-Arizona'],\n",
       "      dtype='object', name='INSTNM')"
      ]
     },
     "execution_count": 90,
     "metadata": {},
     "output_type": "execute_result"
    }
   ],
   "source": [
    "idxmax_cols"
   ]
  },
  {
   "cell_type": "code",
   "execution_count": 91,
   "id": "1dfa601d",
   "metadata": {},
   "outputs": [
    {
     "data": {
      "text/plain": [
       "True"
      ]
     },
     "execution_count": 91,
     "metadata": {},
     "output_type": "execute_result"
    }
   ],
   "source": [
    "set(college_n.idxmax().unique()) == set(idxmax_cols)"
   ]
  },
  {
   "cell_type": "code",
   "execution_count": 92,
   "id": "01107e1d",
   "metadata": {},
   "outputs": [],
   "source": [
    "### finding the most common maximum "
   ]
  },
  {
   "cell_type": "code",
   "execution_count": 93,
   "id": "ee99fa27",
   "metadata": {},
   "outputs": [
    {
     "data": {
      "text/html": [
       "<div>\n",
       "<style scoped>\n",
       "    .dataframe tbody tr th:only-of-type {\n",
       "        vertical-align: middle;\n",
       "    }\n",
       "\n",
       "    .dataframe tbody tr th {\n",
       "        vertical-align: top;\n",
       "    }\n",
       "\n",
       "    .dataframe thead th {\n",
       "        text-align: right;\n",
       "    }\n",
       "</style>\n",
       "<table border=\"1\" class=\"dataframe\">\n",
       "  <thead>\n",
       "    <tr style=\"text-align: right;\">\n",
       "      <th></th>\n",
       "      <th>UGDS_WHITE</th>\n",
       "      <th>UGDS_BLACK</th>\n",
       "      <th>UGDS_HISP</th>\n",
       "      <th>UGDS_ASIAN</th>\n",
       "      <th>...</th>\n",
       "      <th>UGDS_NHPI</th>\n",
       "      <th>UGDS_2MOR</th>\n",
       "      <th>UGDS_NRA</th>\n",
       "      <th>UGDS_UNKN</th>\n",
       "    </tr>\n",
       "    <tr>\n",
       "      <th>INSTNM</th>\n",
       "      <th></th>\n",
       "      <th></th>\n",
       "      <th></th>\n",
       "      <th></th>\n",
       "      <th></th>\n",
       "      <th></th>\n",
       "      <th></th>\n",
       "      <th></th>\n",
       "      <th></th>\n",
       "    </tr>\n",
       "  </thead>\n",
       "  <tbody>\n",
       "    <tr>\n",
       "      <th>Alabama A &amp; M University</th>\n",
       "      <td>0.0333</td>\n",
       "      <td>0.9353</td>\n",
       "      <td>0.0055</td>\n",
       "      <td>0.0019</td>\n",
       "      <td>...</td>\n",
       "      <td>0.0019</td>\n",
       "      <td>0.0000</td>\n",
       "      <td>0.0059</td>\n",
       "      <td>0.0138</td>\n",
       "    </tr>\n",
       "    <tr>\n",
       "      <th>University of Alabama at Birmingham</th>\n",
       "      <td>0.5922</td>\n",
       "      <td>0.2600</td>\n",
       "      <td>0.0283</td>\n",
       "      <td>0.0518</td>\n",
       "      <td>...</td>\n",
       "      <td>0.0007</td>\n",
       "      <td>0.0368</td>\n",
       "      <td>0.0179</td>\n",
       "      <td>0.0100</td>\n",
       "    </tr>\n",
       "    <tr>\n",
       "      <th>Amridge University</th>\n",
       "      <td>0.2990</td>\n",
       "      <td>0.4192</td>\n",
       "      <td>0.0069</td>\n",
       "      <td>0.0034</td>\n",
       "      <td>...</td>\n",
       "      <td>0.0000</td>\n",
       "      <td>0.0000</td>\n",
       "      <td>0.0000</td>\n",
       "      <td>0.2715</td>\n",
       "    </tr>\n",
       "    <tr>\n",
       "      <th>University of Alabama in Huntsville</th>\n",
       "      <td>0.6988</td>\n",
       "      <td>0.1255</td>\n",
       "      <td>0.0382</td>\n",
       "      <td>0.0376</td>\n",
       "      <td>...</td>\n",
       "      <td>0.0002</td>\n",
       "      <td>0.0172</td>\n",
       "      <td>0.0332</td>\n",
       "      <td>0.0350</td>\n",
       "    </tr>\n",
       "    <tr>\n",
       "      <th>Alabama State University</th>\n",
       "      <td>0.0158</td>\n",
       "      <td>0.9208</td>\n",
       "      <td>0.0121</td>\n",
       "      <td>0.0019</td>\n",
       "      <td>...</td>\n",
       "      <td>0.0006</td>\n",
       "      <td>0.0098</td>\n",
       "      <td>0.0243</td>\n",
       "      <td>0.0137</td>\n",
       "    </tr>\n",
       "  </tbody>\n",
       "</table>\n",
       "<p>5 rows × 9 columns</p>\n",
       "</div>"
      ],
      "text/plain": [
       "                                     UGDS_WHITE  UGDS_BLACK  UGDS_HISP  \\\n",
       "INSTNM                                                                   \n",
       "Alabama A & M University                 0.0333      0.9353     0.0055   \n",
       "University of Alabama at Birmingham      0.5922      0.2600     0.0283   \n",
       "Amridge University                       0.2990      0.4192     0.0069   \n",
       "University of Alabama in Huntsville      0.6988      0.1255     0.0382   \n",
       "Alabama State University                 0.0158      0.9208     0.0121   \n",
       "\n",
       "                                     UGDS_ASIAN  ...  UGDS_NHPI  UGDS_2MOR  \\\n",
       "INSTNM                                           ...                         \n",
       "Alabama A & M University                 0.0019  ...     0.0019     0.0000   \n",
       "University of Alabama at Birmingham      0.0518  ...     0.0007     0.0368   \n",
       "Amridge University                       0.0034  ...     0.0000     0.0000   \n",
       "University of Alabama in Huntsville      0.0376  ...     0.0002     0.0172   \n",
       "Alabama State University                 0.0019  ...     0.0006     0.0098   \n",
       "\n",
       "                                     UGDS_NRA  UGDS_UNKN  \n",
       "INSTNM                                                    \n",
       "Alabama A & M University               0.0059     0.0138  \n",
       "University of Alabama at Birmingham    0.0179     0.0100  \n",
       "Amridge University                     0.0000     0.2715  \n",
       "University of Alabama in Huntsville    0.0332     0.0350  \n",
       "Alabama State University               0.0243     0.0137  \n",
       "\n",
       "[5 rows x 9 columns]"
      ]
     },
     "execution_count": 93,
     "metadata": {},
     "output_type": "execute_result"
    }
   ],
   "source": [
    "college = pd.read_csv('data/college.csv', index_col='INSTNM')\n",
    "college_ugds = college.filter(like='UGDS_')\n",
    "college_ugds.head()"
   ]
  },
  {
   "cell_type": "code",
   "execution_count": 94,
   "id": "1fe4e0d5",
   "metadata": {},
   "outputs": [
    {
     "data": {
      "text/plain": [
       "(7535, 9)"
      ]
     },
     "execution_count": 94,
     "metadata": {},
     "output_type": "execute_result"
    }
   ],
   "source": [
    "college_ugds.shape"
   ]
  },
  {
   "cell_type": "code",
   "execution_count": 95,
   "id": "baad5078",
   "metadata": {},
   "outputs": [
    {
     "data": {
      "text/plain": [
       "UGDS_WHITE               Mr Leon's School of Hair Design-Moscow\n",
       "UGDS_BLACK                   Velvatex College of Beauty Culture\n",
       "UGDS_HISP               Thunderbird School of Global Management\n",
       "UGDS_ASIAN                  Cosmopolitan Beauty and Tech School\n",
       "UGDS_AIAN                     Haskell Indian Nations University\n",
       "UGDS_NHPI                               Palau Community College\n",
       "UGDS_2MOR                                         LIU Brentwood\n",
       "UGDS_NRA       California University of Management and Sciences\n",
       "UGDS_UNKN     Le Cordon Bleu College of Culinary Arts-San Fr...\n",
       "dtype: object"
      ]
     },
     "execution_count": 95,
     "metadata": {},
     "output_type": "execute_result"
    }
   ],
   "source": [
    "college_ugds.idxmax()"
   ]
  },
  {
   "cell_type": "code",
   "execution_count": 96,
   "id": "033dae30",
   "metadata": {},
   "outputs": [
    {
     "data": {
      "text/plain": [
       "INSTNM\n",
       "Alabama A & M University               UGDS_BLACK\n",
       "University of Alabama at Birmingham    UGDS_WHITE\n",
       "Amridge University                     UGDS_BLACK\n",
       "University of Alabama in Huntsville    UGDS_WHITE\n",
       "Alabama State University               UGDS_BLACK\n",
       "dtype: object"
      ]
     },
     "execution_count": 96,
     "metadata": {},
     "output_type": "execute_result"
    }
   ],
   "source": [
    "highest_percent_races = college_ugds.idxmax(axis='columns')\n",
    "highest_percent_races.head()"
   ]
  },
  {
   "cell_type": "code",
   "execution_count": 97,
   "id": "25bc869e",
   "metadata": {},
   "outputs": [
    {
     "data": {
      "text/plain": [
       "UGDS_WHITE    0.670352\n",
       "UGDS_BLACK    0.151586\n",
       "UGDS_HISP     0.129473\n",
       "UGDS_UNKN     0.023422\n",
       "UGDS_ASIAN    0.012074\n",
       "UGDS_AIAN     0.006110\n",
       "UGDS_NRA      0.004073\n",
       "UGDS_NHPI     0.001746\n",
       "UGDS_2MOR     0.001164\n",
       "dtype: float64"
      ]
     },
     "execution_count": 97,
     "metadata": {},
     "output_type": "execute_result"
    }
   ],
   "source": [
    "highest_percent_races.value_counts(normalize=True)"
   ]
  },
  {
   "cell_type": "code",
   "execution_count": 98,
   "id": "c93d42b2",
   "metadata": {},
   "outputs": [],
   "source": [
    "college_black = college_ugds[highest_percent_races == 'UGDS_BLACK']"
   ]
  },
  {
   "cell_type": "code",
   "execution_count": 99,
   "id": "1d1125b5",
   "metadata": {},
   "outputs": [
    {
     "data": {
      "text/html": [
       "<div>\n",
       "<style scoped>\n",
       "    .dataframe tbody tr th:only-of-type {\n",
       "        vertical-align: middle;\n",
       "    }\n",
       "\n",
       "    .dataframe tbody tr th {\n",
       "        vertical-align: top;\n",
       "    }\n",
       "\n",
       "    .dataframe thead th {\n",
       "        text-align: right;\n",
       "    }\n",
       "</style>\n",
       "<table border=\"1\" class=\"dataframe\">\n",
       "  <thead>\n",
       "    <tr style=\"text-align: right;\">\n",
       "      <th></th>\n",
       "      <th>UGDS_WHITE</th>\n",
       "      <th>UGDS_BLACK</th>\n",
       "      <th>UGDS_HISP</th>\n",
       "      <th>UGDS_ASIAN</th>\n",
       "      <th>...</th>\n",
       "      <th>UGDS_NHPI</th>\n",
       "      <th>UGDS_2MOR</th>\n",
       "      <th>UGDS_NRA</th>\n",
       "      <th>UGDS_UNKN</th>\n",
       "    </tr>\n",
       "    <tr>\n",
       "      <th>INSTNM</th>\n",
       "      <th></th>\n",
       "      <th></th>\n",
       "      <th></th>\n",
       "      <th></th>\n",
       "      <th></th>\n",
       "      <th></th>\n",
       "      <th></th>\n",
       "      <th></th>\n",
       "      <th></th>\n",
       "    </tr>\n",
       "  </thead>\n",
       "  <tbody>\n",
       "    <tr>\n",
       "      <th>Alabama A &amp; M University</th>\n",
       "      <td>0.0333</td>\n",
       "      <td>0.9353</td>\n",
       "      <td>0.0055</td>\n",
       "      <td>0.0019</td>\n",
       "      <td>...</td>\n",
       "      <td>0.0019</td>\n",
       "      <td>0.0000</td>\n",
       "      <td>0.0059</td>\n",
       "      <td>0.0138</td>\n",
       "    </tr>\n",
       "    <tr>\n",
       "      <th>Amridge University</th>\n",
       "      <td>0.2990</td>\n",
       "      <td>0.4192</td>\n",
       "      <td>0.0069</td>\n",
       "      <td>0.0034</td>\n",
       "      <td>...</td>\n",
       "      <td>0.0000</td>\n",
       "      <td>0.0000</td>\n",
       "      <td>0.0000</td>\n",
       "      <td>0.2715</td>\n",
       "    </tr>\n",
       "    <tr>\n",
       "      <th>Alabama State University</th>\n",
       "      <td>0.0158</td>\n",
       "      <td>0.9208</td>\n",
       "      <td>0.0121</td>\n",
       "      <td>0.0019</td>\n",
       "      <td>...</td>\n",
       "      <td>0.0006</td>\n",
       "      <td>0.0098</td>\n",
       "      <td>0.0243</td>\n",
       "      <td>0.0137</td>\n",
       "    </tr>\n",
       "    <tr>\n",
       "      <th>Concordia College Alabama</th>\n",
       "      <td>0.0280</td>\n",
       "      <td>0.8758</td>\n",
       "      <td>0.0373</td>\n",
       "      <td>0.0093</td>\n",
       "      <td>...</td>\n",
       "      <td>0.0000</td>\n",
       "      <td>0.0031</td>\n",
       "      <td>0.0466</td>\n",
       "      <td>0.0000</td>\n",
       "    </tr>\n",
       "    <tr>\n",
       "      <th>South University-Montgomery</th>\n",
       "      <td>0.3046</td>\n",
       "      <td>0.6054</td>\n",
       "      <td>0.0153</td>\n",
       "      <td>0.0153</td>\n",
       "      <td>...</td>\n",
       "      <td>0.0096</td>\n",
       "      <td>0.0000</td>\n",
       "      <td>0.0019</td>\n",
       "      <td>0.0326</td>\n",
       "    </tr>\n",
       "  </tbody>\n",
       "</table>\n",
       "<p>5 rows × 9 columns</p>\n",
       "</div>"
      ],
      "text/plain": [
       "                             UGDS_WHITE  UGDS_BLACK  UGDS_HISP  UGDS_ASIAN  \\\n",
       "INSTNM                                                                       \n",
       "Alabama A & M University         0.0333      0.9353     0.0055      0.0019   \n",
       "Amridge University               0.2990      0.4192     0.0069      0.0034   \n",
       "Alabama State University         0.0158      0.9208     0.0121      0.0019   \n",
       "Concordia College Alabama        0.0280      0.8758     0.0373      0.0093   \n",
       "South University-Montgomery      0.3046      0.6054     0.0153      0.0153   \n",
       "\n",
       "                             ...  UGDS_NHPI  UGDS_2MOR  UGDS_NRA  UGDS_UNKN  \n",
       "INSTNM                       ...                                             \n",
       "Alabama A & M University     ...     0.0019     0.0000    0.0059     0.0138  \n",
       "Amridge University           ...     0.0000     0.0000    0.0000     0.2715  \n",
       "Alabama State University     ...     0.0006     0.0098    0.0243     0.0137  \n",
       "Concordia College Alabama    ...     0.0000     0.0031    0.0466     0.0000  \n",
       "South University-Montgomery  ...     0.0096     0.0000    0.0019     0.0326  \n",
       "\n",
       "[5 rows x 9 columns]"
      ]
     },
     "execution_count": 99,
     "metadata": {},
     "output_type": "execute_result"
    }
   ],
   "source": [
    "college_black.head()"
   ]
  },
  {
   "cell_type": "code",
   "execution_count": 100,
   "id": "05e31ec5",
   "metadata": {},
   "outputs": [],
   "source": [
    "college_black = college_black.drop('UGDS_BLACK', axis='columns')"
   ]
  },
  {
   "cell_type": "code",
   "execution_count": 101,
   "id": "062a5d56",
   "metadata": {},
   "outputs": [
    {
     "data": {
      "text/html": [
       "<div>\n",
       "<style scoped>\n",
       "    .dataframe tbody tr th:only-of-type {\n",
       "        vertical-align: middle;\n",
       "    }\n",
       "\n",
       "    .dataframe tbody tr th {\n",
       "        vertical-align: top;\n",
       "    }\n",
       "\n",
       "    .dataframe thead th {\n",
       "        text-align: right;\n",
       "    }\n",
       "</style>\n",
       "<table border=\"1\" class=\"dataframe\">\n",
       "  <thead>\n",
       "    <tr style=\"text-align: right;\">\n",
       "      <th></th>\n",
       "      <th>UGDS_WHITE</th>\n",
       "      <th>UGDS_HISP</th>\n",
       "      <th>UGDS_ASIAN</th>\n",
       "      <th>UGDS_AIAN</th>\n",
       "      <th>UGDS_NHPI</th>\n",
       "      <th>UGDS_2MOR</th>\n",
       "      <th>UGDS_NRA</th>\n",
       "      <th>UGDS_UNKN</th>\n",
       "    </tr>\n",
       "    <tr>\n",
       "      <th>INSTNM</th>\n",
       "      <th></th>\n",
       "      <th></th>\n",
       "      <th></th>\n",
       "      <th></th>\n",
       "      <th></th>\n",
       "      <th></th>\n",
       "      <th></th>\n",
       "      <th></th>\n",
       "    </tr>\n",
       "  </thead>\n",
       "  <tbody>\n",
       "    <tr>\n",
       "      <th>Alabama A &amp; M University</th>\n",
       "      <td>0.0333</td>\n",
       "      <td>0.0055</td>\n",
       "      <td>0.0019</td>\n",
       "      <td>0.0024</td>\n",
       "      <td>0.0019</td>\n",
       "      <td>0.0000</td>\n",
       "      <td>0.0059</td>\n",
       "      <td>0.0138</td>\n",
       "    </tr>\n",
       "    <tr>\n",
       "      <th>Amridge University</th>\n",
       "      <td>0.2990</td>\n",
       "      <td>0.0069</td>\n",
       "      <td>0.0034</td>\n",
       "      <td>0.0000</td>\n",
       "      <td>0.0000</td>\n",
       "      <td>0.0000</td>\n",
       "      <td>0.0000</td>\n",
       "      <td>0.2715</td>\n",
       "    </tr>\n",
       "    <tr>\n",
       "      <th>Alabama State University</th>\n",
       "      <td>0.0158</td>\n",
       "      <td>0.0121</td>\n",
       "      <td>0.0019</td>\n",
       "      <td>0.0010</td>\n",
       "      <td>0.0006</td>\n",
       "      <td>0.0098</td>\n",
       "      <td>0.0243</td>\n",
       "      <td>0.0137</td>\n",
       "    </tr>\n",
       "    <tr>\n",
       "      <th>Concordia College Alabama</th>\n",
       "      <td>0.0280</td>\n",
       "      <td>0.0373</td>\n",
       "      <td>0.0093</td>\n",
       "      <td>0.0000</td>\n",
       "      <td>0.0000</td>\n",
       "      <td>0.0031</td>\n",
       "      <td>0.0466</td>\n",
       "      <td>0.0000</td>\n",
       "    </tr>\n",
       "    <tr>\n",
       "      <th>South University-Montgomery</th>\n",
       "      <td>0.3046</td>\n",
       "      <td>0.0153</td>\n",
       "      <td>0.0153</td>\n",
       "      <td>0.0153</td>\n",
       "      <td>0.0096</td>\n",
       "      <td>0.0000</td>\n",
       "      <td>0.0019</td>\n",
       "      <td>0.0326</td>\n",
       "    </tr>\n",
       "  </tbody>\n",
       "</table>\n",
       "</div>"
      ],
      "text/plain": [
       "                             UGDS_WHITE  UGDS_HISP  UGDS_ASIAN  UGDS_AIAN  \\\n",
       "INSTNM                                                                      \n",
       "Alabama A & M University         0.0333     0.0055      0.0019     0.0024   \n",
       "Amridge University               0.2990     0.0069      0.0034     0.0000   \n",
       "Alabama State University         0.0158     0.0121      0.0019     0.0010   \n",
       "Concordia College Alabama        0.0280     0.0373      0.0093     0.0000   \n",
       "South University-Montgomery      0.3046     0.0153      0.0153     0.0153   \n",
       "\n",
       "                             UGDS_NHPI  UGDS_2MOR  UGDS_NRA  UGDS_UNKN  \n",
       "INSTNM                                                                  \n",
       "Alabama A & M University        0.0019     0.0000    0.0059     0.0138  \n",
       "Amridge University              0.0000     0.0000    0.0000     0.2715  \n",
       "Alabama State University        0.0006     0.0098    0.0243     0.0137  \n",
       "Concordia College Alabama       0.0000     0.0031    0.0466     0.0000  \n",
       "South University-Montgomery     0.0096     0.0000    0.0019     0.0326  "
      ]
     },
     "execution_count": 101,
     "metadata": {},
     "output_type": "execute_result"
    }
   ],
   "source": [
    "college_black.head()"
   ]
  },
  {
   "cell_type": "code",
   "execution_count": 102,
   "id": "7555d32d",
   "metadata": {},
   "outputs": [
    {
     "data": {
      "text/plain": [
       "INSTNM\n",
       "Alabama A & M University                                 UGDS_WHITE\n",
       "Amridge University                                       UGDS_WHITE\n",
       "Alabama State University                                   UGDS_NRA\n",
       "Concordia College Alabama                                  UGDS_NRA\n",
       "South University-Montgomery                              UGDS_WHITE\n",
       "                                                            ...    \n",
       "New Horizons Medical Institute-Winder                    UGDS_WHITE\n",
       "SAE Institute of Technology-Chicago                      UGDS_WHITE\n",
       "Fayette Beauty Academy-Ritz Beauty Academy               UGDS_WHITE\n",
       "National American University-Houston                     UGDS_WHITE\n",
       "Hollywood Institute of Beauty Careers-West Palm Beach     UGDS_HISP\n",
       "Length: 1042, dtype: object"
      ]
     },
     "execution_count": 102,
     "metadata": {},
     "output_type": "execute_result"
    }
   ],
   "source": [
    "college_black.idxmax(axis='columns')"
   ]
  },
  {
   "cell_type": "code",
   "execution_count": 103,
   "id": "a09013dc",
   "metadata": {},
   "outputs": [
    {
     "data": {
      "text/plain": [
       "UGDS_WHITE    0.661228\n",
       "UGDS_HISP     0.230326\n",
       "UGDS_UNKN     0.071977\n",
       "UGDS_NRA      0.018234\n",
       "UGDS_ASIAN    0.009597\n",
       "UGDS_2MOR     0.006718\n",
       "UGDS_AIAN     0.000960\n",
       "UGDS_NHPI     0.000960\n",
       "dtype: float64"
      ]
     },
     "execution_count": 103,
     "metadata": {},
     "output_type": "execute_result"
    }
   ],
   "source": [
    "college_black.idxmax(axis='columns').value_counts(normalize=True)"
   ]
  },
  {
   "cell_type": "code",
   "execution_count": null,
   "id": "29bba3b4",
   "metadata": {},
   "outputs": [],
   "source": []
  }
 ],
 "metadata": {
  "kernelspec": {
   "display_name": "Python 3",
   "language": "python",
   "name": "python3"
  },
  "language_info": {
   "codemirror_mode": {
    "name": "ipython",
    "version": 3
   },
   "file_extension": ".py",
   "mimetype": "text/x-python",
   "name": "python",
   "nbconvert_exporter": "python",
   "pygments_lexer": "ipython3",
   "version": "3.8.5"
  }
 },
 "nbformat": 4,
 "nbformat_minor": 5
}
