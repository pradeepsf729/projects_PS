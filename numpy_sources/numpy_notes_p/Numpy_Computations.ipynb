{
 "cells": [
  {
   "cell_type": "code",
   "execution_count": 1,
   "id": "2833a987",
   "metadata": {},
   "outputs": [],
   "source": [
    "import numpy as np"
   ]
  },
  {
   "cell_type": "markdown",
   "id": "37029531",
   "metadata": {},
   "source": [
    "#### numpy direct computation on array"
   ]
  },
  {
   "cell_type": "code",
   "execution_count": 2,
   "id": "dcf92728",
   "metadata": {},
   "outputs": [
    {
     "name": "stdout",
     "output_type": "stream",
     "text": [
      "6.18 ms ± 64.3 µs per loop (mean ± std. dev. of 7 runs, 100 loops each)\n"
     ]
    }
   ],
   "source": [
    "values = np.random.randint(1, 10, size=10000000)\n",
    "%timeit (1.0 / values)"
   ]
  },
  {
   "cell_type": "markdown",
   "id": "0fd09d93",
   "metadata": {},
   "source": [
    "#### normal 'for' loop computation"
   ]
  },
  {
   "cell_type": "code",
   "execution_count": 3,
   "id": "18ef02c9",
   "metadata": {},
   "outputs": [
    {
     "name": "stdout",
     "output_type": "stream",
     "text": [
      "3.23 µs ± 8.69 ns per loop (mean ± std. dev. of 7 runs, 100000 loops each)\n"
     ]
    }
   ],
   "source": [
    "def compute_reciprocals(values):           \n",
    "    output = np.empty(len(values))           \n",
    "    for i in range(len(values)):               \n",
    "        output[i] = 1.0 / values[i]           \n",
    "        return output\n",
    "\n",
    "%timeit compute_reciprocals(values)"
   ]
  },
  {
   "cell_type": "code",
   "execution_count": 4,
   "id": "0a8c884a",
   "metadata": {},
   "outputs": [
    {
     "data": {
      "text/plain": [
       "array([0.        , 0.5       , 0.66666667, 0.75      , 0.8       ])"
      ]
     },
     "execution_count": 4,
     "metadata": {},
     "output_type": "execute_result"
    }
   ],
   "source": [
    "np.arange(5) / np.arange(1, 6)"
   ]
  },
  {
   "cell_type": "code",
   "execution_count": 5,
   "id": "b043d13e",
   "metadata": {},
   "outputs": [
    {
     "data": {
      "text/plain": [
       "array([[0, 1, 2],\n",
       "       [3, 4, 5],\n",
       "       [6, 7, 8]])"
      ]
     },
     "execution_count": 5,
     "metadata": {},
     "output_type": "execute_result"
    }
   ],
   "source": [
    "x = np.arange(9).reshape(3, 3)\n",
    "x"
   ]
  },
  {
   "cell_type": "code",
   "execution_count": 6,
   "id": "9c4b317a",
   "metadata": {},
   "outputs": [
    {
     "data": {
      "text/plain": [
       "array([[ 0,  2,  4],\n",
       "       [ 6,  8, 10],\n",
       "       [12, 14, 16]])"
      ]
     },
     "execution_count": 6,
     "metadata": {},
     "output_type": "execute_result"
    }
   ],
   "source": [
    "2 * x"
   ]
  },
  {
   "cell_type": "code",
   "execution_count": 7,
   "id": "600f2f04",
   "metadata": {},
   "outputs": [
    {
     "data": {
      "text/plain": [
       "array([[ 5,  6,  7],\n",
       "       [ 8,  9, 10],\n",
       "       [11, 12, 13]])"
      ]
     },
     "execution_count": 7,
     "metadata": {},
     "output_type": "execute_result"
    }
   ],
   "source": [
    "x + 5"
   ]
  },
  {
   "cell_type": "code",
   "execution_count": 8,
   "id": "ff2f94d8",
   "metadata": {},
   "outputs": [
    {
     "data": {
      "text/plain": [
       "array([[    0,     1,    32],\n",
       "       [  243,  1024,  3125],\n",
       "       [ 7776, 16807, 32768]])"
      ]
     },
     "execution_count": 8,
     "metadata": {},
     "output_type": "execute_result"
    }
   ],
   "source": [
    "x ** 5"
   ]
  },
  {
   "cell_type": "code",
   "execution_count": 9,
   "id": "a74f6082",
   "metadata": {},
   "outputs": [
    {
     "data": {
      "text/plain": [
       "array([[10, 11, 12],\n",
       "       [13, 14, 15],\n",
       "       [16, 17, 18]])"
      ]
     },
     "execution_count": 9,
     "metadata": {},
     "output_type": "execute_result"
    }
   ],
   "source": [
    "np.add(x, 10)"
   ]
  },
  {
   "cell_type": "code",
   "execution_count": 10,
   "id": "fcd5306c",
   "metadata": {},
   "outputs": [
    {
     "data": {
      "text/plain": [
       "array([[    0,     1,    32],\n",
       "       [  243,  1024,  3125],\n",
       "       [ 7776, 16807, 32768]])"
      ]
     },
     "execution_count": 10,
     "metadata": {},
     "output_type": "execute_result"
    }
   ],
   "source": [
    "np.power(x, 5)"
   ]
  },
  {
   "cell_type": "code",
   "execution_count": 11,
   "id": "ec7fbf24",
   "metadata": {},
   "outputs": [
    {
     "data": {
      "text/plain": [
       "array([[1.38629436, 1.60943791, 1.79175947],\n",
       "       [1.94591015, 2.07944154, 2.19722458],\n",
       "       [2.30258509, 2.39789527, 2.48490665]])"
      ]
     },
     "execution_count": 11,
     "metadata": {},
     "output_type": "execute_result"
    }
   ],
   "source": [
    "np.log(x + 4)"
   ]
  },
  {
   "cell_type": "code",
   "execution_count": 12,
   "id": "60fdbb3d",
   "metadata": {},
   "outputs": [
    {
     "data": {
      "text/plain": [
       "array([ 1.000000e+00,  6.123234e-17, -1.000000e+00])"
      ]
     },
     "execution_count": 12,
     "metadata": {},
     "output_type": "execute_result"
    }
   ],
   "source": [
    "theta = np.linspace(0, np.pi, 3)\n",
    "np.cos(theta)"
   ]
  },
  {
   "cell_type": "code",
   "execution_count": 13,
   "id": "dc9f8b01",
   "metadata": {},
   "outputs": [
    {
     "data": {
      "text/plain": [
       "array([[0, 1, 2],\n",
       "       [3, 4, 5],\n",
       "       [6, 7, 8]])"
      ]
     },
     "execution_count": 13,
     "metadata": {},
     "output_type": "execute_result"
    }
   ],
   "source": [
    "x"
   ]
  },
  {
   "cell_type": "code",
   "execution_count": 14,
   "id": "dd4bbd1a",
   "metadata": {},
   "outputs": [
    {
     "data": {
      "text/plain": [
       "array([ 9, 12, 15])"
      ]
     },
     "execution_count": 14,
     "metadata": {},
     "output_type": "execute_result"
    }
   ],
   "source": [
    "np.add.reduce(x)"
   ]
  },
  {
   "cell_type": "code",
   "execution_count": 15,
   "id": "fe8d1457",
   "metadata": {},
   "outputs": [
    {
     "data": {
      "text/plain": [
       "array([ 3, 12, 21])"
      ]
     },
     "execution_count": 15,
     "metadata": {},
     "output_type": "execute_result"
    }
   ],
   "source": [
    "np.add.reduce(x, axis=1)"
   ]
  },
  {
   "cell_type": "code",
   "execution_count": 16,
   "id": "9b57b388",
   "metadata": {},
   "outputs": [
    {
     "data": {
      "text/plain": [
       "array([[ 0,  1,  2],\n",
       "       [ 3,  5,  7],\n",
       "       [ 9, 12, 15]])"
      ]
     },
     "execution_count": 16,
     "metadata": {},
     "output_type": "execute_result"
    }
   ],
   "source": [
    "np.add.accumulate(x)"
   ]
  },
  {
   "cell_type": "markdown",
   "id": "a3202de8",
   "metadata": {},
   "source": [
    "### Aggregations"
   ]
  },
  {
   "cell_type": "code",
   "execution_count": 17,
   "id": "38df0f5f",
   "metadata": {},
   "outputs": [
    {
     "data": {
      "text/plain": [
       "50.179978588942795"
      ]
     },
     "execution_count": 17,
     "metadata": {},
     "output_type": "execute_result"
    }
   ],
   "source": [
    "l = np.random.random(100)\n",
    "sum(l)"
   ]
  },
  {
   "cell_type": "code",
   "execution_count": 18,
   "id": "c16c5c6d",
   "metadata": {
    "scrolled": true
   },
   "outputs": [
    {
     "data": {
      "text/plain": [
       "50.1799785889428"
      ]
     },
     "execution_count": 18,
     "metadata": {},
     "output_type": "execute_result"
    }
   ],
   "source": [
    "np.sum(l)"
   ]
  },
  {
   "cell_type": "code",
   "execution_count": 19,
   "id": "0d5f0e24",
   "metadata": {},
   "outputs": [
    {
     "name": "stdout",
     "output_type": "stream",
     "text": [
      "69.3 ms ± 495 µs per loop (mean ± std. dev. of 7 runs, 10 loops each)\n",
      "195 µs ± 158 ns per loop (mean ± std. dev. of 7 runs, 10000 loops each)\n"
     ]
    }
   ],
   "source": [
    "l = np.random.random(1000000)\n",
    "%timeit sum(l)\n",
    "%timeit np.sum(l)"
   ]
  },
  {
   "cell_type": "code",
   "execution_count": 20,
   "id": "7d868f94",
   "metadata": {},
   "outputs": [
    {
     "name": "stdout",
     "output_type": "stream",
     "text": [
      "99.1 ms ± 176 µs per loop (mean ± std. dev. of 7 runs, 10 loops each)\n"
     ]
    }
   ],
   "source": [
    "%timeit min(l), max(l)"
   ]
  },
  {
   "cell_type": "code",
   "execution_count": 21,
   "id": "5f0369dc",
   "metadata": {},
   "outputs": [
    {
     "name": "stdout",
     "output_type": "stream",
     "text": [
      "357 µs ± 467 ns per loop (mean ± std. dev. of 7 runs, 1000 loops each)\n"
     ]
    }
   ],
   "source": [
    "%timeit np.min(l), np.max(l)"
   ]
  },
  {
   "cell_type": "markdown",
   "id": "3389f82d",
   "metadata": {},
   "source": [
    "### Broadcasting"
   ]
  },
  {
   "cell_type": "code",
   "execution_count": 22,
   "id": "de2ab52e",
   "metadata": {},
   "outputs": [],
   "source": [
    "M = np.ones((2, 3))"
   ]
  },
  {
   "cell_type": "code",
   "execution_count": 23,
   "id": "bab4fdf6",
   "metadata": {},
   "outputs": [],
   "source": [
    "a = np.arange(3)"
   ]
  },
  {
   "cell_type": "code",
   "execution_count": 24,
   "id": "af0587ca",
   "metadata": {},
   "outputs": [
    {
     "data": {
      "text/plain": [
       "((2, 3), (3,))"
      ]
     },
     "execution_count": 24,
     "metadata": {},
     "output_type": "execute_result"
    }
   ],
   "source": [
    "M.shape, a.shape"
   ]
  },
  {
   "cell_type": "code",
   "execution_count": 25,
   "id": "434da43e",
   "metadata": {},
   "outputs": [
    {
     "data": {
      "text/plain": [
       "(array([[1., 1., 1.],\n",
       "        [1., 1., 1.]]),\n",
       " array([0, 1, 2]))"
      ]
     },
     "execution_count": 25,
     "metadata": {},
     "output_type": "execute_result"
    }
   ],
   "source": [
    "M, a"
   ]
  },
  {
   "cell_type": "code",
   "execution_count": 26,
   "id": "e2de529c",
   "metadata": {},
   "outputs": [
    {
     "data": {
      "text/plain": [
       "array([[1., 2., 3.],\n",
       "       [1., 2., 3.]])"
      ]
     },
     "execution_count": 26,
     "metadata": {},
     "output_type": "execute_result"
    }
   ],
   "source": [
    "M + a"
   ]
  },
  {
   "cell_type": "code",
   "execution_count": 27,
   "id": "e8bdefa9",
   "metadata": {},
   "outputs": [
    {
     "data": {
      "text/plain": [
       "(2, 3)"
      ]
     },
     "execution_count": 27,
     "metadata": {},
     "output_type": "execute_result"
    }
   ],
   "source": [
    "(M + a).shape"
   ]
  },
  {
   "cell_type": "code",
   "execution_count": 28,
   "id": "e0984dd6",
   "metadata": {},
   "outputs": [],
   "source": [
    "a = np.arange(3).reshape(3, 1)\n",
    "b = np.arange(3)"
   ]
  },
  {
   "cell_type": "code",
   "execution_count": 29,
   "id": "97ee4bf0",
   "metadata": {},
   "outputs": [
    {
     "data": {
      "text/plain": [
       "((3, 1), (3,))"
      ]
     },
     "execution_count": 29,
     "metadata": {},
     "output_type": "execute_result"
    }
   ],
   "source": [
    "a.shape, b.shape"
   ]
  },
  {
   "cell_type": "code",
   "execution_count": 30,
   "id": "9ee91829",
   "metadata": {},
   "outputs": [
    {
     "data": {
      "text/plain": [
       "array([[0, 1, 2],\n",
       "       [1, 2, 3],\n",
       "       [2, 3, 4]])"
      ]
     },
     "execution_count": 30,
     "metadata": {},
     "output_type": "execute_result"
    }
   ],
   "source": [
    "a + b"
   ]
  },
  {
   "cell_type": "code",
   "execution_count": 31,
   "id": "7e092998",
   "metadata": {},
   "outputs": [
    {
     "data": {
      "text/plain": [
       "(3, 3)"
      ]
     },
     "execution_count": 31,
     "metadata": {},
     "output_type": "execute_result"
    }
   ],
   "source": [
    "(a + b).shape"
   ]
  },
  {
   "cell_type": "code",
   "execution_count": 32,
   "id": "eaf76fc8",
   "metadata": {},
   "outputs": [],
   "source": [
    "M = np.arange(6).reshape(3, 2)\n",
    "a = np.arange(3)"
   ]
  },
  {
   "cell_type": "code",
   "execution_count": 33,
   "id": "ffaf63e7",
   "metadata": {},
   "outputs": [
    {
     "data": {
      "text/plain": [
       "((3, 2), (3,))"
      ]
     },
     "execution_count": 33,
     "metadata": {},
     "output_type": "execute_result"
    }
   ],
   "source": [
    "M.shape, a.shape"
   ]
  },
  {
   "cell_type": "code",
   "execution_count": null,
   "id": "0492c677",
   "metadata": {},
   "outputs": [],
   "source": [
    "X = np.random.random((10, 3))"
   ]
  },
  {
   "cell_type": "code",
   "execution_count": null,
   "id": "bcadd925",
   "metadata": {},
   "outputs": [],
   "source": [
    "Xmean = X.mean(0) # default axis 0/'index'\n",
    "Xmean"
   ]
  },
  {
   "cell_type": "code",
   "execution_count": null,
   "id": "81d06752",
   "metadata": {},
   "outputs": [],
   "source": [
    "X_centered = X - Xmean"
   ]
  },
  {
   "cell_type": "code",
   "execution_count": null,
   "id": "1c6c2aa3",
   "metadata": {},
   "outputs": [],
   "source": [
    "X.shape"
   ]
  },
  {
   "cell_type": "code",
   "execution_count": null,
   "id": "7cb3256f",
   "metadata": {},
   "outputs": [],
   "source": [
    "Xmean.shape"
   ]
  },
  {
   "cell_type": "code",
   "execution_count": null,
   "id": "55dd40c5",
   "metadata": {},
   "outputs": [],
   "source": [
    "X_centered.mean(0)"
   ]
  },
  {
   "cell_type": "code",
   "execution_count": null,
   "id": "b440b049",
   "metadata": {},
   "outputs": [],
   "source": [
    "x = np.linspace(0, 5, 50)        \n",
    "y = np.linspace(0, 5, 50)[:, np.newaxis]"
   ]
  },
  {
   "cell_type": "code",
   "execution_count": null,
   "id": "c5d5db69",
   "metadata": {},
   "outputs": [],
   "source": [
    "x.shape"
   ]
  },
  {
   "cell_type": "code",
   "execution_count": null,
   "id": "b611f1ae",
   "metadata": {},
   "outputs": [],
   "source": [
    "y.shape"
   ]
  },
  {
   "cell_type": "markdown",
   "id": "68a211c8",
   "metadata": {},
   "source": [
    "### Boolean operators on numpy array"
   ]
  },
  {
   "cell_type": "code",
   "execution_count": null,
   "id": "488f985b",
   "metadata": {},
   "outputs": [],
   "source": []
  },
  {
   "cell_type": "markdown",
   "id": "aa338f69",
   "metadata": {},
   "source": [
    "### Indexing operations"
   ]
  },
  {
   "cell_type": "markdown",
   "id": "5ccb2a86",
   "metadata": {},
   "source": [
    "### Sorting"
   ]
  },
  {
   "cell_type": "markdown",
   "id": "366f3910",
   "metadata": {},
   "source": [
    "### Using structured data with numpy arrays"
   ]
  }
 ],
 "metadata": {
  "kernelspec": {
   "display_name": "Python 3",
   "language": "python",
   "name": "python3"
  },
  "language_info": {
   "codemirror_mode": {
    "name": "ipython",
    "version": 3
   },
   "file_extension": ".py",
   "mimetype": "text/x-python",
   "name": "python",
   "nbconvert_exporter": "python",
   "pygments_lexer": "ipython3",
   "version": "3.8.5"
  }
 },
 "nbformat": 4,
 "nbformat_minor": 5
}
