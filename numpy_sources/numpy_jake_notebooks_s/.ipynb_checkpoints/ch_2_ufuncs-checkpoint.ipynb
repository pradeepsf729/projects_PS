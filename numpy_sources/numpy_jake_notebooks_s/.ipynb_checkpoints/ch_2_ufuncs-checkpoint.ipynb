{
 "cells": [
  {
   "cell_type": "code",
   "execution_count": 1,
   "metadata": {},
   "outputs": [],
   "source": [
    "import numpy as np\n",
    "import pandas as pd"
   ]
  },
  {
   "cell_type": "code",
   "execution_count": 2,
   "id": "2938a2cb",
   "metadata": {},
   "outputs": [],
   "source": [
    "%matplotlib inline\n",
    "import matplotlib.pyplot as plt\n",
    "import seaborn; seaborn.set()"
   ]
  },
  {
   "cell_type": "markdown",
   "metadata": {},
   "source": [
    "### TIME it"
   ]
  },
  {
   "cell_type": "code",
<<<<<<< HEAD:numpy_conceptwise/numpy_notes_p/Numpy_Computations.ipynb
   "execution_count": 3,
   "id": "dcf92728",
   "metadata": {},
   "outputs": [
    {
     "name": "stdout",
     "output_type": "stream",
     "text": [
      "CPU times: user 11.3 ms, sys: 11.1 ms, total: 22.4 ms\n",
      "Wall time: 22.4 ms\n"
     ]
    },
    {
     "data": {
      "text/plain": [
       "array([0.33333333, 0.125     , 1.        , ..., 0.5       , 0.11111111,\n",
       "       0.5       ])"
      ]
     },
     "execution_count": 3,
     "metadata": {},
     "output_type": "execute_result"
    }
   ],
   "source": [
    "values = np.random.randint(1, 10, size=10000000)\n",
    "%time (1.0 / values)"
=======
   "execution_count": 4,
   "metadata": {},
   "outputs": [],
   "source": [
    "def hello(given_num):\n",
    "    return given_num * 2\n",
    "%timeit hello(100)"
>>>>>>> upstream/main:numpy_sources/numpy_jake_notebooks_s/.ipynb_checkpoints/ch_2_ufuncs-checkpoint.ipynb
   ]
  },
  {
   "cell_type": "markdown",
   "metadata": {},
   "source": [
    "### Ufuncs applied to 1 dimensions also"
   ]
  },
  {
   "cell_type": "code",
<<<<<<< HEAD:numpy_conceptwise/numpy_notes_p/Numpy_Computations.ipynb
   "execution_count": 4,
   "id": "18ef02c9",
   "metadata": {},
   "outputs": [
    {
     "name": "stdout",
     "output_type": "stream",
     "text": [
      "CPU times: user 22 µs, sys: 6 µs, total: 28 µs\n",
      "Wall time: 29.1 µs\n"
     ]
    },
    {
     "data": {
      "text/plain": [
       "array([0.33333333, 0.        , 0.        , ..., 0.        , 0.        ,\n",
       "       0.        ])"
      ]
     },
     "execution_count": 4,
     "metadata": {},
     "output_type": "execute_result"
    }
   ],
   "source": [
    "def compute_reciprocals(values):           \n",
    "    output = np.empty(len(values))           \n",
    "    for i in range(len(values)):               \n",
    "        output[i] = 1.0 / values[i]           \n",
    "        return output\n",
    "\n",
    "%time compute_reciprocals(values)"
   ]
  },
  {
   "cell_type": "code",
   "execution_count": 5,
   "id": "0a8c884a",
=======
   "execution_count": 7,
>>>>>>> upstream/main:numpy_sources/numpy_jake_notebooks_s/.ipynb_checkpoints/ch_2_ufuncs-checkpoint.ipynb
   "metadata": {},
   "outputs": [
    {
     "data": {
      "text/plain": [
       "array([0, 1, 2, 3, 4])"
      ]
     },
<<<<<<< HEAD:numpy_conceptwise/numpy_notes_p/Numpy_Computations.ipynb
     "execution_count": 5,
=======
     "execution_count": 7,
>>>>>>> upstream/main:numpy_sources/numpy_jake_notebooks_s/.ipynb_checkpoints/ch_2_ufuncs-checkpoint.ipynb
     "metadata": {},
     "output_type": "execute_result"
    }
   ],
   "source": [
    "np.arange(5)"
   ]
  },
  {
   "cell_type": "code",
<<<<<<< HEAD:numpy_conceptwise/numpy_notes_p/Numpy_Computations.ipynb
   "execution_count": 6,
   "id": "b043d13e",
=======
   "execution_count": 8,
>>>>>>> upstream/main:numpy_sources/numpy_jake_notebooks_s/.ipynb_checkpoints/ch_2_ufuncs-checkpoint.ipynb
   "metadata": {},
   "outputs": [
    {
     "data": {
      "text/plain": [
       "array([1, 2, 3, 4, 5])"
      ]
     },
<<<<<<< HEAD:numpy_conceptwise/numpy_notes_p/Numpy_Computations.ipynb
     "execution_count": 6,
=======
     "execution_count": 8,
>>>>>>> upstream/main:numpy_sources/numpy_jake_notebooks_s/.ipynb_checkpoints/ch_2_ufuncs-checkpoint.ipynb
     "metadata": {},
     "output_type": "execute_result"
    }
   ],
   "source": [
    "np.arange(1, 6)"
   ]
  },
  {
   "cell_type": "code",
<<<<<<< HEAD:numpy_conceptwise/numpy_notes_p/Numpy_Computations.ipynb
   "execution_count": 7,
   "id": "9c4b317a",
=======
   "execution_count": 9,
>>>>>>> upstream/main:numpy_sources/numpy_jake_notebooks_s/.ipynb_checkpoints/ch_2_ufuncs-checkpoint.ipynb
   "metadata": {},
   "outputs": [
    {
     "data": {
      "text/plain": [
       "array([0.        , 0.5       , 0.66666667, 0.75      , 0.8       ])"
      ]
     },
<<<<<<< HEAD:numpy_conceptwise/numpy_notes_p/Numpy_Computations.ipynb
     "execution_count": 7,
=======
     "execution_count": 9,
>>>>>>> upstream/main:numpy_sources/numpy_jake_notebooks_s/.ipynb_checkpoints/ch_2_ufuncs-checkpoint.ipynb
     "metadata": {},
     "output_type": "execute_result"
    }
   ],
   "source": [
    "np.arange(5) / np.arange(1, 6)"
   ]
  },
  {
   "cell_type": "markdown",
   "metadata": {},
   "source": [
    "### Ufuncs apply to 2 dimensions also"
   ]
  },
  {
   "cell_type": "code",
<<<<<<< HEAD:numpy_conceptwise/numpy_notes_p/Numpy_Computations.ipynb
   "execution_count": 8,
   "id": "600f2f04",
=======
   "execution_count": 12,
>>>>>>> upstream/main:numpy_sources/numpy_jake_notebooks_s/.ipynb_checkpoints/ch_2_ufuncs-checkpoint.ipynb
   "metadata": {},
   "outputs": [
    {
     "data": {
      "text/plain": [
       "array([[0, 1, 2],\n",
       "       [3, 4, 5],\n",
       "       [6, 7, 8]])"
      ]
     },
<<<<<<< HEAD:numpy_conceptwise/numpy_notes_p/Numpy_Computations.ipynb
     "execution_count": 8,
=======
     "execution_count": 12,
>>>>>>> upstream/main:numpy_sources/numpy_jake_notebooks_s/.ipynb_checkpoints/ch_2_ufuncs-checkpoint.ipynb
     "metadata": {},
     "output_type": "execute_result"
    }
   ],
   "source": [
    "x = np.arange(9).reshape((3, 3))\n",
    "x"
   ]
  },
  {
   "cell_type": "code",
<<<<<<< HEAD:numpy_conceptwise/numpy_notes_p/Numpy_Computations.ipynb
   "execution_count": 9,
   "id": "ff2f94d8",
=======
   "execution_count": 13,
>>>>>>> upstream/main:numpy_sources/numpy_jake_notebooks_s/.ipynb_checkpoints/ch_2_ufuncs-checkpoint.ipynb
   "metadata": {},
   "outputs": [
    {
     "data": {
      "text/plain": [
       "array([[  1,   2,   4],\n",
       "       [  8,  16,  32],\n",
       "       [ 64, 128, 256]], dtype=int32)"
      ]
     },
<<<<<<< HEAD:numpy_conceptwise/numpy_notes_p/Numpy_Computations.ipynb
     "execution_count": 9,
=======
     "execution_count": 13,
>>>>>>> upstream/main:numpy_sources/numpy_jake_notebooks_s/.ipynb_checkpoints/ch_2_ufuncs-checkpoint.ipynb
     "metadata": {},
     "output_type": "execute_result"
    }
   ],
   "source": [
    "2 ** x"
   ]
  },
  {
   "cell_type": "raw",
   "metadata": {},
   "source": [
    "#Unary ufunc and # binary ufunc"
   ]
  },
  {
   "cell_type": "code",
<<<<<<< HEAD:numpy_conceptwise/numpy_notes_p/Numpy_Computations.ipynb
   "execution_count": 10,
   "id": "a74f6082",
   "metadata": {},
   "outputs": [
    {
     "data": {
      "text/plain": [
       "array([[10, 11, 12],\n",
       "       [13, 14, 15],\n",
       "       [16, 17, 18]])"
      ]
     },
     "execution_count": 10,
     "metadata": {},
     "output_type": "execute_result"
    }
   ],
=======
   "execution_count": 17,
   "metadata": {},
   "outputs": [],
>>>>>>> upstream/main:numpy_sources/numpy_jake_notebooks_s/.ipynb_checkpoints/ch_2_ufuncs-checkpoint.ipynb
   "source": [
    "# Basic Arithmetic"
   ]
  },
  {
   "cell_type": "code",
<<<<<<< HEAD:numpy_conceptwise/numpy_notes_p/Numpy_Computations.ipynb
   "execution_count": 11,
   "id": "fcd5306c",
   "metadata": {},
   "outputs": [
    {
     "data": {
      "text/plain": [
       "array([[    0,     1,    32],\n",
       "       [  243,  1024,  3125],\n",
       "       [ 7776, 16807, 32768]])"
      ]
     },
     "execution_count": 11,
     "metadata": {},
     "output_type": "execute_result"
=======
   "execution_count": 15,
   "metadata": {},
   "outputs": [
    {
     "name": "stdout",
     "output_type": "stream",
     "text": [
      "x     = [0 1 2 3]\n",
      "x + 5 = [5 6 7 8]\n",
      "x - 5 = [-5 -4 -3 -2]\n",
      "x * 2 = [0 2 4 6]\n",
      "x / 2 = [0.  0.5 1.  1.5]\n",
      "x // 2 = [0 0 1 1]\n"
     ]
>>>>>>> upstream/main:numpy_sources/numpy_jake_notebooks_s/.ipynb_checkpoints/ch_2_ufuncs-checkpoint.ipynb
    }
   ],
   "source": [
    "x = np.arange(4)\n",
    "print(\"x     =\", x)\n",
    "print(\"x + 5 =\", x + 5)\n",
    "print(\"x - 5 =\", x - 5)\n",
    "print(\"x * 2 =\", x * 2)\n",
    "print(\"x / 2 =\", x / 2)\n",
    "print(\"x // 2 =\", x // 2)  # floor division"
   ]
  },
  {
   "cell_type": "code",
<<<<<<< HEAD:numpy_conceptwise/numpy_notes_p/Numpy_Computations.ipynb
   "execution_count": 12,
   "id": "ec7fbf24",
   "metadata": {},
   "outputs": [
    {
     "data": {
      "text/plain": [
       "array([[1.38629436, 1.60943791, 1.79175947],\n",
       "       [1.94591015, 2.07944154, 2.19722458],\n",
       "       [2.30258509, 2.39789527, 2.48490665]])"
      ]
     },
     "execution_count": 12,
     "metadata": {},
     "output_type": "execute_result"
=======
   "execution_count": 18,
   "metadata": {},
   "outputs": [
    {
     "name": "stdout",
     "output_type": "stream",
     "text": [
      "-x     =  [ 0 -1 -2 -3]\n",
      "x ** 2 =  [0 1 4 9]\n",
      "x % 2  =  [0 1 0 1]\n"
     ]
>>>>>>> upstream/main:numpy_sources/numpy_jake_notebooks_s/.ipynb_checkpoints/ch_2_ufuncs-checkpoint.ipynb
    }
   ],
   "source": [
    "print(\"-x     = \", -x)\n",
    "print(\"x ** 2 = \", x ** 2)\n",
    "print(\"x % 2  = \", x % 2)"
   ]
  },
  {
   "cell_type": "code",
<<<<<<< HEAD:numpy_conceptwise/numpy_notes_p/Numpy_Computations.ipynb
   "execution_count": 13,
   "id": "60fdbb3d",
   "metadata": {},
   "outputs": [
    {
     "data": {
      "text/plain": [
       "array([ 1.000000e+00,  6.123234e-17, -1.000000e+00])"
      ]
     },
     "execution_count": 13,
     "metadata": {},
     "output_type": "execute_result"
    }
   ],
=======
   "execution_count": 20,
   "metadata": {},
   "outputs": [],
>>>>>>> upstream/main:numpy_sources/numpy_jake_notebooks_s/.ipynb_checkpoints/ch_2_ufuncs-checkpoint.ipynb
   "source": [
    "# order doesn't matter - of course BODMAS matters"
   ]
  },
  {
   "cell_type": "code",
<<<<<<< HEAD:numpy_conceptwise/numpy_notes_p/Numpy_Computations.ipynb
   "execution_count": 14,
   "id": "dc9f8b01",
=======
   "execution_count": 19,
>>>>>>> upstream/main:numpy_sources/numpy_jake_notebooks_s/.ipynb_checkpoints/ch_2_ufuncs-checkpoint.ipynb
   "metadata": {},
   "outputs": [
    {
     "data": {
      "text/plain": [
       "array([-1.  , -2.25, -4.  , -6.25])"
      ]
     },
<<<<<<< HEAD:numpy_conceptwise/numpy_notes_p/Numpy_Computations.ipynb
     "execution_count": 14,
=======
     "execution_count": 19,
>>>>>>> upstream/main:numpy_sources/numpy_jake_notebooks_s/.ipynb_checkpoints/ch_2_ufuncs-checkpoint.ipynb
     "metadata": {},
     "output_type": "execute_result"
    }
   ],
   "source": [
    "-(0.5*x + 1) ** 2"
   ]
  },
  {
   "cell_type": "markdown",
   "metadata": {},
   "source": [
    "### Absolute Value"
   ]
  },
  {
   "cell_type": "code",
<<<<<<< HEAD:numpy_conceptwise/numpy_notes_p/Numpy_Computations.ipynb
   "execution_count": 15,
   "id": "dd4bbd1a",
=======
   "execution_count": 21,
>>>>>>> upstream/main:numpy_sources/numpy_jake_notebooks_s/.ipynb_checkpoints/ch_2_ufuncs-checkpoint.ipynb
   "metadata": {},
   "outputs": [
    {
     "data": {
      "text/plain": [
       "array([2, 1, 0, 1, 2])"
      ]
     },
<<<<<<< HEAD:numpy_conceptwise/numpy_notes_p/Numpy_Computations.ipynb
     "execution_count": 15,
=======
     "execution_count": 21,
>>>>>>> upstream/main:numpy_sources/numpy_jake_notebooks_s/.ipynb_checkpoints/ch_2_ufuncs-checkpoint.ipynb
     "metadata": {},
     "output_type": "execute_result"
    }
   ],
   "source": [
    "x = np.array([-2, -1, 0, 1, 2])\n",
    "abs(x)"
   ]
  },
  {
   "cell_type": "code",
<<<<<<< HEAD:numpy_conceptwise/numpy_notes_p/Numpy_Computations.ipynb
   "execution_count": 16,
   "id": "fe8d1457",
=======
   "execution_count": 22,
   "metadata": {},
   "outputs": [],
   "source": [
    "# np.absolute, np.abs"
   ]
  },
  {
   "cell_type": "code",
   "execution_count": 23,
>>>>>>> upstream/main:numpy_sources/numpy_jake_notebooks_s/.ipynb_checkpoints/ch_2_ufuncs-checkpoint.ipynb
   "metadata": {},
   "outputs": [
    {
     "data": {
      "text/plain": [
       "array([3.-4.j, 4.-3.j, 2.+0.j, 0.+1.j])"
      ]
     },
<<<<<<< HEAD:numpy_conceptwise/numpy_notes_p/Numpy_Computations.ipynb
     "execution_count": 16,
=======
     "execution_count": 23,
>>>>>>> upstream/main:numpy_sources/numpy_jake_notebooks_s/.ipynb_checkpoints/ch_2_ufuncs-checkpoint.ipynb
     "metadata": {},
     "output_type": "execute_result"
    }
   ],
   "source": [
    "x = np.array([3 - 4j, 4 - 3j, 2 + 0j, 0 + 1j]) #complex numbers\n",
    "x"
   ]
  },
  {
   "cell_type": "code",
<<<<<<< HEAD:numpy_conceptwise/numpy_notes_p/Numpy_Computations.ipynb
   "execution_count": 17,
   "id": "9b57b388",
=======
   "execution_count": 24,
>>>>>>> upstream/main:numpy_sources/numpy_jake_notebooks_s/.ipynb_checkpoints/ch_2_ufuncs-checkpoint.ipynb
   "metadata": {},
   "outputs": [
    {
     "data": {
      "text/plain": [
       "array([5., 5., 2., 1.])"
      ]
     },
<<<<<<< HEAD:numpy_conceptwise/numpy_notes_p/Numpy_Computations.ipynb
     "execution_count": 17,
=======
     "execution_count": 24,
>>>>>>> upstream/main:numpy_sources/numpy_jake_notebooks_s/.ipynb_checkpoints/ch_2_ufuncs-checkpoint.ipynb
     "metadata": {},
     "output_type": "execute_result"
    }
   ],
   "source": [
    "np.abs(x)"
   ]
  },
  {
   "cell_type": "markdown",
   "metadata": {},
   "source": [
    "# Trigonometry"
   ]
  },
  {
   "cell_type": "code",
<<<<<<< HEAD:numpy_conceptwise/numpy_notes_p/Numpy_Computations.ipynb
   "execution_count": 18,
   "id": "38df0f5f",
=======
   "execution_count": 25,
   "metadata": {},
   "outputs": [],
   "source": [
    "theta = np.linspace(0, np.pi, 3)"
   ]
  },
  {
   "cell_type": "code",
   "execution_count": 26,
>>>>>>> upstream/main:numpy_sources/numpy_jake_notebooks_s/.ipynb_checkpoints/ch_2_ufuncs-checkpoint.ipynb
   "metadata": {},
   "outputs": [
    {
     "data": {
      "text/plain": [
<<<<<<< HEAD:numpy_conceptwise/numpy_notes_p/Numpy_Computations.ipynb
       "46.044764530772184"
      ]
     },
     "execution_count": 18,
=======
       "array([0.        , 1.57079633, 3.14159265])"
      ]
     },
     "execution_count": 26,
>>>>>>> upstream/main:numpy_sources/numpy_jake_notebooks_s/.ipynb_checkpoints/ch_2_ufuncs-checkpoint.ipynb
     "metadata": {},
     "output_type": "execute_result"
    }
   ],
   "source": [
    "theta"
   ]
  },
  {
   "cell_type": "code",
<<<<<<< HEAD:numpy_conceptwise/numpy_notes_p/Numpy_Computations.ipynb
   "execution_count": 19,
   "id": "c16c5c6d",
   "metadata": {
    "scrolled": true
   },
   "outputs": [
    {
     "data": {
      "text/plain": [
       "46.04476453077219"
      ]
     },
     "execution_count": 19,
     "metadata": {},
     "output_type": "execute_result"
=======
   "execution_count": 30,
   "metadata": {},
   "outputs": [],
   "source": [
    "# sine, cosine"
   ]
  },
  {
   "cell_type": "code",
   "execution_count": 27,
   "metadata": {},
   "outputs": [
    {
     "name": "stdout",
     "output_type": "stream",
     "text": [
      "theta      =  [0.         1.57079633 3.14159265]\n",
      "sin(theta) =  [0.0000000e+00 1.0000000e+00 1.2246468e-16]\n",
      "cos(theta) =  [ 1.000000e+00  6.123234e-17 -1.000000e+00]\n",
      "tan(theta) =  [ 0.00000000e+00  1.63312394e+16 -1.22464680e-16]\n"
     ]
>>>>>>> upstream/main:numpy_sources/numpy_jake_notebooks_s/.ipynb_checkpoints/ch_2_ufuncs-checkpoint.ipynb
    }
   ],
   "source": [
    "print(\"theta      = \", theta)\n",
    "print(\"sin(theta) = \", np.sin(theta))\n",
    "print(\"cos(theta) = \", np.cos(theta))\n",
    "print(\"tan(theta) = \", np.tan(theta))"
   ]
  },
  {
   "cell_type": "code",
<<<<<<< HEAD:numpy_conceptwise/numpy_notes_p/Numpy_Computations.ipynb
   "execution_count": 20,
   "id": "0d5f0e24",
=======
   "execution_count": 29,
   "metadata": {},
   "outputs": [],
   "source": [
    "# INVERSE sine, cosine"
   ]
  },
  {
   "cell_type": "code",
   "execution_count": 28,
>>>>>>> upstream/main:numpy_sources/numpy_jake_notebooks_s/.ipynb_checkpoints/ch_2_ufuncs-checkpoint.ipynb
   "metadata": {},
   "outputs": [
    {
     "name": "stdout",
     "output_type": "stream",
     "text": [
<<<<<<< HEAD:numpy_conceptwise/numpy_notes_p/Numpy_Computations.ipynb
      "CPU times: user 72.9 ms, sys: 778 µs, total: 73.7 ms\n",
      "Wall time: 74 ms\n",
      "CPU times: user 361 µs, sys: 26 µs, total: 387 µs\n",
      "Wall time: 248 µs\n"
=======
      "x         =  [-1, 0, 1]\n",
      "arcsin(x) =  [-1.57079633  0.          1.57079633]\n",
      "arccos(x) =  [3.14159265 1.57079633 0.        ]\n",
      "arctan(x) =  [-0.78539816  0.          0.78539816]\n"
>>>>>>> upstream/main:numpy_sources/numpy_jake_notebooks_s/.ipynb_checkpoints/ch_2_ufuncs-checkpoint.ipynb
     ]
    },
    {
     "data": {
      "text/plain": [
       "499434.9092215918"
      ]
     },
     "execution_count": 20,
     "metadata": {},
     "output_type": "execute_result"
    }
   ],
   "source": [
<<<<<<< HEAD:numpy_conceptwise/numpy_notes_p/Numpy_Computations.ipynb
    "l = np.random.random(1000000)\n",
    "%time sum(l)\n",
    "%time np.sum(l)"
=======
    "x = [-1, 0, 1]\n",
    "print(\"x         = \", x)\n",
    "print(\"arcsin(x) = \", np.arcsin(x))\n",
    "print(\"arccos(x) = \", np.arccos(x))\n",
    "print(\"arctan(x) = \", np.arctan(x))"
   ]
  },
  {
   "cell_type": "markdown",
   "metadata": {},
   "source": [
    "### Exponential "
>>>>>>> upstream/main:numpy_sources/numpy_jake_notebooks_s/.ipynb_checkpoints/ch_2_ufuncs-checkpoint.ipynb
   ]
  },
  {
   "cell_type": "code",
<<<<<<< HEAD:numpy_conceptwise/numpy_notes_p/Numpy_Computations.ipynb
   "execution_count": 21,
   "id": "7d868f94",
=======
   "execution_count": 31,
>>>>>>> upstream/main:numpy_sources/numpy_jake_notebooks_s/.ipynb_checkpoints/ch_2_ufuncs-checkpoint.ipynb
   "metadata": {},
   "outputs": [
    {
     "name": "stdout",
     "output_type": "stream",
     "text": [
<<<<<<< HEAD:numpy_conceptwise/numpy_notes_p/Numpy_Computations.ipynb
      "CPU times: user 98.1 ms, sys: 745 µs, total: 98.8 ms\n",
      "Wall time: 98.7 ms\n"
=======
      "x     = [1, 2, 3]\n",
      "e^x   = [ 2.71828183  7.3890561  20.08553692]\n",
      "2^x   = [2. 4. 8.]\n",
      "3^x   = [ 3  9 27]\n"
>>>>>>> upstream/main:numpy_sources/numpy_jake_notebooks_s/.ipynb_checkpoints/ch_2_ufuncs-checkpoint.ipynb
     ]
    },
    {
     "data": {
      "text/plain": [
       "(5.417093729143119e-08, 0.9999998105830723)"
      ]
     },
     "execution_count": 21,
     "metadata": {},
     "output_type": "execute_result"
    }
   ],
   "source": [
<<<<<<< HEAD:numpy_conceptwise/numpy_notes_p/Numpy_Computations.ipynb
    "%time min(l), max(l)"
=======
    "x = [1, 2, 3]\n",
    "print(\"x     =\", x)\n",
    "print(\"e^x   =\", np.exp(x))\n",
    "print(\"2^x   =\", np.exp2(x))\n",
    "print(\"3^x   =\", np.power(3, x))"
   ]
  },
  {
   "cell_type": "markdown",
   "metadata": {},
   "source": [
    "### Logarithms"
>>>>>>> upstream/main:numpy_sources/numpy_jake_notebooks_s/.ipynb_checkpoints/ch_2_ufuncs-checkpoint.ipynb
   ]
  },
  {
   "cell_type": "code",
<<<<<<< HEAD:numpy_conceptwise/numpy_notes_p/Numpy_Computations.ipynb
   "execution_count": 22,
   "id": "5f0369dc",
=======
   "execution_count": 32,
>>>>>>> upstream/main:numpy_sources/numpy_jake_notebooks_s/.ipynb_checkpoints/ch_2_ufuncs-checkpoint.ipynb
   "metadata": {},
   "outputs": [
    {
     "name": "stdout",
     "output_type": "stream",
     "text": [
<<<<<<< HEAD:numpy_conceptwise/numpy_notes_p/Numpy_Computations.ipynb
      "CPU times: user 907 µs, sys: 519 µs, total: 1.43 ms\n",
      "Wall time: 656 µs\n"
=======
      "x        = [1, 2, 4, 10]\n",
      "ln(x)    = [0.         0.69314718 1.38629436 2.30258509]\n",
      "log2(x)  = [0.         1.         2.         3.32192809]\n",
      "log10(x) = [0.         0.30103    0.60205999 1.        ]\n"
>>>>>>> upstream/main:numpy_sources/numpy_jake_notebooks_s/.ipynb_checkpoints/ch_2_ufuncs-checkpoint.ipynb
     ]
    },
    {
     "data": {
      "text/plain": [
       "(5.417093729143119e-08, 0.9999998105830723)"
      ]
     },
     "execution_count": 22,
     "metadata": {},
     "output_type": "execute_result"
    }
   ],
   "source": [
<<<<<<< HEAD:numpy_conceptwise/numpy_notes_p/Numpy_Computations.ipynb
    "%time np.min(l), np.max(l)"
=======
    "x = [1, 2, 4, 10]\n",
    "print(\"x        =\", x)\n",
    "print(\"ln(x)    =\", np.log(x))\n",
    "print(\"log2(x)  =\", np.log2(x))\n",
    "print(\"log10(x) =\", np.log10(x))"
>>>>>>> upstream/main:numpy_sources/numpy_jake_notebooks_s/.ipynb_checkpoints/ch_2_ufuncs-checkpoint.ipynb
   ]
  },
  {
   "cell_type": "markdown",
   "metadata": {},
   "source": [
    "### When inputs are too small"
   ]
  },
  {
   "cell_type": "code",
<<<<<<< HEAD:numpy_conceptwise/numpy_notes_p/Numpy_Computations.ipynb
   "execution_count": 23,
   "id": "de2ab52e",
=======
   "execution_count": 40,
>>>>>>> upstream/main:numpy_sources/numpy_jake_notebooks_s/.ipynb_checkpoints/ch_2_ufuncs-checkpoint.ipynb
   "metadata": {},
   "outputs": [
    {
     "name": "stdout",
     "output_type": "stream",
     "text": [
      "exp(x) - 1 = [0.         0.0010005  0.01005017 0.10517092]\n",
      "log(1 + x) = [0.         0.0009995  0.00995033 0.09531018]\n"
     ]
    }
   ],
   "source": [
    "#when the inputs are very small, we can make some modifications like these to increase precision\n",
    "x = [0, 0.001, 0.01, 0.1]\n",
    "print(\"exp(x) - 1 =\", np.expm1(x))\n",
    "print(\"log(1 + x) =\", np.log1p(x))\n",
    "# to be discussed"
   ]
  },
  {
   "cell_type": "code",
<<<<<<< HEAD:numpy_conceptwise/numpy_notes_p/Numpy_Computations.ipynb
   "execution_count": 24,
   "id": "bab4fdf6",
=======
   "execution_count": 41,
>>>>>>> upstream/main:numpy_sources/numpy_jake_notebooks_s/.ipynb_checkpoints/ch_2_ufuncs-checkpoint.ipynb
   "metadata": {},
   "outputs": [],
   "source": [
    "from scipy import special"
   ]
  },
  {
   "cell_type": "code",
<<<<<<< HEAD:numpy_conceptwise/numpy_notes_p/Numpy_Computations.ipynb
   "execution_count": 25,
   "id": "af0587ca",
   "metadata": {},
   "outputs": [
    {
     "data": {
      "text/plain": [
       "((2, 3), (3,))"
      ]
     },
     "execution_count": 25,
     "metadata": {},
     "output_type": "execute_result"
=======
   "execution_count": 43,
   "metadata": {},
   "outputs": [
    {
     "name": "stdout",
     "output_type": "stream",
     "text": [
      "gamma(x)     = [1.0000e+00 2.4000e+01 3.6288e+05]\n",
      "ln|gamma(x)| = [ 0.          3.17805383 12.80182748]\n",
      "beta(x, 2)   = [0.5        0.03333333 0.00909091]\n"
     ]
>>>>>>> upstream/main:numpy_sources/numpy_jake_notebooks_s/.ipynb_checkpoints/ch_2_ufuncs-checkpoint.ipynb
    }
   ],
   "source": [
    "# Gamma functions (generalized factorials) and related functions\n",
    "x = [1, 5, 10]\n",
    "print(\"gamma(x)     =\", special.gamma(x))\n",
    "print(\"ln|gamma(x)| =\", special.gammaln(x))\n",
    "print(\"beta(x, 2)   =\", special.beta(x, 2))\n",
    "# to be discussed"
   ]
  },
  {
   "cell_type": "code",
<<<<<<< HEAD:numpy_conceptwise/numpy_notes_p/Numpy_Computations.ipynb
   "execution_count": 26,
   "id": "434da43e",
   "metadata": {},
   "outputs": [
    {
     "data": {
      "text/plain": [
       "(array([[1., 1., 1.],\n",
       "        [1., 1., 1.]]),\n",
       " array([0, 1, 2]))"
      ]
     },
     "execution_count": 26,
     "metadata": {},
     "output_type": "execute_result"
=======
   "execution_count": 45,
   "metadata": {},
   "outputs": [
    {
     "name": "stdout",
     "output_type": "stream",
     "text": [
      "erf(x)  = [0.         0.32862676 0.67780119 0.84270079]\n",
      "erfc(x) = [1.         0.67137324 0.32219881 0.15729921]\n",
      "erfinv(x) = [0.         0.27246271 0.73286908        inf]\n"
     ]
>>>>>>> upstream/main:numpy_sources/numpy_jake_notebooks_s/.ipynb_checkpoints/ch_2_ufuncs-checkpoint.ipynb
    }
   ],
   "source": [
    "# Error function (integral of Gaussian)\n",
    "# its complement, and its inverse\n",
    "x = np.array([0, 0.3, 0.7, 1.0])\n",
    "print(\"erf(x)  =\", special.erf(x))\n",
    "print(\"erfc(x) =\", special.erfc(x))\n",
    "print(\"erfinv(x) =\", special.erfinv(x))\n",
    "# to be discussed"
   ]
  },
  {
   "cell_type": "code",
<<<<<<< HEAD:numpy_conceptwise/numpy_notes_p/Numpy_Computations.ipynb
   "execution_count": 27,
   "id": "e2de529c",
=======
   "execution_count": 64,
>>>>>>> upstream/main:numpy_sources/numpy_jake_notebooks_s/.ipynb_checkpoints/ch_2_ufuncs-checkpoint.ipynb
   "metadata": {},
   "outputs": [
    {
     "data": {
      "text/plain": [
       "(array([0, 1, 2, 3, 4]), array([ 1.,  2.,  4.,  8., 16.]))"
      ]
     },
<<<<<<< HEAD:numpy_conceptwise/numpy_notes_p/Numpy_Computations.ipynb
     "execution_count": 27,
=======
     "execution_count": 64,
>>>>>>> upstream/main:numpy_sources/numpy_jake_notebooks_s/.ipynb_checkpoints/ch_2_ufuncs-checkpoint.ipynb
     "metadata": {},
     "output_type": "execute_result"
    }
   ],
   "source": [
    "x = np.arange(5)\n",
    "y = np.empty(5)\n",
    "x, y"
   ]
  },
  {
   "cell_type": "code",
<<<<<<< HEAD:numpy_conceptwise/numpy_notes_p/Numpy_Computations.ipynb
   "execution_count": 28,
   "id": "e8bdefa9",
=======
   "execution_count": 65,
>>>>>>> upstream/main:numpy_sources/numpy_jake_notebooks_s/.ipynb_checkpoints/ch_2_ufuncs-checkpoint.ipynb
   "metadata": {},
   "outputs": [
    {
     "data": {
      "text/plain": [
       "(array([ 0, 10, 20, 30, 40]), array([ 1.,  2.,  4.,  8., 16.]))"
      ]
     },
<<<<<<< HEAD:numpy_conceptwise/numpy_notes_p/Numpy_Computations.ipynb
     "execution_count": 28,
=======
     "execution_count": 65,
>>>>>>> upstream/main:numpy_sources/numpy_jake_notebooks_s/.ipynb_checkpoints/ch_2_ufuncs-checkpoint.ipynb
     "metadata": {},
     "output_type": "execute_result"
    }
   ],
   "source": [
    "np.multiply(x, 10), y"
   ]
  },
  {
   "cell_type": "code",
<<<<<<< HEAD:numpy_conceptwise/numpy_notes_p/Numpy_Computations.ipynb
   "execution_count": 29,
   "id": "e0984dd6",
=======
   "execution_count": 53,
>>>>>>> upstream/main:numpy_sources/numpy_jake_notebooks_s/.ipynb_checkpoints/ch_2_ufuncs-checkpoint.ipynb
   "metadata": {},
   "outputs": [
    {
     "name": "stdout",
     "output_type": "stream",
     "text": [
      "[ 0. 10. 20. 30. 40.]\n"
     ]
    }
   ],
   "source": [
    "np.multiply(x, 10, out=y)\n",
    "print(y)"
   ]
  },
  {
   "cell_type": "markdown",
   "metadata": {},
   "source": [
    "### Don't waste MEMORY"
   ]
  },
  {
   "cell_type": "code",
<<<<<<< HEAD:numpy_conceptwise/numpy_notes_p/Numpy_Computations.ipynb
   "execution_count": 30,
   "id": "97ee4bf0",
=======
   "execution_count": 69,
>>>>>>> upstream/main:numpy_sources/numpy_jake_notebooks_s/.ipynb_checkpoints/ch_2_ufuncs-checkpoint.ipynb
   "metadata": {},
   "outputs": [
    {
     "data": {
      "text/plain": [
       "(array([0, 1, 2, 3, 4]), array([0., 0., 0., 0., 0., 0., 0., 0., 0., 0.]))"
      ]
     },
<<<<<<< HEAD:numpy_conceptwise/numpy_notes_p/Numpy_Computations.ipynb
     "execution_count": 30,
=======
     "execution_count": 69,
>>>>>>> upstream/main:numpy_sources/numpy_jake_notebooks_s/.ipynb_checkpoints/ch_2_ufuncs-checkpoint.ipynb
     "metadata": {},
     "output_type": "execute_result"
    }
   ],
   "source": [
    "x = np.arange(5)\n",
    "y = np.zeros(10)\n",
    "x, y"
   ]
  },
  {
   "cell_type": "code",
<<<<<<< HEAD:numpy_conceptwise/numpy_notes_p/Numpy_Computations.ipynb
   "execution_count": 31,
   "id": "9ee91829",
=======
   "execution_count": 71,
>>>>>>> upstream/main:numpy_sources/numpy_jake_notebooks_s/.ipynb_checkpoints/ch_2_ufuncs-checkpoint.ipynb
   "metadata": {},
   "outputs": [
    {
     "data": {
      "text/plain": [
       "(array([ 1,  3,  9, 27, 81], dtype=int32),\n",
       " array([ 1,  2,  4,  8, 16], dtype=int32))"
      ]
     },
<<<<<<< HEAD:numpy_conceptwise/numpy_notes_p/Numpy_Computations.ipynb
     "execution_count": 31,
=======
     "execution_count": 71,
>>>>>>> upstream/main:numpy_sources/numpy_jake_notebooks_s/.ipynb_checkpoints/ch_2_ufuncs-checkpoint.ipynb
     "metadata": {},
     "output_type": "execute_result"
    }
   ],
   "source": [
    "np.power(3, x), np.power(2, x)"
   ]
  },
  {
   "cell_type": "code",
<<<<<<< HEAD:numpy_conceptwise/numpy_notes_p/Numpy_Computations.ipynb
   "execution_count": 32,
   "id": "7e092998",
=======
   "execution_count": 72,
>>>>>>> upstream/main:numpy_sources/numpy_jake_notebooks_s/.ipynb_checkpoints/ch_2_ufuncs-checkpoint.ipynb
   "metadata": {},
   "outputs": [
    {
     "data": {
      "text/plain": [
       "array([ 1.,  0.,  2.,  0.,  4.,  0.,  8.,  0., 16.,  0.])"
      ]
     },
<<<<<<< HEAD:numpy_conceptwise/numpy_notes_p/Numpy_Computations.ipynb
     "execution_count": 32,
=======
     "execution_count": 72,
>>>>>>> upstream/main:numpy_sources/numpy_jake_notebooks_s/.ipynb_checkpoints/ch_2_ufuncs-checkpoint.ipynb
     "metadata": {},
     "output_type": "execute_result"
    }
   ],
   "source": [
    "# if you assign the output like this, then first the output will be stored in a temp array and\n",
    "# then it is copied inot z, this will make operations very slow for huge arrays. DONT DO THIS\n",
    "z[::2] = np.power(2, x)\n",
    "z"
   ]
  },
  {
   "cell_type": "code",
<<<<<<< HEAD:numpy_conceptwise/numpy_notes_p/Numpy_Computations.ipynb
   "execution_count": 33,
   "id": "eaf76fc8",
=======
   "execution_count": 73,
   "metadata": {},
   "outputs": [
    {
     "name": "stdout",
     "output_type": "stream",
     "text": [
      "[ 1.  0.  2.  0.  4.  0.  8.  0. 16.  0.]\n"
     ]
    }
   ],
   "source": [
    "# Do this instead\n",
    "y = np.zeros(10)\n",
    "np.power(2, x, out=y[::2])\n",
    "print(y)"
   ]
  },
  {
   "cell_type": "markdown",
>>>>>>> upstream/main:numpy_sources/numpy_jake_notebooks_s/.ipynb_checkpoints/ch_2_ufuncs-checkpoint.ipynb
   "metadata": {},
   "source": [
    "### Reduce"
   ]
  },
  {
   "cell_type": "code",
<<<<<<< HEAD:numpy_conceptwise/numpy_notes_p/Numpy_Computations.ipynb
   "execution_count": 34,
   "id": "ffaf63e7",
=======
   "execution_count": 74,
>>>>>>> upstream/main:numpy_sources/numpy_jake_notebooks_s/.ipynb_checkpoints/ch_2_ufuncs-checkpoint.ipynb
   "metadata": {},
   "outputs": [
    {
     "data": {
      "text/plain": [
       "15"
      ]
     },
<<<<<<< HEAD:numpy_conceptwise/numpy_notes_p/Numpy_Computations.ipynb
     "execution_count": 34,
=======
     "execution_count": 74,
>>>>>>> upstream/main:numpy_sources/numpy_jake_notebooks_s/.ipynb_checkpoints/ch_2_ufuncs-checkpoint.ipynb
     "metadata": {},
     "output_type": "execute_result"
    }
   ],
   "source": [
<<<<<<< HEAD:numpy_conceptwise/numpy_notes_p/Numpy_Computations.ipynb
    "M.shape, a.shape"
   ]
  },
  {
   "cell_type": "code",
   "execution_count": 35,
   "id": "0492c677",
   "metadata": {},
   "outputs": [],
   "source": [
    "X = np.random.random((10, 3))"
=======
    "x = np.arange(1, 6)\n",
    "np.add.reduce(x)"
>>>>>>> upstream/main:numpy_sources/numpy_jake_notebooks_s/.ipynb_checkpoints/ch_2_ufuncs-checkpoint.ipynb
   ]
  },
  {
   "cell_type": "code",
<<<<<<< HEAD:numpy_conceptwise/numpy_notes_p/Numpy_Computations.ipynb
   "execution_count": 36,
   "id": "bcadd925",
=======
   "execution_count": 75,
>>>>>>> upstream/main:numpy_sources/numpy_jake_notebooks_s/.ipynb_checkpoints/ch_2_ufuncs-checkpoint.ipynb
   "metadata": {},
   "outputs": [
    {
     "data": {
      "text/plain": [
<<<<<<< HEAD:numpy_conceptwise/numpy_notes_p/Numpy_Computations.ipynb
       "array([0.59253631, 0.43868671, 0.29056491])"
      ]
     },
     "execution_count": 36,
=======
       "120"
      ]
     },
     "execution_count": 75,
>>>>>>> upstream/main:numpy_sources/numpy_jake_notebooks_s/.ipynb_checkpoints/ch_2_ufuncs-checkpoint.ipynb
     "metadata": {},
     "output_type": "execute_result"
    }
   ],
   "source": [
    "np.multiply.reduce(x)"
   ]
  },
  {
   "cell_type": "code",
<<<<<<< HEAD:numpy_conceptwise/numpy_notes_p/Numpy_Computations.ipynb
   "execution_count": 37,
   "id": "81d06752",
=======
   "execution_count": 76,
>>>>>>> upstream/main:numpy_sources/numpy_jake_notebooks_s/.ipynb_checkpoints/ch_2_ufuncs-checkpoint.ipynb
   "metadata": {},
   "outputs": [
    {
     "data": {
      "text/plain": [
       "array([ 1,  3,  6, 10, 15], dtype=int32)"
      ]
     },
     "execution_count": 76,
     "metadata": {},
     "output_type": "execute_result"
    }
   ],
   "source": [
    "np.add.accumulate(x)"
   ]
  },
  {
   "cell_type": "code",
<<<<<<< HEAD:numpy_conceptwise/numpy_notes_p/Numpy_Computations.ipynb
   "execution_count": 38,
   "id": "1c6c2aa3",
=======
   "execution_count": 77,
>>>>>>> upstream/main:numpy_sources/numpy_jake_notebooks_s/.ipynb_checkpoints/ch_2_ufuncs-checkpoint.ipynb
   "metadata": {},
   "outputs": [
    {
     "data": {
      "text/plain": [
<<<<<<< HEAD:numpy_conceptwise/numpy_notes_p/Numpy_Computations.ipynb
       "(10, 3)"
      ]
     },
     "execution_count": 38,
=======
       "array([  1,   2,   6,  24, 120], dtype=int32)"
      ]
     },
     "execution_count": 77,
>>>>>>> upstream/main:numpy_sources/numpy_jake_notebooks_s/.ipynb_checkpoints/ch_2_ufuncs-checkpoint.ipynb
     "metadata": {},
     "output_type": "execute_result"
    }
   ],
   "source": [
    "np.multiply.accumulate(x)"
   ]
  },
  {
   "cell_type": "code",
<<<<<<< HEAD:numpy_conceptwise/numpy_notes_p/Numpy_Computations.ipynb
   "execution_count": 39,
   "id": "7cb3256f",
=======
   "execution_count": 81,
>>>>>>> upstream/main:numpy_sources/numpy_jake_notebooks_s/.ipynb_checkpoints/ch_2_ufuncs-checkpoint.ipynb
   "metadata": {},
   "outputs": [
    {
     "data": {
      "text/plain": [
<<<<<<< HEAD:numpy_conceptwise/numpy_notes_p/Numpy_Computations.ipynb
       "(3,)"
      ]
     },
     "execution_count": 39,
=======
       "(15, 120)"
      ]
     },
     "execution_count": 81,
>>>>>>> upstream/main:numpy_sources/numpy_jake_notebooks_s/.ipynb_checkpoints/ch_2_ufuncs-checkpoint.ipynb
     "metadata": {},
     "output_type": "execute_result"
    }
   ],
   "source": [
    "np.sum(x), np.prod(x)"
   ]
  },
  {
   "cell_type": "code",
<<<<<<< HEAD:numpy_conceptwise/numpy_notes_p/Numpy_Computations.ipynb
   "execution_count": 40,
   "id": "55dd40c5",
=======
   "execution_count": 82,
>>>>>>> upstream/main:numpy_sources/numpy_jake_notebooks_s/.ipynb_checkpoints/ch_2_ufuncs-checkpoint.ipynb
   "metadata": {},
   "outputs": [
    {
     "data": {
      "text/plain": [
<<<<<<< HEAD:numpy_conceptwise/numpy_notes_p/Numpy_Computations.ipynb
       "array([-5.55111512e-17,  3.33066907e-17,  2.77555756e-17])"
      ]
     },
     "execution_count": 40,
=======
       "array([ 1,  3,  6, 10, 15], dtype=int32)"
      ]
     },
     "execution_count": 82,
>>>>>>> upstream/main:numpy_sources/numpy_jake_notebooks_s/.ipynb_checkpoints/ch_2_ufuncs-checkpoint.ipynb
     "metadata": {},
     "output_type": "execute_result"
    }
   ],
   "source": [
    "np.cumsum(x)"
   ]
  },
  {
   "cell_type": "code",
<<<<<<< HEAD:numpy_conceptwise/numpy_notes_p/Numpy_Computations.ipynb
   "execution_count": 41,
   "id": "b440b049",
=======
   "execution_count": 83,
>>>>>>> upstream/main:numpy_sources/numpy_jake_notebooks_s/.ipynb_checkpoints/ch_2_ufuncs-checkpoint.ipynb
   "metadata": {},
   "outputs": [
    {
     "data": {
      "text/plain": [
       "array([  1,   2,   6,  24, 120], dtype=int32)"
      ]
     },
     "execution_count": 83,
     "metadata": {},
     "output_type": "execute_result"
    }
   ],
   "source": [
    "np.cumprod(x)"
   ]
  },
  {
<<<<<<< HEAD:numpy_conceptwise/numpy_notes_p/Numpy_Computations.ipynb
   "cell_type": "code",
   "execution_count": 42,
   "id": "c5d5db69",
   "metadata": {},
   "outputs": [
    {
     "data": {
      "text/plain": [
       "(50,)"
      ]
     },
     "execution_count": 42,
     "metadata": {},
     "output_type": "execute_result"
    }
   ],
=======
   "cell_type": "markdown",
   "metadata": {},
>>>>>>> upstream/main:numpy_sources/numpy_jake_notebooks_s/.ipynb_checkpoints/ch_2_ufuncs-checkpoint.ipynb
   "source": [
    "### Multiplication Table"
   ]
  },
  {
   "cell_type": "code",
<<<<<<< HEAD:numpy_conceptwise/numpy_notes_p/Numpy_Computations.ipynb
   "execution_count": 43,
   "id": "b611f1ae",
   "metadata": {},
   "outputs": [
    {
     "data": {
      "text/plain": [
       "(50, 1)"
      ]
     },
     "execution_count": 43,
     "metadata": {},
     "output_type": "execute_result"
    }
   ],
   "source": [
    "y.shape"
   ]
  },
  {
   "cell_type": "markdown",
   "id": "68a211c8",
=======
   "execution_count": 86,
>>>>>>> upstream/main:numpy_sources/numpy_jake_notebooks_s/.ipynb_checkpoints/ch_2_ufuncs-checkpoint.ipynb
   "metadata": {},
   "outputs": [
    {
     "data": {
      "text/plain": [
       "array([[ 1,  2,  3,  4,  5],\n",
       "       [ 2,  4,  6,  8, 10],\n",
       "       [ 3,  6,  9, 12, 15],\n",
       "       [ 4,  8, 12, 16, 20],\n",
       "       [ 5, 10, 15, 20, 25]])"
      ]
     },
     "execution_count": 86,
     "metadata": {},
     "output_type": "execute_result"
    }
   ],
   "source": [
    "x = np.arange(1, 6)\n",
    "np.multiply.outer(x, x)"
   ]
  },
  {
   "cell_type": "code",
<<<<<<< HEAD:numpy_conceptwise/numpy_notes_p/Numpy_Computations.ipynb
   "execution_count": 44,
   "id": "5f51937b",
   "metadata": {},
   "outputs": [
    {
     "data": {
      "text/plain": [
       "array([1, 2, 3, 4, 5])"
      ]
     },
     "execution_count": 44,
     "metadata": {},
     "output_type": "execute_result"
    }
   ],
   "source": [
    "x = np.arange(1, 6)\n",
    "x"
   ]
  },
  {
   "cell_type": "code",
   "execution_count": 45,
   "id": "4485d75b",
   "metadata": {},
   "outputs": [
    {
     "data": {
      "text/plain": [
       "array([ True,  True, False, False, False])"
      ]
     },
     "execution_count": 45,
     "metadata": {},
     "output_type": "execute_result"
    }
   ],
   "source": [
    "x < 3"
   ]
  },
  {
   "cell_type": "code",
   "execution_count": 46,
   "id": "a58e2b05",
   "metadata": {},
   "outputs": [
    {
     "data": {
      "text/plain": [
       "array([False, False, False,  True,  True])"
      ]
     },
     "execution_count": 46,
     "metadata": {},
     "output_type": "execute_result"
    }
   ],
   "source": [
    "x > 3"
   ]
  },
  {
   "cell_type": "code",
   "execution_count": 47,
   "id": "6c3203b6",
   "metadata": {},
   "outputs": [
    {
     "data": {
      "text/plain": [
       "array([False, False, False,  True, False])"
      ]
     },
     "execution_count": 47,
     "metadata": {},
     "output_type": "execute_result"
    }
   ],
   "source": [
    "x == 4"
   ]
  },
  {
   "cell_type": "code",
   "execution_count": 48,
   "id": "a8a94727",
   "metadata": {},
   "outputs": [
    {
     "data": {
      "text/plain": [
       "array([False,  True, False, False, False])"
      ]
     },
     "execution_count": 48,
     "metadata": {},
     "output_type": "execute_result"
    }
   ],
   "source": [
    "2 * x == x + 2"
   ]
  },
  {
   "cell_type": "code",
   "execution_count": 49,
   "id": "f63dde88",
   "metadata": {},
   "outputs": [
    {
     "data": {
      "text/plain": [
       "array([[6, 2, 0, 4],\n",
       "       [7, 5, 2, 5],\n",
       "       [2, 0, 8, 3]])"
      ]
     },
     "execution_count": 49,
     "metadata": {},
     "output_type": "execute_result"
    }
   ],
   "source": [
    "x = np.random.randint(10, size=(3, 4))\n",
    "x"
   ]
  },
  {
   "cell_type": "code",
   "execution_count": 50,
   "id": "f82ae326",
   "metadata": {},
   "outputs": [
    {
     "data": {
      "text/plain": [
       "9"
      ]
     },
     "execution_count": 50,
     "metadata": {},
     "output_type": "execute_result"
    }
   ],
   "source": [
    "np.count_nonzero(x < 6)"
   ]
  },
  {
   "cell_type": "code",
   "execution_count": 51,
   "id": "fdf03d66",
   "metadata": {},
   "outputs": [
    {
     "data": {
      "text/plain": [
       "9"
      ]
     },
     "execution_count": 51,
     "metadata": {},
     "output_type": "execute_result"
    }
   ],
   "source": [
    "np.sum( x < 6)"
   ]
  },
  {
   "cell_type": "code",
   "execution_count": 52,
   "id": "7d8b3c12",
   "metadata": {},
   "outputs": [
    {
     "data": {
      "text/plain": [
       "array([3, 3, 3])"
      ]
     },
     "execution_count": 52,
     "metadata": {},
     "output_type": "execute_result"
    }
   ],
   "source": [
    "np.sum(x<6, axis=1)"
   ]
  },
  {
   "cell_type": "code",
   "execution_count": 53,
   "id": "2bde7b0b",
   "metadata": {},
   "outputs": [
    {
     "data": {
      "text/plain": [
       "False"
      ]
     },
     "execution_count": 53,
     "metadata": {},
     "output_type": "execute_result"
    }
   ],
   "source": [
    "np.any(x > 8) #atleast one > 8"
   ]
  },
  {
   "cell_type": "code",
   "execution_count": 54,
   "id": "113dbaa5",
   "metadata": {},
   "outputs": [
    {
     "data": {
      "text/plain": [
       "True"
      ]
     },
     "execution_count": 54,
     "metadata": {},
     "output_type": "execute_result"
    }
   ],
   "source": [
    "np.all(x < 10)  # all true?"
   ]
  },
  {
   "cell_type": "code",
   "execution_count": 55,
   "id": "5eeb8763",
   "metadata": {},
   "outputs": [
    {
     "data": {
      "text/plain": [
       "array([[False, False, False,  True],\n",
       "       [False, False, False, False],\n",
       "       [False, False, False, False]])"
      ]
     },
     "execution_count": 55,
     "metadata": {},
     "output_type": "execute_result"
    }
   ],
   "source": [
    "(x > 3) & (x < 5)"
   ]
  },
  {
   "cell_type": "markdown",
   "id": "1552ff83",
   "metadata": {},
   "source": [
    "### Using Boolean Masks on numpy arrays"
   ]
  },
  {
   "cell_type": "code",
   "execution_count": 56,
   "id": "2d551022",
   "metadata": {},
   "outputs": [
    {
     "data": {
      "text/plain": [
       "array([[6, 2, 0, 4],\n",
       "       [7, 5, 2, 5],\n",
       "       [2, 0, 8, 3]])"
      ]
     },
     "execution_count": 56,
     "metadata": {},
     "output_type": "execute_result"
    }
   ],
   "source": [
    "x"
   ]
  },
  {
   "cell_type": "code",
   "execution_count": 57,
   "id": "2e287fcd",
   "metadata": {},
   "outputs": [
    {
     "data": {
      "text/plain": [
       "array([[False,  True,  True,  True],\n",
       "       [False, False,  True, False],\n",
       "       [ True,  True, False,  True]])"
      ]
     },
     "execution_count": 57,
     "metadata": {},
     "output_type": "execute_result"
    }
   ],
   "source": [
    "x < 5"
   ]
  },
  {
   "cell_type": "code",
   "execution_count": 58,
   "id": "00ae9aef",
   "metadata": {},
   "outputs": [
    {
     "data": {
      "text/plain": [
       "array([2, 0, 4, 2, 2, 0, 3])"
      ]
     },
     "execution_count": 58,
     "metadata": {},
     "output_type": "execute_result"
    }
   ],
   "source": [
    "x[x < 5]"
   ]
  },
  {
   "cell_type": "markdown",
   "id": "aa338f69",
   "metadata": {},
   "source": [
    "### Indexing operations"
   ]
  },
  {
   "cell_type": "code",
   "execution_count": 59,
   "id": "d07e745b",
   "metadata": {},
   "outputs": [
    {
     "data": {
      "text/plain": [
       "array([51, 92, 14, 71, 60, 20, 82, 86, 74, 74])"
      ]
     },
     "execution_count": 59,
     "metadata": {},
     "output_type": "execute_result"
    }
   ],
   "source": [
    "rand = np.random.RandomState(42)\n",
    "x = rand.randint(100, size=10)\n",
    "x"
   ]
  },
  {
   "cell_type": "code",
   "execution_count": 60,
   "id": "54577dd6",
   "metadata": {},
   "outputs": [
    {
     "data": {
      "text/plain": [
       "[71, 60, 20]"
      ]
     },
     "execution_count": 60,
     "metadata": {},
     "output_type": "execute_result"
    }
   ],
   "source": [
    "[x[3], x[4], x[5]]"
   ]
  },
  {
   "cell_type": "code",
   "execution_count": 61,
   "id": "bc39dcb1",
   "metadata": {},
   "outputs": [
    {
     "data": {
      "text/plain": [
       "array([71, 60, 20])"
      ]
     },
     "execution_count": 61,
     "metadata": {},
     "output_type": "execute_result"
    }
   ],
   "source": [
    "x[[3, 4, 5]]"
   ]
  },
  {
   "cell_type": "code",
   "execution_count": 62,
   "id": "7e4fa63f",
   "metadata": {},
   "outputs": [
    {
     "data": {
      "text/plain": [
       "array([71, 60, 20])"
      ]
     },
     "execution_count": 62,
     "metadata": {},
     "output_type": "execute_result"
    }
   ],
   "source": [
    "ind = [3, 4, 5]\n",
    "x[ind]"
   ]
  },
  {
   "cell_type": "code",
   "execution_count": 63,
   "id": "2ec7fe52",
   "metadata": {},
   "outputs": [
    {
     "data": {
      "text/plain": [
       "array([[71, 86],\n",
       "       [60, 20]])"
      ]
     },
     "execution_count": 63,
     "metadata": {},
     "output_type": "execute_result"
    }
   ],
   "source": [
    "ind = np.array([[3, 7], [4, 5]])\n",
    "x[ind] # based on index array, output array is created"
   ]
  },
  {
   "cell_type": "code",
   "execution_count": 64,
   "id": "88293098",
   "metadata": {},
   "outputs": [],
   "source": [
    "x = np.arange(12).reshape(3, 4)"
   ]
  },
  {
   "cell_type": "code",
   "execution_count": 65,
   "id": "066b89ed",
   "metadata": {},
   "outputs": [
    {
     "data": {
      "text/plain": [
       "array([[ 0,  1,  2,  3],\n",
       "       [ 4,  5,  6,  7],\n",
       "       [ 8,  9, 10, 11]])"
      ]
     },
     "execution_count": 65,
     "metadata": {},
     "output_type": "execute_result"
    }
   ],
   "source": [
    "x"
   ]
  },
  {
   "cell_type": "code",
   "execution_count": 66,
   "id": "bef179e4",
   "metadata": {},
   "outputs": [
    {
     "data": {
      "text/plain": [
       "array([ 2,  5, 11])"
      ]
     },
     "execution_count": 66,
     "metadata": {},
     "output_type": "execute_result"
    }
   ],
   "source": [
    "row = np.array([0, 1, 2])\n",
    "col = np.array([2, 1, 3])\n",
    "x[row, col]"
   ]
  },
  {
   "cell_type": "code",
   "execution_count": 67,
   "id": "ab559f7b",
   "metadata": {},
   "outputs": [
    {
     "data": {
      "text/plain": [
       "array([10,  8,  9])"
      ]
     },
     "execution_count": 67,
     "metadata": {},
     "output_type": "execute_result"
    }
   ],
   "source": [
    "x[2, [2, 0, 1]]  # => (2,2) (2,0) & (2,1)"
   ]
  },
  {
   "cell_type": "code",
   "execution_count": 68,
   "id": "166ec5c7",
   "metadata": {},
   "outputs": [
    {
     "data": {
      "text/plain": [
       "array([[ 6,  4,  5],\n",
       "       [10,  8,  9]])"
      ]
     },
     "execution_count": 68,
     "metadata": {},
     "output_type": "execute_result"
    }
   ],
   "source": [
    "x[1:, [2, 0, 1]]"
   ]
  },
  {
   "cell_type": "markdown",
   "id": "e41d8489",
   "metadata": {},
   "source": [
    "### Selecting and plotting random points "
   ]
  },
  {
   "cell_type": "code",
   "execution_count": 69,
   "id": "d76554d2",
   "metadata": {},
   "outputs": [
    {
     "data": {
      "text/plain": [
       "(100, 2)"
      ]
     },
     "execution_count": 69,
     "metadata": {},
     "output_type": "execute_result"
    }
   ],
   "source": [
    "mean = [0, 0]\n",
    "cov = [[1, 2],\n",
    "       [2, 5]]\n",
    "X = rand.multivariate_normal(mean, cov, 100)\n",
    "X.shape"
   ]
  },
  {
   "cell_type": "code",
   "execution_count": 70,
   "id": "5a53e063",
   "metadata": {},
   "outputs": [
    {
     "data": {
      "image/png": "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\n",
      "text/plain": [
       "<Figure size 432x288 with 1 Axes>"
      ]
     },
     "metadata": {},
     "output_type": "display_data"
    }
   ],
   "source": [
    "plt.scatter(X[:, 0], X[:, 1]);"
   ]
  },
  {
   "cell_type": "code",
   "execution_count": 71,
   "id": "68e17a5d",
   "metadata": {},
   "outputs": [
    {
     "data": {
      "text/plain": [
       "array([46, 34, 15, 38, 85, 11, 97, 76, 62,  4, 50, 51, 52, 12, 89, 81, 26,\n",
       "       25, 84, 64])"
      ]
     },
     "execution_count": 71,
     "metadata": {},
     "output_type": "execute_result"
    }
   ],
   "source": [
    "indices = np.random.choice(X.shape[0], 20, replace=False)\n",
    "indices"
   ]
  },
  {
   "cell_type": "code",
   "execution_count": 72,
   "id": "5054b802",
   "metadata": {},
   "outputs": [
    {
     "data": {
      "text/plain": [
       "(20, 2)"
      ]
     },
     "execution_count": 72,
     "metadata": {},
     "output_type": "execute_result"
    }
   ],
   "source": [
    "selection = X[indices]  # fancy indexing here\n",
    "selection.shape"
   ]
  },
  {
   "cell_type": "code",
   "execution_count": 73,
   "id": "862d362e",
   "metadata": {},
   "outputs": [
    {
     "data": {
      "image/png": "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\n",
      "text/plain": [
       "<Figure size 432x288 with 1 Axes>"
      ]
     },
     "metadata": {},
     "output_type": "display_data"
    }
   ],
   "source": [
    "plt.scatter(X[:, 0], X[:, 1], alpha=0.3)\n",
    "plt.scatter(selection[:, 0], selection[:, 1], facecolor='lightgreen', s=200);"
   ]
  },
  {
   "cell_type": "code",
   "execution_count": 74,
   "id": "a34dd66c",
   "metadata": {},
   "outputs": [
    {
     "data": {
      "text/plain": [
       "array([[-0.644508  , -0.46220608],\n",
       "       [ 0.7376352 ,  1.21236921],\n",
       "       [ 0.88151763,  1.12795177],\n",
       "       [ 2.04998983,  5.97778598],\n",
       "       [-0.1711348 , -2.06258746]])"
      ]
     },
     "execution_count": 74,
     "metadata": {},
     "output_type": "execute_result"
    }
   ],
   "source": [
    "X[0:5]"
   ]
  },
  {
   "cell_type": "code",
   "execution_count": 75,
   "id": "54364e0d",
   "metadata": {},
   "outputs": [
    {
     "data": {
      "image/png": "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\n",
      "text/plain": [
       "<Figure size 432x288 with 1 Axes>"
      ]
     },
     "metadata": {},
     "output_type": "display_data"
    }
   ],
   "source": [
    "from IPython.display import clear_output\n",
    "X = rand.multivariate_normal(mean, cov, 100)\n",
    "def run():\n",
    "    indices = np.random.choice(X.shape[0], 20, replace=False)\n",
    "    selection = X[indices]\n",
    "    plt.scatter(X[:, 0], X[:, 1], alpha=0.3)\n",
    "    plt.scatter(selection[:, 0], selection[:, 1], facecolor='lightgreen', s=200);\n",
    "    plt.show()\n",
    "    clear_output(wait=True)\n",
    "\n",
    "x = 2\n",
    "import time\n",
    "while x < 60:\n",
    "    run()\n",
    "    x = x + 1\n",
    "    time.sleep(0.05)"
   ]
  },
  {
   "cell_type": "markdown",
   "id": "5ccb2a86",
   "metadata": {},
   "source": [
    "### Sorting"
   ]
  },
  {
   "cell_type": "code",
   "execution_count": 76,
   "id": "be91ef30",
   "metadata": {},
   "outputs": [
    {
     "data": {
      "text/plain": [
       "array([1, 2, 3, 4, 5])"
      ]
     },
     "execution_count": 76,
     "metadata": {},
     "output_type": "execute_result"
    }
   ],
   "source": [
    "x = np.array([2, 1, 4, 3, 5])\n",
    "np.sort(x)"
   ]
  },
  {
   "cell_type": "code",
   "execution_count": 77,
   "id": "8a2346d1",
   "metadata": {},
   "outputs": [
    {
     "data": {
      "text/plain": [
       "array([1, 2, 3, 4, 5])"
      ]
     },
     "execution_count": 77,
     "metadata": {},
     "output_type": "execute_result"
    }
   ],
   "source": [
    "x.sort()\n",
    "x"
   ]
  },
  {
   "cell_type": "code",
   "execution_count": 78,
   "id": "2f3d1157",
   "metadata": {},
   "outputs": [
    {
     "data": {
      "text/plain": [
       "array([1, 0, 3, 2, 4])"
      ]
     },
     "execution_count": 78,
     "metadata": {},
     "output_type": "execute_result"
    }
   ],
   "source": [
    "x = np.array([2, 1, 4, 3, 5])\n",
    "i = np.argsort(x)   # gives index positions\n",
    "i   "
   ]
  },
  {
   "cell_type": "code",
   "execution_count": 79,
   "id": "449c1621",
   "metadata": {},
   "outputs": [
    {
     "data": {
      "text/plain": [
       "array([1, 2, 3, 4, 5])"
      ]
     },
     "execution_count": 79,
     "metadata": {},
     "output_type": "execute_result"
    }
   ],
   "source": [
    "x[i]"
   ]
  },
  {
   "cell_type": "code",
   "execution_count": 80,
   "id": "7df78886",
   "metadata": {},
   "outputs": [
    {
     "data": {
      "text/plain": [
       "array([[6, 3, 7, 4, 6, 9],\n",
       "       [2, 6, 7, 4, 3, 7],\n",
       "       [7, 2, 5, 4, 1, 7],\n",
       "       [5, 1, 4, 0, 9, 5]])"
      ]
     },
     "execution_count": 80,
     "metadata": {},
     "output_type": "execute_result"
    }
   ],
   "source": [
    "rand = np.random.RandomState(42)\n",
    "X = rand.randint(0, 10, (4, 6))\n",
    "X"
   ]
  },
  {
   "cell_type": "code",
   "execution_count": 81,
   "id": "73ddc052",
   "metadata": {},
   "outputs": [
    {
     "data": {
      "text/plain": [
       "array([[3, 4, 6, 6, 7, 9],\n",
       "       [2, 3, 4, 6, 7, 7],\n",
       "       [1, 2, 4, 5, 7, 7],\n",
       "       [0, 1, 4, 5, 5, 9]])"
      ]
     },
     "execution_count": 81,
     "metadata": {},
     "output_type": "execute_result"
    }
   ],
   "source": [
    "np.sort(X, axis=1)   # row sort"
   ]
  },
  {
   "cell_type": "code",
   "execution_count": 82,
   "id": "f87efdda",
   "metadata": {},
   "outputs": [
    {
     "data": {
      "text/plain": [
       "array([[2, 1, 4, 0, 1, 5],\n",
       "       [5, 2, 5, 4, 3, 7],\n",
       "       [6, 3, 7, 4, 6, 7],\n",
       "       [7, 6, 7, 4, 9, 9]])"
      ]
     },
     "execution_count": 82,
     "metadata": {},
     "output_type": "execute_result"
    }
   ],
   "source": [
    "np.sort(X, axis=0)   # columns sort"
   ]
  },
  {
   "cell_type": "markdown",
   "id": "2f772fe5",
   "metadata": {},
   "source": [
    "### numpy partitioning"
   ]
  },
  {
   "cell_type": "code",
   "execution_count": 83,
   "id": "f87663ab",
   "metadata": {},
   "outputs": [
    {
     "data": {
      "text/plain": [
       "array([2, 1, 3, 4, 6, 5, 7])"
      ]
     },
     "execution_count": 83,
     "metadata": {},
     "output_type": "execute_result"
    }
   ],
   "source": [
    "x = np.array([7, 2, 3, 1, 6, 5, 4])\n",
    "np.partition(x, 3)    "
   ]
  },
  {
   "cell_type": "code",
   "execution_count": 84,
   "id": "bb1426fa",
   "metadata": {},
   "outputs": [
    {
     "data": {
      "text/plain": [
       "array([[ 1,  0,  2,  3,  4,  5],\n",
       "       [ 6,  7,  8,  9, 10, 11],\n",
       "       [12, 13, 14, 15, 16, 17],\n",
       "       [18, 19, 20, 21, 22, 23],\n",
       "       [24, 25, 26, 27, 28, 29]])"
      ]
     },
     "execution_count": 84,
     "metadata": {},
     "output_type": "execute_result"
    }
   ],
   "source": [
    "y = np.arange(30)\n",
    "np.partition(y, 5).reshape(5, 6)"
   ]
  },
  {
   "cell_type": "code",
   "execution_count": 85,
   "id": "19bc4aa7",
   "metadata": {},
   "outputs": [
    {
     "data": {
      "text/plain": [
       "array([[6, 3, 7, 4, 6, 9],\n",
       "       [2, 6, 7, 4, 3, 7],\n",
       "       [7, 2, 5, 4, 1, 7],\n",
       "       [5, 1, 4, 0, 9, 5]])"
      ]
     },
     "execution_count": 85,
     "metadata": {},
     "output_type": "execute_result"
    }
   ],
   "source": [
    "X"
   ]
  },
  {
   "cell_type": "code",
   "execution_count": 86,
   "id": "dcaee189",
   "metadata": {},
   "outputs": [
    {
     "data": {
      "text/plain": [
       "array([[3, 4, 6, 7, 6, 9],\n",
       "       [2, 3, 4, 7, 6, 7],\n",
       "       [1, 2, 4, 5, 7, 7],\n",
       "       [0, 1, 4, 5, 9, 5]])"
      ]
     },
     "execution_count": 86,
     "metadata": {},
     "output_type": "execute_result"
    }
   ],
   "source": [
    "np.partition(X, 2, axis=1)"
   ]
  },
  {
   "cell_type": "code",
   "execution_count": 87,
   "id": "cdc68b94",
   "metadata": {},
   "outputs": [],
   "source": [
    "### K-nearest neighbours using numpy"
   ]
  },
  {
   "cell_type": "code",
   "execution_count": 88,
   "id": "f542f410",
   "metadata": {},
   "outputs": [
    {
     "data": {
      "image/png": "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\n",
      "text/plain": [
       "<Figure size 432x288 with 1 Axes>"
      ]
     },
     "metadata": {},
     "output_type": "display_data"
    }
   ],
   "source": [
    "rand = np.random.RandomState(42)\n",
    "X = rand.rand(10, 2)\n",
    "temp = plt.scatter(X[:, 0], X[:, 1], s = 100)"
   ]
  },
  {
   "cell_type": "code",
   "execution_count": 89,
   "id": "b4943771",
   "metadata": {},
   "outputs": [
    {
     "data": {
      "text/plain": [
       "array([[0.37454012, 0.95071431],\n",
       "       [0.73199394, 0.59865848],\n",
       "       [0.15601864, 0.15599452],\n",
       "       [0.05808361, 0.86617615],\n",
       "       [0.60111501, 0.70807258],\n",
       "       [0.02058449, 0.96990985],\n",
       "       [0.83244264, 0.21233911],\n",
       "       [0.18182497, 0.18340451],\n",
       "       [0.30424224, 0.52475643],\n",
       "       [0.43194502, 0.29122914]])"
      ]
     },
     "execution_count": 89,
     "metadata": {},
     "output_type": "execute_result"
    }
   ],
   "source": [
    "X"
   ]
  },
  {
   "cell_type": "code",
   "execution_count": 90,
   "id": "1786b73a",
   "metadata": {},
   "outputs": [
    {
     "data": {
      "text/plain": [
       "array([[[0.37454012, 0.95071431]],\n",
       "\n",
       "       [[0.73199394, 0.59865848]],\n",
       "\n",
       "       [[0.15601864, 0.15599452]],\n",
       "\n",
       "       [[0.05808361, 0.86617615]],\n",
       "\n",
       "       [[0.60111501, 0.70807258]],\n",
       "\n",
       "       [[0.02058449, 0.96990985]],\n",
       "\n",
       "       [[0.83244264, 0.21233911]],\n",
       "\n",
       "       [[0.18182497, 0.18340451]],\n",
       "\n",
       "       [[0.30424224, 0.52475643]],\n",
       "\n",
       "       [[0.43194502, 0.29122914]]])"
      ]
     },
     "execution_count": 90,
     "metadata": {},
     "output_type": "execute_result"
    }
   ],
   "source": [
    "X[:,np.newaxis,:]"
   ]
  },
  {
   "cell_type": "code",
   "execution_count": 91,
   "id": "a84fd1ed",
   "metadata": {},
   "outputs": [
    {
     "data": {
      "text/plain": [
       "(1, 10, 2)"
      ]
     },
     "execution_count": 91,
     "metadata": {},
     "output_type": "execute_result"
    }
   ],
   "source": [
    "X[np.newaxis,:,:].shape"
   ]
  },
  {
   "cell_type": "code",
   "execution_count": 92,
   "id": "fb657117",
   "metadata": {},
   "outputs": [
    {
     "data": {
      "text/plain": [
       "(10, 10, 2)"
      ]
     },
     "execution_count": 92,
     "metadata": {},
     "output_type": "execute_result"
    }
   ],
   "source": [
    "(X[:,np.newaxis,:] - X[np.newaxis,:,:]).shape"
   ]
  },
  {
   "cell_type": "code",
   "execution_count": null,
   "id": "7e44bc4a",
   "metadata": {},
   "outputs": [],
   "source": []
  },
  {
   "cell_type": "markdown",
   "id": "366f3910",
   "metadata": {},
   "source": [
    "### Using structured data with numpy arrays"
   ]
  },
  {
   "cell_type": "code",
   "execution_count": 93,
   "id": "5b501898",
   "metadata": {},
   "outputs": [],
   "source": [
    "name = ['Alice', 'Bob', 'Cathy', 'Doug']\n",
    "age = [25, 45, 37, 19]\n",
    "weight = [55.0, 85.5, 68.0, 61.5]"
   ]
  },
  {
   "cell_type": "code",
   "execution_count": 94,
   "id": "dfac6999",
   "metadata": {},
   "outputs": [],
   "source": [
    "x_dtype={'names':('name', 'age', 'weight'),\n",
    "        'formats':('U10', 'i4', 'f8')}"
   ]
  },
  {
   "cell_type": "code",
   "execution_count": 95,
   "id": "cc878534",
   "metadata": {},
   "outputs": [
    {
     "data": {
      "text/plain": [
       "dtype([('name', '<U10'), ('age', '<i4'), ('weight', '<f8')])"
      ]
     },
     "execution_count": 95,
     "metadata": {},
     "output_type": "execute_result"
    }
   ],
   "source": [
    "x = np.zeros(4, dtype=x_dtype)   # the type itself is tuple with 3 types\n",
    "x.dtype"
   ]
  },
  {
   "cell_type": "code",
   "execution_count": 96,
   "id": "a1b0148e",
   "metadata": {},
   "outputs": [],
   "source": [
    "x['name'] = name\n",
    "x['age'] = age\n",
    "x['weight'] = weight"
   ]
  },
  {
   "cell_type": "code",
   "execution_count": 97,
   "id": "6a43c0fc",
   "metadata": {},
   "outputs": [
    {
     "data": {
      "text/plain": [
       "('Alice', 25, 55.)"
      ]
     },
     "execution_count": 97,
     "metadata": {},
     "output_type": "execute_result"
    }
   ],
   "source": [
    "x[0]"
   ]
  },
  {
   "cell_type": "code",
   "execution_count": 98,
   "id": "558cb13b",
   "metadata": {},
   "outputs": [
    {
     "data": {
      "text/plain": [
       "('Cathy', 37, 68.)"
      ]
     },
     "execution_count": 98,
     "metadata": {},
     "output_type": "execute_result"
    }
   ],
   "source": [
    "x[2]   # each value is a structured information, still all elements in array of same type"
   ]
  },
  {
   "cell_type": "code",
   "execution_count": 99,
   "id": "8a5479e6",
   "metadata": {},
   "outputs": [
    {
     "data": {
      "text/plain": [
       "array(['Alice', 'Bob', 'Cathy', 'Doug'], dtype='<U10')"
      ]
     },
     "execution_count": 99,
     "metadata": {},
     "output_type": "execute_result"
    }
   ],
   "source": [
    "x['name']   # arrray with dtype of 'name'"
   ]
  },
  {
   "cell_type": "code",
   "execution_count": 100,
   "id": "e3969f46",
   "metadata": {},
   "outputs": [
    {
     "data": {
      "text/plain": [
       "61.5"
      ]
     },
     "execution_count": 100,
     "metadata": {},
     "output_type": "execute_result"
    }
   ],
   "source": [
    "x[-1]['weight']"
   ]
  },
  {
   "cell_type": "code",
   "execution_count": 101,
   "id": "bb9286b2",
   "metadata": {},
   "outputs": [
    {
     "data": {
      "text/plain": [
       "(4,)"
      ]
     },
     "execution_count": 101,
     "metadata": {},
     "output_type": "execute_result"
    }
   ],
   "source": [
    "x.shape    # 4 sets of information, (example: detailed info about 4 people)"
   ]
  },
  {
   "cell_type": "code",
   "execution_count": 102,
   "id": "c6c495f8",
   "metadata": {},
   "outputs": [
    {
     "data": {
      "text/plain": [
       "array(['Alice', 'Doug'], dtype='<U10')"
      ]
     },
     "execution_count": 102,
     "metadata": {},
     "output_type": "execute_result"
    }
   ],
   "source": [
    "x[x['age'] < 30]['name']   # who all are below '30' ( boolean masking )"
   ]
  },
  {
   "cell_type": "code",
   "execution_count": 103,
   "id": "1946a121",
   "metadata": {},
   "outputs": [
    {
     "data": {
      "text/plain": [
       "dtype([('id', '<i8'), ('mat', '<f8', (3, 3))])"
      ]
     },
     "execution_count": 103,
     "metadata": {},
     "output_type": "execute_result"
    }
   ],
   "source": [
    "tp = np.dtype([('id', 'i8'), ('mat', 'f8', (3, 3))])\n",
    "tp   # creating type with (id and a matrix combo)"
   ]
  },
  {
   "cell_type": "code",
   "execution_count": 104,
   "id": "320447b8",
   "metadata": {},
   "outputs": [
    {
     "data": {
      "text/plain": [
       "array([(0, [[0., 0., 0.], [0., 0., 0.], [0., 0., 0.]]),\n",
       "       (0, [[0., 0., 0.], [0., 0., 0.], [0., 0., 0.]])],\n",
       "      dtype=[('id', '<i8'), ('mat', '<f8', (3, 3))])"
      ]
     },
     "execution_count": 104,
     "metadata": {},
     "output_type": "execute_result"
    }
   ],
   "source": [
    "X = np.zeros(2, dtype=tp)\n",
    "X"
   ]
  },
  {
   "cell_type": "code",
   "execution_count": 105,
   "id": "f95981cb",
   "metadata": {},
   "outputs": [
    {
     "data": {
      "text/plain": [
       "(2,)"
      ]
     },
     "execution_count": 105,
     "metadata": {},
     "output_type": "execute_result"
    }
   ],
   "source": [
    "X.shape"
   ]
  },
  {
   "cell_type": "code",
   "execution_count": 106,
   "id": "0f6311fd",
   "metadata": {},
   "outputs": [
    {
     "data": {
      "text/plain": [
       "dtype([('id', '<i8'), ('mat', '<f8', (3, 3))])"
      ]
     },
     "execution_count": 106,
     "metadata": {},
     "output_type": "execute_result"
    }
   ],
   "source": [
    "X.dtype"
   ]
  },
  {
   "cell_type": "code",
   "execution_count": 107,
   "id": "61f44277",
   "metadata": {},
   "outputs": [],
   "source": [
    "id1 = 0\n",
    "m1 = np.arange(9).reshape(3,3)\n",
    "X[0] = id1, m1"
   ]
  },
  {
   "cell_type": "code",
   "execution_count": 108,
   "id": "c3e68be1",
   "metadata": {},
   "outputs": [
    {
     "data": {
      "text/plain": [
       "array([(0, [[0., 1., 2.], [3., 4., 5.], [6., 7., 8.]]),\n",
       "       (0, [[0., 0., 0.], [0., 0., 0.], [0., 0., 0.]])],\n",
       "      dtype=[('id', '<i8'), ('mat', '<f8', (3, 3))])"
      ]
     },
     "execution_count": 108,
     "metadata": {},
     "output_type": "execute_result"
    }
   ],
   "source": [
    "X"
   ]
  },
  {
   "cell_type": "code",
   "execution_count": 109,
   "id": "067c6ce9",
   "metadata": {},
   "outputs": [],
   "source": [
    "id2 = 1\n",
    "m2 = np.arange(10, 19).reshape(3,3)\n",
    "X[1] = id2, m2"
   ]
  },
  {
   "cell_type": "code",
   "execution_count": 110,
   "id": "3ee3fbe3",
   "metadata": {},
   "outputs": [
    {
     "data": {
      "text/plain": [
       "array([(0, [[ 0.,  1.,  2.], [ 3.,  4.,  5.], [ 6.,  7.,  8.]]),\n",
       "       (1, [[10., 11., 12.], [13., 14., 15.], [16., 17., 18.]])],\n",
       "      dtype=[('id', '<i8'), ('mat', '<f8', (3, 3))])"
      ]
     },
     "execution_count": 110,
     "metadata": {},
     "output_type": "execute_result"
    }
   ],
   "source": [
    "X   # each element is (id, 3*3 matrix)"
   ]
  },
  {
   "cell_type": "code",
   "execution_count": null,
   "id": "e7357e2a",
=======
   "execution_count": null,
>>>>>>> upstream/main:numpy_sources/numpy_jake_notebooks_s/.ipynb_checkpoints/ch_2_ufuncs-checkpoint.ipynb
   "metadata": {},
   "outputs": [],
   "source": []
  }
 ],
 "metadata": {
  "kernelspec": {
   "display_name": "Python 3",
   "language": "python",
   "name": "python3"
  },
  "language_info": {
   "codemirror_mode": {
    "name": "ipython",
    "version": 3
   },
   "file_extension": ".py",
   "mimetype": "text/x-python",
   "name": "python",
   "nbconvert_exporter": "python",
   "pygments_lexer": "ipython3",
   "version": "3.8.3"
  }
 },
 "nbformat": 4,
 "nbformat_minor": 4
}
