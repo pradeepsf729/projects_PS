{
 "cells": [
  {
   "cell_type": "code",
   "execution_count": 1,
   "id": "96bf8c7b",
   "metadata": {},
   "outputs": [],
   "source": [
    "import torch\n",
    "import numpy as np\n",
    "import pandas as pd\n",
    "import os\n",
    "from IPython import display\n",
    "from d2l import torch as d2l\n"
   ]
  },
  {
   "cell_type": "markdown",
   "id": "ff08be10",
   "metadata": {},
   "source": [
    "## Tensor Operations"
   ]
  },
  {
   "cell_type": "code",
   "execution_count": 2,
   "id": "4bf9b32e",
   "metadata": {},
   "outputs": [],
   "source": [
    "x = torch.arange(12)\n"
   ]
  },
  {
   "cell_type": "code",
   "execution_count": 3,
   "id": "bd4fc52a",
   "metadata": {},
   "outputs": [
    {
     "data": {
      "text/plain": [
       "tensor([ 0,  1,  2,  3,  4,  5,  6,  7,  8,  9, 10, 11])"
      ]
     },
     "execution_count": 3,
     "metadata": {},
     "output_type": "execute_result"
    }
   ],
   "source": [
    "x\n"
   ]
  },
  {
   "cell_type": "code",
   "execution_count": 4,
   "id": "f8e8c789",
   "metadata": {},
   "outputs": [
    {
     "data": {
      "text/plain": [
       "torch.Size([12])"
      ]
     },
     "execution_count": 4,
     "metadata": {},
     "output_type": "execute_result"
    }
   ],
   "source": [
    "x.shape\n"
   ]
  },
  {
   "cell_type": "code",
   "execution_count": 5,
   "id": "58c7d435",
   "metadata": {},
   "outputs": [
    {
     "data": {
      "text/plain": [
       "12"
      ]
     },
     "execution_count": 5,
     "metadata": {},
     "output_type": "execute_result"
    }
   ],
   "source": [
    "x.numel()\n"
   ]
  },
  {
   "cell_type": "code",
   "execution_count": 6,
   "id": "d98d03b3",
   "metadata": {},
   "outputs": [
    {
     "data": {
      "text/plain": [
       "tensor([[ 0,  1,  2,  3],\n",
       "        [ 4,  5,  6,  7],\n",
       "        [ 8,  9, 10, 11]])"
      ]
     },
     "execution_count": 6,
     "metadata": {},
     "output_type": "execute_result"
    }
   ],
   "source": [
    "X = x.reshape(3, 4)\n",
    "X\n"
   ]
  },
  {
   "cell_type": "code",
   "execution_count": 7,
   "id": "c41f134b",
   "metadata": {},
   "outputs": [
    {
     "data": {
      "text/plain": [
       "torch.Size([3, 4])"
      ]
     },
     "execution_count": 7,
     "metadata": {},
     "output_type": "execute_result"
    }
   ],
   "source": [
    "X.shape"
   ]
  },
  {
   "cell_type": "code",
   "execution_count": 8,
   "id": "b0f476e0",
   "metadata": {},
   "outputs": [],
   "source": [
    "X = x.reshape(3, -1)"
   ]
  },
  {
   "cell_type": "code",
   "execution_count": 9,
   "id": "c2d3d9a5",
   "metadata": {},
   "outputs": [
    {
     "data": {
      "text/plain": [
       "torch.Size([3, 4])"
      ]
     },
     "execution_count": 9,
     "metadata": {},
     "output_type": "execute_result"
    }
   ],
   "source": [
    "X.shape"
   ]
  },
  {
   "cell_type": "code",
   "execution_count": 10,
   "id": "2fc00194",
   "metadata": {},
   "outputs": [
    {
     "data": {
      "text/plain": [
       "tensor([[ 0,  1,  2,  3],\n",
       "        [ 4,  5,  6,  7],\n",
       "        [ 8,  9, 10, 11]])"
      ]
     },
     "execution_count": 10,
     "metadata": {},
     "output_type": "execute_result"
    }
   ],
   "source": [
    "X"
   ]
  },
  {
   "cell_type": "code",
   "execution_count": 11,
   "id": "d532fb1d",
   "metadata": {},
   "outputs": [
    {
     "data": {
      "text/plain": [
       "tensor([[[0., 0., 0., 0.],\n",
       "         [0., 0., 0., 0.],\n",
       "         [0., 0., 0., 0.]],\n",
       "\n",
       "        [[0., 0., 0., 0.],\n",
       "         [0., 0., 0., 0.],\n",
       "         [0., 0., 0., 0.]]])"
      ]
     },
     "execution_count": 11,
     "metadata": {},
     "output_type": "execute_result"
    }
   ],
   "source": [
    "torch.zeros((2, 3, 4))"
   ]
  },
  {
   "cell_type": "code",
   "execution_count": 12,
   "id": "cd7a9023",
   "metadata": {},
   "outputs": [
    {
     "data": {
      "text/plain": [
       "tensor([[[1., 1., 1., 1.],\n",
       "         [1., 1., 1., 1.],\n",
       "         [1., 1., 1., 1.]],\n",
       "\n",
       "        [[1., 1., 1., 1.],\n",
       "         [1., 1., 1., 1.],\n",
       "         [1., 1., 1., 1.]]])"
      ]
     },
     "execution_count": 12,
     "metadata": {},
     "output_type": "execute_result"
    }
   ],
   "source": [
    "torch.ones((2, 3, 4))"
   ]
  },
  {
   "cell_type": "code",
   "execution_count": 13,
   "id": "fb3085ea",
   "metadata": {},
   "outputs": [
    {
     "data": {
      "text/plain": [
       "tensor([[ 1.0933,  1.1885,  0.3799,  0.6407],\n",
       "        [ 0.6297, -1.2869, -0.8349,  1.0041],\n",
       "        [-0.6460,  0.4400,  1.3824, -1.9305]])"
      ]
     },
     "execution_count": 13,
     "metadata": {},
     "output_type": "execute_result"
    }
   ],
   "source": [
    "torch.randn(3, 4)"
   ]
  },
  {
   "cell_type": "code",
   "execution_count": 14,
   "id": "8f10478e",
   "metadata": {},
   "outputs": [
    {
     "data": {
      "text/plain": [
       "tensor([[1, 2, 3],\n",
       "        [4, 5, 6],\n",
       "        [7, 8, 9]])"
      ]
     },
     "execution_count": 14,
     "metadata": {},
     "output_type": "execute_result"
    }
   ],
   "source": [
    "torch.tensor([[1, 2, 3], [4, 5, 6], [7, 8, 9]])"
   ]
  },
  {
   "cell_type": "code",
   "execution_count": 15,
   "id": "2f9bdd7b",
   "metadata": {},
   "outputs": [
    {
     "data": {
      "text/plain": [
       "tensor([0, 2, 4, 6, 8])"
      ]
     },
     "execution_count": 15,
     "metadata": {},
     "output_type": "execute_result"
    }
   ],
   "source": [
    "torch.arange(5) + torch.arange(5)"
   ]
  },
  {
   "cell_type": "code",
   "execution_count": 16,
   "id": "0396319b",
   "metadata": {},
   "outputs": [
    {
     "data": {
      "text/plain": [
       "tensor([1.0000e+00, 2.7183e+00, 7.3891e+00, 2.0086e+01, 5.4598e+01, 1.4841e+02,\n",
       "        4.0343e+02, 1.0966e+03, 2.9810e+03, 8.1031e+03, 2.2026e+04, 5.9874e+04])"
      ]
     },
     "execution_count": 16,
     "metadata": {},
     "output_type": "execute_result"
    }
   ],
   "source": [
    "torch.exp(x)"
   ]
  },
  {
   "cell_type": "code",
   "execution_count": 17,
   "id": "e93fb714",
   "metadata": {},
   "outputs": [],
   "source": [
    "X = torch.arange(12, dtype=torch.float32).reshape((3, 4))\n",
    "Y = torch.tensor([[2.0, 1, 4, 3], [1, 2, 3, 4], [4, 3, 2, 1]])"
   ]
  },
  {
   "cell_type": "code",
   "execution_count": 18,
   "id": "d53d3f4b",
   "metadata": {},
   "outputs": [
    {
     "data": {
      "text/plain": [
       "tensor([[ 0.,  1.,  2.,  3.],\n",
       "        [ 4.,  5.,  6.,  7.],\n",
       "        [ 8.,  9., 10., 11.],\n",
       "        [ 2.,  1.,  4.,  3.],\n",
       "        [ 1.,  2.,  3.,  4.],\n",
       "        [ 4.,  3.,  2.,  1.]])"
      ]
     },
     "execution_count": 18,
     "metadata": {},
     "output_type": "execute_result"
    }
   ],
   "source": [
    "torch.cat((X, Y), dim=0)"
   ]
  },
  {
   "cell_type": "code",
   "execution_count": 19,
   "id": "ed40debb",
   "metadata": {},
   "outputs": [
    {
     "data": {
      "text/plain": [
       "tensor([[ 0.,  1.,  2.,  3.,  2.,  1.,  4.,  3.],\n",
       "        [ 4.,  5.,  6.,  7.,  1.,  2.,  3.,  4.],\n",
       "        [ 8.,  9., 10., 11.,  4.,  3.,  2.,  1.]])"
      ]
     },
     "execution_count": 19,
     "metadata": {},
     "output_type": "execute_result"
    }
   ],
   "source": [
    "torch.cat((X, Y), dim = 1)"
   ]
  },
  {
   "cell_type": "code",
   "execution_count": 20,
   "id": "42a9bc45",
   "metadata": {},
   "outputs": [
    {
     "data": {
      "text/plain": [
       "tensor([[False,  True, False,  True],\n",
       "        [False, False, False, False],\n",
       "        [False, False, False, False]])"
      ]
     },
     "execution_count": 20,
     "metadata": {},
     "output_type": "execute_result"
    }
   ],
   "source": [
    "X == Y"
   ]
  },
  {
   "cell_type": "code",
   "execution_count": 21,
   "id": "6ae25990",
   "metadata": {},
   "outputs": [
    {
     "data": {
      "text/plain": [
       "tensor([[False, False, False, False],\n",
       "        [ True,  True,  True,  True],\n",
       "        [ True,  True,  True,  True]])"
      ]
     },
     "execution_count": 21,
     "metadata": {},
     "output_type": "execute_result"
    }
   ],
   "source": [
    "X > Y"
   ]
  },
  {
   "cell_type": "code",
   "execution_count": 22,
   "id": "eb0898be",
   "metadata": {},
   "outputs": [
    {
     "data": {
      "text/plain": [
       "tensor([[ True, False,  True, False],\n",
       "        [False, False, False, False],\n",
       "        [False, False, False, False]])"
      ]
     },
     "execution_count": 22,
     "metadata": {},
     "output_type": "execute_result"
    }
   ],
   "source": [
    "X < Y"
   ]
  },
  {
   "cell_type": "code",
   "execution_count": 23,
   "id": "f24fa6ce",
   "metadata": {},
   "outputs": [
    {
     "data": {
      "text/plain": [
       "tensor(66.)"
      ]
     },
     "execution_count": 23,
     "metadata": {},
     "output_type": "execute_result"
    }
   ],
   "source": [
    "X.sum()"
   ]
  },
  {
   "cell_type": "code",
   "execution_count": 24,
   "id": "001e6d28",
   "metadata": {},
   "outputs": [],
   "source": [
    "a = torch.arange(3).reshape((3, 1))\n",
    "b = torch.arange(2).reshape((1, 2))"
   ]
  },
  {
   "cell_type": "code",
   "execution_count": 25,
   "id": "a40394bb",
   "metadata": {},
   "outputs": [
    {
     "data": {
      "text/plain": [
       "(tensor([[0],\n",
       "         [1],\n",
       "         [2]]),\n",
       " tensor([[0, 1]]))"
      ]
     },
     "execution_count": 25,
     "metadata": {},
     "output_type": "execute_result"
    }
   ],
   "source": [
    "a, b"
   ]
  },
  {
   "cell_type": "code",
   "execution_count": 26,
   "id": "acec23de",
   "metadata": {
    "scrolled": true
   },
   "outputs": [
    {
     "data": {
      "text/plain": [
       "torch.Size([3, 2])"
      ]
     },
     "execution_count": 26,
     "metadata": {},
     "output_type": "execute_result"
    }
   ],
   "source": [
    "(a + b).shape"
   ]
  },
  {
   "cell_type": "code",
   "execution_count": 27,
   "id": "a743ec1b",
   "metadata": {},
   "outputs": [
    {
     "data": {
      "text/plain": [
       "tensor([[ 0.,  1.,  2.,  3.],\n",
       "        [ 4.,  5.,  6.,  7.],\n",
       "        [ 8.,  9., 10., 11.]])"
      ]
     },
     "execution_count": 27,
     "metadata": {},
     "output_type": "execute_result"
    }
   ],
   "source": [
    "X"
   ]
  },
  {
   "cell_type": "code",
   "execution_count": 28,
   "id": "dd611372",
   "metadata": {},
   "outputs": [
    {
     "data": {
      "text/plain": [
       "tensor([ 8.,  9., 10., 11.])"
      ]
     },
     "execution_count": 28,
     "metadata": {},
     "output_type": "execute_result"
    }
   ],
   "source": [
    "X[-1]"
   ]
  },
  {
   "cell_type": "code",
   "execution_count": 29,
   "id": "2310b953",
   "metadata": {},
   "outputs": [
    {
     "data": {
      "text/plain": [
       "tensor(11.)"
      ]
     },
     "execution_count": 29,
     "metadata": {},
     "output_type": "execute_result"
    }
   ],
   "source": [
    "X[-1][3]"
   ]
  },
  {
   "cell_type": "code",
   "execution_count": 30,
   "id": "47f9ff6b",
   "metadata": {},
   "outputs": [
    {
     "data": {
      "text/plain": [
       "tensor([[ 4.,  5.,  6.,  7.],\n",
       "        [ 8.,  9., 10., 11.]])"
      ]
     },
     "execution_count": 30,
     "metadata": {},
     "output_type": "execute_result"
    }
   ],
   "source": [
    "X[1:3]"
   ]
  },
  {
   "cell_type": "code",
   "execution_count": 31,
   "id": "435f618e",
   "metadata": {},
   "outputs": [
    {
     "data": {
      "text/plain": [
       "tensor([[ 0.,  1.,  2.,  3.],\n",
       "        [ 4.,  5.,  6.,  7.],\n",
       "        [ 8.,  9., 10., 11.]])"
      ]
     },
     "execution_count": 31,
     "metadata": {},
     "output_type": "execute_result"
    }
   ],
   "source": [
    "X"
   ]
  },
  {
   "cell_type": "code",
   "execution_count": 32,
   "id": "71a2899c",
   "metadata": {},
   "outputs": [],
   "source": [
    "X[1][2] = 600.2"
   ]
  },
  {
   "cell_type": "code",
   "execution_count": 33,
   "id": "c5efb7e1",
   "metadata": {},
   "outputs": [
    {
     "data": {
      "text/plain": [
       "tensor([[  0.0000,   1.0000,   2.0000,   3.0000],\n",
       "        [  4.0000,   5.0000, 600.2000,   7.0000],\n",
       "        [  8.0000,   9.0000,  10.0000,  11.0000]])"
      ]
     },
     "execution_count": 33,
     "metadata": {},
     "output_type": "execute_result"
    }
   ],
   "source": [
    "X"
   ]
  },
  {
   "cell_type": "code",
   "execution_count": 34,
   "id": "166f913e",
   "metadata": {},
   "outputs": [],
   "source": [
    "X[0:2, :] = 500"
   ]
  },
  {
   "cell_type": "code",
   "execution_count": 35,
   "id": "f9e31559",
   "metadata": {},
   "outputs": [
    {
     "data": {
      "text/plain": [
       "tensor([[500., 500., 500., 500.],\n",
       "        [500., 500., 500., 500.],\n",
       "        [  8.,   9.,  10.,  11.]])"
      ]
     },
     "execution_count": 35,
     "metadata": {},
     "output_type": "execute_result"
    }
   ],
   "source": [
    "X"
   ]
  },
  {
   "cell_type": "code",
   "execution_count": 36,
   "id": "42af8f6c",
   "metadata": {},
   "outputs": [],
   "source": [
    "X[0:3, 0:4] = 0"
   ]
  },
  {
   "cell_type": "code",
   "execution_count": 37,
   "id": "87896879",
   "metadata": {},
   "outputs": [
    {
     "data": {
      "text/plain": [
       "tensor([[0., 0., 0., 0.],\n",
       "        [0., 0., 0., 0.],\n",
       "        [0., 0., 0., 0.]])"
      ]
     },
     "execution_count": 37,
     "metadata": {},
     "output_type": "execute_result"
    }
   ],
   "source": [
    "X"
   ]
  },
  {
   "cell_type": "code",
   "execution_count": 38,
   "id": "0c5569af",
   "metadata": {},
   "outputs": [
    {
     "data": {
      "text/plain": [
       "tensor([[2., 1., 4., 3.],\n",
       "        [1., 2., 3., 4.],\n",
       "        [4., 3., 2., 1.]])"
      ]
     },
     "execution_count": 38,
     "metadata": {},
     "output_type": "execute_result"
    }
   ],
   "source": [
    "Y"
   ]
  },
  {
   "cell_type": "code",
   "execution_count": 39,
   "id": "911817e1",
   "metadata": {},
   "outputs": [
    {
     "data": {
      "text/plain": [
       "False"
      ]
     },
     "execution_count": 39,
     "metadata": {},
     "output_type": "execute_result"
    }
   ],
   "source": [
    "before = id(Y)\n",
    "Y = Y + X\n",
    "before == id(Y)"
   ]
  },
  {
   "cell_type": "code",
   "execution_count": 40,
   "id": "96b57467",
   "metadata": {},
   "outputs": [
    {
     "data": {
      "text/plain": [
       "True"
      ]
     },
     "execution_count": 40,
     "metadata": {},
     "output_type": "execute_result"
    }
   ],
   "source": [
    "before = id(Y)\n",
    "Y[:] = Y + X\n",
    "before == id(Y)"
   ]
  },
  {
   "cell_type": "code",
   "execution_count": 41,
   "id": "07d6b742",
   "metadata": {},
   "outputs": [
    {
     "name": "stdout",
     "output_type": "stream",
     "text": [
      "id(Z): 140366250969408\n",
      "id(Z): 140366250969408\n"
     ]
    }
   ],
   "source": [
    "Z = torch.zeros_like(Y)\n",
    "print('id(Z):', id(Z))\n",
    "Z[:] = X + Y       # used the same object memory (in-place update)\n",
    "print('id(Z):', id(Z))"
   ]
  },
  {
   "cell_type": "code",
   "execution_count": 42,
   "id": "9f12243a",
   "metadata": {},
   "outputs": [
    {
     "data": {
      "text/plain": [
       "(array([1, 2, 3]), tensor([1, 2, 3]))"
      ]
     },
     "execution_count": 42,
     "metadata": {},
     "output_type": "execute_result"
    }
   ],
   "source": [
    "A = np.array([1, 2, 3])\n",
    "B = torch.tensor(A)\n",
    "A, B"
   ]
  },
  {
   "cell_type": "code",
   "execution_count": 43,
   "id": "cb4e0412",
   "metadata": {},
   "outputs": [
    {
     "data": {
      "text/plain": [
       "(numpy.ndarray, torch.Tensor)"
      ]
     },
     "execution_count": 43,
     "metadata": {},
     "output_type": "execute_result"
    }
   ],
   "source": [
    "type(A), type(B)"
   ]
  },
  {
   "cell_type": "code",
   "execution_count": 44,
   "id": "37a7601b",
   "metadata": {},
   "outputs": [
    {
     "data": {
      "text/plain": [
       "tensor([3.5000])"
      ]
     },
     "execution_count": 44,
     "metadata": {},
     "output_type": "execute_result"
    }
   ],
   "source": [
    "a = torch.tensor([3.5])\n",
    "a"
   ]
  },
  {
   "cell_type": "code",
   "execution_count": 45,
   "id": "2a023c22",
   "metadata": {},
   "outputs": [
    {
     "data": {
      "text/plain": [
       "(tensor([3.5000]), 3.5, 3.5, 3)"
      ]
     },
     "execution_count": 45,
     "metadata": {},
     "output_type": "execute_result"
    }
   ],
   "source": [
    "a, a.item(), float(a), int(a)"
   ]
  },
  {
   "cell_type": "markdown",
   "id": "c8425e98",
   "metadata": {},
   "source": [
    "## Reading Data into tensor"
   ]
  },
  {
   "cell_type": "code",
   "execution_count": 46,
   "id": "5fb7650d",
   "metadata": {},
   "outputs": [],
   "source": [
    "os.makedirs(os.path.join('.', 'data'), exist_ok=True)\n",
    "data_file = os.path.join('.', 'data', 'house_tiny.csv')"
   ]
  },
  {
   "cell_type": "code",
   "execution_count": 47,
   "id": "02a456a5",
   "metadata": {},
   "outputs": [],
   "source": [
    "with open(data_file, 'w') as f:\n",
    "    f.write('NumRooms,Alley,Price\\n') # Column names\n",
    "    f.write('NA,Pave,127500\\n') # Each row represents a data example\n",
    "    f.write('2,NA,106000\\n')\n",
    "    f.write('4,NA,178100\\n')\n",
    "    f.write('NA,NA,140000\\n')"
   ]
  },
  {
   "cell_type": "code",
   "execution_count": 48,
   "id": "e0e94615",
   "metadata": {},
   "outputs": [
    {
     "data": {
      "text/html": [
       "<div>\n",
       "<style scoped>\n",
       "    .dataframe tbody tr th:only-of-type {\n",
       "        vertical-align: middle;\n",
       "    }\n",
       "\n",
       "    .dataframe tbody tr th {\n",
       "        vertical-align: top;\n",
       "    }\n",
       "\n",
       "    .dataframe thead th {\n",
       "        text-align: right;\n",
       "    }\n",
       "</style>\n",
       "<table border=\"1\" class=\"dataframe\">\n",
       "  <thead>\n",
       "    <tr style=\"text-align: right;\">\n",
       "      <th></th>\n",
       "      <th>NumRooms</th>\n",
       "      <th>Alley</th>\n",
       "      <th>Price</th>\n",
       "    </tr>\n",
       "  </thead>\n",
       "  <tbody>\n",
       "    <tr>\n",
       "      <th>0</th>\n",
       "      <td>NaN</td>\n",
       "      <td>Pave</td>\n",
       "      <td>127500</td>\n",
       "    </tr>\n",
       "    <tr>\n",
       "      <th>1</th>\n",
       "      <td>2.0</td>\n",
       "      <td>NaN</td>\n",
       "      <td>106000</td>\n",
       "    </tr>\n",
       "    <tr>\n",
       "      <th>2</th>\n",
       "      <td>4.0</td>\n",
       "      <td>NaN</td>\n",
       "      <td>178100</td>\n",
       "    </tr>\n",
       "    <tr>\n",
       "      <th>3</th>\n",
       "      <td>NaN</td>\n",
       "      <td>NaN</td>\n",
       "      <td>140000</td>\n",
       "    </tr>\n",
       "  </tbody>\n",
       "</table>\n",
       "</div>"
      ],
      "text/plain": [
       "   NumRooms Alley   Price\n",
       "0       NaN  Pave  127500\n",
       "1       2.0   NaN  106000\n",
       "2       4.0   NaN  178100\n",
       "3       NaN   NaN  140000"
      ]
     },
     "execution_count": 48,
     "metadata": {},
     "output_type": "execute_result"
    }
   ],
   "source": [
    "data = pd.read_csv('data/house_tiny.csv')\n",
    "data"
   ]
  },
  {
   "cell_type": "code",
   "execution_count": 49,
   "id": "2bdd3b32",
   "metadata": {},
   "outputs": [],
   "source": [
    "inputs = data.iloc[:, :2]\n",
    "output = data.iloc[:, 2]"
   ]
  },
  {
   "cell_type": "code",
   "execution_count": 50,
   "id": "8ca91467",
   "metadata": {},
   "outputs": [
    {
     "data": {
      "text/html": [
       "<div>\n",
       "<style scoped>\n",
       "    .dataframe tbody tr th:only-of-type {\n",
       "        vertical-align: middle;\n",
       "    }\n",
       "\n",
       "    .dataframe tbody tr th {\n",
       "        vertical-align: top;\n",
       "    }\n",
       "\n",
       "    .dataframe thead th {\n",
       "        text-align: right;\n",
       "    }\n",
       "</style>\n",
       "<table border=\"1\" class=\"dataframe\">\n",
       "  <thead>\n",
       "    <tr style=\"text-align: right;\">\n",
       "      <th></th>\n",
       "      <th>NumRooms</th>\n",
       "      <th>Alley</th>\n",
       "    </tr>\n",
       "  </thead>\n",
       "  <tbody>\n",
       "    <tr>\n",
       "      <th>0</th>\n",
       "      <td>3.0</td>\n",
       "      <td>Pave</td>\n",
       "    </tr>\n",
       "    <tr>\n",
       "      <th>1</th>\n",
       "      <td>2.0</td>\n",
       "      <td>NaN</td>\n",
       "    </tr>\n",
       "    <tr>\n",
       "      <th>2</th>\n",
       "      <td>4.0</td>\n",
       "      <td>NaN</td>\n",
       "    </tr>\n",
       "    <tr>\n",
       "      <th>3</th>\n",
       "      <td>3.0</td>\n",
       "      <td>NaN</td>\n",
       "    </tr>\n",
       "  </tbody>\n",
       "</table>\n",
       "</div>"
      ],
      "text/plain": [
       "   NumRooms Alley\n",
       "0       3.0  Pave\n",
       "1       2.0   NaN\n",
       "2       4.0   NaN\n",
       "3       3.0   NaN"
      ]
     },
     "execution_count": 50,
     "metadata": {},
     "output_type": "execute_result"
    }
   ],
   "source": [
    "inputs = inputs.fillna(inputs.mean())  # filling with mean value\n",
    "inputs"
   ]
  },
  {
   "cell_type": "code",
   "execution_count": 51,
   "id": "ed1d9791",
   "metadata": {},
   "outputs": [
    {
     "data": {
      "text/html": [
       "<div>\n",
       "<style scoped>\n",
       "    .dataframe tbody tr th:only-of-type {\n",
       "        vertical-align: middle;\n",
       "    }\n",
       "\n",
       "    .dataframe tbody tr th {\n",
       "        vertical-align: top;\n",
       "    }\n",
       "\n",
       "    .dataframe thead th {\n",
       "        text-align: right;\n",
       "    }\n",
       "</style>\n",
       "<table border=\"1\" class=\"dataframe\">\n",
       "  <thead>\n",
       "    <tr style=\"text-align: right;\">\n",
       "      <th></th>\n",
       "      <th>NumRooms</th>\n",
       "      <th>Alley_Pave</th>\n",
       "      <th>Alley_nan</th>\n",
       "    </tr>\n",
       "  </thead>\n",
       "  <tbody>\n",
       "    <tr>\n",
       "      <th>0</th>\n",
       "      <td>3.0</td>\n",
       "      <td>1</td>\n",
       "      <td>0</td>\n",
       "    </tr>\n",
       "    <tr>\n",
       "      <th>1</th>\n",
       "      <td>2.0</td>\n",
       "      <td>0</td>\n",
       "      <td>1</td>\n",
       "    </tr>\n",
       "    <tr>\n",
       "      <th>2</th>\n",
       "      <td>4.0</td>\n",
       "      <td>0</td>\n",
       "      <td>1</td>\n",
       "    </tr>\n",
       "    <tr>\n",
       "      <th>3</th>\n",
       "      <td>3.0</td>\n",
       "      <td>0</td>\n",
       "      <td>1</td>\n",
       "    </tr>\n",
       "  </tbody>\n",
       "</table>\n",
       "</div>"
      ],
      "text/plain": [
       "   NumRooms  Alley_Pave  Alley_nan\n",
       "0       3.0           1          0\n",
       "1       2.0           0          1\n",
       "2       4.0           0          1\n",
       "3       3.0           0          1"
      ]
     },
     "execution_count": 51,
     "metadata": {},
     "output_type": "execute_result"
    }
   ],
   "source": [
    "inputs = pd.get_dummies(inputs, dummy_na=True)\n",
    "inputs"
   ]
  },
  {
   "cell_type": "code",
   "execution_count": 52,
   "id": "ad71731f",
   "metadata": {},
   "outputs": [],
   "source": [
    "X = torch.tensor(inputs.values)\n",
    "y = torch.tensor(output.values)"
   ]
  },
  {
   "cell_type": "code",
   "execution_count": 53,
   "id": "3aa1af43",
   "metadata": {},
   "outputs": [
    {
     "data": {
      "text/plain": [
       "(tensor([[3., 1., 0.],\n",
       "         [2., 0., 1.],\n",
       "         [4., 0., 1.],\n",
       "         [3., 0., 1.]], dtype=torch.float64),\n",
       " torch.Size([4, 3]))"
      ]
     },
     "execution_count": 53,
     "metadata": {},
     "output_type": "execute_result"
    }
   ],
   "source": [
    "X, X.shape"
   ]
  },
  {
   "cell_type": "code",
   "execution_count": 54,
   "id": "3e60c64f",
   "metadata": {},
   "outputs": [
    {
     "data": {
      "text/plain": [
       "(tensor([127500, 106000, 178100, 140000]), torch.Size([4]))"
      ]
     },
     "execution_count": 54,
     "metadata": {},
     "output_type": "execute_result"
    }
   ],
   "source": [
    "y, y.shape"
   ]
  },
  {
   "cell_type": "code",
   "execution_count": 55,
   "id": "cfdc0b57",
   "metadata": {},
   "outputs": [
    {
     "data": {
      "text/html": [
       "<div>\n",
       "<style scoped>\n",
       "    .dataframe tbody tr th:only-of-type {\n",
       "        vertical-align: middle;\n",
       "    }\n",
       "\n",
       "    .dataframe tbody tr th {\n",
       "        vertical-align: top;\n",
       "    }\n",
       "\n",
       "    .dataframe thead th {\n",
       "        text-align: right;\n",
       "    }\n",
       "</style>\n",
       "<table border=\"1\" class=\"dataframe\">\n",
       "  <thead>\n",
       "    <tr style=\"text-align: right;\">\n",
       "      <th></th>\n",
       "      <th>NumRooms</th>\n",
       "      <th>Alley</th>\n",
       "      <th>Price</th>\n",
       "    </tr>\n",
       "  </thead>\n",
       "  <tbody>\n",
       "    <tr>\n",
       "      <th>0</th>\n",
       "      <td>NaN</td>\n",
       "      <td>Pave</td>\n",
       "      <td>127500</td>\n",
       "    </tr>\n",
       "    <tr>\n",
       "      <th>1</th>\n",
       "      <td>2.0</td>\n",
       "      <td>NaN</td>\n",
       "      <td>106000</td>\n",
       "    </tr>\n",
       "    <tr>\n",
       "      <th>2</th>\n",
       "      <td>4.0</td>\n",
       "      <td>NaN</td>\n",
       "      <td>178100</td>\n",
       "    </tr>\n",
       "    <tr>\n",
       "      <th>3</th>\n",
       "      <td>NaN</td>\n",
       "      <td>NaN</td>\n",
       "      <td>140000</td>\n",
       "    </tr>\n",
       "  </tbody>\n",
       "</table>\n",
       "</div>"
      ],
      "text/plain": [
       "   NumRooms Alley   Price\n",
       "0       NaN  Pave  127500\n",
       "1       2.0   NaN  106000\n",
       "2       4.0   NaN  178100\n",
       "3       NaN   NaN  140000"
      ]
     },
     "execution_count": 55,
     "metadata": {},
     "output_type": "execute_result"
    }
   ],
   "source": [
    "data"
   ]
  },
  {
   "cell_type": "code",
   "execution_count": 56,
   "id": "75a8396d",
   "metadata": {},
   "outputs": [],
   "source": [
    "col_most_nan = data.isnull().sum().sort_values(ascending=False).index[0]"
   ]
  },
  {
   "cell_type": "code",
   "execution_count": 57,
   "id": "e6fce006",
   "metadata": {},
   "outputs": [
    {
     "data": {
      "text/plain": [
       "'Alley'"
      ]
     },
     "execution_count": 57,
     "metadata": {},
     "output_type": "execute_result"
    }
   ],
   "source": [
    "col_most_nan"
   ]
  },
  {
   "cell_type": "code",
   "execution_count": 58,
   "id": "6ab60f7b",
   "metadata": {},
   "outputs": [],
   "source": [
    "inputs_rem_most_null = data.drop(labels=col_most_nan, axis=1)"
   ]
  },
  {
   "cell_type": "code",
   "execution_count": 59,
   "id": "9ff6df44",
   "metadata": {},
   "outputs": [
    {
     "data": {
      "text/html": [
       "<div>\n",
       "<style scoped>\n",
       "    .dataframe tbody tr th:only-of-type {\n",
       "        vertical-align: middle;\n",
       "    }\n",
       "\n",
       "    .dataframe tbody tr th {\n",
       "        vertical-align: top;\n",
       "    }\n",
       "\n",
       "    .dataframe thead th {\n",
       "        text-align: right;\n",
       "    }\n",
       "</style>\n",
       "<table border=\"1\" class=\"dataframe\">\n",
       "  <thead>\n",
       "    <tr style=\"text-align: right;\">\n",
       "      <th></th>\n",
       "      <th>NumRooms</th>\n",
       "      <th>Price</th>\n",
       "    </tr>\n",
       "  </thead>\n",
       "  <tbody>\n",
       "    <tr>\n",
       "      <th>0</th>\n",
       "      <td>NaN</td>\n",
       "      <td>127500</td>\n",
       "    </tr>\n",
       "    <tr>\n",
       "      <th>1</th>\n",
       "      <td>2.0</td>\n",
       "      <td>106000</td>\n",
       "    </tr>\n",
       "    <tr>\n",
       "      <th>2</th>\n",
       "      <td>4.0</td>\n",
       "      <td>178100</td>\n",
       "    </tr>\n",
       "    <tr>\n",
       "      <th>3</th>\n",
       "      <td>NaN</td>\n",
       "      <td>140000</td>\n",
       "    </tr>\n",
       "  </tbody>\n",
       "</table>\n",
       "</div>"
      ],
      "text/plain": [
       "   NumRooms   Price\n",
       "0       NaN  127500\n",
       "1       2.0  106000\n",
       "2       4.0  178100\n",
       "3       NaN  140000"
      ]
     },
     "execution_count": 59,
     "metadata": {},
     "output_type": "execute_result"
    }
   ],
   "source": [
    "inputs_rem_most_null"
   ]
  },
  {
   "cell_type": "markdown",
   "id": "d1d77b46",
   "metadata": {},
   "source": [
    "## Linear Algebra on Tensors"
   ]
  },
  {
   "cell_type": "markdown",
   "id": "afd893ea",
   "metadata": {},
   "source": [
    "#### Scalars"
   ]
  },
  {
   "cell_type": "code",
   "execution_count": 60,
   "id": "a7d19ce1",
   "metadata": {},
   "outputs": [],
   "source": [
    "x = torch.tensor(3.0)\n",
    "y = torch.tensor(4.0)"
   ]
  },
  {
   "cell_type": "code",
   "execution_count": 61,
   "id": "b9c29720",
   "metadata": {},
   "outputs": [
    {
     "data": {
      "text/plain": [
       "(tensor(3.), tensor(4.))"
      ]
     },
     "execution_count": 61,
     "metadata": {},
     "output_type": "execute_result"
    }
   ],
   "source": [
    "x, y"
   ]
  },
  {
   "cell_type": "code",
   "execution_count": 62,
   "id": "fb82fc29",
   "metadata": {},
   "outputs": [
    {
     "data": {
      "text/plain": [
       "(tensor(7.), tensor(12.))"
      ]
     },
     "execution_count": 62,
     "metadata": {},
     "output_type": "execute_result"
    }
   ],
   "source": [
    "x + y, x * y"
   ]
  },
  {
   "cell_type": "markdown",
   "id": "a7275759",
   "metadata": {},
   "source": [
    "#### Vectors"
   ]
  },
  {
   "cell_type": "code",
   "execution_count": 63,
   "id": "3b3be06a",
   "metadata": {},
   "outputs": [
    {
     "data": {
      "text/plain": [
       "tensor([0, 1, 2, 3])"
      ]
     },
     "execution_count": 63,
     "metadata": {},
     "output_type": "execute_result"
    }
   ],
   "source": [
    "x = torch.arange(4)\n",
    "x"
   ]
  },
  {
   "cell_type": "code",
   "execution_count": 64,
   "id": "bfece1de",
   "metadata": {},
   "outputs": [
    {
     "data": {
      "text/plain": [
       "tensor(3)"
      ]
     },
     "execution_count": 64,
     "metadata": {},
     "output_type": "execute_result"
    }
   ],
   "source": [
    "x[3]"
   ]
  },
  {
   "cell_type": "code",
   "execution_count": 65,
   "id": "33888ef6",
   "metadata": {},
   "outputs": [
    {
     "data": {
      "text/plain": [
       "4"
      ]
     },
     "execution_count": 65,
     "metadata": {},
     "output_type": "execute_result"
    }
   ],
   "source": [
    "len(x)"
   ]
  },
  {
   "cell_type": "code",
   "execution_count": 66,
   "id": "49817d75",
   "metadata": {},
   "outputs": [
    {
     "data": {
      "text/plain": [
       "torch.Size([4])"
      ]
     },
     "execution_count": 66,
     "metadata": {},
     "output_type": "execute_result"
    }
   ],
   "source": [
    "x.shape"
   ]
  },
  {
   "cell_type": "markdown",
   "id": "630699bc",
   "metadata": {},
   "source": [
    "#### Matrices"
   ]
  },
  {
   "cell_type": "code",
   "execution_count": 67,
   "id": "17ec5af4",
   "metadata": {},
   "outputs": [],
   "source": [
    "X = torch.arange(20).reshape(5, 4)"
   ]
  },
  {
   "cell_type": "code",
   "execution_count": 68,
   "id": "d68a70c0",
   "metadata": {},
   "outputs": [
    {
     "data": {
      "text/plain": [
       "tensor([[ 0,  1,  2,  3],\n",
       "        [ 4,  5,  6,  7],\n",
       "        [ 8,  9, 10, 11],\n",
       "        [12, 13, 14, 15],\n",
       "        [16, 17, 18, 19]])"
      ]
     },
     "execution_count": 68,
     "metadata": {},
     "output_type": "execute_result"
    }
   ],
   "source": [
    "X"
   ]
  },
  {
   "cell_type": "code",
   "execution_count": 69,
   "id": "25e5dece",
   "metadata": {},
   "outputs": [
    {
     "data": {
      "text/plain": [
       "tensor([[ 0,  4,  8, 12, 16],\n",
       "        [ 1,  5,  9, 13, 17],\n",
       "        [ 2,  6, 10, 14, 18],\n",
       "        [ 3,  7, 11, 15, 19]])"
      ]
     },
     "execution_count": 69,
     "metadata": {},
     "output_type": "execute_result"
    }
   ],
   "source": [
    "X.T"
   ]
  },
  {
   "cell_type": "code",
   "execution_count": 70,
   "id": "161684e4",
   "metadata": {},
   "outputs": [],
   "source": [
    "A = torch.arange(9).reshape(3, 3)"
   ]
  },
  {
   "cell_type": "code",
   "execution_count": 71,
   "id": "04ea47fe",
   "metadata": {},
   "outputs": [
    {
     "data": {
      "text/plain": [
       "tensor([[0, 1, 2],\n",
       "        [3, 4, 5],\n",
       "        [6, 7, 8]])"
      ]
     },
     "execution_count": 71,
     "metadata": {},
     "output_type": "execute_result"
    }
   ],
   "source": [
    "A"
   ]
  },
  {
   "cell_type": "code",
   "execution_count": 72,
   "id": "754726b4",
   "metadata": {},
   "outputs": [
    {
     "data": {
      "text/plain": [
       "tensor([[ True, False, False],\n",
       "        [False,  True, False],\n",
       "        [False, False,  True]])"
      ]
     },
     "execution_count": 72,
     "metadata": {},
     "output_type": "execute_result"
    }
   ],
   "source": [
    "A == A.T"
   ]
  },
  {
   "cell_type": "code",
   "execution_count": 73,
   "id": "c2036bd2",
   "metadata": {},
   "outputs": [
    {
     "data": {
      "text/plain": [
       "tensor([[1, 2, 3],\n",
       "        [2, 0, 4],\n",
       "        [3, 4, 5]])"
      ]
     },
     "execution_count": 73,
     "metadata": {},
     "output_type": "execute_result"
    }
   ],
   "source": [
    "B = torch.tensor([[1,2,3], [2, 0 , 4], [3, 4, 5]])\n",
    "B"
   ]
  },
  {
   "cell_type": "code",
   "execution_count": 74,
   "id": "53ffc8e1",
   "metadata": {},
   "outputs": [
    {
     "data": {
      "text/plain": [
       "tensor([[True, True, True],\n",
       "        [True, True, True],\n",
       "        [True, True, True]])"
      ]
     },
     "execution_count": 74,
     "metadata": {},
     "output_type": "execute_result"
    }
   ],
   "source": [
    "B == B.T"
   ]
  },
  {
   "cell_type": "markdown",
   "id": "c57ae0a7",
   "metadata": {},
   "source": [
    "#### Tensors"
   ]
  },
  {
   "cell_type": "code",
   "execution_count": 75,
   "id": "faf46a04",
   "metadata": {},
   "outputs": [],
   "source": [
    "X = torch.arange(24).reshape(2, 3, 4)"
   ]
  },
  {
   "cell_type": "code",
   "execution_count": 76,
   "id": "bcf12d26",
   "metadata": {},
   "outputs": [
    {
     "data": {
      "text/plain": [
       "tensor([[[ 0,  1,  2,  3],\n",
       "         [ 4,  5,  6,  7],\n",
       "         [ 8,  9, 10, 11]],\n",
       "\n",
       "        [[12, 13, 14, 15],\n",
       "         [16, 17, 18, 19],\n",
       "         [20, 21, 22, 23]]])"
      ]
     },
     "execution_count": 76,
     "metadata": {},
     "output_type": "execute_result"
    }
   ],
   "source": [
    "X"
   ]
  },
  {
   "cell_type": "code",
   "execution_count": 77,
   "id": "752c99f7",
   "metadata": {},
   "outputs": [
    {
     "data": {
      "text/plain": [
       "tensor([[ 0.,  1.,  2.,  3.],\n",
       "        [ 4.,  5.,  6.,  7.],\n",
       "        [ 8.,  9., 10., 11.],\n",
       "        [12., 13., 14., 15.],\n",
       "        [16., 17., 18., 19.]])"
      ]
     },
     "execution_count": 77,
     "metadata": {},
     "output_type": "execute_result"
    }
   ],
   "source": [
    "A = torch.arange(20, dtype=torch.float32).reshape(5, 4)\n",
    "A"
   ]
  },
  {
   "cell_type": "code",
   "execution_count": 78,
   "id": "4cdedd13",
   "metadata": {},
   "outputs": [],
   "source": [
    "B = A.clone()"
   ]
  },
  {
   "cell_type": "code",
   "execution_count": 79,
   "id": "74cc6e31",
   "metadata": {},
   "outputs": [
    {
     "data": {
      "text/plain": [
       "tensor([[ 0.,  2.,  4.,  6.],\n",
       "        [ 8., 10., 12., 14.],\n",
       "        [16., 18., 20., 22.],\n",
       "        [24., 26., 28., 30.],\n",
       "        [32., 34., 36., 38.]])"
      ]
     },
     "execution_count": 79,
     "metadata": {},
     "output_type": "execute_result"
    }
   ],
   "source": [
    "A + B"
   ]
  },
  {
   "cell_type": "code",
   "execution_count": 80,
   "id": "07f48706",
   "metadata": {},
   "outputs": [
    {
     "data": {
      "text/plain": [
       "tensor([[  0.,   1.,   4.,   9.],\n",
       "        [ 16.,  25.,  36.,  49.],\n",
       "        [ 64.,  81., 100., 121.],\n",
       "        [144., 169., 196., 225.],\n",
       "        [256., 289., 324., 361.]])"
      ]
     },
     "execution_count": 80,
     "metadata": {},
     "output_type": "execute_result"
    }
   ],
   "source": [
    "A * B"
   ]
  },
  {
   "cell_type": "code",
   "execution_count": 81,
   "id": "3903af2e",
   "metadata": {},
   "outputs": [],
   "source": [
    "#### reduction operations"
   ]
  },
  {
   "cell_type": "code",
   "execution_count": 82,
   "id": "5c7b7692",
   "metadata": {},
   "outputs": [
    {
     "data": {
      "text/plain": [
       "(tensor([0., 1., 2., 3.]), tensor(6.))"
      ]
     },
     "execution_count": 82,
     "metadata": {},
     "output_type": "execute_result"
    }
   ],
   "source": [
    "x = torch.arange(4, dtype=torch.float32)\n",
    "x, x.sum()"
   ]
  },
  {
   "cell_type": "code",
   "execution_count": 83,
   "id": "39c6eb44",
   "metadata": {},
   "outputs": [
    {
     "data": {
      "text/plain": [
       "tensor([[ 0.,  1.,  2.,  3.],\n",
       "        [ 4.,  5.,  6.,  7.],\n",
       "        [ 8.,  9., 10., 11.],\n",
       "        [12., 13., 14., 15.],\n",
       "        [16., 17., 18., 19.]])"
      ]
     },
     "execution_count": 83,
     "metadata": {},
     "output_type": "execute_result"
    }
   ],
   "source": [
    "A"
   ]
  },
  {
   "cell_type": "code",
   "execution_count": 84,
   "id": "69025a26",
   "metadata": {},
   "outputs": [
    {
     "data": {
      "text/plain": [
       "tensor([40., 45., 50., 55.])"
      ]
     },
     "execution_count": 84,
     "metadata": {},
     "output_type": "execute_result"
    }
   ],
   "source": [
    "A.sum(axis=0)"
   ]
  },
  {
   "cell_type": "code",
   "execution_count": 85,
   "id": "2555bda2",
   "metadata": {},
   "outputs": [
    {
     "data": {
      "text/plain": [
       "tensor([ 6., 22., 38., 54., 70.])"
      ]
     },
     "execution_count": 85,
     "metadata": {},
     "output_type": "execute_result"
    }
   ],
   "source": [
    "A.sum(axis=1)"
   ]
  },
  {
   "cell_type": "code",
   "execution_count": 86,
   "id": "5d408233",
   "metadata": {},
   "outputs": [
    {
     "data": {
      "text/plain": [
       "tensor(190.)"
      ]
     },
     "execution_count": 86,
     "metadata": {},
     "output_type": "execute_result"
    }
   ],
   "source": [
    "A.sum()"
   ]
  },
  {
   "cell_type": "code",
   "execution_count": 87,
   "id": "21bbb38b",
   "metadata": {},
   "outputs": [
    {
     "data": {
      "text/plain": [
       "tensor(190.)"
      ]
     },
     "execution_count": 87,
     "metadata": {},
     "output_type": "execute_result"
    }
   ],
   "source": [
    "A.sum(axis=[0, 1])   # same as summing up all elements"
   ]
  },
  {
   "cell_type": "code",
   "execution_count": 88,
   "id": "9053ae1a",
   "metadata": {},
   "outputs": [
    {
     "data": {
      "text/plain": [
       "tensor(9.5000)"
      ]
     },
     "execution_count": 88,
     "metadata": {},
     "output_type": "execute_result"
    }
   ],
   "source": [
    "A.mean()"
   ]
  },
  {
   "cell_type": "code",
   "execution_count": 89,
   "id": "a905ceac",
   "metadata": {},
   "outputs": [
    {
     "data": {
      "text/plain": [
       "tensor(9.5000)"
      ]
     },
     "execution_count": 89,
     "metadata": {},
     "output_type": "execute_result"
    }
   ],
   "source": [
    "A.sum() / A.numel()"
   ]
  },
  {
   "cell_type": "code",
   "execution_count": 90,
   "id": "bacd1386",
   "metadata": {},
   "outputs": [
    {
     "data": {
      "text/plain": [
       "tensor([ 1.5000,  5.5000,  9.5000, 13.5000, 17.5000])"
      ]
     },
     "execution_count": 90,
     "metadata": {},
     "output_type": "execute_result"
    }
   ],
   "source": [
    "A.mean(axis=1)"
   ]
  },
  {
   "cell_type": "code",
   "execution_count": 91,
   "id": "a3415188",
   "metadata": {},
   "outputs": [
    {
     "data": {
      "text/plain": [
       "tensor([ 8.,  9., 10., 11.])"
      ]
     },
     "execution_count": 91,
     "metadata": {},
     "output_type": "execute_result"
    }
   ],
   "source": [
    "A.mean(axis=0)"
   ]
  },
  {
   "cell_type": "code",
   "execution_count": 92,
   "id": "f396738d",
   "metadata": {},
   "outputs": [
    {
     "data": {
      "text/plain": [
       "tensor([[ 0.,  1.,  2.,  3.],\n",
       "        [ 4.,  5.,  6.,  7.],\n",
       "        [ 8.,  9., 10., 11.],\n",
       "        [12., 13., 14., 15.],\n",
       "        [16., 17., 18., 19.]])"
      ]
     },
     "execution_count": 92,
     "metadata": {},
     "output_type": "execute_result"
    }
   ],
   "source": [
    "A"
   ]
  },
  {
   "cell_type": "markdown",
   "id": "f586c496",
   "metadata": {},
   "source": [
    "#### Non reduction operations"
   ]
  },
  {
   "cell_type": "code",
   "execution_count": 93,
   "id": "b62495d4",
   "metadata": {},
   "outputs": [
    {
     "data": {
      "text/plain": [
       "tensor([[ 6.],\n",
       "        [22.],\n",
       "        [38.],\n",
       "        [54.],\n",
       "        [70.]])"
      ]
     },
     "execution_count": 93,
     "metadata": {},
     "output_type": "execute_result"
    }
   ],
   "source": [
    "A.sum(axis=1, keepdims=True)"
   ]
  },
  {
   "cell_type": "code",
   "execution_count": 94,
   "id": "104627ba",
   "metadata": {},
   "outputs": [
    {
     "data": {
      "text/plain": [
       "tensor([ 6., 22., 38., 54., 70.])"
      ]
     },
     "execution_count": 94,
     "metadata": {},
     "output_type": "execute_result"
    }
   ],
   "source": [
    "A.sum(axis=1)"
   ]
  },
  {
   "cell_type": "code",
   "execution_count": 95,
   "id": "e3ad209b",
   "metadata": {},
   "outputs": [
    {
     "data": {
      "text/plain": [
       "tensor([[0.0000, 0.0053, 0.0105, 0.0158],\n",
       "        [0.0211, 0.0263, 0.0316, 0.0368],\n",
       "        [0.0421, 0.0474, 0.0526, 0.0579],\n",
       "        [0.0632, 0.0684, 0.0737, 0.0789],\n",
       "        [0.0842, 0.0895, 0.0947, 0.1000]])"
      ]
     },
     "execution_count": 95,
     "metadata": {},
     "output_type": "execute_result"
    }
   ],
   "source": [
    "A / A.sum()   # scalar operations"
   ]
  },
  {
   "cell_type": "code",
   "execution_count": 96,
   "id": "dd19ef21",
   "metadata": {},
   "outputs": [
    {
     "data": {
      "text/plain": [
       "tensor([[ 0.,  1.,  2.,  3.],\n",
       "        [ 4.,  5.,  6.,  7.],\n",
       "        [ 8.,  9., 10., 11.],\n",
       "        [12., 13., 14., 15.],\n",
       "        [16., 17., 18., 19.]])"
      ]
     },
     "execution_count": 96,
     "metadata": {},
     "output_type": "execute_result"
    }
   ],
   "source": [
    "A"
   ]
  },
  {
   "cell_type": "code",
   "execution_count": 97,
   "id": "701e7d73",
   "metadata": {},
   "outputs": [
    {
     "data": {
      "text/plain": [
       "tensor([[ 0.,  1.,  2.,  3.],\n",
       "        [ 4.,  6.,  8., 10.],\n",
       "        [12., 15., 18., 21.],\n",
       "        [24., 28., 32., 36.],\n",
       "        [40., 45., 50., 55.]])"
      ]
     },
     "execution_count": 97,
     "metadata": {},
     "output_type": "execute_result"
    }
   ],
   "source": [
    " A.cumsum(axis=0)"
   ]
  },
  {
   "cell_type": "code",
   "execution_count": 98,
   "id": "39f2f77c",
   "metadata": {},
   "outputs": [
    {
     "data": {
      "text/plain": [
       "tensor([[ 0.,  1.,  3.,  6.],\n",
       "        [ 4.,  9., 15., 22.],\n",
       "        [ 8., 17., 27., 38.],\n",
       "        [12., 25., 39., 54.],\n",
       "        [16., 33., 51., 70.]])"
      ]
     },
     "execution_count": 98,
     "metadata": {},
     "output_type": "execute_result"
    }
   ],
   "source": [
    "A.cumsum(axis=1)"
   ]
  },
  {
   "cell_type": "markdown",
   "id": "5ab2f99f",
   "metadata": {},
   "source": [
    "### Dot products"
   ]
  },
  {
   "cell_type": "code",
   "execution_count": 99,
   "id": "07606609",
   "metadata": {},
   "outputs": [
    {
     "data": {
      "text/plain": [
       "(tensor([0., 1., 2., 3.]), tensor([1., 1., 1., 1.]))"
      ]
     },
     "execution_count": 99,
     "metadata": {},
     "output_type": "execute_result"
    }
   ],
   "source": [
    "y = torch.ones(4, dtype=torch.float32)\n",
    "x,y"
   ]
  },
  {
   "cell_type": "code",
   "execution_count": 100,
   "id": "6f5ddd7f",
   "metadata": {},
   "outputs": [
    {
     "data": {
      "text/plain": [
       "(torch.Size([4]), torch.Size([4]))"
      ]
     },
     "execution_count": 100,
     "metadata": {},
     "output_type": "execute_result"
    }
   ],
   "source": [
    "x.shape, y.shape"
   ]
  },
  {
   "cell_type": "code",
   "execution_count": 101,
   "id": "37f8dc05",
   "metadata": {},
   "outputs": [
    {
     "data": {
      "text/plain": [
       "tensor(6.)"
      ]
     },
     "execution_count": 101,
     "metadata": {},
     "output_type": "execute_result"
    }
   ],
   "source": [
    "torch.sum(torch.dot(x, y))"
   ]
  },
  {
   "cell_type": "code",
   "execution_count": 102,
   "id": "61f3504f",
   "metadata": {},
   "outputs": [
    {
     "data": {
      "text/plain": [
       "tensor(6.)"
      ]
     },
     "execution_count": 102,
     "metadata": {},
     "output_type": "execute_result"
    }
   ],
   "source": [
    "torch.sum(x * y)"
   ]
  },
  {
   "cell_type": "code",
   "execution_count": 103,
   "id": "0036569f",
   "metadata": {},
   "outputs": [
    {
     "data": {
      "text/plain": [
       "tensor([[ 0.,  1.,  2.,  3.],\n",
       "        [ 4.,  5.,  6.,  7.],\n",
       "        [ 8.,  9., 10., 11.],\n",
       "        [12., 13., 14., 15.],\n",
       "        [16., 17., 18., 19.]])"
      ]
     },
     "execution_count": 103,
     "metadata": {},
     "output_type": "execute_result"
    }
   ],
   "source": [
    "A"
   ]
  },
  {
   "cell_type": "code",
   "execution_count": 104,
   "id": "c0878cea",
   "metadata": {},
   "outputs": [
    {
     "data": {
      "text/plain": [
       "(torch.Size([5, 4]), torch.Size([4]), tensor([ 14.,  38.,  62.,  86., 110.]))"
      ]
     },
     "execution_count": 104,
     "metadata": {},
     "output_type": "execute_result"
    }
   ],
   "source": [
    "A.shape, x.shape, torch.mv(A,x)"
   ]
  },
  {
   "cell_type": "code",
   "execution_count": 105,
   "id": "07ea0386",
   "metadata": {},
   "outputs": [
    {
     "data": {
      "text/plain": [
       "torch.Size([5, 4])"
      ]
     },
     "execution_count": 105,
     "metadata": {},
     "output_type": "execute_result"
    }
   ],
   "source": [
    "A.shape"
   ]
  },
  {
   "cell_type": "code",
   "execution_count": 106,
   "id": "54a32ba3",
   "metadata": {},
   "outputs": [],
   "source": [
    "B = torch.ones(4, 3)"
   ]
  },
  {
   "cell_type": "code",
   "execution_count": 107,
   "id": "26304a5f",
   "metadata": {},
   "outputs": [
    {
     "data": {
      "text/plain": [
       "(torch.Size([5, 4]), torch.Size([4, 3]), torch.Size([5, 3]))"
      ]
     },
     "execution_count": 107,
     "metadata": {},
     "output_type": "execute_result"
    }
   ],
   "source": [
    "A.shape, B.shape, torch.mm(A, B).shape"
   ]
  },
  {
   "cell_type": "markdown",
   "id": "14307864",
   "metadata": {},
   "source": [
    "#### Norm of vector"
   ]
  },
  {
   "cell_type": "code",
   "execution_count": 108,
   "id": "d1cf58a2",
   "metadata": {},
   "outputs": [
    {
     "data": {
      "text/plain": [
       "tensor(5.)"
      ]
     },
     "execution_count": 108,
     "metadata": {},
     "output_type": "execute_result"
    }
   ],
   "source": [
    "u = torch.tensor([3.0, -4.0])\n",
    "torch.norm(u)   # L2 norm"
   ]
  },
  {
   "cell_type": "code",
   "execution_count": 109,
   "id": "70d0d791",
   "metadata": {},
   "outputs": [
    {
     "data": {
      "text/plain": [
       "tensor(7.)"
      ]
     },
     "execution_count": 109,
     "metadata": {},
     "output_type": "execute_result"
    }
   ],
   "source": [
    "torch.abs(u).sum()   # L1 , norm"
   ]
  },
  {
   "cell_type": "code",
   "execution_count": 110,
   "id": "30e3505b",
   "metadata": {},
   "outputs": [
    {
     "data": {
      "text/plain": [
       "tensor([[ 0.,  1.,  2.,  3.],\n",
       "        [ 4.,  5.,  6.,  7.],\n",
       "        [ 8.,  9., 10., 11.],\n",
       "        [12., 13., 14., 15.],\n",
       "        [16., 17., 18., 19.]])"
      ]
     },
     "execution_count": 110,
     "metadata": {},
     "output_type": "execute_result"
    }
   ],
   "source": [
    "A"
   ]
  },
  {
   "cell_type": "code",
   "execution_count": 111,
   "id": "6abe536e",
   "metadata": {},
   "outputs": [],
   "source": [
    "B = torch.arange(20).reshape(5, 4)"
   ]
  },
  {
   "cell_type": "code",
   "execution_count": 112,
   "id": "e6ef2dff",
   "metadata": {},
   "outputs": [],
   "source": [
    "C = A + B "
   ]
  },
  {
   "cell_type": "code",
   "execution_count": 113,
   "id": "caa2c7c9",
   "metadata": {},
   "outputs": [
    {
     "data": {
      "text/plain": [
       "tensor([[True, True, True, True, True],\n",
       "        [True, True, True, True, True],\n",
       "        [True, True, True, True, True],\n",
       "        [True, True, True, True, True]])"
      ]
     },
     "execution_count": 113,
     "metadata": {},
     "output_type": "execute_result"
    }
   ],
   "source": [
    "A.T + B.T == C.T"
   ]
  },
  {
   "cell_type": "code",
   "execution_count": 114,
   "id": "fc8bb69b",
   "metadata": {},
   "outputs": [],
   "source": [
    "A = torch.arange(9).reshape(3, 3)"
   ]
  },
  {
   "cell_type": "code",
   "execution_count": 115,
   "id": "4972ee80",
   "metadata": {},
   "outputs": [
    {
     "data": {
      "text/plain": [
       "tensor([[0, 1, 2],\n",
       "        [3, 4, 5],\n",
       "        [6, 7, 8]])"
      ]
     },
     "execution_count": 115,
     "metadata": {},
     "output_type": "execute_result"
    }
   ],
   "source": [
    "A"
   ]
  },
  {
   "cell_type": "code",
   "execution_count": 116,
   "id": "4dc5515a",
   "metadata": {},
   "outputs": [],
   "source": [
    "C = A + A.T"
   ]
  },
  {
   "cell_type": "code",
   "execution_count": 117,
   "id": "7ca78f64",
   "metadata": {},
   "outputs": [
    {
     "data": {
      "text/plain": [
       "tensor([[ 0,  4,  8],\n",
       "        [ 4,  8, 12],\n",
       "        [ 8, 12, 16]])"
      ]
     },
     "execution_count": 117,
     "metadata": {},
     "output_type": "execute_result"
    }
   ],
   "source": [
    "C"
   ]
  },
  {
   "cell_type": "code",
   "execution_count": 118,
   "id": "46292b61",
   "metadata": {},
   "outputs": [],
   "source": [
    "x = torch.arange(24).reshape(2,3,4)"
   ]
  },
  {
   "cell_type": "code",
   "execution_count": 119,
   "id": "647c0bed",
   "metadata": {},
   "outputs": [
    {
     "data": {
      "text/plain": [
       "tensor([[[ 0,  1,  2,  3],\n",
       "         [ 4,  5,  6,  7],\n",
       "         [ 8,  9, 10, 11]],\n",
       "\n",
       "        [[12, 13, 14, 15],\n",
       "         [16, 17, 18, 19],\n",
       "         [20, 21, 22, 23]]])"
      ]
     },
     "execution_count": 119,
     "metadata": {},
     "output_type": "execute_result"
    }
   ],
   "source": [
    "x"
   ]
  },
  {
   "cell_type": "code",
   "execution_count": 120,
   "id": "37d8a853",
   "metadata": {},
   "outputs": [
    {
     "data": {
      "text/plain": [
       "2"
      ]
     },
     "execution_count": 120,
     "metadata": {},
     "output_type": "execute_result"
    }
   ],
   "source": [
    "len(x)"
   ]
  },
  {
   "cell_type": "code",
   "execution_count": 121,
   "id": "6b072a6c",
   "metadata": {},
   "outputs": [
    {
     "data": {
      "text/plain": [
       "torch.Size([2, 3, 4])"
      ]
     },
     "execution_count": 121,
     "metadata": {},
     "output_type": "execute_result"
    }
   ],
   "source": [
    "x.size()"
   ]
  },
  {
   "cell_type": "code",
   "execution_count": 122,
   "id": "3b76614b",
   "metadata": {},
   "outputs": [
    {
     "data": {
      "text/plain": [
       "24"
      ]
     },
     "execution_count": 122,
     "metadata": {},
     "output_type": "execute_result"
    }
   ],
   "source": [
    "x.numel()"
   ]
  },
  {
   "cell_type": "code",
   "execution_count": 123,
   "id": "1e7b4f8e",
   "metadata": {},
   "outputs": [
    {
     "data": {
      "text/plain": [
       "tensor([[0, 1, 2],\n",
       "        [3, 4, 5],\n",
       "        [6, 7, 8]])"
      ]
     },
     "execution_count": 123,
     "metadata": {},
     "output_type": "execute_result"
    }
   ],
   "source": [
    "A"
   ]
  },
  {
   "cell_type": "code",
   "execution_count": 124,
   "id": "27070a0d",
   "metadata": {},
   "outputs": [
    {
     "data": {
      "text/plain": [
       "tensor(36)"
      ]
     },
     "execution_count": 124,
     "metadata": {},
     "output_type": "execute_result"
    }
   ],
   "source": [
    "A.sum()"
   ]
  },
  {
   "cell_type": "code",
   "execution_count": 125,
   "id": "6343aa53",
   "metadata": {},
   "outputs": [
    {
     "data": {
      "text/plain": [
       "tensor([ 3, 12, 21])"
      ]
     },
     "execution_count": 125,
     "metadata": {},
     "output_type": "execute_result"
    }
   ],
   "source": [
    "A.sum(axis=1)"
   ]
  },
  {
   "cell_type": "code",
   "execution_count": 126,
   "id": "c2d19170",
   "metadata": {},
   "outputs": [
    {
     "data": {
      "text/plain": [
       "tensor([[0.0000, 0.0833, 0.0952],\n",
       "        [1.0000, 0.3333, 0.2381],\n",
       "        [2.0000, 0.5833, 0.3810]])"
      ]
     },
     "execution_count": 126,
     "metadata": {},
     "output_type": "execute_result"
    }
   ],
   "source": [
    "A / A.sum(axis=1)"
   ]
  },
  {
   "cell_type": "code",
   "execution_count": 127,
   "id": "9904893a",
   "metadata": {},
   "outputs": [
    {
     "data": {
      "text/plain": [
       "torch.Size([2, 3, 4])"
      ]
     },
     "execution_count": 127,
     "metadata": {},
     "output_type": "execute_result"
    }
   ],
   "source": [
    "x.shape"
   ]
  },
  {
   "cell_type": "code",
   "execution_count": 128,
   "id": "8c97e4cf",
   "metadata": {},
   "outputs": [
    {
     "data": {
      "text/plain": [
       "tensor([[[ 0,  1,  2,  3],\n",
       "         [ 4,  5,  6,  7],\n",
       "         [ 8,  9, 10, 11]],\n",
       "\n",
       "        [[12, 13, 14, 15],\n",
       "         [16, 17, 18, 19],\n",
       "         [20, 21, 22, 23]]])"
      ]
     },
     "execution_count": 128,
     "metadata": {},
     "output_type": "execute_result"
    }
   ],
   "source": [
    "x"
   ]
  },
  {
   "cell_type": "code",
   "execution_count": 129,
   "id": "95ac1e30",
   "metadata": {},
   "outputs": [
    {
     "data": {
      "text/plain": [
       "tensor([[12, 14, 16, 18],\n",
       "        [20, 22, 24, 26],\n",
       "        [28, 30, 32, 34]])"
      ]
     },
     "execution_count": 129,
     "metadata": {},
     "output_type": "execute_result"
    }
   ],
   "source": [
    "x.sum(axis=0)"
   ]
  },
  {
   "cell_type": "code",
   "execution_count": 130,
   "id": "73ac3b5d",
   "metadata": {},
   "outputs": [
    {
     "data": {
      "text/plain": [
       "tensor([[12, 14, 16, 18],\n",
       "        [20, 22, 24, 26],\n",
       "        [28, 30, 32, 34]])"
      ]
     },
     "execution_count": 130,
     "metadata": {},
     "output_type": "execute_result"
    }
   ],
   "source": [
    "x[0] + x[1]"
   ]
  },
  {
   "cell_type": "code",
   "execution_count": 131,
   "id": "c406def4",
   "metadata": {},
   "outputs": [
    {
     "data": {
      "text/plain": [
       "tensor([[12, 15, 18, 21],\n",
       "        [48, 51, 54, 57]])"
      ]
     },
     "execution_count": 131,
     "metadata": {},
     "output_type": "execute_result"
    }
   ],
   "source": [
    "x.sum(axis=1)"
   ]
  },
  {
   "cell_type": "code",
   "execution_count": 132,
   "id": "8d6a2ef8",
   "metadata": {},
   "outputs": [
    {
     "data": {
      "text/plain": [
       "tensor([[ 6, 22, 38],\n",
       "        [54, 70, 86]])"
      ]
     },
     "execution_count": 132,
     "metadata": {},
     "output_type": "execute_result"
    }
   ],
   "source": [
    "x.sum(axis=2)"
   ]
  },
  {
   "cell_type": "markdown",
   "id": "6af65b77",
   "metadata": {},
   "source": [
    "### Calculus"
   ]
  },
  {
   "cell_type": "code",
   "execution_count": 133,
   "id": "2e19f3d0",
   "metadata": {},
   "outputs": [],
   "source": [
    "def f(x):\n",
    "    return 3 * x ** 2 - 4 * x\n"
   ]
  },
  {
   "cell_type": "code",
   "execution_count": 134,
   "id": "bb473760",
   "metadata": {},
   "outputs": [],
   "source": [
    "def numerical_lim(f, x, h):\n",
    "    return (f(x + h) - f(x)) / h\n"
   ]
  },
  {
   "cell_type": "code",
   "execution_count": 135,
   "id": "c274a355",
   "metadata": {},
   "outputs": [
    {
     "name": "stdout",
     "output_type": "stream",
     "text": [
      "h=0.10000, numerical limit=2.30000\n",
      "h=0.01000, numerical limit=2.03000\n",
      "h=0.00100, numerical limit=2.00300\n",
      "h=0.00010, numerical limit=2.00030\n",
      "h=0.00001, numerical limit=2.00003\n"
     ]
    }
   ],
   "source": [
    "h = 0.1\n",
    "# derivative at x = 1\n",
    "x = 1\n",
    "for i in range(5):\n",
    "    print(f'h={h:.5f}, numerical limit={numerical_lim(f, x, h):.5f}')\n",
    "    h *= 0.1\n"
   ]
  },
  {
   "cell_type": "code",
   "execution_count": 136,
   "id": "fd79e26e",
   "metadata": {},
   "outputs": [
    {
     "name": "stdout",
     "output_type": "stream",
     "text": [
      "h=0.10000, numerical limit=8.30000\n",
      "h=0.01000, numerical limit=8.03000\n",
      "h=0.00100, numerical limit=8.00300\n",
      "h=0.00010, numerical limit=8.00030\n",
      "h=0.00001, numerical limit=8.00003\n"
     ]
    }
   ],
   "source": [
    "h = 0.1\n",
    "# derivative at x = 2\n",
    "x = 2\n",
    "for i in range(5):\n",
    "    print(f'h={h:.5f}, numerical limit={numerical_lim(f, x, h):.5f}')\n",
    "    h *= 0.1"
   ]
  },
  {
   "cell_type": "code",
   "execution_count": 137,
   "id": "f578e1c8",
   "metadata": {},
   "outputs": [],
   "source": [
    "def use_svg_display(): #@save\n",
    "    \"\"\"Use the svg format to display a plot in Jupyter.\"\"\"\n",
    "    display.set_matplotlib_formats('svg')\n",
    "    "
   ]
  },
  {
   "cell_type": "code",
   "execution_count": 138,
   "id": "09ad47b0",
   "metadata": {},
   "outputs": [],
   "source": [
    "def set_figsize(figsize=(3.5, 2.5)): #@save\n",
    "    \"\"\"Set the figure size for matplotlib.\"\"\"\n",
    "    use_svg_display()\n",
    "    d2l.plt.rcParams['figure.figsize'] = figsize\n",
    "    "
   ]
  },
  {
   "cell_type": "code",
   "execution_count": 139,
   "id": "a2b19044",
   "metadata": {},
   "outputs": [],
   "source": [
    "#@save\n",
    "def set_axes(axes, xlabel, ylabel, xlim, ylim, xscale, yscale, legend):\n",
    "    \"\"\"Set the axes for matplotlib.\"\"\"\n",
    "    axes.set_xlabel(xlabel)\n",
    "    axes.set_ylabel(ylabel)\n",
    "    axes.set_xscale(xscale)\n",
    "    axes.set_yscale(yscale)\n",
    "    axes.set_xlim(xlim)\n",
    "    axes.set_ylim(ylim)\n",
    "    if legend:\n",
    "        axes.legend(legend)\n",
    "    axes.grid()\n"
   ]
  },
  {
   "cell_type": "code",
   "execution_count": 140,
   "id": "09baffa0",
   "metadata": {},
   "outputs": [],
   "source": [
    "#@save\n",
    "def plot(X, Y=None,\n",
    "            xlabel=None, ylabel=None,legend=None, \n",
    "            xlim=None, ylim=None,\n",
    "            xscale='linear', yscale='linear',\n",
    "            fmts=('-', 'm--', 'g-.', 'r:'),\n",
    "            figsize=(3.5, 2.5),\n",
    "            axes=None):\n",
    "\n",
    "    \"\"\"Plot data points.\"\"\"\n",
    "    if legend is None:\n",
    "        legend = []\n",
    "    \n",
    "    set_figsize(figsize)\n",
    "    axes = axes if axes else d2l.plt.gca()\n",
    "    \n",
    "    # Return True if `X` (tensor or list) has 1 axis\n",
    "    def has_one_axis(X):\n",
    "        return (hasattr(X, \"ndim\") and X.ndim == 1 or\n",
    "            isinstance(X, list) and not hasattr(X[0], \"__len__\"))\n",
    "    \n",
    "    if has_one_axis(X):\n",
    "        X = [X]\n",
    "    if Y is None:\n",
    "        X, Y = [[]] * len(X), X\n",
    "    elif has_one_axis(Y):\n",
    "        Y = [Y]\n",
    "    \n",
    "    if len(X) != len(Y):\n",
    "        X = X * len(Y)\n",
    "    axes.cla()\n",
    "    \n",
    "    for x, y, fmt in zip(X, Y, fmts):\n",
    "        if len(x):\n",
    "            axes.plot(x, y, fmt)\n",
    "        else:\n",
    "            axes.plot(y, fmt)\n",
    "    set_axes(axes, xlabel, ylabel, xlim, ylim, xscale, yscale, legend)\n"
   ]
  },
  {
   "cell_type": "code",
   "execution_count": 141,
   "id": "81d0e3c6",
   "metadata": {},
   "outputs": [
    {
     "name": "stderr",
     "output_type": "stream",
     "text": [
      "<ipython-input-137-4007c1e1b97d>:3: DeprecationWarning: `set_matplotlib_formats` is deprecated since IPython 7.23, directly use `matplotlib_inline.backend_inline.set_matplotlib_formats()`\n",
      "  display.set_matplotlib_formats('svg')\n"
     ]
    },
    {
     "data": {
      "image/svg+xml": [
       "<?xml version=\"1.0\" encoding=\"utf-8\" standalone=\"no\"?>\n",
       "<!DOCTYPE svg PUBLIC \"-//W3C//DTD SVG 1.1//EN\"\n",
       "  \"http://www.w3.org/Graphics/SVG/1.1/DTD/svg11.dtd\">\n",
       "<svg height=\"184.15625pt\" version=\"1.1\" viewBox=\"0 0 246.603125 184.15625\" width=\"246.603125pt\" xmlns=\"http://www.w3.org/2000/svg\" xmlns:xlink=\"http://www.w3.org/1999/xlink\">\n",
       " <metadata>\n",
       "  <rdf:RDF xmlns:cc=\"http://creativecommons.org/ns#\" xmlns:dc=\"http://purl.org/dc/elements/1.1/\" xmlns:rdf=\"http://www.w3.org/1999/02/22-rdf-syntax-ns#\">\n",
       "   <cc:Work>\n",
       "    <dc:type rdf:resource=\"http://purl.org/dc/dcmitype/StillImage\"/>\n",
       "    <dc:date>2021-07-04T07:35:05.259242</dc:date>\n",
       "    <dc:format>image/svg+xml</dc:format>\n",
       "    <dc:creator>\n",
       "     <cc:Agent>\n",
       "      <dc:title>Matplotlib v3.4.2, https://matplotlib.org/</dc:title>\n",
       "     </cc:Agent>\n",
       "    </dc:creator>\n",
       "   </cc:Work>\n",
       "  </rdf:RDF>\n",
       " </metadata>\n",
       " <defs>\n",
       "  <style type=\"text/css\">*{stroke-linecap:butt;stroke-linejoin:round;}</style>\n",
       " </defs>\n",
       " <g id=\"figure_1\">\n",
       "  <g id=\"patch_1\">\n",
       "   <path d=\"M 0 184.15625 \n",
       "L 246.603125 184.15625 \n",
       "L 246.603125 -0 \n",
       "L 0 -0 \n",
       "z\n",
       "\" style=\"fill:none;\"/>\n",
       "  </g>\n",
       "  <g id=\"axes_1\">\n",
       "   <g id=\"patch_2\">\n",
       "    <path d=\"M 40.603125 146.6 \n",
       "L 235.903125 146.6 \n",
       "L 235.903125 10.7 \n",
       "L 40.603125 10.7 \n",
       "z\n",
       "\" style=\"fill:#ffffff;\"/>\n",
       "   </g>\n",
       "   <g id=\"matplotlib.axis_1\">\n",
       "    <g id=\"xtick_1\">\n",
       "     <g id=\"line2d_1\">\n",
       "      <path clip-path=\"url(#pc965635ed7)\" d=\"M 49.480398 146.6 \n",
       "L 49.480398 10.7 \n",
       "\" style=\"fill:none;stroke:#b0b0b0;stroke-linecap:square;stroke-width:0.8;\"/>\n",
       "     </g>\n",
       "     <g id=\"line2d_2\">\n",
       "      <defs>\n",
       "       <path d=\"M 0 0 \n",
       "L 0 3.5 \n",
       "\" id=\"m3fe04037a2\" style=\"stroke:#000000;stroke-width:0.8;\"/>\n",
       "      </defs>\n",
       "      <g>\n",
       "       <use style=\"stroke:#000000;stroke-width:0.8;\" x=\"49.480398\" xlink:href=\"#m3fe04037a2\" y=\"146.6\"/>\n",
       "      </g>\n",
       "     </g>\n",
       "     <g id=\"line2d_3\">\n",
       "      <defs>\n",
       "       <path d=\"M 0 0 \n",
       "L 0 -3.5 \n",
       "\" id=\"m6e93696a96\" style=\"stroke:#000000;stroke-width:0.8;\"/>\n",
       "      </defs>\n",
       "      <g>\n",
       "       <use style=\"stroke:#000000;stroke-width:0.8;\" x=\"49.480398\" xlink:href=\"#m6e93696a96\" y=\"10.7\"/>\n",
       "      </g>\n",
       "     </g>\n",
       "     <g id=\"text_1\">\n",
       "      <!-- 0 -->\n",
       "      <g transform=\"translate(46.299148 161.198437)scale(0.1 -0.1)\">\n",
       "       <defs>\n",
       "        <path d=\"M 2034 4250 \n",
       "Q 1547 4250 1301 3770 \n",
       "Q 1056 3291 1056 2328 \n",
       "Q 1056 1369 1301 889 \n",
       "Q 1547 409 2034 409 \n",
       "Q 2525 409 2770 889 \n",
       "Q 3016 1369 3016 2328 \n",
       "Q 3016 3291 2770 3770 \n",
       "Q 2525 4250 2034 4250 \n",
       "z\n",
       "M 2034 4750 \n",
       "Q 2819 4750 3233 4129 \n",
       "Q 3647 3509 3647 2328 \n",
       "Q 3647 1150 3233 529 \n",
       "Q 2819 -91 2034 -91 \n",
       "Q 1250 -91 836 529 \n",
       "Q 422 1150 422 2328 \n",
       "Q 422 3509 836 4129 \n",
       "Q 1250 4750 2034 4750 \n",
       "z\n",
       "\" id=\"DejaVuSans-30\" transform=\"scale(0.015625)\"/>\n",
       "       </defs>\n",
       "       <use xlink:href=\"#DejaVuSans-30\"/>\n",
       "      </g>\n",
       "     </g>\n",
       "    </g>\n",
       "    <g id=\"xtick_2\">\n",
       "     <g id=\"line2d_4\">\n",
       "      <path clip-path=\"url(#pc965635ed7)\" d=\"M 110.702968 146.6 \n",
       "L 110.702968 10.7 \n",
       "\" style=\"fill:none;stroke:#b0b0b0;stroke-linecap:square;stroke-width:0.8;\"/>\n",
       "     </g>\n",
       "     <g id=\"line2d_5\">\n",
       "      <g>\n",
       "       <use style=\"stroke:#000000;stroke-width:0.8;\" x=\"110.702968\" xlink:href=\"#m3fe04037a2\" y=\"146.6\"/>\n",
       "      </g>\n",
       "     </g>\n",
       "     <g id=\"line2d_6\">\n",
       "      <g>\n",
       "       <use style=\"stroke:#000000;stroke-width:0.8;\" x=\"110.702968\" xlink:href=\"#m6e93696a96\" y=\"10.7\"/>\n",
       "      </g>\n",
       "     </g>\n",
       "     <g id=\"text_2\">\n",
       "      <!-- 1 -->\n",
       "      <g transform=\"translate(107.521718 161.198437)scale(0.1 -0.1)\">\n",
       "       <defs>\n",
       "        <path d=\"M 794 531 \n",
       "L 1825 531 \n",
       "L 1825 4091 \n",
       "L 703 3866 \n",
       "L 703 4441 \n",
       "L 1819 4666 \n",
       "L 2450 4666 \n",
       "L 2450 531 \n",
       "L 3481 531 \n",
       "L 3481 0 \n",
       "L 794 0 \n",
       "L 794 531 \n",
       "z\n",
       "\" id=\"DejaVuSans-31\" transform=\"scale(0.015625)\"/>\n",
       "       </defs>\n",
       "       <use xlink:href=\"#DejaVuSans-31\"/>\n",
       "      </g>\n",
       "     </g>\n",
       "    </g>\n",
       "    <g id=\"xtick_3\">\n",
       "     <g id=\"line2d_7\">\n",
       "      <path clip-path=\"url(#pc965635ed7)\" d=\"M 171.925539 146.6 \n",
       "L 171.925539 10.7 \n",
       "\" style=\"fill:none;stroke:#b0b0b0;stroke-linecap:square;stroke-width:0.8;\"/>\n",
       "     </g>\n",
       "     <g id=\"line2d_8\">\n",
       "      <g>\n",
       "       <use style=\"stroke:#000000;stroke-width:0.8;\" x=\"171.925539\" xlink:href=\"#m3fe04037a2\" y=\"146.6\"/>\n",
       "      </g>\n",
       "     </g>\n",
       "     <g id=\"line2d_9\">\n",
       "      <g>\n",
       "       <use style=\"stroke:#000000;stroke-width:0.8;\" x=\"171.925539\" xlink:href=\"#m6e93696a96\" y=\"10.7\"/>\n",
       "      </g>\n",
       "     </g>\n",
       "     <g id=\"text_3\">\n",
       "      <!-- 2 -->\n",
       "      <g transform=\"translate(168.744289 161.198437)scale(0.1 -0.1)\">\n",
       "       <defs>\n",
       "        <path d=\"M 1228 531 \n",
       "L 3431 531 \n",
       "L 3431 0 \n",
       "L 469 0 \n",
       "L 469 531 \n",
       "Q 828 903 1448 1529 \n",
       "Q 2069 2156 2228 2338 \n",
       "Q 2531 2678 2651 2914 \n",
       "Q 2772 3150 2772 3378 \n",
       "Q 2772 3750 2511 3984 \n",
       "Q 2250 4219 1831 4219 \n",
       "Q 1534 4219 1204 4116 \n",
       "Q 875 4013 500 3803 \n",
       "L 500 4441 \n",
       "Q 881 4594 1212 4672 \n",
       "Q 1544 4750 1819 4750 \n",
       "Q 2544 4750 2975 4387 \n",
       "Q 3406 4025 3406 3419 \n",
       "Q 3406 3131 3298 2873 \n",
       "Q 3191 2616 2906 2266 \n",
       "Q 2828 2175 2409 1742 \n",
       "Q 1991 1309 1228 531 \n",
       "z\n",
       "\" id=\"DejaVuSans-32\" transform=\"scale(0.015625)\"/>\n",
       "       </defs>\n",
       "       <use xlink:href=\"#DejaVuSans-32\"/>\n",
       "      </g>\n",
       "     </g>\n",
       "    </g>\n",
       "    <g id=\"xtick_4\">\n",
       "     <g id=\"line2d_10\">\n",
       "      <path clip-path=\"url(#pc965635ed7)\" d=\"M 233.148109 146.6 \n",
       "L 233.148109 10.7 \n",
       "\" style=\"fill:none;stroke:#b0b0b0;stroke-linecap:square;stroke-width:0.8;\"/>\n",
       "     </g>\n",
       "     <g id=\"line2d_11\">\n",
       "      <g>\n",
       "       <use style=\"stroke:#000000;stroke-width:0.8;\" x=\"233.148109\" xlink:href=\"#m3fe04037a2\" y=\"146.6\"/>\n",
       "      </g>\n",
       "     </g>\n",
       "     <g id=\"line2d_12\">\n",
       "      <g>\n",
       "       <use style=\"stroke:#000000;stroke-width:0.8;\" x=\"233.148109\" xlink:href=\"#m6e93696a96\" y=\"10.7\"/>\n",
       "      </g>\n",
       "     </g>\n",
       "     <g id=\"text_4\">\n",
       "      <!-- 3 -->\n",
       "      <g transform=\"translate(229.966859 161.198437)scale(0.1 -0.1)\">\n",
       "       <defs>\n",
       "        <path d=\"M 2597 2516 \n",
       "Q 3050 2419 3304 2112 \n",
       "Q 3559 1806 3559 1356 \n",
       "Q 3559 666 3084 287 \n",
       "Q 2609 -91 1734 -91 \n",
       "Q 1441 -91 1130 -33 \n",
       "Q 819 25 488 141 \n",
       "L 488 750 \n",
       "Q 750 597 1062 519 \n",
       "Q 1375 441 1716 441 \n",
       "Q 2309 441 2620 675 \n",
       "Q 2931 909 2931 1356 \n",
       "Q 2931 1769 2642 2001 \n",
       "Q 2353 2234 1838 2234 \n",
       "L 1294 2234 \n",
       "L 1294 2753 \n",
       "L 1863 2753 \n",
       "Q 2328 2753 2575 2939 \n",
       "Q 2822 3125 2822 3475 \n",
       "Q 2822 3834 2567 4026 \n",
       "Q 2313 4219 1838 4219 \n",
       "Q 1578 4219 1281 4162 \n",
       "Q 984 4106 628 3988 \n",
       "L 628 4550 \n",
       "Q 988 4650 1302 4700 \n",
       "Q 1616 4750 1894 4750 \n",
       "Q 2613 4750 3031 4423 \n",
       "Q 3450 4097 3450 3541 \n",
       "Q 3450 3153 3228 2886 \n",
       "Q 3006 2619 2597 2516 \n",
       "z\n",
       "\" id=\"DejaVuSans-33\" transform=\"scale(0.015625)\"/>\n",
       "       </defs>\n",
       "       <use xlink:href=\"#DejaVuSans-33\"/>\n",
       "      </g>\n",
       "     </g>\n",
       "    </g>\n",
       "    <g id=\"text_5\">\n",
       "     <!-- x -->\n",
       "     <g transform=\"translate(135.29375 174.876562)scale(0.1 -0.1)\">\n",
       "      <defs>\n",
       "       <path d=\"M 3513 3500 \n",
       "L 2247 1797 \n",
       "L 3578 0 \n",
       "L 2900 0 \n",
       "L 1881 1375 \n",
       "L 863 0 \n",
       "L 184 0 \n",
       "L 1544 1831 \n",
       "L 300 3500 \n",
       "L 978 3500 \n",
       "L 1906 2253 \n",
       "L 2834 3500 \n",
       "L 3513 3500 \n",
       "z\n",
       "\" id=\"DejaVuSans-78\" transform=\"scale(0.015625)\"/>\n",
       "      </defs>\n",
       "      <use xlink:href=\"#DejaVuSans-78\"/>\n",
       "     </g>\n",
       "    </g>\n",
       "   </g>\n",
       "   <g id=\"matplotlib.axis_2\">\n",
       "    <g id=\"ytick_1\">\n",
       "     <g id=\"line2d_13\">\n",
       "      <path clip-path=\"url(#pc965635ed7)\" d=\"M 40.603125 118.135514 \n",
       "L 235.903125 118.135514 \n",
       "\" style=\"fill:none;stroke:#b0b0b0;stroke-linecap:square;stroke-width:0.8;\"/>\n",
       "     </g>\n",
       "     <g id=\"line2d_14\">\n",
       "      <defs>\n",
       "       <path d=\"M 0 0 \n",
       "L -3.5 0 \n",
       "\" id=\"me0fa0107df\" style=\"stroke:#000000;stroke-width:0.8;\"/>\n",
       "      </defs>\n",
       "      <g>\n",
       "       <use style=\"stroke:#000000;stroke-width:0.8;\" x=\"40.603125\" xlink:href=\"#me0fa0107df\" y=\"118.135514\"/>\n",
       "      </g>\n",
       "     </g>\n",
       "     <g id=\"line2d_15\">\n",
       "      <defs>\n",
       "       <path d=\"M 0 0 \n",
       "L 3.5 0 \n",
       "\" id=\"mc4dc9916b0\" style=\"stroke:#000000;stroke-width:0.8;\"/>\n",
       "      </defs>\n",
       "      <g>\n",
       "       <use style=\"stroke:#000000;stroke-width:0.8;\" x=\"235.903125\" xlink:href=\"#mc4dc9916b0\" y=\"118.135514\"/>\n",
       "      </g>\n",
       "     </g>\n",
       "     <g id=\"text_6\">\n",
       "      <!-- 0 -->\n",
       "      <g transform=\"translate(27.240625 121.934732)scale(0.1 -0.1)\">\n",
       "       <use xlink:href=\"#DejaVuSans-30\"/>\n",
       "      </g>\n",
       "     </g>\n",
       "    </g>\n",
       "    <g id=\"ytick_2\">\n",
       "     <g id=\"line2d_16\">\n",
       "      <path clip-path=\"url(#pc965635ed7)\" d=\"M 40.603125 80.990157 \n",
       "L 235.903125 80.990157 \n",
       "\" style=\"fill:none;stroke:#b0b0b0;stroke-linecap:square;stroke-width:0.8;\"/>\n",
       "     </g>\n",
       "     <g id=\"line2d_17\">\n",
       "      <g>\n",
       "       <use style=\"stroke:#000000;stroke-width:0.8;\" x=\"40.603125\" xlink:href=\"#me0fa0107df\" y=\"80.990157\"/>\n",
       "      </g>\n",
       "     </g>\n",
       "     <g id=\"line2d_18\">\n",
       "      <g>\n",
       "       <use style=\"stroke:#000000;stroke-width:0.8;\" x=\"235.903125\" xlink:href=\"#mc4dc9916b0\" y=\"80.990157\"/>\n",
       "      </g>\n",
       "     </g>\n",
       "     <g id=\"text_7\">\n",
       "      <!-- 5 -->\n",
       "      <g transform=\"translate(27.240625 84.789376)scale(0.1 -0.1)\">\n",
       "       <defs>\n",
       "        <path d=\"M 691 4666 \n",
       "L 3169 4666 \n",
       "L 3169 4134 \n",
       "L 1269 4134 \n",
       "L 1269 2991 \n",
       "Q 1406 3038 1543 3061 \n",
       "Q 1681 3084 1819 3084 \n",
       "Q 2600 3084 3056 2656 \n",
       "Q 3513 2228 3513 1497 \n",
       "Q 3513 744 3044 326 \n",
       "Q 2575 -91 1722 -91 \n",
       "Q 1428 -91 1123 -41 \n",
       "Q 819 9 494 109 \n",
       "L 494 744 \n",
       "Q 775 591 1075 516 \n",
       "Q 1375 441 1709 441 \n",
       "Q 2250 441 2565 725 \n",
       "Q 2881 1009 2881 1497 \n",
       "Q 2881 1984 2565 2268 \n",
       "Q 2250 2553 1709 2553 \n",
       "Q 1456 2553 1204 2497 \n",
       "Q 953 2441 691 2322 \n",
       "L 691 4666 \n",
       "z\n",
       "\" id=\"DejaVuSans-35\" transform=\"scale(0.015625)\"/>\n",
       "       </defs>\n",
       "       <use xlink:href=\"#DejaVuSans-35\"/>\n",
       "      </g>\n",
       "     </g>\n",
       "    </g>\n",
       "    <g id=\"ytick_3\">\n",
       "     <g id=\"line2d_19\">\n",
       "      <path clip-path=\"url(#pc965635ed7)\" d=\"M 40.603125 43.844801 \n",
       "L 235.903125 43.844801 \n",
       "\" style=\"fill:none;stroke:#b0b0b0;stroke-linecap:square;stroke-width:0.8;\"/>\n",
       "     </g>\n",
       "     <g id=\"line2d_20\">\n",
       "      <g>\n",
       "       <use style=\"stroke:#000000;stroke-width:0.8;\" x=\"40.603125\" xlink:href=\"#me0fa0107df\" y=\"43.844801\"/>\n",
       "      </g>\n",
       "     </g>\n",
       "     <g id=\"line2d_21\">\n",
       "      <g>\n",
       "       <use style=\"stroke:#000000;stroke-width:0.8;\" x=\"235.903125\" xlink:href=\"#mc4dc9916b0\" y=\"43.844801\"/>\n",
       "      </g>\n",
       "     </g>\n",
       "     <g id=\"text_8\">\n",
       "      <!-- 10 -->\n",
       "      <g transform=\"translate(20.878125 47.64402)scale(0.1 -0.1)\">\n",
       "       <use xlink:href=\"#DejaVuSans-31\"/>\n",
       "       <use x=\"63.623047\" xlink:href=\"#DejaVuSans-30\"/>\n",
       "      </g>\n",
       "     </g>\n",
       "    </g>\n",
       "    <g id=\"text_9\">\n",
       "     <!-- f(x) -->\n",
       "     <g transform=\"translate(14.798437 87.271094)rotate(-90)scale(0.1 -0.1)\">\n",
       "      <defs>\n",
       "       <path d=\"M 2375 4863 \n",
       "L 2375 4384 \n",
       "L 1825 4384 \n",
       "Q 1516 4384 1395 4259 \n",
       "Q 1275 4134 1275 3809 \n",
       "L 1275 3500 \n",
       "L 2222 3500 \n",
       "L 2222 3053 \n",
       "L 1275 3053 \n",
       "L 1275 0 \n",
       "L 697 0 \n",
       "L 697 3053 \n",
       "L 147 3053 \n",
       "L 147 3500 \n",
       "L 697 3500 \n",
       "L 697 3744 \n",
       "Q 697 4328 969 4595 \n",
       "Q 1241 4863 1831 4863 \n",
       "L 2375 4863 \n",
       "z\n",
       "\" id=\"DejaVuSans-66\" transform=\"scale(0.015625)\"/>\n",
       "       <path d=\"M 1984 4856 \n",
       "Q 1566 4138 1362 3434 \n",
       "Q 1159 2731 1159 2009 \n",
       "Q 1159 1288 1364 580 \n",
       "Q 1569 -128 1984 -844 \n",
       "L 1484 -844 \n",
       "Q 1016 -109 783 600 \n",
       "Q 550 1309 550 2009 \n",
       "Q 550 2706 781 3412 \n",
       "Q 1013 4119 1484 4856 \n",
       "L 1984 4856 \n",
       "z\n",
       "\" id=\"DejaVuSans-28\" transform=\"scale(0.015625)\"/>\n",
       "       <path d=\"M 513 4856 \n",
       "L 1013 4856 \n",
       "Q 1481 4119 1714 3412 \n",
       "Q 1947 2706 1947 2009 \n",
       "Q 1947 1309 1714 600 \n",
       "Q 1481 -109 1013 -844 \n",
       "L 513 -844 \n",
       "Q 928 -128 1133 580 \n",
       "Q 1338 1288 1338 2009 \n",
       "Q 1338 2731 1133 3434 \n",
       "Q 928 4138 513 4856 \n",
       "z\n",
       "\" id=\"DejaVuSans-29\" transform=\"scale(0.015625)\"/>\n",
       "      </defs>\n",
       "      <use xlink:href=\"#DejaVuSans-66\"/>\n",
       "      <use x=\"35.205078\" xlink:href=\"#DejaVuSans-28\"/>\n",
       "      <use x=\"74.21875\" xlink:href=\"#DejaVuSans-78\"/>\n",
       "      <use x=\"133.398438\" xlink:href=\"#DejaVuSans-29\"/>\n",
       "     </g>\n",
       "    </g>\n",
       "   </g>\n",
       "   <g id=\"line2d_22\">\n",
       "    <path clip-path=\"url(#pc965635ed7)\" d=\"M 49.480398 118.135514 \n",
       "L 55.602655 120.88427 \n",
       "L 61.724912 123.187282 \n",
       "L 67.847169 125.04455 \n",
       "L 73.969426 126.456073 \n",
       "L 80.091683 127.421853 \n",
       "L 86.21394 127.941888 \n",
       "L 92.336197 128.016178 \n",
       "L 98.458454 127.644725 \n",
       "L 104.580711 126.827527 \n",
       "L 110.702968 125.564585 \n",
       "L 116.825225 123.855898 \n",
       "L 122.947482 121.701468 \n",
       "L 129.069739 119.101293 \n",
       "L 135.191996 116.055374 \n",
       "L 141.314254 112.56371 \n",
       "L 147.436511 108.626302 \n",
       "L 153.558768 104.24315 \n",
       "L 159.681025 99.414254 \n",
       "L 165.803282 94.139614 \n",
       "L 171.925539 88.419229 \n",
       "L 178.047796 82.2531 \n",
       "L 184.170053 75.641226 \n",
       "L 190.29231 68.583608 \n",
       "L 196.414567 61.080247 \n",
       "L 202.536824 53.13114 \n",
       "L 208.659081 44.73629 \n",
       "L 214.781338 35.895695 \n",
       "L 220.903595 26.609356 \n",
       "L 227.025852 16.877273 \n",
       "\" style=\"fill:none;stroke:#1f77b4;stroke-linecap:square;stroke-width:1.5;\"/>\n",
       "   </g>\n",
       "   <g id=\"line2d_23\">\n",
       "    <path clip-path=\"url(#pc965635ed7)\" d=\"M 49.480398 140.422727 \n",
       "L 55.602655 138.936913 \n",
       "L 61.724912 137.451099 \n",
       "L 67.847169 135.965285 \n",
       "L 73.969426 134.47947 \n",
       "L 80.091683 132.993656 \n",
       "L 86.21394 131.507842 \n",
       "L 92.336197 130.022028 \n",
       "L 98.458454 128.536213 \n",
       "L 104.580711 127.050399 \n",
       "L 110.702968 125.564585 \n",
       "L 116.825225 124.078771 \n",
       "L 122.947482 122.592956 \n",
       "L 129.069739 121.107142 \n",
       "L 135.191996 119.621328 \n",
       "L 141.314254 118.135514 \n",
       "L 147.436511 116.649699 \n",
       "L 153.558768 115.163885 \n",
       "L 159.681025 113.678071 \n",
       "L 165.803282 112.192257 \n",
       "L 171.925539 110.706442 \n",
       "L 178.047796 109.220628 \n",
       "L 184.170053 107.734814 \n",
       "L 190.29231 106.249 \n",
       "L 196.414567 104.763185 \n",
       "L 202.536824 103.277371 \n",
       "L 208.659081 101.791557 \n",
       "L 214.781338 100.305743 \n",
       "L 220.903595 98.819928 \n",
       "L 227.025852 97.334114 \n",
       "\" style=\"fill:none;stroke:#bf00bf;stroke-dasharray:5.55,2.4;stroke-dashoffset:0;stroke-width:1.5;\"/>\n",
       "   </g>\n",
       "   <g id=\"patch_3\">\n",
       "    <path d=\"M 40.603125 146.6 \n",
       "L 40.603125 10.7 \n",
       "\" style=\"fill:none;stroke:#000000;stroke-linecap:square;stroke-linejoin:miter;stroke-width:0.8;\"/>\n",
       "   </g>\n",
       "   <g id=\"patch_4\">\n",
       "    <path d=\"M 235.903125 146.6 \n",
       "L 235.903125 10.7 \n",
       "\" style=\"fill:none;stroke:#000000;stroke-linecap:square;stroke-linejoin:miter;stroke-width:0.8;\"/>\n",
       "   </g>\n",
       "   <g id=\"patch_5\">\n",
       "    <path d=\"M 40.603125 146.6 \n",
       "L 235.903125 146.6 \n",
       "\" style=\"fill:none;stroke:#000000;stroke-linecap:square;stroke-linejoin:miter;stroke-width:0.8;\"/>\n",
       "   </g>\n",
       "   <g id=\"patch_6\">\n",
       "    <path d=\"M 40.603125 10.7 \n",
       "L 235.903125 10.7 \n",
       "\" style=\"fill:none;stroke:#000000;stroke-linecap:square;stroke-linejoin:miter;stroke-width:0.8;\"/>\n",
       "   </g>\n",
       "   <g id=\"legend_1\">\n",
       "    <g id=\"patch_7\">\n",
       "     <path d=\"M 47.603125 48.05625 \n",
       "L 172.153125 48.05625 \n",
       "Q 174.153125 48.05625 174.153125 46.05625 \n",
       "L 174.153125 17.7 \n",
       "Q 174.153125 15.7 172.153125 15.7 \n",
       "L 47.603125 15.7 \n",
       "Q 45.603125 15.7 45.603125 17.7 \n",
       "L 45.603125 46.05625 \n",
       "Q 45.603125 48.05625 47.603125 48.05625 \n",
       "z\n",
       "\" style=\"fill:#ffffff;opacity:0.8;stroke:#cccccc;stroke-linejoin:miter;\"/>\n",
       "    </g>\n",
       "    <g id=\"line2d_24\">\n",
       "     <path d=\"M 49.603125 23.798437 \n",
       "L 69.603125 23.798437 \n",
       "\" style=\"fill:none;stroke:#1f77b4;stroke-linecap:square;stroke-width:1.5;\"/>\n",
       "    </g>\n",
       "    <g id=\"line2d_25\"/>\n",
       "    <g id=\"text_10\">\n",
       "     <!-- f(x) -->\n",
       "     <g transform=\"translate(77.603125 27.298437)scale(0.1 -0.1)\">\n",
       "      <use xlink:href=\"#DejaVuSans-66\"/>\n",
       "      <use x=\"35.205078\" xlink:href=\"#DejaVuSans-28\"/>\n",
       "      <use x=\"74.21875\" xlink:href=\"#DejaVuSans-78\"/>\n",
       "      <use x=\"133.398438\" xlink:href=\"#DejaVuSans-29\"/>\n",
       "     </g>\n",
       "    </g>\n",
       "    <g id=\"line2d_26\">\n",
       "     <path d=\"M 49.603125 38.476562 \n",
       "L 69.603125 38.476562 \n",
       "\" style=\"fill:none;stroke:#bf00bf;stroke-dasharray:5.55,2.4;stroke-dashoffset:0;stroke-width:1.5;\"/>\n",
       "    </g>\n",
       "    <g id=\"line2d_27\"/>\n",
       "    <g id=\"text_11\">\n",
       "     <!-- Tangent line (x=1) -->\n",
       "     <g transform=\"translate(77.603125 41.976562)scale(0.1 -0.1)\">\n",
       "      <defs>\n",
       "       <path d=\"M -19 4666 \n",
       "L 3928 4666 \n",
       "L 3928 4134 \n",
       "L 2272 4134 \n",
       "L 2272 0 \n",
       "L 1638 0 \n",
       "L 1638 4134 \n",
       "L -19 4134 \n",
       "L -19 4666 \n",
       "z\n",
       "\" id=\"DejaVuSans-54\" transform=\"scale(0.015625)\"/>\n",
       "       <path d=\"M 2194 1759 \n",
       "Q 1497 1759 1228 1600 \n",
       "Q 959 1441 959 1056 \n",
       "Q 959 750 1161 570 \n",
       "Q 1363 391 1709 391 \n",
       "Q 2188 391 2477 730 \n",
       "Q 2766 1069 2766 1631 \n",
       "L 2766 1759 \n",
       "L 2194 1759 \n",
       "z\n",
       "M 3341 1997 \n",
       "L 3341 0 \n",
       "L 2766 0 \n",
       "L 2766 531 \n",
       "Q 2569 213 2275 61 \n",
       "Q 1981 -91 1556 -91 \n",
       "Q 1019 -91 701 211 \n",
       "Q 384 513 384 1019 \n",
       "Q 384 1609 779 1909 \n",
       "Q 1175 2209 1959 2209 \n",
       "L 2766 2209 \n",
       "L 2766 2266 \n",
       "Q 2766 2663 2505 2880 \n",
       "Q 2244 3097 1772 3097 \n",
       "Q 1472 3097 1187 3025 \n",
       "Q 903 2953 641 2809 \n",
       "L 641 3341 \n",
       "Q 956 3463 1253 3523 \n",
       "Q 1550 3584 1831 3584 \n",
       "Q 2591 3584 2966 3190 \n",
       "Q 3341 2797 3341 1997 \n",
       "z\n",
       "\" id=\"DejaVuSans-61\" transform=\"scale(0.015625)\"/>\n",
       "       <path d=\"M 3513 2113 \n",
       "L 3513 0 \n",
       "L 2938 0 \n",
       "L 2938 2094 \n",
       "Q 2938 2591 2744 2837 \n",
       "Q 2550 3084 2163 3084 \n",
       "Q 1697 3084 1428 2787 \n",
       "Q 1159 2491 1159 1978 \n",
       "L 1159 0 \n",
       "L 581 0 \n",
       "L 581 3500 \n",
       "L 1159 3500 \n",
       "L 1159 2956 \n",
       "Q 1366 3272 1645 3428 \n",
       "Q 1925 3584 2291 3584 \n",
       "Q 2894 3584 3203 3211 \n",
       "Q 3513 2838 3513 2113 \n",
       "z\n",
       "\" id=\"DejaVuSans-6e\" transform=\"scale(0.015625)\"/>\n",
       "       <path d=\"M 2906 1791 \n",
       "Q 2906 2416 2648 2759 \n",
       "Q 2391 3103 1925 3103 \n",
       "Q 1463 3103 1205 2759 \n",
       "Q 947 2416 947 1791 \n",
       "Q 947 1169 1205 825 \n",
       "Q 1463 481 1925 481 \n",
       "Q 2391 481 2648 825 \n",
       "Q 2906 1169 2906 1791 \n",
       "z\n",
       "M 3481 434 \n",
       "Q 3481 -459 3084 -895 \n",
       "Q 2688 -1331 1869 -1331 \n",
       "Q 1566 -1331 1297 -1286 \n",
       "Q 1028 -1241 775 -1147 \n",
       "L 775 -588 \n",
       "Q 1028 -725 1275 -790 \n",
       "Q 1522 -856 1778 -856 \n",
       "Q 2344 -856 2625 -561 \n",
       "Q 2906 -266 2906 331 \n",
       "L 2906 616 \n",
       "Q 2728 306 2450 153 \n",
       "Q 2172 0 1784 0 \n",
       "Q 1141 0 747 490 \n",
       "Q 353 981 353 1791 \n",
       "Q 353 2603 747 3093 \n",
       "Q 1141 3584 1784 3584 \n",
       "Q 2172 3584 2450 3431 \n",
       "Q 2728 3278 2906 2969 \n",
       "L 2906 3500 \n",
       "L 3481 3500 \n",
       "L 3481 434 \n",
       "z\n",
       "\" id=\"DejaVuSans-67\" transform=\"scale(0.015625)\"/>\n",
       "       <path d=\"M 3597 1894 \n",
       "L 3597 1613 \n",
       "L 953 1613 \n",
       "Q 991 1019 1311 708 \n",
       "Q 1631 397 2203 397 \n",
       "Q 2534 397 2845 478 \n",
       "Q 3156 559 3463 722 \n",
       "L 3463 178 \n",
       "Q 3153 47 2828 -22 \n",
       "Q 2503 -91 2169 -91 \n",
       "Q 1331 -91 842 396 \n",
       "Q 353 884 353 1716 \n",
       "Q 353 2575 817 3079 \n",
       "Q 1281 3584 2069 3584 \n",
       "Q 2775 3584 3186 3129 \n",
       "Q 3597 2675 3597 1894 \n",
       "z\n",
       "M 3022 2063 \n",
       "Q 3016 2534 2758 2815 \n",
       "Q 2500 3097 2075 3097 \n",
       "Q 1594 3097 1305 2825 \n",
       "Q 1016 2553 972 2059 \n",
       "L 3022 2063 \n",
       "z\n",
       "\" id=\"DejaVuSans-65\" transform=\"scale(0.015625)\"/>\n",
       "       <path d=\"M 1172 4494 \n",
       "L 1172 3500 \n",
       "L 2356 3500 \n",
       "L 2356 3053 \n",
       "L 1172 3053 \n",
       "L 1172 1153 \n",
       "Q 1172 725 1289 603 \n",
       "Q 1406 481 1766 481 \n",
       "L 2356 481 \n",
       "L 2356 0 \n",
       "L 1766 0 \n",
       "Q 1100 0 847 248 \n",
       "Q 594 497 594 1153 \n",
       "L 594 3053 \n",
       "L 172 3053 \n",
       "L 172 3500 \n",
       "L 594 3500 \n",
       "L 594 4494 \n",
       "L 1172 4494 \n",
       "z\n",
       "\" id=\"DejaVuSans-74\" transform=\"scale(0.015625)\"/>\n",
       "       <path id=\"DejaVuSans-20\" transform=\"scale(0.015625)\"/>\n",
       "       <path d=\"M 603 4863 \n",
       "L 1178 4863 \n",
       "L 1178 0 \n",
       "L 603 0 \n",
       "L 603 4863 \n",
       "z\n",
       "\" id=\"DejaVuSans-6c\" transform=\"scale(0.015625)\"/>\n",
       "       <path d=\"M 603 3500 \n",
       "L 1178 3500 \n",
       "L 1178 0 \n",
       "L 603 0 \n",
       "L 603 3500 \n",
       "z\n",
       "M 603 4863 \n",
       "L 1178 4863 \n",
       "L 1178 4134 \n",
       "L 603 4134 \n",
       "L 603 4863 \n",
       "z\n",
       "\" id=\"DejaVuSans-69\" transform=\"scale(0.015625)\"/>\n",
       "       <path d=\"M 678 2906 \n",
       "L 4684 2906 \n",
       "L 4684 2381 \n",
       "L 678 2381 \n",
       "L 678 2906 \n",
       "z\n",
       "M 678 1631 \n",
       "L 4684 1631 \n",
       "L 4684 1100 \n",
       "L 678 1100 \n",
       "L 678 1631 \n",
       "z\n",
       "\" id=\"DejaVuSans-3d\" transform=\"scale(0.015625)\"/>\n",
       "      </defs>\n",
       "      <use xlink:href=\"#DejaVuSans-54\"/>\n",
       "      <use x=\"44.583984\" xlink:href=\"#DejaVuSans-61\"/>\n",
       "      <use x=\"105.863281\" xlink:href=\"#DejaVuSans-6e\"/>\n",
       "      <use x=\"169.242188\" xlink:href=\"#DejaVuSans-67\"/>\n",
       "      <use x=\"232.71875\" xlink:href=\"#DejaVuSans-65\"/>\n",
       "      <use x=\"294.242188\" xlink:href=\"#DejaVuSans-6e\"/>\n",
       "      <use x=\"357.621094\" xlink:href=\"#DejaVuSans-74\"/>\n",
       "      <use x=\"396.830078\" xlink:href=\"#DejaVuSans-20\"/>\n",
       "      <use x=\"428.617188\" xlink:href=\"#DejaVuSans-6c\"/>\n",
       "      <use x=\"456.400391\" xlink:href=\"#DejaVuSans-69\"/>\n",
       "      <use x=\"484.183594\" xlink:href=\"#DejaVuSans-6e\"/>\n",
       "      <use x=\"547.5625\" xlink:href=\"#DejaVuSans-65\"/>\n",
       "      <use x=\"609.085938\" xlink:href=\"#DejaVuSans-20\"/>\n",
       "      <use x=\"640.873047\" xlink:href=\"#DejaVuSans-28\"/>\n",
       "      <use x=\"679.886719\" xlink:href=\"#DejaVuSans-78\"/>\n",
       "      <use x=\"739.066406\" xlink:href=\"#DejaVuSans-3d\"/>\n",
       "      <use x=\"822.855469\" xlink:href=\"#DejaVuSans-31\"/>\n",
       "      <use x=\"886.478516\" xlink:href=\"#DejaVuSans-29\"/>\n",
       "     </g>\n",
       "    </g>\n",
       "   </g>\n",
       "  </g>\n",
       " </g>\n",
       " <defs>\n",
       "  <clipPath id=\"pc965635ed7\">\n",
       "   <rect height=\"135.9\" width=\"195.3\" x=\"40.603125\" y=\"10.7\"/>\n",
       "  </clipPath>\n",
       " </defs>\n",
       "</svg>\n"
      ],
      "text/plain": [
       "<Figure size 252x180 with 1 Axes>"
      ]
     },
     "metadata": {
      "needs_background": "light"
     },
     "output_type": "display_data"
    }
   ],
   "source": [
    "x = np.arange(0, 3, 0.1)\n",
    "plot(x, [f(x), 2 * x - 3], 'x', 'f(x)', legend=['f(x)', 'Tangent line (x=1)'])\n"
   ]
  },
  {
   "cell_type": "markdown",
   "id": "be100450",
   "metadata": {},
   "source": [
    "### Plotting tangent for x^3 - 1/x"
   ]
  },
  {
   "cell_type": "code",
   "execution_count": 142,
   "id": "64b217ef",
   "metadata": {},
   "outputs": [],
   "source": [
    "def f(x):\n",
    "    return (x ** 3) -  (1 / x)"
   ]
  },
  {
   "cell_type": "markdown",
   "id": "e2a94c87",
   "metadata": {},
   "source": [
    "#### derivate of x^3 - 1/x => 3x^2 + (1 / x^2)"
   ]
  },
  {
   "cell_type": "code",
   "execution_count": 143,
   "id": "f9e16a51",
   "metadata": {},
   "outputs": [],
   "source": [
    "def f_der(x):\n",
    "    return (3 * (x ** 2)) + (1 / (x ** 2))"
   ]
  },
  {
   "cell_type": "code",
   "execution_count": 144,
   "id": "cf32b83d",
   "metadata": {},
   "outputs": [
    {
     "name": "stderr",
     "output_type": "stream",
     "text": [
      "<ipython-input-142-4b601cfb9b2f>:2: RuntimeWarning: divide by zero encountered in true_divide\n",
      "  return (x ** 3) -  (1 / x)\n",
      "<ipython-input-137-4007c1e1b97d>:3: DeprecationWarning: `set_matplotlib_formats` is deprecated since IPython 7.23, directly use `matplotlib_inline.backend_inline.set_matplotlib_formats()`\n",
      "  display.set_matplotlib_formats('svg')\n"
     ]
    },
    {
     "data": {
      "image/svg+xml": [
       "<?xml version=\"1.0\" encoding=\"utf-8\" standalone=\"no\"?>\n",
       "<!DOCTYPE svg PUBLIC \"-//W3C//DTD SVG 1.1//EN\"\n",
       "  \"http://www.w3.org/Graphics/SVG/1.1/DTD/svg11.dtd\">\n",
       "<svg height=\"184.15625pt\" version=\"1.1\" viewBox=\"0 0 252.965625 184.15625\" width=\"252.965625pt\" xmlns=\"http://www.w3.org/2000/svg\" xmlns:xlink=\"http://www.w3.org/1999/xlink\">\n",
       " <metadata>\n",
       "  <rdf:RDF xmlns:cc=\"http://creativecommons.org/ns#\" xmlns:dc=\"http://purl.org/dc/elements/1.1/\" xmlns:rdf=\"http://www.w3.org/1999/02/22-rdf-syntax-ns#\">\n",
       "   <cc:Work>\n",
       "    <dc:type rdf:resource=\"http://purl.org/dc/dcmitype/StillImage\"/>\n",
       "    <dc:date>2021-07-04T07:35:05.336328</dc:date>\n",
       "    <dc:format>image/svg+xml</dc:format>\n",
       "    <dc:creator>\n",
       "     <cc:Agent>\n",
       "      <dc:title>Matplotlib v3.4.2, https://matplotlib.org/</dc:title>\n",
       "     </cc:Agent>\n",
       "    </dc:creator>\n",
       "   </cc:Work>\n",
       "  </rdf:RDF>\n",
       " </metadata>\n",
       " <defs>\n",
       "  <style type=\"text/css\">*{stroke-linecap:butt;stroke-linejoin:round;}</style>\n",
       " </defs>\n",
       " <g id=\"figure_1\">\n",
       "  <g id=\"patch_1\">\n",
       "   <path d=\"M 0 184.15625 \n",
       "L 252.965625 184.15625 \n",
       "L 252.965625 -0 \n",
       "L 0 -0 \n",
       "z\n",
       "\" style=\"fill:none;\"/>\n",
       "  </g>\n",
       "  <g id=\"axes_1\">\n",
       "   <g id=\"patch_2\">\n",
       "    <path d=\"M 46.965625 146.6 \n",
       "L 242.265625 146.6 \n",
       "L 242.265625 10.7 \n",
       "L 46.965625 10.7 \n",
       "z\n",
       "\" style=\"fill:#ffffff;\"/>\n",
       "   </g>\n",
       "   <g id=\"matplotlib.axis_1\">\n",
       "    <g id=\"xtick_1\">\n",
       "     <g id=\"line2d_1\">\n",
       "      <path clip-path=\"url(#p910ded5b3a)\" d=\"M 52.144034 146.6 \n",
       "L 52.144034 10.7 \n",
       "\" style=\"fill:none;stroke:#b0b0b0;stroke-linecap:square;stroke-width:0.8;\"/>\n",
       "     </g>\n",
       "     <g id=\"line2d_2\">\n",
       "      <defs>\n",
       "       <path d=\"M 0 0 \n",
       "L 0 3.5 \n",
       "\" id=\"ma4e1a56713\" style=\"stroke:#000000;stroke-width:0.8;\"/>\n",
       "      </defs>\n",
       "      <g>\n",
       "       <use style=\"stroke:#000000;stroke-width:0.8;\" x=\"52.144034\" xlink:href=\"#ma4e1a56713\" y=\"146.6\"/>\n",
       "      </g>\n",
       "     </g>\n",
       "     <g id=\"line2d_3\">\n",
       "      <defs>\n",
       "       <path d=\"M 0 0 \n",
       "L 0 -3.5 \n",
       "\" id=\"m1e7bd93d2b\" style=\"stroke:#000000;stroke-width:0.8;\"/>\n",
       "      </defs>\n",
       "      <g>\n",
       "       <use style=\"stroke:#000000;stroke-width:0.8;\" x=\"52.144034\" xlink:href=\"#m1e7bd93d2b\" y=\"10.7\"/>\n",
       "      </g>\n",
       "     </g>\n",
       "     <g id=\"text_1\">\n",
       "      <!-- 0 -->\n",
       "      <g transform=\"translate(48.962784 161.198437)scale(0.1 -0.1)\">\n",
       "       <defs>\n",
       "        <path d=\"M 2034 4250 \n",
       "Q 1547 4250 1301 3770 \n",
       "Q 1056 3291 1056 2328 \n",
       "Q 1056 1369 1301 889 \n",
       "Q 1547 409 2034 409 \n",
       "Q 2525 409 2770 889 \n",
       "Q 3016 1369 3016 2328 \n",
       "Q 3016 3291 2770 3770 \n",
       "Q 2525 4250 2034 4250 \n",
       "z\n",
       "M 2034 4750 \n",
       "Q 2819 4750 3233 4129 \n",
       "Q 3647 3509 3647 2328 \n",
       "Q 3647 1150 3233 529 \n",
       "Q 2819 -91 2034 -91 \n",
       "Q 1250 -91 836 529 \n",
       "Q 422 1150 422 2328 \n",
       "Q 422 3509 836 4129 \n",
       "Q 1250 4750 2034 4750 \n",
       "z\n",
       "\" id=\"DejaVuSans-30\" transform=\"scale(0.015625)\"/>\n",
       "       </defs>\n",
       "       <use xlink:href=\"#DejaVuSans-30\"/>\n",
       "      </g>\n",
       "     </g>\n",
       "    </g>\n",
       "    <g id=\"xtick_2\">\n",
       "     <g id=\"line2d_4\">\n",
       "      <path clip-path=\"url(#p910ded5b3a)\" d=\"M 113.791761 146.6 \n",
       "L 113.791761 10.7 \n",
       "\" style=\"fill:none;stroke:#b0b0b0;stroke-linecap:square;stroke-width:0.8;\"/>\n",
       "     </g>\n",
       "     <g id=\"line2d_5\">\n",
       "      <g>\n",
       "       <use style=\"stroke:#000000;stroke-width:0.8;\" x=\"113.791761\" xlink:href=\"#ma4e1a56713\" y=\"146.6\"/>\n",
       "      </g>\n",
       "     </g>\n",
       "     <g id=\"line2d_6\">\n",
       "      <g>\n",
       "       <use style=\"stroke:#000000;stroke-width:0.8;\" x=\"113.791761\" xlink:href=\"#m1e7bd93d2b\" y=\"10.7\"/>\n",
       "      </g>\n",
       "     </g>\n",
       "     <g id=\"text_2\">\n",
       "      <!-- 1 -->\n",
       "      <g transform=\"translate(110.610511 161.198437)scale(0.1 -0.1)\">\n",
       "       <defs>\n",
       "        <path d=\"M 794 531 \n",
       "L 1825 531 \n",
       "L 1825 4091 \n",
       "L 703 3866 \n",
       "L 703 4441 \n",
       "L 1819 4666 \n",
       "L 2450 4666 \n",
       "L 2450 531 \n",
       "L 3481 531 \n",
       "L 3481 0 \n",
       "L 794 0 \n",
       "L 794 531 \n",
       "z\n",
       "\" id=\"DejaVuSans-31\" transform=\"scale(0.015625)\"/>\n",
       "       </defs>\n",
       "       <use xlink:href=\"#DejaVuSans-31\"/>\n",
       "      </g>\n",
       "     </g>\n",
       "    </g>\n",
       "    <g id=\"xtick_3\">\n",
       "     <g id=\"line2d_7\">\n",
       "      <path clip-path=\"url(#p910ded5b3a)\" d=\"M 175.439489 146.6 \n",
       "L 175.439489 10.7 \n",
       "\" style=\"fill:none;stroke:#b0b0b0;stroke-linecap:square;stroke-width:0.8;\"/>\n",
       "     </g>\n",
       "     <g id=\"line2d_8\">\n",
       "      <g>\n",
       "       <use style=\"stroke:#000000;stroke-width:0.8;\" x=\"175.439489\" xlink:href=\"#ma4e1a56713\" y=\"146.6\"/>\n",
       "      </g>\n",
       "     </g>\n",
       "     <g id=\"line2d_9\">\n",
       "      <g>\n",
       "       <use style=\"stroke:#000000;stroke-width:0.8;\" x=\"175.439489\" xlink:href=\"#m1e7bd93d2b\" y=\"10.7\"/>\n",
       "      </g>\n",
       "     </g>\n",
       "     <g id=\"text_3\">\n",
       "      <!-- 2 -->\n",
       "      <g transform=\"translate(172.258239 161.198437)scale(0.1 -0.1)\">\n",
       "       <defs>\n",
       "        <path d=\"M 1228 531 \n",
       "L 3431 531 \n",
       "L 3431 0 \n",
       "L 469 0 \n",
       "L 469 531 \n",
       "Q 828 903 1448 1529 \n",
       "Q 2069 2156 2228 2338 \n",
       "Q 2531 2678 2651 2914 \n",
       "Q 2772 3150 2772 3378 \n",
       "Q 2772 3750 2511 3984 \n",
       "Q 2250 4219 1831 4219 \n",
       "Q 1534 4219 1204 4116 \n",
       "Q 875 4013 500 3803 \n",
       "L 500 4441 \n",
       "Q 881 4594 1212 4672 \n",
       "Q 1544 4750 1819 4750 \n",
       "Q 2544 4750 2975 4387 \n",
       "Q 3406 4025 3406 3419 \n",
       "Q 3406 3131 3298 2873 \n",
       "Q 3191 2616 2906 2266 \n",
       "Q 2828 2175 2409 1742 \n",
       "Q 1991 1309 1228 531 \n",
       "z\n",
       "\" id=\"DejaVuSans-32\" transform=\"scale(0.015625)\"/>\n",
       "       </defs>\n",
       "       <use xlink:href=\"#DejaVuSans-32\"/>\n",
       "      </g>\n",
       "     </g>\n",
       "    </g>\n",
       "    <g id=\"xtick_4\">\n",
       "     <g id=\"line2d_10\">\n",
       "      <path clip-path=\"url(#p910ded5b3a)\" d=\"M 237.087216 146.6 \n",
       "L 237.087216 10.7 \n",
       "\" style=\"fill:none;stroke:#b0b0b0;stroke-linecap:square;stroke-width:0.8;\"/>\n",
       "     </g>\n",
       "     <g id=\"line2d_11\">\n",
       "      <g>\n",
       "       <use style=\"stroke:#000000;stroke-width:0.8;\" x=\"237.087216\" xlink:href=\"#ma4e1a56713\" y=\"146.6\"/>\n",
       "      </g>\n",
       "     </g>\n",
       "     <g id=\"line2d_12\">\n",
       "      <g>\n",
       "       <use style=\"stroke:#000000;stroke-width:0.8;\" x=\"237.087216\" xlink:href=\"#m1e7bd93d2b\" y=\"10.7\"/>\n",
       "      </g>\n",
       "     </g>\n",
       "     <g id=\"text_4\">\n",
       "      <!-- 3 -->\n",
       "      <g transform=\"translate(233.905966 161.198437)scale(0.1 -0.1)\">\n",
       "       <defs>\n",
       "        <path d=\"M 2597 2516 \n",
       "Q 3050 2419 3304 2112 \n",
       "Q 3559 1806 3559 1356 \n",
       "Q 3559 666 3084 287 \n",
       "Q 2609 -91 1734 -91 \n",
       "Q 1441 -91 1130 -33 \n",
       "Q 819 25 488 141 \n",
       "L 488 750 \n",
       "Q 750 597 1062 519 \n",
       "Q 1375 441 1716 441 \n",
       "Q 2309 441 2620 675 \n",
       "Q 2931 909 2931 1356 \n",
       "Q 2931 1769 2642 2001 \n",
       "Q 2353 2234 1838 2234 \n",
       "L 1294 2234 \n",
       "L 1294 2753 \n",
       "L 1863 2753 \n",
       "Q 2328 2753 2575 2939 \n",
       "Q 2822 3125 2822 3475 \n",
       "Q 2822 3834 2567 4026 \n",
       "Q 2313 4219 1838 4219 \n",
       "Q 1578 4219 1281 4162 \n",
       "Q 984 4106 628 3988 \n",
       "L 628 4550 \n",
       "Q 988 4650 1302 4700 \n",
       "Q 1616 4750 1894 4750 \n",
       "Q 2613 4750 3031 4423 \n",
       "Q 3450 4097 3450 3541 \n",
       "Q 3450 3153 3228 2886 \n",
       "Q 3006 2619 2597 2516 \n",
       "z\n",
       "\" id=\"DejaVuSans-33\" transform=\"scale(0.015625)\"/>\n",
       "       </defs>\n",
       "       <use xlink:href=\"#DejaVuSans-33\"/>\n",
       "      </g>\n",
       "     </g>\n",
       "    </g>\n",
       "    <g id=\"text_5\">\n",
       "     <!-- x -->\n",
       "     <g transform=\"translate(141.65625 174.876562)scale(0.1 -0.1)\">\n",
       "      <defs>\n",
       "       <path d=\"M 3513 3500 \n",
       "L 2247 1797 \n",
       "L 3578 0 \n",
       "L 2900 0 \n",
       "L 1881 1375 \n",
       "L 863 0 \n",
       "L 184 0 \n",
       "L 1544 1831 \n",
       "L 300 3500 \n",
       "L 978 3500 \n",
       "L 1906 2253 \n",
       "L 2834 3500 \n",
       "L 3513 3500 \n",
       "z\n",
       "\" id=\"DejaVuSans-78\" transform=\"scale(0.015625)\"/>\n",
       "      </defs>\n",
       "      <use xlink:href=\"#DejaVuSans-78\"/>\n",
       "     </g>\n",
       "    </g>\n",
       "   </g>\n",
       "   <g id=\"matplotlib.axis_2\">\n",
       "    <g id=\"ytick_1\">\n",
       "     <g id=\"line2d_13\">\n",
       "      <path clip-path=\"url(#p910ded5b3a)\" d=\"M 46.965625 133.42993 \n",
       "L 242.265625 133.42993 \n",
       "\" style=\"fill:none;stroke:#b0b0b0;stroke-linecap:square;stroke-width:0.8;\"/>\n",
       "     </g>\n",
       "     <g id=\"line2d_14\">\n",
       "      <defs>\n",
       "       <path d=\"M 0 0 \n",
       "L -3.5 0 \n",
       "\" id=\"mb736eed145\" style=\"stroke:#000000;stroke-width:0.8;\"/>\n",
       "      </defs>\n",
       "      <g>\n",
       "       <use style=\"stroke:#000000;stroke-width:0.8;\" x=\"46.965625\" xlink:href=\"#mb736eed145\" y=\"133.42993\"/>\n",
       "      </g>\n",
       "     </g>\n",
       "     <g id=\"line2d_15\">\n",
       "      <defs>\n",
       "       <path d=\"M 0 0 \n",
       "L 3.5 0 \n",
       "\" id=\"m2ce20b17d2\" style=\"stroke:#000000;stroke-width:0.8;\"/>\n",
       "      </defs>\n",
       "      <g>\n",
       "       <use style=\"stroke:#000000;stroke-width:0.8;\" x=\"242.265625\" xlink:href=\"#m2ce20b17d2\" y=\"133.42993\"/>\n",
       "      </g>\n",
       "     </g>\n",
       "     <g id=\"text_6\">\n",
       "      <!-- 0 -->\n",
       "      <g transform=\"translate(33.603125 137.229149)scale(0.1 -0.1)\">\n",
       "       <use xlink:href=\"#DejaVuSans-30\"/>\n",
       "      </g>\n",
       "     </g>\n",
       "    </g>\n",
       "    <g id=\"ytick_2\">\n",
       "     <g id=\"line2d_16\">\n",
       "      <path clip-path=\"url(#p910ded5b3a)\" d=\"M 46.965625 91.472605 \n",
       "L 242.265625 91.472605 \n",
       "\" style=\"fill:none;stroke:#b0b0b0;stroke-linecap:square;stroke-width:0.8;\"/>\n",
       "     </g>\n",
       "     <g id=\"line2d_17\">\n",
       "      <g>\n",
       "       <use style=\"stroke:#000000;stroke-width:0.8;\" x=\"46.965625\" xlink:href=\"#mb736eed145\" y=\"91.472605\"/>\n",
       "      </g>\n",
       "     </g>\n",
       "     <g id=\"line2d_18\">\n",
       "      <g>\n",
       "       <use style=\"stroke:#000000;stroke-width:0.8;\" x=\"242.265625\" xlink:href=\"#m2ce20b17d2\" y=\"91.472605\"/>\n",
       "      </g>\n",
       "     </g>\n",
       "     <g id=\"text_7\">\n",
       "      <!-- 100 -->\n",
       "      <g transform=\"translate(20.878125 95.271824)scale(0.1 -0.1)\">\n",
       "       <use xlink:href=\"#DejaVuSans-31\"/>\n",
       "       <use x=\"63.623047\" xlink:href=\"#DejaVuSans-30\"/>\n",
       "       <use x=\"127.246094\" xlink:href=\"#DejaVuSans-30\"/>\n",
       "      </g>\n",
       "     </g>\n",
       "    </g>\n",
       "    <g id=\"ytick_3\">\n",
       "     <g id=\"line2d_19\">\n",
       "      <path clip-path=\"url(#p910ded5b3a)\" d=\"M 46.965625 49.515279 \n",
       "L 242.265625 49.515279 \n",
       "\" style=\"fill:none;stroke:#b0b0b0;stroke-linecap:square;stroke-width:0.8;\"/>\n",
       "     </g>\n",
       "     <g id=\"line2d_20\">\n",
       "      <g>\n",
       "       <use style=\"stroke:#000000;stroke-width:0.8;\" x=\"46.965625\" xlink:href=\"#mb736eed145\" y=\"49.515279\"/>\n",
       "      </g>\n",
       "     </g>\n",
       "     <g id=\"line2d_21\">\n",
       "      <g>\n",
       "       <use style=\"stroke:#000000;stroke-width:0.8;\" x=\"242.265625\" xlink:href=\"#m2ce20b17d2\" y=\"49.515279\"/>\n",
       "      </g>\n",
       "     </g>\n",
       "     <g id=\"text_8\">\n",
       "      <!-- 200 -->\n",
       "      <g transform=\"translate(20.878125 53.314498)scale(0.1 -0.1)\">\n",
       "       <use xlink:href=\"#DejaVuSans-32\"/>\n",
       "       <use x=\"63.623047\" xlink:href=\"#DejaVuSans-30\"/>\n",
       "       <use x=\"127.246094\" xlink:href=\"#DejaVuSans-30\"/>\n",
       "      </g>\n",
       "     </g>\n",
       "    </g>\n",
       "    <g id=\"text_9\">\n",
       "     <!-- f(x) -->\n",
       "     <g transform=\"translate(14.798438 87.271094)rotate(-90)scale(0.1 -0.1)\">\n",
       "      <defs>\n",
       "       <path d=\"M 2375 4863 \n",
       "L 2375 4384 \n",
       "L 1825 4384 \n",
       "Q 1516 4384 1395 4259 \n",
       "Q 1275 4134 1275 3809 \n",
       "L 1275 3500 \n",
       "L 2222 3500 \n",
       "L 2222 3053 \n",
       "L 1275 3053 \n",
       "L 1275 0 \n",
       "L 697 0 \n",
       "L 697 3053 \n",
       "L 147 3053 \n",
       "L 147 3500 \n",
       "L 697 3500 \n",
       "L 697 3744 \n",
       "Q 697 4328 969 4595 \n",
       "Q 1241 4863 1831 4863 \n",
       "L 2375 4863 \n",
       "z\n",
       "\" id=\"DejaVuSans-66\" transform=\"scale(0.015625)\"/>\n",
       "       <path d=\"M 1984 4856 \n",
       "Q 1566 4138 1362 3434 \n",
       "Q 1159 2731 1159 2009 \n",
       "Q 1159 1288 1364 580 \n",
       "Q 1569 -128 1984 -844 \n",
       "L 1484 -844 \n",
       "Q 1016 -109 783 600 \n",
       "Q 550 1309 550 2009 \n",
       "Q 550 2706 781 3412 \n",
       "Q 1013 4119 1484 4856 \n",
       "L 1984 4856 \n",
       "z\n",
       "\" id=\"DejaVuSans-28\" transform=\"scale(0.015625)\"/>\n",
       "       <path d=\"M 513 4856 \n",
       "L 1013 4856 \n",
       "Q 1481 4119 1714 3412 \n",
       "Q 1947 2706 1947 2009 \n",
       "Q 1947 1309 1714 600 \n",
       "Q 1481 -109 1013 -844 \n",
       "L 513 -844 \n",
       "Q 928 -128 1133 580 \n",
       "Q 1338 1288 1338 2009 \n",
       "Q 1338 2731 1133 3434 \n",
       "Q 928 4138 513 4856 \n",
       "z\n",
       "\" id=\"DejaVuSans-29\" transform=\"scale(0.015625)\"/>\n",
       "      </defs>\n",
       "      <use xlink:href=\"#DejaVuSans-66\"/>\n",
       "      <use x=\"35.205078\" xlink:href=\"#DejaVuSans-28\"/>\n",
       "      <use x=\"74.21875\" xlink:href=\"#DejaVuSans-78\"/>\n",
       "      <use x=\"133.398438\" xlink:href=\"#DejaVuSans-29\"/>\n",
       "     </g>\n",
       "    </g>\n",
       "   </g>\n",
       "   <g id=\"line2d_22\">\n",
       "    <path clip-path=\"url(#p910ded5b3a)\" d=\"M 55.842898 140.422727 \n",
       "L 59.541761 136.925649 \n",
       "L 63.240625 135.758446 \n",
       "L 66.939489 135.172352 \n",
       "L 70.638352 134.817179 \n",
       "L 74.337216 134.575836 \n",
       "L 78.03608 134.397829 \n",
       "L 81.734943 134.25764 \n",
       "L 85.433807 134.14085 \n",
       "L 89.13267 134.038591 \n",
       "L 92.831534 133.945022 \n",
       "L 96.530398 133.856066 \n",
       "L 100.229261 133.768735 \n",
       "L 103.928125 133.68074 \n",
       "L 107.626989 133.590254 \n",
       "L 111.325852 133.495774 \n",
       "L 115.024716 133.396022 \n",
       "L 118.72358 133.289883 \n",
       "L 122.422443 133.176361 \n",
       "L 126.121307 133.054552 \n",
       "L 129.82017 132.923621 \n",
       "L 133.519034 132.782784 \n",
       "L 137.217898 132.6313 \n",
       "L 140.916761 132.468462 \n",
       "L 144.615625 132.293586 \n",
       "L 148.314489 132.106013 \n",
       "L 152.013352 131.905099 \n",
       "L 155.712216 131.690214 \n",
       "L 159.41108 131.460742 \n",
       "L 163.109943 131.216075 \n",
       "L 166.808807 130.955614 \n",
       "L 170.50767 130.678766 \n",
       "L 174.206534 130.384944 \n",
       "L 177.905398 130.073568 \n",
       "L 181.604261 129.744059 \n",
       "L 185.303125 129.395845 \n",
       "L 189.001989 129.028356 \n",
       "L 192.700852 128.641024 \n",
       "L 196.399716 128.233283 \n",
       "L 200.09858 127.804572 \n",
       "L 203.797443 127.354328 \n",
       "L 207.496307 126.881994 \n",
       "L 211.19517 126.387009 \n",
       "L 214.894034 125.868819 \n",
       "L 218.592898 125.326867 \n",
       "L 222.291761 124.7606 \n",
       "L 225.990625 124.169463 \n",
       "L 229.689489 123.552903 \n",
       "L 233.388352 122.91037 \n",
       "\" style=\"fill:none;stroke:#1f77b4;stroke-linecap:square;stroke-width:1.5;\"/>\n",
       "   </g>\n",
       "   <g id=\"line2d_23\">\n",
       "    <path clip-path=\"url(#p910ded5b3a)\" d=\"M 55.842898 16.877273 \n",
       "L 59.541761 104.274773 \n",
       "L 63.240625 120.439356 \n",
       "L 66.939489 126.07317 \n",
       "L 70.638352 128.654721 \n",
       "L 74.337216 130.029352 \n",
       "L 78.03608 130.829359 \n",
       "L 81.734943 131.318857 \n",
       "L 85.433807 131.624022 \n",
       "L 89.13267 131.81131 \n",
       "L 92.831534 131.918424 \n",
       "L 96.530398 131.968048 \n",
       "L 100.229261 131.974491 \n",
       "L 103.928125 131.947144 \n",
       "L 107.626989 131.892376 \n",
       "L 111.325852 131.814628 \n",
       "L 115.024716 131.717078 \n",
       "L 118.72358 131.602043 \n",
       "L 122.422443 131.47125 \n",
       "L 126.121307 131.326004 \n",
       "L 129.82017 131.167305 \n",
       "L 133.519034 130.995935 \n",
       "L 137.217898 130.812507 \n",
       "L 140.916761 130.617509 \n",
       "L 144.615625 130.411334 \n",
       "L 148.314489 130.194301 \n",
       "L 152.013352 129.966672 \n",
       "L 155.712216 129.728661 \n",
       "L 159.41108 129.480448 \n",
       "L 163.109943 129.22218 \n",
       "L 166.808807 128.953985 \n",
       "L 170.50767 128.675969 \n",
       "L 174.206534 128.388222 \n",
       "L 177.905398 128.090822 \n",
       "L 181.604261 127.783835 \n",
       "L 185.303125 127.467318 \n",
       "L 189.001989 127.141322 \n",
       "L 192.700852 126.80589 \n",
       "L 196.399716 126.461058 \n",
       "L 200.09858 126.106862 \n",
       "L 203.797443 125.743329 \n",
       "L 207.496307 125.370486 \n",
       "L 211.19517 124.988355 \n",
       "L 214.894034 124.596957 \n",
       "L 218.592898 124.196309 \n",
       "L 222.291761 123.786427 \n",
       "L 225.990625 123.367327 \n",
       "L 229.689489 122.93902 \n",
       "L 233.388352 122.501519 \n",
       "\" style=\"fill:none;stroke:#bf00bf;stroke-dasharray:5.55,2.4;stroke-dashoffset:0;stroke-width:1.5;\"/>\n",
       "   </g>\n",
       "   <g id=\"patch_3\">\n",
       "    <path d=\"M 46.965625 146.6 \n",
       "L 46.965625 10.7 \n",
       "\" style=\"fill:none;stroke:#000000;stroke-linecap:square;stroke-linejoin:miter;stroke-width:0.8;\"/>\n",
       "   </g>\n",
       "   <g id=\"patch_4\">\n",
       "    <path d=\"M 242.265625 146.6 \n",
       "L 242.265625 10.7 \n",
       "\" style=\"fill:none;stroke:#000000;stroke-linecap:square;stroke-linejoin:miter;stroke-width:0.8;\"/>\n",
       "   </g>\n",
       "   <g id=\"patch_5\">\n",
       "    <path d=\"M 46.965625 146.6 \n",
       "L 242.265625 146.6 \n",
       "\" style=\"fill:none;stroke:#000000;stroke-linecap:square;stroke-linejoin:miter;stroke-width:0.8;\"/>\n",
       "   </g>\n",
       "   <g id=\"patch_6\">\n",
       "    <path d=\"M 46.965625 10.7 \n",
       "L 242.265625 10.7 \n",
       "\" style=\"fill:none;stroke:#000000;stroke-linecap:square;stroke-linejoin:miter;stroke-width:0.8;\"/>\n",
       "   </g>\n",
       "   <g id=\"legend_1\">\n",
       "    <g id=\"patch_7\">\n",
       "     <path d=\"M 110.715625 48.05625 \n",
       "L 235.265625 48.05625 \n",
       "Q 237.265625 48.05625 237.265625 46.05625 \n",
       "L 237.265625 17.7 \n",
       "Q 237.265625 15.7 235.265625 15.7 \n",
       "L 110.715625 15.7 \n",
       "Q 108.715625 15.7 108.715625 17.7 \n",
       "L 108.715625 46.05625 \n",
       "Q 108.715625 48.05625 110.715625 48.05625 \n",
       "z\n",
       "\" style=\"fill:#ffffff;opacity:0.8;stroke:#cccccc;stroke-linejoin:miter;\"/>\n",
       "    </g>\n",
       "    <g id=\"line2d_24\">\n",
       "     <path d=\"M 112.715625 23.798437 \n",
       "L 132.715625 23.798437 \n",
       "\" style=\"fill:none;stroke:#1f77b4;stroke-linecap:square;stroke-width:1.5;\"/>\n",
       "    </g>\n",
       "    <g id=\"line2d_25\"/>\n",
       "    <g id=\"text_10\">\n",
       "     <!-- f(x) -->\n",
       "     <g transform=\"translate(140.715625 27.298437)scale(0.1 -0.1)\">\n",
       "      <use xlink:href=\"#DejaVuSans-66\"/>\n",
       "      <use x=\"35.205078\" xlink:href=\"#DejaVuSans-28\"/>\n",
       "      <use x=\"74.21875\" xlink:href=\"#DejaVuSans-78\"/>\n",
       "      <use x=\"133.398438\" xlink:href=\"#DejaVuSans-29\"/>\n",
       "     </g>\n",
       "    </g>\n",
       "    <g id=\"line2d_26\">\n",
       "     <path d=\"M 112.715625 38.476562 \n",
       "L 132.715625 38.476562 \n",
       "\" style=\"fill:none;stroke:#bf00bf;stroke-dasharray:5.55,2.4;stroke-dashoffset:0;stroke-width:1.5;\"/>\n",
       "    </g>\n",
       "    <g id=\"line2d_27\"/>\n",
       "    <g id=\"text_11\">\n",
       "     <!-- Tangent line (x=1) -->\n",
       "     <g transform=\"translate(140.715625 41.976562)scale(0.1 -0.1)\">\n",
       "      <defs>\n",
       "       <path d=\"M -19 4666 \n",
       "L 3928 4666 \n",
       "L 3928 4134 \n",
       "L 2272 4134 \n",
       "L 2272 0 \n",
       "L 1638 0 \n",
       "L 1638 4134 \n",
       "L -19 4134 \n",
       "L -19 4666 \n",
       "z\n",
       "\" id=\"DejaVuSans-54\" transform=\"scale(0.015625)\"/>\n",
       "       <path d=\"M 2194 1759 \n",
       "Q 1497 1759 1228 1600 \n",
       "Q 959 1441 959 1056 \n",
       "Q 959 750 1161 570 \n",
       "Q 1363 391 1709 391 \n",
       "Q 2188 391 2477 730 \n",
       "Q 2766 1069 2766 1631 \n",
       "L 2766 1759 \n",
       "L 2194 1759 \n",
       "z\n",
       "M 3341 1997 \n",
       "L 3341 0 \n",
       "L 2766 0 \n",
       "L 2766 531 \n",
       "Q 2569 213 2275 61 \n",
       "Q 1981 -91 1556 -91 \n",
       "Q 1019 -91 701 211 \n",
       "Q 384 513 384 1019 \n",
       "Q 384 1609 779 1909 \n",
       "Q 1175 2209 1959 2209 \n",
       "L 2766 2209 \n",
       "L 2766 2266 \n",
       "Q 2766 2663 2505 2880 \n",
       "Q 2244 3097 1772 3097 \n",
       "Q 1472 3097 1187 3025 \n",
       "Q 903 2953 641 2809 \n",
       "L 641 3341 \n",
       "Q 956 3463 1253 3523 \n",
       "Q 1550 3584 1831 3584 \n",
       "Q 2591 3584 2966 3190 \n",
       "Q 3341 2797 3341 1997 \n",
       "z\n",
       "\" id=\"DejaVuSans-61\" transform=\"scale(0.015625)\"/>\n",
       "       <path d=\"M 3513 2113 \n",
       "L 3513 0 \n",
       "L 2938 0 \n",
       "L 2938 2094 \n",
       "Q 2938 2591 2744 2837 \n",
       "Q 2550 3084 2163 3084 \n",
       "Q 1697 3084 1428 2787 \n",
       "Q 1159 2491 1159 1978 \n",
       "L 1159 0 \n",
       "L 581 0 \n",
       "L 581 3500 \n",
       "L 1159 3500 \n",
       "L 1159 2956 \n",
       "Q 1366 3272 1645 3428 \n",
       "Q 1925 3584 2291 3584 \n",
       "Q 2894 3584 3203 3211 \n",
       "Q 3513 2838 3513 2113 \n",
       "z\n",
       "\" id=\"DejaVuSans-6e\" transform=\"scale(0.015625)\"/>\n",
       "       <path d=\"M 2906 1791 \n",
       "Q 2906 2416 2648 2759 \n",
       "Q 2391 3103 1925 3103 \n",
       "Q 1463 3103 1205 2759 \n",
       "Q 947 2416 947 1791 \n",
       "Q 947 1169 1205 825 \n",
       "Q 1463 481 1925 481 \n",
       "Q 2391 481 2648 825 \n",
       "Q 2906 1169 2906 1791 \n",
       "z\n",
       "M 3481 434 \n",
       "Q 3481 -459 3084 -895 \n",
       "Q 2688 -1331 1869 -1331 \n",
       "Q 1566 -1331 1297 -1286 \n",
       "Q 1028 -1241 775 -1147 \n",
       "L 775 -588 \n",
       "Q 1028 -725 1275 -790 \n",
       "Q 1522 -856 1778 -856 \n",
       "Q 2344 -856 2625 -561 \n",
       "Q 2906 -266 2906 331 \n",
       "L 2906 616 \n",
       "Q 2728 306 2450 153 \n",
       "Q 2172 0 1784 0 \n",
       "Q 1141 0 747 490 \n",
       "Q 353 981 353 1791 \n",
       "Q 353 2603 747 3093 \n",
       "Q 1141 3584 1784 3584 \n",
       "Q 2172 3584 2450 3431 \n",
       "Q 2728 3278 2906 2969 \n",
       "L 2906 3500 \n",
       "L 3481 3500 \n",
       "L 3481 434 \n",
       "z\n",
       "\" id=\"DejaVuSans-67\" transform=\"scale(0.015625)\"/>\n",
       "       <path d=\"M 3597 1894 \n",
       "L 3597 1613 \n",
       "L 953 1613 \n",
       "Q 991 1019 1311 708 \n",
       "Q 1631 397 2203 397 \n",
       "Q 2534 397 2845 478 \n",
       "Q 3156 559 3463 722 \n",
       "L 3463 178 \n",
       "Q 3153 47 2828 -22 \n",
       "Q 2503 -91 2169 -91 \n",
       "Q 1331 -91 842 396 \n",
       "Q 353 884 353 1716 \n",
       "Q 353 2575 817 3079 \n",
       "Q 1281 3584 2069 3584 \n",
       "Q 2775 3584 3186 3129 \n",
       "Q 3597 2675 3597 1894 \n",
       "z\n",
       "M 3022 2063 \n",
       "Q 3016 2534 2758 2815 \n",
       "Q 2500 3097 2075 3097 \n",
       "Q 1594 3097 1305 2825 \n",
       "Q 1016 2553 972 2059 \n",
       "L 3022 2063 \n",
       "z\n",
       "\" id=\"DejaVuSans-65\" transform=\"scale(0.015625)\"/>\n",
       "       <path d=\"M 1172 4494 \n",
       "L 1172 3500 \n",
       "L 2356 3500 \n",
       "L 2356 3053 \n",
       "L 1172 3053 \n",
       "L 1172 1153 \n",
       "Q 1172 725 1289 603 \n",
       "Q 1406 481 1766 481 \n",
       "L 2356 481 \n",
       "L 2356 0 \n",
       "L 1766 0 \n",
       "Q 1100 0 847 248 \n",
       "Q 594 497 594 1153 \n",
       "L 594 3053 \n",
       "L 172 3053 \n",
       "L 172 3500 \n",
       "L 594 3500 \n",
       "L 594 4494 \n",
       "L 1172 4494 \n",
       "z\n",
       "\" id=\"DejaVuSans-74\" transform=\"scale(0.015625)\"/>\n",
       "       <path id=\"DejaVuSans-20\" transform=\"scale(0.015625)\"/>\n",
       "       <path d=\"M 603 4863 \n",
       "L 1178 4863 \n",
       "L 1178 0 \n",
       "L 603 0 \n",
       "L 603 4863 \n",
       "z\n",
       "\" id=\"DejaVuSans-6c\" transform=\"scale(0.015625)\"/>\n",
       "       <path d=\"M 603 3500 \n",
       "L 1178 3500 \n",
       "L 1178 0 \n",
       "L 603 0 \n",
       "L 603 3500 \n",
       "z\n",
       "M 603 4863 \n",
       "L 1178 4863 \n",
       "L 1178 4134 \n",
       "L 603 4134 \n",
       "L 603 4863 \n",
       "z\n",
       "\" id=\"DejaVuSans-69\" transform=\"scale(0.015625)\"/>\n",
       "       <path d=\"M 678 2906 \n",
       "L 4684 2906 \n",
       "L 4684 2381 \n",
       "L 678 2381 \n",
       "L 678 2906 \n",
       "z\n",
       "M 678 1631 \n",
       "L 4684 1631 \n",
       "L 4684 1100 \n",
       "L 678 1100 \n",
       "L 678 1631 \n",
       "z\n",
       "\" id=\"DejaVuSans-3d\" transform=\"scale(0.015625)\"/>\n",
       "      </defs>\n",
       "      <use xlink:href=\"#DejaVuSans-54\"/>\n",
       "      <use x=\"44.583984\" xlink:href=\"#DejaVuSans-61\"/>\n",
       "      <use x=\"105.863281\" xlink:href=\"#DejaVuSans-6e\"/>\n",
       "      <use x=\"169.242188\" xlink:href=\"#DejaVuSans-67\"/>\n",
       "      <use x=\"232.71875\" xlink:href=\"#DejaVuSans-65\"/>\n",
       "      <use x=\"294.242188\" xlink:href=\"#DejaVuSans-6e\"/>\n",
       "      <use x=\"357.621094\" xlink:href=\"#DejaVuSans-74\"/>\n",
       "      <use x=\"396.830078\" xlink:href=\"#DejaVuSans-20\"/>\n",
       "      <use x=\"428.617188\" xlink:href=\"#DejaVuSans-6c\"/>\n",
       "      <use x=\"456.400391\" xlink:href=\"#DejaVuSans-69\"/>\n",
       "      <use x=\"484.183594\" xlink:href=\"#DejaVuSans-6e\"/>\n",
       "      <use x=\"547.5625\" xlink:href=\"#DejaVuSans-65\"/>\n",
       "      <use x=\"609.085938\" xlink:href=\"#DejaVuSans-20\"/>\n",
       "      <use x=\"640.873047\" xlink:href=\"#DejaVuSans-28\"/>\n",
       "      <use x=\"679.886719\" xlink:href=\"#DejaVuSans-78\"/>\n",
       "      <use x=\"739.066406\" xlink:href=\"#DejaVuSans-3d\"/>\n",
       "      <use x=\"822.855469\" xlink:href=\"#DejaVuSans-31\"/>\n",
       "      <use x=\"886.478516\" xlink:href=\"#DejaVuSans-29\"/>\n",
       "     </g>\n",
       "    </g>\n",
       "   </g>\n",
       "  </g>\n",
       " </g>\n",
       " <defs>\n",
       "  <clipPath id=\"p910ded5b3a\">\n",
       "   <rect height=\"135.9\" width=\"195.3\" x=\"46.965625\" y=\"10.7\"/>\n",
       "  </clipPath>\n",
       " </defs>\n",
       "</svg>\n"
      ],
      "text/plain": [
       "<Figure size 252x180 with 1 Axes>"
      ]
     },
     "metadata": {
      "needs_background": "light"
     },
     "output_type": "display_data"
    }
   ],
   "source": [
    "x = np.arange(0, 3, 0.06)\n",
    "plot(x, [f(x), f_der(x)],\n",
    "     xlabel='x', ylabel='f(x)', \n",
    "     legend=['f(x)', 'Tangent line (x=1)'])\n"
   ]
  },
  {
   "cell_type": "markdown",
   "id": "b6330b4f",
   "metadata": {},
   "source": [
    "### Differentiation, Gradients using tensor flow API"
   ]
  },
  {
   "cell_type": "code",
   "execution_count": 145,
   "id": "366c1d63",
   "metadata": {},
   "outputs": [],
   "source": [
    "x = torch.arange(4.0)"
   ]
  },
  {
   "cell_type": "code",
   "execution_count": 146,
   "id": "d453cc37",
   "metadata": {},
   "outputs": [
    {
     "data": {
      "text/plain": [
       "tensor([0., 1., 2., 3.])"
      ]
     },
     "execution_count": 146,
     "metadata": {},
     "output_type": "execute_result"
    }
   ],
   "source": [
    "x"
   ]
  },
  {
   "cell_type": "code",
   "execution_count": 147,
   "id": "2b1db86b",
   "metadata": {},
   "outputs": [
    {
     "data": {
      "text/plain": [
       "tensor([0., 1., 2., 3.], requires_grad=True)"
      ]
     },
     "execution_count": 147,
     "metadata": {},
     "output_type": "execute_result"
    }
   ],
   "source": [
    "x.requires_grad_(True)  # store gradients on same memory"
   ]
  },
  {
   "cell_type": "code",
   "execution_count": 148,
   "id": "e7973ba2",
   "metadata": {},
   "outputs": [
    {
     "name": "stdout",
     "output_type": "stream",
     "text": [
      "None\n"
     ]
    }
   ],
   "source": [
    "print(x.grad)   # first time, it will be none until backward is called."
   ]
  },
  {
   "cell_type": "code",
   "execution_count": 149,
   "id": "3399e7b8",
   "metadata": {},
   "outputs": [],
   "source": [
    "y = 2 * torch.dot(x, x)"
   ]
  },
  {
   "cell_type": "code",
   "execution_count": 150,
   "id": "2be46e47",
   "metadata": {},
   "outputs": [
    {
     "data": {
      "text/plain": [
       "tensor(28., grad_fn=<MulBackward0>)"
      ]
     },
     "execution_count": 150,
     "metadata": {},
     "output_type": "execute_result"
    }
   ],
   "source": [
    "y"
   ]
  },
  {
   "cell_type": "code",
   "execution_count": 151,
   "id": "1c2b559e",
   "metadata": {},
   "outputs": [],
   "source": [
    "y.backward()"
   ]
  },
  {
   "cell_type": "code",
   "execution_count": 152,
   "id": "1e9565ff",
   "metadata": {},
   "outputs": [
    {
     "data": {
      "text/plain": [
       "tensor([ 0.,  4.,  8., 12.])"
      ]
     },
     "execution_count": 152,
     "metadata": {},
     "output_type": "execute_result"
    }
   ],
   "source": [
    "x.grad"
   ]
  },
  {
   "cell_type": "code",
   "execution_count": 153,
   "id": "d6a73809",
   "metadata": {},
   "outputs": [
    {
     "data": {
      "text/plain": [
       "tensor([True, True, True, True])"
      ]
     },
     "execution_count": 153,
     "metadata": {},
     "output_type": "execute_result"
    }
   ],
   "source": [
    "x.grad == 4 * x"
   ]
  },
  {
   "cell_type": "code",
   "execution_count": 154,
   "id": "247423d6",
   "metadata": {},
   "outputs": [
    {
     "data": {
      "text/plain": [
       "tensor([0., 0., 0., 0.])"
      ]
     },
     "execution_count": 154,
     "metadata": {},
     "output_type": "execute_result"
    }
   ],
   "source": [
    "x.grad.zero_()   # reset the gradient value"
   ]
  },
  {
   "cell_type": "code",
   "execution_count": 155,
   "id": "aa6e9c70",
   "metadata": {},
   "outputs": [],
   "source": [
    "y = x.sum()"
   ]
  },
  {
   "cell_type": "code",
   "execution_count": 156,
   "id": "eb4a2770",
   "metadata": {},
   "outputs": [
    {
     "name": "stdout",
     "output_type": "stream",
     "text": [
      "tensor(6., grad_fn=<SumBackward0>)\n"
     ]
    }
   ],
   "source": [
    "print(y)"
   ]
  },
  {
   "cell_type": "code",
   "execution_count": 157,
   "id": "04b74fc1",
   "metadata": {},
   "outputs": [],
   "source": [
    "y.backward()"
   ]
  },
  {
   "cell_type": "code",
   "execution_count": 158,
   "id": "55f2d0d1",
   "metadata": {},
   "outputs": [
    {
     "data": {
      "text/plain": [
       "tensor([1., 1., 1., 1.])"
      ]
     },
     "execution_count": 158,
     "metadata": {},
     "output_type": "execute_result"
    }
   ],
   "source": [
    "x.grad"
   ]
  },
  {
   "cell_type": "markdown",
   "id": "9e4d34c5",
   "metadata": {},
   "source": [
    "### Probability"
   ]
  },
  {
   "cell_type": "code",
   "execution_count": 159,
   "id": "8d3920be",
   "metadata": {},
   "outputs": [],
   "source": [
    "from torch.distributions import multinomial"
   ]
  },
  {
   "cell_type": "code",
   "execution_count": 160,
   "id": "079f9ecb",
   "metadata": {},
   "outputs": [],
   "source": [
    "fair_probs = torch.ones([6]) / 6"
   ]
  },
  {
   "cell_type": "code",
   "execution_count": 161,
   "id": "2ebbcbc4",
   "metadata": {},
   "outputs": [
    {
     "data": {
      "text/plain": [
       "tensor([0., 0., 1., 0., 0., 0.])"
      ]
     },
     "execution_count": 161,
     "metadata": {},
     "output_type": "execute_result"
    }
   ],
   "source": [
    "multinomial.Multinomial(1, fair_probs).sample()"
   ]
  },
  {
   "cell_type": "code",
   "execution_count": 162,
   "id": "6789a917",
   "metadata": {},
   "outputs": [
    {
     "data": {
      "text/plain": [
       "tensor([0., 0., 0., 0., 0., 1.])"
      ]
     },
     "execution_count": 162,
     "metadata": {},
     "output_type": "execute_result"
    }
   ],
   "source": [
    "multinomial.Multinomial(1, fair_probs).sample()"
   ]
  },
  {
   "cell_type": "code",
   "execution_count": 163,
   "id": "72c607f8",
   "metadata": {},
   "outputs": [
    {
     "data": {
      "text/plain": [
       "tensor([0., 0., 1., 0., 0., 0.])"
      ]
     },
     "execution_count": 163,
     "metadata": {},
     "output_type": "execute_result"
    }
   ],
   "source": [
    "multinomial.Multinomial(1, fair_probs).sample()"
   ]
  },
  {
   "cell_type": "code",
   "execution_count": 164,
   "id": "7c7418c8",
   "metadata": {},
   "outputs": [
    {
     "data": {
      "text/plain": [
       "tensor([1., 0., 3., 2., 3., 1.])"
      ]
     },
     "execution_count": 164,
     "metadata": {},
     "output_type": "execute_result"
    }
   ],
   "source": [
    "multinomial.Multinomial(10, fair_probs).sample()"
   ]
  },
  {
   "cell_type": "code",
   "execution_count": 165,
   "id": "df52bc91",
   "metadata": {},
   "outputs": [
    {
     "data": {
      "text/plain": [
       "tensor([0.1530, 0.1960, 0.1610, 0.1650, 0.1580, 0.1670])"
      ]
     },
     "execution_count": 165,
     "metadata": {},
     "output_type": "execute_result"
    }
   ],
   "source": [
    "counts = multinomial.Multinomial(1000, fair_probs).sample()\n",
    "counts / 1000"
   ]
  },
  {
   "cell_type": "code",
   "execution_count": 166,
   "id": "a9be3171",
   "metadata": {},
   "outputs": [],
   "source": [
    "counts = multinomial.Multinomial(10, fair_probs).sample((500,))"
   ]
  },
  {
   "cell_type": "code",
   "execution_count": 167,
   "id": "608afac3",
   "metadata": {},
   "outputs": [
    {
     "data": {
      "text/plain": [
       "(tensor([[4., 2., 0., 2., 1., 1.],\n",
       "         [3., 0., 1., 1., 4., 1.],\n",
       "         [2., 1., 1., 3., 2., 1.],\n",
       "         [2., 0., 1., 1., 3., 3.],\n",
       "         [3., 2., 1., 0., 3., 1.],\n",
       "         [0., 0., 5., 0., 1., 4.]]),\n",
       " torch.Size([500, 6]))"
      ]
     },
     "execution_count": 167,
     "metadata": {},
     "output_type": "execute_result"
    }
   ],
   "source": [
    "counts[:6], counts.shape"
   ]
  },
  {
   "cell_type": "code",
   "execution_count": 168,
   "id": "48b84574",
   "metadata": {},
   "outputs": [],
   "source": [
    "cum_counts = counts.cumsum(dim=0)"
   ]
  },
  {
   "cell_type": "code",
   "execution_count": 169,
   "id": "bc9c3379",
   "metadata": {},
   "outputs": [
    {
     "data": {
      "text/plain": [
       "(tensor([[ 4.,  2.,  0.,  2.,  1.,  1.],\n",
       "         [ 7.,  2.,  1.,  3.,  5.,  2.],\n",
       "         [ 9.,  3.,  2.,  6.,  7.,  3.],\n",
       "         [11.,  3.,  3.,  7., 10.,  6.],\n",
       "         [14.,  5.,  4.,  7., 13.,  7.],\n",
       "         [14.,  5.,  9.,  7., 14., 11.]]),\n",
       " torch.Size([500, 6]))"
      ]
     },
     "execution_count": 169,
     "metadata": {},
     "output_type": "execute_result"
    }
   ],
   "source": [
    "cum_counts[:6], cum_counts.shape"
   ]
  },
  {
   "cell_type": "code",
   "execution_count": 170,
   "id": "4b31ba94",
   "metadata": {},
   "outputs": [
    {
     "data": {
      "text/plain": [
       "(tensor([[832., 799., 885., 814., 806., 824.],\n",
       "         [832., 801., 887., 815., 809., 826.],\n",
       "         [835., 802., 890., 816., 811., 826.],\n",
       "         [835., 807., 891., 816., 814., 827.],\n",
       "         [838., 808., 892., 816., 819., 827.]]),\n",
       " torch.Size([500, 6]))"
      ]
     },
     "execution_count": 170,
     "metadata": {},
     "output_type": "execute_result"
    }
   ],
   "source": [
    "cum_counts[-5:], cum_counts.shape"
   ]
  },
  {
   "cell_type": "code",
   "execution_count": 171,
   "id": "9b2ccde6",
   "metadata": {},
   "outputs": [
    {
     "data": {
      "text/plain": [
       "torch.Size([500, 1])"
      ]
     },
     "execution_count": 171,
     "metadata": {},
     "output_type": "execute_result"
    }
   ],
   "source": [
    "cum_counts.sum(dim=1, keepdims=True).shape"
   ]
  },
  {
   "cell_type": "code",
   "execution_count": 172,
   "id": "ccee1659",
   "metadata": {},
   "outputs": [],
   "source": [
    "estimates = cum_counts / cum_counts.sum(dim=1, keepdims=True)"
   ]
  },
  {
   "cell_type": "code",
   "execution_count": 173,
   "id": "4069108d",
   "metadata": {},
   "outputs": [
    {
     "data": {
      "text/plain": [
       "(tensor([[0.4000, 0.2000, 0.0000, 0.2000, 0.1000, 0.1000],\n",
       "         [0.3500, 0.1000, 0.0500, 0.1500, 0.2500, 0.1000],\n",
       "         [0.3000, 0.1000, 0.0667, 0.2000, 0.2333, 0.1000],\n",
       "         ...,\n",
       "         [0.1677, 0.1610, 0.1787, 0.1639, 0.1629, 0.1659],\n",
       "         [0.1673, 0.1617, 0.1786, 0.1635, 0.1631, 0.1657],\n",
       "         [0.1676, 0.1616, 0.1784, 0.1632, 0.1638, 0.1654]]),\n",
       " torch.Size([500, 6]))"
      ]
     },
     "execution_count": 173,
     "metadata": {},
     "output_type": "execute_result"
    }
   ],
   "source": [
    "estimates, estimates.shape"
   ]
  },
  {
   "cell_type": "code",
   "execution_count": 174,
   "id": "c3ba764c",
   "metadata": {},
   "outputs": [
    {
     "data": {
      "image/svg+xml": [
       "<?xml version=\"1.0\" encoding=\"utf-8\" standalone=\"no\"?>\n",
       "<!DOCTYPE svg PUBLIC \"-//W3C//DTD SVG 1.1//EN\"\n",
       "  \"http://www.w3.org/Graphics/SVG/1.1/DTD/svg11.dtd\">\n",
       "<svg height=\"289.37625pt\" version=\"1.1\" viewBox=\"0 0 392.14375 289.37625\" width=\"392.14375pt\" xmlns=\"http://www.w3.org/2000/svg\" xmlns:xlink=\"http://www.w3.org/1999/xlink\">\n",
       " <metadata>\n",
       "  <rdf:RDF xmlns:cc=\"http://creativecommons.org/ns#\" xmlns:dc=\"http://purl.org/dc/elements/1.1/\" xmlns:rdf=\"http://www.w3.org/1999/02/22-rdf-syntax-ns#\">\n",
       "   <cc:Work>\n",
       "    <dc:type rdf:resource=\"http://purl.org/dc/dcmitype/StillImage\"/>\n",
       "    <dc:date>2021-07-04T07:35:05.518360</dc:date>\n",
       "    <dc:format>image/svg+xml</dc:format>\n",
       "    <dc:creator>\n",
       "     <cc:Agent>\n",
       "      <dc:title>Matplotlib v3.4.2, https://matplotlib.org/</dc:title>\n",
       "     </cc:Agent>\n",
       "    </dc:creator>\n",
       "   </cc:Work>\n",
       "  </rdf:RDF>\n",
       " </metadata>\n",
       " <defs>\n",
       "  <style type=\"text/css\">*{stroke-linecap:butt;stroke-linejoin:round;}</style>\n",
       " </defs>\n",
       " <g id=\"figure_1\">\n",
       "  <g id=\"patch_1\">\n",
       "   <path d=\"M 0 289.37625 \n",
       "L 392.14375 289.37625 \n",
       "L 392.14375 0 \n",
       "L 0 0 \n",
       "z\n",
       "\" style=\"fill:none;\"/>\n",
       "  </g>\n",
       "  <g id=\"axes_1\">\n",
       "   <g id=\"patch_2\">\n",
       "    <path d=\"M 50.14375 251.82 \n",
       "L 384.94375 251.82 \n",
       "L 384.94375 7.2 \n",
       "L 50.14375 7.2 \n",
       "z\n",
       "\" style=\"fill:#ffffff;\"/>\n",
       "   </g>\n",
       "   <g id=\"matplotlib.axis_1\">\n",
       "    <g id=\"xtick_1\">\n",
       "     <g id=\"line2d_1\">\n",
       "      <defs>\n",
       "       <path d=\"M 0 0 \n",
       "L 0 3.5 \n",
       "\" id=\"m43c1ee53b3\" style=\"stroke:#000000;stroke-width:0.8;\"/>\n",
       "      </defs>\n",
       "      <g>\n",
       "       <use style=\"stroke:#000000;stroke-width:0.8;\" x=\"65.361932\" xlink:href=\"#m43c1ee53b3\" y=\"251.82\"/>\n",
       "      </g>\n",
       "     </g>\n",
       "     <g id=\"text_1\">\n",
       "      <!-- 0 -->\n",
       "      <g transform=\"translate(62.180682 266.418437)scale(0.1 -0.1)\">\n",
       "       <defs>\n",
       "        <path d=\"M 2034 4250 \n",
       "Q 1547 4250 1301 3770 \n",
       "Q 1056 3291 1056 2328 \n",
       "Q 1056 1369 1301 889 \n",
       "Q 1547 409 2034 409 \n",
       "Q 2525 409 2770 889 \n",
       "Q 3016 1369 3016 2328 \n",
       "Q 3016 3291 2770 3770 \n",
       "Q 2525 4250 2034 4250 \n",
       "z\n",
       "M 2034 4750 \n",
       "Q 2819 4750 3233 4129 \n",
       "Q 3647 3509 3647 2328 \n",
       "Q 3647 1150 3233 529 \n",
       "Q 2819 -91 2034 -91 \n",
       "Q 1250 -91 836 529 \n",
       "Q 422 1150 422 2328 \n",
       "Q 422 3509 836 4129 \n",
       "Q 1250 4750 2034 4750 \n",
       "z\n",
       "\" id=\"DejaVuSans-30\" transform=\"scale(0.015625)\"/>\n",
       "       </defs>\n",
       "       <use xlink:href=\"#DejaVuSans-30\"/>\n",
       "      </g>\n",
       "     </g>\n",
       "    </g>\n",
       "    <g id=\"xtick_2\">\n",
       "     <g id=\"line2d_2\">\n",
       "      <g>\n",
       "       <use style=\"stroke:#000000;stroke-width:0.8;\" x=\"126.356649\" xlink:href=\"#m43c1ee53b3\" y=\"251.82\"/>\n",
       "      </g>\n",
       "     </g>\n",
       "     <g id=\"text_2\">\n",
       "      <!-- 100 -->\n",
       "      <g transform=\"translate(116.812899 266.418437)scale(0.1 -0.1)\">\n",
       "       <defs>\n",
       "        <path d=\"M 794 531 \n",
       "L 1825 531 \n",
       "L 1825 4091 \n",
       "L 703 3866 \n",
       "L 703 4441 \n",
       "L 1819 4666 \n",
       "L 2450 4666 \n",
       "L 2450 531 \n",
       "L 3481 531 \n",
       "L 3481 0 \n",
       "L 794 0 \n",
       "L 794 531 \n",
       "z\n",
       "\" id=\"DejaVuSans-31\" transform=\"scale(0.015625)\"/>\n",
       "       </defs>\n",
       "       <use xlink:href=\"#DejaVuSans-31\"/>\n",
       "       <use x=\"63.623047\" xlink:href=\"#DejaVuSans-30\"/>\n",
       "       <use x=\"127.246094\" xlink:href=\"#DejaVuSans-30\"/>\n",
       "      </g>\n",
       "     </g>\n",
       "    </g>\n",
       "    <g id=\"xtick_3\">\n",
       "     <g id=\"line2d_3\">\n",
       "      <g>\n",
       "       <use style=\"stroke:#000000;stroke-width:0.8;\" x=\"187.351365\" xlink:href=\"#m43c1ee53b3\" y=\"251.82\"/>\n",
       "      </g>\n",
       "     </g>\n",
       "     <g id=\"text_3\">\n",
       "      <!-- 200 -->\n",
       "      <g transform=\"translate(177.807615 266.418437)scale(0.1 -0.1)\">\n",
       "       <defs>\n",
       "        <path d=\"M 1228 531 \n",
       "L 3431 531 \n",
       "L 3431 0 \n",
       "L 469 0 \n",
       "L 469 531 \n",
       "Q 828 903 1448 1529 \n",
       "Q 2069 2156 2228 2338 \n",
       "Q 2531 2678 2651 2914 \n",
       "Q 2772 3150 2772 3378 \n",
       "Q 2772 3750 2511 3984 \n",
       "Q 2250 4219 1831 4219 \n",
       "Q 1534 4219 1204 4116 \n",
       "Q 875 4013 500 3803 \n",
       "L 500 4441 \n",
       "Q 881 4594 1212 4672 \n",
       "Q 1544 4750 1819 4750 \n",
       "Q 2544 4750 2975 4387 \n",
       "Q 3406 4025 3406 3419 \n",
       "Q 3406 3131 3298 2873 \n",
       "Q 3191 2616 2906 2266 \n",
       "Q 2828 2175 2409 1742 \n",
       "Q 1991 1309 1228 531 \n",
       "z\n",
       "\" id=\"DejaVuSans-32\" transform=\"scale(0.015625)\"/>\n",
       "       </defs>\n",
       "       <use xlink:href=\"#DejaVuSans-32\"/>\n",
       "       <use x=\"63.623047\" xlink:href=\"#DejaVuSans-30\"/>\n",
       "       <use x=\"127.246094\" xlink:href=\"#DejaVuSans-30\"/>\n",
       "      </g>\n",
       "     </g>\n",
       "    </g>\n",
       "    <g id=\"xtick_4\">\n",
       "     <g id=\"line2d_4\">\n",
       "      <g>\n",
       "       <use style=\"stroke:#000000;stroke-width:0.8;\" x=\"248.346082\" xlink:href=\"#m43c1ee53b3\" y=\"251.82\"/>\n",
       "      </g>\n",
       "     </g>\n",
       "     <g id=\"text_4\">\n",
       "      <!-- 300 -->\n",
       "      <g transform=\"translate(238.802332 266.418437)scale(0.1 -0.1)\">\n",
       "       <defs>\n",
       "        <path d=\"M 2597 2516 \n",
       "Q 3050 2419 3304 2112 \n",
       "Q 3559 1806 3559 1356 \n",
       "Q 3559 666 3084 287 \n",
       "Q 2609 -91 1734 -91 \n",
       "Q 1441 -91 1130 -33 \n",
       "Q 819 25 488 141 \n",
       "L 488 750 \n",
       "Q 750 597 1062 519 \n",
       "Q 1375 441 1716 441 \n",
       "Q 2309 441 2620 675 \n",
       "Q 2931 909 2931 1356 \n",
       "Q 2931 1769 2642 2001 \n",
       "Q 2353 2234 1838 2234 \n",
       "L 1294 2234 \n",
       "L 1294 2753 \n",
       "L 1863 2753 \n",
       "Q 2328 2753 2575 2939 \n",
       "Q 2822 3125 2822 3475 \n",
       "Q 2822 3834 2567 4026 \n",
       "Q 2313 4219 1838 4219 \n",
       "Q 1578 4219 1281 4162 \n",
       "Q 984 4106 628 3988 \n",
       "L 628 4550 \n",
       "Q 988 4650 1302 4700 \n",
       "Q 1616 4750 1894 4750 \n",
       "Q 2613 4750 3031 4423 \n",
       "Q 3450 4097 3450 3541 \n",
       "Q 3450 3153 3228 2886 \n",
       "Q 3006 2619 2597 2516 \n",
       "z\n",
       "\" id=\"DejaVuSans-33\" transform=\"scale(0.015625)\"/>\n",
       "       </defs>\n",
       "       <use xlink:href=\"#DejaVuSans-33\"/>\n",
       "       <use x=\"63.623047\" xlink:href=\"#DejaVuSans-30\"/>\n",
       "       <use x=\"127.246094\" xlink:href=\"#DejaVuSans-30\"/>\n",
       "      </g>\n",
       "     </g>\n",
       "    </g>\n",
       "    <g id=\"xtick_5\">\n",
       "     <g id=\"line2d_5\">\n",
       "      <g>\n",
       "       <use style=\"stroke:#000000;stroke-width:0.8;\" x=\"309.340799\" xlink:href=\"#m43c1ee53b3\" y=\"251.82\"/>\n",
       "      </g>\n",
       "     </g>\n",
       "     <g id=\"text_5\">\n",
       "      <!-- 400 -->\n",
       "      <g transform=\"translate(299.797049 266.418437)scale(0.1 -0.1)\">\n",
       "       <defs>\n",
       "        <path d=\"M 2419 4116 \n",
       "L 825 1625 \n",
       "L 2419 1625 \n",
       "L 2419 4116 \n",
       "z\n",
       "M 2253 4666 \n",
       "L 3047 4666 \n",
       "L 3047 1625 \n",
       "L 3713 1625 \n",
       "L 3713 1100 \n",
       "L 3047 1100 \n",
       "L 3047 0 \n",
       "L 2419 0 \n",
       "L 2419 1100 \n",
       "L 313 1100 \n",
       "L 313 1709 \n",
       "L 2253 4666 \n",
       "z\n",
       "\" id=\"DejaVuSans-34\" transform=\"scale(0.015625)\"/>\n",
       "       </defs>\n",
       "       <use xlink:href=\"#DejaVuSans-34\"/>\n",
       "       <use x=\"63.623047\" xlink:href=\"#DejaVuSans-30\"/>\n",
       "       <use x=\"127.246094\" xlink:href=\"#DejaVuSans-30\"/>\n",
       "      </g>\n",
       "     </g>\n",
       "    </g>\n",
       "    <g id=\"xtick_6\">\n",
       "     <g id=\"line2d_6\">\n",
       "      <g>\n",
       "       <use style=\"stroke:#000000;stroke-width:0.8;\" x=\"370.335515\" xlink:href=\"#m43c1ee53b3\" y=\"251.82\"/>\n",
       "      </g>\n",
       "     </g>\n",
       "     <g id=\"text_6\">\n",
       "      <!-- 500 -->\n",
       "      <g transform=\"translate(360.791765 266.418437)scale(0.1 -0.1)\">\n",
       "       <defs>\n",
       "        <path d=\"M 691 4666 \n",
       "L 3169 4666 \n",
       "L 3169 4134 \n",
       "L 1269 4134 \n",
       "L 1269 2991 \n",
       "Q 1406 3038 1543 3061 \n",
       "Q 1681 3084 1819 3084 \n",
       "Q 2600 3084 3056 2656 \n",
       "Q 3513 2228 3513 1497 \n",
       "Q 3513 744 3044 326 \n",
       "Q 2575 -91 1722 -91 \n",
       "Q 1428 -91 1123 -41 \n",
       "Q 819 9 494 109 \n",
       "L 494 744 \n",
       "Q 775 591 1075 516 \n",
       "Q 1375 441 1709 441 \n",
       "Q 2250 441 2565 725 \n",
       "Q 2881 1009 2881 1497 \n",
       "Q 2881 1984 2565 2268 \n",
       "Q 2250 2553 1709 2553 \n",
       "Q 1456 2553 1204 2497 \n",
       "Q 953 2441 691 2322 \n",
       "L 691 4666 \n",
       "z\n",
       "\" id=\"DejaVuSans-35\" transform=\"scale(0.015625)\"/>\n",
       "       </defs>\n",
       "       <use xlink:href=\"#DejaVuSans-35\"/>\n",
       "       <use x=\"63.623047\" xlink:href=\"#DejaVuSans-30\"/>\n",
       "       <use x=\"127.246094\" xlink:href=\"#DejaVuSans-30\"/>\n",
       "      </g>\n",
       "     </g>\n",
       "    </g>\n",
       "    <g id=\"text_7\">\n",
       "     <!-- Groups of experiments -->\n",
       "     <g transform=\"translate(160.397656 280.096562)scale(0.1 -0.1)\">\n",
       "      <defs>\n",
       "       <path d=\"M 3809 666 \n",
       "L 3809 1919 \n",
       "L 2778 1919 \n",
       "L 2778 2438 \n",
       "L 4434 2438 \n",
       "L 4434 434 \n",
       "Q 4069 175 3628 42 \n",
       "Q 3188 -91 2688 -91 \n",
       "Q 1594 -91 976 548 \n",
       "Q 359 1188 359 2328 \n",
       "Q 359 3472 976 4111 \n",
       "Q 1594 4750 2688 4750 \n",
       "Q 3144 4750 3555 4637 \n",
       "Q 3966 4525 4313 4306 \n",
       "L 4313 3634 \n",
       "Q 3963 3931 3569 4081 \n",
       "Q 3175 4231 2741 4231 \n",
       "Q 1884 4231 1454 3753 \n",
       "Q 1025 3275 1025 2328 \n",
       "Q 1025 1384 1454 906 \n",
       "Q 1884 428 2741 428 \n",
       "Q 3075 428 3337 486 \n",
       "Q 3600 544 3809 666 \n",
       "z\n",
       "\" id=\"DejaVuSans-47\" transform=\"scale(0.015625)\"/>\n",
       "       <path d=\"M 2631 2963 \n",
       "Q 2534 3019 2420 3045 \n",
       "Q 2306 3072 2169 3072 \n",
       "Q 1681 3072 1420 2755 \n",
       "Q 1159 2438 1159 1844 \n",
       "L 1159 0 \n",
       "L 581 0 \n",
       "L 581 3500 \n",
       "L 1159 3500 \n",
       "L 1159 2956 \n",
       "Q 1341 3275 1631 3429 \n",
       "Q 1922 3584 2338 3584 \n",
       "Q 2397 3584 2469 3576 \n",
       "Q 2541 3569 2628 3553 \n",
       "L 2631 2963 \n",
       "z\n",
       "\" id=\"DejaVuSans-72\" transform=\"scale(0.015625)\"/>\n",
       "       <path d=\"M 1959 3097 \n",
       "Q 1497 3097 1228 2736 \n",
       "Q 959 2375 959 1747 \n",
       "Q 959 1119 1226 758 \n",
       "Q 1494 397 1959 397 \n",
       "Q 2419 397 2687 759 \n",
       "Q 2956 1122 2956 1747 \n",
       "Q 2956 2369 2687 2733 \n",
       "Q 2419 3097 1959 3097 \n",
       "z\n",
       "M 1959 3584 \n",
       "Q 2709 3584 3137 3096 \n",
       "Q 3566 2609 3566 1747 \n",
       "Q 3566 888 3137 398 \n",
       "Q 2709 -91 1959 -91 \n",
       "Q 1206 -91 779 398 \n",
       "Q 353 888 353 1747 \n",
       "Q 353 2609 779 3096 \n",
       "Q 1206 3584 1959 3584 \n",
       "z\n",
       "\" id=\"DejaVuSans-6f\" transform=\"scale(0.015625)\"/>\n",
       "       <path d=\"M 544 1381 \n",
       "L 544 3500 \n",
       "L 1119 3500 \n",
       "L 1119 1403 \n",
       "Q 1119 906 1312 657 \n",
       "Q 1506 409 1894 409 \n",
       "Q 2359 409 2629 706 \n",
       "Q 2900 1003 2900 1516 \n",
       "L 2900 3500 \n",
       "L 3475 3500 \n",
       "L 3475 0 \n",
       "L 2900 0 \n",
       "L 2900 538 \n",
       "Q 2691 219 2414 64 \n",
       "Q 2138 -91 1772 -91 \n",
       "Q 1169 -91 856 284 \n",
       "Q 544 659 544 1381 \n",
       "z\n",
       "M 1991 3584 \n",
       "L 1991 3584 \n",
       "z\n",
       "\" id=\"DejaVuSans-75\" transform=\"scale(0.015625)\"/>\n",
       "       <path d=\"M 1159 525 \n",
       "L 1159 -1331 \n",
       "L 581 -1331 \n",
       "L 581 3500 \n",
       "L 1159 3500 \n",
       "L 1159 2969 \n",
       "Q 1341 3281 1617 3432 \n",
       "Q 1894 3584 2278 3584 \n",
       "Q 2916 3584 3314 3078 \n",
       "Q 3713 2572 3713 1747 \n",
       "Q 3713 922 3314 415 \n",
       "Q 2916 -91 2278 -91 \n",
       "Q 1894 -91 1617 61 \n",
       "Q 1341 213 1159 525 \n",
       "z\n",
       "M 3116 1747 \n",
       "Q 3116 2381 2855 2742 \n",
       "Q 2594 3103 2138 3103 \n",
       "Q 1681 3103 1420 2742 \n",
       "Q 1159 2381 1159 1747 \n",
       "Q 1159 1113 1420 752 \n",
       "Q 1681 391 2138 391 \n",
       "Q 2594 391 2855 752 \n",
       "Q 3116 1113 3116 1747 \n",
       "z\n",
       "\" id=\"DejaVuSans-70\" transform=\"scale(0.015625)\"/>\n",
       "       <path d=\"M 2834 3397 \n",
       "L 2834 2853 \n",
       "Q 2591 2978 2328 3040 \n",
       "Q 2066 3103 1784 3103 \n",
       "Q 1356 3103 1142 2972 \n",
       "Q 928 2841 928 2578 \n",
       "Q 928 2378 1081 2264 \n",
       "Q 1234 2150 1697 2047 \n",
       "L 1894 2003 \n",
       "Q 2506 1872 2764 1633 \n",
       "Q 3022 1394 3022 966 \n",
       "Q 3022 478 2636 193 \n",
       "Q 2250 -91 1575 -91 \n",
       "Q 1294 -91 989 -36 \n",
       "Q 684 19 347 128 \n",
       "L 347 722 \n",
       "Q 666 556 975 473 \n",
       "Q 1284 391 1588 391 \n",
       "Q 1994 391 2212 530 \n",
       "Q 2431 669 2431 922 \n",
       "Q 2431 1156 2273 1281 \n",
       "Q 2116 1406 1581 1522 \n",
       "L 1381 1569 \n",
       "Q 847 1681 609 1914 \n",
       "Q 372 2147 372 2553 \n",
       "Q 372 3047 722 3315 \n",
       "Q 1072 3584 1716 3584 \n",
       "Q 2034 3584 2315 3537 \n",
       "Q 2597 3491 2834 3397 \n",
       "z\n",
       "\" id=\"DejaVuSans-73\" transform=\"scale(0.015625)\"/>\n",
       "       <path id=\"DejaVuSans-20\" transform=\"scale(0.015625)\"/>\n",
       "       <path d=\"M 2375 4863 \n",
       "L 2375 4384 \n",
       "L 1825 4384 \n",
       "Q 1516 4384 1395 4259 \n",
       "Q 1275 4134 1275 3809 \n",
       "L 1275 3500 \n",
       "L 2222 3500 \n",
       "L 2222 3053 \n",
       "L 1275 3053 \n",
       "L 1275 0 \n",
       "L 697 0 \n",
       "L 697 3053 \n",
       "L 147 3053 \n",
       "L 147 3500 \n",
       "L 697 3500 \n",
       "L 697 3744 \n",
       "Q 697 4328 969 4595 \n",
       "Q 1241 4863 1831 4863 \n",
       "L 2375 4863 \n",
       "z\n",
       "\" id=\"DejaVuSans-66\" transform=\"scale(0.015625)\"/>\n",
       "       <path d=\"M 3597 1894 \n",
       "L 3597 1613 \n",
       "L 953 1613 \n",
       "Q 991 1019 1311 708 \n",
       "Q 1631 397 2203 397 \n",
       "Q 2534 397 2845 478 \n",
       "Q 3156 559 3463 722 \n",
       "L 3463 178 \n",
       "Q 3153 47 2828 -22 \n",
       "Q 2503 -91 2169 -91 \n",
       "Q 1331 -91 842 396 \n",
       "Q 353 884 353 1716 \n",
       "Q 353 2575 817 3079 \n",
       "Q 1281 3584 2069 3584 \n",
       "Q 2775 3584 3186 3129 \n",
       "Q 3597 2675 3597 1894 \n",
       "z\n",
       "M 3022 2063 \n",
       "Q 3016 2534 2758 2815 \n",
       "Q 2500 3097 2075 3097 \n",
       "Q 1594 3097 1305 2825 \n",
       "Q 1016 2553 972 2059 \n",
       "L 3022 2063 \n",
       "z\n",
       "\" id=\"DejaVuSans-65\" transform=\"scale(0.015625)\"/>\n",
       "       <path d=\"M 3513 3500 \n",
       "L 2247 1797 \n",
       "L 3578 0 \n",
       "L 2900 0 \n",
       "L 1881 1375 \n",
       "L 863 0 \n",
       "L 184 0 \n",
       "L 1544 1831 \n",
       "L 300 3500 \n",
       "L 978 3500 \n",
       "L 1906 2253 \n",
       "L 2834 3500 \n",
       "L 3513 3500 \n",
       "z\n",
       "\" id=\"DejaVuSans-78\" transform=\"scale(0.015625)\"/>\n",
       "       <path d=\"M 603 3500 \n",
       "L 1178 3500 \n",
       "L 1178 0 \n",
       "L 603 0 \n",
       "L 603 3500 \n",
       "z\n",
       "M 603 4863 \n",
       "L 1178 4863 \n",
       "L 1178 4134 \n",
       "L 603 4134 \n",
       "L 603 4863 \n",
       "z\n",
       "\" id=\"DejaVuSans-69\" transform=\"scale(0.015625)\"/>\n",
       "       <path d=\"M 3328 2828 \n",
       "Q 3544 3216 3844 3400 \n",
       "Q 4144 3584 4550 3584 \n",
       "Q 5097 3584 5394 3201 \n",
       "Q 5691 2819 5691 2113 \n",
       "L 5691 0 \n",
       "L 5113 0 \n",
       "L 5113 2094 \n",
       "Q 5113 2597 4934 2840 \n",
       "Q 4756 3084 4391 3084 \n",
       "Q 3944 3084 3684 2787 \n",
       "Q 3425 2491 3425 1978 \n",
       "L 3425 0 \n",
       "L 2847 0 \n",
       "L 2847 2094 \n",
       "Q 2847 2600 2669 2842 \n",
       "Q 2491 3084 2119 3084 \n",
       "Q 1678 3084 1418 2786 \n",
       "Q 1159 2488 1159 1978 \n",
       "L 1159 0 \n",
       "L 581 0 \n",
       "L 581 3500 \n",
       "L 1159 3500 \n",
       "L 1159 2956 \n",
       "Q 1356 3278 1631 3431 \n",
       "Q 1906 3584 2284 3584 \n",
       "Q 2666 3584 2933 3390 \n",
       "Q 3200 3197 3328 2828 \n",
       "z\n",
       "\" id=\"DejaVuSans-6d\" transform=\"scale(0.015625)\"/>\n",
       "       <path d=\"M 3513 2113 \n",
       "L 3513 0 \n",
       "L 2938 0 \n",
       "L 2938 2094 \n",
       "Q 2938 2591 2744 2837 \n",
       "Q 2550 3084 2163 3084 \n",
       "Q 1697 3084 1428 2787 \n",
       "Q 1159 2491 1159 1978 \n",
       "L 1159 0 \n",
       "L 581 0 \n",
       "L 581 3500 \n",
       "L 1159 3500 \n",
       "L 1159 2956 \n",
       "Q 1366 3272 1645 3428 \n",
       "Q 1925 3584 2291 3584 \n",
       "Q 2894 3584 3203 3211 \n",
       "Q 3513 2838 3513 2113 \n",
       "z\n",
       "\" id=\"DejaVuSans-6e\" transform=\"scale(0.015625)\"/>\n",
       "       <path d=\"M 1172 4494 \n",
       "L 1172 3500 \n",
       "L 2356 3500 \n",
       "L 2356 3053 \n",
       "L 1172 3053 \n",
       "L 1172 1153 \n",
       "Q 1172 725 1289 603 \n",
       "Q 1406 481 1766 481 \n",
       "L 2356 481 \n",
       "L 2356 0 \n",
       "L 1766 0 \n",
       "Q 1100 0 847 248 \n",
       "Q 594 497 594 1153 \n",
       "L 594 3053 \n",
       "L 172 3053 \n",
       "L 172 3500 \n",
       "L 594 3500 \n",
       "L 594 4494 \n",
       "L 1172 4494 \n",
       "z\n",
       "\" id=\"DejaVuSans-74\" transform=\"scale(0.015625)\"/>\n",
       "      </defs>\n",
       "      <use xlink:href=\"#DejaVuSans-47\"/>\n",
       "      <use x=\"77.490234\" xlink:href=\"#DejaVuSans-72\"/>\n",
       "      <use x=\"116.353516\" xlink:href=\"#DejaVuSans-6f\"/>\n",
       "      <use x=\"177.535156\" xlink:href=\"#DejaVuSans-75\"/>\n",
       "      <use x=\"240.914062\" xlink:href=\"#DejaVuSans-70\"/>\n",
       "      <use x=\"304.390625\" xlink:href=\"#DejaVuSans-73\"/>\n",
       "      <use x=\"356.490234\" xlink:href=\"#DejaVuSans-20\"/>\n",
       "      <use x=\"388.277344\" xlink:href=\"#DejaVuSans-6f\"/>\n",
       "      <use x=\"449.458984\" xlink:href=\"#DejaVuSans-66\"/>\n",
       "      <use x=\"484.664062\" xlink:href=\"#DejaVuSans-20\"/>\n",
       "      <use x=\"516.451172\" xlink:href=\"#DejaVuSans-65\"/>\n",
       "      <use x=\"576.224609\" xlink:href=\"#DejaVuSans-78\"/>\n",
       "      <use x=\"635.404297\" xlink:href=\"#DejaVuSans-70\"/>\n",
       "      <use x=\"698.880859\" xlink:href=\"#DejaVuSans-65\"/>\n",
       "      <use x=\"760.404297\" xlink:href=\"#DejaVuSans-72\"/>\n",
       "      <use x=\"801.517578\" xlink:href=\"#DejaVuSans-69\"/>\n",
       "      <use x=\"829.300781\" xlink:href=\"#DejaVuSans-6d\"/>\n",
       "      <use x=\"926.712891\" xlink:href=\"#DejaVuSans-65\"/>\n",
       "      <use x=\"988.236328\" xlink:href=\"#DejaVuSans-6e\"/>\n",
       "      <use x=\"1051.615234\" xlink:href=\"#DejaVuSans-74\"/>\n",
       "      <use x=\"1090.824219\" xlink:href=\"#DejaVuSans-73\"/>\n",
       "     </g>\n",
       "    </g>\n",
       "   </g>\n",
       "   <g id=\"matplotlib.axis_2\">\n",
       "    <g id=\"ytick_1\">\n",
       "     <g id=\"line2d_7\">\n",
       "      <defs>\n",
       "       <path d=\"M 0 0 \n",
       "L -3.5 0 \n",
       "\" id=\"m892595384f\" style=\"stroke:#000000;stroke-width:0.8;\"/>\n",
       "      </defs>\n",
       "      <g>\n",
       "       <use style=\"stroke:#000000;stroke-width:0.8;\" x=\"50.14375\" xlink:href=\"#m892595384f\" y=\"240.700909\"/>\n",
       "      </g>\n",
       "     </g>\n",
       "     <g id=\"text_8\">\n",
       "      <!-- 0.00 -->\n",
       "      <g transform=\"translate(20.878125 244.500128)scale(0.1 -0.1)\">\n",
       "       <defs>\n",
       "        <path d=\"M 684 794 \n",
       "L 1344 794 \n",
       "L 1344 0 \n",
       "L 684 0 \n",
       "L 684 794 \n",
       "z\n",
       "\" id=\"DejaVuSans-2e\" transform=\"scale(0.015625)\"/>\n",
       "       </defs>\n",
       "       <use xlink:href=\"#DejaVuSans-30\"/>\n",
       "       <use x=\"63.623047\" xlink:href=\"#DejaVuSans-2e\"/>\n",
       "       <use x=\"95.410156\" xlink:href=\"#DejaVuSans-30\"/>\n",
       "       <use x=\"159.033203\" xlink:href=\"#DejaVuSans-30\"/>\n",
       "      </g>\n",
       "     </g>\n",
       "    </g>\n",
       "    <g id=\"ytick_2\">\n",
       "     <g id=\"line2d_8\">\n",
       "      <g>\n",
       "       <use style=\"stroke:#000000;stroke-width:0.8;\" x=\"50.14375\" xlink:href=\"#m892595384f\" y=\"212.903182\"/>\n",
       "      </g>\n",
       "     </g>\n",
       "     <g id=\"text_9\">\n",
       "      <!-- 0.05 -->\n",
       "      <g transform=\"translate(20.878125 216.702401)scale(0.1 -0.1)\">\n",
       "       <use xlink:href=\"#DejaVuSans-30\"/>\n",
       "       <use x=\"63.623047\" xlink:href=\"#DejaVuSans-2e\"/>\n",
       "       <use x=\"95.410156\" xlink:href=\"#DejaVuSans-30\"/>\n",
       "       <use x=\"159.033203\" xlink:href=\"#DejaVuSans-35\"/>\n",
       "      </g>\n",
       "     </g>\n",
       "    </g>\n",
       "    <g id=\"ytick_3\">\n",
       "     <g id=\"line2d_9\">\n",
       "      <g>\n",
       "       <use style=\"stroke:#000000;stroke-width:0.8;\" x=\"50.14375\" xlink:href=\"#m892595384f\" y=\"185.105455\"/>\n",
       "      </g>\n",
       "     </g>\n",
       "     <g id=\"text_10\">\n",
       "      <!-- 0.10 -->\n",
       "      <g transform=\"translate(20.878125 188.904674)scale(0.1 -0.1)\">\n",
       "       <use xlink:href=\"#DejaVuSans-30\"/>\n",
       "       <use x=\"63.623047\" xlink:href=\"#DejaVuSans-2e\"/>\n",
       "       <use x=\"95.410156\" xlink:href=\"#DejaVuSans-31\"/>\n",
       "       <use x=\"159.033203\" xlink:href=\"#DejaVuSans-30\"/>\n",
       "      </g>\n",
       "     </g>\n",
       "    </g>\n",
       "    <g id=\"ytick_4\">\n",
       "     <g id=\"line2d_10\">\n",
       "      <g>\n",
       "       <use style=\"stroke:#000000;stroke-width:0.8;\" x=\"50.14375\" xlink:href=\"#m892595384f\" y=\"157.307729\"/>\n",
       "      </g>\n",
       "     </g>\n",
       "     <g id=\"text_11\">\n",
       "      <!-- 0.15 -->\n",
       "      <g transform=\"translate(20.878125 161.106947)scale(0.1 -0.1)\">\n",
       "       <use xlink:href=\"#DejaVuSans-30\"/>\n",
       "       <use x=\"63.623047\" xlink:href=\"#DejaVuSans-2e\"/>\n",
       "       <use x=\"95.410156\" xlink:href=\"#DejaVuSans-31\"/>\n",
       "       <use x=\"159.033203\" xlink:href=\"#DejaVuSans-35\"/>\n",
       "      </g>\n",
       "     </g>\n",
       "    </g>\n",
       "    <g id=\"ytick_5\">\n",
       "     <g id=\"line2d_11\">\n",
       "      <g>\n",
       "       <use style=\"stroke:#000000;stroke-width:0.8;\" x=\"50.14375\" xlink:href=\"#m892595384f\" y=\"129.510002\"/>\n",
       "      </g>\n",
       "     </g>\n",
       "     <g id=\"text_12\">\n",
       "      <!-- 0.20 -->\n",
       "      <g transform=\"translate(20.878125 133.30922)scale(0.1 -0.1)\">\n",
       "       <use xlink:href=\"#DejaVuSans-30\"/>\n",
       "       <use x=\"63.623047\" xlink:href=\"#DejaVuSans-2e\"/>\n",
       "       <use x=\"95.410156\" xlink:href=\"#DejaVuSans-32\"/>\n",
       "       <use x=\"159.033203\" xlink:href=\"#DejaVuSans-30\"/>\n",
       "      </g>\n",
       "     </g>\n",
       "    </g>\n",
       "    <g id=\"ytick_6\">\n",
       "     <g id=\"line2d_12\">\n",
       "      <g>\n",
       "       <use style=\"stroke:#000000;stroke-width:0.8;\" x=\"50.14375\" xlink:href=\"#m892595384f\" y=\"101.712275\"/>\n",
       "      </g>\n",
       "     </g>\n",
       "     <g id=\"text_13\">\n",
       "      <!-- 0.25 -->\n",
       "      <g transform=\"translate(20.878125 105.511494)scale(0.1 -0.1)\">\n",
       "       <use xlink:href=\"#DejaVuSans-30\"/>\n",
       "       <use x=\"63.623047\" xlink:href=\"#DejaVuSans-2e\"/>\n",
       "       <use x=\"95.410156\" xlink:href=\"#DejaVuSans-32\"/>\n",
       "       <use x=\"159.033203\" xlink:href=\"#DejaVuSans-35\"/>\n",
       "      </g>\n",
       "     </g>\n",
       "    </g>\n",
       "    <g id=\"ytick_7\">\n",
       "     <g id=\"line2d_13\">\n",
       "      <g>\n",
       "       <use style=\"stroke:#000000;stroke-width:0.8;\" x=\"50.14375\" xlink:href=\"#m892595384f\" y=\"73.914548\"/>\n",
       "      </g>\n",
       "     </g>\n",
       "     <g id=\"text_14\">\n",
       "      <!-- 0.30 -->\n",
       "      <g transform=\"translate(20.878125 77.713767)scale(0.1 -0.1)\">\n",
       "       <use xlink:href=\"#DejaVuSans-30\"/>\n",
       "       <use x=\"63.623047\" xlink:href=\"#DejaVuSans-2e\"/>\n",
       "       <use x=\"95.410156\" xlink:href=\"#DejaVuSans-33\"/>\n",
       "       <use x=\"159.033203\" xlink:href=\"#DejaVuSans-30\"/>\n",
       "      </g>\n",
       "     </g>\n",
       "    </g>\n",
       "    <g id=\"ytick_8\">\n",
       "     <g id=\"line2d_14\">\n",
       "      <g>\n",
       "       <use style=\"stroke:#000000;stroke-width:0.8;\" x=\"50.14375\" xlink:href=\"#m892595384f\" y=\"46.116821\"/>\n",
       "      </g>\n",
       "     </g>\n",
       "     <g id=\"text_15\">\n",
       "      <!-- 0.35 -->\n",
       "      <g transform=\"translate(20.878125 49.91604)scale(0.1 -0.1)\">\n",
       "       <use xlink:href=\"#DejaVuSans-30\"/>\n",
       "       <use x=\"63.623047\" xlink:href=\"#DejaVuSans-2e\"/>\n",
       "       <use x=\"95.410156\" xlink:href=\"#DejaVuSans-33\"/>\n",
       "       <use x=\"159.033203\" xlink:href=\"#DejaVuSans-35\"/>\n",
       "      </g>\n",
       "     </g>\n",
       "    </g>\n",
       "    <g id=\"ytick_9\">\n",
       "     <g id=\"line2d_15\">\n",
       "      <g>\n",
       "       <use style=\"stroke:#000000;stroke-width:0.8;\" x=\"50.14375\" xlink:href=\"#m892595384f\" y=\"18.319094\"/>\n",
       "      </g>\n",
       "     </g>\n",
       "     <g id=\"text_16\">\n",
       "      <!-- 0.40 -->\n",
       "      <g transform=\"translate(20.878125 22.118313)scale(0.1 -0.1)\">\n",
       "       <use xlink:href=\"#DejaVuSans-30\"/>\n",
       "       <use x=\"63.623047\" xlink:href=\"#DejaVuSans-2e\"/>\n",
       "       <use x=\"95.410156\" xlink:href=\"#DejaVuSans-34\"/>\n",
       "       <use x=\"159.033203\" xlink:href=\"#DejaVuSans-30\"/>\n",
       "      </g>\n",
       "     </g>\n",
       "    </g>\n",
       "    <g id=\"text_17\">\n",
       "     <!-- Estimated probability -->\n",
       "     <g transform=\"translate(14.798438 183.033437)rotate(-90)scale(0.1 -0.1)\">\n",
       "      <defs>\n",
       "       <path d=\"M 628 4666 \n",
       "L 3578 4666 \n",
       "L 3578 4134 \n",
       "L 1259 4134 \n",
       "L 1259 2753 \n",
       "L 3481 2753 \n",
       "L 3481 2222 \n",
       "L 1259 2222 \n",
       "L 1259 531 \n",
       "L 3634 531 \n",
       "L 3634 0 \n",
       "L 628 0 \n",
       "L 628 4666 \n",
       "z\n",
       "\" id=\"DejaVuSans-45\" transform=\"scale(0.015625)\"/>\n",
       "       <path d=\"M 2194 1759 \n",
       "Q 1497 1759 1228 1600 \n",
       "Q 959 1441 959 1056 \n",
       "Q 959 750 1161 570 \n",
       "Q 1363 391 1709 391 \n",
       "Q 2188 391 2477 730 \n",
       "Q 2766 1069 2766 1631 \n",
       "L 2766 1759 \n",
       "L 2194 1759 \n",
       "z\n",
       "M 3341 1997 \n",
       "L 3341 0 \n",
       "L 2766 0 \n",
       "L 2766 531 \n",
       "Q 2569 213 2275 61 \n",
       "Q 1981 -91 1556 -91 \n",
       "Q 1019 -91 701 211 \n",
       "Q 384 513 384 1019 \n",
       "Q 384 1609 779 1909 \n",
       "Q 1175 2209 1959 2209 \n",
       "L 2766 2209 \n",
       "L 2766 2266 \n",
       "Q 2766 2663 2505 2880 \n",
       "Q 2244 3097 1772 3097 \n",
       "Q 1472 3097 1187 3025 \n",
       "Q 903 2953 641 2809 \n",
       "L 641 3341 \n",
       "Q 956 3463 1253 3523 \n",
       "Q 1550 3584 1831 3584 \n",
       "Q 2591 3584 2966 3190 \n",
       "Q 3341 2797 3341 1997 \n",
       "z\n",
       "\" id=\"DejaVuSans-61\" transform=\"scale(0.015625)\"/>\n",
       "       <path d=\"M 2906 2969 \n",
       "L 2906 4863 \n",
       "L 3481 4863 \n",
       "L 3481 0 \n",
       "L 2906 0 \n",
       "L 2906 525 \n",
       "Q 2725 213 2448 61 \n",
       "Q 2172 -91 1784 -91 \n",
       "Q 1150 -91 751 415 \n",
       "Q 353 922 353 1747 \n",
       "Q 353 2572 751 3078 \n",
       "Q 1150 3584 1784 3584 \n",
       "Q 2172 3584 2448 3432 \n",
       "Q 2725 3281 2906 2969 \n",
       "z\n",
       "M 947 1747 \n",
       "Q 947 1113 1208 752 \n",
       "Q 1469 391 1925 391 \n",
       "Q 2381 391 2643 752 \n",
       "Q 2906 1113 2906 1747 \n",
       "Q 2906 2381 2643 2742 \n",
       "Q 2381 3103 1925 3103 \n",
       "Q 1469 3103 1208 2742 \n",
       "Q 947 2381 947 1747 \n",
       "z\n",
       "\" id=\"DejaVuSans-64\" transform=\"scale(0.015625)\"/>\n",
       "       <path d=\"M 3116 1747 \n",
       "Q 3116 2381 2855 2742 \n",
       "Q 2594 3103 2138 3103 \n",
       "Q 1681 3103 1420 2742 \n",
       "Q 1159 2381 1159 1747 \n",
       "Q 1159 1113 1420 752 \n",
       "Q 1681 391 2138 391 \n",
       "Q 2594 391 2855 752 \n",
       "Q 3116 1113 3116 1747 \n",
       "z\n",
       "M 1159 2969 \n",
       "Q 1341 3281 1617 3432 \n",
       "Q 1894 3584 2278 3584 \n",
       "Q 2916 3584 3314 3078 \n",
       "Q 3713 2572 3713 1747 \n",
       "Q 3713 922 3314 415 \n",
       "Q 2916 -91 2278 -91 \n",
       "Q 1894 -91 1617 61 \n",
       "Q 1341 213 1159 525 \n",
       "L 1159 0 \n",
       "L 581 0 \n",
       "L 581 4863 \n",
       "L 1159 4863 \n",
       "L 1159 2969 \n",
       "z\n",
       "\" id=\"DejaVuSans-62\" transform=\"scale(0.015625)\"/>\n",
       "       <path d=\"M 603 4863 \n",
       "L 1178 4863 \n",
       "L 1178 0 \n",
       "L 603 0 \n",
       "L 603 4863 \n",
       "z\n",
       "\" id=\"DejaVuSans-6c\" transform=\"scale(0.015625)\"/>\n",
       "       <path d=\"M 2059 -325 \n",
       "Q 1816 -950 1584 -1140 \n",
       "Q 1353 -1331 966 -1331 \n",
       "L 506 -1331 \n",
       "L 506 -850 \n",
       "L 844 -850 \n",
       "Q 1081 -850 1212 -737 \n",
       "Q 1344 -625 1503 -206 \n",
       "L 1606 56 \n",
       "L 191 3500 \n",
       "L 800 3500 \n",
       "L 1894 763 \n",
       "L 2988 3500 \n",
       "L 3597 3500 \n",
       "L 2059 -325 \n",
       "z\n",
       "\" id=\"DejaVuSans-79\" transform=\"scale(0.015625)\"/>\n",
       "      </defs>\n",
       "      <use xlink:href=\"#DejaVuSans-45\"/>\n",
       "      <use x=\"63.183594\" xlink:href=\"#DejaVuSans-73\"/>\n",
       "      <use x=\"115.283203\" xlink:href=\"#DejaVuSans-74\"/>\n",
       "      <use x=\"154.492188\" xlink:href=\"#DejaVuSans-69\"/>\n",
       "      <use x=\"182.275391\" xlink:href=\"#DejaVuSans-6d\"/>\n",
       "      <use x=\"279.6875\" xlink:href=\"#DejaVuSans-61\"/>\n",
       "      <use x=\"340.966797\" xlink:href=\"#DejaVuSans-74\"/>\n",
       "      <use x=\"380.175781\" xlink:href=\"#DejaVuSans-65\"/>\n",
       "      <use x=\"441.699219\" xlink:href=\"#DejaVuSans-64\"/>\n",
       "      <use x=\"505.175781\" xlink:href=\"#DejaVuSans-20\"/>\n",
       "      <use x=\"536.962891\" xlink:href=\"#DejaVuSans-70\"/>\n",
       "      <use x=\"600.439453\" xlink:href=\"#DejaVuSans-72\"/>\n",
       "      <use x=\"639.302734\" xlink:href=\"#DejaVuSans-6f\"/>\n",
       "      <use x=\"700.484375\" xlink:href=\"#DejaVuSans-62\"/>\n",
       "      <use x=\"763.960938\" xlink:href=\"#DejaVuSans-61\"/>\n",
       "      <use x=\"825.240234\" xlink:href=\"#DejaVuSans-62\"/>\n",
       "      <use x=\"888.716797\" xlink:href=\"#DejaVuSans-69\"/>\n",
       "      <use x=\"916.5\" xlink:href=\"#DejaVuSans-6c\"/>\n",
       "      <use x=\"944.283203\" xlink:href=\"#DejaVuSans-69\"/>\n",
       "      <use x=\"972.066406\" xlink:href=\"#DejaVuSans-74\"/>\n",
       "      <use x=\"1011.275391\" xlink:href=\"#DejaVuSans-79\"/>\n",
       "     </g>\n",
       "    </g>\n",
       "   </g>\n",
       "   <g id=\"line2d_16\">\n",
       "    <path clip-path=\"url(#pa1a00435e1)\" d=\"M 65.361932 18.319091 \n",
       "L 66.581826 73.914541 \n",
       "L 67.191773 87.813408 \n",
       "L 67.80172 85.033638 \n",
       "L 68.411668 110.978183 \n",
       "L 69.021615 113.625586 \n",
       "L 69.631562 108.661708 \n",
       "L 70.241509 110.978183 \n",
       "L 70.851456 118.390912 \n",
       "L 71.461403 129.51 \n",
       "L 72.071351 134.142958 \n",
       "L 72.681298 133.786573 \n",
       "L 73.901192 140.629088 \n",
       "L 74.511139 139.934146 \n",
       "L 75.121086 136.050641 \n",
       "L 75.731034 138.775908 \n",
       "L 76.340981 144.140385 \n",
       "L 77.560875 148.041817 \n",
       "L 78.170822 144.672399 \n",
       "L 78.780769 146.430358 \n",
       "L 79.390717 145.725342 \n",
       "L 80.610611 148.754579 \n",
       "L 81.220558 145.982729 \n",
       "L 81.830505 147.37997 \n",
       "L 82.440452 146.763762 \n",
       "L 83.0504 144.335457 \n",
       "L 83.660347 145.650617 \n",
       "L 84.270294 148.620936 \n",
       "L 84.880241 149.726534 \n",
       "L 85.490188 147.496763 \n",
       "L 86.100135 146.982859 \n",
       "L 86.710083 149.586139 \n",
       "L 87.929977 151.455573 \n",
       "L 88.539924 150.892866 \n",
       "L 89.149871 151.748185 \n",
       "L 89.759819 153.917762 \n",
       "L 90.369766 154.660323 \n",
       "L 90.979713 154.075438 \n",
       "L 91.58966 152.253598 \n",
       "L 92.199607 154.219089 \n",
       "L 92.809554 154.890537 \n",
       "L 93.419502 154.350521 \n",
       "L 94.639396 155.605826 \n",
       "L 96.469237 154.1003 \n",
       "L 97.079185 154.6853 \n",
       "L 97.689132 156.278185 \n",
       "L 98.299079 154.780662 \n",
       "L 98.909026 152.343848 \n",
       "L 100.12892 149.639391 \n",
       "L 100.738868 151.182802 \n",
       "L 101.958762 150.472218 \n",
       "L 103.788603 152.095656 \n",
       "L 104.398551 153.458816 \n",
       "L 105.008498 153.095952 \n",
       "L 106.228392 150.767084 \n",
       "L 106.838339 147.236087 \n",
       "L 107.448286 146.188637 \n",
       "L 108.668181 148.813978 \n",
       "L 109.278128 147.787959 \n",
       "L 110.498022 148.783094 \n",
       "L 111.717917 148.282494 \n",
       "L 112.937811 150.622199 \n",
       "L 113.547758 148.968407 \n",
       "L 114.767652 149.849806 \n",
       "L 116.597494 149.131924 \n",
       "L 117.207441 148.25731 \n",
       "L 117.817388 148.041817 \n",
       "L 118.427335 147.199462 \n",
       "L 119.037283 148.250044 \n",
       "L 119.64723 148.041817 \n",
       "L 120.257177 147.227231 \n",
       "L 120.867124 147.638956 \n",
       "L 121.477071 146.846217 \n",
       "L 122.087018 146.66179 \n",
       "L 122.696966 145.896033 \n",
       "L 123.306913 144.567104 \n",
       "L 123.91686 144.411872 \n",
       "L 124.526807 145.394414 \n",
       "L 125.136754 145.233971 \n",
       "L 125.746701 143.408867 \n",
       "L 126.356649 143.271255 \n",
       "L 128.796437 144.864936 \n",
       "L 129.406384 145.76905 \n",
       "L 130.016332 145.617098 \n",
       "L 130.626279 145.982729 \n",
       "L 131.846173 144.672399 \n",
       "L 133.676015 144.269853 \n",
       "L 134.285962 145.115745 \n",
       "L 134.895909 144.496604 \n",
       "L 135.505856 144.36741 \n",
       "L 136.115803 143.765244 \n",
       "L 137.335698 144.460037 \n",
       "L 137.945645 144.335457 \n",
       "L 138.555592 143.753463 \n",
       "L 139.775486 144.425856 \n",
       "L 140.385433 142.960517 \n",
       "L 140.995381 142.852911 \n",
       "L 141.605328 142.305778 \n",
       "L 142.215275 142.205024 \n",
       "L 142.825222 142.540184 \n",
       "L 143.435169 142.439173 \n",
       "L 144.045116 143.195039 \n",
       "L 144.655064 142.666181 \n",
       "L 145.874958 144.140385 \n",
       "L 146.484905 143.201418 \n",
       "L 147.094852 143.923641 \n",
       "L 147.704799 143.817659 \n",
       "L 148.924694 144.416031 \n",
       "L 150.754535 144.09888 \n",
       "L 151.364482 144.387657 \n",
       "L 151.97443 144.283621 \n",
       "L 153.194324 143.313008 \n",
       "L 154.414218 143.125218 \n",
       "L 155.024165 143.408867 \n",
       "L 155.634113 142.942457 \n",
       "L 156.24406 143.223545 \n",
       "L 156.854007 143.132732 \n",
       "L 157.463954 143.774622 \n",
       "L 158.073901 143.31802 \n",
       "L 158.683848 142.506343 \n",
       "L 159.293796 142.781177 \n",
       "L 159.903743 143.408867 \n",
       "L 160.51369 143.32034 \n",
       "L 161.123637 143.936672 \n",
       "L 161.733584 144.195592 \n",
       "L 162.953479 145.394414 \n",
       "L 163.563426 145.296369 \n",
       "L 164.173373 145.881668 \n",
       "L 164.78332 145.442845 \n",
       "L 165.393267 145.346282 \n",
       "L 166.003214 144.581055 \n",
       "L 167.223109 143.739794 \n",
       "L 167.833056 143.655592 \n",
       "L 168.443003 143.24535 \n",
       "L 169.05295 142.514785 \n",
       "L 169.662897 142.762404 \n",
       "L 170.272845 143.328525 \n",
       "L 172.102686 144.040633 \n",
       "L 175.152422 143.63923 \n",
       "L 175.762369 143.867067 \n",
       "L 176.372316 143.788614 \n",
       "L 176.982263 144.013162 \n",
       "L 177.592211 144.535798 \n",
       "L 178.202158 144.455017 \n",
       "L 178.812105 144.077796 \n",
       "L 179.422052 144.000304 \n",
       "L 181.861841 144.856659 \n",
       "L 183.081735 144.698453 \n",
       "L 183.691682 145.190768 \n",
       "L 184.301629 144.827117 \n",
       "L 184.911577 145.031576 \n",
       "L 186.131471 144.875581 \n",
       "L 186.741418 145.076725 \n",
       "L 187.351365 144.446094 \n",
       "L 188.57126 144.298939 \n",
       "L 189.181207 144.498974 \n",
       "L 189.791154 144.154659 \n",
       "L 190.401101 144.35345 \n",
       "L 191.620995 144.210719 \n",
       "L 192.230943 144.672399 \n",
       "L 192.84089 144.864936 \n",
       "L 193.450837 144.265197 \n",
       "L 194.060784 144.195592 \n",
       "L 194.670731 144.648672 \n",
       "L 195.890626 145.025014 \n",
       "L 196.500573 144.953181 \n",
       "L 197.720467 145.321553 \n",
       "L 198.330414 145.757071 \n",
       "L 198.940361 145.93593 \n",
       "L 199.550309 145.861603 \n",
       "L 200.770203 145.216342 \n",
       "L 201.38015 145.146223 \n",
       "L 201.990097 144.582546 \n",
       "L 203.209992 144.939578 \n",
       "L 204.429886 144.804824 \n",
       "L 205.039833 145.22176 \n",
       "L 206.259727 144.607043 \n",
       "L 206.869675 144.542251 \n",
       "L 207.479622 144.953181 \n",
       "L 208.089569 145.124046 \n",
       "L 212.969146 144.610001 \n",
       "L 214.189041 144.94058 \n",
       "L 214.798988 144.877851 \n",
       "L 215.408935 145.2658 \n",
       "L 216.628829 145.139248 \n",
       "L 217.238776 145.299111 \n",
       "L 217.848724 145.236208 \n",
       "L 219.068618 145.551378 \n",
       "L 219.678565 145.488227 \n",
       "L 220.288512 145.207544 \n",
       "L 220.898459 145.363389 \n",
       "L 221.508407 145.301704 \n",
       "L 222.118354 145.455984 \n",
       "L 222.728301 145.394414 \n",
       "L 223.338248 145.119498 \n",
       "L 223.948195 145.059685 \n",
       "L 224.558142 145.212531 \n",
       "L 225.16809 145.57561 \n",
       "L 225.778037 145.514753 \n",
       "L 226.387984 145.873947 \n",
       "L 227.607878 145.751371 \n",
       "L 228.217825 145.483322 \n",
       "L 228.827773 145.010591 \n",
       "L 229.43772 145.159089 \n",
       "L 230.047667 144.896201 \n",
       "L 230.657614 145.044027 \n",
       "L 231.877508 144.930639 \n",
       "L 232.487456 145.076725 \n",
       "L 233.097403 145.020325 \n",
       "L 233.70735 144.562921 \n",
       "L 234.317297 144.708759 \n",
       "L 234.927244 145.052817 \n",
       "L 236.147139 145.33789 \n",
       "L 237.97698 145.170695 \n",
       "L 239.196874 145.449953 \n",
       "L 240.416769 144.953181 \n",
       "L 241.026716 145.284489 \n",
       "L 241.636663 145.038385 \n",
       "L 242.24661 145.176072 \n",
       "L 242.856557 145.503213 \n",
       "L 243.466505 145.638372 \n",
       "L 244.076452 145.96172 \n",
       "L 244.686399 146.09441 \n",
       "L 245.296346 146.414021 \n",
       "L 246.51624 146.673695 \n",
       "L 247.126188 146.430358 \n",
       "L 247.736135 146.373958 \n",
       "L 249.565976 146.757433 \n",
       "L 250.175923 147.066457 \n",
       "L 250.785871 147.008897 \n",
       "L 253.225659 147.502057 \n",
       "L 253.835606 147.444017 \n",
       "L 254.445554 147.207589 \n",
       "L 255.055501 147.329055 \n",
       "L 255.665448 147.272124 \n",
       "L 257.495289 147.631302 \n",
       "L 258.715184 147.517333 \n",
       "L 259.935078 147.752262 \n",
       "L 260.545025 147.522238 \n",
       "L 261.154972 147.811611 \n",
       "L 262.984814 147.642676 \n",
       "L 263.594761 147.92813 \n",
       "L 264.204708 148.041817 \n",
       "L 264.814655 147.815819 \n",
       "L 265.424603 147.929166 \n",
       "L 266.03455 147.873346 \n",
       "L 266.644497 147.649908 \n",
       "L 267.254444 147.762725 \n",
       "L 267.864391 147.374006 \n",
       "L 268.474338 147.320522 \n",
       "L 269.084286 147.433313 \n",
       "L 269.694233 147.37997 \n",
       "L 270.30418 147.656884 \n",
       "L 271.524074 147.549825 \n",
       "L 272.134021 147.823797 \n",
       "L 273.353916 148.041817 \n",
       "L 273.963863 148.311962 \n",
       "L 274.57381 147.934079 \n",
       "L 275.183757 148.041817 \n",
       "L 275.793704 147.827575 \n",
       "L 276.403652 148.095226 \n",
       "L 277.013599 148.041817 \n",
       "L 277.623546 147.829422 \n",
       "L 278.84344 148.358603 \n",
       "L 280.673282 148.67002 \n",
       "L 281.893176 148.250044 \n",
       "L 282.503123 148.509005 \n",
       "L 283.11307 148.611235 \n",
       "L 283.723018 148.558024 \n",
       "L 284.332965 148.659549 \n",
       "L 284.942912 148.298491 \n",
       "L 285.552859 148.093014 \n",
       "L 286.162806 148.041817 \n",
       "L 286.772753 148.296379 \n",
       "L 287.992648 148.193719 \n",
       "L 289.212542 147.79003 \n",
       "L 289.822489 147.891157 \n",
       "L 290.432436 147.691214 \n",
       "L 291.042384 147.941916 \n",
       "L 291.652331 148.041817 \n",
       "L 292.872225 147.942719 \n",
       "L 294.092119 147.548955 \n",
       "L 294.702067 147.796036 \n",
       "L 295.921961 147.69954 \n",
       "L 296.531908 147.505371 \n",
       "L 297.141855 147.458142 \n",
       "L 297.751802 147.556692 \n",
       "L 298.36175 147.509571 \n",
       "L 298.971697 147.607484 \n",
       "L 299.581644 147.416074 \n",
       "L 302.63138 147.186505 \n",
       "L 303.241327 147.425675 \n",
       "L 304.461221 147.334497 \n",
       "L 305.071168 147.148157 \n",
       "L 305.681116 147.103496 \n",
       "L 306.291063 147.199462 \n",
       "L 306.90101 147.154909 \n",
       "L 307.510957 146.970888 \n",
       "L 308.120904 147.066457 \n",
       "L 308.730851 147.022566 \n",
       "L 309.340799 146.840252 \n",
       "L 309.950746 146.797148 \n",
       "L 310.560693 146.616292 \n",
       "L 311.17064 146.711563 \n",
       "L 314.220376 146.501281 \n",
       "L 314.830323 146.731031 \n",
       "L 315.44027 146.689129 \n",
       "L 316.050217 146.512498 \n",
       "L 318.490006 146.349006 \n",
       "L 319.099953 146.441948 \n",
       "L 319.7099 146.26844 \n",
       "L 320.319848 146.228443 \n",
       "L 320.929795 146.45338 \n",
       "L 321.539742 146.545188 \n",
       "L 322.149689 146.768302 \n",
       "L 323.979531 146.646481 \n",
       "L 324.589478 146.736764 \n",
       "L 325.199425 146.436016 \n",
       "L 325.809372 146.396475 \n",
       "L 326.419319 146.616292 \n",
       "L 327.029266 146.705805 \n",
       "L 327.639214 146.665908 \n",
       "L 328.249161 146.497503 \n",
       "L 328.859108 146.586668 \n",
       "L 329.469055 146.803519 \n",
       "L 330.079002 146.891565 \n",
       "L 330.688949 146.724188 \n",
       "L 331.298897 146.684796 \n",
       "L 331.908844 146.518653 \n",
       "L 332.518791 146.60655 \n",
       "L 333.128738 146.820403 \n",
       "L 333.738685 146.781151 \n",
       "L 334.348632 146.867856 \n",
       "L 334.95858 146.577679 \n",
       "L 335.568527 146.414021 \n",
       "L 336.178474 146.625902 \n",
       "L 336.788421 146.462874 \n",
       "L 337.398368 146.176202 \n",
       "L 338.008315 146.263097 \n",
       "L 338.618263 146.225784 \n",
       "L 339.838157 146.398198 \n",
       "L 340.448104 146.237838 \n",
       "L 342.277946 146.494106 \n",
       "L 342.887893 146.700702 \n",
       "L 343.49784 146.784738 \n",
       "L 344.717734 146.467224 \n",
       "L 346.547576 146.718116 \n",
       "L 347.76747 146.643946 \n",
       "L 349.597312 146.891019 \n",
       "L 350.817206 146.816898 \n",
       "L 351.427153 146.898367 \n",
       "L 352.0371 146.743416 \n",
       "L 353.866942 146.634336 \n",
       "L 354.476889 146.481249 \n",
       "L 355.696783 146.643192 \n",
       "L 356.306731 146.839962 \n",
       "L 356.916678 146.803784 \n",
       "L 357.526625 146.883579 \n",
       "L 358.136572 146.731876 \n",
       "L 358.746519 146.465459 \n",
       "L 359.966414 146.739995 \n",
       "L 361.796255 147.318815 \n",
       "L 362.406202 147.396241 \n",
       "L 364.236044 147.286962 \n",
       "L 364.845991 147.024828 \n",
       "L 365.455938 147.102071 \n",
       "L 366.675832 147.367933 \n",
       "L 367.895727 147.631658 \n",
       "L 368.505674 147.483633 \n",
       "L 369.115621 147.670437 \n",
       "L 369.725568 147.522925 \n",
       "L 369.725568 147.522925 \n",
       "\" style=\"fill:none;stroke:#1f77b4;stroke-linecap:square;stroke-width:1.5;\"/>\n",
       "   </g>\n",
       "   <g id=\"line2d_17\">\n",
       "    <path clip-path=\"url(#pa1a00435e1)\" d=\"M 65.361932 129.51 \n",
       "L 65.971879 185.105455 \n",
       "L 66.581826 185.105455 \n",
       "L 67.191773 199.004317 \n",
       "L 67.80172 185.105455 \n",
       "L 68.411668 194.371363 \n",
       "L 69.021615 185.105455 \n",
       "L 69.631562 178.156025 \n",
       "L 70.241509 172.75091 \n",
       "L 70.851456 162.867274 \n",
       "L 72.071351 166.573634 \n",
       "L 72.681298 163.722585 \n",
       "L 73.291245 169.221036 \n",
       "L 73.901192 159.160914 \n",
       "L 75.121086 162.213206 \n",
       "L 75.731034 163.484997 \n",
       "L 76.950928 160.087504 \n",
       "L 77.560875 158.631426 \n",
       "L 78.170822 162.361861 \n",
       "L 78.780769 160.93352 \n",
       "L 79.390717 161.940684 \n",
       "L 80.000664 165.091088 \n",
       "L 80.610611 161.584298 \n",
       "L 81.220558 162.455458 \n",
       "L 82.440452 160.183354 \n",
       "L 83.0504 155.454545 \n",
       "L 83.660347 158.204433 \n",
       "L 84.270294 153.833013 \n",
       "L 84.880241 151.411243 \n",
       "L 85.490188 152.402244 \n",
       "L 86.710083 151.130453 \n",
       "L 87.32003 153.551278 \n",
       "L 87.929977 152.918617 \n",
       "L 88.539924 155.169439 \n",
       "L 89.149871 154.527955 \n",
       "L 89.759819 155.273747 \n",
       "L 90.369766 152.01292 \n",
       "L 90.979713 154.075438 \n",
       "L 92.199607 152.983641 \n",
       "L 92.809554 150.056144 \n",
       "L 93.419502 150.801878 \n",
       "L 94.639396 154.471224 \n",
       "L 95.249343 152.860088 \n",
       "L 95.85929 154.582458 \n",
       "L 96.469237 155.169439 \n",
       "L 97.079185 153.636333 \n",
       "L 97.689132 154.219089 \n",
       "L 98.909026 153.336622 \n",
       "L 99.518973 153.893969 \n",
       "L 100.738868 156.836577 \n",
       "L 101.348815 155.454545 \n",
       "L 101.958762 156.852027 \n",
       "L 102.568709 156.411025 \n",
       "L 103.178656 157.748959 \n",
       "L 103.788603 158.176407 \n",
       "L 104.398551 156.88007 \n",
       "L 105.008498 156.465371 \n",
       "L 105.618445 157.722623 \n",
       "L 106.228392 157.307725 \n",
       "L 106.838339 157.710594 \n",
       "L 107.448286 158.89617 \n",
       "L 108.668181 158.079886 \n",
       "L 109.888075 158.810311 \n",
       "L 110.498022 157.678368 \n",
       "L 111.717917 156.946717 \n",
       "L 112.327864 157.307725 \n",
       "L 112.937811 156.955855 \n",
       "L 114.767652 160.019704 \n",
       "L 115.3776 159.652119 \n",
       "L 115.987547 158.631426 \n",
       "L 116.597494 158.942886 \n",
       "L 117.207441 157.954188 \n",
       "L 117.817388 158.266268 \n",
       "L 118.427335 159.203031 \n",
       "L 119.64723 158.543181 \n",
       "L 120.867124 159.120627 \n",
       "L 121.477071 159.997834 \n",
       "L 123.306913 159.04509 \n",
       "L 126.356649 160.335206 \n",
       "L 126.966596 160.032992 \n",
       "L 127.576543 160.27642 \n",
       "L 128.18649 159.980585 \n",
       "L 128.796437 159.160914 \n",
       "L 129.406384 159.405667 \n",
       "L 130.626279 158.852047 \n",
       "L 131.236226 159.092907 \n",
       "L 131.846173 158.823972 \n",
       "L 132.45612 158.059018 \n",
       "L 133.066067 158.79689 \n",
       "L 133.676015 158.045722 \n",
       "L 134.285962 157.795409 \n",
       "L 134.895909 158.516323 \n",
       "L 135.505856 158.266268 \n",
       "L 136.72575 158.721171 \n",
       "L 137.335698 158.008508 \n",
       "L 137.945645 157.77102 \n",
       "L 139.165539 158.21913 \n",
       "L 139.775486 157.533723 \n",
       "L 140.385433 158.204433 \n",
       "L 140.995381 157.974874 \n",
       "L 141.605328 158.631426 \n",
       "L 142.215275 157.964369 \n",
       "L 142.825222 157.742066 \n",
       "L 143.435169 157.954188 \n",
       "L 144.045116 157.735389 \n",
       "L 144.655064 158.368713 \n",
       "L 145.265011 158.571265 \n",
       "L 145.874958 159.188774 \n",
       "L 146.484905 158.967291 \n",
       "L 147.094852 158.337273 \n",
       "L 148.314747 157.916436 \n",
       "L 148.924694 156.904865 \n",
       "L 149.534641 156.70778 \n",
       "L 150.144588 157.307725 \n",
       "L 150.754535 157.110582 \n",
       "L 151.97443 155.947001 \n",
       "L 153.804271 156.546143 \n",
       "L 155.024165 156.180794 \n",
       "L 155.634113 156.374922 \n",
       "L 156.24406 156.195822 \n",
       "L 156.854007 155.282727 \n",
       "L 157.463954 155.113171 \n",
       "L 158.073901 154.582458 \n",
       "L 158.683848 154.419654 \n",
       "L 159.293796 153.541585 \n",
       "L 159.903743 154.1003 \n",
       "L 161.123637 153.789031 \n",
       "L 161.733584 153.985984 \n",
       "L 162.343531 153.13807 \n",
       "L 162.953479 152.991313 \n",
       "L 164.173373 153.38535 \n",
       "L 165.393267 153.095952 \n",
       "L 166.003214 153.623692 \n",
       "L 166.613162 153.812202 \n",
       "L 167.223109 153.005703 \n",
       "L 167.833056 152.866674 \n",
       "L 168.443003 153.056312 \n",
       "L 169.662897 154.075438 \n",
       "L 170.882792 153.793074 \n",
       "L 173.32258 154.496723 \n",
       "L 173.932528 154.046542 \n",
       "L 174.542475 154.527955 \n",
       "L 175.152422 154.69689 \n",
       "L 175.762369 155.169439 \n",
       "L 177.592211 153.851793 \n",
       "L 178.202158 153.720925 \n",
       "L 178.812105 153.888758 \n",
       "L 179.422052 153.463364 \n",
       "L 180.641946 153.796437 \n",
       "L 181.251894 153.08713 \n",
       "L 181.861841 152.96433 \n",
       "L 182.471788 153.130871 \n",
       "L 183.081735 153.009107 \n",
       "L 183.691682 153.17371 \n",
       "L 184.301629 152.769325 \n",
       "L 184.911577 153.215678 \n",
       "L 185.521524 152.53438 \n",
       "L 186.131471 152.698054 \n",
       "L 187.351365 153.573704 \n",
       "L 187.961312 153.179351 \n",
       "L 188.57126 153.336622 \n",
       "L 189.181207 152.947298 \n",
       "L 189.791154 153.104171 \n",
       "L 190.401101 152.719751 \n",
       "L 193.450837 153.48719 \n",
       "L 194.060784 153.374092 \n",
       "L 194.670731 153.523061 \n",
       "L 195.890626 153.299682 \n",
       "L 196.500573 152.932162 \n",
       "L 197.11052 152.824225 \n",
       "L 197.720467 152.462256 \n",
       "L 198.330414 151.849727 \n",
       "L 198.940361 151.748185 \n",
       "L 200.160256 152.048701 \n",
       "L 200.770203 152.446243 \n",
       "L 201.38015 152.343848 \n",
       "L 201.990097 152.489454 \n",
       "L 202.600044 152.38778 \n",
       "L 203.209992 152.531911 \n",
       "L 203.819939 152.187091 \n",
       "L 204.429886 152.088068 \n",
       "L 205.039833 151.748185 \n",
       "L 205.64978 152.133259 \n",
       "L 206.259727 152.275377 \n",
       "L 208.089569 153.404222 \n",
       "L 211.139305 152.906423 \n",
       "L 211.749252 153.040025 \n",
       "L 212.359199 152.713065 \n",
       "L 214.189041 153.109704 \n",
       "L 214.798988 153.013771 \n",
       "L 215.408935 153.143695 \n",
       "L 216.018882 153.49675 \n",
       "L 216.628829 153.623692 \n",
       "L 217.848724 154.317532 \n",
       "L 219.068618 153.681939 \n",
       "L 219.678565 153.586776 \n",
       "L 220.288512 153.928399 \n",
       "L 220.898459 153.398672 \n",
       "L 222.118354 153.213491 \n",
       "L 222.728301 153.336622 \n",
       "L 224.558142 153.063801 \n",
       "L 225.16809 153.185631 \n",
       "L 225.778037 153.095952 \n",
       "L 226.387984 152.797152 \n",
       "L 226.997931 152.709611 \n",
       "L 228.827773 153.0709 \n",
       "L 229.43772 152.777725 \n",
       "L 230.047667 152.89702 \n",
       "L 230.657614 152.811036 \n",
       "L 231.267561 152.929329 \n",
       "L 231.877508 152.843859 \n",
       "L 232.487456 152.556847 \n",
       "L 233.097403 152.87621 \n",
       "L 233.70735 152.591144 \n",
       "L 234.317297 152.908088 \n",
       "L 234.927244 153.023489 \n",
       "L 235.537191 152.542408 \n",
       "L 236.147139 152.658289 \n",
       "L 236.757086 152.379056 \n",
       "L 239.196874 152.059205 \n",
       "L 239.806822 152.368063 \n",
       "L 240.416769 152.481733 \n",
       "L 241.026716 152.017502 \n",
       "L 241.636663 152.131602 \n",
       "L 242.856557 151.97666 \n",
       "L 244.076452 152.202028 \n",
       "L 244.686399 152.502021 \n",
       "L 245.296346 152.236524 \n",
       "L 245.906293 152.347195 \n",
       "L 246.51624 152.270556 \n",
       "L 247.736135 152.489454 \n",
       "L 248.346082 152.413113 \n",
       "L 248.956029 152.521365 \n",
       "L 249.565976 152.07845 \n",
       "L 250.175923 151.821336 \n",
       "L 251.395818 152.038875 \n",
       "L 252.005765 151.784404 \n",
       "L 252.615712 151.89259 \n",
       "L 253.225659 152.179991 \n",
       "L 253.835606 151.748185 \n",
       "L 254.445554 151.676674 \n",
       "L 255.055501 150.892866 \n",
       "L 256.275395 151.110786 \n",
       "L 256.885342 151.042208 \n",
       "L 257.495289 151.325939 \n",
       "L 260.545025 150.986131 \n",
       "L 261.154972 150.746771 \n",
       "L 261.76492 150.681026 \n",
       "L 262.374867 150.787273 \n",
       "L 262.984814 150.721802 \n",
       "L 263.594761 150.827278 \n",
       "L 264.204708 150.422057 \n",
       "L 264.814655 150.527798 \n",
       "L 265.424603 150.463909 \n",
       "L 266.03455 150.063476 \n",
       "L 266.644497 150.001376 \n",
       "L 267.864391 150.212214 \n",
       "L 268.474338 150.483137 \n",
       "L 269.084286 150.254572 \n",
       "L 269.694233 150.3583 \n",
       "L 270.30418 150.296432 \n",
       "L 270.914127 150.399415 \n",
       "L 272.134021 150.276542 \n",
       "L 272.743969 150.37868 \n",
       "L 273.353916 150.317657 \n",
       "L 273.963863 149.932823 \n",
       "L 275.793704 149.273702 \n",
       "L 276.403652 149.537178 \n",
       "L 277.623546 149.741015 \n",
       "L 278.233493 149.524362 \n",
       "L 279.453387 150.042417 \n",
       "L 280.063335 149.984244 \n",
       "L 280.673282 149.612309 \n",
       "L 281.893176 149.811714 \n",
       "L 282.503123 149.754842 \n",
       "L 283.11307 149.543002 \n",
       "L 283.723018 149.487199 \n",
       "L 284.942912 149.992537 \n",
       "L 285.552859 150.08953 \n",
       "L 286.162806 149.879687 \n",
       "L 286.772753 149.823726 \n",
       "L 287.382701 149.920388 \n",
       "L 287.992648 150.168422 \n",
       "L 288.602595 150.263618 \n",
       "L 289.212542 150.207218 \n",
       "L 289.822489 150.45246 \n",
       "L 290.432436 150.395861 \n",
       "L 292.262278 149.780731 \n",
       "L 292.872225 149.726534 \n",
       "L 293.482172 149.969125 \n",
       "L 294.702067 149.860592 \n",
       "L 295.312014 149.953832 \n",
       "L 295.921961 149.60651 \n",
       "L 296.531908 149.699933 \n",
       "L 297.141855 149.646938 \n",
       "L 298.36175 149.832102 \n",
       "L 298.971697 149.779181 \n",
       "L 299.581644 149.582129 \n",
       "L 300.801538 149.765711 \n",
       "L 301.411485 149.570216 \n",
       "L 302.021433 149.518646 \n",
       "L 302.63138 149.609899 \n",
       "L 303.241327 149.558494 \n",
       "L 304.461221 150.022319 \n",
       "L 305.071168 150.11136 \n",
       "L 306.291063 150.007316 \n",
       "L 309.950746 150.53117 \n",
       "L 310.560693 150.754914 \n",
       "L 311.17064 150.839937 \n",
       "L 311.780587 150.787273 \n",
       "L 312.390534 150.871798 \n",
       "L 313.000482 151.092511 \n",
       "L 313.610429 150.903354 \n",
       "L 316.660165 151.317423 \n",
       "L 317.270112 151.130453 \n",
       "L 317.880059 151.212327 \n",
       "L 318.490006 151.427439 \n",
       "L 319.099953 151.108234 \n",
       "L 319.7099 151.322576 \n",
       "L 320.319848 151.137826 \n",
       "L 321.539742 151.299197 \n",
       "L 323.369583 150.751658 \n",
       "L 323.979531 150.832497 \n",
       "L 324.589478 150.521428 \n",
       "L 326.419319 150.374496 \n",
       "L 327.029266 150.455269 \n",
       "L 327.639214 150.664656 \n",
       "L 328.249161 150.615687 \n",
       "L 328.859108 150.181752 \n",
       "L 329.469055 150.390319 \n",
       "L 330.079002 150.470131 \n",
       "L 330.688949 150.677074 \n",
       "L 331.298897 150.755859 \n",
       "L 331.908844 150.580429 \n",
       "L 332.518791 150.659072 \n",
       "L 333.128738 150.863713 \n",
       "L 333.738685 150.941354 \n",
       "L 334.348632 150.892866 \n",
       "L 335.568527 151.04698 \n",
       "L 336.178474 150.873646 \n",
       "L 336.788421 151.075055 \n",
       "L 337.398368 151.151189 \n",
       "L 338.618263 151.054792 \n",
       "L 339.22821 151.130453 \n",
       "L 339.838157 151.329062 \n",
       "L 340.448104 151.403787 \n",
       "L 341.667998 151.307341 \n",
       "L 342.277946 151.503805 \n",
       "L 342.887893 151.333652 \n",
       "L 343.49784 151.529204 \n",
       "L 344.107787 151.602521 \n",
       "L 344.717734 151.796632 \n",
       "L 345.327681 151.627324 \n",
       "L 345.937629 151.57935 \n",
       "L 347.157523 151.724169 \n",
       "L 347.76747 151.915927 \n",
       "L 348.987365 152.058368 \n",
       "L 349.597312 152.010087 \n",
       "L 350.207259 151.843215 \n",
       "L 350.817206 151.795597 \n",
       "L 351.427153 151.866469 \n",
       "L 352.0371 151.700964 \n",
       "L 352.647048 151.418376 \n",
       "L 354.476889 151.631144 \n",
       "L 355.086836 151.467867 \n",
       "L 356.306731 151.375993 \n",
       "L 356.916678 151.44641 \n",
       "L 357.526625 151.28489 \n",
       "L 359.356466 151.494957 \n",
       "L 359.966414 150.990066 \n",
       "L 360.576361 150.716516 \n",
       "L 361.186308 150.787273 \n",
       "L 363.016149 151.225201 \n",
       "L 363.626097 151.294343 \n",
       "L 364.236044 151.249972 \n",
       "L 364.845991 151.31879 \n",
       "L 366.065885 151.230495 \n",
       "L 366.675832 151.298924 \n",
       "L 367.895727 151.099387 \n",
       "L 368.505674 151.167666 \n",
       "L 369.115621 150.790023 \n",
       "L 369.725568 150.858659 \n",
       "L 369.725568 150.858659 \n",
       "\" style=\"fill:none;stroke:#ff7f0e;stroke-linecap:square;stroke-width:1.5;\"/>\n",
       "   </g>\n",
       "   <g id=\"line2d_18\">\n",
       "    <path clip-path=\"url(#pa1a00435e1)\" d=\"M 65.361932 240.700909 \n",
       "L 65.971879 212.903182 \n",
       "L 66.581826 203.637271 \n",
       "L 67.191773 199.004317 \n",
       "L 67.80172 196.224547 \n",
       "L 68.411668 157.307725 \n",
       "L 69.021615 169.221036 \n",
       "L 69.631562 164.257159 \n",
       "L 70.241509 166.573634 \n",
       "L 70.851456 168.426822 \n",
       "L 71.461403 174.997192 \n",
       "L 72.071351 175.839546 \n",
       "L 73.291245 161.278829 \n",
       "L 74.511139 150.3583 \n",
       "L 75.121086 149.131924 \n",
       "L 75.731034 144.953181 \n",
       "L 76.340981 147.066457 \n",
       "L 76.950928 143.408867 \n",
       "L 78.170822 147.199462 \n",
       "L 78.780769 148.847554 \n",
       "L 80.000664 147.300548 \n",
       "L 81.220558 150.100913 \n",
       "L 81.830505 151.351074 \n",
       "L 83.0504 149.895005 \n",
       "L 83.660347 151.030825 \n",
       "L 85.490188 149.131924 \n",
       "L 86.100135 151.748185 \n",
       "L 86.710083 152.674775 \n",
       "L 87.32003 155.053855 \n",
       "L 87.929977 154.381653 \n",
       "L 88.539924 150.892866 \n",
       "L 89.149871 148.968407 \n",
       "L 89.759819 148.493812 \n",
       "L 90.369766 149.365518 \n",
       "L 90.979713 148.903764 \n",
       "L 92.199607 145.570913 \n",
       "L 92.809554 145.22176 \n",
       "L 93.419502 146.070353 \n",
       "L 94.639396 145.394414 \n",
       "L 95.249343 146.188637 \n",
       "L 96.469237 145.547153 \n",
       "L 97.079185 146.293533 \n",
       "L 98.299079 145.683224 \n",
       "L 98.909026 146.387197 \n",
       "L 99.518973 146.091105 \n",
       "L 100.12892 147.722305 \n",
       "L 101.348815 147.115227 \n",
       "L 101.958762 145.003815 \n",
       "L 102.568709 144.753917 \n",
       "L 103.788603 146.014905 \n",
       "L 104.398551 147.471612 \n",
       "L 105.618445 148.595005 \n",
       "L 106.228392 147.496763 \n",
       "L 106.838339 148.847554 \n",
       "L 107.448286 149.365518 \n",
       "L 108.058234 146.736764 \n",
       "L 109.888075 146.038383 \n",
       "L 110.498022 146.559271 \n",
       "L 111.107969 145.603421 \n",
       "L 112.327864 146.616292 \n",
       "L 112.937811 144.992283 \n",
       "L 113.547758 144.103809 \n",
       "L 114.157705 145.296369 \n",
       "L 114.767652 144.425856 \n",
       "L 115.3776 144.246143 \n",
       "L 115.987547 144.732568 \n",
       "L 117.817388 148.041817 \n",
       "L 119.64723 147.424093 \n",
       "L 120.867124 145.826055 \n",
       "L 121.477071 146.846217 \n",
       "L 122.696966 147.651673 \n",
       "L 123.306913 148.620936 \n",
       "L 123.91686 148.423917 \n",
       "L 125.136754 149.164962 \n",
       "L 126.356649 147.674852 \n",
       "L 126.966596 146.406656 \n",
       "L 128.796437 147.512338 \n",
       "L 129.406384 147.342508 \n",
       "L 130.626279 145.982729 \n",
       "L 131.236226 146.341649 \n",
       "L 131.846173 147.199462 \n",
       "L 133.066067 147.876353 \n",
       "L 133.676015 148.697814 \n",
       "L 134.285962 148.529501 \n",
       "L 134.895909 148.847554 \n",
       "L 135.505856 148.680848 \n",
       "L 136.115803 149.467341 \n",
       "L 136.72575 148.355919 \n",
       "L 137.335698 148.664735 \n",
       "L 137.945645 149.431702 \n",
       "L 138.555592 149.267067 \n",
       "L 139.165539 148.193719 \n",
       "L 140.385433 147.892367 \n",
       "L 140.995381 148.190074 \n",
       "L 141.605328 148.041817 \n",
       "L 143.435169 148.903764 \n",
       "L 144.045116 148.754579 \n",
       "L 145.265011 149.305349 \n",
       "L 145.874958 148.320495 \n",
       "L 146.484905 149.009903 \n",
       "L 147.094852 148.041817 \n",
       "L 147.704799 148.314348 \n",
       "L 148.314747 148.988704 \n",
       "L 148.924694 149.250415 \n",
       "L 149.534641 149.108396 \n",
       "L 150.144588 149.365518 \n",
       "L 150.754535 148.830406 \n",
       "L 151.364482 149.085863 \n",
       "L 152.584377 148.813978 \n",
       "L 153.194324 149.064265 \n",
       "L 154.414218 148.798221 \n",
       "L 155.634113 150.031813 \n",
       "L 158.073901 150.948768 \n",
       "L 158.683848 151.531574 \n",
       "L 159.293796 151.748185 \n",
       "L 159.903743 151.249251 \n",
       "L 160.51369 151.819008 \n",
       "L 161.123637 151.677809 \n",
       "L 161.733584 152.2377 \n",
       "L 162.343531 152.095656 \n",
       "L 162.953479 152.300686 \n",
       "L 163.563426 151.816821 \n",
       "L 164.173373 152.021047 \n",
       "L 164.78332 152.561776 \n",
       "L 165.393267 152.422069 \n",
       "L 167.223109 153.005703 \n",
       "L 167.833056 152.866674 \n",
       "L 169.05295 153.243737 \n",
       "L 169.662897 153.105745 \n",
       "L 170.272845 153.290718 \n",
       "L 172.712633 152.753303 \n",
       "L 173.932528 153.114775 \n",
       "L 175.152422 152.853949 \n",
       "L 175.762369 152.420213 \n",
       "L 176.982263 152.775488 \n",
       "L 177.592211 152.649731 \n",
       "L 178.202158 152.824225 \n",
       "L 178.812105 152.699545 \n",
       "L 180.031999 153.042469 \n",
       "L 180.641946 152.918617 \n",
       "L 181.251894 153.08713 \n",
       "L 182.471788 152.842807 \n",
       "L 183.081735 153.009107 \n",
       "L 183.691682 152.603496 \n",
       "L 184.301629 153.052973 \n",
       "L 184.911577 152.651256 \n",
       "L 186.131471 152.41868 \n",
       "L 186.741418 151.470203 \n",
       "L 187.351365 151.084359 \n",
       "L 189.791154 150.663397 \n",
       "L 190.401101 151.100472 \n",
       "L 191.011048 150.996163 \n",
       "L 192.230943 151.322576 \n",
       "L 194.670731 150.912947 \n",
       "L 195.280678 151.072727 \n",
       "L 195.890626 151.489597 \n",
       "L 196.500573 151.38784 \n",
       "L 197.11052 151.799424 \n",
       "L 197.720467 151.697178 \n",
       "L 198.330414 151.849727 \n",
       "L 198.940361 151.748185 \n",
       "L 199.550309 150.641302 \n",
       "L 200.160256 150.796551 \n",
       "L 200.770203 151.19971 \n",
       "L 201.38015 151.102883 \n",
       "L 201.990097 151.501096 \n",
       "L 202.600044 151.157791 \n",
       "L 203.209992 150.5726 \n",
       "L 203.819939 150.724055 \n",
       "L 204.429886 151.116966 \n",
       "L 205.039833 150.781308 \n",
       "L 205.64978 151.170566 \n",
       "L 206.259727 151.316843 \n",
       "L 207.479622 150.180103 \n",
       "L 208.699516 150.476087 \n",
       "L 209.309463 150.153038 \n",
       "L 210.529358 150.445526 \n",
       "L 211.139305 150.126653 \n",
       "L 211.749252 149.579727 \n",
       "L 212.359199 149.726534 \n",
       "L 212.969146 149.185755 \n",
       "L 213.579093 148.87727 \n",
       "L 214.798988 148.719809 \n",
       "L 216.018882 148.116542 \n",
       "L 216.628829 148.041817 \n",
       "L 217.238776 147.745311 \n",
       "L 217.848724 147.672657 \n",
       "L 218.458671 147.821204 \n",
       "L 219.678565 147.677023 \n",
       "L 220.898459 147.969428 \n",
       "L 222.118354 146.964385 \n",
       "L 223.338248 146.83012 \n",
       "L 224.558142 145.849127 \n",
       "L 225.16809 145.152826 \n",
       "L 225.778037 145.304164 \n",
       "L 226.997931 144.767404 \n",
       "L 228.217825 144.653543 \n",
       "L 228.827773 145.010591 \n",
       "L 229.43772 145.159089 \n",
       "L 230.047667 145.101347 \n",
       "L 230.657614 144.839627 \n",
       "L 231.267561 144.376183 \n",
       "L 231.877508 144.321928 \n",
       "L 232.487456 144.672399 \n",
       "L 233.097403 144.617465 \n",
       "L 233.70735 144.964331 \n",
       "L 234.317297 144.908743 \n",
       "L 234.927244 144.455017 \n",
       "L 235.537191 144.203089 \n",
       "L 236.147139 144.348645 \n",
       "L 236.757086 144.296023 \n",
       "L 237.97698 144.583416 \n",
       "L 238.586927 144.920673 \n",
       "L 239.196874 145.061176 \n",
       "L 240.416769 144.953181 \n",
       "L 242.856557 145.503213 \n",
       "L 243.466505 145.069137 \n",
       "L 244.076452 144.448919 \n",
       "L 245.906293 143.174875 \n",
       "L 247.126188 142.711596 \n",
       "L 247.736135 143.038232 \n",
       "L 248.346082 142.808581 \n",
       "L 248.956029 142.212273 \n",
       "L 249.565976 142.170354 \n",
       "L 250.175923 142.311586 \n",
       "L 250.785871 142.269617 \n",
       "L 251.395818 142.409598 \n",
       "L 252.005765 142.36758 \n",
       "L 252.615712 142.145335 \n",
       "L 253.225659 141.744603 \n",
       "L 253.835606 142.063817 \n",
       "L 255.055501 142.339719 \n",
       "L 255.665448 142.121111 \n",
       "L 256.275395 141.54978 \n",
       "L 256.885342 141.335066 \n",
       "L 257.495289 141.297645 \n",
       "L 258.105237 141.435837 \n",
       "L 258.715184 141.747992 \n",
       "L 259.935078 141.67151 \n",
       "L 260.545025 141.980012 \n",
       "L 261.154972 141.941283 \n",
       "L 261.76492 142.074918 \n",
       "L 262.374867 142.036139 \n",
       "L 262.984814 142.168655 \n",
       "L 264.204708 142.771302 \n",
       "L 264.814655 142.561376 \n",
       "L 265.424603 142.521702 \n",
       "L 266.03455 142.819219 \n",
       "L 267.864391 142.699311 \n",
       "L 268.474338 142.826277 \n",
       "L 269.084286 142.786528 \n",
       "L 269.694233 142.912476 \n",
       "L 270.30418 142.542761 \n",
       "L 270.914127 142.833169 \n",
       "L 272.134021 143.081833 \n",
       "L 272.743969 142.878999 \n",
       "L 273.353916 143.002469 \n",
       "L 273.963863 142.963126 \n",
       "L 274.57381 143.085636 \n",
       "L 275.183757 143.046285 \n",
       "L 276.403652 142.647832 \n",
       "L 277.013599 142.61008 \n",
       "L 278.233493 142.852911 \n",
       "L 278.84344 142.656505 \n",
       "L 279.453387 142.777101 \n",
       "L 280.063335 142.739515 \n",
       "L 280.673282 142.859191 \n",
       "L 281.283229 142.508372 \n",
       "L 281.893176 142.628032 \n",
       "L 283.11307 142.554748 \n",
       "L 283.723018 142.208685 \n",
       "L 284.332965 142.173411 \n",
       "L 284.942912 142.446339 \n",
       "L 286.162806 142.681375 \n",
       "L 286.772753 142.950658 \n",
       "L 287.992648 142.877217 \n",
       "L 288.602595 142.537815 \n",
       "L 289.212542 142.65349 \n",
       "L 289.822489 142.467207 \n",
       "L 290.432436 142.582443 \n",
       "L 291.042384 142.247506 \n",
       "L 292.262278 142.17921 \n",
       "L 292.872225 141.848034 \n",
       "L 293.482172 141.963385 \n",
       "L 294.092119 141.782405 \n",
       "L 295.312014 141.129158 \n",
       "L 295.921961 141.39188 \n",
       "L 296.531908 141.360615 \n",
       "L 297.141855 141.475428 \n",
       "L 298.971697 141.381947 \n",
       "L 299.581644 141.639922 \n",
       "L 300.801538 141.289916 \n",
       "L 301.411485 141.40284 \n",
       "L 302.021433 141.372271 \n",
       "L 302.63138 141.484408 \n",
       "L 303.241327 141.453781 \n",
       "L 305.071168 140.93952 \n",
       "L 305.681116 141.192086 \n",
       "L 306.291063 141.30298 \n",
       "L 306.90101 140.853156 \n",
       "L 307.510957 141.104031 \n",
       "L 308.120904 141.214304 \n",
       "L 308.730851 141.463026 \n",
       "L 309.340799 141.433219 \n",
       "L 309.950746 141.541852 \n",
       "L 310.560693 141.511995 \n",
       "L 311.780587 141.727273 \n",
       "L 312.390534 141.697184 \n",
       "L 313.000482 141.394042 \n",
       "L 314.220376 141.335927 \n",
       "L 315.44027 141.007841 \n",
       "L 316.050217 141.24982 \n",
       "L 317.880059 141.566846 \n",
       "L 318.490006 141.537867 \n",
       "L 320.319848 141.849807 \n",
       "L 320.929795 141.555687 \n",
       "L 321.539742 141.395011 \n",
       "L 322.759636 141.338819 \n",
       "L 323.369583 141.442042 \n",
       "L 323.979531 141.283156 \n",
       "L 324.589478 141.386023 \n",
       "L 325.199425 141.358212 \n",
       "L 325.809372 141.590324 \n",
       "L 326.419319 141.30298 \n",
       "L 327.639214 141.764221 \n",
       "L 328.249161 141.735855 \n",
       "L 328.859108 141.964413 \n",
       "L 329.469055 141.935716 \n",
       "L 330.079002 141.651537 \n",
       "L 330.688949 141.623693 \n",
       "L 331.298897 141.723188 \n",
       "L 331.908844 141.949169 \n",
       "L 332.518791 141.794194 \n",
       "L 333.128738 141.766275 \n",
       "L 333.738685 141.864545 \n",
       "L 334.95858 141.808774 \n",
       "L 335.568527 141.906281 \n",
       "L 336.788421 141.850693 \n",
       "L 337.398368 141.698716 \n",
       "L 338.008315 141.423311 \n",
       "L 338.618263 141.396784 \n",
       "L 339.22821 141.123276 \n",
       "L 339.838157 141.220799 \n",
       "L 340.448104 141.071888 \n",
       "L 341.058051 141.169088 \n",
       "L 341.667998 141.020956 \n",
       "L 342.277946 141.117841 \n",
       "L 342.887893 141.092392 \n",
       "L 343.49784 140.945394 \n",
       "L 344.107787 141.041807 \n",
       "L 344.717734 141.016689 \n",
       "L 345.327681 140.749949 \n",
       "L 345.937629 140.604973 \n",
       "L 347.76747 140.892689 \n",
       "L 348.377417 140.629088 \n",
       "L 348.987365 140.724533 \n",
       "L 349.597312 140.938617 \n",
       "L 350.817206 141.126962 \n",
       "L 351.427153 141.102242 \n",
       "L 352.0371 141.195673 \n",
       "L 352.647048 141.170911 \n",
       "L 353.256995 141.263795 \n",
       "L 354.476889 141.214304 \n",
       "L 355.086836 141.072923 \n",
       "L 357.526625 141.439863 \n",
       "L 358.136572 141.41506 \n",
       "L 359.356466 141.711077 \n",
       "L 360.576361 142.00465 \n",
       "L 361.796255 141.610861 \n",
       "L 362.406202 141.699992 \n",
       "L 363.016149 141.675056 \n",
       "L 364.236044 141.512277 \n",
       "L 364.845991 141.487887 \n",
       "L 366.065885 141.777012 \n",
       "L 366.675832 141.415292 \n",
       "L 367.895727 141.479247 \n",
       "L 368.505674 141.343574 \n",
       "L 369.725568 141.518622 \n",
       "L 369.725568 141.518622 \n",
       "\" style=\"fill:none;stroke:#2ca02c;stroke-linecap:square;stroke-width:1.5;\"/>\n",
       "   </g>\n",
       "   <g id=\"line2d_19\">\n",
       "    <path clip-path=\"url(#pa1a00435e1)\" d=\"M 65.361932 129.51 \n",
       "L 65.971879 157.307725 \n",
       "L 66.581826 129.51 \n",
       "L 67.191773 143.408867 \n",
       "L 67.80172 162.867274 \n",
       "L 68.411668 175.839546 \n",
       "L 69.021615 177.163247 \n",
       "L 69.631562 171.206592 \n",
       "L 70.241509 166.573634 \n",
       "L 70.851456 168.426822 \n",
       "L 71.461403 159.834797 \n",
       "L 72.681298 163.722585 \n",
       "L 73.291245 165.249932 \n",
       "L 73.901192 170.280002 \n",
       "L 74.511139 167.731879 \n",
       "L 75.731034 169.66227 \n",
       "L 76.340981 170.475074 \n",
       "L 76.950928 165.647044 \n",
       "L 77.560875 166.573634 \n",
       "L 78.170822 164.888924 \n",
       "L 78.780769 160.93352 \n",
       "L 80.000664 167.314911 \n",
       "L 80.610611 161.584298 \n",
       "L 81.220558 164.514546 \n",
       "L 82.440452 165.934611 \n",
       "L 83.0504 168.426822 \n",
       "L 83.660347 163.584634 \n",
       "L 84.880241 164.888924 \n",
       "L 85.490188 163.848366 \n",
       "L 86.100135 161.278829 \n",
       "L 86.710083 163.484997 \n",
       "L 87.32003 159.561595 \n",
       "L 87.929977 157.307725 \n",
       "L 88.539924 156.594963 \n",
       "L 89.149871 154.527955 \n",
       "L 89.759819 156.629733 \n",
       "L 90.369766 154.660323 \n",
       "L 90.979713 151.489597 \n",
       "L 91.58966 152.253598 \n",
       "L 92.199607 150.512729 \n",
       "L 92.809554 150.056144 \n",
       "L 93.419502 148.436111 \n",
       "L 94.029449 148.041817 \n",
       "L 94.639396 148.798221 \n",
       "L 95.85929 145.861603 \n",
       "L 97.079185 147.342508 \n",
       "L 97.689132 149.071365 \n",
       "L 98.299079 149.726534 \n",
       "L 98.909026 151.351074 \n",
       "L 99.518973 151.943257 \n",
       "L 100.12892 150.597934 \n",
       "L 100.738868 148.355919 \n",
       "L 101.348815 148.968407 \n",
       "L 101.958762 147.738021 \n",
       "L 102.568709 148.340717 \n",
       "L 103.178656 149.806752 \n",
       "L 105.008498 146.357108 \n",
       "L 105.618445 146.105661 \n",
       "L 106.228392 147.496763 \n",
       "L 106.838339 147.236087 \n",
       "L 107.448286 147.777082 \n",
       "L 108.058234 147.519794 \n",
       "L 108.668181 148.041817 \n",
       "L 109.278128 147.787959 \n",
       "L 109.888075 149.043538 \n",
       "L 111.717917 150.44855 \n",
       "L 112.327864 148.754579 \n",
       "L 113.547758 151.053243 \n",
       "L 114.157705 150.787273 \n",
       "L 115.3776 151.614219 \n",
       "L 115.987547 151.351074 \n",
       "L 116.597494 150.440059 \n",
       "L 117.207441 150.843143 \n",
       "L 117.817388 150.597934 \n",
       "L 120.257177 152.114744 \n",
       "L 120.867124 153.077636 \n",
       "L 121.477071 152.824225 \n",
       "L 122.087018 153.167645 \n",
       "L 122.696966 154.089041 \n",
       "L 124.526807 153.336622 \n",
       "L 125.136754 153.657525 \n",
       "L 125.746701 154.527955 \n",
       "L 126.966596 155.127511 \n",
       "L 128.796437 154.395588 \n",
       "L 129.406384 153.636333 \n",
       "L 130.016332 154.450016 \n",
       "L 130.626279 154.733863 \n",
       "L 131.236226 154.502456 \n",
       "L 131.846173 154.780662 \n",
       "L 133.066067 153.336622 \n",
       "L 134.285962 152.918617 \n",
       "L 134.895909 151.748185 \n",
       "L 135.505856 152.035744 \n",
       "L 136.72575 151.65395 \n",
       "L 137.335698 151.935056 \n",
       "L 137.945645 151.748185 \n",
       "L 138.555592 152.483332 \n",
       "L 139.165539 152.750726 \n",
       "L 139.775486 152.109781 \n",
       "L 140.995381 153.527237 \n",
       "L 142.215275 153.149014 \n",
       "L 142.825222 152.095656 \n",
       "L 143.435169 150.627658 \n",
       "L 144.045116 150.46521 \n",
       "L 144.655064 150.729639 \n",
       "L 145.874958 150.41055 \n",
       "L 146.484905 151.084359 \n",
       "L 147.094852 150.512729 \n",
       "L 147.704799 150.3583 \n",
       "L 148.314747 149.800315 \n",
       "L 149.534641 150.308304 \n",
       "L 150.144588 149.762629 \n",
       "L 150.754535 150.013289 \n",
       "L 151.97443 149.726534 \n",
       "L 153.194324 150.214517 \n",
       "L 153.804271 150.072705 \n",
       "L 154.414218 150.311021 \n",
       "L 155.024165 149.794831 \n",
       "L 155.634113 148.912446 \n",
       "L 156.24406 148.412459 \n",
       "L 156.854007 149.023639 \n",
       "L 157.463954 148.529501 \n",
       "L 158.073901 148.768555 \n",
       "L 159.293796 148.520057 \n",
       "L 159.903743 148.041817 \n",
       "L 160.51369 147.923781 \n",
       "L 161.123637 147.455366 \n",
       "L 161.733584 147.342508 \n",
       "L 162.343531 147.925993 \n",
       "L 163.563426 147.698637 \n",
       "L 164.173373 146.904895 \n",
       "L 165.393267 147.367933 \n",
       "L 166.003214 147.260361 \n",
       "L 166.613162 147.819879 \n",
       "L 167.833056 147.603193 \n",
       "L 168.443003 147.169738 \n",
       "L 169.05295 147.716697 \n",
       "L 169.662897 147.610847 \n",
       "L 172.102686 148.462994 \n",
       "L 172.712633 147.727723 \n",
       "L 173.32258 147.937707 \n",
       "L 173.932528 147.834757 \n",
       "L 174.542475 148.350683 \n",
       "L 175.762369 148.754579 \n",
       "L 176.372316 149.257018 \n",
       "L 177.592211 149.043538 \n",
       "L 178.202158 148.340717 \n",
       "L 178.812105 148.537321 \n",
       "L 179.422052 149.027557 \n",
       "L 180.031999 148.630131 \n",
       "L 180.641946 148.529501 \n",
       "L 181.251894 148.720994 \n",
       "L 181.861841 148.33138 \n",
       "L 182.471788 148.521921 \n",
       "L 183.081735 148.423917 \n",
       "L 184.301629 148.798221 \n",
       "L 184.911577 149.26473 \n",
       "L 185.521524 149.445744 \n",
       "L 186.741418 149.246389 \n",
       "L 187.961312 149.601432 \n",
       "L 188.57126 149.228586 \n",
       "L 189.791154 149.578609 \n",
       "L 190.401101 149.211304 \n",
       "L 191.011048 149.116125 \n",
       "L 191.620995 149.289153 \n",
       "L 192.230943 148.928509 \n",
       "L 192.84089 148.30656 \n",
       "L 193.450837 148.480963 \n",
       "L 194.060784 147.866992 \n",
       "L 194.670731 146.997771 \n",
       "L 195.280678 147.175844 \n",
       "L 195.890626 147.093679 \n",
       "L 196.500573 147.269664 \n",
       "L 197.11052 147.187823 \n",
       "L 197.720467 147.361753 \n",
       "L 198.330414 147.026377 \n",
       "L 198.940361 147.452169 \n",
       "L 199.550309 147.622545 \n",
       "L 200.160256 147.290532 \n",
       "L 200.770203 146.712184 \n",
       "L 201.990097 147.053459 \n",
       "L 202.600044 146.72983 \n",
       "L 203.209992 146.653978 \n",
       "L 203.819939 146.822623 \n",
       "L 204.429886 146.504246 \n",
       "L 205.039833 146.672079 \n",
       "L 205.64978 146.116439 \n",
       "L 207.479622 146.616292 \n",
       "L 208.089569 146.070353 \n",
       "L 208.699516 146.000176 \n",
       "L 209.309463 146.399756 \n",
       "L 209.91941 146.328792 \n",
       "L 210.529358 146.723658 \n",
       "L 211.139305 146.883579 \n",
       "L 211.749252 146.811489 \n",
       "L 212.359199 146.969728 \n",
       "L 212.969146 146.669089 \n",
       "L 213.579093 146.826616 \n",
       "L 214.189041 146.302099 \n",
       "L 214.798988 146.459834 \n",
       "L 215.408935 146.391214 \n",
       "L 216.018882 146.098967 \n",
       "L 217.238776 145.966259 \n",
       "L 217.848724 146.343687 \n",
       "L 219.068618 146.210615 \n",
       "L 219.678565 146.363743 \n",
       "L 220.288512 146.297651 \n",
       "L 220.898459 146.449238 \n",
       "L 221.508407 146.815979 \n",
       "L 222.728301 146.682344 \n",
       "L 223.338248 146.83012 \n",
       "L 224.558142 147.546693 \n",
       "L 225.16809 147.689507 \n",
       "L 225.778037 147.62064 \n",
       "L 226.997931 147.066457 \n",
       "L 227.607878 147.000704 \n",
       "L 228.217825 146.727999 \n",
       "L 228.827773 147.077342 \n",
       "L 229.43772 147.012277 \n",
       "L 230.047667 147.357992 \n",
       "L 230.657614 147.292371 \n",
       "L 231.877508 147.568382 \n",
       "L 232.487456 147.300548 \n",
       "L 233.097403 146.631792 \n",
       "L 233.70735 146.77068 \n",
       "L 234.317297 147.108566 \n",
       "L 234.927244 146.646953 \n",
       "L 235.537191 146.784299 \n",
       "L 237.367033 146.601182 \n",
       "L 239.196874 145.838738 \n",
       "L 239.806822 145.394414 \n",
       "L 241.026716 146.053974 \n",
       "L 242.24661 146.322371 \n",
       "L 242.856557 146.074404 \n",
       "L 245.906293 146.731487 \n",
       "L 248.346082 146.502631 \n",
       "L 248.956029 146.630459 \n",
       "L 249.565976 146.573951 \n",
       "L 251.395818 145.861603 \n",
       "L 252.005765 146.170527 \n",
       "L 252.615712 146.296938 \n",
       "L 253.225659 146.602458 \n",
       "L 253.835606 146.547317 \n",
       "L 254.445554 146.671301 \n",
       "L 255.055501 146.972678 \n",
       "L 255.665448 147.094508 \n",
       "L 256.885342 147.688836 \n",
       "L 257.495289 147.455366 \n",
       "L 258.105237 147.398759 \n",
       "L 258.715184 147.167675 \n",
       "L 259.325131 147.286606 \n",
       "L 259.935078 147.057319 \n",
       "L 260.545025 147.002651 \n",
       "L 261.154972 147.120984 \n",
       "L 261.76492 147.066457 \n",
       "L 262.374867 146.840683 \n",
       "L 262.984814 146.95842 \n",
       "L 263.594761 146.222744 \n",
       "L 264.204708 146.001617 \n",
       "L 264.814655 146.290336 \n",
       "L 265.424603 146.408313 \n",
       "L 266.03455 146.188637 \n",
       "L 266.644497 146.306209 \n",
       "L 267.254444 146.088164 \n",
       "L 267.864391 146.20533 \n",
       "L 268.474338 146.15535 \n",
       "L 269.084286 146.437574 \n",
       "L 269.694233 146.056269 \n",
       "L 270.30418 146.172143 \n",
       "L 270.914127 146.122842 \n",
       "L 271.524074 146.401835 \n",
       "L 272.134021 146.352154 \n",
       "L 273.963863 147.17736 \n",
       "L 274.57381 147.287616 \n",
       "L 275.793704 147.827575 \n",
       "L 276.403652 147.614575 \n",
       "L 277.623546 146.873621 \n",
       "L 278.84344 147.091467 \n",
       "L 280.063335 146.676868 \n",
       "L 280.673282 146.942473 \n",
       "L 281.283229 147.049979 \n",
       "L 281.893176 147.000704 \n",
       "L 282.503123 147.107439 \n",
       "L 283.723018 147.628858 \n",
       "L 284.332965 147.578522 \n",
       "L 284.942912 147.682474 \n",
       "L 285.552859 147.632279 \n",
       "L 286.772753 147.83817 \n",
       "L 287.382701 147.787959 \n",
       "L 287.992648 148.041817 \n",
       "L 288.602595 148.142812 \n",
       "L 289.212542 148.394325 \n",
       "L 289.822489 148.343152 \n",
       "L 290.432436 148.442507 \n",
       "L 291.042384 148.691179 \n",
       "L 291.652331 148.789067 \n",
       "L 292.262278 148.737381 \n",
       "L 295.312014 149.218446 \n",
       "L 295.921961 149.459819 \n",
       "L 296.531908 149.407321 \n",
       "L 297.141855 149.063255 \n",
       "L 298.36175 148.96115 \n",
       "L 299.581644 149.148915 \n",
       "L 300.191591 148.954009 \n",
       "L 300.801538 149.047423 \n",
       "L 302.021433 148.946975 \n",
       "L 302.63138 148.754579 \n",
       "L 304.461221 148.607681 \n",
       "L 305.071168 148.700308 \n",
       "L 305.681116 148.651729 \n",
       "L 306.291063 148.462994 \n",
       "L 307.510957 148.647131 \n",
       "L 308.120904 148.459829 \n",
       "L 309.340799 148.365321 \n",
       "L 309.950746 148.456715 \n",
       "L 310.560693 148.685603 \n",
       "L 311.17064 148.225299 \n",
       "L 311.780587 148.316369 \n",
       "L 312.390534 148.270043 \n",
       "L 313.610429 148.450609 \n",
       "L 314.220376 148.404299 \n",
       "L 314.830323 148.493812 \n",
       "L 315.44027 148.447627 \n",
       "L 316.050217 148.266721 \n",
       "L 316.660165 148.355919 \n",
       "L 317.270112 148.578975 \n",
       "L 317.880059 148.666988 \n",
       "L 318.490006 148.620936 \n",
       "L 319.099953 148.441786 \n",
       "L 319.7099 148.529501 \n",
       "L 320.319848 148.35142 \n",
       "L 320.929795 148.30656 \n",
       "L 321.539742 148.393969 \n",
       "L 322.149689 148.612701 \n",
       "L 323.369583 148.784842 \n",
       "L 323.979531 148.739485 \n",
       "L 327.029266 149.162352 \n",
       "L 329.469055 148.981223 \n",
       "L 330.079002 149.192068 \n",
       "L 331.908844 149.057265 \n",
       "L 332.518791 148.75945 \n",
       "L 333.738685 148.420023 \n",
       "L 334.348632 148.377234 \n",
       "L 334.95858 148.460144 \n",
       "L 336.178474 148.125108 \n",
       "L 336.788421 148.083371 \n",
       "L 338.008315 148.496844 \n",
       "L 338.618263 148.454552 \n",
       "L 339.838157 148.617083 \n",
       "L 340.448104 148.820813 \n",
       "L 341.058051 148.900914 \n",
       "L 341.667998 149.103111 \n",
       "L 342.277946 149.060048 \n",
       "L 342.887893 149.261019 \n",
       "L 343.49784 149.217799 \n",
       "L 344.107787 149.417544 \n",
       "L 344.717734 149.253049 \n",
       "L 345.327681 149.330989 \n",
       "L 346.547576 149.245188 \n",
       "L 347.157523 149.322638 \n",
       "L 347.76747 149.160115 \n",
       "L 348.377417 149.117857 \n",
       "L 348.987365 149.314387 \n",
       "L 349.597312 149.152933 \n",
       "L 350.207259 149.348552 \n",
       "L 350.817206 149.306252 \n",
       "L 352.0371 149.458262 \n",
       "L 352.647048 149.651577 \n",
       "L 353.256995 149.608996 \n",
       "L 353.866942 149.332008 \n",
       "L 354.476889 149.290279 \n",
       "L 355.086836 149.365518 \n",
       "L 355.696783 149.557003 \n",
       "L 357.526625 149.779181 \n",
       "L 358.746519 150.0411 \n",
       "L 359.356466 149.88349 \n",
       "L 360.576361 150.257993 \n",
       "L 361.186308 150.215304 \n",
       "L 363.016149 149.519814 \n",
       "L 363.626097 149.478981 \n",
       "L 364.236044 149.551543 \n",
       "L 365.455938 149.808541 \n",
       "L 366.065885 149.767451 \n",
       "L 367.28578 149.461592 \n",
       "L 369.115621 149.7873 \n",
       "L 369.725568 149.969125 \n",
       "L 369.725568 149.969125 \n",
       "\" style=\"fill:none;stroke:#d62728;stroke-linecap:square;stroke-width:1.5;\"/>\n",
       "   </g>\n",
       "   <g id=\"line2d_20\">\n",
       "    <path clip-path=\"url(#pa1a00435e1)\" d=\"M 65.361932 185.105455 \n",
       "L 65.971879 101.712275 \n",
       "L 66.581826 110.978183 \n",
       "L 67.191773 101.712275 \n",
       "L 67.80172 96.152735 \n",
       "L 68.411668 110.978183 \n",
       "L 69.021615 113.625586 \n",
       "L 69.631562 129.51 \n",
       "L 70.851456 129.51 \n",
       "L 71.461403 124.455873 \n",
       "L 72.071351 124.87705 \n",
       "L 72.681298 133.786573 \n",
       "L 73.291245 129.51 \n",
       "L 74.511139 143.408867 \n",
       "L 75.121086 142.591282 \n",
       "L 76.340981 135.362152 \n",
       "L 76.950928 137.849318 \n",
       "L 77.560875 134.804805 \n",
       "L 78.780769 134.344393 \n",
       "L 79.390717 131.826475 \n",
       "L 80.000664 131.733823 \n",
       "L 80.610611 135.92486 \n",
       "L 81.220558 135.687272 \n",
       "L 81.830505 137.452207 \n",
       "L 82.440452 137.178343 \n",
       "L 83.0504 140.629088 \n",
       "L 84.270294 139.934146 \n",
       "L 84.880241 141.30298 \n",
       "L 85.490188 144.226443 \n",
       "L 86.100135 143.805978 \n",
       "L 86.710083 140.320231 \n",
       "L 87.32003 143.03322 \n",
       "L 87.929977 144.140385 \n",
       "L 88.539924 143.765244 \n",
       "L 89.149871 146.188637 \n",
       "L 89.759819 143.06987 \n",
       "L 91.58966 149.726534 \n",
       "L 92.199607 150.512729 \n",
       "L 92.809554 152.473341 \n",
       "L 94.639396 151.067425 \n",
       "L 95.249343 152.860088 \n",
       "L 95.85929 151.312137 \n",
       "L 96.469237 150.892866 \n",
       "L 97.079185 149.44045 \n",
       "L 97.689132 149.071365 \n",
       "L 98.299079 149.726534 \n",
       "L 99.518973 149.017177 \n",
       "L 100.12892 147.722305 \n",
       "L 100.738868 149.298216 \n",
       "L 101.348815 149.895005 \n",
       "L 101.958762 151.383623 \n",
       "L 102.568709 151.927525 \n",
       "L 103.788603 149.489618 \n",
       "L 105.618445 148.595005 \n",
       "L 106.228392 149.131924 \n",
       "L 106.838339 150.459013 \n",
       "L 107.448286 149.365518 \n",
       "L 108.058234 150.651931 \n",
       "L 108.668181 149.586139 \n",
       "L 109.278128 150.834287 \n",
       "L 109.888075 151.297408 \n",
       "L 110.498022 151.006908 \n",
       "L 112.937811 152.73342 \n",
       "L 113.547758 152.443128 \n",
       "L 114.157705 150.787273 \n",
       "L 114.767652 150.527798 \n",
       "L 115.987547 151.351074 \n",
       "L 116.597494 150.440059 \n",
       "L 117.817388 149.958902 \n",
       "L 118.427335 150.3583 \n",
       "L 119.037283 149.499377 \n",
       "L 119.64723 149.277273 \n",
       "L 120.257177 149.670988 \n",
       "L 121.477071 148.041817 \n",
       "L 122.087018 148.436111 \n",
       "L 122.696966 148.236889 \n",
       "L 123.306913 148.620936 \n",
       "L 123.91686 148.423917 \n",
       "L 124.526807 147.096322 \n",
       "L 125.136754 146.357108 \n",
       "L 125.746701 146.744592 \n",
       "L 126.356649 146.573951 \n",
       "L 126.966596 147.496763 \n",
       "L 127.576543 147.322137 \n",
       "L 128.18649 146.081727 \n",
       "L 128.796437 146.45338 \n",
       "L 129.406384 145.76905 \n",
       "L 130.016332 145.617098 \n",
       "L 130.626279 146.497503 \n",
       "L 131.236226 146.851701 \n",
       "L 131.846173 146.188637 \n",
       "L 132.45612 146.53924 \n",
       "L 133.066067 146.387197 \n",
       "L 133.676015 145.745846 \n",
       "L 134.285962 145.603421 \n",
       "L 134.895909 145.946915 \n",
       "L 135.505856 145.325952 \n",
       "L 136.72575 145.057887 \n",
       "L 137.335698 145.394414 \n",
       "L 138.555592 145.131866 \n",
       "L 139.775486 146.685831 \n",
       "L 140.385433 146.098967 \n",
       "L 142.215275 145.7071 \n",
       "L 143.435169 147.179878 \n",
       "L 145.265011 146.778285 \n",
       "L 145.874958 147.066457 \n",
       "L 146.484905 146.935439 \n",
       "L 147.094852 147.630001 \n",
       "L 149.534641 147.108566 \n",
       "L 150.144588 146.585748 \n",
       "L 151.364482 146.345244 \n",
       "L 151.97443 147.005078 \n",
       "L 152.584377 147.269664 \n",
       "L 153.194324 147.14718 \n",
       "L 153.804271 146.645586 \n",
       "L 154.414218 146.529017 \n",
       "L 155.024165 146.789668 \n",
       "L 156.24406 146.559271 \n",
       "L 156.854007 146.814546 \n",
       "L 157.463954 147.43222 \n",
       "L 158.073901 147.315079 \n",
       "L 159.293796 147.802697 \n",
       "L 160.51369 147.569674 \n",
       "L 161.123637 148.159107 \n",
       "L 161.733584 146.99285 \n",
       "L 162.343531 147.578522 \n",
       "L 162.953479 147.466293 \n",
       "L 163.563426 147.698637 \n",
       "L 164.173373 146.904895 \n",
       "L 164.78332 146.459834 \n",
       "L 165.393267 147.030991 \n",
       "L 166.003214 146.590536 \n",
       "L 166.613162 146.488258 \n",
       "L 168.443003 148.150831 \n",
       "L 169.05295 147.716697 \n",
       "L 170.272845 147.506216 \n",
       "L 170.882792 147.722305 \n",
       "L 171.492739 146.982859 \n",
       "L 172.102686 146.567696 \n",
       "L 172.712633 146.785426 \n",
       "L 173.32258 146.688375 \n",
       "L 173.932528 147.213579 \n",
       "L 174.542475 146.188637 \n",
       "L 175.152422 145.78933 \n",
       "L 175.762369 145.699884 \n",
       "L 176.982263 146.128211 \n",
       "L 177.592211 146.038383 \n",
       "L 178.202158 146.547317 \n",
       "L 178.812105 146.753515 \n",
       "L 179.422052 146.366071 \n",
       "L 180.031999 145.688576 \n",
       "L 180.641946 145.603421 \n",
       "L 181.861841 146.014905 \n",
       "L 182.471788 145.641322 \n",
       "L 183.691682 146.046088 \n",
       "L 184.911577 145.878205 \n",
       "L 185.521524 146.357108 \n",
       "L 187.351365 146.935439 \n",
       "L 187.961312 146.849174 \n",
       "L 188.57126 147.3115 \n",
       "L 189.181207 147.496763 \n",
       "L 189.791154 147.409024 \n",
       "L 190.401101 147.592017 \n",
       "L 191.620995 146.883579 \n",
       "L 192.230943 146.26844 \n",
       "L 192.84089 146.45338 \n",
       "L 193.450837 146.37308 \n",
       "L 194.060784 146.818017 \n",
       "L 194.670731 146.736764 \n",
       "L 195.280678 145.876888 \n",
       "L 195.890626 145.542183 \n",
       "L 196.500573 145.982729 \n",
       "L 197.720467 145.321553 \n",
       "L 198.330414 145.757071 \n",
       "L 198.940361 145.430518 \n",
       "L 199.550309 145.861603 \n",
       "L 200.160256 146.038383 \n",
       "L 200.770203 145.964263 \n",
       "L 201.990097 145.323823 \n",
       "L 202.600044 145.745846 \n",
       "L 203.209992 145.919229 \n",
       "L 203.819939 145.847263 \n",
       "L 204.429886 146.261473 \n",
       "L 205.64978 146.597785 \n",
       "L 206.259727 147.003396 \n",
       "L 206.869675 146.689717 \n",
       "L 207.479622 146.141118 \n",
       "L 208.089569 145.833776 \n",
       "L 209.91941 145.628009 \n",
       "L 210.529358 145.793191 \n",
       "L 211.139305 145.725342 \n",
       "L 211.749252 146.119429 \n",
       "L 212.359199 146.050801 \n",
       "L 212.969146 146.440308 \n",
       "L 213.579093 145.915219 \n",
       "L 214.189041 145.848257 \n",
       "L 214.798988 146.007839 \n",
       "L 215.408935 146.391214 \n",
       "L 216.628829 146.702168 \n",
       "L 217.238776 146.6334 \n",
       "L 217.848724 146.122188 \n",
       "L 218.458671 146.276882 \n",
       "L 219.068618 146.650101 \n",
       "L 220.288512 146.079631 \n",
       "L 220.898459 146.232072 \n",
       "L 221.508407 146.167006 \n",
       "L 222.118354 146.317931 \n",
       "L 223.338248 147.043956 \n",
       "L 223.948195 147.189778 \n",
       "L 225.16809 147.055339 \n",
       "L 225.778037 146.778285 \n",
       "L 226.997931 147.484469 \n",
       "L 227.607878 147.417151 \n",
       "L 228.217825 147.557778 \n",
       "L 230.047667 147.357992 \n",
       "L 230.657614 147.496763 \n",
       "L 231.877508 147.365473 \n",
       "L 232.487456 147.098385 \n",
       "L 233.70735 147.372804 \n",
       "L 234.317297 147.108566 \n",
       "L 234.927244 147.444017 \n",
       "L 235.537191 147.578522 \n",
       "L 236.147139 147.118524 \n",
       "L 236.757086 147.450379 \n",
       "L 237.97698 147.324034 \n",
       "L 238.586927 147.456601 \n",
       "L 239.196874 147.393855 \n",
       "L 239.806822 147.525253 \n",
       "L 241.026716 147.400582 \n",
       "L 241.636663 147.14718 \n",
       "L 242.24661 147.086571 \n",
       "L 242.856557 147.216777 \n",
       "L 243.466505 147.156342 \n",
       "L 244.076452 147.285421 \n",
       "L 244.686399 147.036708 \n",
       "L 245.906293 146.91868 \n",
       "L 246.51624 147.046823 \n",
       "L 247.126188 147.360046 \n",
       "L 247.736135 147.300548 \n",
       "L 248.956029 147.919092 \n",
       "L 250.175923 148.163738 \n",
       "L 250.785871 148.467136 \n",
       "L 251.395818 148.405186 \n",
       "L 252.005765 148.162545 \n",
       "L 252.615712 148.282494 \n",
       "L 253.225659 148.221737 \n",
       "L 255.055501 148.576391 \n",
       "L 258.105237 148.27566 \n",
       "L 258.715184 148.041817 \n",
       "L 260.545025 147.868624 \n",
       "L 261.154972 147.638956 \n",
       "L 263.594761 148.098664 \n",
       "L 264.204708 148.381857 \n",
       "L 264.814655 148.493812 \n",
       "L 265.424603 148.436111 \n",
       "L 266.03455 148.7157 \n",
       "L 267.254444 148.600009 \n",
       "L 267.864391 148.709636 \n",
       "L 269.084286 148.263092 \n",
       "L 269.694233 148.20728 \n",
       "L 270.30418 148.316775 \n",
       "L 271.524074 148.205814 \n",
       "L 272.743969 148.422235 \n",
       "L 273.963863 147.663619 \n",
       "L 277.013599 149.00036 \n",
       "L 277.623546 149.103815 \n",
       "L 278.233493 148.888985 \n",
       "L 278.84344 148.833778 \n",
       "L 279.453387 148.462994 \n",
       "L 280.063335 148.566797 \n",
       "L 280.673282 148.355919 \n",
       "L 281.283229 148.616048 \n",
       "L 282.503123 148.509005 \n",
       "L 283.723018 148.712892 \n",
       "L 284.332965 148.659549 \n",
       "L 284.942912 148.760502 \n",
       "L 285.552859 148.553749 \n",
       "L 286.162806 148.654438 \n",
       "L 286.772753 148.449109 \n",
       "L 287.382701 148.701857 \n",
       "L 287.992648 148.801319 \n",
       "L 288.602595 149.051731 \n",
       "L 289.212542 149.149702 \n",
       "L 289.822489 148.945807 \n",
       "L 291.042384 149.140738 \n",
       "L 291.652331 149.087967 \n",
       "L 292.262278 149.184529 \n",
       "L 292.872225 149.429225 \n",
       "L 293.482172 149.376114 \n",
       "L 294.092119 149.471135 \n",
       "L 294.702067 149.41819 \n",
       "L 295.312014 149.512599 \n",
       "L 295.921961 149.459819 \n",
       "L 297.141855 149.93878 \n",
       "L 297.751802 150.030836 \n",
       "L 298.36175 149.977261 \n",
       "L 300.801538 150.34034 \n",
       "L 301.411485 150.286657 \n",
       "L 302.021433 150.519083 \n",
       "L 302.63138 150.607767 \n",
       "L 303.851274 150.216472 \n",
       "L 304.461221 150.163783 \n",
       "L 305.071168 150.393575 \n",
       "L 305.681116 150.199953 \n",
       "L 306.291063 150.288098 \n",
       "L 306.90101 150.515844 \n",
       "L 308.730851 150.3583 \n",
       "L 309.950746 150.53117 \n",
       "L 311.17064 150.427102 \n",
       "L 311.780587 150.238185 \n",
       "L 312.390534 150.324061 \n",
       "L 313.000482 150.546123 \n",
       "L 313.610429 150.630823 \n",
       "L 314.220376 150.443256 \n",
       "L 314.830323 150.121003 \n",
       "L 315.44027 150.070849 \n",
       "L 316.050217 150.290824 \n",
       "L 316.660165 150.1059 \n",
       "L 317.270112 150.190434 \n",
       "L 317.880059 149.87267 \n",
       "L 319.099953 150.041655 \n",
       "L 319.7099 149.992537 \n",
       "L 320.319848 150.076342 \n",
       "L 321.539742 149.978636 \n",
       "L 322.149689 149.798393 \n",
       "L 322.759636 149.881858 \n",
       "L 323.979531 149.785991 \n",
       "L 325.199425 149.951422 \n",
       "L 325.809372 149.773763 \n",
       "L 326.419319 149.726534 \n",
       "L 327.029266 149.291638 \n",
       "L 327.639214 149.374739 \n",
       "L 328.249161 149.586139 \n",
       "L 329.469055 149.749822 \n",
       "L 330.079002 149.703297 \n",
       "L 330.688949 149.912005 \n",
       "L 331.298897 149.865314 \n",
       "L 331.908844 149.945772 \n",
       "L 332.518791 150.152508 \n",
       "L 333.128738 150.105594 \n",
       "L 333.738685 150.184958 \n",
       "L 334.348632 150.389739 \n",
       "L 334.95858 150.468109 \n",
       "L 335.568527 150.671333 \n",
       "L 336.788421 150.825746 \n",
       "L 338.008315 150.730591 \n",
       "L 338.618263 150.807147 \n",
       "L 339.22821 150.759819 \n",
       "L 339.838157 150.466163 \n",
       "L 340.448104 150.419795 \n",
       "L 341.667998 150.08277 \n",
       "L 342.277946 149.548801 \n",
       "L 342.887893 149.38294 \n",
       "L 344.107787 149.538935 \n",
       "L 344.717734 149.737544 \n",
       "L 345.937629 149.890979 \n",
       "L 346.547576 149.726534 \n",
       "L 347.157523 149.682867 \n",
       "L 348.377417 149.835225 \n",
       "L 348.987365 149.433698 \n",
       "L 349.597312 149.51008 \n",
       "L 350.207259 149.348552 \n",
       "L 350.817206 149.543334 \n",
       "L 351.427153 149.618995 \n",
       "L 352.0371 149.576297 \n",
       "L 352.647048 149.769364 \n",
       "L 353.256995 149.844065 \n",
       "L 354.476889 150.22662 \n",
       "L 355.086836 150.183102 \n",
       "L 356.306731 149.631372 \n",
       "L 356.916678 149.589362 \n",
       "L 357.526625 149.663358 \n",
       "L 358.136572 149.852622 \n",
       "L 358.746519 149.810413 \n",
       "L 359.966414 149.95626 \n",
       "L 360.576361 149.684847 \n",
       "L 361.186308 149.757725 \n",
       "L 361.796255 149.944471 \n",
       "L 363.016149 149.86089 \n",
       "L 364.236044 150.230911 \n",
       "L 366.065885 150.10508 \n",
       "L 367.28578 150.3583 \n",
       "L 369.725568 149.635555 \n",
       "L 369.725568 149.635555 \n",
       "\" style=\"fill:none;stroke:#9467bd;stroke-linecap:square;stroke-width:1.5;\"/>\n",
       "   </g>\n",
       "   <g id=\"line2d_21\">\n",
       "    <path clip-path=\"url(#pa1a00435e1)\" d=\"M 65.361932 185.105455 \n",
       "L 66.581826 185.105455 \n",
       "L 67.191773 157.307725 \n",
       "L 67.80172 162.867274 \n",
       "L 68.411668 138.775908 \n",
       "L 69.021615 129.51 \n",
       "L 69.631562 136.459433 \n",
       "L 70.241509 141.864545 \n",
       "L 70.851456 140.629088 \n",
       "L 71.461403 134.564136 \n",
       "L 72.071351 124.87705 \n",
       "L 73.291245 125.538896 \n",
       "L 74.511139 126.035287 \n",
       "L 75.731034 132.598636 \n",
       "L 76.340981 129.51 \n",
       "L 76.950928 135.069548 \n",
       "L 78.170822 134.564136 \n",
       "L 78.780769 136.761581 \n",
       "L 79.390717 136.459433 \n",
       "L 80.000664 129.51 \n",
       "L 80.610611 131.648287 \n",
       "L 81.220558 129.51 \n",
       "L 81.830505 125.538896 \n",
       "L 83.0504 129.51 \n",
       "L 83.660347 129.51 \n",
       "L 84.270294 131.247356 \n",
       "L 85.490188 131.14516 \n",
       "L 86.100135 132.686881 \n",
       "L 86.710083 131.054322 \n",
       "L 87.32003 126.504845 \n",
       "L 87.929977 128.046964 \n",
       "L 88.539924 130.935524 \n",
       "L 89.149871 132.289778 \n",
       "L 89.759819 130.865985 \n",
       "L 90.369766 132.157402 \n",
       "L 90.979713 132.095833 \n",
       "L 92.809554 135.552983 \n",
       "L 93.419502 136.607293 \n",
       "L 94.029449 135.301196 \n",
       "L 94.639396 132.913807 \n",
       "L 95.249343 133.957637 \n",
       "L 95.85929 136.050641 \n",
       "L 96.469237 135.92486 \n",
       "L 97.079185 136.8528 \n",
       "L 97.689132 133.628184 \n",
       "L 100.12892 137.178343 \n",
       "L 100.738868 135.163775 \n",
       "L 101.958762 136.801205 \n",
       "L 102.568709 135.786908 \n",
       "L 103.178656 133.03987 \n",
       "L 103.788603 133.853395 \n",
       "L 104.398551 133.786573 \n",
       "L 105.008498 135.40649 \n",
       "L 105.618445 135.318485 \n",
       "L 106.838339 136.761581 \n",
       "L 107.448286 136.657985 \n",
       "L 108.058234 137.340343 \n",
       "L 109.278128 137.12582 \n",
       "L 109.888075 134.769033 \n",
       "L 110.498022 134.698914 \n",
       "L 111.107969 135.362152 \n",
       "L 112.937811 133.028703 \n",
       "L 113.547758 133.679663 \n",
       "L 114.767652 132.221979 \n",
       "L 115.3776 132.189297 \n",
       "L 117.207441 134.035212 \n",
       "L 118.427335 132.668838 \n",
       "L 119.037283 132.633339 \n",
       "L 120.257177 133.786573 \n",
       "L 121.477071 133.694608 \n",
       "L 122.087018 133.058651 \n",
       "L 122.696966 133.021296 \n",
       "L 123.91686 134.095191 \n",
       "L 125.136754 134.002563 \n",
       "L 125.746701 135.069548 \n",
       "L 126.356649 135.564954 \n",
       "L 126.966596 135.505588 \n",
       "L 127.576543 134.907622 \n",
       "L 128.18649 135.92486 \n",
       "L 128.796437 135.863771 \n",
       "L 130.016332 136.784172 \n",
       "L 130.626279 136.202046 \n",
       "L 131.236226 136.140651 \n",
       "L 131.846173 136.585787 \n",
       "L 132.45612 137.523759 \n",
       "L 133.066067 137.452207 \n",
       "L 133.676015 138.365915 \n",
       "L 134.285962 138.288232 \n",
       "L 134.895909 138.695335 \n",
       "L 135.505856 139.574695 \n",
       "L 136.115803 139.488671 \n",
       "L 136.72575 140.346401 \n",
       "L 137.335698 139.78815 \n",
       "L 138.555592 139.618263 \n",
       "L 139.165539 139.079713 \n",
       "L 139.775486 139.453901 \n",
       "L 140.385433 140.270408 \n",
       "L 140.995381 139.739563 \n",
       "L 141.605328 140.09961 \n",
       "L 142.215275 140.891744 \n",
       "L 142.825222 140.802828 \n",
       "L 143.435169 141.146257 \n",
       "L 144.045116 141.056752 \n",
       "L 144.655064 140.544215 \n",
       "L 145.265011 139.618263 \n",
       "L 145.874958 139.12425 \n",
       "L 146.484905 139.052507 \n",
       "L 147.094852 139.805457 \n",
       "L 147.704799 140.138546 \n",
       "L 148.314747 140.060963 \n",
       "L 150.144588 141.0262 \n",
       "L 150.754535 141.733113 \n",
       "L 151.97443 142.339719 \n",
       "L 153.194324 142.162757 \n",
       "L 153.804271 142.837676 \n",
       "L 154.414218 143.125218 \n",
       "L 155.024165 142.657574 \n",
       "L 155.634113 143.315585 \n",
       "L 156.24406 143.59418 \n",
       "L 156.854007 143.500914 \n",
       "L 157.463954 142.677349 \n",
       "L 158.073901 143.31802 \n",
       "L 159.293796 143.857217 \n",
       "L 160.51369 143.674447 \n",
       "L 161.123637 143.232932 \n",
       "L 161.733584 143.496283 \n",
       "L 162.343531 142.713924 \n",
       "L 162.953479 142.2866 \n",
       "L 163.563426 142.550913 \n",
       "L 164.173373 143.153054 \n",
       "L 164.78332 143.408867 \n",
       "L 165.393267 142.987689 \n",
       "L 166.003214 143.576319 \n",
       "L 166.613162 143.159184 \n",
       "L 167.223109 143.739794 \n",
       "L 169.05295 143.490145 \n",
       "L 169.662897 143.085636 \n",
       "L 170.272845 142.36444 \n",
       "L 170.882792 141.971048 \n",
       "L 171.492739 142.217533 \n",
       "L 172.102686 142.145335 \n",
       "L 172.712633 142.702144 \n",
       "L 173.32258 142.315695 \n",
       "L 173.932528 142.244159 \n",
       "L 175.152422 142.71776 \n",
       "L 176.372316 141.965813 \n",
       "L 176.982263 141.898121 \n",
       "L 178.202158 142.362717 \n",
       "L 178.812105 142.293981 \n",
       "L 179.422052 142.521702 \n",
       "L 180.031999 143.041173 \n",
       "L 181.251894 142.899486 \n",
       "L 182.471788 143.336851 \n",
       "L 183.081735 143.26558 \n",
       "L 183.691682 142.624826 \n",
       "L 184.301629 142.841561 \n",
       "L 184.911577 142.209472 \n",
       "L 185.521524 142.426117 \n",
       "L 186.131471 142.361209 \n",
       "L 187.351365 142.786528 \n",
       "L 187.961312 143.271255 \n",
       "L 189.181207 143.136336 \n",
       "L 189.791154 143.341067 \n",
       "L 190.401101 143.273923 \n",
       "L 191.011048 143.744582 \n",
       "L 191.620995 143.676154 \n",
       "L 192.84089 144.070713 \n",
       "L 195.280678 145.876888 \n",
       "L 197.11052 145.650617 \n",
       "L 197.720467 146.086631 \n",
       "L 198.940361 145.93593 \n",
       "L 199.550309 146.364729 \n",
       "L 200.770203 146.712184 \n",
       "L 201.38015 147.131779 \n",
       "L 203.819939 147.797983 \n",
       "L 204.429886 147.475348 \n",
       "L 205.64978 147.319801 \n",
       "L 206.259727 146.763762 \n",
       "L 206.869675 147.16693 \n",
       "L 209.91941 147.963952 \n",
       "L 210.529358 147.421508 \n",
       "L 211.139305 147.810169 \n",
       "L 212.359199 148.118398 \n",
       "L 214.189041 149.252064 \n",
       "L 214.798988 149.171805 \n",
       "L 215.408935 148.642044 \n",
       "L 216.018882 148.789067 \n",
       "L 219.068618 148.40806 \n",
       "L 219.678565 148.771421 \n",
       "L 220.288512 148.913904 \n",
       "L 220.898459 148.83811 \n",
       "L 222.118354 149.550226 \n",
       "L 222.728301 149.258194 \n",
       "L 223.338248 149.182243 \n",
       "L 225.16809 149.592013 \n",
       "L 225.778037 149.937123 \n",
       "L 226.387984 150.06983 \n",
       "L 226.997931 150.41055 \n",
       "L 227.607878 150.54049 \n",
       "L 228.217825 150.87691 \n",
       "L 228.827773 150.590809 \n",
       "L 229.43772 150.718637 \n",
       "L 230.047667 150.640375 \n",
       "L 230.657614 150.767084 \n",
       "L 231.267561 151.096512 \n",
       "L 231.877508 151.220637 \n",
       "L 233.097403 151.869046 \n",
       "L 233.70735 151.989028 \n",
       "L 234.317297 151.508204 \n",
       "L 234.927244 151.628625 \n",
       "L 235.537191 151.946737 \n",
       "L 237.367033 152.298242 \n",
       "L 237.97698 152.609519 \n",
       "L 238.586927 152.333401 \n",
       "L 239.196874 152.447982 \n",
       "L 239.806822 152.75549 \n",
       "L 240.416769 152.674775 \n",
       "L 241.026716 152.402244 \n",
       "L 241.636663 152.515019 \n",
       "L 242.856557 151.97666 \n",
       "L 243.466505 152.089725 \n",
       "L 244.076452 152.01292 \n",
       "L 244.686399 152.125099 \n",
       "L 245.296346 152.424347 \n",
       "L 247.126188 152.752251 \n",
       "L 247.736135 152.489454 \n",
       "L 248.956029 152.33727 \n",
       "L 249.565976 152.628905 \n",
       "L 251.395818 152.402244 \n",
       "L 252.005765 152.508773 \n",
       "L 253.225659 152.000071 \n",
       "L 253.835606 152.106865 \n",
       "L 254.445554 152.034203 \n",
       "L 256.275395 152.350169 \n",
       "L 257.495289 152.205615 \n",
       "L 258.105237 152.309401 \n",
       "L 258.715184 152.587358 \n",
       "L 259.325131 152.515019 \n",
       "L 259.935078 152.790599 \n",
       "L 261.154972 152.991313 \n",
       "L 261.76492 152.918617 \n",
       "L 262.374867 153.017955 \n",
       "L 262.984814 152.77456 \n",
       "L 265.424603 152.491707 \n",
       "L 266.03455 152.59054 \n",
       "L 266.644497 152.856733 \n",
       "L 267.864391 153.050422 \n",
       "L 268.474338 152.979938 \n",
       "L 269.084286 153.075838 \n",
       "L 269.694233 153.336622 \n",
       "L 270.30418 153.265923 \n",
       "L 271.524074 152.797773 \n",
       "L 272.743969 152.009043 \n",
       "L 273.353916 151.943257 \n",
       "L 273.963863 152.202028 \n",
       "L 274.57381 152.297671 \n",
       "L 275.183757 151.909333 \n",
       "L 275.793704 152.005274 \n",
       "L 276.403652 151.620009 \n",
       "L 277.013599 151.716232 \n",
       "L 277.623546 151.9712 \n",
       "L 278.233493 151.90703 \n",
       "L 278.84344 151.526437 \n",
       "L 281.893176 151.99805 \n",
       "L 283.11307 151.561828 \n",
       "L 283.723018 151.655268 \n",
       "L 284.332965 151.439319 \n",
       "L 284.942912 151.070565 \n",
       "L 285.552859 151.31816 \n",
       "L 286.162806 151.258082 \n",
       "L 286.772753 150.892866 \n",
       "L 287.382701 150.68197 \n",
       "L 287.992648 150.168422 \n",
       "L 288.602595 150.263618 \n",
       "L 289.212542 150.056144 \n",
       "L 289.822489 150.151133 \n",
       "L 291.042384 150.039857 \n",
       "L 291.652331 150.134125 \n",
       "L 292.262278 150.376932 \n",
       "L 292.872225 150.469783 \n",
       "L 293.482172 150.265639 \n",
       "L 294.092119 150.50616 \n",
       "L 295.312014 150.689219 \n",
       "L 296.531908 150.577753 \n",
       "L 297.141855 150.668376 \n",
       "L 297.751802 150.467447 \n",
       "L 298.36175 150.557887 \n",
       "L 298.971697 150.3583 \n",
       "L 299.581644 150.304145 \n",
       "L 300.191591 150.538336 \n",
       "L 300.801538 150.483999 \n",
       "L 301.411485 150.716516 \n",
       "L 302.63138 150.607767 \n",
       "L 303.241327 150.695996 \n",
       "L 303.851274 150.925597 \n",
       "L 304.461221 151.012566 \n",
       "L 305.071168 150.957997 \n",
       "L 305.681116 151.044445 \n",
       "L 306.291063 150.990066 \n",
       "L 306.90101 151.076 \n",
       "L 307.510957 150.882121 \n",
       "L 308.120904 150.828562 \n",
       "L 308.730851 150.636274 \n",
       "L 309.340799 150.722232 \n",
       "L 309.950746 150.392871 \n",
       "L 310.560693 150.203101 \n",
       "L 311.17064 150.427102 \n",
       "L 311.780587 150.512729 \n",
       "L 312.390534 150.461001 \n",
       "L 313.000482 150.272921 \n",
       "L 313.610429 150.3583 \n",
       "L 314.220376 150.579186 \n",
       "L 314.830323 150.663397 \n",
       "L 315.44027 150.88246 \n",
       "L 316.050217 150.695648 \n",
       "L 316.660165 150.644351 \n",
       "L 317.270112 150.459013 \n",
       "L 317.880059 150.542495 \n",
       "L 318.490006 150.3583 \n",
       "L 319.099953 150.574945 \n",
       "L 319.7099 150.391545 \n",
       "L 320.319848 150.60708 \n",
       "L 320.929795 150.689219 \n",
       "L 322.149689 150.588846 \n",
       "L 323.369583 150.751658 \n",
       "L 323.979531 150.963308 \n",
       "L 324.589478 150.912947 \n",
       "L 325.199425 151.123221 \n",
       "L 325.809372 151.072727 \n",
       "L 326.419319 151.152059 \n",
       "L 327.029266 151.101723 \n",
       "L 327.639214 150.664656 \n",
       "L 328.859108 150.823732 \n",
       "L 329.469055 150.390319 \n",
       "L 330.079002 150.34232 \n",
       "L 330.688949 150.167031 \n",
       "L 331.298897 150.11976 \n",
       "L 332.518791 150.279143 \n",
       "L 333.128738 150.105594 \n",
       "L 333.738685 150.058886 \n",
       "L 334.348632 149.886613 \n",
       "L 334.95858 149.966118 \n",
       "L 335.568527 149.92004 \n",
       "L 336.178474 149.999115 \n",
       "L 336.788421 149.95317 \n",
       "L 337.398368 150.156186 \n",
       "L 339.22821 150.389184 \n",
       "L 339.838157 150.21962 \n",
       "L 340.448104 150.296797 \n",
       "L 341.058051 150.25091 \n",
       "L 341.667998 150.327681 \n",
       "L 342.277946 150.526307 \n",
       "L 342.887893 150.480213 \n",
       "L 343.49784 150.312678 \n",
       "L 344.107787 150.024481 \n",
       "L 344.717734 149.979787 \n",
       "L 345.327681 150.177005 \n",
       "L 345.937629 150.252774 \n",
       "L 346.547576 150.207873 \n",
       "L 347.76747 149.879025 \n",
       "L 348.377417 149.954785 \n",
       "L 348.987365 149.910911 \n",
       "L 349.597312 149.748173 \n",
       "L 350.207259 149.823726 \n",
       "L 350.817206 149.661875 \n",
       "L 351.427153 149.382418 \n",
       "L 352.0371 149.576297 \n",
       "L 352.647048 149.53379 \n",
       "L 353.256995 149.373918 \n",
       "L 353.866942 149.449298 \n",
       "L 354.476889 149.407321 \n",
       "L 355.086836 149.599112 \n",
       "L 356.306731 149.515059 \n",
       "L 359.966414 148.577865 \n",
       "L 360.576361 148.653178 \n",
       "L 361.186308 148.499396 \n",
       "L 361.796255 148.460401 \n",
       "L 362.406202 148.649417 \n",
       "L 363.626097 148.571304 \n",
       "L 364.236044 148.419253 \n",
       "L 364.845991 148.493812 \n",
       "L 366.065885 148.079337 \n",
       "L 367.28578 148.340717 \n",
       "L 367.895727 148.302832 \n",
       "L 369.725568 148.74603 \n",
       "L 369.725568 148.74603 \n",
       "\" style=\"fill:none;stroke:#8c564b;stroke-linecap:square;stroke-width:1.5;\"/>\n",
       "   </g>\n",
       "   <g id=\"line2d_22\">\n",
       "    <path clip-path=\"url(#pa1a00435e1)\" d=\"M 50.14375 147.856501 \n",
       "L 384.94375 147.856501 \n",
       "\" style=\"fill:none;stroke:#000000;stroke-dasharray:5.55,2.4;stroke-dashoffset:0;stroke-width:1.5;\"/>\n",
       "   </g>\n",
       "   <g id=\"patch_3\">\n",
       "    <path d=\"M 50.14375 251.82 \n",
       "L 50.14375 7.2 \n",
       "\" style=\"fill:none;stroke:#000000;stroke-linecap:square;stroke-linejoin:miter;stroke-width:0.8;\"/>\n",
       "   </g>\n",
       "   <g id=\"patch_4\">\n",
       "    <path d=\"M 384.94375 251.82 \n",
       "L 384.94375 7.2 \n",
       "\" style=\"fill:none;stroke:#000000;stroke-linecap:square;stroke-linejoin:miter;stroke-width:0.8;\"/>\n",
       "   </g>\n",
       "   <g id=\"patch_5\">\n",
       "    <path d=\"M 50.14375 251.82 \n",
       "L 384.94375 251.82 \n",
       "\" style=\"fill:none;stroke:#000000;stroke-linecap:square;stroke-linejoin:miter;stroke-width:0.8;\"/>\n",
       "   </g>\n",
       "   <g id=\"patch_6\">\n",
       "    <path d=\"M 50.14375 7.2 \n",
       "L 384.94375 7.2 \n",
       "\" style=\"fill:none;stroke:#000000;stroke-linecap:square;stroke-linejoin:miter;stroke-width:0.8;\"/>\n",
       "   </g>\n",
       "   <g id=\"legend_1\">\n",
       "    <g id=\"patch_7\">\n",
       "     <path d=\"M 302.089063 103.26875 \n",
       "L 377.94375 103.26875 \n",
       "Q 379.94375 103.26875 379.94375 101.26875 \n",
       "L 379.94375 14.2 \n",
       "Q 379.94375 12.2 377.94375 12.2 \n",
       "L 302.089063 12.2 \n",
       "Q 300.089063 12.2 300.089063 14.2 \n",
       "L 300.089063 101.26875 \n",
       "Q 300.089063 103.26875 302.089063 103.26875 \n",
       "z\n",
       "\" style=\"fill:#ffffff;opacity:0.8;stroke:#cccccc;stroke-linejoin:miter;\"/>\n",
       "    </g>\n",
       "    <g id=\"line2d_23\">\n",
       "     <path d=\"M 304.089063 20.298437 \n",
       "L 324.089063 20.298437 \n",
       "\" style=\"fill:none;stroke:#1f77b4;stroke-linecap:square;stroke-width:1.5;\"/>\n",
       "    </g>\n",
       "    <g id=\"line2d_24\"/>\n",
       "    <g id=\"text_18\">\n",
       "     <!-- P(die=1) -->\n",
       "     <g transform=\"translate(332.089063 23.798437)scale(0.1 -0.1)\">\n",
       "      <defs>\n",
       "       <path d=\"M 1259 4147 \n",
       "L 1259 2394 \n",
       "L 2053 2394 \n",
       "Q 2494 2394 2734 2622 \n",
       "Q 2975 2850 2975 3272 \n",
       "Q 2975 3691 2734 3919 \n",
       "Q 2494 4147 2053 4147 \n",
       "L 1259 4147 \n",
       "z\n",
       "M 628 4666 \n",
       "L 2053 4666 \n",
       "Q 2838 4666 3239 4311 \n",
       "Q 3641 3956 3641 3272 \n",
       "Q 3641 2581 3239 2228 \n",
       "Q 2838 1875 2053 1875 \n",
       "L 1259 1875 \n",
       "L 1259 0 \n",
       "L 628 0 \n",
       "L 628 4666 \n",
       "z\n",
       "\" id=\"DejaVuSans-50\" transform=\"scale(0.015625)\"/>\n",
       "       <path d=\"M 1984 4856 \n",
       "Q 1566 4138 1362 3434 \n",
       "Q 1159 2731 1159 2009 \n",
       "Q 1159 1288 1364 580 \n",
       "Q 1569 -128 1984 -844 \n",
       "L 1484 -844 \n",
       "Q 1016 -109 783 600 \n",
       "Q 550 1309 550 2009 \n",
       "Q 550 2706 781 3412 \n",
       "Q 1013 4119 1484 4856 \n",
       "L 1984 4856 \n",
       "z\n",
       "\" id=\"DejaVuSans-28\" transform=\"scale(0.015625)\"/>\n",
       "       <path d=\"M 678 2906 \n",
       "L 4684 2906 \n",
       "L 4684 2381 \n",
       "L 678 2381 \n",
       "L 678 2906 \n",
       "z\n",
       "M 678 1631 \n",
       "L 4684 1631 \n",
       "L 4684 1100 \n",
       "L 678 1100 \n",
       "L 678 1631 \n",
       "z\n",
       "\" id=\"DejaVuSans-3d\" transform=\"scale(0.015625)\"/>\n",
       "       <path d=\"M 513 4856 \n",
       "L 1013 4856 \n",
       "Q 1481 4119 1714 3412 \n",
       "Q 1947 2706 1947 2009 \n",
       "Q 1947 1309 1714 600 \n",
       "Q 1481 -109 1013 -844 \n",
       "L 513 -844 \n",
       "Q 928 -128 1133 580 \n",
       "Q 1338 1288 1338 2009 \n",
       "Q 1338 2731 1133 3434 \n",
       "Q 928 4138 513 4856 \n",
       "z\n",
       "\" id=\"DejaVuSans-29\" transform=\"scale(0.015625)\"/>\n",
       "      </defs>\n",
       "      <use xlink:href=\"#DejaVuSans-50\"/>\n",
       "      <use x=\"60.302734\" xlink:href=\"#DejaVuSans-28\"/>\n",
       "      <use x=\"99.316406\" xlink:href=\"#DejaVuSans-64\"/>\n",
       "      <use x=\"162.792969\" xlink:href=\"#DejaVuSans-69\"/>\n",
       "      <use x=\"190.576172\" xlink:href=\"#DejaVuSans-65\"/>\n",
       "      <use x=\"252.099609\" xlink:href=\"#DejaVuSans-3d\"/>\n",
       "      <use x=\"335.888672\" xlink:href=\"#DejaVuSans-31\"/>\n",
       "      <use x=\"399.511719\" xlink:href=\"#DejaVuSans-29\"/>\n",
       "     </g>\n",
       "    </g>\n",
       "    <g id=\"line2d_25\">\n",
       "     <path d=\"M 304.089063 34.976562 \n",
       "L 324.089063 34.976562 \n",
       "\" style=\"fill:none;stroke:#ff7f0e;stroke-linecap:square;stroke-width:1.5;\"/>\n",
       "    </g>\n",
       "    <g id=\"line2d_26\"/>\n",
       "    <g id=\"text_19\">\n",
       "     <!-- P(die=2) -->\n",
       "     <g transform=\"translate(332.089063 38.476562)scale(0.1 -0.1)\">\n",
       "      <use xlink:href=\"#DejaVuSans-50\"/>\n",
       "      <use x=\"60.302734\" xlink:href=\"#DejaVuSans-28\"/>\n",
       "      <use x=\"99.316406\" xlink:href=\"#DejaVuSans-64\"/>\n",
       "      <use x=\"162.792969\" xlink:href=\"#DejaVuSans-69\"/>\n",
       "      <use x=\"190.576172\" xlink:href=\"#DejaVuSans-65\"/>\n",
       "      <use x=\"252.099609\" xlink:href=\"#DejaVuSans-3d\"/>\n",
       "      <use x=\"335.888672\" xlink:href=\"#DejaVuSans-32\"/>\n",
       "      <use x=\"399.511719\" xlink:href=\"#DejaVuSans-29\"/>\n",
       "     </g>\n",
       "    </g>\n",
       "    <g id=\"line2d_27\">\n",
       "     <path d=\"M 304.089063 49.654687 \n",
       "L 324.089063 49.654687 \n",
       "\" style=\"fill:none;stroke:#2ca02c;stroke-linecap:square;stroke-width:1.5;\"/>\n",
       "    </g>\n",
       "    <g id=\"line2d_28\"/>\n",
       "    <g id=\"text_20\">\n",
       "     <!-- P(die=3) -->\n",
       "     <g transform=\"translate(332.089063 53.154687)scale(0.1 -0.1)\">\n",
       "      <use xlink:href=\"#DejaVuSans-50\"/>\n",
       "      <use x=\"60.302734\" xlink:href=\"#DejaVuSans-28\"/>\n",
       "      <use x=\"99.316406\" xlink:href=\"#DejaVuSans-64\"/>\n",
       "      <use x=\"162.792969\" xlink:href=\"#DejaVuSans-69\"/>\n",
       "      <use x=\"190.576172\" xlink:href=\"#DejaVuSans-65\"/>\n",
       "      <use x=\"252.099609\" xlink:href=\"#DejaVuSans-3d\"/>\n",
       "      <use x=\"335.888672\" xlink:href=\"#DejaVuSans-33\"/>\n",
       "      <use x=\"399.511719\" xlink:href=\"#DejaVuSans-29\"/>\n",
       "     </g>\n",
       "    </g>\n",
       "    <g id=\"line2d_29\">\n",
       "     <path d=\"M 304.089063 64.332812 \n",
       "L 324.089063 64.332812 \n",
       "\" style=\"fill:none;stroke:#d62728;stroke-linecap:square;stroke-width:1.5;\"/>\n",
       "    </g>\n",
       "    <g id=\"line2d_30\"/>\n",
       "    <g id=\"text_21\">\n",
       "     <!-- P(die=4) -->\n",
       "     <g transform=\"translate(332.089063 67.832812)scale(0.1 -0.1)\">\n",
       "      <use xlink:href=\"#DejaVuSans-50\"/>\n",
       "      <use x=\"60.302734\" xlink:href=\"#DejaVuSans-28\"/>\n",
       "      <use x=\"99.316406\" xlink:href=\"#DejaVuSans-64\"/>\n",
       "      <use x=\"162.792969\" xlink:href=\"#DejaVuSans-69\"/>\n",
       "      <use x=\"190.576172\" xlink:href=\"#DejaVuSans-65\"/>\n",
       "      <use x=\"252.099609\" xlink:href=\"#DejaVuSans-3d\"/>\n",
       "      <use x=\"335.888672\" xlink:href=\"#DejaVuSans-34\"/>\n",
       "      <use x=\"399.511719\" xlink:href=\"#DejaVuSans-29\"/>\n",
       "     </g>\n",
       "    </g>\n",
       "    <g id=\"line2d_31\">\n",
       "     <path d=\"M 304.089063 79.010937 \n",
       "L 324.089063 79.010937 \n",
       "\" style=\"fill:none;stroke:#9467bd;stroke-linecap:square;stroke-width:1.5;\"/>\n",
       "    </g>\n",
       "    <g id=\"line2d_32\"/>\n",
       "    <g id=\"text_22\">\n",
       "     <!-- P(die=5) -->\n",
       "     <g transform=\"translate(332.089063 82.510937)scale(0.1 -0.1)\">\n",
       "      <use xlink:href=\"#DejaVuSans-50\"/>\n",
       "      <use x=\"60.302734\" xlink:href=\"#DejaVuSans-28\"/>\n",
       "      <use x=\"99.316406\" xlink:href=\"#DejaVuSans-64\"/>\n",
       "      <use x=\"162.792969\" xlink:href=\"#DejaVuSans-69\"/>\n",
       "      <use x=\"190.576172\" xlink:href=\"#DejaVuSans-65\"/>\n",
       "      <use x=\"252.099609\" xlink:href=\"#DejaVuSans-3d\"/>\n",
       "      <use x=\"335.888672\" xlink:href=\"#DejaVuSans-35\"/>\n",
       "      <use x=\"399.511719\" xlink:href=\"#DejaVuSans-29\"/>\n",
       "     </g>\n",
       "    </g>\n",
       "    <g id=\"line2d_33\">\n",
       "     <path d=\"M 304.089063 93.689062 \n",
       "L 324.089063 93.689062 \n",
       "\" style=\"fill:none;stroke:#8c564b;stroke-linecap:square;stroke-width:1.5;\"/>\n",
       "    </g>\n",
       "    <g id=\"line2d_34\"/>\n",
       "    <g id=\"text_23\">\n",
       "     <!-- P(die=6) -->\n",
       "     <g transform=\"translate(332.089063 97.189062)scale(0.1 -0.1)\">\n",
       "      <defs>\n",
       "       <path d=\"M 2113 2584 \n",
       "Q 1688 2584 1439 2293 \n",
       "Q 1191 2003 1191 1497 \n",
       "Q 1191 994 1439 701 \n",
       "Q 1688 409 2113 409 \n",
       "Q 2538 409 2786 701 \n",
       "Q 3034 994 3034 1497 \n",
       "Q 3034 2003 2786 2293 \n",
       "Q 2538 2584 2113 2584 \n",
       "z\n",
       "M 3366 4563 \n",
       "L 3366 3988 \n",
       "Q 3128 4100 2886 4159 \n",
       "Q 2644 4219 2406 4219 \n",
       "Q 1781 4219 1451 3797 \n",
       "Q 1122 3375 1075 2522 \n",
       "Q 1259 2794 1537 2939 \n",
       "Q 1816 3084 2150 3084 \n",
       "Q 2853 3084 3261 2657 \n",
       "Q 3669 2231 3669 1497 \n",
       "Q 3669 778 3244 343 \n",
       "Q 2819 -91 2113 -91 \n",
       "Q 1303 -91 875 529 \n",
       "Q 447 1150 447 2328 \n",
       "Q 447 3434 972 4092 \n",
       "Q 1497 4750 2381 4750 \n",
       "Q 2619 4750 2861 4703 \n",
       "Q 3103 4656 3366 4563 \n",
       "z\n",
       "\" id=\"DejaVuSans-36\" transform=\"scale(0.015625)\"/>\n",
       "      </defs>\n",
       "      <use xlink:href=\"#DejaVuSans-50\"/>\n",
       "      <use x=\"60.302734\" xlink:href=\"#DejaVuSans-28\"/>\n",
       "      <use x=\"99.316406\" xlink:href=\"#DejaVuSans-64\"/>\n",
       "      <use x=\"162.792969\" xlink:href=\"#DejaVuSans-69\"/>\n",
       "      <use x=\"190.576172\" xlink:href=\"#DejaVuSans-65\"/>\n",
       "      <use x=\"252.099609\" xlink:href=\"#DejaVuSans-3d\"/>\n",
       "      <use x=\"335.888672\" xlink:href=\"#DejaVuSans-36\"/>\n",
       "      <use x=\"399.511719\" xlink:href=\"#DejaVuSans-29\"/>\n",
       "     </g>\n",
       "    </g>\n",
       "   </g>\n",
       "  </g>\n",
       " </g>\n",
       " <defs>\n",
       "  <clipPath id=\"pa1a00435e1\">\n",
       "   <rect height=\"244.62\" width=\"334.8\" x=\"50.14375\" y=\"7.2\"/>\n",
       "  </clipPath>\n",
       " </defs>\n",
       "</svg>\n"
      ],
      "text/plain": [
       "<Figure size 432x324 with 1 Axes>"
      ]
     },
     "metadata": {
      "needs_background": "light"
     },
     "output_type": "display_data"
    }
   ],
   "source": [
    "d2l.set_figsize((6, 4.5))\n",
    "for i in range(6):\n",
    "    d2l.plt.plot(estimates[:, i].numpy(), label=(\"P(die=\" + str(i + 1) + \")\"))\n",
    "d2l.plt.axhline(y=0.167, color='black', linestyle='dashed')\n",
    "d2l.plt.gca().set_xlabel('Groups of experiments')\n",
    "d2l.plt.gca().set_ylabel('Estimated probability')\n",
    "d2l.plt.legend();"
   ]
  },
  {
   "cell_type": "code",
   "execution_count": null,
   "id": "bb256932",
   "metadata": {},
   "outputs": [],
   "source": []
  }
 ],
 "metadata": {
  "kernelspec": {
   "display_name": "Python 3",
   "language": "python",
   "name": "python3"
  },
  "language_info": {
   "codemirror_mode": {
    "name": "ipython",
    "version": 3
   },
   "file_extension": ".py",
   "mimetype": "text/x-python",
   "name": "python",
   "nbconvert_exporter": "python",
   "pygments_lexer": "ipython3",
   "version": "3.8.10"
  }
 },
 "nbformat": 4,
 "nbformat_minor": 5
}
