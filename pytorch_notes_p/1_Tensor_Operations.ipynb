{
 "cells": [
  {
   "cell_type": "code",
   "execution_count": 144,
   "id": "96bf8c7b",
   "metadata": {},
   "outputs": [],
   "source": [
    "import torch\n",
    "import numpy as np\n",
    "import pandas as pd\n",
    "import os\n",
    "from IPython import display\n",
    "from d2l import torch as d2l\n"
   ]
  },
  {
   "cell_type": "markdown",
   "id": "ff08be10",
   "metadata": {},
   "source": [
    "## Tensor Operations"
   ]
  },
  {
   "cell_type": "code",
   "execution_count": 145,
   "id": "4bf9b32e",
   "metadata": {},
   "outputs": [],
   "source": [
    "x = torch.arange(12)\n"
   ]
  },
  {
   "cell_type": "code",
   "execution_count": 146,
   "id": "bd4fc52a",
   "metadata": {},
   "outputs": [
    {
     "data": {
      "text/plain": [
       "tensor([ 0,  1,  2,  3,  4,  5,  6,  7,  8,  9, 10, 11])"
      ]
     },
     "execution_count": 146,
     "metadata": {},
     "output_type": "execute_result"
    }
   ],
   "source": [
    "x\n"
   ]
  },
  {
   "cell_type": "code",
   "execution_count": 147,
   "id": "f8e8c789",
   "metadata": {},
   "outputs": [
    {
     "data": {
      "text/plain": [
       "torch.Size([12])"
      ]
     },
     "execution_count": 147,
     "metadata": {},
     "output_type": "execute_result"
    }
   ],
   "source": [
    "x.shape\n"
   ]
  },
  {
   "cell_type": "code",
   "execution_count": 148,
   "id": "58c7d435",
   "metadata": {},
   "outputs": [
    {
     "data": {
      "text/plain": [
       "12"
      ]
     },
     "execution_count": 148,
     "metadata": {},
     "output_type": "execute_result"
    }
   ],
   "source": [
    "x.numel()\n"
   ]
  },
  {
   "cell_type": "code",
   "execution_count": 149,
   "id": "d98d03b3",
   "metadata": {},
   "outputs": [
    {
     "data": {
      "text/plain": [
       "tensor([[ 0,  1,  2,  3],\n",
       "        [ 4,  5,  6,  7],\n",
       "        [ 8,  9, 10, 11]])"
      ]
     },
     "execution_count": 149,
     "metadata": {},
     "output_type": "execute_result"
    }
   ],
   "source": [
    "X = x.reshape(3, 4)\n",
    "X\n"
   ]
  },
  {
   "cell_type": "code",
   "execution_count": 150,
   "id": "c41f134b",
   "metadata": {},
   "outputs": [
    {
     "data": {
      "text/plain": [
       "torch.Size([3, 4])"
      ]
     },
     "execution_count": 150,
     "metadata": {},
     "output_type": "execute_result"
    }
   ],
   "source": [
    "X.shape"
   ]
  },
  {
   "cell_type": "code",
   "execution_count": 151,
   "id": "b0f476e0",
   "metadata": {},
   "outputs": [],
   "source": [
    "X = x.reshape(3, -1)"
   ]
  },
  {
   "cell_type": "code",
   "execution_count": 152,
   "id": "c2d3d9a5",
   "metadata": {},
   "outputs": [
    {
     "data": {
      "text/plain": [
       "torch.Size([3, 4])"
      ]
     },
     "execution_count": 152,
     "metadata": {},
     "output_type": "execute_result"
    }
   ],
   "source": [
    "X.shape"
   ]
  },
  {
   "cell_type": "code",
   "execution_count": 153,
   "id": "2fc00194",
   "metadata": {},
   "outputs": [
    {
     "data": {
      "text/plain": [
       "tensor([[ 0,  1,  2,  3],\n",
       "        [ 4,  5,  6,  7],\n",
       "        [ 8,  9, 10, 11]])"
      ]
     },
     "execution_count": 153,
     "metadata": {},
     "output_type": "execute_result"
    }
   ],
   "source": [
    "X"
   ]
  },
  {
   "cell_type": "code",
   "execution_count": 154,
   "id": "d532fb1d",
   "metadata": {},
   "outputs": [
    {
     "data": {
      "text/plain": [
       "tensor([[[0., 0., 0., 0.],\n",
       "         [0., 0., 0., 0.],\n",
       "         [0., 0., 0., 0.]],\n",
       "\n",
       "        [[0., 0., 0., 0.],\n",
       "         [0., 0., 0., 0.],\n",
       "         [0., 0., 0., 0.]]])"
      ]
     },
     "execution_count": 154,
     "metadata": {},
     "output_type": "execute_result"
    }
   ],
   "source": [
    "torch.zeros((2, 3, 4))"
   ]
  },
  {
   "cell_type": "code",
   "execution_count": 155,
   "id": "cd7a9023",
   "metadata": {},
   "outputs": [
    {
     "data": {
      "text/plain": [
       "tensor([[[1., 1., 1., 1.],\n",
       "         [1., 1., 1., 1.],\n",
       "         [1., 1., 1., 1.]],\n",
       "\n",
       "        [[1., 1., 1., 1.],\n",
       "         [1., 1., 1., 1.],\n",
       "         [1., 1., 1., 1.]]])"
      ]
     },
     "execution_count": 155,
     "metadata": {},
     "output_type": "execute_result"
    }
   ],
   "source": [
    "torch.ones((2, 3, 4))"
   ]
  },
  {
   "cell_type": "code",
   "execution_count": 156,
   "id": "fb3085ea",
   "metadata": {},
   "outputs": [
    {
     "data": {
      "text/plain": [
       "tensor([[-0.9442, -0.3804,  0.1208, -1.1028],\n",
       "        [-0.0442, -0.5515, -0.6687,  0.7881],\n",
       "        [-2.7173, -0.1476, -0.8071,  0.4848]])"
      ]
     },
     "execution_count": 156,
     "metadata": {},
     "output_type": "execute_result"
    }
   ],
   "source": [
    "torch.randn(3, 4)"
   ]
  },
  {
   "cell_type": "code",
   "execution_count": 157,
   "id": "8f10478e",
   "metadata": {},
   "outputs": [
    {
     "data": {
      "text/plain": [
       "tensor([[1, 2, 3],\n",
       "        [4, 5, 6],\n",
       "        [7, 8, 9]])"
      ]
     },
     "execution_count": 157,
     "metadata": {},
     "output_type": "execute_result"
    }
   ],
   "source": [
    "torch.tensor([[1, 2, 3], [4, 5, 6], [7, 8, 9]])"
   ]
  },
  {
   "cell_type": "code",
   "execution_count": 158,
   "id": "2f9bdd7b",
   "metadata": {},
   "outputs": [
    {
     "data": {
      "text/plain": [
       "tensor([0, 2, 4, 6, 8])"
      ]
     },
     "execution_count": 158,
     "metadata": {},
     "output_type": "execute_result"
    }
   ],
   "source": [
    "torch.arange(5) + torch.arange(5)"
   ]
  },
  {
   "cell_type": "code",
   "execution_count": 159,
   "id": "0396319b",
   "metadata": {},
   "outputs": [
    {
     "data": {
      "text/plain": [
       "tensor([1.0000e+00, 2.7183e+00, 7.3891e+00, 2.0086e+01, 5.4598e+01, 1.4841e+02,\n",
       "        4.0343e+02, 1.0966e+03, 2.9810e+03, 8.1031e+03, 2.2026e+04, 5.9874e+04])"
      ]
     },
     "execution_count": 159,
     "metadata": {},
     "output_type": "execute_result"
    }
   ],
   "source": [
    "torch.exp(x)"
   ]
  },
  {
   "cell_type": "code",
   "execution_count": 160,
   "id": "e93fb714",
   "metadata": {},
   "outputs": [],
   "source": [
    "X = torch.arange(12, dtype=torch.float32).reshape((3, 4))\n",
    "Y = torch.tensor([[2.0, 1, 4, 3], [1, 2, 3, 4], [4, 3, 2, 1]])"
   ]
  },
  {
   "cell_type": "code",
   "execution_count": 161,
   "id": "d53d3f4b",
   "metadata": {},
   "outputs": [
    {
     "data": {
      "text/plain": [
       "tensor([[ 0.,  1.,  2.,  3.],\n",
       "        [ 4.,  5.,  6.,  7.],\n",
       "        [ 8.,  9., 10., 11.],\n",
       "        [ 2.,  1.,  4.,  3.],\n",
       "        [ 1.,  2.,  3.,  4.],\n",
       "        [ 4.,  3.,  2.,  1.]])"
      ]
     },
     "execution_count": 161,
     "metadata": {},
     "output_type": "execute_result"
    }
   ],
   "source": [
    "torch.cat((X, Y), dim=0)"
   ]
  },
  {
   "cell_type": "code",
   "execution_count": 162,
   "id": "ed40debb",
   "metadata": {},
   "outputs": [
    {
     "data": {
      "text/plain": [
       "tensor([[ 0.,  1.,  2.,  3.,  2.,  1.,  4.,  3.],\n",
       "        [ 4.,  5.,  6.,  7.,  1.,  2.,  3.,  4.],\n",
       "        [ 8.,  9., 10., 11.,  4.,  3.,  2.,  1.]])"
      ]
     },
     "execution_count": 162,
     "metadata": {},
     "output_type": "execute_result"
    }
   ],
   "source": [
    "torch.cat((X, Y), dim = 1)"
   ]
  },
  {
   "cell_type": "code",
   "execution_count": 163,
   "id": "42a9bc45",
   "metadata": {},
   "outputs": [
    {
     "data": {
      "text/plain": [
       "tensor([[False,  True, False,  True],\n",
       "        [False, False, False, False],\n",
       "        [False, False, False, False]])"
      ]
     },
     "execution_count": 163,
     "metadata": {},
     "output_type": "execute_result"
    }
   ],
   "source": [
    "X == Y"
   ]
  },
  {
   "cell_type": "code",
   "execution_count": 164,
   "id": "6ae25990",
   "metadata": {},
   "outputs": [
    {
     "data": {
      "text/plain": [
       "tensor([[False, False, False, False],\n",
       "        [ True,  True,  True,  True],\n",
       "        [ True,  True,  True,  True]])"
      ]
     },
     "execution_count": 164,
     "metadata": {},
     "output_type": "execute_result"
    }
   ],
   "source": [
    "X > Y"
   ]
  },
  {
   "cell_type": "code",
   "execution_count": 165,
   "id": "eb0898be",
   "metadata": {},
   "outputs": [
    {
     "data": {
      "text/plain": [
       "tensor([[ True, False,  True, False],\n",
       "        [False, False, False, False],\n",
       "        [False, False, False, False]])"
      ]
     },
     "execution_count": 165,
     "metadata": {},
     "output_type": "execute_result"
    }
   ],
   "source": [
    "X < Y"
   ]
  },
  {
   "cell_type": "code",
   "execution_count": 166,
   "id": "f24fa6ce",
   "metadata": {},
   "outputs": [
    {
     "data": {
      "text/plain": [
       "tensor(66.)"
      ]
     },
     "execution_count": 166,
     "metadata": {},
     "output_type": "execute_result"
    }
   ],
   "source": [
    "X.sum()"
   ]
  },
  {
   "cell_type": "code",
   "execution_count": 167,
   "id": "001e6d28",
   "metadata": {},
   "outputs": [],
   "source": [
    "a = torch.arange(3).reshape((3, 1))\n",
    "b = torch.arange(2).reshape((1, 2))"
   ]
  },
  {
   "cell_type": "code",
   "execution_count": 168,
   "id": "a40394bb",
   "metadata": {},
   "outputs": [
    {
     "data": {
      "text/plain": [
       "(tensor([[0],\n",
       "         [1],\n",
       "         [2]]),\n",
       " tensor([[0, 1]]))"
      ]
     },
     "execution_count": 168,
     "metadata": {},
     "output_type": "execute_result"
    }
   ],
   "source": [
    "a, b"
   ]
  },
  {
   "cell_type": "code",
   "execution_count": 169,
   "id": "acec23de",
   "metadata": {
    "scrolled": true
   },
   "outputs": [
    {
     "data": {
      "text/plain": [
       "torch.Size([3, 2])"
      ]
     },
     "execution_count": 169,
     "metadata": {},
     "output_type": "execute_result"
    }
   ],
   "source": [
    "(a + b).shape"
   ]
  },
  {
   "cell_type": "code",
   "execution_count": 170,
   "id": "a743ec1b",
   "metadata": {},
   "outputs": [
    {
     "data": {
      "text/plain": [
       "tensor([[ 0.,  1.,  2.,  3.],\n",
       "        [ 4.,  5.,  6.,  7.],\n",
       "        [ 8.,  9., 10., 11.]])"
      ]
     },
     "execution_count": 170,
     "metadata": {},
     "output_type": "execute_result"
    }
   ],
   "source": [
    "X"
   ]
  },
  {
   "cell_type": "code",
   "execution_count": 171,
   "id": "dd611372",
   "metadata": {},
   "outputs": [
    {
     "data": {
      "text/plain": [
       "tensor([ 8.,  9., 10., 11.])"
      ]
     },
     "execution_count": 171,
     "metadata": {},
     "output_type": "execute_result"
    }
   ],
   "source": [
    "X[-1]"
   ]
  },
  {
   "cell_type": "code",
   "execution_count": 172,
   "id": "2310b953",
   "metadata": {},
   "outputs": [
    {
     "data": {
      "text/plain": [
       "tensor(11.)"
      ]
     },
     "execution_count": 172,
     "metadata": {},
     "output_type": "execute_result"
    }
   ],
   "source": [
    "X[-1][3]"
   ]
  },
  {
   "cell_type": "code",
   "execution_count": 173,
   "id": "47f9ff6b",
   "metadata": {},
   "outputs": [
    {
     "data": {
      "text/plain": [
       "tensor([[ 4.,  5.,  6.,  7.],\n",
       "        [ 8.,  9., 10., 11.]])"
      ]
     },
     "execution_count": 173,
     "metadata": {},
     "output_type": "execute_result"
    }
   ],
   "source": [
    "X[1:3]"
   ]
  },
  {
   "cell_type": "code",
   "execution_count": 174,
   "id": "435f618e",
   "metadata": {},
   "outputs": [
    {
     "data": {
      "text/plain": [
       "tensor([[ 0.,  1.,  2.,  3.],\n",
       "        [ 4.,  5.,  6.,  7.],\n",
       "        [ 8.,  9., 10., 11.]])"
      ]
     },
     "execution_count": 174,
     "metadata": {},
     "output_type": "execute_result"
    }
   ],
   "source": [
    "X"
   ]
  },
  {
   "cell_type": "code",
   "execution_count": 175,
   "id": "71a2899c",
   "metadata": {},
   "outputs": [],
   "source": [
    "X[1][2] = 600.2"
   ]
  },
  {
   "cell_type": "code",
   "execution_count": 176,
   "id": "c5efb7e1",
   "metadata": {},
   "outputs": [
    {
     "data": {
      "text/plain": [
       "tensor([[  0.0000,   1.0000,   2.0000,   3.0000],\n",
       "        [  4.0000,   5.0000, 600.2000,   7.0000],\n",
       "        [  8.0000,   9.0000,  10.0000,  11.0000]])"
      ]
     },
     "execution_count": 176,
     "metadata": {},
     "output_type": "execute_result"
    }
   ],
   "source": [
    "X"
   ]
  },
  {
   "cell_type": "code",
   "execution_count": 177,
   "id": "166f913e",
   "metadata": {},
   "outputs": [],
   "source": [
    "X[0:2, :] = 500"
   ]
  },
  {
   "cell_type": "code",
   "execution_count": 178,
   "id": "f9e31559",
   "metadata": {},
   "outputs": [
    {
     "data": {
      "text/plain": [
       "tensor([[500., 500., 500., 500.],\n",
       "        [500., 500., 500., 500.],\n",
       "        [  8.,   9.,  10.,  11.]])"
      ]
     },
     "execution_count": 178,
     "metadata": {},
     "output_type": "execute_result"
    }
   ],
   "source": [
    "X"
   ]
  },
  {
   "cell_type": "code",
   "execution_count": 179,
   "id": "42af8f6c",
   "metadata": {},
   "outputs": [],
   "source": [
    "X[0:3, 0:4] = 0"
   ]
  },
  {
   "cell_type": "code",
   "execution_count": 180,
   "id": "87896879",
   "metadata": {},
   "outputs": [
    {
     "data": {
      "text/plain": [
       "tensor([[0., 0., 0., 0.],\n",
       "        [0., 0., 0., 0.],\n",
       "        [0., 0., 0., 0.]])"
      ]
     },
     "execution_count": 180,
     "metadata": {},
     "output_type": "execute_result"
    }
   ],
   "source": [
    "X"
   ]
  },
  {
   "cell_type": "code",
   "execution_count": 181,
   "id": "0c5569af",
   "metadata": {},
   "outputs": [
    {
     "data": {
      "text/plain": [
       "tensor([[2., 1., 4., 3.],\n",
       "        [1., 2., 3., 4.],\n",
       "        [4., 3., 2., 1.]])"
      ]
     },
     "execution_count": 181,
     "metadata": {},
     "output_type": "execute_result"
    }
   ],
   "source": [
    "Y"
   ]
  },
  {
   "cell_type": "code",
   "execution_count": 182,
   "id": "911817e1",
   "metadata": {},
   "outputs": [
    {
     "data": {
      "text/plain": [
       "False"
      ]
     },
     "execution_count": 182,
     "metadata": {},
     "output_type": "execute_result"
    }
   ],
   "source": [
    "before = id(Y)\n",
    "Y = Y + X\n",
    "before == id(Y)"
   ]
  },
  {
   "cell_type": "code",
   "execution_count": 183,
   "id": "96b57467",
   "metadata": {},
   "outputs": [
    {
     "data": {
      "text/plain": [
       "True"
      ]
     },
     "execution_count": 183,
     "metadata": {},
     "output_type": "execute_result"
    }
   ],
   "source": [
    "before = id(Y)\n",
    "Y[:] = Y + X\n",
    "before == id(Y)"
   ]
  },
  {
   "cell_type": "code",
   "execution_count": 184,
   "id": "07d6b742",
   "metadata": {},
   "outputs": [
    {
     "name": "stdout",
     "output_type": "stream",
     "text": [
      "id(Z): 140206175254016\n",
      "id(Z): 140206175254016\n"
     ]
    }
   ],
   "source": [
    "Z = torch.zeros_like(Y)\n",
    "print('id(Z):', id(Z))\n",
    "Z[:] = X + Y       # used the same object memory (in-place update)\n",
    "print('id(Z):', id(Z))"
   ]
  },
  {
   "cell_type": "code",
   "execution_count": 185,
   "id": "9f12243a",
   "metadata": {},
   "outputs": [
    {
     "data": {
      "text/plain": [
       "(array([1, 2, 3]), tensor([1, 2, 3]))"
      ]
     },
     "execution_count": 185,
     "metadata": {},
     "output_type": "execute_result"
    }
   ],
   "source": [
    "A = np.array([1, 2, 3])\n",
    "B = torch.tensor(A)\n",
    "A, B"
   ]
  },
  {
   "cell_type": "code",
   "execution_count": 186,
   "id": "cb4e0412",
   "metadata": {},
   "outputs": [
    {
     "data": {
      "text/plain": [
       "(numpy.ndarray, torch.Tensor)"
      ]
     },
     "execution_count": 186,
     "metadata": {},
     "output_type": "execute_result"
    }
   ],
   "source": [
    "type(A), type(B)"
   ]
  },
  {
   "cell_type": "code",
   "execution_count": 187,
   "id": "37a7601b",
   "metadata": {},
   "outputs": [
    {
     "data": {
      "text/plain": [
       "tensor([3.5000])"
      ]
     },
     "execution_count": 187,
     "metadata": {},
     "output_type": "execute_result"
    }
   ],
   "source": [
    "a = torch.tensor([3.5])\n",
    "a"
   ]
  },
  {
   "cell_type": "code",
   "execution_count": 188,
   "id": "2a023c22",
   "metadata": {},
   "outputs": [
    {
     "data": {
      "text/plain": [
       "(tensor([3.5000]), 3.5, 3.5, 3)"
      ]
     },
     "execution_count": 188,
     "metadata": {},
     "output_type": "execute_result"
    }
   ],
   "source": [
    "a, a.item(), float(a), int(a)"
   ]
  },
  {
   "cell_type": "markdown",
   "id": "c8425e98",
   "metadata": {},
   "source": [
    "## Reading Data into tensor"
   ]
  },
  {
   "cell_type": "code",
   "execution_count": 189,
   "id": "5fb7650d",
   "metadata": {},
   "outputs": [],
   "source": [
    "os.makedirs(os.path.join('.', 'data'), exist_ok=True)\n",
    "data_file = os.path.join('.', 'data', 'house_tiny.csv')"
   ]
  },
  {
   "cell_type": "code",
   "execution_count": 190,
   "id": "02a456a5",
   "metadata": {},
   "outputs": [],
   "source": [
    "with open(data_file, 'w') as f:\n",
    "    f.write('NumRooms,Alley,Price\\n') # Column names\n",
    "    f.write('NA,Pave,127500\\n') # Each row represents a data example\n",
    "    f.write('2,NA,106000\\n')\n",
    "    f.write('4,NA,178100\\n')\n",
    "    f.write('NA,NA,140000\\n')"
   ]
  },
  {
   "cell_type": "code",
   "execution_count": 191,
   "id": "e0e94615",
   "metadata": {},
   "outputs": [
    {
     "data": {
      "text/html": [
       "<div>\n",
       "<style scoped>\n",
       "    .dataframe tbody tr th:only-of-type {\n",
       "        vertical-align: middle;\n",
       "    }\n",
       "\n",
       "    .dataframe tbody tr th {\n",
       "        vertical-align: top;\n",
       "    }\n",
       "\n",
       "    .dataframe thead th {\n",
       "        text-align: right;\n",
       "    }\n",
       "</style>\n",
       "<table border=\"1\" class=\"dataframe\">\n",
       "  <thead>\n",
       "    <tr style=\"text-align: right;\">\n",
       "      <th></th>\n",
       "      <th>NumRooms</th>\n",
       "      <th>Alley</th>\n",
       "      <th>Price</th>\n",
       "    </tr>\n",
       "  </thead>\n",
       "  <tbody>\n",
       "    <tr>\n",
       "      <th>0</th>\n",
       "      <td>NaN</td>\n",
       "      <td>Pave</td>\n",
       "      <td>127500</td>\n",
       "    </tr>\n",
       "    <tr>\n",
       "      <th>1</th>\n",
       "      <td>2.0</td>\n",
       "      <td>NaN</td>\n",
       "      <td>106000</td>\n",
       "    </tr>\n",
       "    <tr>\n",
       "      <th>2</th>\n",
       "      <td>4.0</td>\n",
       "      <td>NaN</td>\n",
       "      <td>178100</td>\n",
       "    </tr>\n",
       "    <tr>\n",
       "      <th>3</th>\n",
       "      <td>NaN</td>\n",
       "      <td>NaN</td>\n",
       "      <td>140000</td>\n",
       "    </tr>\n",
       "  </tbody>\n",
       "</table>\n",
       "</div>"
      ],
      "text/plain": [
       "   NumRooms Alley   Price\n",
       "0       NaN  Pave  127500\n",
       "1       2.0   NaN  106000\n",
       "2       4.0   NaN  178100\n",
       "3       NaN   NaN  140000"
      ]
     },
     "execution_count": 191,
     "metadata": {},
     "output_type": "execute_result"
    }
   ],
   "source": [
    "data = pd.read_csv('data/house_tiny.csv')\n",
    "data"
   ]
  },
  {
   "cell_type": "code",
   "execution_count": 192,
   "id": "2bdd3b32",
   "metadata": {},
   "outputs": [],
   "source": [
    "inputs = data.iloc[:, :2]\n",
    "output = data.iloc[:, 2]"
   ]
  },
  {
   "cell_type": "code",
   "execution_count": 193,
   "id": "8ca91467",
   "metadata": {},
   "outputs": [
    {
     "data": {
      "text/html": [
       "<div>\n",
       "<style scoped>\n",
       "    .dataframe tbody tr th:only-of-type {\n",
       "        vertical-align: middle;\n",
       "    }\n",
       "\n",
       "    .dataframe tbody tr th {\n",
       "        vertical-align: top;\n",
       "    }\n",
       "\n",
       "    .dataframe thead th {\n",
       "        text-align: right;\n",
       "    }\n",
       "</style>\n",
       "<table border=\"1\" class=\"dataframe\">\n",
       "  <thead>\n",
       "    <tr style=\"text-align: right;\">\n",
       "      <th></th>\n",
       "      <th>NumRooms</th>\n",
       "      <th>Alley</th>\n",
       "    </tr>\n",
       "  </thead>\n",
       "  <tbody>\n",
       "    <tr>\n",
       "      <th>0</th>\n",
       "      <td>3.0</td>\n",
       "      <td>Pave</td>\n",
       "    </tr>\n",
       "    <tr>\n",
       "      <th>1</th>\n",
       "      <td>2.0</td>\n",
       "      <td>NaN</td>\n",
       "    </tr>\n",
       "    <tr>\n",
       "      <th>2</th>\n",
       "      <td>4.0</td>\n",
       "      <td>NaN</td>\n",
       "    </tr>\n",
       "    <tr>\n",
       "      <th>3</th>\n",
       "      <td>3.0</td>\n",
       "      <td>NaN</td>\n",
       "    </tr>\n",
       "  </tbody>\n",
       "</table>\n",
       "</div>"
      ],
      "text/plain": [
       "   NumRooms Alley\n",
       "0       3.0  Pave\n",
       "1       2.0   NaN\n",
       "2       4.0   NaN\n",
       "3       3.0   NaN"
      ]
     },
     "execution_count": 193,
     "metadata": {},
     "output_type": "execute_result"
    }
   ],
   "source": [
    "inputs = inputs.fillna(inputs.mean())  # filling with mean value\n",
    "inputs"
   ]
  },
  {
   "cell_type": "code",
   "execution_count": 194,
   "id": "ed1d9791",
   "metadata": {},
   "outputs": [
    {
     "data": {
      "text/html": [
       "<div>\n",
       "<style scoped>\n",
       "    .dataframe tbody tr th:only-of-type {\n",
       "        vertical-align: middle;\n",
       "    }\n",
       "\n",
       "    .dataframe tbody tr th {\n",
       "        vertical-align: top;\n",
       "    }\n",
       "\n",
       "    .dataframe thead th {\n",
       "        text-align: right;\n",
       "    }\n",
       "</style>\n",
       "<table border=\"1\" class=\"dataframe\">\n",
       "  <thead>\n",
       "    <tr style=\"text-align: right;\">\n",
       "      <th></th>\n",
       "      <th>NumRooms</th>\n",
       "      <th>Alley_Pave</th>\n",
       "      <th>Alley_nan</th>\n",
       "    </tr>\n",
       "  </thead>\n",
       "  <tbody>\n",
       "    <tr>\n",
       "      <th>0</th>\n",
       "      <td>3.0</td>\n",
       "      <td>1</td>\n",
       "      <td>0</td>\n",
       "    </tr>\n",
       "    <tr>\n",
       "      <th>1</th>\n",
       "      <td>2.0</td>\n",
       "      <td>0</td>\n",
       "      <td>1</td>\n",
       "    </tr>\n",
       "    <tr>\n",
       "      <th>2</th>\n",
       "      <td>4.0</td>\n",
       "      <td>0</td>\n",
       "      <td>1</td>\n",
       "    </tr>\n",
       "    <tr>\n",
       "      <th>3</th>\n",
       "      <td>3.0</td>\n",
       "      <td>0</td>\n",
       "      <td>1</td>\n",
       "    </tr>\n",
       "  </tbody>\n",
       "</table>\n",
       "</div>"
      ],
      "text/plain": [
       "   NumRooms  Alley_Pave  Alley_nan\n",
       "0       3.0           1          0\n",
       "1       2.0           0          1\n",
       "2       4.0           0          1\n",
       "3       3.0           0          1"
      ]
     },
     "execution_count": 194,
     "metadata": {},
     "output_type": "execute_result"
    }
   ],
   "source": [
    "inputs = pd.get_dummies(inputs, dummy_na=True)\n",
    "inputs"
   ]
  },
  {
   "cell_type": "code",
   "execution_count": 195,
   "id": "ad71731f",
   "metadata": {},
   "outputs": [],
   "source": [
    "X = torch.tensor(inputs.values)\n",
    "y = torch.tensor(output.values)"
   ]
  },
  {
   "cell_type": "code",
   "execution_count": 196,
   "id": "3aa1af43",
   "metadata": {},
   "outputs": [
    {
     "data": {
      "text/plain": [
       "(tensor([[3., 1., 0.],\n",
       "         [2., 0., 1.],\n",
       "         [4., 0., 1.],\n",
       "         [3., 0., 1.]], dtype=torch.float64),\n",
       " torch.Size([4, 3]))"
      ]
     },
     "execution_count": 196,
     "metadata": {},
     "output_type": "execute_result"
    }
   ],
   "source": [
    "X, X.shape"
   ]
  },
  {
   "cell_type": "code",
   "execution_count": 197,
   "id": "3e60c64f",
   "metadata": {},
   "outputs": [
    {
     "data": {
      "text/plain": [
       "(tensor([127500, 106000, 178100, 140000]), torch.Size([4]))"
      ]
     },
     "execution_count": 197,
     "metadata": {},
     "output_type": "execute_result"
    }
   ],
   "source": [
    "y, y.shape"
   ]
  },
  {
   "cell_type": "code",
   "execution_count": 198,
   "id": "cfdc0b57",
   "metadata": {},
   "outputs": [
    {
     "data": {
      "text/html": [
       "<div>\n",
       "<style scoped>\n",
       "    .dataframe tbody tr th:only-of-type {\n",
       "        vertical-align: middle;\n",
       "    }\n",
       "\n",
       "    .dataframe tbody tr th {\n",
       "        vertical-align: top;\n",
       "    }\n",
       "\n",
       "    .dataframe thead th {\n",
       "        text-align: right;\n",
       "    }\n",
       "</style>\n",
       "<table border=\"1\" class=\"dataframe\">\n",
       "  <thead>\n",
       "    <tr style=\"text-align: right;\">\n",
       "      <th></th>\n",
       "      <th>NumRooms</th>\n",
       "      <th>Alley</th>\n",
       "      <th>Price</th>\n",
       "    </tr>\n",
       "  </thead>\n",
       "  <tbody>\n",
       "    <tr>\n",
       "      <th>0</th>\n",
       "      <td>NaN</td>\n",
       "      <td>Pave</td>\n",
       "      <td>127500</td>\n",
       "    </tr>\n",
       "    <tr>\n",
       "      <th>1</th>\n",
       "      <td>2.0</td>\n",
       "      <td>NaN</td>\n",
       "      <td>106000</td>\n",
       "    </tr>\n",
       "    <tr>\n",
       "      <th>2</th>\n",
       "      <td>4.0</td>\n",
       "      <td>NaN</td>\n",
       "      <td>178100</td>\n",
       "    </tr>\n",
       "    <tr>\n",
       "      <th>3</th>\n",
       "      <td>NaN</td>\n",
       "      <td>NaN</td>\n",
       "      <td>140000</td>\n",
       "    </tr>\n",
       "  </tbody>\n",
       "</table>\n",
       "</div>"
      ],
      "text/plain": [
       "   NumRooms Alley   Price\n",
       "0       NaN  Pave  127500\n",
       "1       2.0   NaN  106000\n",
       "2       4.0   NaN  178100\n",
       "3       NaN   NaN  140000"
      ]
     },
     "execution_count": 198,
     "metadata": {},
     "output_type": "execute_result"
    }
   ],
   "source": [
    "data"
   ]
  },
  {
   "cell_type": "code",
   "execution_count": 199,
   "id": "75a8396d",
   "metadata": {},
   "outputs": [],
   "source": [
    "col_most_nan = data.isnull().sum().sort_values(ascending=False).index[0]"
   ]
  },
  {
   "cell_type": "code",
   "execution_count": 200,
   "id": "e6fce006",
   "metadata": {},
   "outputs": [
    {
     "data": {
      "text/plain": [
       "'Alley'"
      ]
     },
     "execution_count": 200,
     "metadata": {},
     "output_type": "execute_result"
    }
   ],
   "source": [
    "col_most_nan"
   ]
  },
  {
   "cell_type": "code",
   "execution_count": 201,
   "id": "6ab60f7b",
   "metadata": {},
   "outputs": [],
   "source": [
    "inputs_rem_most_null = data.drop(labels=col_most_nan, axis=1)"
   ]
  },
  {
   "cell_type": "code",
   "execution_count": 202,
   "id": "9ff6df44",
   "metadata": {},
   "outputs": [
    {
     "data": {
      "text/html": [
       "<div>\n",
       "<style scoped>\n",
       "    .dataframe tbody tr th:only-of-type {\n",
       "        vertical-align: middle;\n",
       "    }\n",
       "\n",
       "    .dataframe tbody tr th {\n",
       "        vertical-align: top;\n",
       "    }\n",
       "\n",
       "    .dataframe thead th {\n",
       "        text-align: right;\n",
       "    }\n",
       "</style>\n",
       "<table border=\"1\" class=\"dataframe\">\n",
       "  <thead>\n",
       "    <tr style=\"text-align: right;\">\n",
       "      <th></th>\n",
       "      <th>NumRooms</th>\n",
       "      <th>Price</th>\n",
       "    </tr>\n",
       "  </thead>\n",
       "  <tbody>\n",
       "    <tr>\n",
       "      <th>0</th>\n",
       "      <td>NaN</td>\n",
       "      <td>127500</td>\n",
       "    </tr>\n",
       "    <tr>\n",
       "      <th>1</th>\n",
       "      <td>2.0</td>\n",
       "      <td>106000</td>\n",
       "    </tr>\n",
       "    <tr>\n",
       "      <th>2</th>\n",
       "      <td>4.0</td>\n",
       "      <td>178100</td>\n",
       "    </tr>\n",
       "    <tr>\n",
       "      <th>3</th>\n",
       "      <td>NaN</td>\n",
       "      <td>140000</td>\n",
       "    </tr>\n",
       "  </tbody>\n",
       "</table>\n",
       "</div>"
      ],
      "text/plain": [
       "   NumRooms   Price\n",
       "0       NaN  127500\n",
       "1       2.0  106000\n",
       "2       4.0  178100\n",
       "3       NaN  140000"
      ]
     },
     "execution_count": 202,
     "metadata": {},
     "output_type": "execute_result"
    }
   ],
   "source": [
    "inputs_rem_most_null"
   ]
  },
  {
   "cell_type": "markdown",
   "id": "d1d77b46",
   "metadata": {},
   "source": [
    "## Linear Algebra on Tensors"
   ]
  },
  {
   "cell_type": "markdown",
   "id": "afd893ea",
   "metadata": {},
   "source": [
    "#### Scalars"
   ]
  },
  {
   "cell_type": "code",
   "execution_count": 203,
   "id": "a7d19ce1",
   "metadata": {},
   "outputs": [],
   "source": [
    "x = torch.tensor(3.0)\n",
    "y = torch.tensor(4.0)"
   ]
  },
  {
   "cell_type": "code",
   "execution_count": 204,
   "id": "b9c29720",
   "metadata": {},
   "outputs": [
    {
     "data": {
      "text/plain": [
       "(tensor(3.), tensor(4.))"
      ]
     },
     "execution_count": 204,
     "metadata": {},
     "output_type": "execute_result"
    }
   ],
   "source": [
    "x, y"
   ]
  },
  {
   "cell_type": "code",
   "execution_count": 205,
   "id": "fb82fc29",
   "metadata": {},
   "outputs": [
    {
     "data": {
      "text/plain": [
       "(tensor(7.), tensor(12.))"
      ]
     },
     "execution_count": 205,
     "metadata": {},
     "output_type": "execute_result"
    }
   ],
   "source": [
    "x + y, x * y"
   ]
  },
  {
   "cell_type": "markdown",
   "id": "a7275759",
   "metadata": {},
   "source": [
    "#### Vectors"
   ]
  },
  {
   "cell_type": "code",
   "execution_count": 206,
   "id": "3b3be06a",
   "metadata": {},
   "outputs": [
    {
     "data": {
      "text/plain": [
       "tensor([0, 1, 2, 3])"
      ]
     },
     "execution_count": 206,
     "metadata": {},
     "output_type": "execute_result"
    }
   ],
   "source": [
    "x = torch.arange(4)\n",
    "x"
   ]
  },
  {
   "cell_type": "code",
   "execution_count": 207,
   "id": "bfece1de",
   "metadata": {},
   "outputs": [
    {
     "data": {
      "text/plain": [
       "tensor(3)"
      ]
     },
     "execution_count": 207,
     "metadata": {},
     "output_type": "execute_result"
    }
   ],
   "source": [
    "x[3]"
   ]
  },
  {
   "cell_type": "code",
   "execution_count": 208,
   "id": "33888ef6",
   "metadata": {},
   "outputs": [
    {
     "data": {
      "text/plain": [
       "4"
      ]
     },
     "execution_count": 208,
     "metadata": {},
     "output_type": "execute_result"
    }
   ],
   "source": [
    "len(x)"
   ]
  },
  {
   "cell_type": "code",
   "execution_count": 209,
   "id": "49817d75",
   "metadata": {},
   "outputs": [
    {
     "data": {
      "text/plain": [
       "torch.Size([4])"
      ]
     },
     "execution_count": 209,
     "metadata": {},
     "output_type": "execute_result"
    }
   ],
   "source": [
    "x.shape"
   ]
  },
  {
   "cell_type": "markdown",
   "id": "630699bc",
   "metadata": {},
   "source": [
    "#### Matrices"
   ]
  },
  {
   "cell_type": "code",
   "execution_count": 210,
   "id": "17ec5af4",
   "metadata": {},
   "outputs": [],
   "source": [
    "X = torch.arange(20).reshape(5, 4)"
   ]
  },
  {
   "cell_type": "code",
   "execution_count": 211,
   "id": "d68a70c0",
   "metadata": {},
   "outputs": [
    {
     "data": {
      "text/plain": [
       "tensor([[ 0,  1,  2,  3],\n",
       "        [ 4,  5,  6,  7],\n",
       "        [ 8,  9, 10, 11],\n",
       "        [12, 13, 14, 15],\n",
       "        [16, 17, 18, 19]])"
      ]
     },
     "execution_count": 211,
     "metadata": {},
     "output_type": "execute_result"
    }
   ],
   "source": [
    "X"
   ]
  },
  {
   "cell_type": "code",
   "execution_count": 212,
   "id": "25e5dece",
   "metadata": {},
   "outputs": [
    {
     "data": {
      "text/plain": [
       "tensor([[ 0,  4,  8, 12, 16],\n",
       "        [ 1,  5,  9, 13, 17],\n",
       "        [ 2,  6, 10, 14, 18],\n",
       "        [ 3,  7, 11, 15, 19]])"
      ]
     },
     "execution_count": 212,
     "metadata": {},
     "output_type": "execute_result"
    }
   ],
   "source": [
    "X.T"
   ]
  },
  {
   "cell_type": "code",
   "execution_count": 213,
   "id": "161684e4",
   "metadata": {},
   "outputs": [],
   "source": [
    "A = torch.arange(9).reshape(3, 3)"
   ]
  },
  {
   "cell_type": "code",
   "execution_count": 214,
   "id": "04ea47fe",
   "metadata": {},
   "outputs": [
    {
     "data": {
      "text/plain": [
       "tensor([[0, 1, 2],\n",
       "        [3, 4, 5],\n",
       "        [6, 7, 8]])"
      ]
     },
     "execution_count": 214,
     "metadata": {},
     "output_type": "execute_result"
    }
   ],
   "source": [
    "A"
   ]
  },
  {
   "cell_type": "code",
   "execution_count": 215,
   "id": "754726b4",
   "metadata": {},
   "outputs": [
    {
     "data": {
      "text/plain": [
       "tensor([[ True, False, False],\n",
       "        [False,  True, False],\n",
       "        [False, False,  True]])"
      ]
     },
     "execution_count": 215,
     "metadata": {},
     "output_type": "execute_result"
    }
   ],
   "source": [
    "A == A.T"
   ]
  },
  {
   "cell_type": "code",
   "execution_count": 216,
   "id": "c2036bd2",
   "metadata": {},
   "outputs": [
    {
     "data": {
      "text/plain": [
       "tensor([[1, 2, 3],\n",
       "        [2, 0, 4],\n",
       "        [3, 4, 5]])"
      ]
     },
     "execution_count": 216,
     "metadata": {},
     "output_type": "execute_result"
    }
   ],
   "source": [
    "B = torch.tensor([[1,2,3], [2, 0 , 4], [3, 4, 5]])\n",
    "B"
   ]
  },
  {
   "cell_type": "code",
   "execution_count": 217,
   "id": "53ffc8e1",
   "metadata": {},
   "outputs": [
    {
     "data": {
      "text/plain": [
       "tensor([[True, True, True],\n",
       "        [True, True, True],\n",
       "        [True, True, True]])"
      ]
     },
     "execution_count": 217,
     "metadata": {},
     "output_type": "execute_result"
    }
   ],
   "source": [
    "B == B.T"
   ]
  },
  {
   "cell_type": "markdown",
   "id": "c57ae0a7",
   "metadata": {},
   "source": [
    "#### Tensors"
   ]
  },
  {
   "cell_type": "code",
   "execution_count": 218,
   "id": "faf46a04",
   "metadata": {},
   "outputs": [],
   "source": [
    "X = torch.arange(24).reshape(2, 3, 4)"
   ]
  },
  {
   "cell_type": "code",
   "execution_count": 219,
   "id": "bcf12d26",
   "metadata": {},
   "outputs": [
    {
     "data": {
      "text/plain": [
       "tensor([[[ 0,  1,  2,  3],\n",
       "         [ 4,  5,  6,  7],\n",
       "         [ 8,  9, 10, 11]],\n",
       "\n",
       "        [[12, 13, 14, 15],\n",
       "         [16, 17, 18, 19],\n",
       "         [20, 21, 22, 23]]])"
      ]
     },
     "execution_count": 219,
     "metadata": {},
     "output_type": "execute_result"
    }
   ],
   "source": [
    "X"
   ]
  },
  {
   "cell_type": "code",
   "execution_count": 220,
   "id": "752c99f7",
   "metadata": {},
   "outputs": [
    {
     "data": {
      "text/plain": [
       "tensor([[ 0.,  1.,  2.,  3.],\n",
       "        [ 4.,  5.,  6.,  7.],\n",
       "        [ 8.,  9., 10., 11.],\n",
       "        [12., 13., 14., 15.],\n",
       "        [16., 17., 18., 19.]])"
      ]
     },
     "execution_count": 220,
     "metadata": {},
     "output_type": "execute_result"
    }
   ],
   "source": [
    "A = torch.arange(20, dtype=torch.float32).reshape(5, 4)\n",
    "A"
   ]
  },
  {
   "cell_type": "code",
   "execution_count": 221,
   "id": "4cdedd13",
   "metadata": {},
   "outputs": [],
   "source": [
    "B = A.clone()"
   ]
  },
  {
   "cell_type": "code",
   "execution_count": 222,
   "id": "74cc6e31",
   "metadata": {},
   "outputs": [
    {
     "data": {
      "text/plain": [
       "tensor([[ 0.,  2.,  4.,  6.],\n",
       "        [ 8., 10., 12., 14.],\n",
       "        [16., 18., 20., 22.],\n",
       "        [24., 26., 28., 30.],\n",
       "        [32., 34., 36., 38.]])"
      ]
     },
     "execution_count": 222,
     "metadata": {},
     "output_type": "execute_result"
    }
   ],
   "source": [
    "A + B"
   ]
  },
  {
   "cell_type": "code",
   "execution_count": 223,
   "id": "07f48706",
   "metadata": {},
   "outputs": [
    {
     "data": {
      "text/plain": [
       "tensor([[  0.,   1.,   4.,   9.],\n",
       "        [ 16.,  25.,  36.,  49.],\n",
       "        [ 64.,  81., 100., 121.],\n",
       "        [144., 169., 196., 225.],\n",
       "        [256., 289., 324., 361.]])"
      ]
     },
     "execution_count": 223,
     "metadata": {},
     "output_type": "execute_result"
    }
   ],
   "source": [
    "A * B"
   ]
  },
  {
   "cell_type": "code",
   "execution_count": 224,
   "id": "3903af2e",
   "metadata": {},
   "outputs": [],
   "source": [
    "#### reduction operations"
   ]
  },
  {
   "cell_type": "code",
   "execution_count": 225,
   "id": "5c7b7692",
   "metadata": {},
   "outputs": [
    {
     "data": {
      "text/plain": [
       "(tensor([0., 1., 2., 3.]), tensor(6.))"
      ]
     },
     "execution_count": 225,
     "metadata": {},
     "output_type": "execute_result"
    }
   ],
   "source": [
    "x = torch.arange(4, dtype=torch.float32)\n",
    "x, x.sum()"
   ]
  },
  {
   "cell_type": "code",
   "execution_count": 226,
   "id": "39c6eb44",
   "metadata": {},
   "outputs": [
    {
     "data": {
      "text/plain": [
       "tensor([[ 0.,  1.,  2.,  3.],\n",
       "        [ 4.,  5.,  6.,  7.],\n",
       "        [ 8.,  9., 10., 11.],\n",
       "        [12., 13., 14., 15.],\n",
       "        [16., 17., 18., 19.]])"
      ]
     },
     "execution_count": 226,
     "metadata": {},
     "output_type": "execute_result"
    }
   ],
   "source": [
    "A"
   ]
  },
  {
   "cell_type": "code",
   "execution_count": 227,
   "id": "69025a26",
   "metadata": {},
   "outputs": [
    {
     "data": {
      "text/plain": [
       "tensor([40., 45., 50., 55.])"
      ]
     },
     "execution_count": 227,
     "metadata": {},
     "output_type": "execute_result"
    }
   ],
   "source": [
    "A.sum(axis=0)"
   ]
  },
  {
   "cell_type": "code",
   "execution_count": 228,
   "id": "2555bda2",
   "metadata": {},
   "outputs": [
    {
     "data": {
      "text/plain": [
       "tensor([ 6., 22., 38., 54., 70.])"
      ]
     },
     "execution_count": 228,
     "metadata": {},
     "output_type": "execute_result"
    }
   ],
   "source": [
    "A.sum(axis=1)"
   ]
  },
  {
   "cell_type": "code",
   "execution_count": 229,
   "id": "5d408233",
   "metadata": {},
   "outputs": [
    {
     "data": {
      "text/plain": [
       "tensor(190.)"
      ]
     },
     "execution_count": 229,
     "metadata": {},
     "output_type": "execute_result"
    }
   ],
   "source": [
    "A.sum()"
   ]
  },
  {
   "cell_type": "code",
   "execution_count": 230,
   "id": "21bbb38b",
   "metadata": {},
   "outputs": [
    {
     "data": {
      "text/plain": [
       "tensor(190.)"
      ]
     },
     "execution_count": 230,
     "metadata": {},
     "output_type": "execute_result"
    }
   ],
   "source": [
    "A.sum(axis=[0, 1])   # same as summing up all elements"
   ]
  },
  {
   "cell_type": "code",
   "execution_count": 231,
   "id": "9053ae1a",
   "metadata": {},
   "outputs": [
    {
     "data": {
      "text/plain": [
       "tensor(9.5000)"
      ]
     },
     "execution_count": 231,
     "metadata": {},
     "output_type": "execute_result"
    }
   ],
   "source": [
    "A.mean()"
   ]
  },
  {
   "cell_type": "code",
   "execution_count": 232,
   "id": "a905ceac",
   "metadata": {},
   "outputs": [
    {
     "data": {
      "text/plain": [
       "tensor(9.5000)"
      ]
     },
     "execution_count": 232,
     "metadata": {},
     "output_type": "execute_result"
    }
   ],
   "source": [
    "A.sum() / A.numel()"
   ]
  },
  {
   "cell_type": "code",
   "execution_count": 233,
   "id": "bacd1386",
   "metadata": {},
   "outputs": [
    {
     "data": {
      "text/plain": [
       "tensor([ 1.5000,  5.5000,  9.5000, 13.5000, 17.5000])"
      ]
     },
     "execution_count": 233,
     "metadata": {},
     "output_type": "execute_result"
    }
   ],
   "source": [
    "A.mean(axis=1)"
   ]
  },
  {
   "cell_type": "code",
   "execution_count": 234,
   "id": "a3415188",
   "metadata": {},
   "outputs": [
    {
     "data": {
      "text/plain": [
       "tensor([ 8.,  9., 10., 11.])"
      ]
     },
     "execution_count": 234,
     "metadata": {},
     "output_type": "execute_result"
    }
   ],
   "source": [
    "A.mean(axis=0)"
   ]
  },
  {
   "cell_type": "code",
   "execution_count": 235,
   "id": "f396738d",
   "metadata": {},
   "outputs": [
    {
     "data": {
      "text/plain": [
       "tensor([[ 0.,  1.,  2.,  3.],\n",
       "        [ 4.,  5.,  6.,  7.],\n",
       "        [ 8.,  9., 10., 11.],\n",
       "        [12., 13., 14., 15.],\n",
       "        [16., 17., 18., 19.]])"
      ]
     },
     "execution_count": 235,
     "metadata": {},
     "output_type": "execute_result"
    }
   ],
   "source": [
    "A"
   ]
  },
  {
   "cell_type": "markdown",
   "id": "f586c496",
   "metadata": {},
   "source": [
    "#### Non reduction operations"
   ]
  },
  {
   "cell_type": "code",
   "execution_count": 236,
   "id": "b62495d4",
   "metadata": {},
   "outputs": [
    {
     "data": {
      "text/plain": [
       "tensor([[ 6.],\n",
       "        [22.],\n",
       "        [38.],\n",
       "        [54.],\n",
       "        [70.]])"
      ]
     },
     "execution_count": 236,
     "metadata": {},
     "output_type": "execute_result"
    }
   ],
   "source": [
    "A.sum(axis=1, keepdims=True)"
   ]
  },
  {
   "cell_type": "code",
   "execution_count": 237,
   "id": "104627ba",
   "metadata": {},
   "outputs": [
    {
     "data": {
      "text/plain": [
       "tensor([ 6., 22., 38., 54., 70.])"
      ]
     },
     "execution_count": 237,
     "metadata": {},
     "output_type": "execute_result"
    }
   ],
   "source": [
    "A.sum(axis=1)"
   ]
  },
  {
   "cell_type": "code",
   "execution_count": 238,
   "id": "e3ad209b",
   "metadata": {},
   "outputs": [
    {
     "data": {
      "text/plain": [
       "tensor([[0.0000, 0.0053, 0.0105, 0.0158],\n",
       "        [0.0211, 0.0263, 0.0316, 0.0368],\n",
       "        [0.0421, 0.0474, 0.0526, 0.0579],\n",
       "        [0.0632, 0.0684, 0.0737, 0.0789],\n",
       "        [0.0842, 0.0895, 0.0947, 0.1000]])"
      ]
     },
     "execution_count": 238,
     "metadata": {},
     "output_type": "execute_result"
    }
   ],
   "source": [
    "A / A.sum()   # scalar operations"
   ]
  },
  {
   "cell_type": "code",
   "execution_count": 239,
   "id": "dd19ef21",
   "metadata": {},
   "outputs": [
    {
     "data": {
      "text/plain": [
       "tensor([[ 0.,  1.,  2.,  3.],\n",
       "        [ 4.,  5.,  6.,  7.],\n",
       "        [ 8.,  9., 10., 11.],\n",
       "        [12., 13., 14., 15.],\n",
       "        [16., 17., 18., 19.]])"
      ]
     },
     "execution_count": 239,
     "metadata": {},
     "output_type": "execute_result"
    }
   ],
   "source": [
    "A"
   ]
  },
  {
   "cell_type": "code",
   "execution_count": 240,
   "id": "701e7d73",
   "metadata": {},
   "outputs": [
    {
     "data": {
      "text/plain": [
       "tensor([[ 0.,  1.,  2.,  3.],\n",
       "        [ 4.,  6.,  8., 10.],\n",
       "        [12., 15., 18., 21.],\n",
       "        [24., 28., 32., 36.],\n",
       "        [40., 45., 50., 55.]])"
      ]
     },
     "execution_count": 240,
     "metadata": {},
     "output_type": "execute_result"
    }
   ],
   "source": [
    " A.cumsum(axis=0)"
   ]
  },
  {
   "cell_type": "code",
   "execution_count": 241,
   "id": "39f2f77c",
   "metadata": {},
   "outputs": [
    {
     "data": {
      "text/plain": [
       "tensor([[ 0.,  1.,  3.,  6.],\n",
       "        [ 4.,  9., 15., 22.],\n",
       "        [ 8., 17., 27., 38.],\n",
       "        [12., 25., 39., 54.],\n",
       "        [16., 33., 51., 70.]])"
      ]
     },
     "execution_count": 241,
     "metadata": {},
     "output_type": "execute_result"
    }
   ],
   "source": [
    "A.cumsum(axis=1)"
   ]
  },
  {
   "cell_type": "markdown",
   "id": "5ab2f99f",
   "metadata": {},
   "source": [
    "### Dot products"
   ]
  },
  {
   "cell_type": "code",
   "execution_count": 242,
   "id": "07606609",
   "metadata": {},
   "outputs": [
    {
     "data": {
      "text/plain": [
       "(tensor([0., 1., 2., 3.]), tensor([1., 1., 1., 1.]))"
      ]
     },
     "execution_count": 242,
     "metadata": {},
     "output_type": "execute_result"
    }
   ],
   "source": [
    "y = torch.ones(4, dtype=torch.float32)\n",
    "x,y"
   ]
  },
  {
   "cell_type": "code",
   "execution_count": 243,
   "id": "6f5ddd7f",
   "metadata": {},
   "outputs": [
    {
     "data": {
      "text/plain": [
       "(torch.Size([4]), torch.Size([4]))"
      ]
     },
     "execution_count": 243,
     "metadata": {},
     "output_type": "execute_result"
    }
   ],
   "source": [
    "x.shape, y.shape"
   ]
  },
  {
   "cell_type": "code",
   "execution_count": 244,
   "id": "37f8dc05",
   "metadata": {},
   "outputs": [
    {
     "data": {
      "text/plain": [
       "tensor(6.)"
      ]
     },
     "execution_count": 244,
     "metadata": {},
     "output_type": "execute_result"
    }
   ],
   "source": [
    "torch.sum(torch.dot(x, y))"
   ]
  },
  {
   "cell_type": "code",
   "execution_count": 245,
   "id": "61f3504f",
   "metadata": {},
   "outputs": [
    {
     "data": {
      "text/plain": [
       "tensor(6.)"
      ]
     },
     "execution_count": 245,
     "metadata": {},
     "output_type": "execute_result"
    }
   ],
   "source": [
    "torch.sum(x * y)"
   ]
  },
  {
   "cell_type": "code",
   "execution_count": 246,
   "id": "0036569f",
   "metadata": {},
   "outputs": [
    {
     "data": {
      "text/plain": [
       "tensor([[ 0.,  1.,  2.,  3.],\n",
       "        [ 4.,  5.,  6.,  7.],\n",
       "        [ 8.,  9., 10., 11.],\n",
       "        [12., 13., 14., 15.],\n",
       "        [16., 17., 18., 19.]])"
      ]
     },
     "execution_count": 246,
     "metadata": {},
     "output_type": "execute_result"
    }
   ],
   "source": [
    "A"
   ]
  },
  {
   "cell_type": "code",
   "execution_count": 247,
   "id": "c0878cea",
   "metadata": {},
   "outputs": [
    {
     "data": {
      "text/plain": [
       "(torch.Size([5, 4]), torch.Size([4]), tensor([ 14.,  38.,  62.,  86., 110.]))"
      ]
     },
     "execution_count": 247,
     "metadata": {},
     "output_type": "execute_result"
    }
   ],
   "source": [
    "A.shape, x.shape, torch.mv(A,x)"
   ]
  },
  {
   "cell_type": "code",
   "execution_count": 248,
   "id": "07ea0386",
   "metadata": {},
   "outputs": [
    {
     "data": {
      "text/plain": [
       "torch.Size([5, 4])"
      ]
     },
     "execution_count": 248,
     "metadata": {},
     "output_type": "execute_result"
    }
   ],
   "source": [
    "A.shape"
   ]
  },
  {
   "cell_type": "code",
   "execution_count": 249,
   "id": "54a32ba3",
   "metadata": {},
   "outputs": [],
   "source": [
    "B = torch.ones(4, 3)"
   ]
  },
  {
   "cell_type": "code",
   "execution_count": 250,
   "id": "26304a5f",
   "metadata": {},
   "outputs": [
    {
     "data": {
      "text/plain": [
       "(torch.Size([5, 4]), torch.Size([4, 3]), torch.Size([5, 3]))"
      ]
     },
     "execution_count": 250,
     "metadata": {},
     "output_type": "execute_result"
    }
   ],
   "source": [
    "A.shape, B.shape, torch.mm(A, B).shape"
   ]
  },
  {
   "cell_type": "markdown",
   "id": "14307864",
   "metadata": {},
   "source": [
    "#### Norm of vector"
   ]
  },
  {
   "cell_type": "code",
   "execution_count": 251,
   "id": "d1cf58a2",
   "metadata": {},
   "outputs": [
    {
     "data": {
      "text/plain": [
       "tensor(5.)"
      ]
     },
     "execution_count": 251,
     "metadata": {},
     "output_type": "execute_result"
    }
   ],
   "source": [
    "u = torch.tensor([3.0, -4.0])\n",
    "torch.norm(u)   # L2 norm"
   ]
  },
  {
   "cell_type": "code",
   "execution_count": 252,
   "id": "70d0d791",
   "metadata": {},
   "outputs": [
    {
     "data": {
      "text/plain": [
       "tensor(7.)"
      ]
     },
     "execution_count": 252,
     "metadata": {},
     "output_type": "execute_result"
    }
   ],
   "source": [
    "torch.abs(u).sum()   # L1 , norm"
   ]
  },
  {
   "cell_type": "code",
   "execution_count": 253,
   "id": "30e3505b",
   "metadata": {},
   "outputs": [
    {
     "data": {
      "text/plain": [
       "tensor([[ 0.,  1.,  2.,  3.],\n",
       "        [ 4.,  5.,  6.,  7.],\n",
       "        [ 8.,  9., 10., 11.],\n",
       "        [12., 13., 14., 15.],\n",
       "        [16., 17., 18., 19.]])"
      ]
     },
     "execution_count": 253,
     "metadata": {},
     "output_type": "execute_result"
    }
   ],
   "source": [
    "A"
   ]
  },
  {
   "cell_type": "code",
   "execution_count": 254,
   "id": "6abe536e",
   "metadata": {},
   "outputs": [],
   "source": [
    "B = torch.arange(20).reshape(5, 4)"
   ]
  },
  {
   "cell_type": "code",
   "execution_count": 255,
   "id": "e6ef2dff",
   "metadata": {},
   "outputs": [],
   "source": [
    "C = A + B "
   ]
  },
  {
   "cell_type": "code",
   "execution_count": 256,
   "id": "caa2c7c9",
   "metadata": {},
   "outputs": [
    {
     "data": {
      "text/plain": [
       "tensor([[True, True, True, True, True],\n",
       "        [True, True, True, True, True],\n",
       "        [True, True, True, True, True],\n",
       "        [True, True, True, True, True]])"
      ]
     },
     "execution_count": 256,
     "metadata": {},
     "output_type": "execute_result"
    }
   ],
   "source": [
    "A.T + B.T == C.T"
   ]
  },
  {
   "cell_type": "code",
   "execution_count": 257,
   "id": "fc8bb69b",
   "metadata": {},
   "outputs": [],
   "source": [
    "A = torch.arange(9).reshape(3, 3)"
   ]
  },
  {
   "cell_type": "code",
   "execution_count": 258,
   "id": "4972ee80",
   "metadata": {},
   "outputs": [
    {
     "data": {
      "text/plain": [
       "tensor([[0, 1, 2],\n",
       "        [3, 4, 5],\n",
       "        [6, 7, 8]])"
      ]
     },
     "execution_count": 258,
     "metadata": {},
     "output_type": "execute_result"
    }
   ],
   "source": [
    "A"
   ]
  },
  {
   "cell_type": "code",
   "execution_count": 259,
   "id": "4dc5515a",
   "metadata": {},
   "outputs": [],
   "source": [
    "C = A + A.T"
   ]
  },
  {
   "cell_type": "code",
   "execution_count": 260,
   "id": "7ca78f64",
   "metadata": {},
   "outputs": [
    {
     "data": {
      "text/plain": [
       "tensor([[ 0,  4,  8],\n",
       "        [ 4,  8, 12],\n",
       "        [ 8, 12, 16]])"
      ]
     },
     "execution_count": 260,
     "metadata": {},
     "output_type": "execute_result"
    }
   ],
   "source": [
    "C"
   ]
  },
  {
   "cell_type": "code",
   "execution_count": 261,
   "id": "46292b61",
   "metadata": {},
   "outputs": [],
   "source": [
    "x = torch.arange(24).reshape(2,3,4)"
   ]
  },
  {
   "cell_type": "code",
   "execution_count": 262,
   "id": "647c0bed",
   "metadata": {},
   "outputs": [
    {
     "data": {
      "text/plain": [
       "tensor([[[ 0,  1,  2,  3],\n",
       "         [ 4,  5,  6,  7],\n",
       "         [ 8,  9, 10, 11]],\n",
       "\n",
       "        [[12, 13, 14, 15],\n",
       "         [16, 17, 18, 19],\n",
       "         [20, 21, 22, 23]]])"
      ]
     },
     "execution_count": 262,
     "metadata": {},
     "output_type": "execute_result"
    }
   ],
   "source": [
    "x"
   ]
  },
  {
   "cell_type": "code",
   "execution_count": 263,
   "id": "37d8a853",
   "metadata": {},
   "outputs": [
    {
     "data": {
      "text/plain": [
       "2"
      ]
     },
     "execution_count": 263,
     "metadata": {},
     "output_type": "execute_result"
    }
   ],
   "source": [
    "len(x)"
   ]
  },
  {
   "cell_type": "code",
   "execution_count": 264,
   "id": "6b072a6c",
   "metadata": {},
   "outputs": [
    {
     "data": {
      "text/plain": [
       "torch.Size([2, 3, 4])"
      ]
     },
     "execution_count": 264,
     "metadata": {},
     "output_type": "execute_result"
    }
   ],
   "source": [
    "x.size()"
   ]
  },
  {
   "cell_type": "code",
   "execution_count": 265,
   "id": "3b76614b",
   "metadata": {},
   "outputs": [
    {
     "data": {
      "text/plain": [
       "24"
      ]
     },
     "execution_count": 265,
     "metadata": {},
     "output_type": "execute_result"
    }
   ],
   "source": [
    "x.numel()"
   ]
  },
  {
   "cell_type": "code",
   "execution_count": 266,
   "id": "1e7b4f8e",
   "metadata": {},
   "outputs": [
    {
     "data": {
      "text/plain": [
       "tensor([[0, 1, 2],\n",
       "        [3, 4, 5],\n",
       "        [6, 7, 8]])"
      ]
     },
     "execution_count": 266,
     "metadata": {},
     "output_type": "execute_result"
    }
   ],
   "source": [
    "A"
   ]
  },
  {
   "cell_type": "code",
   "execution_count": 267,
   "id": "27070a0d",
   "metadata": {},
   "outputs": [
    {
     "data": {
      "text/plain": [
       "tensor(36)"
      ]
     },
     "execution_count": 267,
     "metadata": {},
     "output_type": "execute_result"
    }
   ],
   "source": [
    "A.sum()"
   ]
  },
  {
   "cell_type": "code",
   "execution_count": 268,
   "id": "6343aa53",
   "metadata": {},
   "outputs": [
    {
     "data": {
      "text/plain": [
       "tensor([ 3, 12, 21])"
      ]
     },
     "execution_count": 268,
     "metadata": {},
     "output_type": "execute_result"
    }
   ],
   "source": [
    "A.sum(axis=1)"
   ]
  },
  {
   "cell_type": "code",
   "execution_count": 269,
   "id": "c2d19170",
   "metadata": {},
   "outputs": [
    {
     "data": {
      "text/plain": [
       "tensor([[0.0000, 0.0833, 0.0952],\n",
       "        [1.0000, 0.3333, 0.2381],\n",
       "        [2.0000, 0.5833, 0.3810]])"
      ]
     },
     "execution_count": 269,
     "metadata": {},
     "output_type": "execute_result"
    }
   ],
   "source": [
    "A / A.sum(axis=1)"
   ]
  },
  {
   "cell_type": "code",
   "execution_count": 270,
   "id": "9904893a",
   "metadata": {},
   "outputs": [
    {
     "data": {
      "text/plain": [
       "torch.Size([2, 3, 4])"
      ]
     },
     "execution_count": 270,
     "metadata": {},
     "output_type": "execute_result"
    }
   ],
   "source": [
    "x.shape"
   ]
  },
  {
   "cell_type": "code",
   "execution_count": 271,
   "id": "8c97e4cf",
   "metadata": {},
   "outputs": [
    {
     "data": {
      "text/plain": [
       "tensor([[[ 0,  1,  2,  3],\n",
       "         [ 4,  5,  6,  7],\n",
       "         [ 8,  9, 10, 11]],\n",
       "\n",
       "        [[12, 13, 14, 15],\n",
       "         [16, 17, 18, 19],\n",
       "         [20, 21, 22, 23]]])"
      ]
     },
     "execution_count": 271,
     "metadata": {},
     "output_type": "execute_result"
    }
   ],
   "source": [
    "x"
   ]
  },
  {
   "cell_type": "code",
   "execution_count": 272,
   "id": "95ac1e30",
   "metadata": {},
   "outputs": [
    {
     "data": {
      "text/plain": [
       "tensor([[12, 14, 16, 18],\n",
       "        [20, 22, 24, 26],\n",
       "        [28, 30, 32, 34]])"
      ]
     },
     "execution_count": 272,
     "metadata": {},
     "output_type": "execute_result"
    }
   ],
   "source": [
    "x.sum(axis=0)"
   ]
  },
  {
   "cell_type": "code",
   "execution_count": 273,
   "id": "73ac3b5d",
   "metadata": {},
   "outputs": [
    {
     "data": {
      "text/plain": [
       "tensor([[12, 14, 16, 18],\n",
       "        [20, 22, 24, 26],\n",
       "        [28, 30, 32, 34]])"
      ]
     },
     "execution_count": 273,
     "metadata": {},
     "output_type": "execute_result"
    }
   ],
   "source": [
    "x[0] + x[1]"
   ]
  },
  {
   "cell_type": "code",
   "execution_count": 274,
   "id": "c406def4",
   "metadata": {},
   "outputs": [
    {
     "data": {
      "text/plain": [
       "tensor([[12, 15, 18, 21],\n",
       "        [48, 51, 54, 57]])"
      ]
     },
     "execution_count": 274,
     "metadata": {},
     "output_type": "execute_result"
    }
   ],
   "source": [
    "x.sum(axis=1)"
   ]
  },
  {
   "cell_type": "code",
   "execution_count": 275,
   "id": "8d6a2ef8",
   "metadata": {},
   "outputs": [
    {
     "data": {
      "text/plain": [
       "tensor([[ 6, 22, 38],\n",
       "        [54, 70, 86]])"
      ]
     },
     "execution_count": 275,
     "metadata": {},
     "output_type": "execute_result"
    }
   ],
   "source": [
    "x.sum(axis=2)"
   ]
  },
  {
   "cell_type": "markdown",
   "id": "6af65b77",
   "metadata": {},
   "source": [
    "### Calculus"
   ]
  },
  {
   "cell_type": "code",
   "execution_count": 276,
   "id": "2e19f3d0",
   "metadata": {},
   "outputs": [],
   "source": [
    "def f(x):\n",
    "    return 3 * x ** 2 - 4 * x\n"
   ]
  },
  {
   "cell_type": "code",
   "execution_count": 277,
   "id": "bb473760",
   "metadata": {},
   "outputs": [],
   "source": [
    "def numerical_lim(f, x, h):\n",
    "    return (f(x + h) - f(x)) / h\n"
   ]
  },
  {
   "cell_type": "code",
   "execution_count": 278,
   "id": "c274a355",
   "metadata": {},
   "outputs": [
    {
     "name": "stdout",
     "output_type": "stream",
     "text": [
      "h=0.10000, numerical limit=2.30000\n",
      "h=0.01000, numerical limit=2.03000\n",
      "h=0.00100, numerical limit=2.00300\n",
      "h=0.00010, numerical limit=2.00030\n",
      "h=0.00001, numerical limit=2.00003\n"
     ]
    }
   ],
   "source": [
    "h = 0.1\n",
    "# derivative at x = 1\n",
    "x = 1\n",
    "for i in range(5):\n",
    "    print(f'h={h:.5f}, numerical limit={numerical_lim(f, x, h):.5f}')\n",
    "    h *= 0.1\n"
   ]
  },
  {
   "cell_type": "code",
   "execution_count": 279,
   "id": "fd79e26e",
   "metadata": {},
   "outputs": [
    {
     "name": "stdout",
     "output_type": "stream",
     "text": [
      "h=0.10000, numerical limit=8.30000\n",
      "h=0.01000, numerical limit=8.03000\n",
      "h=0.00100, numerical limit=8.00300\n",
      "h=0.00010, numerical limit=8.00030\n",
      "h=0.00001, numerical limit=8.00003\n"
     ]
    }
   ],
   "source": [
    "h = 0.1\n",
    "# derivative at x = 2\n",
    "x = 2\n",
    "for i in range(5):\n",
    "    print(f'h={h:.5f}, numerical limit={numerical_lim(f, x, h):.5f}')\n",
    "    h *= 0.1"
   ]
  },
  {
   "cell_type": "code",
   "execution_count": 280,
   "id": "f578e1c8",
   "metadata": {},
   "outputs": [],
   "source": [
    "def use_svg_display(): #@save\n",
    "    \"\"\"Use the svg format to display a plot in Jupyter.\"\"\"\n",
    "    display.set_matplotlib_formats('svg')\n",
    "    "
   ]
  },
  {
   "cell_type": "code",
   "execution_count": 281,
   "id": "09ad47b0",
   "metadata": {},
   "outputs": [],
   "source": [
    "def set_figsize(figsize=(3.5, 2.5)): #@save\n",
    "    \"\"\"Set the figure size for matplotlib.\"\"\"\n",
    "    use_svg_display()\n",
    "    d2l.plt.rcParams['figure.figsize'] = figsize\n",
    "    "
   ]
  },
  {
   "cell_type": "code",
   "execution_count": 282,
   "id": "a2b19044",
   "metadata": {},
   "outputs": [],
   "source": [
    "#@save\n",
    "def set_axes(axes, xlabel, ylabel, xlim, ylim, xscale, yscale, legend):\n",
    "    \"\"\"Set the axes for matplotlib.\"\"\"\n",
    "    axes.set_xlabel(xlabel)\n",
    "    axes.set_ylabel(ylabel)\n",
    "    axes.set_xscale(xscale)\n",
    "    axes.set_yscale(yscale)\n",
    "    axes.set_xlim(xlim)\n",
    "    axes.set_ylim(ylim)\n",
    "    if legend:\n",
    "        axes.legend(legend)\n",
    "    axes.grid()\n"
   ]
  },
  {
   "cell_type": "code",
   "execution_count": 283,
   "id": "09baffa0",
   "metadata": {},
   "outputs": [],
   "source": [
    "#@save\n",
    "def plot(X, Y=None,\n",
    "            xlabel=None, ylabel=None,legend=None, \n",
    "            xlim=None, ylim=None,\n",
    "            xscale='linear', yscale='linear',\n",
    "            fmts=('-', 'm--', 'g-.', 'r:'),\n",
    "            figsize=(3.5, 2.5),\n",
    "            axes=None):\n",
    "\n",
    "    \"\"\"Plot data points.\"\"\"\n",
    "    if legend is None:\n",
    "        legend = []\n",
    "    \n",
    "    set_figsize(figsize)\n",
    "    axes = axes if axes else d2l.plt.gca()\n",
    "    \n",
    "    # Return True if `X` (tensor or list) has 1 axis\n",
    "    def has_one_axis(X):\n",
    "        return (hasattr(X, \"ndim\") and X.ndim == 1 or\n",
    "            isinstance(X, list) and not hasattr(X[0], \"__len__\"))\n",
    "    \n",
    "    if has_one_axis(X):\n",
    "        X = [X]\n",
    "    if Y is None:\n",
    "        X, Y = [[]] * len(X), X\n",
    "    elif has_one_axis(Y):\n",
    "        Y = [Y]\n",
    "    \n",
    "    if len(X) != len(Y):\n",
    "        X = X * len(Y)\n",
    "    axes.cla()\n",
    "    \n",
    "    for x, y, fmt in zip(X, Y, fmts):\n",
    "        if len(x):\n",
    "            axes.plot(x, y, fmt)\n",
    "        else:\n",
    "            axes.plot(y, fmt)\n",
    "    set_axes(axes, xlabel, ylabel, xlim, ylim, xscale, yscale, legend)\n"
   ]
  },
  {
   "cell_type": "code",
   "execution_count": 284,
   "id": "81d0e3c6",
   "metadata": {},
   "outputs": [
    {
     "name": "stderr",
     "output_type": "stream",
     "text": [
      "<ipython-input-280-4007c1e1b97d>:3: DeprecationWarning: `set_matplotlib_formats` is deprecated since IPython 7.23, directly use `matplotlib_inline.backend_inline.set_matplotlib_formats()`\n",
      "  display.set_matplotlib_formats('svg')\n"
     ]
    },
    {
     "data": {
      "image/svg+xml": [
       "<?xml version=\"1.0\" encoding=\"utf-8\" standalone=\"no\"?>\n",
       "<!DOCTYPE svg PUBLIC \"-//W3C//DTD SVG 1.1//EN\"\n",
       "  \"http://www.w3.org/Graphics/SVG/1.1/DTD/svg11.dtd\">\n",
       "<svg height=\"184.15625pt\" version=\"1.1\" viewBox=\"0 0 246.603125 184.15625\" width=\"246.603125pt\" xmlns=\"http://www.w3.org/2000/svg\" xmlns:xlink=\"http://www.w3.org/1999/xlink\">\n",
       " <metadata>\n",
       "  <rdf:RDF xmlns:cc=\"http://creativecommons.org/ns#\" xmlns:dc=\"http://purl.org/dc/elements/1.1/\" xmlns:rdf=\"http://www.w3.org/1999/02/22-rdf-syntax-ns#\">\n",
       "   <cc:Work>\n",
       "    <dc:type rdf:resource=\"http://purl.org/dc/dcmitype/StillImage\"/>\n",
       "    <dc:date>2021-07-03T14:48:23.308475</dc:date>\n",
       "    <dc:format>image/svg+xml</dc:format>\n",
       "    <dc:creator>\n",
       "     <cc:Agent>\n",
       "      <dc:title>Matplotlib v3.4.2, https://matplotlib.org/</dc:title>\n",
       "     </cc:Agent>\n",
       "    </dc:creator>\n",
       "   </cc:Work>\n",
       "  </rdf:RDF>\n",
       " </metadata>\n",
       " <defs>\n",
       "  <style type=\"text/css\">*{stroke-linecap:butt;stroke-linejoin:round;}</style>\n",
       " </defs>\n",
       " <g id=\"figure_1\">\n",
       "  <g id=\"patch_1\">\n",
       "   <path d=\"M 0 184.15625 \n",
       "L 246.603125 184.15625 \n",
       "L 246.603125 -0 \n",
       "L 0 -0 \n",
       "z\n",
       "\" style=\"fill:none;\"/>\n",
       "  </g>\n",
       "  <g id=\"axes_1\">\n",
       "   <g id=\"patch_2\">\n",
       "    <path d=\"M 40.603125 146.6 \n",
       "L 235.903125 146.6 \n",
       "L 235.903125 10.7 \n",
       "L 40.603125 10.7 \n",
       "z\n",
       "\" style=\"fill:#ffffff;\"/>\n",
       "   </g>\n",
       "   <g id=\"matplotlib.axis_1\">\n",
       "    <g id=\"xtick_1\">\n",
       "     <g id=\"line2d_1\">\n",
       "      <path clip-path=\"url(#p3173d22a41)\" d=\"M 49.480398 146.6 \n",
       "L 49.480398 10.7 \n",
       "\" style=\"fill:none;stroke:#b0b0b0;stroke-linecap:square;stroke-width:0.8;\"/>\n",
       "     </g>\n",
       "     <g id=\"line2d_2\">\n",
       "      <defs>\n",
       "       <path d=\"M 0 0 \n",
       "L 0 3.5 \n",
       "\" id=\"mc596a5156d\" style=\"stroke:#000000;stroke-width:0.8;\"/>\n",
       "      </defs>\n",
       "      <g>\n",
       "       <use style=\"stroke:#000000;stroke-width:0.8;\" x=\"49.480398\" xlink:href=\"#mc596a5156d\" y=\"146.6\"/>\n",
       "      </g>\n",
       "     </g>\n",
       "     <g id=\"line2d_3\">\n",
       "      <defs>\n",
       "       <path d=\"M 0 0 \n",
       "L 0 -3.5 \n",
       "\" id=\"m5b3875a9b6\" style=\"stroke:#000000;stroke-width:0.8;\"/>\n",
       "      </defs>\n",
       "      <g>\n",
       "       <use style=\"stroke:#000000;stroke-width:0.8;\" x=\"49.480398\" xlink:href=\"#m5b3875a9b6\" y=\"10.7\"/>\n",
       "      </g>\n",
       "     </g>\n",
       "     <g id=\"text_1\">\n",
       "      <!-- 0 -->\n",
       "      <g transform=\"translate(46.299148 161.198437)scale(0.1 -0.1)\">\n",
       "       <defs>\n",
       "        <path d=\"M 2034 4250 \n",
       "Q 1547 4250 1301 3770 \n",
       "Q 1056 3291 1056 2328 \n",
       "Q 1056 1369 1301 889 \n",
       "Q 1547 409 2034 409 \n",
       "Q 2525 409 2770 889 \n",
       "Q 3016 1369 3016 2328 \n",
       "Q 3016 3291 2770 3770 \n",
       "Q 2525 4250 2034 4250 \n",
       "z\n",
       "M 2034 4750 \n",
       "Q 2819 4750 3233 4129 \n",
       "Q 3647 3509 3647 2328 \n",
       "Q 3647 1150 3233 529 \n",
       "Q 2819 -91 2034 -91 \n",
       "Q 1250 -91 836 529 \n",
       "Q 422 1150 422 2328 \n",
       "Q 422 3509 836 4129 \n",
       "Q 1250 4750 2034 4750 \n",
       "z\n",
       "\" id=\"DejaVuSans-30\" transform=\"scale(0.015625)\"/>\n",
       "       </defs>\n",
       "       <use xlink:href=\"#DejaVuSans-30\"/>\n",
       "      </g>\n",
       "     </g>\n",
       "    </g>\n",
       "    <g id=\"xtick_2\">\n",
       "     <g id=\"line2d_4\">\n",
       "      <path clip-path=\"url(#p3173d22a41)\" d=\"M 110.702968 146.6 \n",
       "L 110.702968 10.7 \n",
       "\" style=\"fill:none;stroke:#b0b0b0;stroke-linecap:square;stroke-width:0.8;\"/>\n",
       "     </g>\n",
       "     <g id=\"line2d_5\">\n",
       "      <g>\n",
       "       <use style=\"stroke:#000000;stroke-width:0.8;\" x=\"110.702968\" xlink:href=\"#mc596a5156d\" y=\"146.6\"/>\n",
       "      </g>\n",
       "     </g>\n",
       "     <g id=\"line2d_6\">\n",
       "      <g>\n",
       "       <use style=\"stroke:#000000;stroke-width:0.8;\" x=\"110.702968\" xlink:href=\"#m5b3875a9b6\" y=\"10.7\"/>\n",
       "      </g>\n",
       "     </g>\n",
       "     <g id=\"text_2\">\n",
       "      <!-- 1 -->\n",
       "      <g transform=\"translate(107.521718 161.198437)scale(0.1 -0.1)\">\n",
       "       <defs>\n",
       "        <path d=\"M 794 531 \n",
       "L 1825 531 \n",
       "L 1825 4091 \n",
       "L 703 3866 \n",
       "L 703 4441 \n",
       "L 1819 4666 \n",
       "L 2450 4666 \n",
       "L 2450 531 \n",
       "L 3481 531 \n",
       "L 3481 0 \n",
       "L 794 0 \n",
       "L 794 531 \n",
       "z\n",
       "\" id=\"DejaVuSans-31\" transform=\"scale(0.015625)\"/>\n",
       "       </defs>\n",
       "       <use xlink:href=\"#DejaVuSans-31\"/>\n",
       "      </g>\n",
       "     </g>\n",
       "    </g>\n",
       "    <g id=\"xtick_3\">\n",
       "     <g id=\"line2d_7\">\n",
       "      <path clip-path=\"url(#p3173d22a41)\" d=\"M 171.925539 146.6 \n",
       "L 171.925539 10.7 \n",
       "\" style=\"fill:none;stroke:#b0b0b0;stroke-linecap:square;stroke-width:0.8;\"/>\n",
       "     </g>\n",
       "     <g id=\"line2d_8\">\n",
       "      <g>\n",
       "       <use style=\"stroke:#000000;stroke-width:0.8;\" x=\"171.925539\" xlink:href=\"#mc596a5156d\" y=\"146.6\"/>\n",
       "      </g>\n",
       "     </g>\n",
       "     <g id=\"line2d_9\">\n",
       "      <g>\n",
       "       <use style=\"stroke:#000000;stroke-width:0.8;\" x=\"171.925539\" xlink:href=\"#m5b3875a9b6\" y=\"10.7\"/>\n",
       "      </g>\n",
       "     </g>\n",
       "     <g id=\"text_3\">\n",
       "      <!-- 2 -->\n",
       "      <g transform=\"translate(168.744289 161.198437)scale(0.1 -0.1)\">\n",
       "       <defs>\n",
       "        <path d=\"M 1228 531 \n",
       "L 3431 531 \n",
       "L 3431 0 \n",
       "L 469 0 \n",
       "L 469 531 \n",
       "Q 828 903 1448 1529 \n",
       "Q 2069 2156 2228 2338 \n",
       "Q 2531 2678 2651 2914 \n",
       "Q 2772 3150 2772 3378 \n",
       "Q 2772 3750 2511 3984 \n",
       "Q 2250 4219 1831 4219 \n",
       "Q 1534 4219 1204 4116 \n",
       "Q 875 4013 500 3803 \n",
       "L 500 4441 \n",
       "Q 881 4594 1212 4672 \n",
       "Q 1544 4750 1819 4750 \n",
       "Q 2544 4750 2975 4387 \n",
       "Q 3406 4025 3406 3419 \n",
       "Q 3406 3131 3298 2873 \n",
       "Q 3191 2616 2906 2266 \n",
       "Q 2828 2175 2409 1742 \n",
       "Q 1991 1309 1228 531 \n",
       "z\n",
       "\" id=\"DejaVuSans-32\" transform=\"scale(0.015625)\"/>\n",
       "       </defs>\n",
       "       <use xlink:href=\"#DejaVuSans-32\"/>\n",
       "      </g>\n",
       "     </g>\n",
       "    </g>\n",
       "    <g id=\"xtick_4\">\n",
       "     <g id=\"line2d_10\">\n",
       "      <path clip-path=\"url(#p3173d22a41)\" d=\"M 233.148109 146.6 \n",
       "L 233.148109 10.7 \n",
       "\" style=\"fill:none;stroke:#b0b0b0;stroke-linecap:square;stroke-width:0.8;\"/>\n",
       "     </g>\n",
       "     <g id=\"line2d_11\">\n",
       "      <g>\n",
       "       <use style=\"stroke:#000000;stroke-width:0.8;\" x=\"233.148109\" xlink:href=\"#mc596a5156d\" y=\"146.6\"/>\n",
       "      </g>\n",
       "     </g>\n",
       "     <g id=\"line2d_12\">\n",
       "      <g>\n",
       "       <use style=\"stroke:#000000;stroke-width:0.8;\" x=\"233.148109\" xlink:href=\"#m5b3875a9b6\" y=\"10.7\"/>\n",
       "      </g>\n",
       "     </g>\n",
       "     <g id=\"text_4\">\n",
       "      <!-- 3 -->\n",
       "      <g transform=\"translate(229.966859 161.198437)scale(0.1 -0.1)\">\n",
       "       <defs>\n",
       "        <path d=\"M 2597 2516 \n",
       "Q 3050 2419 3304 2112 \n",
       "Q 3559 1806 3559 1356 \n",
       "Q 3559 666 3084 287 \n",
       "Q 2609 -91 1734 -91 \n",
       "Q 1441 -91 1130 -33 \n",
       "Q 819 25 488 141 \n",
       "L 488 750 \n",
       "Q 750 597 1062 519 \n",
       "Q 1375 441 1716 441 \n",
       "Q 2309 441 2620 675 \n",
       "Q 2931 909 2931 1356 \n",
       "Q 2931 1769 2642 2001 \n",
       "Q 2353 2234 1838 2234 \n",
       "L 1294 2234 \n",
       "L 1294 2753 \n",
       "L 1863 2753 \n",
       "Q 2328 2753 2575 2939 \n",
       "Q 2822 3125 2822 3475 \n",
       "Q 2822 3834 2567 4026 \n",
       "Q 2313 4219 1838 4219 \n",
       "Q 1578 4219 1281 4162 \n",
       "Q 984 4106 628 3988 \n",
       "L 628 4550 \n",
       "Q 988 4650 1302 4700 \n",
       "Q 1616 4750 1894 4750 \n",
       "Q 2613 4750 3031 4423 \n",
       "Q 3450 4097 3450 3541 \n",
       "Q 3450 3153 3228 2886 \n",
       "Q 3006 2619 2597 2516 \n",
       "z\n",
       "\" id=\"DejaVuSans-33\" transform=\"scale(0.015625)\"/>\n",
       "       </defs>\n",
       "       <use xlink:href=\"#DejaVuSans-33\"/>\n",
       "      </g>\n",
       "     </g>\n",
       "    </g>\n",
       "    <g id=\"text_5\">\n",
       "     <!-- x -->\n",
       "     <g transform=\"translate(135.29375 174.876562)scale(0.1 -0.1)\">\n",
       "      <defs>\n",
       "       <path d=\"M 3513 3500 \n",
       "L 2247 1797 \n",
       "L 3578 0 \n",
       "L 2900 0 \n",
       "L 1881 1375 \n",
       "L 863 0 \n",
       "L 184 0 \n",
       "L 1544 1831 \n",
       "L 300 3500 \n",
       "L 978 3500 \n",
       "L 1906 2253 \n",
       "L 2834 3500 \n",
       "L 3513 3500 \n",
       "z\n",
       "\" id=\"DejaVuSans-78\" transform=\"scale(0.015625)\"/>\n",
       "      </defs>\n",
       "      <use xlink:href=\"#DejaVuSans-78\"/>\n",
       "     </g>\n",
       "    </g>\n",
       "   </g>\n",
       "   <g id=\"matplotlib.axis_2\">\n",
       "    <g id=\"ytick_1\">\n",
       "     <g id=\"line2d_13\">\n",
       "      <path clip-path=\"url(#p3173d22a41)\" d=\"M 40.603125 118.135514 \n",
       "L 235.903125 118.135514 \n",
       "\" style=\"fill:none;stroke:#b0b0b0;stroke-linecap:square;stroke-width:0.8;\"/>\n",
       "     </g>\n",
       "     <g id=\"line2d_14\">\n",
       "      <defs>\n",
       "       <path d=\"M 0 0 \n",
       "L -3.5 0 \n",
       "\" id=\"m06a7a414f6\" style=\"stroke:#000000;stroke-width:0.8;\"/>\n",
       "      </defs>\n",
       "      <g>\n",
       "       <use style=\"stroke:#000000;stroke-width:0.8;\" x=\"40.603125\" xlink:href=\"#m06a7a414f6\" y=\"118.135514\"/>\n",
       "      </g>\n",
       "     </g>\n",
       "     <g id=\"line2d_15\">\n",
       "      <defs>\n",
       "       <path d=\"M 0 0 \n",
       "L 3.5 0 \n",
       "\" id=\"m93da5ae2a0\" style=\"stroke:#000000;stroke-width:0.8;\"/>\n",
       "      </defs>\n",
       "      <g>\n",
       "       <use style=\"stroke:#000000;stroke-width:0.8;\" x=\"235.903125\" xlink:href=\"#m93da5ae2a0\" y=\"118.135514\"/>\n",
       "      </g>\n",
       "     </g>\n",
       "     <g id=\"text_6\">\n",
       "      <!-- 0 -->\n",
       "      <g transform=\"translate(27.240625 121.934732)scale(0.1 -0.1)\">\n",
       "       <use xlink:href=\"#DejaVuSans-30\"/>\n",
       "      </g>\n",
       "     </g>\n",
       "    </g>\n",
       "    <g id=\"ytick_2\">\n",
       "     <g id=\"line2d_16\">\n",
       "      <path clip-path=\"url(#p3173d22a41)\" d=\"M 40.603125 80.990157 \n",
       "L 235.903125 80.990157 \n",
       "\" style=\"fill:none;stroke:#b0b0b0;stroke-linecap:square;stroke-width:0.8;\"/>\n",
       "     </g>\n",
       "     <g id=\"line2d_17\">\n",
       "      <g>\n",
       "       <use style=\"stroke:#000000;stroke-width:0.8;\" x=\"40.603125\" xlink:href=\"#m06a7a414f6\" y=\"80.990157\"/>\n",
       "      </g>\n",
       "     </g>\n",
       "     <g id=\"line2d_18\">\n",
       "      <g>\n",
       "       <use style=\"stroke:#000000;stroke-width:0.8;\" x=\"235.903125\" xlink:href=\"#m93da5ae2a0\" y=\"80.990157\"/>\n",
       "      </g>\n",
       "     </g>\n",
       "     <g id=\"text_7\">\n",
       "      <!-- 5 -->\n",
       "      <g transform=\"translate(27.240625 84.789376)scale(0.1 -0.1)\">\n",
       "       <defs>\n",
       "        <path d=\"M 691 4666 \n",
       "L 3169 4666 \n",
       "L 3169 4134 \n",
       "L 1269 4134 \n",
       "L 1269 2991 \n",
       "Q 1406 3038 1543 3061 \n",
       "Q 1681 3084 1819 3084 \n",
       "Q 2600 3084 3056 2656 \n",
       "Q 3513 2228 3513 1497 \n",
       "Q 3513 744 3044 326 \n",
       "Q 2575 -91 1722 -91 \n",
       "Q 1428 -91 1123 -41 \n",
       "Q 819 9 494 109 \n",
       "L 494 744 \n",
       "Q 775 591 1075 516 \n",
       "Q 1375 441 1709 441 \n",
       "Q 2250 441 2565 725 \n",
       "Q 2881 1009 2881 1497 \n",
       "Q 2881 1984 2565 2268 \n",
       "Q 2250 2553 1709 2553 \n",
       "Q 1456 2553 1204 2497 \n",
       "Q 953 2441 691 2322 \n",
       "L 691 4666 \n",
       "z\n",
       "\" id=\"DejaVuSans-35\" transform=\"scale(0.015625)\"/>\n",
       "       </defs>\n",
       "       <use xlink:href=\"#DejaVuSans-35\"/>\n",
       "      </g>\n",
       "     </g>\n",
       "    </g>\n",
       "    <g id=\"ytick_3\">\n",
       "     <g id=\"line2d_19\">\n",
       "      <path clip-path=\"url(#p3173d22a41)\" d=\"M 40.603125 43.844801 \n",
       "L 235.903125 43.844801 \n",
       "\" style=\"fill:none;stroke:#b0b0b0;stroke-linecap:square;stroke-width:0.8;\"/>\n",
       "     </g>\n",
       "     <g id=\"line2d_20\">\n",
       "      <g>\n",
       "       <use style=\"stroke:#000000;stroke-width:0.8;\" x=\"40.603125\" xlink:href=\"#m06a7a414f6\" y=\"43.844801\"/>\n",
       "      </g>\n",
       "     </g>\n",
       "     <g id=\"line2d_21\">\n",
       "      <g>\n",
       "       <use style=\"stroke:#000000;stroke-width:0.8;\" x=\"235.903125\" xlink:href=\"#m93da5ae2a0\" y=\"43.844801\"/>\n",
       "      </g>\n",
       "     </g>\n",
       "     <g id=\"text_8\">\n",
       "      <!-- 10 -->\n",
       "      <g transform=\"translate(20.878125 47.64402)scale(0.1 -0.1)\">\n",
       "       <use xlink:href=\"#DejaVuSans-31\"/>\n",
       "       <use x=\"63.623047\" xlink:href=\"#DejaVuSans-30\"/>\n",
       "      </g>\n",
       "     </g>\n",
       "    </g>\n",
       "    <g id=\"text_9\">\n",
       "     <!-- f(x) -->\n",
       "     <g transform=\"translate(14.798437 87.271094)rotate(-90)scale(0.1 -0.1)\">\n",
       "      <defs>\n",
       "       <path d=\"M 2375 4863 \n",
       "L 2375 4384 \n",
       "L 1825 4384 \n",
       "Q 1516 4384 1395 4259 \n",
       "Q 1275 4134 1275 3809 \n",
       "L 1275 3500 \n",
       "L 2222 3500 \n",
       "L 2222 3053 \n",
       "L 1275 3053 \n",
       "L 1275 0 \n",
       "L 697 0 \n",
       "L 697 3053 \n",
       "L 147 3053 \n",
       "L 147 3500 \n",
       "L 697 3500 \n",
       "L 697 3744 \n",
       "Q 697 4328 969 4595 \n",
       "Q 1241 4863 1831 4863 \n",
       "L 2375 4863 \n",
       "z\n",
       "\" id=\"DejaVuSans-66\" transform=\"scale(0.015625)\"/>\n",
       "       <path d=\"M 1984 4856 \n",
       "Q 1566 4138 1362 3434 \n",
       "Q 1159 2731 1159 2009 \n",
       "Q 1159 1288 1364 580 \n",
       "Q 1569 -128 1984 -844 \n",
       "L 1484 -844 \n",
       "Q 1016 -109 783 600 \n",
       "Q 550 1309 550 2009 \n",
       "Q 550 2706 781 3412 \n",
       "Q 1013 4119 1484 4856 \n",
       "L 1984 4856 \n",
       "z\n",
       "\" id=\"DejaVuSans-28\" transform=\"scale(0.015625)\"/>\n",
       "       <path d=\"M 513 4856 \n",
       "L 1013 4856 \n",
       "Q 1481 4119 1714 3412 \n",
       "Q 1947 2706 1947 2009 \n",
       "Q 1947 1309 1714 600 \n",
       "Q 1481 -109 1013 -844 \n",
       "L 513 -844 \n",
       "Q 928 -128 1133 580 \n",
       "Q 1338 1288 1338 2009 \n",
       "Q 1338 2731 1133 3434 \n",
       "Q 928 4138 513 4856 \n",
       "z\n",
       "\" id=\"DejaVuSans-29\" transform=\"scale(0.015625)\"/>\n",
       "      </defs>\n",
       "      <use xlink:href=\"#DejaVuSans-66\"/>\n",
       "      <use x=\"35.205078\" xlink:href=\"#DejaVuSans-28\"/>\n",
       "      <use x=\"74.21875\" xlink:href=\"#DejaVuSans-78\"/>\n",
       "      <use x=\"133.398438\" xlink:href=\"#DejaVuSans-29\"/>\n",
       "     </g>\n",
       "    </g>\n",
       "   </g>\n",
       "   <g id=\"line2d_22\">\n",
       "    <path clip-path=\"url(#p3173d22a41)\" d=\"M 49.480398 118.135514 \n",
       "L 55.602655 120.88427 \n",
       "L 61.724912 123.187282 \n",
       "L 67.847169 125.04455 \n",
       "L 73.969426 126.456073 \n",
       "L 80.091683 127.421853 \n",
       "L 86.21394 127.941888 \n",
       "L 92.336197 128.016178 \n",
       "L 98.458454 127.644725 \n",
       "L 104.580711 126.827527 \n",
       "L 110.702968 125.564585 \n",
       "L 116.825225 123.855898 \n",
       "L 122.947482 121.701468 \n",
       "L 129.069739 119.101293 \n",
       "L 135.191996 116.055374 \n",
       "L 141.314254 112.56371 \n",
       "L 147.436511 108.626302 \n",
       "L 153.558768 104.24315 \n",
       "L 159.681025 99.414254 \n",
       "L 165.803282 94.139614 \n",
       "L 171.925539 88.419229 \n",
       "L 178.047796 82.2531 \n",
       "L 184.170053 75.641226 \n",
       "L 190.29231 68.583608 \n",
       "L 196.414567 61.080247 \n",
       "L 202.536824 53.13114 \n",
       "L 208.659081 44.73629 \n",
       "L 214.781338 35.895695 \n",
       "L 220.903595 26.609356 \n",
       "L 227.025852 16.877273 \n",
       "\" style=\"fill:none;stroke:#1f77b4;stroke-linecap:square;stroke-width:1.5;\"/>\n",
       "   </g>\n",
       "   <g id=\"line2d_23\">\n",
       "    <path clip-path=\"url(#p3173d22a41)\" d=\"M 49.480398 140.422727 \n",
       "L 55.602655 138.936913 \n",
       "L 61.724912 137.451099 \n",
       "L 67.847169 135.965285 \n",
       "L 73.969426 134.47947 \n",
       "L 80.091683 132.993656 \n",
       "L 86.21394 131.507842 \n",
       "L 92.336197 130.022028 \n",
       "L 98.458454 128.536213 \n",
       "L 104.580711 127.050399 \n",
       "L 110.702968 125.564585 \n",
       "L 116.825225 124.078771 \n",
       "L 122.947482 122.592956 \n",
       "L 129.069739 121.107142 \n",
       "L 135.191996 119.621328 \n",
       "L 141.314254 118.135514 \n",
       "L 147.436511 116.649699 \n",
       "L 153.558768 115.163885 \n",
       "L 159.681025 113.678071 \n",
       "L 165.803282 112.192257 \n",
       "L 171.925539 110.706442 \n",
       "L 178.047796 109.220628 \n",
       "L 184.170053 107.734814 \n",
       "L 190.29231 106.249 \n",
       "L 196.414567 104.763185 \n",
       "L 202.536824 103.277371 \n",
       "L 208.659081 101.791557 \n",
       "L 214.781338 100.305743 \n",
       "L 220.903595 98.819928 \n",
       "L 227.025852 97.334114 \n",
       "\" style=\"fill:none;stroke:#bf00bf;stroke-dasharray:5.55,2.4;stroke-dashoffset:0;stroke-width:1.5;\"/>\n",
       "   </g>\n",
       "   <g id=\"patch_3\">\n",
       "    <path d=\"M 40.603125 146.6 \n",
       "L 40.603125 10.7 \n",
       "\" style=\"fill:none;stroke:#000000;stroke-linecap:square;stroke-linejoin:miter;stroke-width:0.8;\"/>\n",
       "   </g>\n",
       "   <g id=\"patch_4\">\n",
       "    <path d=\"M 235.903125 146.6 \n",
       "L 235.903125 10.7 \n",
       "\" style=\"fill:none;stroke:#000000;stroke-linecap:square;stroke-linejoin:miter;stroke-width:0.8;\"/>\n",
       "   </g>\n",
       "   <g id=\"patch_5\">\n",
       "    <path d=\"M 40.603125 146.6 \n",
       "L 235.903125 146.6 \n",
       "\" style=\"fill:none;stroke:#000000;stroke-linecap:square;stroke-linejoin:miter;stroke-width:0.8;\"/>\n",
       "   </g>\n",
       "   <g id=\"patch_6\">\n",
       "    <path d=\"M 40.603125 10.7 \n",
       "L 235.903125 10.7 \n",
       "\" style=\"fill:none;stroke:#000000;stroke-linecap:square;stroke-linejoin:miter;stroke-width:0.8;\"/>\n",
       "   </g>\n",
       "   <g id=\"legend_1\">\n",
       "    <g id=\"patch_7\">\n",
       "     <path d=\"M 47.603125 48.05625 \n",
       "L 172.153125 48.05625 \n",
       "Q 174.153125 48.05625 174.153125 46.05625 \n",
       "L 174.153125 17.7 \n",
       "Q 174.153125 15.7 172.153125 15.7 \n",
       "L 47.603125 15.7 \n",
       "Q 45.603125 15.7 45.603125 17.7 \n",
       "L 45.603125 46.05625 \n",
       "Q 45.603125 48.05625 47.603125 48.05625 \n",
       "z\n",
       "\" style=\"fill:#ffffff;opacity:0.8;stroke:#cccccc;stroke-linejoin:miter;\"/>\n",
       "    </g>\n",
       "    <g id=\"line2d_24\">\n",
       "     <path d=\"M 49.603125 23.798437 \n",
       "L 69.603125 23.798437 \n",
       "\" style=\"fill:none;stroke:#1f77b4;stroke-linecap:square;stroke-width:1.5;\"/>\n",
       "    </g>\n",
       "    <g id=\"line2d_25\"/>\n",
       "    <g id=\"text_10\">\n",
       "     <!-- f(x) -->\n",
       "     <g transform=\"translate(77.603125 27.298437)scale(0.1 -0.1)\">\n",
       "      <use xlink:href=\"#DejaVuSans-66\"/>\n",
       "      <use x=\"35.205078\" xlink:href=\"#DejaVuSans-28\"/>\n",
       "      <use x=\"74.21875\" xlink:href=\"#DejaVuSans-78\"/>\n",
       "      <use x=\"133.398438\" xlink:href=\"#DejaVuSans-29\"/>\n",
       "     </g>\n",
       "    </g>\n",
       "    <g id=\"line2d_26\">\n",
       "     <path d=\"M 49.603125 38.476562 \n",
       "L 69.603125 38.476562 \n",
       "\" style=\"fill:none;stroke:#bf00bf;stroke-dasharray:5.55,2.4;stroke-dashoffset:0;stroke-width:1.5;\"/>\n",
       "    </g>\n",
       "    <g id=\"line2d_27\"/>\n",
       "    <g id=\"text_11\">\n",
       "     <!-- Tangent line (x=1) -->\n",
       "     <g transform=\"translate(77.603125 41.976562)scale(0.1 -0.1)\">\n",
       "      <defs>\n",
       "       <path d=\"M -19 4666 \n",
       "L 3928 4666 \n",
       "L 3928 4134 \n",
       "L 2272 4134 \n",
       "L 2272 0 \n",
       "L 1638 0 \n",
       "L 1638 4134 \n",
       "L -19 4134 \n",
       "L -19 4666 \n",
       "z\n",
       "\" id=\"DejaVuSans-54\" transform=\"scale(0.015625)\"/>\n",
       "       <path d=\"M 2194 1759 \n",
       "Q 1497 1759 1228 1600 \n",
       "Q 959 1441 959 1056 \n",
       "Q 959 750 1161 570 \n",
       "Q 1363 391 1709 391 \n",
       "Q 2188 391 2477 730 \n",
       "Q 2766 1069 2766 1631 \n",
       "L 2766 1759 \n",
       "L 2194 1759 \n",
       "z\n",
       "M 3341 1997 \n",
       "L 3341 0 \n",
       "L 2766 0 \n",
       "L 2766 531 \n",
       "Q 2569 213 2275 61 \n",
       "Q 1981 -91 1556 -91 \n",
       "Q 1019 -91 701 211 \n",
       "Q 384 513 384 1019 \n",
       "Q 384 1609 779 1909 \n",
       "Q 1175 2209 1959 2209 \n",
       "L 2766 2209 \n",
       "L 2766 2266 \n",
       "Q 2766 2663 2505 2880 \n",
       "Q 2244 3097 1772 3097 \n",
       "Q 1472 3097 1187 3025 \n",
       "Q 903 2953 641 2809 \n",
       "L 641 3341 \n",
       "Q 956 3463 1253 3523 \n",
       "Q 1550 3584 1831 3584 \n",
       "Q 2591 3584 2966 3190 \n",
       "Q 3341 2797 3341 1997 \n",
       "z\n",
       "\" id=\"DejaVuSans-61\" transform=\"scale(0.015625)\"/>\n",
       "       <path d=\"M 3513 2113 \n",
       "L 3513 0 \n",
       "L 2938 0 \n",
       "L 2938 2094 \n",
       "Q 2938 2591 2744 2837 \n",
       "Q 2550 3084 2163 3084 \n",
       "Q 1697 3084 1428 2787 \n",
       "Q 1159 2491 1159 1978 \n",
       "L 1159 0 \n",
       "L 581 0 \n",
       "L 581 3500 \n",
       "L 1159 3500 \n",
       "L 1159 2956 \n",
       "Q 1366 3272 1645 3428 \n",
       "Q 1925 3584 2291 3584 \n",
       "Q 2894 3584 3203 3211 \n",
       "Q 3513 2838 3513 2113 \n",
       "z\n",
       "\" id=\"DejaVuSans-6e\" transform=\"scale(0.015625)\"/>\n",
       "       <path d=\"M 2906 1791 \n",
       "Q 2906 2416 2648 2759 \n",
       "Q 2391 3103 1925 3103 \n",
       "Q 1463 3103 1205 2759 \n",
       "Q 947 2416 947 1791 \n",
       "Q 947 1169 1205 825 \n",
       "Q 1463 481 1925 481 \n",
       "Q 2391 481 2648 825 \n",
       "Q 2906 1169 2906 1791 \n",
       "z\n",
       "M 3481 434 \n",
       "Q 3481 -459 3084 -895 \n",
       "Q 2688 -1331 1869 -1331 \n",
       "Q 1566 -1331 1297 -1286 \n",
       "Q 1028 -1241 775 -1147 \n",
       "L 775 -588 \n",
       "Q 1028 -725 1275 -790 \n",
       "Q 1522 -856 1778 -856 \n",
       "Q 2344 -856 2625 -561 \n",
       "Q 2906 -266 2906 331 \n",
       "L 2906 616 \n",
       "Q 2728 306 2450 153 \n",
       "Q 2172 0 1784 0 \n",
       "Q 1141 0 747 490 \n",
       "Q 353 981 353 1791 \n",
       "Q 353 2603 747 3093 \n",
       "Q 1141 3584 1784 3584 \n",
       "Q 2172 3584 2450 3431 \n",
       "Q 2728 3278 2906 2969 \n",
       "L 2906 3500 \n",
       "L 3481 3500 \n",
       "L 3481 434 \n",
       "z\n",
       "\" id=\"DejaVuSans-67\" transform=\"scale(0.015625)\"/>\n",
       "       <path d=\"M 3597 1894 \n",
       "L 3597 1613 \n",
       "L 953 1613 \n",
       "Q 991 1019 1311 708 \n",
       "Q 1631 397 2203 397 \n",
       "Q 2534 397 2845 478 \n",
       "Q 3156 559 3463 722 \n",
       "L 3463 178 \n",
       "Q 3153 47 2828 -22 \n",
       "Q 2503 -91 2169 -91 \n",
       "Q 1331 -91 842 396 \n",
       "Q 353 884 353 1716 \n",
       "Q 353 2575 817 3079 \n",
       "Q 1281 3584 2069 3584 \n",
       "Q 2775 3584 3186 3129 \n",
       "Q 3597 2675 3597 1894 \n",
       "z\n",
       "M 3022 2063 \n",
       "Q 3016 2534 2758 2815 \n",
       "Q 2500 3097 2075 3097 \n",
       "Q 1594 3097 1305 2825 \n",
       "Q 1016 2553 972 2059 \n",
       "L 3022 2063 \n",
       "z\n",
       "\" id=\"DejaVuSans-65\" transform=\"scale(0.015625)\"/>\n",
       "       <path d=\"M 1172 4494 \n",
       "L 1172 3500 \n",
       "L 2356 3500 \n",
       "L 2356 3053 \n",
       "L 1172 3053 \n",
       "L 1172 1153 \n",
       "Q 1172 725 1289 603 \n",
       "Q 1406 481 1766 481 \n",
       "L 2356 481 \n",
       "L 2356 0 \n",
       "L 1766 0 \n",
       "Q 1100 0 847 248 \n",
       "Q 594 497 594 1153 \n",
       "L 594 3053 \n",
       "L 172 3053 \n",
       "L 172 3500 \n",
       "L 594 3500 \n",
       "L 594 4494 \n",
       "L 1172 4494 \n",
       "z\n",
       "\" id=\"DejaVuSans-74\" transform=\"scale(0.015625)\"/>\n",
       "       <path id=\"DejaVuSans-20\" transform=\"scale(0.015625)\"/>\n",
       "       <path d=\"M 603 4863 \n",
       "L 1178 4863 \n",
       "L 1178 0 \n",
       "L 603 0 \n",
       "L 603 4863 \n",
       "z\n",
       "\" id=\"DejaVuSans-6c\" transform=\"scale(0.015625)\"/>\n",
       "       <path d=\"M 603 3500 \n",
       "L 1178 3500 \n",
       "L 1178 0 \n",
       "L 603 0 \n",
       "L 603 3500 \n",
       "z\n",
       "M 603 4863 \n",
       "L 1178 4863 \n",
       "L 1178 4134 \n",
       "L 603 4134 \n",
       "L 603 4863 \n",
       "z\n",
       "\" id=\"DejaVuSans-69\" transform=\"scale(0.015625)\"/>\n",
       "       <path d=\"M 678 2906 \n",
       "L 4684 2906 \n",
       "L 4684 2381 \n",
       "L 678 2381 \n",
       "L 678 2906 \n",
       "z\n",
       "M 678 1631 \n",
       "L 4684 1631 \n",
       "L 4684 1100 \n",
       "L 678 1100 \n",
       "L 678 1631 \n",
       "z\n",
       "\" id=\"DejaVuSans-3d\" transform=\"scale(0.015625)\"/>\n",
       "      </defs>\n",
       "      <use xlink:href=\"#DejaVuSans-54\"/>\n",
       "      <use x=\"44.583984\" xlink:href=\"#DejaVuSans-61\"/>\n",
       "      <use x=\"105.863281\" xlink:href=\"#DejaVuSans-6e\"/>\n",
       "      <use x=\"169.242188\" xlink:href=\"#DejaVuSans-67\"/>\n",
       "      <use x=\"232.71875\" xlink:href=\"#DejaVuSans-65\"/>\n",
       "      <use x=\"294.242188\" xlink:href=\"#DejaVuSans-6e\"/>\n",
       "      <use x=\"357.621094\" xlink:href=\"#DejaVuSans-74\"/>\n",
       "      <use x=\"396.830078\" xlink:href=\"#DejaVuSans-20\"/>\n",
       "      <use x=\"428.617188\" xlink:href=\"#DejaVuSans-6c\"/>\n",
       "      <use x=\"456.400391\" xlink:href=\"#DejaVuSans-69\"/>\n",
       "      <use x=\"484.183594\" xlink:href=\"#DejaVuSans-6e\"/>\n",
       "      <use x=\"547.5625\" xlink:href=\"#DejaVuSans-65\"/>\n",
       "      <use x=\"609.085938\" xlink:href=\"#DejaVuSans-20\"/>\n",
       "      <use x=\"640.873047\" xlink:href=\"#DejaVuSans-28\"/>\n",
       "      <use x=\"679.886719\" xlink:href=\"#DejaVuSans-78\"/>\n",
       "      <use x=\"739.066406\" xlink:href=\"#DejaVuSans-3d\"/>\n",
       "      <use x=\"822.855469\" xlink:href=\"#DejaVuSans-31\"/>\n",
       "      <use x=\"886.478516\" xlink:href=\"#DejaVuSans-29\"/>\n",
       "     </g>\n",
       "    </g>\n",
       "   </g>\n",
       "  </g>\n",
       " </g>\n",
       " <defs>\n",
       "  <clipPath id=\"p3173d22a41\">\n",
       "   <rect height=\"135.9\" width=\"195.3\" x=\"40.603125\" y=\"10.7\"/>\n",
       "  </clipPath>\n",
       " </defs>\n",
       "</svg>\n"
      ],
      "text/plain": [
       "<Figure size 252x180 with 1 Axes>"
      ]
     },
     "metadata": {
      "needs_background": "light"
     },
     "output_type": "display_data"
    }
   ],
   "source": [
    "x = np.arange(0, 3, 0.1)\n",
    "plot(x, [f(x), 2 * x - 3], 'x', 'f(x)', legend=['f(x)', 'Tangent line (x=1)'])\n"
   ]
  },
  {
   "cell_type": "markdown",
   "id": "be100450",
   "metadata": {},
   "source": [
    "### Plotting tangent for x^3 - 1/x"
   ]
  },
  {
   "cell_type": "code",
   "execution_count": 299,
   "id": "64b217ef",
   "metadata": {},
   "outputs": [],
   "source": [
    "def f(x):\n",
    "    return (x ** 3) -  (1 / x)"
   ]
  },
  {
   "cell_type": "markdown",
   "id": "e2a94c87",
   "metadata": {},
   "source": [
    "#### derivate of x^3 - 1/x => 3x^2 + (1 / x^2)"
   ]
  },
  {
   "cell_type": "code",
   "execution_count": 300,
   "id": "f9e16a51",
   "metadata": {},
   "outputs": [],
   "source": [
    "def f_der(x):\n",
    "    return (3 * (x ** 2)) + (1 / (x ** 2))"
   ]
  },
  {
   "cell_type": "code",
   "execution_count": 309,
   "id": "cf32b83d",
   "metadata": {},
   "outputs": [
    {
     "name": "stderr",
     "output_type": "stream",
     "text": [
      "<ipython-input-299-4b601cfb9b2f>:2: RuntimeWarning: divide by zero encountered in true_divide\n",
      "  return (x ** 3) -  (1 / x)\n",
      "<ipython-input-280-4007c1e1b97d>:3: DeprecationWarning: `set_matplotlib_formats` is deprecated since IPython 7.23, directly use `matplotlib_inline.backend_inline.set_matplotlib_formats()`\n",
      "  display.set_matplotlib_formats('svg')\n"
     ]
    },
    {
     "data": {
      "image/svg+xml": [
       "<?xml version=\"1.0\" encoding=\"utf-8\" standalone=\"no\"?>\n",
       "<!DOCTYPE svg PUBLIC \"-//W3C//DTD SVG 1.1//EN\"\n",
       "  \"http://www.w3.org/Graphics/SVG/1.1/DTD/svg11.dtd\">\n",
       "<svg height=\"184.15625pt\" version=\"1.1\" viewBox=\"0 0 252.965625 184.15625\" width=\"252.965625pt\" xmlns=\"http://www.w3.org/2000/svg\" xmlns:xlink=\"http://www.w3.org/1999/xlink\">\n",
       " <metadata>\n",
       "  <rdf:RDF xmlns:cc=\"http://creativecommons.org/ns#\" xmlns:dc=\"http://purl.org/dc/elements/1.1/\" xmlns:rdf=\"http://www.w3.org/1999/02/22-rdf-syntax-ns#\">\n",
       "   <cc:Work>\n",
       "    <dc:type rdf:resource=\"http://purl.org/dc/dcmitype/StillImage\"/>\n",
       "    <dc:date>2021-07-03T15:24:02.026810</dc:date>\n",
       "    <dc:format>image/svg+xml</dc:format>\n",
       "    <dc:creator>\n",
       "     <cc:Agent>\n",
       "      <dc:title>Matplotlib v3.4.2, https://matplotlib.org/</dc:title>\n",
       "     </cc:Agent>\n",
       "    </dc:creator>\n",
       "   </cc:Work>\n",
       "  </rdf:RDF>\n",
       " </metadata>\n",
       " <defs>\n",
       "  <style type=\"text/css\">*{stroke-linecap:butt;stroke-linejoin:round;}</style>\n",
       " </defs>\n",
       " <g id=\"figure_1\">\n",
       "  <g id=\"patch_1\">\n",
       "   <path d=\"M 0 184.15625 \n",
       "L 252.965625 184.15625 \n",
       "L 252.965625 -0 \n",
       "L 0 -0 \n",
       "z\n",
       "\" style=\"fill:none;\"/>\n",
       "  </g>\n",
       "  <g id=\"axes_1\">\n",
       "   <g id=\"patch_2\">\n",
       "    <path d=\"M 46.965625 146.6 \n",
       "L 242.265625 146.6 \n",
       "L 242.265625 10.7 \n",
       "L 46.965625 10.7 \n",
       "z\n",
       "\" style=\"fill:#ffffff;\"/>\n",
       "   </g>\n",
       "   <g id=\"matplotlib.axis_1\">\n",
       "    <g id=\"xtick_1\">\n",
       "     <g id=\"line2d_1\">\n",
       "      <path clip-path=\"url(#p4660895b79)\" d=\"M 52.144034 146.6 \n",
       "L 52.144034 10.7 \n",
       "\" style=\"fill:none;stroke:#b0b0b0;stroke-linecap:square;stroke-width:0.8;\"/>\n",
       "     </g>\n",
       "     <g id=\"line2d_2\">\n",
       "      <defs>\n",
       "       <path d=\"M 0 0 \n",
       "L 0 3.5 \n",
       "\" id=\"m03f16d8dcc\" style=\"stroke:#000000;stroke-width:0.8;\"/>\n",
       "      </defs>\n",
       "      <g>\n",
       "       <use style=\"stroke:#000000;stroke-width:0.8;\" x=\"52.144034\" xlink:href=\"#m03f16d8dcc\" y=\"146.6\"/>\n",
       "      </g>\n",
       "     </g>\n",
       "     <g id=\"line2d_3\">\n",
       "      <defs>\n",
       "       <path d=\"M 0 0 \n",
       "L 0 -3.5 \n",
       "\" id=\"mb223eacccc\" style=\"stroke:#000000;stroke-width:0.8;\"/>\n",
       "      </defs>\n",
       "      <g>\n",
       "       <use style=\"stroke:#000000;stroke-width:0.8;\" x=\"52.144034\" xlink:href=\"#mb223eacccc\" y=\"10.7\"/>\n",
       "      </g>\n",
       "     </g>\n",
       "     <g id=\"text_1\">\n",
       "      <!-- 0 -->\n",
       "      <g transform=\"translate(48.962784 161.198437)scale(0.1 -0.1)\">\n",
       "       <defs>\n",
       "        <path d=\"M 2034 4250 \n",
       "Q 1547 4250 1301 3770 \n",
       "Q 1056 3291 1056 2328 \n",
       "Q 1056 1369 1301 889 \n",
       "Q 1547 409 2034 409 \n",
       "Q 2525 409 2770 889 \n",
       "Q 3016 1369 3016 2328 \n",
       "Q 3016 3291 2770 3770 \n",
       "Q 2525 4250 2034 4250 \n",
       "z\n",
       "M 2034 4750 \n",
       "Q 2819 4750 3233 4129 \n",
       "Q 3647 3509 3647 2328 \n",
       "Q 3647 1150 3233 529 \n",
       "Q 2819 -91 2034 -91 \n",
       "Q 1250 -91 836 529 \n",
       "Q 422 1150 422 2328 \n",
       "Q 422 3509 836 4129 \n",
       "Q 1250 4750 2034 4750 \n",
       "z\n",
       "\" id=\"DejaVuSans-30\" transform=\"scale(0.015625)\"/>\n",
       "       </defs>\n",
       "       <use xlink:href=\"#DejaVuSans-30\"/>\n",
       "      </g>\n",
       "     </g>\n",
       "    </g>\n",
       "    <g id=\"xtick_2\">\n",
       "     <g id=\"line2d_4\">\n",
       "      <path clip-path=\"url(#p4660895b79)\" d=\"M 113.791761 146.6 \n",
       "L 113.791761 10.7 \n",
       "\" style=\"fill:none;stroke:#b0b0b0;stroke-linecap:square;stroke-width:0.8;\"/>\n",
       "     </g>\n",
       "     <g id=\"line2d_5\">\n",
       "      <g>\n",
       "       <use style=\"stroke:#000000;stroke-width:0.8;\" x=\"113.791761\" xlink:href=\"#m03f16d8dcc\" y=\"146.6\"/>\n",
       "      </g>\n",
       "     </g>\n",
       "     <g id=\"line2d_6\">\n",
       "      <g>\n",
       "       <use style=\"stroke:#000000;stroke-width:0.8;\" x=\"113.791761\" xlink:href=\"#mb223eacccc\" y=\"10.7\"/>\n",
       "      </g>\n",
       "     </g>\n",
       "     <g id=\"text_2\">\n",
       "      <!-- 1 -->\n",
       "      <g transform=\"translate(110.610511 161.198437)scale(0.1 -0.1)\">\n",
       "       <defs>\n",
       "        <path d=\"M 794 531 \n",
       "L 1825 531 \n",
       "L 1825 4091 \n",
       "L 703 3866 \n",
       "L 703 4441 \n",
       "L 1819 4666 \n",
       "L 2450 4666 \n",
       "L 2450 531 \n",
       "L 3481 531 \n",
       "L 3481 0 \n",
       "L 794 0 \n",
       "L 794 531 \n",
       "z\n",
       "\" id=\"DejaVuSans-31\" transform=\"scale(0.015625)\"/>\n",
       "       </defs>\n",
       "       <use xlink:href=\"#DejaVuSans-31\"/>\n",
       "      </g>\n",
       "     </g>\n",
       "    </g>\n",
       "    <g id=\"xtick_3\">\n",
       "     <g id=\"line2d_7\">\n",
       "      <path clip-path=\"url(#p4660895b79)\" d=\"M 175.439489 146.6 \n",
       "L 175.439489 10.7 \n",
       "\" style=\"fill:none;stroke:#b0b0b0;stroke-linecap:square;stroke-width:0.8;\"/>\n",
       "     </g>\n",
       "     <g id=\"line2d_8\">\n",
       "      <g>\n",
       "       <use style=\"stroke:#000000;stroke-width:0.8;\" x=\"175.439489\" xlink:href=\"#m03f16d8dcc\" y=\"146.6\"/>\n",
       "      </g>\n",
       "     </g>\n",
       "     <g id=\"line2d_9\">\n",
       "      <g>\n",
       "       <use style=\"stroke:#000000;stroke-width:0.8;\" x=\"175.439489\" xlink:href=\"#mb223eacccc\" y=\"10.7\"/>\n",
       "      </g>\n",
       "     </g>\n",
       "     <g id=\"text_3\">\n",
       "      <!-- 2 -->\n",
       "      <g transform=\"translate(172.258239 161.198437)scale(0.1 -0.1)\">\n",
       "       <defs>\n",
       "        <path d=\"M 1228 531 \n",
       "L 3431 531 \n",
       "L 3431 0 \n",
       "L 469 0 \n",
       "L 469 531 \n",
       "Q 828 903 1448 1529 \n",
       "Q 2069 2156 2228 2338 \n",
       "Q 2531 2678 2651 2914 \n",
       "Q 2772 3150 2772 3378 \n",
       "Q 2772 3750 2511 3984 \n",
       "Q 2250 4219 1831 4219 \n",
       "Q 1534 4219 1204 4116 \n",
       "Q 875 4013 500 3803 \n",
       "L 500 4441 \n",
       "Q 881 4594 1212 4672 \n",
       "Q 1544 4750 1819 4750 \n",
       "Q 2544 4750 2975 4387 \n",
       "Q 3406 4025 3406 3419 \n",
       "Q 3406 3131 3298 2873 \n",
       "Q 3191 2616 2906 2266 \n",
       "Q 2828 2175 2409 1742 \n",
       "Q 1991 1309 1228 531 \n",
       "z\n",
       "\" id=\"DejaVuSans-32\" transform=\"scale(0.015625)\"/>\n",
       "       </defs>\n",
       "       <use xlink:href=\"#DejaVuSans-32\"/>\n",
       "      </g>\n",
       "     </g>\n",
       "    </g>\n",
       "    <g id=\"xtick_4\">\n",
       "     <g id=\"line2d_10\">\n",
       "      <path clip-path=\"url(#p4660895b79)\" d=\"M 237.087216 146.6 \n",
       "L 237.087216 10.7 \n",
       "\" style=\"fill:none;stroke:#b0b0b0;stroke-linecap:square;stroke-width:0.8;\"/>\n",
       "     </g>\n",
       "     <g id=\"line2d_11\">\n",
       "      <g>\n",
       "       <use style=\"stroke:#000000;stroke-width:0.8;\" x=\"237.087216\" xlink:href=\"#m03f16d8dcc\" y=\"146.6\"/>\n",
       "      </g>\n",
       "     </g>\n",
       "     <g id=\"line2d_12\">\n",
       "      <g>\n",
       "       <use style=\"stroke:#000000;stroke-width:0.8;\" x=\"237.087216\" xlink:href=\"#mb223eacccc\" y=\"10.7\"/>\n",
       "      </g>\n",
       "     </g>\n",
       "     <g id=\"text_4\">\n",
       "      <!-- 3 -->\n",
       "      <g transform=\"translate(233.905966 161.198437)scale(0.1 -0.1)\">\n",
       "       <defs>\n",
       "        <path d=\"M 2597 2516 \n",
       "Q 3050 2419 3304 2112 \n",
       "Q 3559 1806 3559 1356 \n",
       "Q 3559 666 3084 287 \n",
       "Q 2609 -91 1734 -91 \n",
       "Q 1441 -91 1130 -33 \n",
       "Q 819 25 488 141 \n",
       "L 488 750 \n",
       "Q 750 597 1062 519 \n",
       "Q 1375 441 1716 441 \n",
       "Q 2309 441 2620 675 \n",
       "Q 2931 909 2931 1356 \n",
       "Q 2931 1769 2642 2001 \n",
       "Q 2353 2234 1838 2234 \n",
       "L 1294 2234 \n",
       "L 1294 2753 \n",
       "L 1863 2753 \n",
       "Q 2328 2753 2575 2939 \n",
       "Q 2822 3125 2822 3475 \n",
       "Q 2822 3834 2567 4026 \n",
       "Q 2313 4219 1838 4219 \n",
       "Q 1578 4219 1281 4162 \n",
       "Q 984 4106 628 3988 \n",
       "L 628 4550 \n",
       "Q 988 4650 1302 4700 \n",
       "Q 1616 4750 1894 4750 \n",
       "Q 2613 4750 3031 4423 \n",
       "Q 3450 4097 3450 3541 \n",
       "Q 3450 3153 3228 2886 \n",
       "Q 3006 2619 2597 2516 \n",
       "z\n",
       "\" id=\"DejaVuSans-33\" transform=\"scale(0.015625)\"/>\n",
       "       </defs>\n",
       "       <use xlink:href=\"#DejaVuSans-33\"/>\n",
       "      </g>\n",
       "     </g>\n",
       "    </g>\n",
       "    <g id=\"text_5\">\n",
       "     <!-- x -->\n",
       "     <g transform=\"translate(141.65625 174.876562)scale(0.1 -0.1)\">\n",
       "      <defs>\n",
       "       <path d=\"M 3513 3500 \n",
       "L 2247 1797 \n",
       "L 3578 0 \n",
       "L 2900 0 \n",
       "L 1881 1375 \n",
       "L 863 0 \n",
       "L 184 0 \n",
       "L 1544 1831 \n",
       "L 300 3500 \n",
       "L 978 3500 \n",
       "L 1906 2253 \n",
       "L 2834 3500 \n",
       "L 3513 3500 \n",
       "z\n",
       "\" id=\"DejaVuSans-78\" transform=\"scale(0.015625)\"/>\n",
       "      </defs>\n",
       "      <use xlink:href=\"#DejaVuSans-78\"/>\n",
       "     </g>\n",
       "    </g>\n",
       "   </g>\n",
       "   <g id=\"matplotlib.axis_2\">\n",
       "    <g id=\"ytick_1\">\n",
       "     <g id=\"line2d_13\">\n",
       "      <path clip-path=\"url(#p4660895b79)\" d=\"M 46.965625 133.42993 \n",
       "L 242.265625 133.42993 \n",
       "\" style=\"fill:none;stroke:#b0b0b0;stroke-linecap:square;stroke-width:0.8;\"/>\n",
       "     </g>\n",
       "     <g id=\"line2d_14\">\n",
       "      <defs>\n",
       "       <path d=\"M 0 0 \n",
       "L -3.5 0 \n",
       "\" id=\"ma640872917\" style=\"stroke:#000000;stroke-width:0.8;\"/>\n",
       "      </defs>\n",
       "      <g>\n",
       "       <use style=\"stroke:#000000;stroke-width:0.8;\" x=\"46.965625\" xlink:href=\"#ma640872917\" y=\"133.42993\"/>\n",
       "      </g>\n",
       "     </g>\n",
       "     <g id=\"line2d_15\">\n",
       "      <defs>\n",
       "       <path d=\"M 0 0 \n",
       "L 3.5 0 \n",
       "\" id=\"mb8475a5769\" style=\"stroke:#000000;stroke-width:0.8;\"/>\n",
       "      </defs>\n",
       "      <g>\n",
       "       <use style=\"stroke:#000000;stroke-width:0.8;\" x=\"242.265625\" xlink:href=\"#mb8475a5769\" y=\"133.42993\"/>\n",
       "      </g>\n",
       "     </g>\n",
       "     <g id=\"text_6\">\n",
       "      <!-- 0 -->\n",
       "      <g transform=\"translate(33.603125 137.229149)scale(0.1 -0.1)\">\n",
       "       <use xlink:href=\"#DejaVuSans-30\"/>\n",
       "      </g>\n",
       "     </g>\n",
       "    </g>\n",
       "    <g id=\"ytick_2\">\n",
       "     <g id=\"line2d_16\">\n",
       "      <path clip-path=\"url(#p4660895b79)\" d=\"M 46.965625 91.472605 \n",
       "L 242.265625 91.472605 \n",
       "\" style=\"fill:none;stroke:#b0b0b0;stroke-linecap:square;stroke-width:0.8;\"/>\n",
       "     </g>\n",
       "     <g id=\"line2d_17\">\n",
       "      <g>\n",
       "       <use style=\"stroke:#000000;stroke-width:0.8;\" x=\"46.965625\" xlink:href=\"#ma640872917\" y=\"91.472605\"/>\n",
       "      </g>\n",
       "     </g>\n",
       "     <g id=\"line2d_18\">\n",
       "      <g>\n",
       "       <use style=\"stroke:#000000;stroke-width:0.8;\" x=\"242.265625\" xlink:href=\"#mb8475a5769\" y=\"91.472605\"/>\n",
       "      </g>\n",
       "     </g>\n",
       "     <g id=\"text_7\">\n",
       "      <!-- 100 -->\n",
       "      <g transform=\"translate(20.878125 95.271824)scale(0.1 -0.1)\">\n",
       "       <use xlink:href=\"#DejaVuSans-31\"/>\n",
       "       <use x=\"63.623047\" xlink:href=\"#DejaVuSans-30\"/>\n",
       "       <use x=\"127.246094\" xlink:href=\"#DejaVuSans-30\"/>\n",
       "      </g>\n",
       "     </g>\n",
       "    </g>\n",
       "    <g id=\"ytick_3\">\n",
       "     <g id=\"line2d_19\">\n",
       "      <path clip-path=\"url(#p4660895b79)\" d=\"M 46.965625 49.515279 \n",
       "L 242.265625 49.515279 \n",
       "\" style=\"fill:none;stroke:#b0b0b0;stroke-linecap:square;stroke-width:0.8;\"/>\n",
       "     </g>\n",
       "     <g id=\"line2d_20\">\n",
       "      <g>\n",
       "       <use style=\"stroke:#000000;stroke-width:0.8;\" x=\"46.965625\" xlink:href=\"#ma640872917\" y=\"49.515279\"/>\n",
       "      </g>\n",
       "     </g>\n",
       "     <g id=\"line2d_21\">\n",
       "      <g>\n",
       "       <use style=\"stroke:#000000;stroke-width:0.8;\" x=\"242.265625\" xlink:href=\"#mb8475a5769\" y=\"49.515279\"/>\n",
       "      </g>\n",
       "     </g>\n",
       "     <g id=\"text_8\">\n",
       "      <!-- 200 -->\n",
       "      <g transform=\"translate(20.878125 53.314498)scale(0.1 -0.1)\">\n",
       "       <use xlink:href=\"#DejaVuSans-32\"/>\n",
       "       <use x=\"63.623047\" xlink:href=\"#DejaVuSans-30\"/>\n",
       "       <use x=\"127.246094\" xlink:href=\"#DejaVuSans-30\"/>\n",
       "      </g>\n",
       "     </g>\n",
       "    </g>\n",
       "    <g id=\"text_9\">\n",
       "     <!-- f(x) -->\n",
       "     <g transform=\"translate(14.798438 87.271094)rotate(-90)scale(0.1 -0.1)\">\n",
       "      <defs>\n",
       "       <path d=\"M 2375 4863 \n",
       "L 2375 4384 \n",
       "L 1825 4384 \n",
       "Q 1516 4384 1395 4259 \n",
       "Q 1275 4134 1275 3809 \n",
       "L 1275 3500 \n",
       "L 2222 3500 \n",
       "L 2222 3053 \n",
       "L 1275 3053 \n",
       "L 1275 0 \n",
       "L 697 0 \n",
       "L 697 3053 \n",
       "L 147 3053 \n",
       "L 147 3500 \n",
       "L 697 3500 \n",
       "L 697 3744 \n",
       "Q 697 4328 969 4595 \n",
       "Q 1241 4863 1831 4863 \n",
       "L 2375 4863 \n",
       "z\n",
       "\" id=\"DejaVuSans-66\" transform=\"scale(0.015625)\"/>\n",
       "       <path d=\"M 1984 4856 \n",
       "Q 1566 4138 1362 3434 \n",
       "Q 1159 2731 1159 2009 \n",
       "Q 1159 1288 1364 580 \n",
       "Q 1569 -128 1984 -844 \n",
       "L 1484 -844 \n",
       "Q 1016 -109 783 600 \n",
       "Q 550 1309 550 2009 \n",
       "Q 550 2706 781 3412 \n",
       "Q 1013 4119 1484 4856 \n",
       "L 1984 4856 \n",
       "z\n",
       "\" id=\"DejaVuSans-28\" transform=\"scale(0.015625)\"/>\n",
       "       <path d=\"M 513 4856 \n",
       "L 1013 4856 \n",
       "Q 1481 4119 1714 3412 \n",
       "Q 1947 2706 1947 2009 \n",
       "Q 1947 1309 1714 600 \n",
       "Q 1481 -109 1013 -844 \n",
       "L 513 -844 \n",
       "Q 928 -128 1133 580 \n",
       "Q 1338 1288 1338 2009 \n",
       "Q 1338 2731 1133 3434 \n",
       "Q 928 4138 513 4856 \n",
       "z\n",
       "\" id=\"DejaVuSans-29\" transform=\"scale(0.015625)\"/>\n",
       "      </defs>\n",
       "      <use xlink:href=\"#DejaVuSans-66\"/>\n",
       "      <use x=\"35.205078\" xlink:href=\"#DejaVuSans-28\"/>\n",
       "      <use x=\"74.21875\" xlink:href=\"#DejaVuSans-78\"/>\n",
       "      <use x=\"133.398438\" xlink:href=\"#DejaVuSans-29\"/>\n",
       "     </g>\n",
       "    </g>\n",
       "   </g>\n",
       "   <g id=\"line2d_22\">\n",
       "    <path clip-path=\"url(#p4660895b79)\" d=\"M 55.842898 140.422727 \n",
       "L 59.541761 136.925649 \n",
       "L 63.240625 135.758446 \n",
       "L 66.939489 135.172352 \n",
       "L 70.638352 134.817179 \n",
       "L 74.337216 134.575836 \n",
       "L 78.03608 134.397829 \n",
       "L 81.734943 134.25764 \n",
       "L 85.433807 134.14085 \n",
       "L 89.13267 134.038591 \n",
       "L 92.831534 133.945022 \n",
       "L 96.530398 133.856066 \n",
       "L 100.229261 133.768735 \n",
       "L 103.928125 133.68074 \n",
       "L 107.626989 133.590254 \n",
       "L 111.325852 133.495774 \n",
       "L 115.024716 133.396022 \n",
       "L 118.72358 133.289883 \n",
       "L 122.422443 133.176361 \n",
       "L 126.121307 133.054552 \n",
       "L 129.82017 132.923621 \n",
       "L 133.519034 132.782784 \n",
       "L 137.217898 132.6313 \n",
       "L 140.916761 132.468462 \n",
       "L 144.615625 132.293586 \n",
       "L 148.314489 132.106013 \n",
       "L 152.013352 131.905099 \n",
       "L 155.712216 131.690214 \n",
       "L 159.41108 131.460742 \n",
       "L 163.109943 131.216075 \n",
       "L 166.808807 130.955614 \n",
       "L 170.50767 130.678766 \n",
       "L 174.206534 130.384944 \n",
       "L 177.905398 130.073568 \n",
       "L 181.604261 129.744059 \n",
       "L 185.303125 129.395845 \n",
       "L 189.001989 129.028356 \n",
       "L 192.700852 128.641024 \n",
       "L 196.399716 128.233283 \n",
       "L 200.09858 127.804572 \n",
       "L 203.797443 127.354328 \n",
       "L 207.496307 126.881994 \n",
       "L 211.19517 126.387009 \n",
       "L 214.894034 125.868819 \n",
       "L 218.592898 125.326867 \n",
       "L 222.291761 124.7606 \n",
       "L 225.990625 124.169463 \n",
       "L 229.689489 123.552903 \n",
       "L 233.388352 122.91037 \n",
       "\" style=\"fill:none;stroke:#1f77b4;stroke-linecap:square;stroke-width:1.5;\"/>\n",
       "   </g>\n",
       "   <g id=\"line2d_23\">\n",
       "    <path clip-path=\"url(#p4660895b79)\" d=\"M 55.842898 16.877273 \n",
       "L 59.541761 104.274773 \n",
       "L 63.240625 120.439356 \n",
       "L 66.939489 126.07317 \n",
       "L 70.638352 128.654721 \n",
       "L 74.337216 130.029352 \n",
       "L 78.03608 130.829359 \n",
       "L 81.734943 131.318857 \n",
       "L 85.433807 131.624022 \n",
       "L 89.13267 131.81131 \n",
       "L 92.831534 131.918424 \n",
       "L 96.530398 131.968048 \n",
       "L 100.229261 131.974491 \n",
       "L 103.928125 131.947144 \n",
       "L 107.626989 131.892376 \n",
       "L 111.325852 131.814628 \n",
       "L 115.024716 131.717078 \n",
       "L 118.72358 131.602043 \n",
       "L 122.422443 131.47125 \n",
       "L 126.121307 131.326004 \n",
       "L 129.82017 131.167305 \n",
       "L 133.519034 130.995935 \n",
       "L 137.217898 130.812507 \n",
       "L 140.916761 130.617509 \n",
       "L 144.615625 130.411334 \n",
       "L 148.314489 130.194301 \n",
       "L 152.013352 129.966672 \n",
       "L 155.712216 129.728661 \n",
       "L 159.41108 129.480448 \n",
       "L 163.109943 129.22218 \n",
       "L 166.808807 128.953985 \n",
       "L 170.50767 128.675969 \n",
       "L 174.206534 128.388222 \n",
       "L 177.905398 128.090822 \n",
       "L 181.604261 127.783835 \n",
       "L 185.303125 127.467318 \n",
       "L 189.001989 127.141322 \n",
       "L 192.700852 126.80589 \n",
       "L 196.399716 126.461058 \n",
       "L 200.09858 126.106862 \n",
       "L 203.797443 125.743329 \n",
       "L 207.496307 125.370486 \n",
       "L 211.19517 124.988355 \n",
       "L 214.894034 124.596957 \n",
       "L 218.592898 124.196309 \n",
       "L 222.291761 123.786427 \n",
       "L 225.990625 123.367327 \n",
       "L 229.689489 122.93902 \n",
       "L 233.388352 122.501519 \n",
       "\" style=\"fill:none;stroke:#bf00bf;stroke-dasharray:5.55,2.4;stroke-dashoffset:0;stroke-width:1.5;\"/>\n",
       "   </g>\n",
       "   <g id=\"patch_3\">\n",
       "    <path d=\"M 46.965625 146.6 \n",
       "L 46.965625 10.7 \n",
       "\" style=\"fill:none;stroke:#000000;stroke-linecap:square;stroke-linejoin:miter;stroke-width:0.8;\"/>\n",
       "   </g>\n",
       "   <g id=\"patch_4\">\n",
       "    <path d=\"M 242.265625 146.6 \n",
       "L 242.265625 10.7 \n",
       "\" style=\"fill:none;stroke:#000000;stroke-linecap:square;stroke-linejoin:miter;stroke-width:0.8;\"/>\n",
       "   </g>\n",
       "   <g id=\"patch_5\">\n",
       "    <path d=\"M 46.965625 146.6 \n",
       "L 242.265625 146.6 \n",
       "\" style=\"fill:none;stroke:#000000;stroke-linecap:square;stroke-linejoin:miter;stroke-width:0.8;\"/>\n",
       "   </g>\n",
       "   <g id=\"patch_6\">\n",
       "    <path d=\"M 46.965625 10.7 \n",
       "L 242.265625 10.7 \n",
       "\" style=\"fill:none;stroke:#000000;stroke-linecap:square;stroke-linejoin:miter;stroke-width:0.8;\"/>\n",
       "   </g>\n",
       "   <g id=\"legend_1\">\n",
       "    <g id=\"patch_7\">\n",
       "     <path d=\"M 110.715625 48.05625 \n",
       "L 235.265625 48.05625 \n",
       "Q 237.265625 48.05625 237.265625 46.05625 \n",
       "L 237.265625 17.7 \n",
       "Q 237.265625 15.7 235.265625 15.7 \n",
       "L 110.715625 15.7 \n",
       "Q 108.715625 15.7 108.715625 17.7 \n",
       "L 108.715625 46.05625 \n",
       "Q 108.715625 48.05625 110.715625 48.05625 \n",
       "z\n",
       "\" style=\"fill:#ffffff;opacity:0.8;stroke:#cccccc;stroke-linejoin:miter;\"/>\n",
       "    </g>\n",
       "    <g id=\"line2d_24\">\n",
       "     <path d=\"M 112.715625 23.798437 \n",
       "L 132.715625 23.798437 \n",
       "\" style=\"fill:none;stroke:#1f77b4;stroke-linecap:square;stroke-width:1.5;\"/>\n",
       "    </g>\n",
       "    <g id=\"line2d_25\"/>\n",
       "    <g id=\"text_10\">\n",
       "     <!-- f(x) -->\n",
       "     <g transform=\"translate(140.715625 27.298437)scale(0.1 -0.1)\">\n",
       "      <use xlink:href=\"#DejaVuSans-66\"/>\n",
       "      <use x=\"35.205078\" xlink:href=\"#DejaVuSans-28\"/>\n",
       "      <use x=\"74.21875\" xlink:href=\"#DejaVuSans-78\"/>\n",
       "      <use x=\"133.398438\" xlink:href=\"#DejaVuSans-29\"/>\n",
       "     </g>\n",
       "    </g>\n",
       "    <g id=\"line2d_26\">\n",
       "     <path d=\"M 112.715625 38.476562 \n",
       "L 132.715625 38.476562 \n",
       "\" style=\"fill:none;stroke:#bf00bf;stroke-dasharray:5.55,2.4;stroke-dashoffset:0;stroke-width:1.5;\"/>\n",
       "    </g>\n",
       "    <g id=\"line2d_27\"/>\n",
       "    <g id=\"text_11\">\n",
       "     <!-- Tangent line (x=1) -->\n",
       "     <g transform=\"translate(140.715625 41.976562)scale(0.1 -0.1)\">\n",
       "      <defs>\n",
       "       <path d=\"M -19 4666 \n",
       "L 3928 4666 \n",
       "L 3928 4134 \n",
       "L 2272 4134 \n",
       "L 2272 0 \n",
       "L 1638 0 \n",
       "L 1638 4134 \n",
       "L -19 4134 \n",
       "L -19 4666 \n",
       "z\n",
       "\" id=\"DejaVuSans-54\" transform=\"scale(0.015625)\"/>\n",
       "       <path d=\"M 2194 1759 \n",
       "Q 1497 1759 1228 1600 \n",
       "Q 959 1441 959 1056 \n",
       "Q 959 750 1161 570 \n",
       "Q 1363 391 1709 391 \n",
       "Q 2188 391 2477 730 \n",
       "Q 2766 1069 2766 1631 \n",
       "L 2766 1759 \n",
       "L 2194 1759 \n",
       "z\n",
       "M 3341 1997 \n",
       "L 3341 0 \n",
       "L 2766 0 \n",
       "L 2766 531 \n",
       "Q 2569 213 2275 61 \n",
       "Q 1981 -91 1556 -91 \n",
       "Q 1019 -91 701 211 \n",
       "Q 384 513 384 1019 \n",
       "Q 384 1609 779 1909 \n",
       "Q 1175 2209 1959 2209 \n",
       "L 2766 2209 \n",
       "L 2766 2266 \n",
       "Q 2766 2663 2505 2880 \n",
       "Q 2244 3097 1772 3097 \n",
       "Q 1472 3097 1187 3025 \n",
       "Q 903 2953 641 2809 \n",
       "L 641 3341 \n",
       "Q 956 3463 1253 3523 \n",
       "Q 1550 3584 1831 3584 \n",
       "Q 2591 3584 2966 3190 \n",
       "Q 3341 2797 3341 1997 \n",
       "z\n",
       "\" id=\"DejaVuSans-61\" transform=\"scale(0.015625)\"/>\n",
       "       <path d=\"M 3513 2113 \n",
       "L 3513 0 \n",
       "L 2938 0 \n",
       "L 2938 2094 \n",
       "Q 2938 2591 2744 2837 \n",
       "Q 2550 3084 2163 3084 \n",
       "Q 1697 3084 1428 2787 \n",
       "Q 1159 2491 1159 1978 \n",
       "L 1159 0 \n",
       "L 581 0 \n",
       "L 581 3500 \n",
       "L 1159 3500 \n",
       "L 1159 2956 \n",
       "Q 1366 3272 1645 3428 \n",
       "Q 1925 3584 2291 3584 \n",
       "Q 2894 3584 3203 3211 \n",
       "Q 3513 2838 3513 2113 \n",
       "z\n",
       "\" id=\"DejaVuSans-6e\" transform=\"scale(0.015625)\"/>\n",
       "       <path d=\"M 2906 1791 \n",
       "Q 2906 2416 2648 2759 \n",
       "Q 2391 3103 1925 3103 \n",
       "Q 1463 3103 1205 2759 \n",
       "Q 947 2416 947 1791 \n",
       "Q 947 1169 1205 825 \n",
       "Q 1463 481 1925 481 \n",
       "Q 2391 481 2648 825 \n",
       "Q 2906 1169 2906 1791 \n",
       "z\n",
       "M 3481 434 \n",
       "Q 3481 -459 3084 -895 \n",
       "Q 2688 -1331 1869 -1331 \n",
       "Q 1566 -1331 1297 -1286 \n",
       "Q 1028 -1241 775 -1147 \n",
       "L 775 -588 \n",
       "Q 1028 -725 1275 -790 \n",
       "Q 1522 -856 1778 -856 \n",
       "Q 2344 -856 2625 -561 \n",
       "Q 2906 -266 2906 331 \n",
       "L 2906 616 \n",
       "Q 2728 306 2450 153 \n",
       "Q 2172 0 1784 0 \n",
       "Q 1141 0 747 490 \n",
       "Q 353 981 353 1791 \n",
       "Q 353 2603 747 3093 \n",
       "Q 1141 3584 1784 3584 \n",
       "Q 2172 3584 2450 3431 \n",
       "Q 2728 3278 2906 2969 \n",
       "L 2906 3500 \n",
       "L 3481 3500 \n",
       "L 3481 434 \n",
       "z\n",
       "\" id=\"DejaVuSans-67\" transform=\"scale(0.015625)\"/>\n",
       "       <path d=\"M 3597 1894 \n",
       "L 3597 1613 \n",
       "L 953 1613 \n",
       "Q 991 1019 1311 708 \n",
       "Q 1631 397 2203 397 \n",
       "Q 2534 397 2845 478 \n",
       "Q 3156 559 3463 722 \n",
       "L 3463 178 \n",
       "Q 3153 47 2828 -22 \n",
       "Q 2503 -91 2169 -91 \n",
       "Q 1331 -91 842 396 \n",
       "Q 353 884 353 1716 \n",
       "Q 353 2575 817 3079 \n",
       "Q 1281 3584 2069 3584 \n",
       "Q 2775 3584 3186 3129 \n",
       "Q 3597 2675 3597 1894 \n",
       "z\n",
       "M 3022 2063 \n",
       "Q 3016 2534 2758 2815 \n",
       "Q 2500 3097 2075 3097 \n",
       "Q 1594 3097 1305 2825 \n",
       "Q 1016 2553 972 2059 \n",
       "L 3022 2063 \n",
       "z\n",
       "\" id=\"DejaVuSans-65\" transform=\"scale(0.015625)\"/>\n",
       "       <path d=\"M 1172 4494 \n",
       "L 1172 3500 \n",
       "L 2356 3500 \n",
       "L 2356 3053 \n",
       "L 1172 3053 \n",
       "L 1172 1153 \n",
       "Q 1172 725 1289 603 \n",
       "Q 1406 481 1766 481 \n",
       "L 2356 481 \n",
       "L 2356 0 \n",
       "L 1766 0 \n",
       "Q 1100 0 847 248 \n",
       "Q 594 497 594 1153 \n",
       "L 594 3053 \n",
       "L 172 3053 \n",
       "L 172 3500 \n",
       "L 594 3500 \n",
       "L 594 4494 \n",
       "L 1172 4494 \n",
       "z\n",
       "\" id=\"DejaVuSans-74\" transform=\"scale(0.015625)\"/>\n",
       "       <path id=\"DejaVuSans-20\" transform=\"scale(0.015625)\"/>\n",
       "       <path d=\"M 603 4863 \n",
       "L 1178 4863 \n",
       "L 1178 0 \n",
       "L 603 0 \n",
       "L 603 4863 \n",
       "z\n",
       "\" id=\"DejaVuSans-6c\" transform=\"scale(0.015625)\"/>\n",
       "       <path d=\"M 603 3500 \n",
       "L 1178 3500 \n",
       "L 1178 0 \n",
       "L 603 0 \n",
       "L 603 3500 \n",
       "z\n",
       "M 603 4863 \n",
       "L 1178 4863 \n",
       "L 1178 4134 \n",
       "L 603 4134 \n",
       "L 603 4863 \n",
       "z\n",
       "\" id=\"DejaVuSans-69\" transform=\"scale(0.015625)\"/>\n",
       "       <path d=\"M 678 2906 \n",
       "L 4684 2906 \n",
       "L 4684 2381 \n",
       "L 678 2381 \n",
       "L 678 2906 \n",
       "z\n",
       "M 678 1631 \n",
       "L 4684 1631 \n",
       "L 4684 1100 \n",
       "L 678 1100 \n",
       "L 678 1631 \n",
       "z\n",
       "\" id=\"DejaVuSans-3d\" transform=\"scale(0.015625)\"/>\n",
       "      </defs>\n",
       "      <use xlink:href=\"#DejaVuSans-54\"/>\n",
       "      <use x=\"44.583984\" xlink:href=\"#DejaVuSans-61\"/>\n",
       "      <use x=\"105.863281\" xlink:href=\"#DejaVuSans-6e\"/>\n",
       "      <use x=\"169.242188\" xlink:href=\"#DejaVuSans-67\"/>\n",
       "      <use x=\"232.71875\" xlink:href=\"#DejaVuSans-65\"/>\n",
       "      <use x=\"294.242188\" xlink:href=\"#DejaVuSans-6e\"/>\n",
       "      <use x=\"357.621094\" xlink:href=\"#DejaVuSans-74\"/>\n",
       "      <use x=\"396.830078\" xlink:href=\"#DejaVuSans-20\"/>\n",
       "      <use x=\"428.617188\" xlink:href=\"#DejaVuSans-6c\"/>\n",
       "      <use x=\"456.400391\" xlink:href=\"#DejaVuSans-69\"/>\n",
       "      <use x=\"484.183594\" xlink:href=\"#DejaVuSans-6e\"/>\n",
       "      <use x=\"547.5625\" xlink:href=\"#DejaVuSans-65\"/>\n",
       "      <use x=\"609.085938\" xlink:href=\"#DejaVuSans-20\"/>\n",
       "      <use x=\"640.873047\" xlink:href=\"#DejaVuSans-28\"/>\n",
       "      <use x=\"679.886719\" xlink:href=\"#DejaVuSans-78\"/>\n",
       "      <use x=\"739.066406\" xlink:href=\"#DejaVuSans-3d\"/>\n",
       "      <use x=\"822.855469\" xlink:href=\"#DejaVuSans-31\"/>\n",
       "      <use x=\"886.478516\" xlink:href=\"#DejaVuSans-29\"/>\n",
       "     </g>\n",
       "    </g>\n",
       "   </g>\n",
       "  </g>\n",
       " </g>\n",
       " <defs>\n",
       "  <clipPath id=\"p4660895b79\">\n",
       "   <rect height=\"135.9\" width=\"195.3\" x=\"46.965625\" y=\"10.7\"/>\n",
       "  </clipPath>\n",
       " </defs>\n",
       "</svg>\n"
      ],
      "text/plain": [
       "<Figure size 252x180 with 1 Axes>"
      ]
     },
     "metadata": {
      "needs_background": "light"
     },
     "output_type": "display_data"
    }
   ],
   "source": [
    "x = np.arange(0, 3, 0.06)\n",
    "plot(x, [f(x), f_der(x)],\n",
    "     xlabel='x', ylabel='f(x)', \n",
    "     legend=['f(x)', 'Tangent line (x=1)'])\n"
   ]
  },
  {
   "cell_type": "markdown",
   "id": "b6330b4f",
   "metadata": {},
   "source": [
    "### Differentiation, Gradients using tensor flow API"
   ]
  },
  {
   "cell_type": "code",
   "execution_count": 327,
   "id": "366c1d63",
   "metadata": {},
   "outputs": [],
   "source": [
    "x = torch.arange(4.0)"
   ]
  },
  {
   "cell_type": "code",
   "execution_count": 328,
   "id": "d453cc37",
   "metadata": {},
   "outputs": [
    {
     "data": {
      "text/plain": [
       "tensor([0., 1., 2., 3.])"
      ]
     },
     "execution_count": 328,
     "metadata": {},
     "output_type": "execute_result"
    }
   ],
   "source": [
    "x"
   ]
  },
  {
   "cell_type": "code",
   "execution_count": 329,
   "id": "2b1db86b",
   "metadata": {},
   "outputs": [
    {
     "data": {
      "text/plain": [
       "tensor([0., 1., 2., 3.], requires_grad=True)"
      ]
     },
     "execution_count": 329,
     "metadata": {},
     "output_type": "execute_result"
    }
   ],
   "source": [
    "x.requires_grad_(True)  # store gradients on same memory"
   ]
  },
  {
   "cell_type": "code",
   "execution_count": 330,
   "id": "e7973ba2",
   "metadata": {},
   "outputs": [],
   "source": [
    "x.grad   # first time, it will be none until backward is called."
   ]
  },
  {
   "cell_type": "code",
   "execution_count": 331,
   "id": "3399e7b8",
   "metadata": {},
   "outputs": [],
   "source": [
    "y = 2 * torch.dot(x, x)"
   ]
  },
  {
   "cell_type": "code",
   "execution_count": 332,
   "id": "2be46e47",
   "metadata": {},
   "outputs": [
    {
     "data": {
      "text/plain": [
       "tensor(28., grad_fn=<MulBackward0>)"
      ]
     },
     "execution_count": 332,
     "metadata": {},
     "output_type": "execute_result"
    }
   ],
   "source": [
    "y"
   ]
  },
  {
   "cell_type": "code",
   "execution_count": 333,
   "id": "1c2b559e",
   "metadata": {},
   "outputs": [],
   "source": [
    "y.backward()"
   ]
  },
  {
   "cell_type": "code",
   "execution_count": 334,
   "id": "1e9565ff",
   "metadata": {},
   "outputs": [
    {
     "data": {
      "text/plain": [
       "tensor([ 0.,  4.,  8., 12.])"
      ]
     },
     "execution_count": 334,
     "metadata": {},
     "output_type": "execute_result"
    }
   ],
   "source": [
    "x.grad"
   ]
  },
  {
   "cell_type": "code",
   "execution_count": 335,
   "id": "d6a73809",
   "metadata": {},
   "outputs": [
    {
     "data": {
      "text/plain": [
       "tensor([True, True, True, True])"
      ]
     },
     "execution_count": 335,
     "metadata": {},
     "output_type": "execute_result"
    }
   ],
   "source": [
    "x.grad == 4 * x"
   ]
  },
  {
   "cell_type": "code",
   "execution_count": 336,
   "id": "247423d6",
   "metadata": {},
   "outputs": [
    {
     "data": {
      "text/plain": [
       "tensor([0., 0., 0., 0.])"
      ]
     },
     "execution_count": 336,
     "metadata": {},
     "output_type": "execute_result"
    }
   ],
   "source": [
    "x.grad.zero_()   # reset the gradient value"
   ]
  },
  {
   "cell_type": "code",
   "execution_count": 337,
   "id": "aa6e9c70",
   "metadata": {},
   "outputs": [],
   "source": [
    "y = x.sum()"
   ]
  },
  {
   "cell_type": "code",
   "execution_count": 338,
   "id": "04b74fc1",
   "metadata": {},
   "outputs": [],
   "source": [
    "y.backward()"
   ]
  },
  {
   "cell_type": "code",
   "execution_count": 339,
   "id": "55f2d0d1",
   "metadata": {},
   "outputs": [
    {
     "data": {
      "text/plain": [
       "tensor([1., 1., 1., 1.])"
      ]
     },
     "execution_count": 339,
     "metadata": {},
     "output_type": "execute_result"
    }
   ],
   "source": [
    "x.grad"
   ]
  },
  {
   "cell_type": "markdown",
   "id": "9e4d34c5",
   "metadata": {},
   "source": [
    "### Probability"
   ]
  },
  {
   "cell_type": "code",
   "execution_count": 144,
   "id": "8d3920be",
   "metadata": {},
   "outputs": [],
   "source": [
    "from torch.distributions import multinomial"
   ]
  },
  {
   "cell_type": "code",
   "execution_count": 145,
   "id": "079f9ecb",
   "metadata": {},
   "outputs": [],
   "source": [
    "fair_probs = torch.ones([6]) / 6"
   ]
  },
  {
   "cell_type": "code",
   "execution_count": 146,
   "id": "2ebbcbc4",
   "metadata": {},
   "outputs": [
    {
     "data": {
      "text/plain": [
       "tensor([0., 0., 0., 1., 0., 0.])"
      ]
     },
     "execution_count": 146,
     "metadata": {},
     "output_type": "execute_result"
    }
   ],
   "source": [
    "multinomial.Multinomial(1, fair_probs).sample()"
   ]
  },
  {
   "cell_type": "code",
   "execution_count": 147,
   "id": "6789a917",
   "metadata": {},
   "outputs": [
    {
     "data": {
      "text/plain": [
       "tensor([0., 1., 0., 0., 0., 0.])"
      ]
     },
     "execution_count": 147,
     "metadata": {},
     "output_type": "execute_result"
    }
   ],
   "source": [
    "multinomial.Multinomial(1, fair_probs).sample()"
   ]
  },
  {
   "cell_type": "code",
   "execution_count": 148,
   "id": "72c607f8",
   "metadata": {},
   "outputs": [
    {
     "data": {
      "text/plain": [
       "tensor([0., 0., 0., 0., 1., 0.])"
      ]
     },
     "execution_count": 148,
     "metadata": {},
     "output_type": "execute_result"
    }
   ],
   "source": [
    "multinomial.Multinomial(1, fair_probs).sample()"
   ]
  },
  {
   "cell_type": "code",
   "execution_count": 149,
   "id": "7c7418c8",
   "metadata": {},
   "outputs": [
    {
     "data": {
      "text/plain": [
       "tensor([1., 2., 1., 2., 2., 2.])"
      ]
     },
     "execution_count": 149,
     "metadata": {},
     "output_type": "execute_result"
    }
   ],
   "source": [
    "multinomial.Multinomial(10, fair_probs).sample()"
   ]
  },
  {
   "cell_type": "code",
   "execution_count": 151,
   "id": "df52bc91",
   "metadata": {},
   "outputs": [
    {
     "data": {
      "text/plain": [
       "tensor([0.1720, 0.1630, 0.1730, 0.1680, 0.1580, 0.1660])"
      ]
     },
     "execution_count": 151,
     "metadata": {},
     "output_type": "execute_result"
    }
   ],
   "source": [
    "counts = multinomial.Multinomial(1000, fair_probs).sample()\n",
    "counts / 1000"
   ]
  },
  {
   "cell_type": "code",
   "execution_count": 152,
   "id": "a9be3171",
   "metadata": {},
   "outputs": [],
   "source": [
    "counts = multinomial.Multinomial(10, fair_probs).sample((500,))"
   ]
  },
  {
   "cell_type": "code",
   "execution_count": 162,
   "id": "608afac3",
   "metadata": {},
   "outputs": [
    {
     "data": {
      "text/plain": [
       "(tensor([[1., 2., 3., 1., 3., 0.],\n",
       "         [1., 1., 0., 2., 2., 4.],\n",
       "         [0., 1., 1., 2., 3., 3.],\n",
       "         [3., 2., 1., 2., 1., 1.],\n",
       "         [1., 1., 0., 1., 3., 4.],\n",
       "         [1., 5., 2., 1., 0., 1.]]),\n",
       " torch.Size([500, 6]))"
      ]
     },
     "execution_count": 162,
     "metadata": {},
     "output_type": "execute_result"
    }
   ],
   "source": [
    "counts[:6], counts.shape"
   ]
  },
  {
   "cell_type": "code",
   "execution_count": 163,
   "id": "48b84574",
   "metadata": {},
   "outputs": [],
   "source": [
    "cum_counts = counts.cumsum(dim=0)"
   ]
  },
  {
   "cell_type": "code",
   "execution_count": 172,
   "id": "bc9c3379",
   "metadata": {},
   "outputs": [
    {
     "data": {
      "text/plain": [
       "(tensor([[ 1.,  2.,  3.,  1.,  3.,  0.],\n",
       "         [ 2.,  3.,  3.,  3.,  5.,  4.],\n",
       "         [ 2.,  4.,  4.,  5.,  8.,  7.],\n",
       "         [ 5.,  6.,  5.,  7.,  9.,  8.],\n",
       "         [ 6.,  7.,  5.,  8., 12., 12.],\n",
       "         [ 7., 12.,  7.,  9., 12., 13.]]),\n",
       " torch.Size([500, 6]))"
      ]
     },
     "execution_count": 172,
     "metadata": {},
     "output_type": "execute_result"
    }
   ],
   "source": [
    "cum_counts[:6], cum_counts.shape"
   ]
  },
  {
   "cell_type": "code",
   "execution_count": 174,
   "id": "4b31ba94",
   "metadata": {},
   "outputs": [
    {
     "data": {
      "text/plain": [
       "(tensor([[834., 835., 839., 815., 832., 805.],\n",
       "         [836., 836., 840., 817., 833., 808.],\n",
       "         [837., 837., 841., 819., 838., 808.],\n",
       "         [838., 839., 843., 820., 841., 809.],\n",
       "         [839., 843., 844., 822., 842., 810.]]),\n",
       " torch.Size([500, 6]))"
      ]
     },
     "execution_count": 174,
     "metadata": {},
     "output_type": "execute_result"
    }
   ],
   "source": [
    "cum_counts[-5:], cum_counts.shape"
   ]
  },
  {
   "cell_type": "code",
   "execution_count": 177,
   "id": "9b2ccde6",
   "metadata": {},
   "outputs": [
    {
     "data": {
      "text/plain": [
       "torch.Size([500, 1])"
      ]
     },
     "execution_count": 177,
     "metadata": {},
     "output_type": "execute_result"
    }
   ],
   "source": [
    "cum_counts.sum(dim=1, keepdims=True).shape"
   ]
  },
  {
   "cell_type": "code",
   "execution_count": 178,
   "id": "ccee1659",
   "metadata": {},
   "outputs": [],
   "source": [
    "estimates = cum_counts / cum_counts.sum(dim=1, keepdims=True)"
   ]
  },
  {
   "cell_type": "code",
   "execution_count": 179,
   "id": "4069108d",
   "metadata": {},
   "outputs": [
    {
     "data": {
      "text/plain": [
       "(tensor([[0.1000, 0.2000, 0.3000, 0.1000, 0.3000, 0.0000],\n",
       "         [0.1000, 0.1500, 0.1500, 0.1500, 0.2500, 0.2000],\n",
       "         [0.0667, 0.1333, 0.1333, 0.1667, 0.2667, 0.2333],\n",
       "         ...,\n",
       "         [0.1681, 0.1681, 0.1689, 0.1645, 0.1683, 0.1622],\n",
       "         [0.1679, 0.1681, 0.1689, 0.1643, 0.1685, 0.1621],\n",
       "         [0.1678, 0.1686, 0.1688, 0.1644, 0.1684, 0.1620]]),\n",
       " torch.Size([500, 6]))"
      ]
     },
     "execution_count": 179,
     "metadata": {},
     "output_type": "execute_result"
    }
   ],
   "source": [
    "estimates, estimates.shape"
   ]
  },
  {
   "cell_type": "code",
   "execution_count": 183,
   "id": "c3ba764c",
   "metadata": {},
   "outputs": [
    {
     "data": {
      "image/svg+xml": [
       "<?xml version=\"1.0\" encoding=\"utf-8\" standalone=\"no\"?>\n",
       "<!DOCTYPE svg PUBLIC \"-//W3C//DTD SVG 1.1//EN\"\n",
       "  \"http://www.w3.org/Graphics/SVG/1.1/DTD/svg11.dtd\">\n",
       "<svg height=\"289.37625pt\" version=\"1.1\" viewBox=\"0 0 392.14375 289.37625\" width=\"392.14375pt\" xmlns=\"http://www.w3.org/2000/svg\" xmlns:xlink=\"http://www.w3.org/1999/xlink\">\n",
       " <metadata>\n",
       "  <rdf:RDF xmlns:cc=\"http://creativecommons.org/ns#\" xmlns:dc=\"http://purl.org/dc/elements/1.1/\" xmlns:rdf=\"http://www.w3.org/1999/02/22-rdf-syntax-ns#\">\n",
       "   <cc:Work>\n",
       "    <dc:type rdf:resource=\"http://purl.org/dc/dcmitype/StillImage\"/>\n",
       "    <dc:date>2021-07-03T16:50:18.908508</dc:date>\n",
       "    <dc:format>image/svg+xml</dc:format>\n",
       "    <dc:creator>\n",
       "     <cc:Agent>\n",
       "      <dc:title>Matplotlib v3.4.2, https://matplotlib.org/</dc:title>\n",
       "     </cc:Agent>\n",
       "    </dc:creator>\n",
       "   </cc:Work>\n",
       "  </rdf:RDF>\n",
       " </metadata>\n",
       " <defs>\n",
       "  <style type=\"text/css\">*{stroke-linecap:butt;stroke-linejoin:round;}</style>\n",
       " </defs>\n",
       " <g id=\"figure_1\">\n",
       "  <g id=\"patch_1\">\n",
       "   <path d=\"M 0 289.37625 \n",
       "L 392.14375 289.37625 \n",
       "L 392.14375 0 \n",
       "L 0 0 \n",
       "z\n",
       "\" style=\"fill:none;\"/>\n",
       "  </g>\n",
       "  <g id=\"axes_1\">\n",
       "   <g id=\"patch_2\">\n",
       "    <path d=\"M 50.14375 251.82 \n",
       "L 384.94375 251.82 \n",
       "L 384.94375 7.2 \n",
       "L 50.14375 7.2 \n",
       "z\n",
       "\" style=\"fill:#ffffff;\"/>\n",
       "   </g>\n",
       "   <g id=\"matplotlib.axis_1\">\n",
       "    <g id=\"xtick_1\">\n",
       "     <g id=\"line2d_1\">\n",
       "      <defs>\n",
       "       <path d=\"M 0 0 \n",
       "L 0 3.5 \n",
       "\" id=\"m01dd26570b\" style=\"stroke:#000000;stroke-width:0.8;\"/>\n",
       "      </defs>\n",
       "      <g>\n",
       "       <use style=\"stroke:#000000;stroke-width:0.8;\" x=\"65.361932\" xlink:href=\"#m01dd26570b\" y=\"251.82\"/>\n",
       "      </g>\n",
       "     </g>\n",
       "     <g id=\"text_1\">\n",
       "      <!-- 0 -->\n",
       "      <g transform=\"translate(62.180682 266.418437)scale(0.1 -0.1)\">\n",
       "       <defs>\n",
       "        <path d=\"M 2034 4250 \n",
       "Q 1547 4250 1301 3770 \n",
       "Q 1056 3291 1056 2328 \n",
       "Q 1056 1369 1301 889 \n",
       "Q 1547 409 2034 409 \n",
       "Q 2525 409 2770 889 \n",
       "Q 3016 1369 3016 2328 \n",
       "Q 3016 3291 2770 3770 \n",
       "Q 2525 4250 2034 4250 \n",
       "z\n",
       "M 2034 4750 \n",
       "Q 2819 4750 3233 4129 \n",
       "Q 3647 3509 3647 2328 \n",
       "Q 3647 1150 3233 529 \n",
       "Q 2819 -91 2034 -91 \n",
       "Q 1250 -91 836 529 \n",
       "Q 422 1150 422 2328 \n",
       "Q 422 3509 836 4129 \n",
       "Q 1250 4750 2034 4750 \n",
       "z\n",
       "\" id=\"DejaVuSans-30\" transform=\"scale(0.015625)\"/>\n",
       "       </defs>\n",
       "       <use xlink:href=\"#DejaVuSans-30\"/>\n",
       "      </g>\n",
       "     </g>\n",
       "    </g>\n",
       "    <g id=\"xtick_2\">\n",
       "     <g id=\"line2d_2\">\n",
       "      <g>\n",
       "       <use style=\"stroke:#000000;stroke-width:0.8;\" x=\"126.356649\" xlink:href=\"#m01dd26570b\" y=\"251.82\"/>\n",
       "      </g>\n",
       "     </g>\n",
       "     <g id=\"text_2\">\n",
       "      <!-- 100 -->\n",
       "      <g transform=\"translate(116.812899 266.418437)scale(0.1 -0.1)\">\n",
       "       <defs>\n",
       "        <path d=\"M 794 531 \n",
       "L 1825 531 \n",
       "L 1825 4091 \n",
       "L 703 3866 \n",
       "L 703 4441 \n",
       "L 1819 4666 \n",
       "L 2450 4666 \n",
       "L 2450 531 \n",
       "L 3481 531 \n",
       "L 3481 0 \n",
       "L 794 0 \n",
       "L 794 531 \n",
       "z\n",
       "\" id=\"DejaVuSans-31\" transform=\"scale(0.015625)\"/>\n",
       "       </defs>\n",
       "       <use xlink:href=\"#DejaVuSans-31\"/>\n",
       "       <use x=\"63.623047\" xlink:href=\"#DejaVuSans-30\"/>\n",
       "       <use x=\"127.246094\" xlink:href=\"#DejaVuSans-30\"/>\n",
       "      </g>\n",
       "     </g>\n",
       "    </g>\n",
       "    <g id=\"xtick_3\">\n",
       "     <g id=\"line2d_3\">\n",
       "      <g>\n",
       "       <use style=\"stroke:#000000;stroke-width:0.8;\" x=\"187.351365\" xlink:href=\"#m01dd26570b\" y=\"251.82\"/>\n",
       "      </g>\n",
       "     </g>\n",
       "     <g id=\"text_3\">\n",
       "      <!-- 200 -->\n",
       "      <g transform=\"translate(177.807615 266.418437)scale(0.1 -0.1)\">\n",
       "       <defs>\n",
       "        <path d=\"M 1228 531 \n",
       "L 3431 531 \n",
       "L 3431 0 \n",
       "L 469 0 \n",
       "L 469 531 \n",
       "Q 828 903 1448 1529 \n",
       "Q 2069 2156 2228 2338 \n",
       "Q 2531 2678 2651 2914 \n",
       "Q 2772 3150 2772 3378 \n",
       "Q 2772 3750 2511 3984 \n",
       "Q 2250 4219 1831 4219 \n",
       "Q 1534 4219 1204 4116 \n",
       "Q 875 4013 500 3803 \n",
       "L 500 4441 \n",
       "Q 881 4594 1212 4672 \n",
       "Q 1544 4750 1819 4750 \n",
       "Q 2544 4750 2975 4387 \n",
       "Q 3406 4025 3406 3419 \n",
       "Q 3406 3131 3298 2873 \n",
       "Q 3191 2616 2906 2266 \n",
       "Q 2828 2175 2409 1742 \n",
       "Q 1991 1309 1228 531 \n",
       "z\n",
       "\" id=\"DejaVuSans-32\" transform=\"scale(0.015625)\"/>\n",
       "       </defs>\n",
       "       <use xlink:href=\"#DejaVuSans-32\"/>\n",
       "       <use x=\"63.623047\" xlink:href=\"#DejaVuSans-30\"/>\n",
       "       <use x=\"127.246094\" xlink:href=\"#DejaVuSans-30\"/>\n",
       "      </g>\n",
       "     </g>\n",
       "    </g>\n",
       "    <g id=\"xtick_4\">\n",
       "     <g id=\"line2d_4\">\n",
       "      <g>\n",
       "       <use style=\"stroke:#000000;stroke-width:0.8;\" x=\"248.346082\" xlink:href=\"#m01dd26570b\" y=\"251.82\"/>\n",
       "      </g>\n",
       "     </g>\n",
       "     <g id=\"text_4\">\n",
       "      <!-- 300 -->\n",
       "      <g transform=\"translate(238.802332 266.418437)scale(0.1 -0.1)\">\n",
       "       <defs>\n",
       "        <path d=\"M 2597 2516 \n",
       "Q 3050 2419 3304 2112 \n",
       "Q 3559 1806 3559 1356 \n",
       "Q 3559 666 3084 287 \n",
       "Q 2609 -91 1734 -91 \n",
       "Q 1441 -91 1130 -33 \n",
       "Q 819 25 488 141 \n",
       "L 488 750 \n",
       "Q 750 597 1062 519 \n",
       "Q 1375 441 1716 441 \n",
       "Q 2309 441 2620 675 \n",
       "Q 2931 909 2931 1356 \n",
       "Q 2931 1769 2642 2001 \n",
       "Q 2353 2234 1838 2234 \n",
       "L 1294 2234 \n",
       "L 1294 2753 \n",
       "L 1863 2753 \n",
       "Q 2328 2753 2575 2939 \n",
       "Q 2822 3125 2822 3475 \n",
       "Q 2822 3834 2567 4026 \n",
       "Q 2313 4219 1838 4219 \n",
       "Q 1578 4219 1281 4162 \n",
       "Q 984 4106 628 3988 \n",
       "L 628 4550 \n",
       "Q 988 4650 1302 4700 \n",
       "Q 1616 4750 1894 4750 \n",
       "Q 2613 4750 3031 4423 \n",
       "Q 3450 4097 3450 3541 \n",
       "Q 3450 3153 3228 2886 \n",
       "Q 3006 2619 2597 2516 \n",
       "z\n",
       "\" id=\"DejaVuSans-33\" transform=\"scale(0.015625)\"/>\n",
       "       </defs>\n",
       "       <use xlink:href=\"#DejaVuSans-33\"/>\n",
       "       <use x=\"63.623047\" xlink:href=\"#DejaVuSans-30\"/>\n",
       "       <use x=\"127.246094\" xlink:href=\"#DejaVuSans-30\"/>\n",
       "      </g>\n",
       "     </g>\n",
       "    </g>\n",
       "    <g id=\"xtick_5\">\n",
       "     <g id=\"line2d_5\">\n",
       "      <g>\n",
       "       <use style=\"stroke:#000000;stroke-width:0.8;\" x=\"309.340799\" xlink:href=\"#m01dd26570b\" y=\"251.82\"/>\n",
       "      </g>\n",
       "     </g>\n",
       "     <g id=\"text_5\">\n",
       "      <!-- 400 -->\n",
       "      <g transform=\"translate(299.797049 266.418437)scale(0.1 -0.1)\">\n",
       "       <defs>\n",
       "        <path d=\"M 2419 4116 \n",
       "L 825 1625 \n",
       "L 2419 1625 \n",
       "L 2419 4116 \n",
       "z\n",
       "M 2253 4666 \n",
       "L 3047 4666 \n",
       "L 3047 1625 \n",
       "L 3713 1625 \n",
       "L 3713 1100 \n",
       "L 3047 1100 \n",
       "L 3047 0 \n",
       "L 2419 0 \n",
       "L 2419 1100 \n",
       "L 313 1100 \n",
       "L 313 1709 \n",
       "L 2253 4666 \n",
       "z\n",
       "\" id=\"DejaVuSans-34\" transform=\"scale(0.015625)\"/>\n",
       "       </defs>\n",
       "       <use xlink:href=\"#DejaVuSans-34\"/>\n",
       "       <use x=\"63.623047\" xlink:href=\"#DejaVuSans-30\"/>\n",
       "       <use x=\"127.246094\" xlink:href=\"#DejaVuSans-30\"/>\n",
       "      </g>\n",
       "     </g>\n",
       "    </g>\n",
       "    <g id=\"xtick_6\">\n",
       "     <g id=\"line2d_6\">\n",
       "      <g>\n",
       "       <use style=\"stroke:#000000;stroke-width:0.8;\" x=\"370.335515\" xlink:href=\"#m01dd26570b\" y=\"251.82\"/>\n",
       "      </g>\n",
       "     </g>\n",
       "     <g id=\"text_6\">\n",
       "      <!-- 500 -->\n",
       "      <g transform=\"translate(360.791765 266.418437)scale(0.1 -0.1)\">\n",
       "       <defs>\n",
       "        <path d=\"M 691 4666 \n",
       "L 3169 4666 \n",
       "L 3169 4134 \n",
       "L 1269 4134 \n",
       "L 1269 2991 \n",
       "Q 1406 3038 1543 3061 \n",
       "Q 1681 3084 1819 3084 \n",
       "Q 2600 3084 3056 2656 \n",
       "Q 3513 2228 3513 1497 \n",
       "Q 3513 744 3044 326 \n",
       "Q 2575 -91 1722 -91 \n",
       "Q 1428 -91 1123 -41 \n",
       "Q 819 9 494 109 \n",
       "L 494 744 \n",
       "Q 775 591 1075 516 \n",
       "Q 1375 441 1709 441 \n",
       "Q 2250 441 2565 725 \n",
       "Q 2881 1009 2881 1497 \n",
       "Q 2881 1984 2565 2268 \n",
       "Q 2250 2553 1709 2553 \n",
       "Q 1456 2553 1204 2497 \n",
       "Q 953 2441 691 2322 \n",
       "L 691 4666 \n",
       "z\n",
       "\" id=\"DejaVuSans-35\" transform=\"scale(0.015625)\"/>\n",
       "       </defs>\n",
       "       <use xlink:href=\"#DejaVuSans-35\"/>\n",
       "       <use x=\"63.623047\" xlink:href=\"#DejaVuSans-30\"/>\n",
       "       <use x=\"127.246094\" xlink:href=\"#DejaVuSans-30\"/>\n",
       "      </g>\n",
       "     </g>\n",
       "    </g>\n",
       "    <g id=\"text_7\">\n",
       "     <!-- Groups of experiments -->\n",
       "     <g transform=\"translate(160.397656 280.096562)scale(0.1 -0.1)\">\n",
       "      <defs>\n",
       "       <path d=\"M 3809 666 \n",
       "L 3809 1919 \n",
       "L 2778 1919 \n",
       "L 2778 2438 \n",
       "L 4434 2438 \n",
       "L 4434 434 \n",
       "Q 4069 175 3628 42 \n",
       "Q 3188 -91 2688 -91 \n",
       "Q 1594 -91 976 548 \n",
       "Q 359 1188 359 2328 \n",
       "Q 359 3472 976 4111 \n",
       "Q 1594 4750 2688 4750 \n",
       "Q 3144 4750 3555 4637 \n",
       "Q 3966 4525 4313 4306 \n",
       "L 4313 3634 \n",
       "Q 3963 3931 3569 4081 \n",
       "Q 3175 4231 2741 4231 \n",
       "Q 1884 4231 1454 3753 \n",
       "Q 1025 3275 1025 2328 \n",
       "Q 1025 1384 1454 906 \n",
       "Q 1884 428 2741 428 \n",
       "Q 3075 428 3337 486 \n",
       "Q 3600 544 3809 666 \n",
       "z\n",
       "\" id=\"DejaVuSans-47\" transform=\"scale(0.015625)\"/>\n",
       "       <path d=\"M 2631 2963 \n",
       "Q 2534 3019 2420 3045 \n",
       "Q 2306 3072 2169 3072 \n",
       "Q 1681 3072 1420 2755 \n",
       "Q 1159 2438 1159 1844 \n",
       "L 1159 0 \n",
       "L 581 0 \n",
       "L 581 3500 \n",
       "L 1159 3500 \n",
       "L 1159 2956 \n",
       "Q 1341 3275 1631 3429 \n",
       "Q 1922 3584 2338 3584 \n",
       "Q 2397 3584 2469 3576 \n",
       "Q 2541 3569 2628 3553 \n",
       "L 2631 2963 \n",
       "z\n",
       "\" id=\"DejaVuSans-72\" transform=\"scale(0.015625)\"/>\n",
       "       <path d=\"M 1959 3097 \n",
       "Q 1497 3097 1228 2736 \n",
       "Q 959 2375 959 1747 \n",
       "Q 959 1119 1226 758 \n",
       "Q 1494 397 1959 397 \n",
       "Q 2419 397 2687 759 \n",
       "Q 2956 1122 2956 1747 \n",
       "Q 2956 2369 2687 2733 \n",
       "Q 2419 3097 1959 3097 \n",
       "z\n",
       "M 1959 3584 \n",
       "Q 2709 3584 3137 3096 \n",
       "Q 3566 2609 3566 1747 \n",
       "Q 3566 888 3137 398 \n",
       "Q 2709 -91 1959 -91 \n",
       "Q 1206 -91 779 398 \n",
       "Q 353 888 353 1747 \n",
       "Q 353 2609 779 3096 \n",
       "Q 1206 3584 1959 3584 \n",
       "z\n",
       "\" id=\"DejaVuSans-6f\" transform=\"scale(0.015625)\"/>\n",
       "       <path d=\"M 544 1381 \n",
       "L 544 3500 \n",
       "L 1119 3500 \n",
       "L 1119 1403 \n",
       "Q 1119 906 1312 657 \n",
       "Q 1506 409 1894 409 \n",
       "Q 2359 409 2629 706 \n",
       "Q 2900 1003 2900 1516 \n",
       "L 2900 3500 \n",
       "L 3475 3500 \n",
       "L 3475 0 \n",
       "L 2900 0 \n",
       "L 2900 538 \n",
       "Q 2691 219 2414 64 \n",
       "Q 2138 -91 1772 -91 \n",
       "Q 1169 -91 856 284 \n",
       "Q 544 659 544 1381 \n",
       "z\n",
       "M 1991 3584 \n",
       "L 1991 3584 \n",
       "z\n",
       "\" id=\"DejaVuSans-75\" transform=\"scale(0.015625)\"/>\n",
       "       <path d=\"M 1159 525 \n",
       "L 1159 -1331 \n",
       "L 581 -1331 \n",
       "L 581 3500 \n",
       "L 1159 3500 \n",
       "L 1159 2969 \n",
       "Q 1341 3281 1617 3432 \n",
       "Q 1894 3584 2278 3584 \n",
       "Q 2916 3584 3314 3078 \n",
       "Q 3713 2572 3713 1747 \n",
       "Q 3713 922 3314 415 \n",
       "Q 2916 -91 2278 -91 \n",
       "Q 1894 -91 1617 61 \n",
       "Q 1341 213 1159 525 \n",
       "z\n",
       "M 3116 1747 \n",
       "Q 3116 2381 2855 2742 \n",
       "Q 2594 3103 2138 3103 \n",
       "Q 1681 3103 1420 2742 \n",
       "Q 1159 2381 1159 1747 \n",
       "Q 1159 1113 1420 752 \n",
       "Q 1681 391 2138 391 \n",
       "Q 2594 391 2855 752 \n",
       "Q 3116 1113 3116 1747 \n",
       "z\n",
       "\" id=\"DejaVuSans-70\" transform=\"scale(0.015625)\"/>\n",
       "       <path d=\"M 2834 3397 \n",
       "L 2834 2853 \n",
       "Q 2591 2978 2328 3040 \n",
       "Q 2066 3103 1784 3103 \n",
       "Q 1356 3103 1142 2972 \n",
       "Q 928 2841 928 2578 \n",
       "Q 928 2378 1081 2264 \n",
       "Q 1234 2150 1697 2047 \n",
       "L 1894 2003 \n",
       "Q 2506 1872 2764 1633 \n",
       "Q 3022 1394 3022 966 \n",
       "Q 3022 478 2636 193 \n",
       "Q 2250 -91 1575 -91 \n",
       "Q 1294 -91 989 -36 \n",
       "Q 684 19 347 128 \n",
       "L 347 722 \n",
       "Q 666 556 975 473 \n",
       "Q 1284 391 1588 391 \n",
       "Q 1994 391 2212 530 \n",
       "Q 2431 669 2431 922 \n",
       "Q 2431 1156 2273 1281 \n",
       "Q 2116 1406 1581 1522 \n",
       "L 1381 1569 \n",
       "Q 847 1681 609 1914 \n",
       "Q 372 2147 372 2553 \n",
       "Q 372 3047 722 3315 \n",
       "Q 1072 3584 1716 3584 \n",
       "Q 2034 3584 2315 3537 \n",
       "Q 2597 3491 2834 3397 \n",
       "z\n",
       "\" id=\"DejaVuSans-73\" transform=\"scale(0.015625)\"/>\n",
       "       <path id=\"DejaVuSans-20\" transform=\"scale(0.015625)\"/>\n",
       "       <path d=\"M 2375 4863 \n",
       "L 2375 4384 \n",
       "L 1825 4384 \n",
       "Q 1516 4384 1395 4259 \n",
       "Q 1275 4134 1275 3809 \n",
       "L 1275 3500 \n",
       "L 2222 3500 \n",
       "L 2222 3053 \n",
       "L 1275 3053 \n",
       "L 1275 0 \n",
       "L 697 0 \n",
       "L 697 3053 \n",
       "L 147 3053 \n",
       "L 147 3500 \n",
       "L 697 3500 \n",
       "L 697 3744 \n",
       "Q 697 4328 969 4595 \n",
       "Q 1241 4863 1831 4863 \n",
       "L 2375 4863 \n",
       "z\n",
       "\" id=\"DejaVuSans-66\" transform=\"scale(0.015625)\"/>\n",
       "       <path d=\"M 3597 1894 \n",
       "L 3597 1613 \n",
       "L 953 1613 \n",
       "Q 991 1019 1311 708 \n",
       "Q 1631 397 2203 397 \n",
       "Q 2534 397 2845 478 \n",
       "Q 3156 559 3463 722 \n",
       "L 3463 178 \n",
       "Q 3153 47 2828 -22 \n",
       "Q 2503 -91 2169 -91 \n",
       "Q 1331 -91 842 396 \n",
       "Q 353 884 353 1716 \n",
       "Q 353 2575 817 3079 \n",
       "Q 1281 3584 2069 3584 \n",
       "Q 2775 3584 3186 3129 \n",
       "Q 3597 2675 3597 1894 \n",
       "z\n",
       "M 3022 2063 \n",
       "Q 3016 2534 2758 2815 \n",
       "Q 2500 3097 2075 3097 \n",
       "Q 1594 3097 1305 2825 \n",
       "Q 1016 2553 972 2059 \n",
       "L 3022 2063 \n",
       "z\n",
       "\" id=\"DejaVuSans-65\" transform=\"scale(0.015625)\"/>\n",
       "       <path d=\"M 3513 3500 \n",
       "L 2247 1797 \n",
       "L 3578 0 \n",
       "L 2900 0 \n",
       "L 1881 1375 \n",
       "L 863 0 \n",
       "L 184 0 \n",
       "L 1544 1831 \n",
       "L 300 3500 \n",
       "L 978 3500 \n",
       "L 1906 2253 \n",
       "L 2834 3500 \n",
       "L 3513 3500 \n",
       "z\n",
       "\" id=\"DejaVuSans-78\" transform=\"scale(0.015625)\"/>\n",
       "       <path d=\"M 603 3500 \n",
       "L 1178 3500 \n",
       "L 1178 0 \n",
       "L 603 0 \n",
       "L 603 3500 \n",
       "z\n",
       "M 603 4863 \n",
       "L 1178 4863 \n",
       "L 1178 4134 \n",
       "L 603 4134 \n",
       "L 603 4863 \n",
       "z\n",
       "\" id=\"DejaVuSans-69\" transform=\"scale(0.015625)\"/>\n",
       "       <path d=\"M 3328 2828 \n",
       "Q 3544 3216 3844 3400 \n",
       "Q 4144 3584 4550 3584 \n",
       "Q 5097 3584 5394 3201 \n",
       "Q 5691 2819 5691 2113 \n",
       "L 5691 0 \n",
       "L 5113 0 \n",
       "L 5113 2094 \n",
       "Q 5113 2597 4934 2840 \n",
       "Q 4756 3084 4391 3084 \n",
       "Q 3944 3084 3684 2787 \n",
       "Q 3425 2491 3425 1978 \n",
       "L 3425 0 \n",
       "L 2847 0 \n",
       "L 2847 2094 \n",
       "Q 2847 2600 2669 2842 \n",
       "Q 2491 3084 2119 3084 \n",
       "Q 1678 3084 1418 2786 \n",
       "Q 1159 2488 1159 1978 \n",
       "L 1159 0 \n",
       "L 581 0 \n",
       "L 581 3500 \n",
       "L 1159 3500 \n",
       "L 1159 2956 \n",
       "Q 1356 3278 1631 3431 \n",
       "Q 1906 3584 2284 3584 \n",
       "Q 2666 3584 2933 3390 \n",
       "Q 3200 3197 3328 2828 \n",
       "z\n",
       "\" id=\"DejaVuSans-6d\" transform=\"scale(0.015625)\"/>\n",
       "       <path d=\"M 3513 2113 \n",
       "L 3513 0 \n",
       "L 2938 0 \n",
       "L 2938 2094 \n",
       "Q 2938 2591 2744 2837 \n",
       "Q 2550 3084 2163 3084 \n",
       "Q 1697 3084 1428 2787 \n",
       "Q 1159 2491 1159 1978 \n",
       "L 1159 0 \n",
       "L 581 0 \n",
       "L 581 3500 \n",
       "L 1159 3500 \n",
       "L 1159 2956 \n",
       "Q 1366 3272 1645 3428 \n",
       "Q 1925 3584 2291 3584 \n",
       "Q 2894 3584 3203 3211 \n",
       "Q 3513 2838 3513 2113 \n",
       "z\n",
       "\" id=\"DejaVuSans-6e\" transform=\"scale(0.015625)\"/>\n",
       "       <path d=\"M 1172 4494 \n",
       "L 1172 3500 \n",
       "L 2356 3500 \n",
       "L 2356 3053 \n",
       "L 1172 3053 \n",
       "L 1172 1153 \n",
       "Q 1172 725 1289 603 \n",
       "Q 1406 481 1766 481 \n",
       "L 2356 481 \n",
       "L 2356 0 \n",
       "L 1766 0 \n",
       "Q 1100 0 847 248 \n",
       "Q 594 497 594 1153 \n",
       "L 594 3053 \n",
       "L 172 3053 \n",
       "L 172 3500 \n",
       "L 594 3500 \n",
       "L 594 4494 \n",
       "L 1172 4494 \n",
       "z\n",
       "\" id=\"DejaVuSans-74\" transform=\"scale(0.015625)\"/>\n",
       "      </defs>\n",
       "      <use xlink:href=\"#DejaVuSans-47\"/>\n",
       "      <use x=\"77.490234\" xlink:href=\"#DejaVuSans-72\"/>\n",
       "      <use x=\"116.353516\" xlink:href=\"#DejaVuSans-6f\"/>\n",
       "      <use x=\"177.535156\" xlink:href=\"#DejaVuSans-75\"/>\n",
       "      <use x=\"240.914062\" xlink:href=\"#DejaVuSans-70\"/>\n",
       "      <use x=\"304.390625\" xlink:href=\"#DejaVuSans-73\"/>\n",
       "      <use x=\"356.490234\" xlink:href=\"#DejaVuSans-20\"/>\n",
       "      <use x=\"388.277344\" xlink:href=\"#DejaVuSans-6f\"/>\n",
       "      <use x=\"449.458984\" xlink:href=\"#DejaVuSans-66\"/>\n",
       "      <use x=\"484.664062\" xlink:href=\"#DejaVuSans-20\"/>\n",
       "      <use x=\"516.451172\" xlink:href=\"#DejaVuSans-65\"/>\n",
       "      <use x=\"576.224609\" xlink:href=\"#DejaVuSans-78\"/>\n",
       "      <use x=\"635.404297\" xlink:href=\"#DejaVuSans-70\"/>\n",
       "      <use x=\"698.880859\" xlink:href=\"#DejaVuSans-65\"/>\n",
       "      <use x=\"760.404297\" xlink:href=\"#DejaVuSans-72\"/>\n",
       "      <use x=\"801.517578\" xlink:href=\"#DejaVuSans-69\"/>\n",
       "      <use x=\"829.300781\" xlink:href=\"#DejaVuSans-6d\"/>\n",
       "      <use x=\"926.712891\" xlink:href=\"#DejaVuSans-65\"/>\n",
       "      <use x=\"988.236328\" xlink:href=\"#DejaVuSans-6e\"/>\n",
       "      <use x=\"1051.615234\" xlink:href=\"#DejaVuSans-74\"/>\n",
       "      <use x=\"1090.824219\" xlink:href=\"#DejaVuSans-73\"/>\n",
       "     </g>\n",
       "    </g>\n",
       "   </g>\n",
       "   <g id=\"matplotlib.axis_2\">\n",
       "    <g id=\"ytick_1\">\n",
       "     <g id=\"line2d_7\">\n",
       "      <defs>\n",
       "       <path d=\"M 0 0 \n",
       "L -3.5 0 \n",
       "\" id=\"m3bcf0eb170\" style=\"stroke:#000000;stroke-width:0.8;\"/>\n",
       "      </defs>\n",
       "      <g>\n",
       "       <use style=\"stroke:#000000;stroke-width:0.8;\" x=\"50.14375\" xlink:href=\"#m3bcf0eb170\" y=\"240.700909\"/>\n",
       "      </g>\n",
       "     </g>\n",
       "     <g id=\"text_8\">\n",
       "      <!-- 0.00 -->\n",
       "      <g transform=\"translate(20.878125 244.500128)scale(0.1 -0.1)\">\n",
       "       <defs>\n",
       "        <path d=\"M 684 794 \n",
       "L 1344 794 \n",
       "L 1344 0 \n",
       "L 684 0 \n",
       "L 684 794 \n",
       "z\n",
       "\" id=\"DejaVuSans-2e\" transform=\"scale(0.015625)\"/>\n",
       "       </defs>\n",
       "       <use xlink:href=\"#DejaVuSans-30\"/>\n",
       "       <use x=\"63.623047\" xlink:href=\"#DejaVuSans-2e\"/>\n",
       "       <use x=\"95.410156\" xlink:href=\"#DejaVuSans-30\"/>\n",
       "       <use x=\"159.033203\" xlink:href=\"#DejaVuSans-30\"/>\n",
       "      </g>\n",
       "     </g>\n",
       "    </g>\n",
       "    <g id=\"ytick_2\">\n",
       "     <g id=\"line2d_8\">\n",
       "      <g>\n",
       "       <use style=\"stroke:#000000;stroke-width:0.8;\" x=\"50.14375\" xlink:href=\"#m3bcf0eb170\" y=\"203.637274\"/>\n",
       "      </g>\n",
       "     </g>\n",
       "     <g id=\"text_9\">\n",
       "      <!-- 0.05 -->\n",
       "      <g transform=\"translate(20.878125 207.436493)scale(0.1 -0.1)\">\n",
       "       <use xlink:href=\"#DejaVuSans-30\"/>\n",
       "       <use x=\"63.623047\" xlink:href=\"#DejaVuSans-2e\"/>\n",
       "       <use x=\"95.410156\" xlink:href=\"#DejaVuSans-30\"/>\n",
       "       <use x=\"159.033203\" xlink:href=\"#DejaVuSans-35\"/>\n",
       "      </g>\n",
       "     </g>\n",
       "    </g>\n",
       "    <g id=\"ytick_3\">\n",
       "     <g id=\"line2d_9\">\n",
       "      <g>\n",
       "       <use style=\"stroke:#000000;stroke-width:0.8;\" x=\"50.14375\" xlink:href=\"#m3bcf0eb170\" y=\"166.573639\"/>\n",
       "      </g>\n",
       "     </g>\n",
       "     <g id=\"text_10\">\n",
       "      <!-- 0.10 -->\n",
       "      <g transform=\"translate(20.878125 170.372858)scale(0.1 -0.1)\">\n",
       "       <use xlink:href=\"#DejaVuSans-30\"/>\n",
       "       <use x=\"63.623047\" xlink:href=\"#DejaVuSans-2e\"/>\n",
       "       <use x=\"95.410156\" xlink:href=\"#DejaVuSans-31\"/>\n",
       "       <use x=\"159.033203\" xlink:href=\"#DejaVuSans-30\"/>\n",
       "      </g>\n",
       "     </g>\n",
       "    </g>\n",
       "    <g id=\"ytick_4\">\n",
       "     <g id=\"line2d_10\">\n",
       "      <g>\n",
       "       <use style=\"stroke:#000000;stroke-width:0.8;\" x=\"50.14375\" xlink:href=\"#m3bcf0eb170\" y=\"129.510004\"/>\n",
       "      </g>\n",
       "     </g>\n",
       "     <g id=\"text_11\">\n",
       "      <!-- 0.15 -->\n",
       "      <g transform=\"translate(20.878125 133.309223)scale(0.1 -0.1)\">\n",
       "       <use xlink:href=\"#DejaVuSans-30\"/>\n",
       "       <use x=\"63.623047\" xlink:href=\"#DejaVuSans-2e\"/>\n",
       "       <use x=\"95.410156\" xlink:href=\"#DejaVuSans-31\"/>\n",
       "       <use x=\"159.033203\" xlink:href=\"#DejaVuSans-35\"/>\n",
       "      </g>\n",
       "     </g>\n",
       "    </g>\n",
       "    <g id=\"ytick_5\">\n",
       "     <g id=\"line2d_11\">\n",
       "      <g>\n",
       "       <use style=\"stroke:#000000;stroke-width:0.8;\" x=\"50.14375\" xlink:href=\"#m3bcf0eb170\" y=\"92.44637\"/>\n",
       "      </g>\n",
       "     </g>\n",
       "     <g id=\"text_12\">\n",
       "      <!-- 0.20 -->\n",
       "      <g transform=\"translate(20.878125 96.245588)scale(0.1 -0.1)\">\n",
       "       <use xlink:href=\"#DejaVuSans-30\"/>\n",
       "       <use x=\"63.623047\" xlink:href=\"#DejaVuSans-2e\"/>\n",
       "       <use x=\"95.410156\" xlink:href=\"#DejaVuSans-32\"/>\n",
       "       <use x=\"159.033203\" xlink:href=\"#DejaVuSans-30\"/>\n",
       "      </g>\n",
       "     </g>\n",
       "    </g>\n",
       "    <g id=\"ytick_6\">\n",
       "     <g id=\"line2d_12\">\n",
       "      <g>\n",
       "       <use style=\"stroke:#000000;stroke-width:0.8;\" x=\"50.14375\" xlink:href=\"#m3bcf0eb170\" y=\"55.382735\"/>\n",
       "      </g>\n",
       "     </g>\n",
       "     <g id=\"text_13\">\n",
       "      <!-- 0.25 -->\n",
       "      <g transform=\"translate(20.878125 59.181953)scale(0.1 -0.1)\">\n",
       "       <use xlink:href=\"#DejaVuSans-30\"/>\n",
       "       <use x=\"63.623047\" xlink:href=\"#DejaVuSans-2e\"/>\n",
       "       <use x=\"95.410156\" xlink:href=\"#DejaVuSans-32\"/>\n",
       "       <use x=\"159.033203\" xlink:href=\"#DejaVuSans-35\"/>\n",
       "      </g>\n",
       "     </g>\n",
       "    </g>\n",
       "    <g id=\"ytick_7\">\n",
       "     <g id=\"line2d_13\">\n",
       "      <g>\n",
       "       <use style=\"stroke:#000000;stroke-width:0.8;\" x=\"50.14375\" xlink:href=\"#m3bcf0eb170\" y=\"18.3191\"/>\n",
       "      </g>\n",
       "     </g>\n",
       "     <g id=\"text_14\">\n",
       "      <!-- 0.30 -->\n",
       "      <g transform=\"translate(20.878125 22.118318)scale(0.1 -0.1)\">\n",
       "       <use xlink:href=\"#DejaVuSans-30\"/>\n",
       "       <use x=\"63.623047\" xlink:href=\"#DejaVuSans-2e\"/>\n",
       "       <use x=\"95.410156\" xlink:href=\"#DejaVuSans-33\"/>\n",
       "       <use x=\"159.033203\" xlink:href=\"#DejaVuSans-30\"/>\n",
       "      </g>\n",
       "     </g>\n",
       "    </g>\n",
       "    <g id=\"text_15\">\n",
       "     <!-- Estimated probability -->\n",
       "     <g transform=\"translate(14.798438 183.033437)rotate(-90)scale(0.1 -0.1)\">\n",
       "      <defs>\n",
       "       <path d=\"M 628 4666 \n",
       "L 3578 4666 \n",
       "L 3578 4134 \n",
       "L 1259 4134 \n",
       "L 1259 2753 \n",
       "L 3481 2753 \n",
       "L 3481 2222 \n",
       "L 1259 2222 \n",
       "L 1259 531 \n",
       "L 3634 531 \n",
       "L 3634 0 \n",
       "L 628 0 \n",
       "L 628 4666 \n",
       "z\n",
       "\" id=\"DejaVuSans-45\" transform=\"scale(0.015625)\"/>\n",
       "       <path d=\"M 2194 1759 \n",
       "Q 1497 1759 1228 1600 \n",
       "Q 959 1441 959 1056 \n",
       "Q 959 750 1161 570 \n",
       "Q 1363 391 1709 391 \n",
       "Q 2188 391 2477 730 \n",
       "Q 2766 1069 2766 1631 \n",
       "L 2766 1759 \n",
       "L 2194 1759 \n",
       "z\n",
       "M 3341 1997 \n",
       "L 3341 0 \n",
       "L 2766 0 \n",
       "L 2766 531 \n",
       "Q 2569 213 2275 61 \n",
       "Q 1981 -91 1556 -91 \n",
       "Q 1019 -91 701 211 \n",
       "Q 384 513 384 1019 \n",
       "Q 384 1609 779 1909 \n",
       "Q 1175 2209 1959 2209 \n",
       "L 2766 2209 \n",
       "L 2766 2266 \n",
       "Q 2766 2663 2505 2880 \n",
       "Q 2244 3097 1772 3097 \n",
       "Q 1472 3097 1187 3025 \n",
       "Q 903 2953 641 2809 \n",
       "L 641 3341 \n",
       "Q 956 3463 1253 3523 \n",
       "Q 1550 3584 1831 3584 \n",
       "Q 2591 3584 2966 3190 \n",
       "Q 3341 2797 3341 1997 \n",
       "z\n",
       "\" id=\"DejaVuSans-61\" transform=\"scale(0.015625)\"/>\n",
       "       <path d=\"M 2906 2969 \n",
       "L 2906 4863 \n",
       "L 3481 4863 \n",
       "L 3481 0 \n",
       "L 2906 0 \n",
       "L 2906 525 \n",
       "Q 2725 213 2448 61 \n",
       "Q 2172 -91 1784 -91 \n",
       "Q 1150 -91 751 415 \n",
       "Q 353 922 353 1747 \n",
       "Q 353 2572 751 3078 \n",
       "Q 1150 3584 1784 3584 \n",
       "Q 2172 3584 2448 3432 \n",
       "Q 2725 3281 2906 2969 \n",
       "z\n",
       "M 947 1747 \n",
       "Q 947 1113 1208 752 \n",
       "Q 1469 391 1925 391 \n",
       "Q 2381 391 2643 752 \n",
       "Q 2906 1113 2906 1747 \n",
       "Q 2906 2381 2643 2742 \n",
       "Q 2381 3103 1925 3103 \n",
       "Q 1469 3103 1208 2742 \n",
       "Q 947 2381 947 1747 \n",
       "z\n",
       "\" id=\"DejaVuSans-64\" transform=\"scale(0.015625)\"/>\n",
       "       <path d=\"M 3116 1747 \n",
       "Q 3116 2381 2855 2742 \n",
       "Q 2594 3103 2138 3103 \n",
       "Q 1681 3103 1420 2742 \n",
       "Q 1159 2381 1159 1747 \n",
       "Q 1159 1113 1420 752 \n",
       "Q 1681 391 2138 391 \n",
       "Q 2594 391 2855 752 \n",
       "Q 3116 1113 3116 1747 \n",
       "z\n",
       "M 1159 2969 \n",
       "Q 1341 3281 1617 3432 \n",
       "Q 1894 3584 2278 3584 \n",
       "Q 2916 3584 3314 3078 \n",
       "Q 3713 2572 3713 1747 \n",
       "Q 3713 922 3314 415 \n",
       "Q 2916 -91 2278 -91 \n",
       "Q 1894 -91 1617 61 \n",
       "Q 1341 213 1159 525 \n",
       "L 1159 0 \n",
       "L 581 0 \n",
       "L 581 4863 \n",
       "L 1159 4863 \n",
       "L 1159 2969 \n",
       "z\n",
       "\" id=\"DejaVuSans-62\" transform=\"scale(0.015625)\"/>\n",
       "       <path d=\"M 603 4863 \n",
       "L 1178 4863 \n",
       "L 1178 0 \n",
       "L 603 0 \n",
       "L 603 4863 \n",
       "z\n",
       "\" id=\"DejaVuSans-6c\" transform=\"scale(0.015625)\"/>\n",
       "       <path d=\"M 2059 -325 \n",
       "Q 1816 -950 1584 -1140 \n",
       "Q 1353 -1331 966 -1331 \n",
       "L 506 -1331 \n",
       "L 506 -850 \n",
       "L 844 -850 \n",
       "Q 1081 -850 1212 -737 \n",
       "Q 1344 -625 1503 -206 \n",
       "L 1606 56 \n",
       "L 191 3500 \n",
       "L 800 3500 \n",
       "L 1894 763 \n",
       "L 2988 3500 \n",
       "L 3597 3500 \n",
       "L 2059 -325 \n",
       "z\n",
       "\" id=\"DejaVuSans-79\" transform=\"scale(0.015625)\"/>\n",
       "      </defs>\n",
       "      <use xlink:href=\"#DejaVuSans-45\"/>\n",
       "      <use x=\"63.183594\" xlink:href=\"#DejaVuSans-73\"/>\n",
       "      <use x=\"115.283203\" xlink:href=\"#DejaVuSans-74\"/>\n",
       "      <use x=\"154.492188\" xlink:href=\"#DejaVuSans-69\"/>\n",
       "      <use x=\"182.275391\" xlink:href=\"#DejaVuSans-6d\"/>\n",
       "      <use x=\"279.6875\" xlink:href=\"#DejaVuSans-61\"/>\n",
       "      <use x=\"340.966797\" xlink:href=\"#DejaVuSans-74\"/>\n",
       "      <use x=\"380.175781\" xlink:href=\"#DejaVuSans-65\"/>\n",
       "      <use x=\"441.699219\" xlink:href=\"#DejaVuSans-64\"/>\n",
       "      <use x=\"505.175781\" xlink:href=\"#DejaVuSans-20\"/>\n",
       "      <use x=\"536.962891\" xlink:href=\"#DejaVuSans-70\"/>\n",
       "      <use x=\"600.439453\" xlink:href=\"#DejaVuSans-72\"/>\n",
       "      <use x=\"639.302734\" xlink:href=\"#DejaVuSans-6f\"/>\n",
       "      <use x=\"700.484375\" xlink:href=\"#DejaVuSans-62\"/>\n",
       "      <use x=\"763.960938\" xlink:href=\"#DejaVuSans-61\"/>\n",
       "      <use x=\"825.240234\" xlink:href=\"#DejaVuSans-62\"/>\n",
       "      <use x=\"888.716797\" xlink:href=\"#DejaVuSans-69\"/>\n",
       "      <use x=\"916.5\" xlink:href=\"#DejaVuSans-6c\"/>\n",
       "      <use x=\"944.283203\" xlink:href=\"#DejaVuSans-69\"/>\n",
       "      <use x=\"972.066406\" xlink:href=\"#DejaVuSans-74\"/>\n",
       "      <use x=\"1011.275391\" xlink:href=\"#DejaVuSans-79\"/>\n",
       "     </g>\n",
       "    </g>\n",
       "   </g>\n",
       "   <g id=\"line2d_14\">\n",
       "    <path clip-path=\"url(#pa662d2130b)\" d=\"M 65.361932 166.573638 \n",
       "L 65.971879 166.573638 \n",
       "L 66.581826 191.282727 \n",
       "L 67.191773 148.041822 \n",
       "L 67.80172 151.748187 \n",
       "L 68.411668 154.219094 \n",
       "L 69.021615 155.984029 \n",
       "L 69.631562 157.307733 \n",
       "L 70.241509 141.864544 \n",
       "L 70.851456 144.335462 \n",
       "L 71.461403 139.618265 \n",
       "L 72.071351 148.041822 \n",
       "L 72.681298 126.658951 \n",
       "L 73.291245 129.51 \n",
       "L 73.901192 117.155456 \n",
       "L 74.511139 120.2441 \n",
       "L 75.731034 117.155456 \n",
       "L 76.340981 119.756416 \n",
       "L 76.950928 110.978189 \n",
       "L 77.560875 106.565846 \n",
       "L 78.170822 109.29348 \n",
       "L 79.390717 120.2441 \n",
       "L 80.000664 122.09728 \n",
       "L 81.220558 119.900917 \n",
       "L 81.830505 118.920391 \n",
       "L 82.440452 123.119726 \n",
       "L 83.0504 122.09728 \n",
       "L 84.270294 129.51 \n",
       "L 84.880241 130.633139 \n",
       "L 86.100135 136.922731 \n",
       "L 87.929977 139.263595 \n",
       "L 88.539924 141.864544 \n",
       "L 89.149871 142.482282 \n",
       "L 89.759819 139.453904 \n",
       "L 90.979713 137.267504 \n",
       "L 91.58966 132.879429 \n",
       "L 92.199607 131.980918 \n",
       "L 92.809554 132.732928 \n",
       "L 93.419502 130.298595 \n",
       "L 94.029449 132.598644 \n",
       "L 94.639396 130.266407 \n",
       "L 95.85929 131.690214 \n",
       "L 96.469237 133.786579 \n",
       "L 97.079185 133.006578 \n",
       "L 98.299079 134.227196 \n",
       "L 98.909026 132.157408 \n",
       "L 99.518973 132.761206 \n",
       "L 100.12892 129.51 \n",
       "L 100.738868 128.881802 \n",
       "L 101.348815 130.745464 \n",
       "L 101.958762 131.332804 \n",
       "L 102.568709 129.51 \n",
       "L 103.178656 130.098312 \n",
       "L 104.398551 126.658951 \n",
       "L 105.618445 125.637688 \n",
       "L 106.228392 124.059471 \n",
       "L 107.448286 123.156243 \n",
       "L 108.058234 123.767751 \n",
       "L 109.888075 122.497967 \n",
       "L 110.498022 119.132183 \n",
       "L 111.107969 117.805701 \n",
       "L 111.717917 118.439047 \n",
       "L 112.327864 120.006504 \n",
       "L 113.547758 119.31751 \n",
       "L 114.157705 119.900917 \n",
       "L 114.767652 118.662106 \n",
       "L 115.3776 119.239361 \n",
       "L 115.987547 118.920391 \n",
       "L 116.597494 117.736853 \n",
       "L 117.207441 118.304719 \n",
       "L 117.817388 118.007497 \n",
       "L 118.427335 118.55938 \n",
       "L 119.037283 117.433093 \n",
       "L 120.257177 118.513098 \n",
       "L 120.867124 118.229773 \n",
       "L 121.477071 117.155456 \n",
       "L 122.087018 118.469776 \n",
       "L 123.306913 119.471942 \n",
       "L 123.91686 119.193322 \n",
       "L 124.526807 117.407588 \n",
       "L 125.746701 116.908372 \n",
       "L 126.356649 118.134038 \n",
       "L 128.18649 119.531335 \n",
       "L 128.796437 120.685326 \n",
       "L 129.406384 119.0203 \n",
       "L 130.626279 117.155456 \n",
       "L 132.45612 116.487647 \n",
       "L 133.066067 116.934838 \n",
       "L 133.676015 116.71813 \n",
       "L 134.895909 115.006844 \n",
       "L 135.505856 113.534303 \n",
       "L 136.115803 113.987624 \n",
       "L 136.72575 113.80507 \n",
       "L 137.335698 113.002668 \n",
       "L 137.945645 112.831369 \n",
       "L 139.775486 114.142155 \n",
       "L 140.385433 113.369389 \n",
       "L 141.605328 114.213898 \n",
       "L 142.215275 114.0425 \n",
       "L 142.825222 112.715543 \n",
       "L 143.435169 110.834527 \n",
       "L 144.655064 109.422076 \n",
       "L 145.874958 109.166807 \n",
       "L 147.094852 110.01728 \n",
       "L 147.704799 108.797975 \n",
       "L 148.924694 109.635304 \n",
       "L 149.534641 110.57822 \n",
       "L 150.754535 110.321029 \n",
       "L 152.584377 111.492958 \n",
       "L 153.194324 110.850378 \n",
       "L 153.804271 109.70888 \n",
       "L 154.414218 110.095716 \n",
       "L 155.024165 110.978189 \n",
       "L 155.634113 109.361313 \n",
       "L 156.24406 109.742736 \n",
       "L 157.463954 108.53979 \n",
       "L 158.073901 109.403585 \n",
       "L 159.293796 109.184789 \n",
       "L 162.343531 110.978189 \n",
       "L 162.953479 110.863081 \n",
       "L 163.563426 111.20697 \n",
       "L 164.173373 112.001419 \n",
       "L 166.003214 112.987657 \n",
       "L 166.613162 113.752414 \n",
       "L 168.443003 113.376425 \n",
       "L 169.05295 113.68752 \n",
       "L 170.272845 115.155874 \n",
       "L 172.102686 113.505253 \n",
       "L 175.152422 114.971232 \n",
       "L 175.762369 115.662049 \n",
       "L 176.372316 115.130127 \n",
       "L 176.982263 115.812571 \n",
       "L 177.592211 115.285586 \n",
       "L 178.202158 114.365722 \n",
       "L 179.422052 114.921129 \n",
       "L 180.031999 114.017801 \n",
       "L 180.641946 114.294411 \n",
       "L 181.251894 114.956221 \n",
       "L 182.471788 114.722955 \n",
       "L 183.081735 115.372328 \n",
       "L 183.691682 115.254757 \n",
       "L 184.301629 114.760191 \n",
       "L 185.521524 115.283564 \n",
       "L 186.131471 115.168798 \n",
       "L 187.351365 115.680286 \n",
       "L 187.961312 116.299206 \n",
       "L 188.57126 116.546864 \n",
       "L 189.181207 117.155456 \n",
       "L 191.011048 116.797361 \n",
       "L 191.620995 117.036669 \n",
       "L 192.230943 117.628361 \n",
       "L 192.84089 117.861439 \n",
       "L 194.670731 117.503477 \n",
       "L 195.890626 118.649503 \n",
       "L 197.11052 119.091192 \n",
       "L 197.720467 118.628936 \n",
       "L 198.330414 118.509387 \n",
       "L 200.770203 119.371524 \n",
       "L 201.38015 118.589469 \n",
       "L 203.209992 118.243966 \n",
       "L 203.819939 118.455936 \n",
       "L 204.429886 118.989758 \n",
       "L 205.039833 119.196647 \n",
       "L 205.64978 118.75995 \n",
       "L 206.259727 118.966043 \n",
       "L 206.869675 118.534074 \n",
       "L 208.089569 119.573795 \n",
       "L 208.699516 119.458852 \n",
       "L 209.309463 119.032097 \n",
       "L 209.91941 119.23185 \n",
       "L 210.529358 119.119779 \n",
       "L 211.749252 118.283256 \n",
       "L 212.359199 117.563875 \n",
       "L 212.969146 117.460508 \n",
       "L 214.189041 116.651192 \n",
       "L 215.408935 117.655644 \n",
       "L 216.018882 117.553989 \n",
       "L 217.238776 117.946149 \n",
       "L 217.848724 117.549228 \n",
       "L 219.068618 117.35079 \n",
       "L 219.678565 116.960895 \n",
       "L 220.288512 116.864763 \n",
       "L 220.898459 117.058937 \n",
       "L 222.118354 116.293517 \n",
       "L 222.728301 116.487647 \n",
       "L 223.338248 116.395183 \n",
       "L 223.948195 116.871446 \n",
       "L 224.558142 117.061147 \n",
       "L 225.16809 117.531268 \n",
       "L 225.778037 117.155456 \n",
       "L 226.997931 117.527026 \n",
       "L 227.607878 116.87783 \n",
       "L 228.217825 116.51007 \n",
       "L 228.827773 115.86949 \n",
       "L 229.43772 116.05728 \n",
       "L 230.657614 116.973774 \n",
       "L 231.877508 117.335823 \n",
       "L 232.487456 117.245314 \n",
       "L 233.097403 116.618308 \n",
       "L 233.70735 117.066261 \n",
       "L 234.317297 116.711049 \n",
       "L 235.537191 117.067211 \n",
       "L 236.147139 117.507188 \n",
       "L 236.757086 117.418324 \n",
       "L 237.367033 116.806209 \n",
       "L 237.97698 116.459425 \n",
       "L 238.586927 116.635264 \n",
       "L 242.24661 116.136523 \n",
       "L 242.856557 116.309257 \n",
       "L 244.076452 116.146928 \n",
       "L 244.686399 116.317862 \n",
       "L 245.296346 116.237216 \n",
       "L 245.906293 116.656284 \n",
       "L 247.736135 117.155456 \n",
       "L 248.956029 116.991823 \n",
       "L 249.565976 117.155456 \n",
       "L 250.175923 116.830344 \n",
       "L 250.785871 116.993436 \n",
       "L 251.395818 117.397702 \n",
       "L 252.005765 117.074976 \n",
       "L 252.615712 116.995015 \n",
       "L 253.225659 117.155456 \n",
       "L 253.835606 117.553989 \n",
       "L 254.445554 117.711613 \n",
       "L 255.055501 117.155456 \n",
       "L 258.105237 116.765726 \n",
       "L 259.325131 117.078002 \n",
       "L 259.935078 117.464319 \n",
       "L 261.76492 117.920445 \n",
       "L 262.374867 117.384248 \n",
       "L 262.984814 117.307513 \n",
       "L 264.204708 117.608843 \n",
       "L 264.814655 117.532118 \n",
       "L 266.644497 117.976602 \n",
       "L 267.864391 118.71369 \n",
       "L 268.474338 118.856988 \n",
       "L 269.694233 118.699772 \n",
       "L 270.30418 118.401911 \n",
       "L 270.914127 118.763739 \n",
       "L 271.524074 118.686109 \n",
       "L 272.134021 118.826954 \n",
       "L 272.743969 118.097444 \n",
       "L 273.353916 118.239195 \n",
       "L 273.963863 117.731761 \n",
       "L 274.57381 118.089237 \n",
       "L 275.183757 117.585183 \n",
       "L 275.793704 117.512523 \n",
       "L 276.403652 117.226668 \n",
       "L 277.013599 117.155456 \n",
       "L 277.623546 117.297063 \n",
       "L 278.233493 117.649646 \n",
       "L 278.84344 117.789022 \n",
       "L 280.063335 117.645437 \n",
       "L 280.673282 117.993061 \n",
       "L 281.283229 117.503477 \n",
       "L 281.893176 117.224868 \n",
       "L 282.503123 117.363095 \n",
       "L 283.11307 116.879376 \n",
       "L 285.552859 118.247578 \n",
       "L 286.162806 117.972283 \n",
       "L 286.772753 118.105805 \n",
       "L 287.382701 118.03551 \n",
       "L 288.602595 118.300024 \n",
       "L 289.822489 118.159897 \n",
       "L 291.042384 118.420887 \n",
       "L 291.652331 118.151789 \n",
       "L 292.262278 118.082874 \n",
       "L 292.872225 118.410736 \n",
       "L 294.092119 118.666922 \n",
       "L 294.702067 118.40074 \n",
       "L 295.312014 118.332079 \n",
       "L 295.921961 118.459371 \n",
       "L 297.141855 119.101056 \n",
       "L 298.36175 118.574778 \n",
       "L 298.971697 118.506736 \n",
       "L 299.581644 118.246507 \n",
       "L 300.191591 117.795594 \n",
       "L 301.411485 118.047019 \n",
       "L 302.021433 117.981208 \n",
       "L 302.63138 118.295882 \n",
       "L 303.851274 118.163995 \n",
       "L 304.461221 118.287178 \n",
       "L 305.071168 117.657168 \n",
       "L 306.291063 117.155456 \n",
       "L 306.90101 117.093224 \n",
       "L 307.510957 116.472548 \n",
       "L 308.120904 116.598117 \n",
       "L 309.340799 117.21708 \n",
       "L 309.950746 117.155456 \n",
       "L 313.000482 117.762567 \n",
       "L 313.610429 118.063886 \n",
       "L 314.220376 117.638766 \n",
       "L 314.830323 117.577318 \n",
       "L 316.660165 116.856313 \n",
       "L 317.270112 116.976403 \n",
       "L 317.880059 116.917297 \n",
       "L 318.490006 117.036669 \n",
       "L 319.099953 116.799935 \n",
       "L 320.929795 117.155456 \n",
       "L 321.539742 117.096769 \n",
       "L 322.149689 117.21401 \n",
       "L 322.759636 117.50594 \n",
       "L 323.369583 117.446845 \n",
       "L 324.589478 117.677481 \n",
       "L 325.199425 117.96559 \n",
       "L 325.809372 118.079163 \n",
       "L 327.029266 117.615161 \n",
       "L 328.249161 117.841821 \n",
       "L 328.859108 117.44078 \n",
       "L 329.469055 117.212397 \n",
       "L 330.079002 117.325871 \n",
       "L 331.298897 117.211999 \n",
       "L 331.908844 117.493944 \n",
       "L 332.518791 117.268035 \n",
       "L 333.128738 117.211613 \n",
       "L 333.738685 117.491635 \n",
       "L 334.348632 117.43497 \n",
       "L 334.95858 117.545893 \n",
       "L 335.568527 117.823275 \n",
       "L 336.178474 117.766246 \n",
       "L 336.788421 117.543275 \n",
       "L 338.618263 117.870872 \n",
       "L 339.22821 117.814372 \n",
       "L 339.838157 117.593754 \n",
       "L 340.448104 117.538127 \n",
       "L 341.058051 117.810009 \n",
       "L 341.667998 117.917419 \n",
       "L 342.277946 117.698513 \n",
       "L 342.887893 117.805701 \n",
       "L 344.107787 117.694956 \n",
       "L 344.717734 117.801449 \n",
       "L 345.937629 117.691443 \n",
       "L 346.547576 117.476359 \n",
       "L 347.157523 117.422301 \n",
       "L 347.76747 117.52823 \n",
       "L 351.427153 117.208034 \n",
       "L 353.256995 117.521128 \n",
       "L 353.866942 117.468229 \n",
       "L 354.476889 116.947386 \n",
       "L 355.086836 116.740177 \n",
       "L 355.696783 116.844648 \n",
       "L 356.306731 117.103761 \n",
       "L 356.916678 116.742784 \n",
       "L 357.526625 116.692161 \n",
       "L 358.136572 116.79587 \n",
       "L 359.356466 116.695044 \n",
       "L 359.966414 116.49179 \n",
       "L 360.576361 116.136523 \n",
       "L 361.186308 116.087777 \n",
       "L 361.796255 116.191454 \n",
       "L 363.016149 116.094328 \n",
       "L 363.626097 115.743512 \n",
       "L 364.236044 115.696059 \n",
       "L 364.845991 115.950135 \n",
       "L 365.455938 115.902462 \n",
       "L 366.675832 116.107196 \n",
       "L 367.895727 116.011981 \n",
       "L 369.725568 116.315355 \n",
       "L 369.725568 116.315355 \n",
       "\" style=\"fill:none;stroke:#1f77b4;stroke-linecap:square;stroke-width:1.5;\"/>\n",
       "   </g>\n",
       "   <g id=\"line2d_15\">\n",
       "    <path clip-path=\"url(#pa662d2130b)\" d=\"M 65.361932 92.446367 \n",
       "L 65.971879 129.51 \n",
       "L 66.581826 141.864544 \n",
       "L 67.191773 129.51 \n",
       "L 67.80172 136.922731 \n",
       "L 68.411668 92.446367 \n",
       "L 69.021615 103.035977 \n",
       "L 69.631562 101.712278 \n",
       "L 70.241509 108.919093 \n",
       "L 70.851456 99.859098 \n",
       "L 71.461403 112.662898 \n",
       "L 72.681298 120.956854 \n",
       "L 73.291245 113.625586 \n",
       "L 73.901192 117.155456 \n",
       "L 75.121086 114.248504 \n",
       "L 75.731034 108.919093 \n",
       "L 76.340981 111.953546 \n",
       "L 76.950928 118.390909 \n",
       "L 78.170822 116.032316 \n",
       "L 78.780769 105.33807 \n",
       "L 79.390717 101.712278 \n",
       "L 80.000664 107.271818 \n",
       "L 80.610611 106.701611 \n",
       "L 81.220558 103.428192 \n",
       "L 81.830505 97.741172 \n",
       "L 82.440452 100.11471 \n",
       "L 83.0504 97.388192 \n",
       "L 83.660347 97.228778 \n",
       "L 84.270294 99.395803 \n",
       "L 84.880241 99.185215 \n",
       "L 85.490188 101.167222 \n",
       "L 86.100135 96.682209 \n",
       "L 86.710083 96.564549 \n",
       "L 87.32003 94.449815 \n",
       "L 87.929977 94.397082 \n",
       "L 89.149871 101.712278 \n",
       "L 89.759819 101.486281 \n",
       "L 90.369766 103.035977 \n",
       "L 90.979713 102.78971 \n",
       "L 91.58966 104.239342 \n",
       "L 92.199607 103.97728 \n",
       "L 94.029449 107.889556 \n",
       "L 94.639396 110.599991 \n",
       "L 95.249343 110.236915 \n",
       "L 95.85929 112.795028 \n",
       "L 97.689132 115.782736 \n",
       "L 98.299079 115.358433 \n",
       "L 98.909026 116.272994 \n",
       "L 99.518973 115.854976 \n",
       "L 100.12892 116.72944 \n",
       "L 100.738868 116.317862 \n",
       "L 101.348815 114.684549 \n",
       "L 101.958762 114.319993 \n",
       "L 102.568709 115.162789 \n",
       "L 103.178656 117.155456 \n",
       "L 104.398551 116.395183 \n",
       "L 105.008498 118.278595 \n",
       "L 105.618445 118.999424 \n",
       "L 106.228392 116.428718 \n",
       "L 107.448286 115.743512 \n",
       "L 108.058234 114.371334 \n",
       "L 108.668181 115.096371 \n",
       "L 109.278128 114.786093 \n",
       "L 109.888075 113.482487 \n",
       "L 110.498022 114.19037 \n",
       "L 111.107969 112.928904 \n",
       "L 111.717917 114.588285 \n",
       "L 112.327864 113.354058 \n",
       "L 112.937811 113.089411 \n",
       "L 114.767652 115.046145 \n",
       "L 115.3776 114.773866 \n",
       "L 115.987547 113.625586 \n",
       "L 116.597494 115.120594 \n",
       "L 117.207441 114.856941 \n",
       "L 117.817388 113.747311 \n",
       "L 118.427335 114.347607 \n",
       "L 119.037283 113.26864 \n",
       "L 119.64723 114.684549 \n",
       "L 120.257177 115.254757 \n",
       "L 120.867124 114.201107 \n",
       "L 121.477071 113.967189 \n",
       "L 122.087018 112.949659 \n",
       "L 122.696966 112.733835 \n",
       "L 123.306913 111.750348 \n",
       "L 123.91686 111.551335 \n",
       "L 126.356649 113.730433 \n",
       "L 126.966596 112.795028 \n",
       "L 127.576543 112.597474 \n",
       "L 128.18649 113.116473 \n",
       "L 128.796437 112.213643 \n",
       "L 129.406384 113.425789 \n",
       "L 130.016332 113.229715 \n",
       "L 130.626279 112.350909 \n",
       "L 132.45612 113.816392 \n",
       "L 133.066067 113.625586 \n",
       "L 133.676015 114.094161 \n",
       "L 134.285962 113.904261 \n",
       "L 134.895909 114.362254 \n",
       "L 136.115803 113.987624 \n",
       "L 136.72575 113.176883 \n",
       "L 137.335698 113.002668 \n",
       "L 137.945645 112.213643 \n",
       "L 138.555592 113.275522 \n",
       "L 139.165539 113.712384 \n",
       "L 139.775486 112.334175 \n",
       "L 140.385433 113.369389 \n",
       "L 140.995381 112.608984 \n",
       "L 141.605328 113.625586 \n",
       "L 142.215275 113.458827 \n",
       "L 142.825222 112.136421 \n",
       "L 143.435169 111.98379 \n",
       "L 144.045116 112.403708 \n",
       "L 144.655064 113.383075 \n",
       "L 145.265011 113.786038 \n",
       "L 145.874958 113.625586 \n",
       "L 146.484905 114.020728 \n",
       "L 148.314747 113.548298 \n",
       "L 148.924694 113.932538 \n",
       "L 149.534641 112.711378 \n",
       "L 150.144588 113.096104 \n",
       "L 150.754535 112.423933 \n",
       "L 151.364482 112.283242 \n",
       "L 153.804271 113.770651 \n",
       "L 154.414218 112.617058 \n",
       "L 155.024165 112.480764 \n",
       "L 156.24406 113.202001 \n",
       "L 157.463954 112.928904 \n",
       "L 158.683848 111.700211 \n",
       "L 159.293796 112.054229 \n",
       "L 159.903743 111.453358 \n",
       "L 160.51369 111.332296 \n",
       "L 161.123637 111.68193 \n",
       "L 162.953479 111.323504 \n",
       "L 163.563426 110.291824 \n",
       "L 164.173373 110.637105 \n",
       "L 165.393267 110.416619 \n",
       "L 166.003214 109.86181 \n",
       "L 166.613162 110.201403 \n",
       "L 168.443003 109.888077 \n",
       "L 169.05295 110.219573 \n",
       "L 169.662897 110.978189 \n",
       "L 170.272845 110.014099 \n",
       "L 170.882792 109.91314 \n",
       "L 172.102686 111.399366 \n",
       "L 172.712633 111.71108 \n",
       "L 173.32258 111.602853 \n",
       "L 173.932528 112.324079 \n",
       "L 174.542475 111.801821 \n",
       "L 175.152422 112.513978 \n",
       "L 175.762369 111.18183 \n",
       "L 176.372316 111.079457 \n",
       "L 176.982263 111.381052 \n",
       "L 177.592211 112.080076 \n",
       "L 178.202158 111.575989 \n",
       "L 178.812105 111.870095 \n",
       "L 180.031999 111.664555 \n",
       "L 180.641946 111.953546 \n",
       "L 181.251894 112.627618 \n",
       "L 181.861841 112.522506 \n",
       "L 182.471788 113.186647 \n",
       "L 183.081735 111.933432 \n",
       "L 183.691682 111.453358 \n",
       "L 184.301629 110.599991 \n",
       "L 184.911577 111.260399 \n",
       "L 186.131471 111.816313 \n",
       "L 186.741418 111.719463 \n",
       "L 187.961312 110.794707 \n",
       "L 188.57126 111.069472 \n",
       "L 189.181207 110.614815 \n",
       "L 189.791154 109.803002 \n",
       "L 190.401101 110.438424 \n",
       "L 191.011048 109.99341 \n",
       "L 191.620995 109.196277 \n",
       "L 192.230943 109.116139 \n",
       "L 192.84089 109.389744 \n",
       "L 194.060784 107.831278 \n",
       "L 194.670731 108.45508 \n",
       "L 195.280678 108.380267 \n",
       "L 196.500573 108.919093 \n",
       "L 197.11052 109.526381 \n",
       "L 198.330414 110.047369 \n",
       "L 198.940361 109.630422 \n",
       "L 199.550309 110.223494 \n",
       "L 200.160256 109.809519 \n",
       "L 200.770203 108.734429 \n",
       "L 201.38015 108.330781 \n",
       "L 202.600044 108.846213 \n",
       "L 203.209992 109.427068 \n",
       "L 203.819939 109.027475 \n",
       "L 204.429886 108.955058 \n",
       "L 205.039833 109.205577 \n",
       "L 205.64978 109.133028 \n",
       "L 206.259727 108.741587 \n",
       "L 206.869675 109.307939 \n",
       "L 207.479622 109.552659 \n",
       "L 208.699516 109.407694 \n",
       "L 209.309463 109.648902 \n",
       "L 209.91941 109.576618 \n",
       "L 211.749252 110.286124 \n",
       "L 212.969146 111.359502 \n",
       "L 213.579093 111.585787 \n",
       "L 214.798988 110.827524 \n",
       "L 215.408935 110.152878 \n",
       "L 216.018882 110.380389 \n",
       "L 216.628829 110.903762 \n",
       "L 218.458671 111.566501 \n",
       "L 219.068618 111.490925 \n",
       "L 220.898459 110.399068 \n",
       "L 221.508407 110.617642 \n",
       "L 222.118354 110.547214 \n",
       "L 223.338248 111.548397 \n",
       "L 223.948195 111.475207 \n",
       "L 224.558142 111.685509 \n",
       "L 225.16809 111.330507 \n",
       "L 225.778037 111.258974 \n",
       "L 226.387984 111.747431 \n",
       "L 226.997931 111.674871 \n",
       "L 227.607878 111.880489 \n",
       "L 228.217825 112.361159 \n",
       "L 229.43772 112.213643 \n",
       "L 230.047667 111.593629 \n",
       "L 230.657614 111.795768 \n",
       "L 231.267561 111.724887 \n",
       "L 231.877508 112.195605 \n",
       "L 232.487456 112.393347 \n",
       "L 234.927244 112.107371 \n",
       "L 235.537191 112.301888 \n",
       "L 236.147139 111.967431 \n",
       "L 236.757086 112.161064 \n",
       "L 237.97698 113.066281 \n",
       "L 238.586927 113.254027 \n",
       "L 239.806822 113.109028 \n",
       "L 240.416769 113.552054 \n",
       "L 241.026716 112.966029 \n",
       "L 241.636663 113.150881 \n",
       "L 242.856557 114.024517 \n",
       "L 244.686399 114.558914 \n",
       "L 245.296346 114.985062 \n",
       "L 245.906293 114.909177 \n",
       "L 246.51624 115.331293 \n",
       "L 247.126188 115.254757 \n",
       "L 247.736135 114.931644 \n",
       "L 248.346082 114.856941 \n",
       "L 248.956029 115.028185 \n",
       "L 249.565976 115.442944 \n",
       "L 250.175923 115.611139 \n",
       "L 250.785871 115.049106 \n",
       "L 251.395818 115.459734 \n",
       "L 252.005765 115.143315 \n",
       "L 252.615712 115.550973 \n",
       "L 253.225659 115.476203 \n",
       "L 253.835606 115.641029 \n",
       "L 254.445554 116.043152 \n",
       "L 255.055501 116.205106 \n",
       "L 255.665448 116.129199 \n",
       "L 256.885342 116.449484 \n",
       "L 257.495289 116.842682 \n",
       "L 258.105237 116.765726 \n",
       "L 258.715184 116.922356 \n",
       "L 259.325131 117.310373 \n",
       "L 260.545025 116.693608 \n",
       "L 261.76492 116.543473 \n",
       "L 262.984814 116.851342 \n",
       "L 263.594761 116.776485 \n",
       "L 264.204708 116.928773 \n",
       "L 264.814655 116.628128 \n",
       "L 265.424603 115.878702 \n",
       "L 266.03455 116.032316 \n",
       "L 266.644497 115.96106 \n",
       "L 267.254444 115.666965 \n",
       "L 267.864391 115.597232 \n",
       "L 268.474338 115.749853 \n",
       "L 269.084286 115.237735 \n",
       "L 269.694233 114.949295 \n",
       "L 270.30418 115.322445 \n",
       "L 271.524074 114.75015 \n",
       "L 272.134021 114.902572 \n",
       "L 273.353916 115.638235 \n",
       "L 277.013599 116.516433 \n",
       "L 278.233493 116.37889 \n",
       "L 279.453387 116.664082 \n",
       "L 280.063335 116.175492 \n",
       "L 280.673282 115.89906 \n",
       "L 281.283229 116.250615 \n",
       "L 281.893176 116.391979 \n",
       "L 282.503123 115.909619 \n",
       "L 283.11307 116.258203 \n",
       "L 283.723018 116.191873 \n",
       "L 284.332965 115.714097 \n",
       "L 284.942912 115.649645 \n",
       "L 285.552859 115.380778 \n",
       "L 286.162806 115.521801 \n",
       "L 287.382701 116.207713 \n",
       "L 287.992648 116.142797 \n",
       "L 288.602595 116.280207 \n",
       "L 289.822489 116.954576 \n",
       "L 290.432436 116.888335 \n",
       "L 291.652331 116.358389 \n",
       "L 292.872225 116.626924 \n",
       "L 293.482172 116.957791 \n",
       "L 295.312014 116.763252 \n",
       "L 295.921961 116.894675 \n",
       "L 296.531908 116.830344 \n",
       "L 297.141855 117.155456 \n",
       "L 297.751802 117.090771 \n",
       "L 298.36175 117.413519 \n",
       "L 298.971697 117.54154 \n",
       "L 299.581644 117.476359 \n",
       "L 300.191591 117.603552 \n",
       "L 300.801538 117.155456 \n",
       "L 302.021433 117.028418 \n",
       "L 302.63138 116.585248 \n",
       "L 303.851274 116.462087 \n",
       "L 304.461221 116.778219 \n",
       "L 305.071168 116.716462 \n",
       "L 305.681116 116.09203 \n",
       "L 307.510957 116.472548 \n",
       "L 308.120904 116.412326 \n",
       "L 308.730851 116.167098 \n",
       "L 309.340799 116.292799 \n",
       "L 310.560693 116.174454 \n",
       "L 311.17064 115.748759 \n",
       "L 311.780587 114.959093 \n",
       "L 312.390534 114.721067 \n",
       "L 313.610429 114.611879 \n",
       "L 314.220376 114.920168 \n",
       "L 314.830323 114.865347 \n",
       "L 315.44027 114.991159 \n",
       "L 316.050217 114.936438 \n",
       "L 316.660165 115.061466 \n",
       "L 317.270112 115.006844 \n",
       "L 317.880059 115.309721 \n",
       "L 318.490006 115.254757 \n",
       "L 319.099953 115.55559 \n",
       "L 319.7099 115.145624 \n",
       "L 320.319848 115.268365 \n",
       "L 320.929795 115.037541 \n",
       "L 321.539742 115.336021 \n",
       "L 322.149689 114.930473 \n",
       "L 323.369583 114.824411 \n",
       "L 323.979531 114.597342 \n",
       "L 324.589478 114.54535 \n",
       "L 325.199425 114.146386 \n",
       "L 325.809372 114.442082 \n",
       "L 327.639214 114.288976 \n",
       "L 328.859108 114.530471 \n",
       "L 329.469055 114.821186 \n",
       "L 330.079002 114.599342 \n",
       "L 330.688949 114.548542 \n",
       "L 331.298897 114.837213 \n",
       "L 331.908844 114.786093 \n",
       "L 332.518791 114.904063 \n",
       "L 333.128738 114.684549 \n",
       "L 333.738685 114.802209 \n",
       "L 334.348632 114.75163 \n",
       "L 334.95858 115.035939 \n",
       "L 335.568527 115.152019 \n",
       "L 336.178474 114.934417 \n",
       "L 336.788421 115.216406 \n",
       "L 337.398368 114.999631 \n",
       "L 338.008315 115.114751 \n",
       "L 339.838157 114.963964 \n",
       "L 340.448104 115.078145 \n",
       "L 341.058051 115.028185 \n",
       "L 342.277946 115.254757 \n",
       "L 343.49784 115.154947 \n",
       "L 344.107787 115.42906 \n",
       "L 344.717734 115.378989 \n",
       "L 345.327681 115.490287 \n",
       "L 345.937629 115.279499 \n",
       "L 347.76747 116.090417 \n",
       "L 348.377417 116.039562 \n",
       "L 348.987365 115.829869 \n",
       "L 349.597312 115.938526 \n",
       "L 350.207259 115.729937 \n",
       "L 350.817206 115.996395 \n",
       "L 352.0371 115.581636 \n",
       "L 352.647048 115.218515 \n",
       "L 353.256995 115.170378 \n",
       "L 353.866942 115.278814 \n",
       "L 355.696783 115.135219 \n",
       "L 356.306731 115.397911 \n",
       "L 356.916678 115.504746 \n",
       "L 357.526625 115.456707 \n",
       "L 358.746519 115.668809 \n",
       "L 359.356466 115.467256 \n",
       "L 359.966414 115.726005 \n",
       "L 361.186308 115.630204 \n",
       "L 361.796255 115.430385 \n",
       "L 362.406202 115.68709 \n",
       "L 363.016149 115.487978 \n",
       "L 363.626097 115.440956 \n",
       "L 364.845991 115.950135 \n",
       "L 366.065885 116.155091 \n",
       "L 366.675832 116.107196 \n",
       "L 367.28578 115.910039 \n",
       "L 368.505674 116.113514 \n",
       "L 369.115621 116.066083 \n",
       "L 369.725568 115.722337 \n",
       "L 369.725568 115.722337 \n",
       "\" style=\"fill:none;stroke:#ff7f0e;stroke-linecap:square;stroke-width:1.5;\"/>\n",
       "   </g>\n",
       "   <g id=\"line2d_16\">\n",
       "    <path clip-path=\"url(#pa662d2130b)\" d=\"M 65.361932 18.319091 \n",
       "L 65.971879 129.51 \n",
       "L 66.581826 141.864544 \n",
       "L 67.191773 148.041822 \n",
       "L 67.80172 166.573638 \n",
       "L 68.411668 154.219094 \n",
       "L 69.021615 124.215195 \n",
       "L 69.631562 110.978189 \n",
       "L 70.241509 100.68273 \n",
       "L 70.851456 114.684549 \n",
       "L 71.461403 99.185215 \n",
       "L 72.681298 98.148465 \n",
       "L 73.901192 107.271818 \n",
       "L 75.121086 105.527649 \n",
       "L 75.731034 108.919093 \n",
       "L 76.950928 107.271818 \n",
       "L 78.170822 112.662898 \n",
       "L 78.780769 118.229773 \n",
       "L 79.390717 114.066822 \n",
       "L 80.000664 113.202001 \n",
       "L 80.610611 115.254757 \n",
       "L 81.220558 114.410005 \n",
       "L 81.830505 118.920391 \n",
       "L 82.440452 118.007497 \n",
       "L 83.0504 114.684549 \n",
       "L 83.660347 116.358389 \n",
       "L 84.270294 115.611139 \n",
       "L 84.880241 119.401746 \n",
       "L 85.490188 116.428718 \n",
       "L 86.100135 119.979354 \n",
       "L 86.710083 117.155456 \n",
       "L 87.32003 118.491084 \n",
       "L 87.929977 121.707131 \n",
       "L 88.539924 122.857553 \n",
       "L 89.149871 122.09728 \n",
       "L 89.759819 123.182068 \n",
       "L 90.369766 120.685326 \n",
       "L 90.979713 120.028607 \n",
       "L 91.58966 121.086455 \n",
       "L 92.199607 118.802731 \n",
       "L 92.809554 121.45269 \n",
       "L 93.419502 122.412716 \n",
       "L 94.029449 120.2441 \n",
       "L 94.639396 122.702403 \n",
       "L 95.249343 120.614732 \n",
       "L 95.85929 121.515883 \n",
       "L 96.469237 120.956854 \n",
       "L 97.079185 119.0203 \n",
       "L 97.689132 119.900917 \n",
       "L 98.299079 122.09728 \n",
       "L 98.909026 120.2441 \n",
       "L 99.518973 121.056896 \n",
       "L 100.738868 120.087051 \n",
       "L 101.958762 121.611198 \n",
       "L 104.398551 119.816439 \n",
       "L 105.008498 117.155456 \n",
       "L 105.618445 115.680286 \n",
       "L 106.228392 117.51883 \n",
       "L 106.838339 118.229773 \n",
       "L 108.058234 117.503477 \n",
       "L 109.278128 114.786093 \n",
       "L 109.888075 114.484211 \n",
       "L 111.107969 117.805701 \n",
       "L 111.717917 117.476359 \n",
       "L 112.327864 116.205106 \n",
       "L 113.547758 115.611139 \n",
       "L 114.157705 114.410005 \n",
       "L 114.767652 115.950135 \n",
       "L 115.3776 115.666965 \n",
       "L 117.207441 117.44278 \n",
       "L 117.817388 117.155456 \n",
       "L 118.427335 117.717025 \n",
       "L 119.037283 119.098869 \n",
       "L 120.257177 120.142269 \n",
       "L 121.477071 119.546667 \n",
       "L 123.306913 121.016258 \n",
       "L 123.91686 122.250121 \n",
       "L 124.526807 122.702403 \n",
       "L 125.136754 120.899261 \n",
       "L 125.746701 120.614732 \n",
       "L 126.356649 119.601907 \n",
       "L 126.966596 120.062407 \n",
       "L 127.576543 121.233662 \n",
       "L 128.796437 119.273382 \n",
       "L 129.406384 120.418922 \n",
       "L 130.626279 121.273637 \n",
       "L 131.236226 122.369306 \n",
       "L 131.846173 122.09728 \n",
       "L 132.45612 122.497967 \n",
       "L 133.066067 122.229642 \n",
       "L 133.676015 121.310088 \n",
       "L 134.895909 123.386449 \n",
       "L 135.505856 123.119726 \n",
       "L 136.72575 123.856228 \n",
       "L 137.335698 123.592277 \n",
       "L 137.945645 122.715007 \n",
       "L 138.555592 121.239605 \n",
       "L 139.165539 122.218795 \n",
       "L 139.775486 122.579408 \n",
       "L 140.385433 121.7386 \n",
       "L 140.995381 122.690297 \n",
       "L 141.605328 123.038572 \n",
       "L 142.215275 122.797696 \n",
       "L 144.655064 124.134362 \n",
       "L 145.265011 122.771164 \n",
       "L 145.874958 122.543156 \n",
       "L 146.484905 121.212178 \n",
       "L 147.094852 122.09728 \n",
       "L 147.704799 122.424314 \n",
       "L 148.314747 122.205496 \n",
       "L 149.534641 122.843878 \n",
       "L 150.144588 122.626762 \n",
       "L 150.754535 122.938442 \n",
       "L 151.364482 121.67966 \n",
       "L 151.97443 120.956854 \n",
       "L 152.584377 120.758869 \n",
       "L 154.414218 123.206667 \n",
       "L 155.024165 122.998829 \n",
       "L 156.24406 121.603101 \n",
       "L 156.854007 122.391828 \n",
       "L 157.463954 122.194815 \n",
       "L 158.073901 121.515883 \n",
       "L 159.903743 122.382384 \n",
       "L 160.51369 120.775261 \n",
       "L 162.953479 120.071443 \n",
       "L 163.563426 119.443333 \n",
       "L 164.78332 119.114112 \n",
       "L 165.393267 118.053967 \n",
       "L 166.003214 118.792811 \n",
       "L 166.613162 117.303415 \n",
       "L 167.833056 117.886502 \n",
       "L 168.443003 117.300808 \n",
       "L 169.05295 117.155456 \n",
       "L 170.882792 118.007497 \n",
       "L 172.712633 117.574258 \n",
       "L 173.932528 115.637019 \n",
       "L 174.542475 116.331824 \n",
       "L 175.152422 115.380778 \n",
       "L 175.762369 114.847464 \n",
       "L 176.372316 115.130127 \n",
       "L 176.982263 113.798243 \n",
       "L 177.592211 113.682825 \n",
       "L 178.812105 114.248504 \n",
       "L 179.422052 114.132534 \n",
       "L 180.031999 114.410005 \n",
       "L 180.641946 114.294411 \n",
       "L 181.251894 113.791914 \n",
       "L 183.081735 113.461832 \n",
       "L 183.691682 114.114342 \n",
       "L 184.301629 114.003795 \n",
       "L 184.911577 112.765525 \n",
       "L 185.521524 112.662898 \n",
       "L 186.131471 112.188811 \n",
       "L 186.741418 112.090095 \n",
       "L 187.351365 112.361159 \n",
       "L 187.961312 112.262576 \n",
       "L 188.57126 111.7998 \n",
       "L 189.181207 111.704927 \n",
       "L 189.791154 111.972578 \n",
       "L 190.401101 112.597474 \n",
       "L 191.011048 112.500127 \n",
       "L 191.620995 112.047326 \n",
       "L 192.230943 111.953546 \n",
       "L 192.84089 112.213643 \n",
       "L 193.450837 111.768639 \n",
       "L 194.060784 111.6775 \n",
       "L 194.670731 112.283242 \n",
       "L 195.280678 111.84416 \n",
       "L 195.890626 112.098711 \n",
       "L 196.500573 112.694092 \n",
       "L 197.720467 113.188403 \n",
       "L 198.940361 114.347607 \n",
       "L 199.550309 114.583922 \n",
       "L 200.160256 115.152019 \n",
       "L 200.770203 115.382612 \n",
       "L 201.38015 115.280217 \n",
       "L 202.600044 114.422156 \n",
       "L 206.869675 115.988939 \n",
       "L 207.479622 115.57154 \n",
       "L 208.699516 115.375565 \n",
       "L 209.309463 115.591588 \n",
       "L 209.91941 115.182881 \n",
       "L 210.529358 115.708066 \n",
       "L 211.139305 115.920002 \n",
       "L 211.749252 116.437764 \n",
       "L 212.969146 116.240309 \n",
       "L 213.579093 116.750394 \n",
       "L 214.189041 116.953748 \n",
       "L 214.798988 116.552796 \n",
       "L 215.408935 116.75531 \n",
       "L 216.018882 117.255089 \n",
       "L 216.628829 117.155456 \n",
       "L 217.238776 117.353132 \n",
       "L 217.848724 117.844561 \n",
       "L 218.458671 117.449617 \n",
       "L 219.068618 117.35079 \n",
       "L 219.678565 117.83642 \n",
       "L 220.288512 117.736853 \n",
       "L 221.508407 118.116906 \n",
       "L 222.728301 119.0635 \n",
       "L 223.338248 118.676024 \n",
       "L 223.948195 118.007497 \n",
       "L 225.16809 117.813113 \n",
       "L 225.778037 117.99781 \n",
       "L 226.387984 117.621667 \n",
       "L 228.217825 117.339855 \n",
       "L 228.827773 117.798444 \n",
       "L 229.43772 117.43 \n",
       "L 230.657614 117.246297 \n",
       "L 231.877508 117.606357 \n",
       "L 233.70735 116.531046 \n",
       "L 234.317297 116.444403 \n",
       "L 234.927244 116.889771 \n",
       "L 235.537191 117.067211 \n",
       "L 236.147139 116.452002 \n",
       "L 236.757086 116.366872 \n",
       "L 238.586927 116.89536 \n",
       "L 239.196874 116.809876 \n",
       "L 239.806822 116.983273 \n",
       "L 240.416769 116.898077 \n",
       "L 241.026716 117.069961 \n",
       "L 241.636663 117.496275 \n",
       "L 242.24661 116.645989 \n",
       "L 242.856557 116.055402 \n",
       "L 243.466505 115.974823 \n",
       "L 244.076452 116.146928 \n",
       "L 244.686399 115.81531 \n",
       "L 245.906293 115.65794 \n",
       "L 246.51624 115.082552 \n",
       "L 247.126188 115.006844 \n",
       "L 247.736135 115.178728 \n",
       "L 248.346082 115.103208 \n",
       "L 248.956029 114.537275 \n",
       "L 249.565976 114.464373 \n",
       "L 250.175923 114.635782 \n",
       "L 250.785871 115.049106 \n",
       "L 251.395818 114.975242 \n",
       "L 252.005765 115.143315 \n",
       "L 252.615712 114.828951 \n",
       "L 253.225659 115.23631 \n",
       "L 253.835606 115.162789 \n",
       "L 254.445554 114.851396 \n",
       "L 256.885342 115.508192 \n",
       "L 257.495289 115.435201 \n",
       "L 258.105237 115.596525 \n",
       "L 259.325131 114.521888 \n",
       "L 260.545025 114.384346 \n",
       "L 261.154972 114.086009 \n",
       "L 261.76492 114.248504 \n",
       "L 262.984814 114.114342 \n",
       "L 263.594761 114.275257 \n",
       "L 264.204708 114.208507 \n",
       "L 264.814655 114.59415 \n",
       "L 266.644497 115.065266 \n",
       "L 267.254444 115.443684 \n",
       "L 267.864391 115.597232 \n",
       "L 268.474338 115.52792 \n",
       "L 269.084286 115.901567 \n",
       "L 270.30418 116.20229 \n",
       "L 270.914127 116.132005 \n",
       "L 271.524074 116.280803 \n",
       "L 272.134021 115.992684 \n",
       "L 272.743969 115.923625 \n",
       "L 273.353916 115.638235 \n",
       "L 273.963863 115.570623 \n",
       "L 274.57381 115.287916 \n",
       "L 276.403652 115.090439 \n",
       "L 277.013599 115.238376 \n",
       "L 277.623546 115.173073 \n",
       "L 278.233493 115.319927 \n",
       "L 278.84344 115.254757 \n",
       "L 279.453387 115.40055 \n",
       "L 280.063335 115.335524 \n",
       "L 280.673282 115.689664 \n",
       "L 281.283229 115.833006 \n",
       "L 282.503123 116.532538 \n",
       "L 284.332965 116.949551 \n",
       "L 284.942912 117.292347 \n",
       "L 285.552859 116.814173 \n",
       "L 286.162806 117.155456 \n",
       "L 286.772753 117.087579 \n",
       "L 287.382701 117.426244 \n",
       "L 289.212542 117.826898 \n",
       "L 289.822489 117.356346 \n",
       "L 290.432436 117.489371 \n",
       "L 291.042384 117.821475 \n",
       "L 291.652331 117.553989 \n",
       "L 292.262278 117.685412 \n",
       "L 293.482172 117.550808 \n",
       "L 294.092119 117.28689 \n",
       "L 294.702067 117.221002 \n",
       "L 295.312014 117.351563 \n",
       "L 295.921961 117.090263 \n",
       "L 296.531908 116.635264 \n",
       "L 297.141855 116.571783 \n",
       "L 297.751802 116.896729 \n",
       "L 299.581644 116.7062 \n",
       "L 300.191591 116.835392 \n",
       "L 301.411485 116.327582 \n",
       "L 303.241327 116.144343 \n",
       "L 304.461221 116.400982 \n",
       "L 305.071168 116.716462 \n",
       "L 305.681116 116.842682 \n",
       "L 306.291063 116.593886 \n",
       "L 306.90101 116.533068 \n",
       "L 308.120904 116.783896 \n",
       "L 308.730851 116.537729 \n",
       "L 309.340799 116.107947 \n",
       "L 309.950746 115.864685 \n",
       "L 310.560693 115.806573 \n",
       "L 311.17064 115.381784 \n",
       "L 311.780587 115.691221 \n",
       "L 312.390534 115.816547 \n",
       "L 313.000482 115.75912 \n",
       "L 313.610429 116.065354 \n",
       "L 314.220376 116.007607 \n",
       "L 316.050217 116.375808 \n",
       "L 316.660165 116.317862 \n",
       "L 317.270112 115.723044 \n",
       "L 318.490006 116.323904 \n",
       "L 319.099953 116.444403 \n",
       "L 319.7099 116.386998 \n",
       "L 320.319848 116.152948 \n",
       "L 320.929795 116.449484 \n",
       "L 321.539742 116.392465 \n",
       "L 322.149689 116.511385 \n",
       "L 322.759636 116.104004 \n",
       "L 323.979531 116.341511 \n",
       "L 324.589478 115.937411 \n",
       "L 325.809372 115.827637 \n",
       "L 326.419319 115.945927 \n",
       "L 327.029266 115.891272 \n",
       "L 327.639214 115.492894 \n",
       "L 328.249161 115.439553 \n",
       "L 328.859108 115.044058 \n",
       "L 329.469055 115.162789 \n",
       "L 330.079002 115.451383 \n",
       "L 330.688949 115.398617 \n",
       "L 331.298897 115.176475 \n",
       "L 333.738685 114.970305 \n",
       "L 334.95858 115.203272 \n",
       "L 335.568527 114.985062 \n",
       "L 337.398368 115.331293 \n",
       "L 338.008315 114.949295 \n",
       "L 338.618263 115.064271 \n",
       "L 339.22821 115.343455 \n",
       "L 339.838157 115.128326 \n",
       "L 340.448104 115.078145 \n",
       "L 341.058051 114.864552 \n",
       "L 341.667998 114.325339 \n",
       "L 342.887893 114.554507 \n",
       "L 343.49784 114.343918 \n",
       "L 344.107787 113.972414 \n",
       "L 344.717734 114.248504 \n",
       "L 345.327681 113.878823 \n",
       "L 345.937629 113.993125 \n",
       "L 347.157523 113.900053 \n",
       "L 348.377417 113.170122 \n",
       "L 348.987365 113.443794 \n",
       "L 349.597312 113.398826 \n",
       "L 350.207259 113.670841 \n",
       "L 350.817206 113.625586 \n",
       "L 351.427153 113.422807 \n",
       "L 352.0371 113.693043 \n",
       "L 352.647048 113.64802 \n",
       "L 353.256995 113.759914 \n",
       "L 353.866942 113.714958 \n",
       "L 354.476889 113.982289 \n",
       "L 355.086836 114.09278 \n",
       "L 355.696783 113.892 \n",
       "L 356.306731 114.157288 \n",
       "L 356.916678 114.266719 \n",
       "L 358.136572 114.175988 \n",
       "L 358.746519 114.28469 \n",
       "L 359.966414 114.807069 \n",
       "L 360.576361 114.760975 \n",
       "L 361.186308 114.867578 \n",
       "L 361.796255 115.125962 \n",
       "L 362.406202 114.92759 \n",
       "L 363.626097 114.835833 \n",
       "L 364.236044 114.941199 \n",
       "L 365.455938 115.451383 \n",
       "L 366.065885 115.404814 \n",
       "L 366.675832 115.208685 \n",
       "L 368.505674 115.518111 \n",
       "L 369.115621 115.471873 \n",
       "L 369.725568 115.57408 \n",
       "L 369.725568 115.57408 \n",
       "\" style=\"fill:none;stroke:#2ca02c;stroke-linecap:square;stroke-width:1.5;\"/>\n",
       "   </g>\n",
       "   <g id=\"line2d_17\">\n",
       "    <path clip-path=\"url(#pa662d2130b)\" d=\"M 65.361932 166.573638 \n",
       "L 65.971879 129.51 \n",
       "L 66.581826 117.155456 \n",
       "L 67.191773 110.978189 \n",
       "L 67.80172 122.09728 \n",
       "L 68.411668 129.51 \n",
       "L 69.021615 124.215195 \n",
       "L 69.631562 138.775911 \n",
       "L 70.241509 125.391819 \n",
       "L 71.461403 132.879429 \n",
       "L 72.071351 129.51 \n",
       "L 72.681298 138.063146 \n",
       "L 73.901192 141.864544 \n",
       "L 74.511139 143.408872 \n",
       "L 75.121086 136.050641 \n",
       "L 76.340981 139.263595 \n",
       "L 76.950928 140.629091 \n",
       "L 77.560875 145.394414 \n",
       "L 78.170822 142.987695 \n",
       "L 78.780769 147.236095 \n",
       "L 80.000664 142.852914 \n",
       "L 80.610611 138.063146 \n",
       "L 81.220558 141.864544 \n",
       "L 81.830505 140.099609 \n",
       "L 83.660347 142.661622 \n",
       "L 84.270294 141.092386 \n",
       "L 85.490188 142.591282 \n",
       "L 86.100135 141.158572 \n",
       "L 86.710083 141.864544 \n",
       "L 87.32003 144.5358 \n",
       "L 87.929977 139.263595 \n",
       "L 88.539924 132.361049 \n",
       "L 89.759819 134.029962 \n",
       "L 90.369766 133.03987 \n",
       "L 91.58966 137.933556 \n",
       "L 92.199607 136.922731 \n",
       "L 92.809554 134.344393 \n",
       "L 93.419502 135.030117 \n",
       "L 94.029449 131.054328 \n",
       "L 94.639396 128.753604 \n",
       "L 95.249343 129.51 \n",
       "L 95.85929 124.422835 \n",
       "L 96.469237 125.233433 \n",
       "L 97.079185 127.412067 \n",
       "L 97.689132 125.391819 \n",
       "L 98.909026 124.215195 \n",
       "L 99.518973 126.258805 \n",
       "L 100.12892 125.67584 \n",
       "L 100.738868 126.369021 \n",
       "L 101.348815 123.332733 \n",
       "L 103.178656 125.391819 \n",
       "L 103.788603 123.718807 \n",
       "L 104.398551 123.237695 \n",
       "L 105.618445 124.531305 \n",
       "L 106.838339 123.601313 \n",
       "L 107.448286 124.215195 \n",
       "L 108.058234 125.855843 \n",
       "L 111.107969 128.534643 \n",
       "L 111.717917 128.065968 \n",
       "L 112.937811 130.917481 \n",
       "L 113.547758 131.363191 \n",
       "L 114.157705 132.713035 \n",
       "L 115.3776 133.528957 \n",
       "L 115.987547 133.03987 \n",
       "L 116.597494 133.434393 \n",
       "L 117.207441 132.957788 \n",
       "L 118.427335 135.406493 \n",
       "L 119.037283 134.090902 \n",
       "L 119.64723 133.628181 \n",
       "L 120.257177 133.990219 \n",
       "L 121.477071 133.096811 \n",
       "L 122.087018 131.087178 \n",
       "L 122.696966 130.680438 \n",
       "L 123.306913 131.054328 \n",
       "L 123.91686 129.892108 \n",
       "L 124.526807 129.51 \n",
       "L 125.136754 130.633139 \n",
       "L 125.746701 130.992548 \n",
       "L 126.966596 130.236738 \n",
       "L 128.18649 128.084481 \n",
       "L 128.796437 127.745065 \n",
       "L 129.406384 128.111378 \n",
       "L 130.016332 127.778059 \n",
       "L 130.626279 128.13728 \n",
       "L 131.236226 126.449699 \n",
       "L 131.846173 125.466698 \n",
       "L 133.066067 124.87705 \n",
       "L 133.676015 123.934057 \n",
       "L 134.285962 124.308091 \n",
       "L 134.895909 125.320197 \n",
       "L 136.115803 124.758252 \n",
       "L 136.72575 123.856228 \n",
       "L 137.335698 123.592277 \n",
       "L 137.945645 124.568187 \n",
       "L 138.555592 124.302711 \n",
       "L 139.165539 122.826393 \n",
       "L 139.775486 122.579408 \n",
       "L 140.385433 123.532 \n",
       "L 140.995381 123.283314 \n",
       "L 141.605328 123.626884 \n",
       "L 142.215275 123.381368 \n",
       "L 143.435169 124.051021 \n",
       "L 144.045116 123.807903 \n",
       "L 144.655064 124.134362 \n",
       "L 145.265011 123.894303 \n",
       "L 145.874958 124.772546 \n",
       "L 146.484905 125.084491 \n",
       "L 147.094852 123.195456 \n",
       "L 147.704799 123.514415 \n",
       "L 148.924694 123.064154 \n",
       "L 150.144588 123.685714 \n",
       "L 150.754535 124.515609 \n",
       "L 151.364482 124.289777 \n",
       "L 151.97443 124.585462 \n",
       "L 152.584377 124.362282 \n",
       "L 153.194324 122.608503 \n",
       "L 153.804271 121.894192 \n",
       "L 154.414218 122.198128 \n",
       "L 155.024165 121.997106 \n",
       "L 155.634113 122.296282 \n",
       "L 156.24406 122.09728 \n",
       "L 158.683848 123.252508 \n",
       "L 159.293796 122.09728 \n",
       "L 160.51369 122.663854 \n",
       "L 161.123637 121.534285 \n",
       "L 161.733584 122.283756 \n",
       "L 162.953479 122.833948 \n",
       "L 163.563426 123.561515 \n",
       "L 164.78332 123.182068 \n",
       "L 165.393267 123.894303 \n",
       "L 166.003214 123.704856 \n",
       "L 166.613162 124.405427 \n",
       "L 167.223109 123.77397 \n",
       "L 168.443003 124.277494 \n",
       "L 169.05295 123.657856 \n",
       "L 169.662897 123.476384 \n",
       "L 170.272845 123.725512 \n",
       "L 170.882792 123.119726 \n",
       "L 171.492739 122.944451 \n",
       "L 172.102686 122.349986 \n",
       "L 172.712633 121.343436 \n",
       "L 173.32258 121.597545 \n",
       "L 173.932528 122.262923 \n",
       "L 175.152422 121.933459 \n",
       "L 175.762369 122.586025 \n",
       "L 176.982263 123.064154 \n",
       "L 177.592211 121.696593 \n",
       "L 178.202158 122.3364 \n",
       "L 178.812105 122.176556 \n",
       "L 180.641946 122.877568 \n",
       "L 181.251894 123.494444 \n",
       "L 181.861841 123.718807 \n",
       "L 182.471788 124.324936 \n",
       "L 183.081735 124.160618 \n",
       "L 184.911577 124.8065 \n",
       "L 186.741418 124.321092 \n",
       "L 187.351365 124.531305 \n",
       "L 187.961312 124.372466 \n",
       "L 188.57126 124.580359 \n",
       "L 189.181207 124.422835 \n",
       "L 189.791154 124.628453 \n",
       "L 190.401101 124.112392 \n",
       "L 191.011048 123.959407 \n",
       "L 191.620995 124.164285 \n",
       "L 192.230943 124.012527 \n",
       "L 192.84089 123.156243 \n",
       "L 194.060784 124.265156 \n",
       "L 194.670731 123.767751 \n",
       "L 195.280678 123.621394 \n",
       "L 195.890626 122.786838 \n",
       "L 196.500573 121.273637 \n",
       "L 197.720467 120.329109 \n",
       "L 198.330414 120.201784 \n",
       "L 198.940361 120.412571 \n",
       "L 199.550309 119.950602 \n",
       "L 200.160256 120.494531 \n",
       "L 200.770203 120.368752 \n",
       "L 201.38015 120.905944 \n",
       "L 202.600044 121.310088 \n",
       "L 204.429886 119.960863 \n",
       "L 205.64978 121.006229 \n",
       "L 206.259727 120.883123 \n",
       "L 206.869675 120.442936 \n",
       "L 207.479622 120.323288 \n",
       "L 208.089569 120.835538 \n",
       "L 208.699516 121.029337 \n",
       "L 209.309463 120.908738 \n",
       "L 209.91941 121.100604 \n",
       "L 210.529358 120.980713 \n",
       "L 211.139305 120.552963 \n",
       "L 211.749252 120.436331 \n",
       "L 212.359199 120.014358 \n",
       "L 212.969146 120.205959 \n",
       "L 213.579093 120.699796 \n",
       "L 214.798988 121.072758 \n",
       "L 215.408935 120.65675 \n",
       "L 216.018882 120.8419 \n",
       "L 216.628829 120.430156 \n",
       "L 217.238776 119.7252 \n",
       "L 217.848724 119.321199 \n",
       "L 218.458671 119.802864 \n",
       "L 219.068618 119.987727 \n",
       "L 219.678565 120.462973 \n",
       "L 220.898459 120.823211 \n",
       "L 221.508407 120.424368 \n",
       "L 222.118354 120.603244 \n",
       "L 222.728301 120.208323 \n",
       "L 223.948195 119.99558 \n",
       "L 224.558142 120.173363 \n",
       "L 225.16809 120.067941 \n",
       "L 225.778037 119.401746 \n",
       "L 226.387984 119.0203 \n",
       "L 226.997931 119.199066 \n",
       "L 227.607878 118.821243 \n",
       "L 228.827773 119.176278 \n",
       "L 230.047667 118.979011 \n",
       "L 230.657614 119.153988 \n",
       "L 231.877508 118.95904 \n",
       "L 232.487456 119.132183 \n",
       "L 234.317297 120.444085 \n",
       "L 234.927244 120.609419 \n",
       "L 235.537191 120.508835 \n",
       "L 236.757086 120.835538 \n",
       "L 237.367033 120.73522 \n",
       "L 237.97698 121.157634 \n",
       "L 238.586927 120.536704 \n",
       "L 239.196874 120.956854 \n",
       "L 239.806822 120.857519 \n",
       "L 240.416769 120.2441 \n",
       "L 241.026716 120.660903 \n",
       "L 241.636663 120.308 \n",
       "L 242.24661 120.721722 \n",
       "L 242.856557 119.863306 \n",
       "L 243.466505 119.769737 \n",
       "L 244.076452 119.172523 \n",
       "L 244.686399 119.584488 \n",
       "L 245.906293 118.902563 \n",
       "L 246.51624 119.062539 \n",
       "L 247.126188 118.973521 \n",
       "L 247.736135 118.638004 \n",
       "L 249.565976 118.378681 \n",
       "L 250.175923 118.049538 \n",
       "L 250.785871 117.96559 \n",
       "L 251.395818 117.397702 \n",
       "L 252.615712 117.717025 \n",
       "L 253.225659 117.395349 \n",
       "L 253.835606 117.553989 \n",
       "L 254.445554 117.473266 \n",
       "L 255.055501 117.868221 \n",
       "L 255.665448 117.787001 \n",
       "L 256.275395 117.942371 \n",
       "L 256.885342 117.626107 \n",
       "L 257.495289 117.546423 \n",
       "L 258.715184 116.922356 \n",
       "L 259.325131 116.845631 \n",
       "L 259.935078 117.001024 \n",
       "L 260.545025 117.386391 \n",
       "L 261.76492 117.690946 \n",
       "L 262.374867 118.070613 \n",
       "L 264.814655 117.758116 \n",
       "L 266.03455 118.053967 \n",
       "L 266.644497 117.752659 \n",
       "L 267.254444 117.676432 \n",
       "L 267.864391 117.823275 \n",
       "L 268.474338 117.747291 \n",
       "L 269.084286 118.114322 \n",
       "L 269.694233 118.037929 \n",
       "L 270.914127 118.763739 \n",
       "L 271.524074 118.686109 \n",
       "L 272.134021 118.390909 \n",
       "L 272.743969 118.314825 \n",
       "L 273.353916 118.672688 \n",
       "L 275.183757 119.089215 \n",
       "L 275.793704 119.012215 \n",
       "L 276.403652 119.362897 \n",
       "L 277.013599 119.072547 \n",
       "L 277.623546 118.996253 \n",
       "L 278.233493 119.343976 \n",
       "L 280.063335 119.115383 \n",
       "L 280.673282 118.621248 \n",
       "L 281.283229 118.756327 \n",
       "L 281.893176 118.68243 \n",
       "L 282.503123 118.816571 \n",
       "L 283.11307 118.742917 \n",
       "L 283.723018 118.463182 \n",
       "L 284.332965 118.390909 \n",
       "L 284.942912 117.908372 \n",
       "L 285.552859 118.247578 \n",
       "L 286.162806 117.972283 \n",
       "L 286.772753 117.902165 \n",
       "L 287.382701 117.629333 \n",
       "L 287.992648 117.763064 \n",
       "L 288.602595 117.290115 \n",
       "L 289.212542 117.021172 \n",
       "L 289.822489 117.356346 \n",
       "L 290.432436 117.289022 \n",
       "L 291.042384 117.621667 \n",
       "L 292.262278 117.884149 \n",
       "L 292.872225 117.816129 \n",
       "L 293.482172 117.946149 \n",
       "L 294.092119 117.878328 \n",
       "L 294.702067 118.007497 \n",
       "L 295.312014 117.939875 \n",
       "L 295.921961 117.48144 \n",
       "L 298.36175 117.994154 \n",
       "L 298.971697 117.927614 \n",
       "L 299.581644 118.053967 \n",
       "L 300.191591 117.987626 \n",
       "L 300.801538 118.304719 \n",
       "L 302.63138 118.105805 \n",
       "L 303.241327 117.850603 \n",
       "L 303.851274 117.785797 \n",
       "L 304.461221 117.344074 \n",
       "L 305.071168 117.657168 \n",
       "L 306.90101 118.026817 \n",
       "L 307.510957 118.335039 \n",
       "L 308.120904 118.270156 \n",
       "L 309.340799 118.511066 \n",
       "L 309.950746 118.815025 \n",
       "L 310.560693 118.749589 \n",
       "L 311.17064 119.051449 \n",
       "L 311.780587 118.98576 \n",
       "L 312.390534 119.102978 \n",
       "L 313.610429 118.608932 \n",
       "L 314.220376 118.544965 \n",
       "L 314.830323 118.662106 \n",
       "L 316.050217 119.254538 \n",
       "L 316.660165 119.189622 \n",
       "L 317.270112 119.483131 \n",
       "L 317.880059 119.417983 \n",
       "L 318.490006 119.174953 \n",
       "L 319.099953 119.110854 \n",
       "L 319.7099 119.401746 \n",
       "L 320.319848 119.514325 \n",
       "L 320.929795 119.273382 \n",
       "L 322.149689 119.146245 \n",
       "L 323.369583 119.369956 \n",
       "L 323.979531 119.306608 \n",
       "L 324.589478 119.417563 \n",
       "L 325.199425 119.701596 \n",
       "L 325.809372 119.811104 \n",
       "L 326.419319 119.747325 \n",
       "L 327.029266 120.028607 \n",
       "L 327.639214 120.136602 \n",
       "L 328.859108 120.693477 \n",
       "L 329.469055 120.799197 \n",
       "L 330.079002 120.734016 \n",
       "L 331.298897 120.943809 \n",
       "L 332.518791 120.476272 \n",
       "L 333.128738 120.412571 \n",
       "L 333.738685 120.685326 \n",
       "L 334.348632 120.621437 \n",
       "L 334.95858 120.223179 \n",
       "L 335.568527 119.993669 \n",
       "L 336.178474 120.098339 \n",
       "L 336.788421 119.703926 \n",
       "L 337.398368 119.477122 \n",
       "L 338.008315 119.582245 \n",
       "L 339.22821 119.461636 \n",
       "L 339.838157 119.566107 \n",
       "L 342.277946 119.327683 \n",
       "L 342.887893 119.593855 \n",
       "L 343.49784 119.696658 \n",
       "L 344.107787 119.960863 \n",
       "L 344.717734 119.739416 \n",
       "L 347.76747 119.44531 \n",
       "L 348.377417 119.70608 \n",
       "L 348.987365 119.488511 \n",
       "L 349.597312 119.430597 \n",
       "L 350.207259 119.531335 \n",
       "L 350.817206 119.315533 \n",
       "L 351.427153 119.416083 \n",
       "L 352.0371 119.358822 \n",
       "L 352.647048 119.615902 \n",
       "L 353.256995 119.715171 \n",
       "L 353.866942 119.657644 \n",
       "L 355.086836 119.854768 \n",
       "L 355.696783 119.641904 \n",
       "L 356.306731 119.119779 \n",
       "L 356.916678 119.218849 \n",
       "L 357.526625 119.471942 \n",
       "L 358.136572 119.26164 \n",
       "L 359.356466 119.150608 \n",
       "L 361.186308 119.443333 \n",
       "L 361.796255 119.235694 \n",
       "L 362.406202 118.876992 \n",
       "L 363.016149 118.974537 \n",
       "L 363.626097 119.222958 \n",
       "L 364.236044 119.319388 \n",
       "L 364.845991 118.812771 \n",
       "L 365.455938 118.608932 \n",
       "L 367.28578 118.899039 \n",
       "L 368.505674 118.792811 \n",
       "L 369.115621 118.888557 \n",
       "L 369.725568 118.83568 \n",
       "L 369.725568 118.83568 \n",
       "\" style=\"fill:none;stroke:#d62728;stroke-linecap:square;stroke-width:1.5;\"/>\n",
       "   </g>\n",
       "   <g id=\"line2d_18\">\n",
       "    <path clip-path=\"url(#pa662d2130b)\" d=\"M 65.361932 18.319091 \n",
       "L 65.971879 55.382735 \n",
       "L 66.581826 43.028179 \n",
       "L 67.191773 73.914557 \n",
       "L 67.80172 62.795466 \n",
       "L 68.411668 92.446367 \n",
       "L 69.021615 92.446367 \n",
       "L 69.631562 83.180456 \n",
       "L 70.241509 100.68273 \n",
       "L 70.851456 92.446367 \n",
       "L 71.461403 92.446367 \n",
       "L 72.071351 98.623645 \n",
       "L 72.681298 109.552659 \n",
       "L 73.901192 107.271818 \n",
       "L 75.121086 114.248504 \n",
       "L 76.340981 104.150677 \n",
       "L 76.950928 107.271818 \n",
       "L 78.170822 105.924051 \n",
       "L 78.780769 102.115142 \n",
       "L 79.390717 104.800912 \n",
       "L 80.000664 98.37655 \n",
       "L 81.220558 103.428192 \n",
       "L 81.830505 105.683385 \n",
       "L 82.440452 102.670824 \n",
       "L 83.0504 107.271818 \n",
       "L 84.880241 105.924051 \n",
       "L 85.490188 109.888077 \n",
       "L 86.100135 109.389744 \n",
       "L 86.710083 110.978189 \n",
       "L 87.32003 106.470444 \n",
       "L 87.929977 106.101392 \n",
       "L 88.539924 107.65196 \n",
       "L 89.149871 110.978189 \n",
       "L 89.759819 112.334175 \n",
       "L 90.369766 111.860651 \n",
       "L 90.979713 107.961376 \n",
       "L 91.58966 105.924051 \n",
       "L 92.199607 108.919093 \n",
       "L 92.809554 106.949534 \n",
       "L 93.419502 106.640958 \n",
       "L 94.029449 107.889556 \n",
       "L 94.639396 106.061582 \n",
       "L 95.85929 108.434601 \n",
       "L 96.469237 105.276092 \n",
       "L 97.689132 107.546373 \n",
       "L 98.299079 107.271818 \n",
       "L 98.909026 108.330781 \n",
       "L 99.518973 106.751637 \n",
       "L 100.12892 109.061098 \n",
       "L 100.738868 110.035892 \n",
       "L 101.958762 109.45919 \n",
       "L 102.568709 110.380389 \n",
       "L 103.178656 108.919093 \n",
       "L 103.788603 110.978189 \n",
       "L 105.008498 112.662898 \n",
       "L 105.618445 112.361159 \n",
       "L 106.228392 114.248504 \n",
       "L 107.448286 115.743512 \n",
       "L 108.058234 114.371334 \n",
       "L 108.668181 114.066822 \n",
       "L 109.888075 117.489371 \n",
       "L 110.498022 117.155456 \n",
       "L 111.107969 117.805701 \n",
       "L 111.717917 116.51366 \n",
       "L 112.327864 118.105805 \n",
       "L 112.937811 117.781003 \n",
       "L 113.547758 116.537729 \n",
       "L 114.157705 116.240309 \n",
       "L 114.767652 117.758116 \n",
       "L 115.3776 116.560064 \n",
       "L 115.987547 116.272994 \n",
       "L 116.597494 114.248504 \n",
       "L 117.207441 113.133053 \n",
       "L 117.817388 113.747311 \n",
       "L 118.427335 110.135835 \n",
       "L 119.037283 110.769964 \n",
       "L 119.64723 109.742736 \n",
       "L 120.257177 109.552659 \n",
       "L 120.867124 110.978189 \n",
       "L 121.477071 111.575989 \n",
       "L 122.087018 112.949659 \n",
       "L 122.696966 112.733835 \n",
       "L 123.306913 111.750348 \n",
       "L 125.136754 113.411662 \n",
       "L 125.746701 112.460738 \n",
       "L 126.966596 112.068291 \n",
       "L 127.576543 112.597474 \n",
       "L 128.18649 112.403708 \n",
       "L 128.796437 113.625586 \n",
       "L 129.406384 112.027156 \n",
       "L 131.236226 113.528438 \n",
       "L 131.846173 114.684549 \n",
       "L 132.45612 115.152019 \n",
       "L 133.066067 114.949295 \n",
       "L 133.676015 116.06214 \n",
       "L 134.285962 115.854976 \n",
       "L 134.895909 114.362254 \n",
       "L 135.505856 115.451383 \n",
       "L 136.115803 115.254757 \n",
       "L 136.72575 116.317862 \n",
       "L 137.945645 117.155456 \n",
       "L 139.165539 115.535188 \n",
       "L 139.775486 115.347475 \n",
       "L 140.385433 115.760589 \n",
       "L 140.995381 114.388046 \n",
       "L 141.605328 113.625586 \n",
       "L 142.215275 114.0425 \n",
       "L 143.435169 116.006204 \n",
       "L 144.045116 116.395183 \n",
       "L 144.655064 116.212363 \n",
       "L 145.265011 117.155456 \n",
       "L 145.874958 116.969676 \n",
       "L 146.484905 117.339855 \n",
       "L 147.094852 117.155456 \n",
       "L 147.704799 118.063886 \n",
       "L 148.314747 117.876892 \n",
       "L 148.924694 116.618308 \n",
       "L 149.534641 115.911122 \n",
       "L 150.144588 116.802475 \n",
       "L 150.754535 116.104004 \n",
       "L 151.364482 116.459425 \n",
       "L 152.584377 115.096371 \n",
       "L 153.804271 116.816979 \n",
       "L 155.024165 116.487647 \n",
       "L 155.634113 117.321298 \n",
       "L 156.24406 117.649646 \n",
       "L 157.463954 117.318017 \n",
       "L 158.683848 116.032316 \n",
       "L 159.293796 115.880149 \n",
       "L 160.51369 116.525932 \n",
       "L 161.733584 116.223045 \n",
       "L 162.343531 115.611139 \n",
       "L 164.173373 116.549106 \n",
       "L 164.78332 115.950135 \n",
       "L 165.393267 116.256944 \n",
       "L 166.003214 117.006613 \n",
       "L 168.443003 116.428718 \n",
       "L 169.05295 115.854976 \n",
       "L 169.662897 114.856941 \n",
       "L 170.272845 114.727396 \n",
       "L 170.882792 115.451383 \n",
       "L 171.492739 115.743512 \n",
       "L 172.102686 115.611139 \n",
       "L 173.32258 117.016643 \n",
       "L 173.932528 116.879376 \n",
       "L 174.542475 116.331824 \n",
       "L 175.152422 116.609405 \n",
       "L 175.762369 117.29122 \n",
       "L 176.982263 117.021172 \n",
       "L 177.592211 117.689709 \n",
       "L 178.202158 117.952522 \n",
       "L 179.422052 116.892598 \n",
       "L 180.031999 117.155456 \n",
       "L 181.251894 116.120528 \n",
       "L 181.861841 115.997224 \n",
       "L 182.471788 114.722955 \n",
       "L 183.081735 115.372328 \n",
       "L 183.691682 114.874626 \n",
       "L 184.301629 115.516587 \n",
       "L 185.521524 114.534801 \n",
       "L 186.131471 114.7963 \n",
       "L 186.741418 115.425823 \n",
       "L 187.351365 114.942701 \n",
       "L 187.961312 115.565266 \n",
       "L 188.57126 114.721067 \n",
       "L 189.181207 115.338617 \n",
       "L 189.791154 115.226943 \n",
       "L 191.011048 115.723044 \n",
       "L 191.620995 116.323904 \n",
       "L 194.060784 117.272011 \n",
       "L 194.670731 116.807446 \n",
       "L 196.500573 116.46909 \n",
       "L 197.11052 116.016797 \n",
       "L 197.720467 116.248704 \n",
       "L 199.550309 114.919339 \n",
       "L 200.160256 113.816392 \n",
       "L 201.38015 114.949295 \n",
       "L 202.600044 115.40614 \n",
       "L 203.209992 115.305004 \n",
       "L 203.819939 115.854976 \n",
       "L 204.429886 116.076456 \n",
       "L 205.039833 115.329139 \n",
       "L 205.64978 114.909177 \n",
       "L 206.259727 114.81236 \n",
       "L 206.869675 115.034503 \n",
       "L 207.479622 114.304407 \n",
       "L 208.699516 114.119169 \n",
       "L 209.309463 113.714958 \n",
       "L 209.91941 113.937045 \n",
       "L 210.529358 113.847132 \n",
       "L 211.749252 114.28469 \n",
       "L 212.359199 114.807069 \n",
       "L 213.579093 114.016188 \n",
       "L 214.189041 114.230709 \n",
       "L 214.798988 114.142155 \n",
       "L 215.408935 114.654538 \n",
       "L 216.018882 114.863889 \n",
       "L 216.628829 115.369258 \n",
       "L 217.238776 115.57408 \n",
       "L 219.068618 115.299835 \n",
       "L 219.678565 114.918025 \n",
       "L 220.288512 115.411287 \n",
       "L 220.898459 115.032018 \n",
       "L 221.508407 114.944137 \n",
       "L 222.118354 114.282304 \n",
       "L 222.728301 113.911794 \n",
       "L 223.338248 113.829238 \n",
       "L 223.948195 114.315331 \n",
       "L 224.558142 114.514797 \n",
       "L 225.16809 114.430882 \n",
       "L 226.387984 115.38386 \n",
       "L 226.997931 115.297637 \n",
       "L 227.607878 115.767305 \n",
       "L 228.827773 115.593919 \n",
       "L 230.047667 116.517217 \n",
       "L 230.657614 116.428718 \n",
       "L 231.267561 116.069342 \n",
       "L 231.877508 116.253664 \n",
       "L 233.097403 117.155456 \n",
       "L 233.70735 116.798654 \n",
       "L 234.317297 116.711049 \n",
       "L 234.927244 116.092704 \n",
       "L 235.537191 116.272994 \n",
       "L 237.367033 116.020409 \n",
       "L 237.97698 116.198412 \n",
       "L 239.196874 116.032316 \n",
       "L 239.806822 116.466704 \n",
       "L 240.416769 116.640687 \n",
       "L 241.026716 117.069961 \n",
       "L 241.636663 116.72944 \n",
       "L 242.24661 116.645989 \n",
       "L 242.856557 117.070845 \n",
       "L 243.466505 116.733804 \n",
       "L 244.076452 116.651192 \n",
       "L 244.686399 116.317862 \n",
       "L 245.296346 116.487647 \n",
       "L 245.906293 116.406704 \n",
       "L 246.51624 115.828797 \n",
       "L 247.736135 115.672918 \n",
       "L 248.346082 116.088286 \n",
       "L 248.956029 116.255464 \n",
       "L 249.565976 115.932241 \n",
       "L 250.175923 116.098823 \n",
       "L 250.785871 115.778229 \n",
       "L 251.395818 115.70198 \n",
       "L 252.005765 115.867689 \n",
       "L 252.615712 115.79165 \n",
       "L 253.225659 115.95599 \n",
       "L 253.835606 115.880149 \n",
       "L 254.445554 116.281499 \n",
       "L 255.055501 115.967522 \n",
       "L 255.665448 115.892377 \n",
       "L 256.275395 116.053778 \n",
       "L 256.885342 116.449484 \n",
       "L 257.495289 116.373522 \n",
       "L 259.325131 116.845631 \n",
       "L 260.545025 116.23176 \n",
       "L 261.154972 116.157885 \n",
       "L 261.76492 115.625488 \n",
       "L 262.374867 115.553944 \n",
       "L 262.984814 115.939012 \n",
       "L 263.594761 115.866949 \n",
       "L 264.204708 115.341952 \n",
       "L 264.814655 115.046145 \n",
       "L 265.424603 115.202764 \n",
       "L 266.644497 115.065266 \n",
       "L 267.254444 114.773866 \n",
       "L 267.864391 114.261605 \n",
       "L 269.084286 113.688812 \n",
       "L 269.694233 113.625586 \n",
       "L 270.30418 113.122813 \n",
       "L 270.914127 113.061641 \n",
       "L 272.743969 113.532426 \n",
       "L 273.353916 113.470768 \n",
       "L 274.57381 113.77951 \n",
       "L 275.793704 114.513162 \n",
       "L 277.623546 114.323472 \n",
       "L 278.84344 113.776439 \n",
       "L 279.453387 113.92643 \n",
       "L 280.063335 114.285563 \n",
       "L 281.283229 114.162523 \n",
       "L 282.503123 113.625586 \n",
       "L 285.552859 114.356919 \n",
       "L 286.772753 114.236531 \n",
       "L 287.382701 114.379916 \n",
       "L 287.992648 114.117457 \n",
       "L 289.212542 114.402549 \n",
       "L 291.042384 114.224999 \n",
       "L 291.652331 114.564989 \n",
       "L 292.262278 114.505695 \n",
       "L 292.872225 114.248504 \n",
       "L 293.482172 114.19037 \n",
       "L 294.092119 114.329691 \n",
       "L 295.312014 114.998317 \n",
       "L 296.531908 115.269768 \n",
       "L 297.141855 115.015305 \n",
       "L 298.36175 114.897446 \n",
       "L 298.971697 114.645944 \n",
       "L 299.581644 114.588285 \n",
       "L 300.191591 114.722955 \n",
       "L 300.801538 115.048487 \n",
       "L 303.851274 115.705691 \n",
       "L 304.461221 116.023745 \n",
       "L 305.071168 116.152042 \n",
       "L 305.681116 116.467356 \n",
       "L 306.90101 116.719786 \n",
       "L 308.730851 116.537729 \n",
       "L 309.340799 116.662514 \n",
       "L 309.950746 116.417871 \n",
       "L 310.560693 116.358389 \n",
       "L 311.17064 116.66617 \n",
       "L 311.780587 116.789397 \n",
       "L 312.390534 116.72944 \n",
       "L 313.000482 116.851905 \n",
       "L 313.610429 116.428718 \n",
       "L 314.830323 116.673328 \n",
       "L 315.44027 116.614387 \n",
       "L 316.660165 116.856313 \n",
       "L 317.270112 117.155456 \n",
       "L 317.880059 116.917297 \n",
       "L 318.490006 116.502095 \n",
       "L 319.099953 116.444403 \n",
       "L 319.7099 116.564327 \n",
       "L 320.319848 116.329858 \n",
       "L 321.539742 116.568547 \n",
       "L 322.149689 116.862697 \n",
       "L 323.979531 116.690349 \n",
       "L 324.589478 116.981451 \n",
       "L 325.199425 116.923991 \n",
       "L 325.809372 116.520409 \n",
       "L 326.419319 116.809876 \n",
       "L 328.249161 116.640687 \n",
       "L 328.859108 116.927205 \n",
       "L 329.469055 116.529191 \n",
       "L 330.079002 116.303425 \n",
       "L 330.688949 116.248704 \n",
       "L 331.298897 116.024606 \n",
       "L 331.908844 116.309257 \n",
       "L 333.128738 116.537729 \n",
       "L 333.738685 116.315012 \n",
       "L 334.348632 116.596427 \n",
       "L 335.568527 116.821552 \n",
       "L 336.178474 116.766775 \n",
       "L 336.788421 117.044655 \n",
       "L 339.22821 116.826003 \n",
       "L 339.838157 117.100668 \n",
       "L 340.448104 117.046124 \n",
       "L 341.058051 116.82819 \n",
       "L 341.667998 116.937754 \n",
       "L 342.277946 117.209768 \n",
       "L 342.887893 116.830344 \n",
       "L 343.49784 116.93919 \n",
       "L 344.107787 116.723862 \n",
       "L 344.717734 116.670964 \n",
       "L 345.327681 116.940592 \n",
       "L 345.937629 117.048267 \n",
       "L 346.547576 117.315907 \n",
       "L 347.157523 117.262192 \n",
       "L 348.987365 117.579649 \n",
       "L 349.597312 117.525833 \n",
       "L 350.207259 117.313853 \n",
       "L 351.427153 117.523469 \n",
       "L 352.0371 117.470229 \n",
       "L 352.647048 117.731308 \n",
       "L 353.256995 117.677846 \n",
       "L 353.866942 117.468229 \n",
       "L 354.476889 117.415552 \n",
       "L 355.086836 117.51883 \n",
       "L 355.696783 117.777071 \n",
       "L 356.306731 117.413928 \n",
       "L 357.526625 117.309887 \n",
       "L 358.136572 117.566427 \n",
       "L 359.356466 117.462408 \n",
       "L 359.966414 116.951252 \n",
       "L 360.576361 117.20641 \n",
       "L 361.186308 117.002935 \n",
       "L 361.796255 116.952511 \n",
       "L 363.626097 117.256315 \n",
       "L 364.845991 116.854126 \n",
       "L 365.455938 116.804618 \n",
       "L 366.065885 116.455206 \n",
       "L 366.675832 116.556452 \n",
       "L 367.28578 116.358389 \n",
       "L 367.895727 116.459425 \n",
       "L 368.505674 115.964661 \n",
       "L 369.115621 115.768973 \n",
       "L 369.725568 115.870583 \n",
       "L 369.725568 115.870583 \n",
       "\" style=\"fill:none;stroke:#9467bd;stroke-linecap:square;stroke-width:1.5;\"/>\n",
       "   </g>\n",
       "   <g id=\"line2d_19\">\n",
       "    <path clip-path=\"url(#pa662d2130b)\" d=\"M 65.361932 240.700909 \n",
       "L 65.971879 92.446367 \n",
       "L 66.581826 67.737279 \n",
       "L 67.191773 92.446367 \n",
       "L 67.80172 62.795466 \n",
       "L 68.411668 80.091823 \n",
       "L 69.021615 103.035977 \n",
       "L 69.631562 110.978189 \n",
       "L 70.241509 125.391819 \n",
       "L 70.851456 122.09728 \n",
       "L 71.461403 126.140582 \n",
       "L 72.071351 110.978189 \n",
       "L 73.291245 108.330781 \n",
       "L 73.901192 112.213643 \n",
       "L 74.511139 106.345228 \n",
       "L 75.731034 121.273637 \n",
       "L 76.950928 118.390909 \n",
       "L 78.170822 116.032316 \n",
       "L 78.780769 115.006844 \n",
       "L 80.000664 119.132183 \n",
       "L 80.610611 120.956854 \n",
       "L 81.220558 119.900917 \n",
       "L 81.830505 121.567799 \n",
       "L 82.440452 118.007497 \n",
       "L 83.0504 119.626373 \n",
       "L 83.660347 113.967189 \n",
       "L 84.270294 110.978189 \n",
       "L 84.880241 105.924051 \n",
       "L 85.490188 98.987008 \n",
       "L 86.710083 98.623645 \n",
       "L 87.929977 102.199962 \n",
       "L 88.539924 100.049164 \n",
       "L 89.149871 92.446367 \n",
       "L 89.759819 92.446367 \n",
       "L 90.979713 99.341933 \n",
       "L 92.199607 102.330005 \n",
       "L 93.419502 101.909424 \n",
       "L 94.639396 104.54878 \n",
       "L 96.469237 103.850562 \n",
       "L 98.299079 99.185215 \n",
       "L 98.909026 101.712278 \n",
       "L 99.518973 100.249237 \n",
       "L 100.12892 101.392767 \n",
       "L 100.738868 101.24113 \n",
       "L 101.348815 103.565458 \n",
       "L 101.958762 102.167974 \n",
       "L 102.568709 102.011178 \n",
       "L 103.178656 100.68273 \n",
       "L 104.398551 104.990988 \n",
       "L 105.008498 104.800912 \n",
       "L 106.228392 106.617762 \n",
       "L 107.448286 106.212866 \n",
       "L 108.668181 107.889556 \n",
       "L 109.888075 107.472167 \n",
       "L 110.498022 108.260187 \n",
       "L 111.717917 107.849437 \n",
       "L 112.327864 105.751261 \n",
       "L 112.937811 105.582845 \n",
       "L 113.547758 106.345228 \n",
       "L 114.157705 105.258485 \n",
       "L 114.767652 102.390271 \n",
       "L 115.3776 103.163567 \n",
       "L 115.987547 104.800912 \n",
       "L 117.207441 106.237487 \n",
       "L 117.817388 106.078969 \n",
       "L 118.427335 106.766405 \n",
       "L 119.037283 108.271289 \n",
       "L 119.64723 107.271818 \n",
       "L 120.257177 105.479733 \n",
       "L 120.867124 106.143797 \n",
       "L 121.477071 107.590656 \n",
       "L 122.696966 107.271818 \n",
       "L 123.306913 107.889556 \n",
       "L 123.91686 107.730341 \n",
       "L 124.526807 108.330781 \n",
       "L 125.136754 108.170341 \n",
       "L 125.746701 108.754367 \n",
       "L 126.356649 108.592899 \n",
       "L 126.966596 109.161339 \n",
       "L 127.576543 108.279374 \n",
       "L 128.18649 109.552659 \n",
       "L 128.796437 109.389744 \n",
       "L 130.626279 110.978189 \n",
       "L 131.846173 110.641247 \n",
       "L 132.45612 109.809519 \n",
       "L 133.676015 110.814192 \n",
       "L 134.895909 110.494747 \n",
       "L 135.505856 111.617212 \n",
       "L 136.115803 111.453358 \n",
       "L 136.72575 111.920486 \n",
       "L 137.335698 113.002668 \n",
       "L 137.945645 113.449096 \n",
       "L 138.555592 114.500769 \n",
       "L 139.165539 114.92759 \n",
       "L 139.775486 115.950135 \n",
       "L 140.385433 115.162789 \n",
       "L 140.995381 116.167098 \n",
       "L 141.605328 114.802209 \n",
       "L 142.215275 115.209866 \n",
       "L 142.825222 116.190261 \n",
       "L 143.435169 116.58083 \n",
       "L 144.045116 116.395183 \n",
       "L 144.655064 115.646508 \n",
       "L 145.265011 116.032316 \n",
       "L 146.484905 115.680286 \n",
       "L 147.094852 116.606368 \n",
       "L 147.704799 116.428718 \n",
       "L 149.534641 117.510988 \n",
       "L 150.144588 116.272994 \n",
       "L 150.754535 116.62973 \n",
       "L 151.364482 117.503477 \n",
       "L 153.194324 118.51872 \n",
       "L 155.024165 117.990222 \n",
       "L 155.634113 118.813787 \n",
       "L 156.854007 118.464552 \n",
       "L 159.293796 121.61904 \n",
       "L 159.903743 120.956854 \n",
       "L 161.123637 122.472606 \n",
       "L 161.733584 121.817556 \n",
       "L 162.343531 122.09728 \n",
       "L 162.953479 121.913113 \n",
       "L 163.563426 122.188795 \n",
       "L 164.173373 121.096782 \n",
       "L 164.78332 121.826083 \n",
       "L 165.393267 121.648024 \n",
       "L 166.003214 120.579009 \n",
       "L 166.613162 120.41055 \n",
       "L 167.223109 121.126562 \n",
       "L 167.833056 120.956854 \n",
       "L 169.05295 122.357376 \n",
       "L 169.662897 121.752496 \n",
       "L 170.272845 121.583097 \n",
       "L 170.882792 121.841669 \n",
       "L 171.492739 121.673695 \n",
       "L 172.102686 122.349986 \n",
       "L 173.32258 122.013984 \n",
       "L 173.932528 121.434685 \n",
       "L 174.542475 121.685459 \n",
       "L 175.762369 121.364147 \n",
       "L 176.982263 121.855553 \n",
       "L 177.592211 122.497967 \n",
       "L 178.202158 122.734933 \n",
       "L 178.812105 122.572957 \n",
       "L 180.031999 123.038572 \n",
       "L 180.641946 122.877568 \n",
       "L 181.251894 121.942042 \n",
       "L 183.691682 122.857553 \n",
       "L 184.911577 124.053937 \n",
       "L 186.131471 124.481267 \n",
       "L 186.741418 123.95046 \n",
       "L 187.351365 124.162518 \n",
       "L 187.961312 123.638537 \n",
       "L 188.57126 124.215195 \n",
       "L 189.181207 123.696097 \n",
       "L 189.791154 124.266857 \n",
       "L 190.401101 123.392701 \n",
       "L 191.011048 123.959407 \n",
       "L 191.620995 124.164285 \n",
       "L 192.230943 123.657856 \n",
       "L 192.84089 123.509224 \n",
       "L 193.450837 124.064641 \n",
       "L 194.060784 124.265156 \n",
       "L 194.670731 124.115772 \n",
       "L 195.280678 124.314166 \n",
       "L 195.890626 124.165942 \n",
       "L 196.500573 124.705464 \n",
       "L 197.11052 124.556798 \n",
       "L 197.720467 124.749537 \n",
       "L 199.550309 124.311029 \n",
       "L 201.38015 124.87705 \n",
       "L 203.819939 124.308091 \n",
       "L 205.039833 123.386449 \n",
       "L 206.259727 123.758749 \n",
       "L 206.869675 123.624365 \n",
       "L 207.479622 124.124686 \n",
       "L 208.089569 123.359022 \n",
       "L 208.699516 123.542129 \n",
       "L 209.309463 124.036474 \n",
       "L 209.91941 123.903736 \n",
       "L 210.529358 123.461959 \n",
       "L 211.139305 123.641597 \n",
       "L 211.749252 123.204569 \n",
       "L 212.359199 123.383787 \n",
       "L 212.969146 123.256473 \n",
       "L 213.579093 122.826393 \n",
       "L 214.798988 123.182068 \n",
       "L 215.408935 123.057626 \n",
       "L 216.018882 122.0375 \n",
       "L 216.628829 121.323255 \n",
       "L 217.238776 121.207749 \n",
       "L 217.848724 121.388492 \n",
       "L 218.458671 121.273637 \n",
       "L 219.678565 121.630329 \n",
       "L 220.288512 121.515883 \n",
       "L 220.898459 121.691898 \n",
       "L 222.118354 122.614446 \n",
       "L 222.728301 122.211759 \n",
       "L 223.338248 122.382384 \n",
       "L 223.948195 122.267684 \n",
       "L 224.558142 121.588001 \n",
       "L 225.16809 121.759057 \n",
       "L 225.778037 122.209594 \n",
       "L 226.387984 121.817556 \n",
       "L 226.997931 121.707131 \n",
       "L 227.607878 122.152807 \n",
       "L 228.217825 122.041963 \n",
       "L 228.827773 122.207506 \n",
       "L 230.047667 121.98786 \n",
       "L 230.657614 121.334201 \n",
       "L 231.267561 121.499911 \n",
       "L 231.877508 120.582268 \n",
       "L 232.487456 120.210399 \n",
       "L 233.097403 120.378384 \n",
       "L 233.70735 120.277547 \n",
       "L 234.317297 120.444085 \n",
       "L 234.927244 120.343733 \n",
       "L 235.537191 119.714619 \n",
       "L 236.147139 120.145174 \n",
       "L 236.757086 120.046943 \n",
       "L 237.367033 120.211349 \n",
       "L 237.97698 119.330555 \n",
       "L 238.586927 119.49632 \n",
       "L 239.196874 119.401746 \n",
       "L 239.806822 119.049538 \n",
       "L 240.416769 119.214552 \n",
       "L 241.026716 118.865427 \n",
       "L 242.24661 119.193322 \n",
       "L 244.076452 120.433194 \n",
       "L 245.296346 120.2441 \n",
       "L 245.906293 120.400089 \n",
       "L 246.51624 120.803781 \n",
       "L 247.126188 120.956854 \n",
       "L 247.736135 121.356006 \n",
       "L 248.346082 121.259962 \n",
       "L 248.956029 121.655458 \n",
       "L 249.565976 121.559061 \n",
       "L 250.175923 121.707131 \n",
       "L 250.785871 122.09728 \n",
       "L 251.395818 122.000375 \n",
       "L 252.005765 122.145572 \n",
       "L 252.615712 122.049142 \n",
       "L 253.225659 121.713449 \n",
       "L 254.445554 120.57183 \n",
       "L 255.665448 120.86577 \n",
       "L 256.275395 120.303118 \n",
       "L 256.885342 119.979354 \n",
       "L 257.495289 119.892224 \n",
       "L 258.105237 120.039487 \n",
       "L 258.715184 120.418922 \n",
       "L 259.325131 120.331241 \n",
       "L 262.374867 121.044856 \n",
       "L 262.984814 120.728769 \n",
       "L 263.594761 120.642015 \n",
       "L 264.814655 121.374088 \n",
       "L 265.424603 121.511465 \n",
       "L 266.03455 120.974141 \n",
       "L 266.644497 121.111904 \n",
       "L 267.864391 120.939733 \n",
       "L 269.084286 121.212178 \n",
       "L 269.694233 121.567799 \n",
       "L 270.30418 121.481387 \n",
       "L 270.914127 121.176169 \n",
       "L 272.134021 121.443213 \n",
       "L 272.743969 121.792946 \n",
       "L 273.353916 121.273637 \n",
       "L 273.963863 121.405712 \n",
       "L 274.57381 120.890557 \n",
       "L 275.183757 120.808111 \n",
       "L 275.793704 120.511895 \n",
       "L 276.403652 120.431018 \n",
       "L 277.623546 120.695444 \n",
       "L 278.233493 120.191146 \n",
       "L 278.84344 120.323288 \n",
       "L 279.453387 120.033511 \n",
       "L 280.063335 120.375336 \n",
       "L 280.673282 120.505842 \n",
       "L 281.283229 120.426809 \n",
       "L 282.503123 120.685326 \n",
       "L 283.11307 120.606447 \n",
       "L 283.723018 120.321531 \n",
       "L 284.332965 120.2441 \n",
       "L 284.942912 119.961758 \n",
       "L 285.552859 119.88574 \n",
       "L 286.162806 120.014358 \n",
       "L 286.772753 119.734976 \n",
       "L 287.382701 119.254041 \n",
       "L 288.602595 119.107949 \n",
       "L 289.212542 118.834068 \n",
       "L 290.432436 118.691433 \n",
       "L 291.042384 118.22108 \n",
       "L 291.652331 118.550322 \n",
       "L 292.262278 118.281611 \n",
       "L 292.872225 118.21253 \n",
       "L 293.482172 117.748473 \n",
       "L 294.092119 117.878328 \n",
       "L 294.702067 117.810871 \n",
       "L 295.312014 117.547671 \n",
       "L 295.921961 117.872606 \n",
       "L 296.531908 117.805701 \n",
       "L 297.141855 117.350017 \n",
       "L 298.36175 117.219974 \n",
       "L 299.581644 117.861439 \n",
       "L 300.191591 117.987626 \n",
       "L 300.801538 117.921638 \n",
       "L 302.63138 118.295882 \n",
       "L 303.241327 118.608932 \n",
       "L 303.851274 118.542193 \n",
       "L 304.461221 118.098559 \n",
       "L 305.071168 118.033444 \n",
       "L 305.681116 118.343997 \n",
       "L 306.291063 118.465789 \n",
       "L 306.90101 118.213535 \n",
       "L 307.510957 118.335039 \n",
       "L 308.120904 118.270156 \n",
       "L 308.730851 118.390909 \n",
       "L 309.340799 118.141362 \n",
       "L 309.950746 118.446238 \n",
       "L 311.17064 118.684485 \n",
       "L 311.780587 118.98576 \n",
       "L 312.390534 118.920391 \n",
       "L 314.220376 119.269925 \n",
       "L 316.050217 118.534847 \n",
       "L 316.660165 118.651171 \n",
       "L 317.270112 118.587867 \n",
       "L 317.880059 118.346262 \n",
       "L 318.490006 118.640379 \n",
       "L 319.7099 118.515053 \n",
       "L 320.319848 118.629753 \n",
       "L 320.929795 118.56741 \n",
       "L 321.539742 118.329284 \n",
       "L 322.149689 118.267958 \n",
       "L 322.759636 118.38215 \n",
       "L 323.369583 118.320978 \n",
       "L 323.979531 118.434518 \n",
       "L 326.419319 118.192206 \n",
       "L 327.029266 118.304719 \n",
       "L 327.639214 118.588707 \n",
       "L 328.249161 118.185004 \n",
       "L 331.298897 118.738654 \n",
       "L 331.908844 118.509387 \n",
       "L 333.128738 119.064793 \n",
       "L 333.738685 118.668259 \n",
       "L 334.95858 118.215214 \n",
       "L 335.568527 118.157179 \n",
       "L 336.178474 118.265981 \n",
       "L 336.788421 118.20809 \n",
       "L 337.398368 118.482126 \n",
       "L 338.008315 118.589469 \n",
       "L 339.22821 118.473278 \n",
       "L 340.448104 118.686109 \n",
       "L 341.667998 119.223621 \n",
       "L 342.277946 119.001854 \n",
       "L 342.887893 118.94362 \n",
       "L 344.107787 119.151613 \n",
       "L 344.717734 119.093423 \n",
       "L 345.937629 119.299417 \n",
       "L 346.547576 119.080842 \n",
       "L 347.76747 118.966043 \n",
       "L 350.207259 119.372938 \n",
       "L 350.817206 119.315533 \n",
       "L 351.427153 119.573795 \n",
       "L 352.0371 119.516202 \n",
       "L 353.256995 119.088309 \n",
       "L 354.476889 119.600361 \n",
       "L 355.086836 119.543309 \n",
       "L 356.916678 119.837868 \n",
       "L 357.526625 119.780805 \n",
       "L 358.136572 119.569863 \n",
       "L 358.746519 119.513585 \n",
       "L 361.796255 119.996751 \n",
       "L 362.406202 120.2441 \n",
       "L 363.626097 120.433194 \n",
       "L 364.236044 120.225223 \n",
       "L 365.455938 120.112533 \n",
       "L 366.065885 120.206577 \n",
       "L 366.675832 120.150498 \n",
       "L 367.28578 120.39355 \n",
       "L 367.895727 120.188164 \n",
       "L 368.505674 120.430156 \n",
       "L 369.725568 120.614732 \n",
       "L 369.725568 120.614732 \n",
       "\" style=\"fill:none;stroke:#8c564b;stroke-linecap:square;stroke-width:1.5;\"/>\n",
       "   </g>\n",
       "   <g id=\"line2d_20\">\n",
       "    <path clip-path=\"url(#pa662d2130b)\" d=\"M 50.14375 116.908369 \n",
       "L 384.94375 116.908369 \n",
       "\" style=\"fill:none;stroke:#000000;stroke-dasharray:5.55,2.4;stroke-dashoffset:0;stroke-width:1.5;\"/>\n",
       "   </g>\n",
       "   <g id=\"patch_3\">\n",
       "    <path d=\"M 50.14375 251.82 \n",
       "L 50.14375 7.2 \n",
       "\" style=\"fill:none;stroke:#000000;stroke-linecap:square;stroke-linejoin:miter;stroke-width:0.8;\"/>\n",
       "   </g>\n",
       "   <g id=\"patch_4\">\n",
       "    <path d=\"M 384.94375 251.82 \n",
       "L 384.94375 7.2 \n",
       "\" style=\"fill:none;stroke:#000000;stroke-linecap:square;stroke-linejoin:miter;stroke-width:0.8;\"/>\n",
       "   </g>\n",
       "   <g id=\"patch_5\">\n",
       "    <path d=\"M 50.14375 251.82 \n",
       "L 384.94375 251.82 \n",
       "\" style=\"fill:none;stroke:#000000;stroke-linecap:square;stroke-linejoin:miter;stroke-width:0.8;\"/>\n",
       "   </g>\n",
       "   <g id=\"patch_6\">\n",
       "    <path d=\"M 50.14375 7.2 \n",
       "L 384.94375 7.2 \n",
       "\" style=\"fill:none;stroke:#000000;stroke-linecap:square;stroke-linejoin:miter;stroke-width:0.8;\"/>\n",
       "   </g>\n",
       "   <g id=\"legend_1\">\n",
       "    <g id=\"patch_7\">\n",
       "     <path d=\"M 302.089063 103.26875 \n",
       "L 377.94375 103.26875 \n",
       "Q 379.94375 103.26875 379.94375 101.26875 \n",
       "L 379.94375 14.2 \n",
       "Q 379.94375 12.2 377.94375 12.2 \n",
       "L 302.089063 12.2 \n",
       "Q 300.089063 12.2 300.089063 14.2 \n",
       "L 300.089063 101.26875 \n",
       "Q 300.089063 103.26875 302.089063 103.26875 \n",
       "z\n",
       "\" style=\"fill:#ffffff;opacity:0.8;stroke:#cccccc;stroke-linejoin:miter;\"/>\n",
       "    </g>\n",
       "    <g id=\"line2d_21\">\n",
       "     <path d=\"M 304.089063 20.298437 \n",
       "L 324.089063 20.298437 \n",
       "\" style=\"fill:none;stroke:#1f77b4;stroke-linecap:square;stroke-width:1.5;\"/>\n",
       "    </g>\n",
       "    <g id=\"line2d_22\"/>\n",
       "    <g id=\"text_16\">\n",
       "     <!-- P(die=1) -->\n",
       "     <g transform=\"translate(332.089063 23.798437)scale(0.1 -0.1)\">\n",
       "      <defs>\n",
       "       <path d=\"M 1259 4147 \n",
       "L 1259 2394 \n",
       "L 2053 2394 \n",
       "Q 2494 2394 2734 2622 \n",
       "Q 2975 2850 2975 3272 \n",
       "Q 2975 3691 2734 3919 \n",
       "Q 2494 4147 2053 4147 \n",
       "L 1259 4147 \n",
       "z\n",
       "M 628 4666 \n",
       "L 2053 4666 \n",
       "Q 2838 4666 3239 4311 \n",
       "Q 3641 3956 3641 3272 \n",
       "Q 3641 2581 3239 2228 \n",
       "Q 2838 1875 2053 1875 \n",
       "L 1259 1875 \n",
       "L 1259 0 \n",
       "L 628 0 \n",
       "L 628 4666 \n",
       "z\n",
       "\" id=\"DejaVuSans-50\" transform=\"scale(0.015625)\"/>\n",
       "       <path d=\"M 1984 4856 \n",
       "Q 1566 4138 1362 3434 \n",
       "Q 1159 2731 1159 2009 \n",
       "Q 1159 1288 1364 580 \n",
       "Q 1569 -128 1984 -844 \n",
       "L 1484 -844 \n",
       "Q 1016 -109 783 600 \n",
       "Q 550 1309 550 2009 \n",
       "Q 550 2706 781 3412 \n",
       "Q 1013 4119 1484 4856 \n",
       "L 1984 4856 \n",
       "z\n",
       "\" id=\"DejaVuSans-28\" transform=\"scale(0.015625)\"/>\n",
       "       <path d=\"M 678 2906 \n",
       "L 4684 2906 \n",
       "L 4684 2381 \n",
       "L 678 2381 \n",
       "L 678 2906 \n",
       "z\n",
       "M 678 1631 \n",
       "L 4684 1631 \n",
       "L 4684 1100 \n",
       "L 678 1100 \n",
       "L 678 1631 \n",
       "z\n",
       "\" id=\"DejaVuSans-3d\" transform=\"scale(0.015625)\"/>\n",
       "       <path d=\"M 513 4856 \n",
       "L 1013 4856 \n",
       "Q 1481 4119 1714 3412 \n",
       "Q 1947 2706 1947 2009 \n",
       "Q 1947 1309 1714 600 \n",
       "Q 1481 -109 1013 -844 \n",
       "L 513 -844 \n",
       "Q 928 -128 1133 580 \n",
       "Q 1338 1288 1338 2009 \n",
       "Q 1338 2731 1133 3434 \n",
       "Q 928 4138 513 4856 \n",
       "z\n",
       "\" id=\"DejaVuSans-29\" transform=\"scale(0.015625)\"/>\n",
       "      </defs>\n",
       "      <use xlink:href=\"#DejaVuSans-50\"/>\n",
       "      <use x=\"60.302734\" xlink:href=\"#DejaVuSans-28\"/>\n",
       "      <use x=\"99.316406\" xlink:href=\"#DejaVuSans-64\"/>\n",
       "      <use x=\"162.792969\" xlink:href=\"#DejaVuSans-69\"/>\n",
       "      <use x=\"190.576172\" xlink:href=\"#DejaVuSans-65\"/>\n",
       "      <use x=\"252.099609\" xlink:href=\"#DejaVuSans-3d\"/>\n",
       "      <use x=\"335.888672\" xlink:href=\"#DejaVuSans-31\"/>\n",
       "      <use x=\"399.511719\" xlink:href=\"#DejaVuSans-29\"/>\n",
       "     </g>\n",
       "    </g>\n",
       "    <g id=\"line2d_23\">\n",
       "     <path d=\"M 304.089063 34.976562 \n",
       "L 324.089063 34.976562 \n",
       "\" style=\"fill:none;stroke:#ff7f0e;stroke-linecap:square;stroke-width:1.5;\"/>\n",
       "    </g>\n",
       "    <g id=\"line2d_24\"/>\n",
       "    <g id=\"text_17\">\n",
       "     <!-- P(die=2) -->\n",
       "     <g transform=\"translate(332.089063 38.476562)scale(0.1 -0.1)\">\n",
       "      <use xlink:href=\"#DejaVuSans-50\"/>\n",
       "      <use x=\"60.302734\" xlink:href=\"#DejaVuSans-28\"/>\n",
       "      <use x=\"99.316406\" xlink:href=\"#DejaVuSans-64\"/>\n",
       "      <use x=\"162.792969\" xlink:href=\"#DejaVuSans-69\"/>\n",
       "      <use x=\"190.576172\" xlink:href=\"#DejaVuSans-65\"/>\n",
       "      <use x=\"252.099609\" xlink:href=\"#DejaVuSans-3d\"/>\n",
       "      <use x=\"335.888672\" xlink:href=\"#DejaVuSans-32\"/>\n",
       "      <use x=\"399.511719\" xlink:href=\"#DejaVuSans-29\"/>\n",
       "     </g>\n",
       "    </g>\n",
       "    <g id=\"line2d_25\">\n",
       "     <path d=\"M 304.089063 49.654687 \n",
       "L 324.089063 49.654687 \n",
       "\" style=\"fill:none;stroke:#2ca02c;stroke-linecap:square;stroke-width:1.5;\"/>\n",
       "    </g>\n",
       "    <g id=\"line2d_26\"/>\n",
       "    <g id=\"text_18\">\n",
       "     <!-- P(die=3) -->\n",
       "     <g transform=\"translate(332.089063 53.154687)scale(0.1 -0.1)\">\n",
       "      <use xlink:href=\"#DejaVuSans-50\"/>\n",
       "      <use x=\"60.302734\" xlink:href=\"#DejaVuSans-28\"/>\n",
       "      <use x=\"99.316406\" xlink:href=\"#DejaVuSans-64\"/>\n",
       "      <use x=\"162.792969\" xlink:href=\"#DejaVuSans-69\"/>\n",
       "      <use x=\"190.576172\" xlink:href=\"#DejaVuSans-65\"/>\n",
       "      <use x=\"252.099609\" xlink:href=\"#DejaVuSans-3d\"/>\n",
       "      <use x=\"335.888672\" xlink:href=\"#DejaVuSans-33\"/>\n",
       "      <use x=\"399.511719\" xlink:href=\"#DejaVuSans-29\"/>\n",
       "     </g>\n",
       "    </g>\n",
       "    <g id=\"line2d_27\">\n",
       "     <path d=\"M 304.089063 64.332812 \n",
       "L 324.089063 64.332812 \n",
       "\" style=\"fill:none;stroke:#d62728;stroke-linecap:square;stroke-width:1.5;\"/>\n",
       "    </g>\n",
       "    <g id=\"line2d_28\"/>\n",
       "    <g id=\"text_19\">\n",
       "     <!-- P(die=4) -->\n",
       "     <g transform=\"translate(332.089063 67.832812)scale(0.1 -0.1)\">\n",
       "      <use xlink:href=\"#DejaVuSans-50\"/>\n",
       "      <use x=\"60.302734\" xlink:href=\"#DejaVuSans-28\"/>\n",
       "      <use x=\"99.316406\" xlink:href=\"#DejaVuSans-64\"/>\n",
       "      <use x=\"162.792969\" xlink:href=\"#DejaVuSans-69\"/>\n",
       "      <use x=\"190.576172\" xlink:href=\"#DejaVuSans-65\"/>\n",
       "      <use x=\"252.099609\" xlink:href=\"#DejaVuSans-3d\"/>\n",
       "      <use x=\"335.888672\" xlink:href=\"#DejaVuSans-34\"/>\n",
       "      <use x=\"399.511719\" xlink:href=\"#DejaVuSans-29\"/>\n",
       "     </g>\n",
       "    </g>\n",
       "    <g id=\"line2d_29\">\n",
       "     <path d=\"M 304.089063 79.010937 \n",
       "L 324.089063 79.010937 \n",
       "\" style=\"fill:none;stroke:#9467bd;stroke-linecap:square;stroke-width:1.5;\"/>\n",
       "    </g>\n",
       "    <g id=\"line2d_30\"/>\n",
       "    <g id=\"text_20\">\n",
       "     <!-- P(die=5) -->\n",
       "     <g transform=\"translate(332.089063 82.510937)scale(0.1 -0.1)\">\n",
       "      <use xlink:href=\"#DejaVuSans-50\"/>\n",
       "      <use x=\"60.302734\" xlink:href=\"#DejaVuSans-28\"/>\n",
       "      <use x=\"99.316406\" xlink:href=\"#DejaVuSans-64\"/>\n",
       "      <use x=\"162.792969\" xlink:href=\"#DejaVuSans-69\"/>\n",
       "      <use x=\"190.576172\" xlink:href=\"#DejaVuSans-65\"/>\n",
       "      <use x=\"252.099609\" xlink:href=\"#DejaVuSans-3d\"/>\n",
       "      <use x=\"335.888672\" xlink:href=\"#DejaVuSans-35\"/>\n",
       "      <use x=\"399.511719\" xlink:href=\"#DejaVuSans-29\"/>\n",
       "     </g>\n",
       "    </g>\n",
       "    <g id=\"line2d_31\">\n",
       "     <path d=\"M 304.089063 93.689062 \n",
       "L 324.089063 93.689062 \n",
       "\" style=\"fill:none;stroke:#8c564b;stroke-linecap:square;stroke-width:1.5;\"/>\n",
       "    </g>\n",
       "    <g id=\"line2d_32\"/>\n",
       "    <g id=\"text_21\">\n",
       "     <!-- P(die=6) -->\n",
       "     <g transform=\"translate(332.089063 97.189062)scale(0.1 -0.1)\">\n",
       "      <defs>\n",
       "       <path d=\"M 2113 2584 \n",
       "Q 1688 2584 1439 2293 \n",
       "Q 1191 2003 1191 1497 \n",
       "Q 1191 994 1439 701 \n",
       "Q 1688 409 2113 409 \n",
       "Q 2538 409 2786 701 \n",
       "Q 3034 994 3034 1497 \n",
       "Q 3034 2003 2786 2293 \n",
       "Q 2538 2584 2113 2584 \n",
       "z\n",
       "M 3366 4563 \n",
       "L 3366 3988 \n",
       "Q 3128 4100 2886 4159 \n",
       "Q 2644 4219 2406 4219 \n",
       "Q 1781 4219 1451 3797 \n",
       "Q 1122 3375 1075 2522 \n",
       "Q 1259 2794 1537 2939 \n",
       "Q 1816 3084 2150 3084 \n",
       "Q 2853 3084 3261 2657 \n",
       "Q 3669 2231 3669 1497 \n",
       "Q 3669 778 3244 343 \n",
       "Q 2819 -91 2113 -91 \n",
       "Q 1303 -91 875 529 \n",
       "Q 447 1150 447 2328 \n",
       "Q 447 3434 972 4092 \n",
       "Q 1497 4750 2381 4750 \n",
       "Q 2619 4750 2861 4703 \n",
       "Q 3103 4656 3366 4563 \n",
       "z\n",
       "\" id=\"DejaVuSans-36\" transform=\"scale(0.015625)\"/>\n",
       "      </defs>\n",
       "      <use xlink:href=\"#DejaVuSans-50\"/>\n",
       "      <use x=\"60.302734\" xlink:href=\"#DejaVuSans-28\"/>\n",
       "      <use x=\"99.316406\" xlink:href=\"#DejaVuSans-64\"/>\n",
       "      <use x=\"162.792969\" xlink:href=\"#DejaVuSans-69\"/>\n",
       "      <use x=\"190.576172\" xlink:href=\"#DejaVuSans-65\"/>\n",
       "      <use x=\"252.099609\" xlink:href=\"#DejaVuSans-3d\"/>\n",
       "      <use x=\"335.888672\" xlink:href=\"#DejaVuSans-36\"/>\n",
       "      <use x=\"399.511719\" xlink:href=\"#DejaVuSans-29\"/>\n",
       "     </g>\n",
       "    </g>\n",
       "   </g>\n",
       "  </g>\n",
       " </g>\n",
       " <defs>\n",
       "  <clipPath id=\"pa662d2130b\">\n",
       "   <rect height=\"244.62\" width=\"334.8\" x=\"50.14375\" y=\"7.2\"/>\n",
       "  </clipPath>\n",
       " </defs>\n",
       "</svg>\n"
      ],
      "text/plain": [
       "<Figure size 432x324 with 1 Axes>"
      ]
     },
     "metadata": {
      "needs_background": "light"
     },
     "output_type": "display_data"
    }
   ],
   "source": [
    "d2l.set_figsize((6, 4.5))\n",
    "for i in range(6):\n",
    "    d2l.plt.plot(estimates[:, i].numpy(), label=(\"P(die=\" + str(i + 1) + \")\"))\n",
    "d2l.plt.axhline(y=0.167, color='black', linestyle='dashed')\n",
    "d2l.plt.gca().set_xlabel('Groups of experiments')\n",
    "d2l.plt.gca().set_ylabel('Estimated probability')\n",
    "d2l.plt.legend();"
   ]
  },
  {
   "cell_type": "code",
   "execution_count": null,
   "id": "bb256932",
   "metadata": {},
   "outputs": [],
   "source": []
  }
 ],
 "metadata": {
  "kernelspec": {
   "display_name": "Python 3",
   "language": "python",
   "name": "python3"
  },
  "language_info": {
   "codemirror_mode": {
    "name": "ipython",
    "version": 3
   },
   "file_extension": ".py",
   "mimetype": "text/x-python",
   "name": "python",
   "nbconvert_exporter": "python",
   "pygments_lexer": "ipython3",
   "version": "3.8.10"
  }
 },
 "nbformat": 4,
 "nbformat_minor": 5
}
