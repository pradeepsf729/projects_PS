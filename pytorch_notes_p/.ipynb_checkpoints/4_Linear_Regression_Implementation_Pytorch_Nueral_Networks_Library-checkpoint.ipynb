{
 "cells": [
  {
   "cell_type": "code",
   "execution_count": 1,
   "id": "1c460463",
   "metadata": {},
   "outputs": [],
   "source": [
    "import numpy as np\n",
    "import torch\n",
    "from torch.utils import data\n",
    "from d2l import torch as d2l"
   ]
  },
  {
   "cell_type": "markdown",
   "id": "db81c659",
   "metadata": {},
   "source": [
    "###  actual model parameters"
   ]
  },
  {
   "cell_type": "code",
   "execution_count": 2,
   "id": "268a41e2",
   "metadata": {},
   "outputs": [],
   "source": [
    "true_w = torch.tensor([2, -3.4])\n",
    "true_b = 4.2"
   ]
  },
  {
   "cell_type": "markdown",
   "id": "8bc2782b",
   "metadata": {},
   "source": [
    "### Generating dataset"
   ]
  },
  {
   "cell_type": "code",
   "execution_count": 3,
   "id": "6279b4a1",
   "metadata": {},
   "outputs": [],
   "source": [
    "features, labels = d2l.synthetic_data(true_w, true_b, 1000)   # refer to Note #3 for synthetic_data method"
   ]
  },
  {
   "cell_type": "code",
   "execution_count": 4,
   "id": "bca40877",
   "metadata": {},
   "outputs": [
    {
     "data": {
      "text/plain": [
       "(torch.Size([1000, 2]), torch.Size([1000, 1]))"
      ]
     },
     "execution_count": 4,
     "metadata": {},
     "output_type": "execute_result"
    }
   ],
   "source": [
    "features.shape, labels.shape"
   ]
  },
  {
   "cell_type": "markdown",
   "id": "850c4ca0",
   "metadata": {},
   "source": [
    "### Selecting the dataset in batches for minibatch stochastic gradient descent using pytorch data util"
   ]
  },
  {
   "cell_type": "code",
   "execution_count": 5,
   "id": "cf29ee5c",
   "metadata": {},
   "outputs": [],
   "source": [
    "def load_array(data_arrays, batch_size, is_train=True): #@save\n",
    "    \"\"\"\n",
    "    creates pytorch data iterator for the given batch size\n",
    "    \"\"\"\n",
    "    dataset = data.TensorDataset(*data_arrays)\n",
    "    return data.DataLoader(dataset, batch_size, shuffle=True)"
   ]
  },
  {
   "cell_type": "markdown",
   "id": "f57cd8f9",
   "metadata": {},
   "source": [
    "#### testing the batch_size loading of data"
   ]
  },
  {
   "cell_type": "code",
   "execution_count": 6,
   "id": "a985aa25",
   "metadata": {},
   "outputs": [],
   "source": [
    "batch_size = 5\n",
    "batch_data_loader = load_array([features, labels], batch_size)"
   ]
  },
  {
   "cell_type": "code",
   "execution_count": 7,
   "id": "bdf3f42e",
   "metadata": {},
   "outputs": [
    {
     "data": {
      "text/plain": [
       "torch.utils.data.dataloader.DataLoader"
      ]
     },
     "execution_count": 7,
     "metadata": {},
     "output_type": "execute_result"
    }
   ],
   "source": [
    "type(batch_data_loader)"
   ]
  },
  {
   "cell_type": "code",
   "execution_count": 8,
   "id": "9892f8ce",
   "metadata": {},
   "outputs": [],
   "source": [
    "data_iter = iter(batch_data_loader)"
   ]
  },
  {
   "cell_type": "code",
   "execution_count": 9,
   "id": "afaaf3f2",
   "metadata": {},
   "outputs": [
    {
     "data": {
      "text/plain": [
       "torch.utils.data.dataloader._SingleProcessDataLoaderIter"
      ]
     },
     "execution_count": 9,
     "metadata": {},
     "output_type": "execute_result"
    }
   ],
   "source": [
    "type(data_iter)    # iterator, gives batch_size of data on each loop"
   ]
  },
  {
   "cell_type": "code",
   "execution_count": 10,
   "id": "aaad3623",
   "metadata": {},
   "outputs": [
    {
     "data": {
      "text/plain": [
       "[tensor([[-0.2935,  1.2835],\n",
       "         [ 2.4488,  1.8333],\n",
       "         [ 1.5499, -1.7343],\n",
       "         [ 2.4846,  0.3075],\n",
       "         [-0.4291, -0.5559]]),\n",
       " tensor([[-0.7506],\n",
       "         [ 2.8446],\n",
       "         [13.1931],\n",
       "         [ 8.1213],\n",
       "         [ 5.2451]])]"
      ]
     },
     "execution_count": 10,
     "metadata": {},
     "output_type": "execute_result"
    }
   ],
   "source": [
    "next(data_iter)"
   ]
  },
  {
   "cell_type": "markdown",
   "id": "644555f8",
   "metadata": {},
   "source": [
    "### defining the linear model using pytorch avaiable API's"
   ]
  },
  {
   "cell_type": "markdown",
   "id": "612ff3b4",
   "metadata": {},
   "source": [
    "#### using \"Sequential\" class from NeuralNet (\"nn\") module.\n",
    "#### Sequential class defines container for several layers to be chained together.\n",
    "#### a Sequential instance passes the given input through the first layer, and then in turn passing the output as the second layerʼs input and so on until all the chained layers.\n",
    "#### we need only one layer in this model. \n",
    "#### We also need the layer to be fully connected. ( every input connected to the output)\n",
    "\n",
    "#### \"Linear\" class from nn module can be used to create fully connected layer, the arguments indicates the dimensions of input and output layer"
   ]
  },
  {
   "cell_type": "code",
   "execution_count": 11,
   "id": "62b24006",
   "metadata": {},
   "outputs": [],
   "source": [
    "from torch import nn # Neural Networks\n",
    "\n",
    "net = nn.Sequential(nn.Linear(2, 1))  # 2 inputs (x1, x2) and one output"
   ]
  },
  {
   "cell_type": "markdown",
   "id": "b1fe2f50",
   "metadata": {},
   "source": [
    "### selecting initial model parameters "
   ]
  },
  {
   "cell_type": "markdown",
   "id": "d6ee57ba",
   "metadata": {},
   "source": [
    "#### from the neuralnet object, we can directly set the weight and bias params, using the attributes"
   ]
  },
  {
   "cell_type": "code",
   "execution_count": 12,
   "id": "f7967048",
   "metadata": {},
   "outputs": [
    {
     "data": {
      "text/plain": [
       "tensor([0.])"
      ]
     },
     "execution_count": 12,
     "metadata": {},
     "output_type": "execute_result"
    }
   ],
   "source": [
    "net[0].weight.data.normal_(0, 0.1)   # '0' indicates the first layer in the network\n",
    "net[0].bias.data.fill_(0)"
   ]
  },
  {
   "cell_type": "markdown",
   "id": "ab1a13cb",
   "metadata": {},
   "source": [
    "### defining the Loss function"
   ]
  },
  {
   "cell_type": "markdown",
   "id": "45d09f4a",
   "metadata": {},
   "source": [
    "#### using Mean Squared Error loss from the nn library, \n",
    "#### note: by deafult, it uses the reduction method as 'mean', meaning normalizing the loss by the length of input.\n",
    "#### to change this, we can use the keywordargument 'reduction' as sum (nn.MSELoss(reduction=sum)"
   ]
  },
  {
   "cell_type": "code",
   "execution_count": 13,
   "id": "ee89c678",
   "metadata": {},
   "outputs": [],
   "source": [
    "loss = nn.MSELoss()  # using the MeanSquaredError "
   ]
  },
  {
   "cell_type": "markdown",
   "id": "4eec3a99",
   "metadata": {},
   "source": [
    "### defining the model optimizing algorithm"
   ]
  },
  {
   "cell_type": "markdown",
   "id": "e3d5c75b",
   "metadata": {},
   "source": [
    "#### we can use the 'optim' module of pytorch to get the Stochasitic Gradient descent algorithm\n",
    "#### it can take key value pairs of hyper parameters."
   ]
  },
  {
   "cell_type": "code",
   "execution_count": 14,
   "id": "5607832b",
   "metadata": {},
   "outputs": [],
   "source": [
    "trainer = torch.optim.SGD(net.parameters(), lr=0.03) # learning rate"
   ]
  },
  {
   "cell_type": "code",
   "execution_count": 15,
   "id": "2dfde13f",
   "metadata": {},
   "outputs": [
    {
     "data": {
      "text/plain": [
       "torch.optim.sgd.SGD"
      ]
     },
     "execution_count": 15,
     "metadata": {},
     "output_type": "execute_result"
    }
   ],
   "source": [
    "type(trainer)"
   ]
  },
  {
   "cell_type": "markdown",
   "id": "948c122b",
   "metadata": {},
   "source": [
    "#### the step method from SGD can be used for updating model params for each batch"
   ]
  },
  {
   "cell_type": "code",
   "execution_count": 16,
   "id": "56052417",
   "metadata": {
    "scrolled": true
   },
   "outputs": [
    {
     "name": "stdout",
     "output_type": "stream",
     "text": [
      "Help on method step in module torch.optim.sgd:\n",
      "\n",
      "step(closure=None) method of torch.optim.sgd.SGD instance\n",
      "    Performs a single optimization step.\n",
      "    \n",
      "    Args:\n",
      "        closure (callable, optional): A closure that reevaluates the model\n",
      "            and returns the loss.\n",
      "\n"
     ]
    }
   ],
   "source": [
    "help(trainer.step)"
   ]
  },
  {
   "cell_type": "code",
   "execution_count": 17,
   "id": "bc873fde",
   "metadata": {},
   "outputs": [],
   "source": [
    "num_epochs = 3"
   ]
  },
  {
   "cell_type": "code",
   "execution_count": 18,
   "id": "aae21196",
   "metadata": {},
   "outputs": [],
   "source": [
    "def train(num_epochs=3):\n",
    "    for epoch in range(num_epochs):\n",
    "        for X, y in data_iter:\n",
    "            l = loss(net(X), y)\n",
    "            trainer.zero_grad()\n",
    "            l.backward()\n",
    "            trainer.step()\n",
    "        training_loss = loss(net(features), labels)\n",
    "\n",
    "        print(f'epoch {epoch + 1}, loss {training_loss:f}')"
   ]
  },
  {
   "cell_type": "code",
   "execution_count": 19,
   "id": "a3fb9332",
   "metadata": {},
   "outputs": [
    {
     "name": "stdout",
     "output_type": "stream",
     "text": [
      "epoch 1, loss 0.000107\n",
      "epoch 2, loss 0.000107\n",
      "epoch 3, loss 0.000107\n"
     ]
    }
   ],
   "source": [
    "train()"
   ]
  },
  {
   "cell_type": "markdown",
   "id": "61e495a1",
   "metadata": {},
   "source": [
    "#### the final parameters gets updated in the neural network object"
   ]
  },
  {
   "cell_type": "code",
   "execution_count": 20,
   "id": "945aca4b",
   "metadata": {},
   "outputs": [],
   "source": [
    "def estimate_error():\n",
    "    w_estimated = net[0].weight.data\n",
    "    b_estimated = net[0].bias.data\n",
    "    \n",
    "    print('error in estimating w:', true_w - w_estimated.reshape(true_w.shape))\n",
    "    print('error in estimating b:', true_b - b_estimated)"
   ]
  },
  {
   "cell_type": "code",
   "execution_count": 21,
   "id": "3fd980ff",
   "metadata": {},
   "outputs": [
    {
     "name": "stdout",
     "output_type": "stream",
     "text": [
      "error in estimating w: tensor([ 1.0468e-03, -3.3140e-05])\n",
      "error in estimating b: tensor([0.0004])\n"
     ]
    }
   ],
   "source": [
    "estimate_error()"
   ]
  },
  {
   "cell_type": "markdown",
   "id": "e5f015be",
   "metadata": {},
   "source": [
    "### With using HuberLoss method"
   ]
  },
  {
   "cell_type": "markdown",
   "id": "c2cd1635",
   "metadata": {},
   "source": [
    "#### HuberLoss - uses a squared term if the absolute element-wise error falls below delta and a delta-scaled L1 term otherwise."
   ]
  },
  {
   "cell_type": "code",
   "execution_count": 22,
   "id": "b1193895",
   "metadata": {},
   "outputs": [],
   "source": [
    "loss = nn.HuberLoss()"
   ]
  },
  {
   "cell_type": "code",
   "execution_count": 23,
   "id": "17dee011",
   "metadata": {},
   "outputs": [
    {
     "name": "stdout",
     "output_type": "stream",
     "text": [
      "epoch 1, loss 0.000053\n",
      "epoch 2, loss 0.000053\n",
      "epoch 3, loss 0.000053\n"
     ]
    }
   ],
   "source": [
    "train()"
   ]
  },
  {
   "cell_type": "code",
   "execution_count": 24,
   "id": "0c1a2e3c",
   "metadata": {},
   "outputs": [
    {
     "name": "stdout",
     "output_type": "stream",
     "text": [
      "error in estimating w: tensor([ 1.0468e-03, -3.3140e-05])\n",
      "error in estimating b: tensor([0.0004])\n"
     ]
    }
   ],
   "source": [
    "estimate_error()"
   ]
  }
 ],
 "metadata": {
  "kernelspec": {
   "display_name": "Python 3",
   "language": "python",
   "name": "python3"
  },
  "language_info": {
   "codemirror_mode": {
    "name": "ipython",
    "version": 3
   },
   "file_extension": ".py",
   "mimetype": "text/x-python",
   "name": "python",
   "nbconvert_exporter": "python",
   "pygments_lexer": "ipython3",
   "version": "3.8.10"
  }
 },
 "nbformat": 4,
 "nbformat_minor": 5
}
