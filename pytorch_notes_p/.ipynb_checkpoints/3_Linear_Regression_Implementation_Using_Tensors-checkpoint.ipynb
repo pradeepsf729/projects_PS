{
 "cells": [
  {
   "cell_type": "code",
   "execution_count": null,
   "id": "6d88ff33",
   "metadata": {},
   "outputs": [],
   "source": [
    "%matplotlib inline"
   ]
  },
  {
   "cell_type": "code",
   "execution_count": null,
   "id": "29b0b56d",
   "metadata": {},
   "outputs": [],
   "source": [
    "import random\n",
    "import torch"
   ]
  },
  {
   "cell_type": "code",
   "execution_count": null,
   "id": "25479bb2",
   "metadata": {},
   "outputs": [],
   "source": [
    "from d2l import torch as d2l"
   ]
  },
  {
   "cell_type": "markdown",
   "id": "4e2464cc",
   "metadata": {},
   "source": [
    "### Generating the dataset"
   ]
  },
  {
   "cell_type": "code",
   "execution_count": null,
   "id": "76b4aba1",
   "metadata": {},
   "outputs": [],
   "source": [
    "x1 = torch.normal(0, 1, (10, 2))"
   ]
  },
  {
   "cell_type": "code",
   "execution_count": null,
   "id": "24634168",
   "metadata": {},
   "outputs": [],
   "source": [
    "x1"
   ]
  },
  {
   "cell_type": "code",
   "execution_count": null,
   "id": "fad38a79",
   "metadata": {},
   "outputs": [],
   "source": [
    "x1.reshape(-1, 1).shape"
   ]
  },
  {
   "cell_type": "code",
   "execution_count": null,
   "id": "26dfb532",
   "metadata": {},
   "outputs": [],
   "source": [
    "def synthetic_data(w, b, num_examples):    #@save\n",
    "    \"\"\" Generate y = wx + b + noise (error)\n",
    "        Use standard normal distribution   \"\"\"\n",
    "    X = torch.normal(0, 1, (num_examples, len(w)))\n",
    "    y = torch.matmul(X, w) + b\n",
    "    y = y + torch.normal(0, 0.01, y.shape)   # error term\n",
    "    return X, y.reshape((-1, 1))"
   ]
  },
  {
   "cell_type": "markdown",
   "id": "7f6d93c8",
   "metadata": {},
   "source": [
    "#### initial model parameters for data generation"
   ]
  },
  {
   "cell_type": "code",
   "execution_count": null,
   "id": "a8d7f6e0",
   "metadata": {},
   "outputs": [],
   "source": [
    "true_w = torch.tensor([2, -3.4])\n",
    "true_b = 4.2"
   ]
  },
  {
   "cell_type": "code",
   "execution_count": null,
   "id": "3e59589a",
   "metadata": {},
   "outputs": [],
   "source": [
    "features, labels = synthetic_data(true_w, true_b, 1000)"
   ]
  },
  {
   "cell_type": "code",
   "execution_count": null,
   "id": "ca9f3613",
   "metadata": {},
   "outputs": [],
   "source": [
    "features.shape    # 1000 examples with two features each"
   ]
  },
  {
   "cell_type": "code",
   "execution_count": null,
   "id": "6ba76517",
   "metadata": {},
   "outputs": [],
   "source": [
    "labels.shape"
   ]
  },
  {
   "cell_type": "code",
   "execution_count": null,
   "id": "9db0d12b",
   "metadata": {},
   "outputs": [],
   "source": [
    "features[1:4]    # each row in feature is one example"
   ]
  },
  {
   "cell_type": "code",
   "execution_count": null,
   "id": "f2e9464d",
   "metadata": {},
   "outputs": [],
   "source": [
    "labels[1:4]     # each row is label for one example"
   ]
  },
  {
   "cell_type": "code",
   "execution_count": null,
   "id": "382c8863",
   "metadata": {},
   "outputs": [],
   "source": [
    "print('features:', features[0], '\\nlabel:', labels[0])"
   ]
  },
  {
   "cell_type": "markdown",
   "id": "e0daaaa4",
   "metadata": {},
   "source": [
    "#### plotting labels with feature set (x2) - second dimension"
   ]
  },
  {
   "cell_type": "code",
   "execution_count": null,
   "id": "aa1fe8a3",
   "metadata": {},
   "outputs": [],
   "source": [
    "d2l.set_figsize()\n",
    "d2l.plt.scatter(features[:, (1)].detach().numpy(), labels.detach().numpy(), 1);"
   ]
  },
  {
   "cell_type": "markdown",
   "id": "f630137c",
   "metadata": {},
   "source": [
    "#### plotting labels with feature set (x1) - first dimension"
   ]
  },
  {
   "cell_type": "code",
   "execution_count": null,
   "id": "ba30e026",
   "metadata": {},
   "outputs": [],
   "source": [
    "d2l.set_figsize()\n",
    "d2l.plt.scatter(features[:, (0)].detach().numpy(), labels.detach().numpy(), 1);"
   ]
  },
  {
   "cell_type": "markdown",
   "id": "94da055a",
   "metadata": {},
   "source": [
    "### Selecting the dataset in batches for minibatch stochastic gradient descent."
   ]
  },
  {
   "cell_type": "code",
   "execution_count": null,
   "id": "b4e6f6ec",
   "metadata": {},
   "outputs": [],
   "source": [
    "x2 = torch.tensor([0, 1, 2, 3, 4])"
   ]
  },
  {
   "cell_type": "code",
   "execution_count": null,
   "id": "3532267a",
   "metadata": {},
   "outputs": [],
   "source": [
    "features[x2]"
   ]
  },
  {
   "cell_type": "code",
   "execution_count": null,
   "id": "0d18c5aa",
   "metadata": {},
   "outputs": [],
   "source": [
    "labels[x2]"
   ]
  },
  {
   "cell_type": "code",
   "execution_count": null,
   "id": "70037747",
   "metadata": {},
   "outputs": [],
   "source": [
    "def data_iter(batch_size, features, labels):\n",
    "    \"\"\"\n",
    "    returns randomly choosen batch_size sample of features and labels\n",
    "    \"\"\"\n",
    "    num_examples = len(features)\n",
    "    indices = list(range(num_examples))\n",
    "    random.shuffle(indices)\n",
    "    \n",
    "    for i in range(0, num_examples, batch_size):\n",
    "        batch_indices = indices[i : min(i + batch_size, num_examples)]\n",
    "        batch_indices = torch.tensor(batch_indices)\n",
    "        yield features[batch_indices], labels[batch_indices]"
   ]
  },
  {
   "cell_type": "markdown",
   "id": "9f0cd525",
   "metadata": {},
   "source": [
    "#### testing the batch data reading part"
   ]
  },
  {
   "cell_type": "code",
   "execution_count": null,
   "id": "152cf55f",
   "metadata": {},
   "outputs": [],
   "source": [
    "count = 0\n",
    "for X, y in data_iter(500, features, labels):\n",
    "    print(X.shape)\n",
    "    print(y.shape)\n",
    "    print('--------')\n",
    "    count += 1\n",
    "\n",
    "print(count)"
   ]
  },
  {
   "cell_type": "code",
   "execution_count": null,
   "id": "0c5f7909",
   "metadata": {},
   "outputs": [],
   "source": [
    "count = 0\n",
    "for X, y in data_iter(200, features, labels):\n",
    "    print(X.shape)\n",
    "    print(y.shape)\n",
    "    print('--------')\n",
    "    count += 1\n",
    "\n",
    "print(count)"
   ]
  },
  {
   "cell_type": "markdown",
   "id": "339acced",
   "metadata": {},
   "source": [
    "#### with batch_size not multiple of total examples"
   ]
  },
  {
   "cell_type": "code",
   "execution_count": null,
   "id": "eb424d1b",
   "metadata": {},
   "outputs": [],
   "source": [
    "count = 0\n",
    "for X, y in data_iter(300, features, labels):\n",
    "    print(X.shape, len(X))\n",
    "    print(y.shape, len(y))\n",
    "    print('--------')\n",
    "    count += 1\n",
    "\n",
    "print(count)"
   ]
  },
  {
   "cell_type": "markdown",
   "id": "fb0842ad",
   "metadata": {},
   "source": [
    "### selecting initial model parameters "
   ]
  },
  {
   "cell_type": "code",
   "execution_count": null,
   "id": "0ad70ecb",
   "metadata": {},
   "outputs": [],
   "source": [
    "w = torch.normal(0, 0.01, size=(2, 1), requires_grad=True)  # automatic differentiation\n",
    "b = torch.zeros(1, requires_grad=True)"
   ]
  },
  {
   "cell_type": "code",
   "execution_count": null,
   "id": "0afe9f3c",
   "metadata": {},
   "outputs": [],
   "source": [
    "w, w.shape, b, b.shape"
   ]
  },
  {
   "cell_type": "markdown",
   "id": "1ebe5a65",
   "metadata": {},
   "source": [
    "### defining the linear model"
   ]
  },
  {
   "cell_type": "code",
   "execution_count": null,
   "id": "360c194f",
   "metadata": {},
   "outputs": [],
   "source": [
    "def linreg(X, w, b):   #@save\n",
    "    \"\"\"\n",
    "    Linear regression model with given weight and ias parameters\n",
    "    \"\"\"\n",
    "    return torch.matmul(X, w) + b"
   ]
  },
  {
   "cell_type": "code",
   "execution_count": null,
   "id": "750c19ed",
   "metadata": {},
   "outputs": [],
   "source": [
    "def squared_loss(y_hat, y):     #@save\n",
    "    \"\"\"\n",
    "    squared loss function for the predicted and actual variables\n",
    "    \"\"\"\n",
    "    return (y_hat - y.reshape(y_hat.shape))**2 / 2"
   ]
  },
  {
   "cell_type": "markdown",
   "id": "d6d09313",
   "metadata": {},
   "source": [
    "### defining the optimization method, minibatch stochastic gradient descent"
   ]
  },
  {
   "cell_type": "code",
   "execution_count": null,
   "id": "0c4b97e4",
   "metadata": {},
   "outputs": [],
   "source": [
    "def sgd(params, learning_rate, batch_size):   #@save\n",
    "    \"\"\"\n",
    "    Updates the parameters for every batch with\n",
    "    the gradient with respect to the loss for the given learning rate\n",
    "    \"\"\"\n",
    "    with torch.no_grad():\n",
    "        for param in params:\n",
    "            param -= learning_rate * param.grad / batch_size\n",
    "            param.grad.zero_()"
   ]
  },
  {
   "cell_type": "markdown",
   "id": "1706c449",
   "metadata": {},
   "source": [
    "### traning the data to generate the model parameters"
   ]
  },
  {
   "cell_type": "raw",
   "id": "2b08ed96",
   "metadata": {},
   "source": [
    "we will execute the following loop:\n",
    "• Initialize parameters (w; b)\n",
    "• Repeat until done\n",
    "     – Compute gradient g\n",
    "     – Update parameters (w; b) with learning rate and gradients"
   ]
  },
  {
   "cell_type": "markdown",
   "id": "bf63bb4c",
   "metadata": {},
   "source": [
    "### Setting up hyer parameters"
   ]
  },
  {
   "cell_type": "code",
   "execution_count": null,
   "id": "7f16eeed",
   "metadata": {},
   "outputs": [],
   "source": [
    "learning_rate = 0.3\n",
    "num_epochs = 3"
   ]
  },
  {
   "cell_type": "code",
   "execution_count": null,
   "id": "d97bbd75",
   "metadata": {},
   "outputs": [],
   "source": [
    "model = linreg\n",
    "loss = squared_loss\n",
    "batch_size = 10"
   ]
  },
  {
   "cell_type": "code",
   "execution_count": null,
   "id": "13293dc1",
   "metadata": {},
   "outputs": [],
   "source": [
    "def train(learning_rate=0.3, num_epochs=3):\n",
    "    for epoch in range(num_epochs):\n",
    "        for X,y in data_iter(batch_size, features, labels):\n",
    "            y_hat = model(X, w, b)\n",
    "\n",
    "            # calculate the loss for current batch\n",
    "            l = loss(y_hat, y)\n",
    "\n",
    "            # compute the gradient on 'loss' w.r.t to model params [w, b]\n",
    "            l.sum().backward()\n",
    "\n",
    "            # update the params with the new gradient\n",
    "            sgd([w, b], learning_rate, batch_size)\n",
    "\n",
    "        with torch.no_grad():\n",
    "            training_loss = loss(model(X, w, b), y)\n",
    "            print(f'epoch {epoch + 1}, loss {float(training_loss.mean()):f}')\n",
    "    \n",
    "    print(f'error in estimating w: {true_w - w.reshape(true_w.shape)}')\n",
    "    print(f'error in estimating b: {true_b - b}')"
   ]
  },
  {
   "cell_type": "code",
   "execution_count": null,
   "id": "1b83fc3f",
   "metadata": {},
   "outputs": [],
   "source": [
    "train()"
   ]
  },
  {
   "cell_type": "markdown",
   "id": "2c570ad7",
   "metadata": {},
   "source": [
    "### With different learning rate"
   ]
  },
  {
   "cell_type": "code",
   "execution_count": null,
   "id": "0de73ee5",
   "metadata": {},
   "outputs": [],
   "source": [
    "train(0.1, 3)"
   ]
  },
  {
   "cell_type": "code",
   "execution_count": null,
   "id": "53dee1f4",
   "metadata": {},
   "outputs": [],
   "source": [
    "train(0.2, 5)"
   ]
  },
  {
   "cell_type": "markdown",
   "id": "efadcee1",
   "metadata": {},
   "source": [
    "### With initializing the inital params to zero"
   ]
  },
  {
   "cell_type": "code",
   "execution_count": null,
   "id": "d2b1d1e1",
   "metadata": {},
   "outputs": [],
   "source": [
    "w = torch.zeros([2, 1], requires_grad=True)\n",
    "b = torch.zeros(1, requires_grad=True)"
   ]
  },
  {
   "cell_type": "code",
   "execution_count": null,
   "id": "b08d7e2c",
   "metadata": {},
   "outputs": [],
   "source": [
    "w, b, w.shape"
   ]
  },
  {
   "cell_type": "code",
   "execution_count": null,
   "id": "3df844e3",
   "metadata": {},
   "outputs": [],
   "source": [
    "train()"
   ]
  },
  {
   "cell_type": "code",
   "execution_count": null,
   "id": "a73fa695",
   "metadata": {},
   "outputs": [],
   "source": []
  }
 ],
 "metadata": {
  "kernelspec": {
   "display_name": "Python 3",
   "language": "python",
   "name": "python3"
  },
  "language_info": {
   "codemirror_mode": {
    "name": "ipython",
    "version": 3
   },
   "file_extension": ".py",
   "mimetype": "text/x-python",
   "name": "python",
   "nbconvert_exporter": "python",
   "pygments_lexer": "ipython3",
   "version": "3.8.10"
  }
 },
 "nbformat": 4,
 "nbformat_minor": 5
}
