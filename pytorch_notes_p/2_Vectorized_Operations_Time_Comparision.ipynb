{
 "cells": [
  {
   "cell_type": "code",
   "execution_count": 1,
   "id": "864d0805",
   "metadata": {},
   "outputs": [],
   "source": [
    "import torch"
   ]
  },
  {
   "cell_type": "code",
   "execution_count": 2,
   "id": "999d6e9b",
   "metadata": {},
   "outputs": [],
   "source": [
    "n = 10000"
   ]
  },
  {
   "cell_type": "code",
   "execution_count": 3,
   "id": "18819214",
   "metadata": {},
   "outputs": [],
   "source": [
    "a = torch.ones(n)"
   ]
  },
  {
   "cell_type": "code",
   "execution_count": 4,
   "id": "6b4d090a",
   "metadata": {},
   "outputs": [
    {
     "data": {
      "text/plain": [
       "tensor([1., 1., 1.,  ..., 1., 1., 1.])"
      ]
     },
     "execution_count": 4,
     "metadata": {},
     "output_type": "execute_result"
    }
   ],
   "source": [
    "a"
   ]
  },
  {
   "cell_type": "code",
   "execution_count": 5,
   "id": "1905ce5e",
   "metadata": {},
   "outputs": [
    {
     "data": {
      "text/plain": [
       "torch.Size([10000])"
      ]
     },
     "execution_count": 5,
     "metadata": {},
     "output_type": "execute_result"
    }
   ],
   "source": [
    "a.shape"
   ]
  },
  {
   "cell_type": "code",
   "execution_count": 6,
   "id": "2c014403",
   "metadata": {},
   "outputs": [],
   "source": [
    "b = torch.ones(n)"
   ]
  },
  {
   "cell_type": "markdown",
   "id": "0cf98a40",
   "metadata": {},
   "source": [
    "### vectorized operation"
   ]
  },
  {
   "cell_type": "code",
   "execution_count": 7,
   "id": "99ac456c",
   "metadata": {},
   "outputs": [
    {
     "name": "stdout",
     "output_type": "stream",
     "text": [
      "10.5 µs ± 9.11 ns per loop (mean ± std. dev. of 7 runs, 100000 loops each)\n"
     ]
    }
   ],
   "source": [
    "%timeit a + b  "
   ]
  },
  {
   "cell_type": "markdown",
   "id": "3b814117",
   "metadata": {},
   "source": [
    "### using for loop"
   ]
  },
  {
   "cell_type": "code",
   "execution_count": 8,
   "id": "d880b293",
   "metadata": {},
   "outputs": [],
   "source": [
    "def test():\n",
    "    c = torch.zeros(n)\n",
    "    for i in range(n):\n",
    "        c[i] = a[i] + b[i]"
   ]
  },
  {
   "cell_type": "code",
   "execution_count": 9,
   "id": "871a8882",
   "metadata": {},
   "outputs": [
    {
     "name": "stdout",
     "output_type": "stream",
     "text": [
      "51.1 ms ± 489 µs per loop (mean ± std. dev. of 7 runs, 10 loops each)\n"
     ]
    }
   ],
   "source": [
    "%timeit test()"
   ]
  },
  {
   "cell_type": "markdown",
   "id": "04598318",
   "metadata": {},
   "source": [
    "### Testing the same with , customized timer utility ( reer to timer.py)"
   ]
  },
  {
   "cell_type": "code",
   "execution_count": 10,
   "id": "68f11764",
   "metadata": {},
   "outputs": [],
   "source": [
    "from timer import Timer"
   ]
  },
  {
   "cell_type": "code",
   "execution_count": 11,
   "id": "fe4dee28",
   "metadata": {},
   "outputs": [
    {
     "data": {
      "text/plain": [
       "'0.00015 sec'"
      ]
     },
     "execution_count": 11,
     "metadata": {},
     "output_type": "execute_result"
    }
   ],
   "source": [
    "t_start = Timer()\n",
    "d = a + b\n",
    "f'{t_start.stop():.5f} sec'"
   ]
  },
  {
   "cell_type": "code",
   "execution_count": 12,
   "id": "5070a159",
   "metadata": {},
   "outputs": [
    {
     "data": {
      "text/plain": [
       "'0.05354 sec'"
      ]
     },
     "execution_count": 12,
     "metadata": {},
     "output_type": "execute_result"
    }
   ],
   "source": [
    "x = torch.zeros(n)\n",
    "t_start = Timer()\n",
    "for i in range(n):\n",
    "    x[i] = a[i] + b[i]\n",
    "f'{t_start.stop():.5f} sec'"
   ]
  },
  {
   "cell_type": "code",
   "execution_count": null,
   "id": "b8dc6b1c",
   "metadata": {},
   "outputs": [],
   "source": []
  }
 ],
 "metadata": {
  "kernelspec": {
   "display_name": "Python 3",
   "language": "python",
   "name": "python3"
  },
  "language_info": {
   "codemirror_mode": {
    "name": "ipython",
    "version": 3
   },
   "file_extension": ".py",
   "mimetype": "text/x-python",
   "name": "python",
   "nbconvert_exporter": "python",
   "pygments_lexer": "ipython3",
   "version": "3.8.10"
  }
 },
 "nbformat": 4,
 "nbformat_minor": 5
}
