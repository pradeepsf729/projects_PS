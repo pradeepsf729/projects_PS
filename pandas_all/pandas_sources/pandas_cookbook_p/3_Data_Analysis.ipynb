{
 "cells": [
  {
   "cell_type": "code",
   "execution_count": 1,
   "id": "e9cd495d",
   "metadata": {},
   "outputs": [],
   "source": [
    "import pandas as pd\n",
    "import numpy as np"
   ]
  },
  {
   "cell_type": "code",
   "execution_count": 2,
   "id": "62fb4e73",
   "metadata": {},
   "outputs": [],
   "source": [
    "from IPython.core.interactiveshell import InteractiveShell\n",
    "InteractiveShell.ast_node_interactivity = \"all\""
   ]
  },
  {
   "cell_type": "markdown",
   "id": "a5f23299",
   "metadata": {},
   "source": [
    "### EDA - Exploratory Data Analysis\n",
    "#### metadata and univariate statistics"
   ]
  },
  {
   "cell_type": "code",
   "execution_count": 3,
   "id": "25448c62",
   "metadata": {},
   "outputs": [
    {
     "data": {
      "text/html": [
       "<div>\n",
       "<style scoped>\n",
       "    .dataframe tbody tr th:only-of-type {\n",
       "        vertical-align: middle;\n",
       "    }\n",
       "\n",
       "    .dataframe tbody tr th {\n",
       "        vertical-align: top;\n",
       "    }\n",
       "\n",
       "    .dataframe thead th {\n",
       "        text-align: right;\n",
       "    }\n",
       "</style>\n",
       "<table border=\"1\" class=\"dataframe\">\n",
       "  <thead>\n",
       "    <tr style=\"text-align: right;\">\n",
       "      <th></th>\n",
       "      <th>INSTNM</th>\n",
       "      <th>CITY</th>\n",
       "      <th>STABBR</th>\n",
       "      <th>HBCU</th>\n",
       "      <th>MENONLY</th>\n",
       "      <th>WOMENONLY</th>\n",
       "      <th>RELAFFIL</th>\n",
       "      <th>SATVRMID</th>\n",
       "      <th>SATMTMID</th>\n",
       "      <th>DISTANCEONLY</th>\n",
       "      <th>...</th>\n",
       "      <th>UGDS_2MOR</th>\n",
       "      <th>UGDS_NRA</th>\n",
       "      <th>UGDS_UNKN</th>\n",
       "      <th>PPTUG_EF</th>\n",
       "      <th>CURROPER</th>\n",
       "      <th>PCTPELL</th>\n",
       "      <th>PCTFLOAN</th>\n",
       "      <th>UG25ABV</th>\n",
       "      <th>MD_EARN_WNE_P10</th>\n",
       "      <th>GRAD_DEBT_MDN_SUPP</th>\n",
       "    </tr>\n",
       "  </thead>\n",
       "  <tbody>\n",
       "    <tr>\n",
       "      <th>0</th>\n",
       "      <td>Alabama A &amp; M University</td>\n",
       "      <td>Normal</td>\n",
       "      <td>AL</td>\n",
       "      <td>1.0</td>\n",
       "      <td>0.0</td>\n",
       "      <td>0.0</td>\n",
       "      <td>0</td>\n",
       "      <td>424.0</td>\n",
       "      <td>420.0</td>\n",
       "      <td>0.0</td>\n",
       "      <td>...</td>\n",
       "      <td>0.0000</td>\n",
       "      <td>0.0059</td>\n",
       "      <td>0.0138</td>\n",
       "      <td>0.0656</td>\n",
       "      <td>1</td>\n",
       "      <td>0.7356</td>\n",
       "      <td>0.8284</td>\n",
       "      <td>0.1049</td>\n",
       "      <td>30300</td>\n",
       "      <td>33888</td>\n",
       "    </tr>\n",
       "    <tr>\n",
       "      <th>1</th>\n",
       "      <td>University of Alabama at Birmingham</td>\n",
       "      <td>Birmingham</td>\n",
       "      <td>AL</td>\n",
       "      <td>0.0</td>\n",
       "      <td>0.0</td>\n",
       "      <td>0.0</td>\n",
       "      <td>0</td>\n",
       "      <td>570.0</td>\n",
       "      <td>565.0</td>\n",
       "      <td>0.0</td>\n",
       "      <td>...</td>\n",
       "      <td>0.0368</td>\n",
       "      <td>0.0179</td>\n",
       "      <td>0.0100</td>\n",
       "      <td>0.2607</td>\n",
       "      <td>1</td>\n",
       "      <td>0.3460</td>\n",
       "      <td>0.5214</td>\n",
       "      <td>0.2422</td>\n",
       "      <td>39700</td>\n",
       "      <td>21941.5</td>\n",
       "    </tr>\n",
       "    <tr>\n",
       "      <th>2</th>\n",
       "      <td>Amridge University</td>\n",
       "      <td>Montgomery</td>\n",
       "      <td>AL</td>\n",
       "      <td>0.0</td>\n",
       "      <td>0.0</td>\n",
       "      <td>0.0</td>\n",
       "      <td>1</td>\n",
       "      <td>NaN</td>\n",
       "      <td>NaN</td>\n",
       "      <td>1.0</td>\n",
       "      <td>...</td>\n",
       "      <td>0.0000</td>\n",
       "      <td>0.0000</td>\n",
       "      <td>0.2715</td>\n",
       "      <td>0.4536</td>\n",
       "      <td>1</td>\n",
       "      <td>0.6801</td>\n",
       "      <td>0.7795</td>\n",
       "      <td>0.8540</td>\n",
       "      <td>40100</td>\n",
       "      <td>23370</td>\n",
       "    </tr>\n",
       "    <tr>\n",
       "      <th>3</th>\n",
       "      <td>University of Alabama in Huntsville</td>\n",
       "      <td>Huntsville</td>\n",
       "      <td>AL</td>\n",
       "      <td>0.0</td>\n",
       "      <td>0.0</td>\n",
       "      <td>0.0</td>\n",
       "      <td>0</td>\n",
       "      <td>595.0</td>\n",
       "      <td>590.0</td>\n",
       "      <td>0.0</td>\n",
       "      <td>...</td>\n",
       "      <td>0.0172</td>\n",
       "      <td>0.0332</td>\n",
       "      <td>0.0350</td>\n",
       "      <td>0.2146</td>\n",
       "      <td>1</td>\n",
       "      <td>0.3072</td>\n",
       "      <td>0.4596</td>\n",
       "      <td>0.2640</td>\n",
       "      <td>45500</td>\n",
       "      <td>24097</td>\n",
       "    </tr>\n",
       "    <tr>\n",
       "      <th>4</th>\n",
       "      <td>Alabama State University</td>\n",
       "      <td>Montgomery</td>\n",
       "      <td>AL</td>\n",
       "      <td>1.0</td>\n",
       "      <td>0.0</td>\n",
       "      <td>0.0</td>\n",
       "      <td>0</td>\n",
       "      <td>425.0</td>\n",
       "      <td>430.0</td>\n",
       "      <td>0.0</td>\n",
       "      <td>...</td>\n",
       "      <td>0.0098</td>\n",
       "      <td>0.0243</td>\n",
       "      <td>0.0137</td>\n",
       "      <td>0.0892</td>\n",
       "      <td>1</td>\n",
       "      <td>0.7347</td>\n",
       "      <td>0.7554</td>\n",
       "      <td>0.1270</td>\n",
       "      <td>26600</td>\n",
       "      <td>33118.5</td>\n",
       "    </tr>\n",
       "  </tbody>\n",
       "</table>\n",
       "<p>5 rows × 27 columns</p>\n",
       "</div>"
      ],
      "text/plain": [
       "                                INSTNM        CITY STABBR  HBCU  MENONLY  \\\n",
       "0             Alabama A & M University      Normal     AL   1.0      0.0   \n",
       "1  University of Alabama at Birmingham  Birmingham     AL   0.0      0.0   \n",
       "2                   Amridge University  Montgomery     AL   0.0      0.0   \n",
       "3  University of Alabama in Huntsville  Huntsville     AL   0.0      0.0   \n",
       "4             Alabama State University  Montgomery     AL   1.0      0.0   \n",
       "\n",
       "   WOMENONLY  RELAFFIL  SATVRMID  SATMTMID  DISTANCEONLY  ...  UGDS_2MOR  \\\n",
       "0        0.0         0     424.0     420.0           0.0  ...     0.0000   \n",
       "1        0.0         0     570.0     565.0           0.0  ...     0.0368   \n",
       "2        0.0         1       NaN       NaN           1.0  ...     0.0000   \n",
       "3        0.0         0     595.0     590.0           0.0  ...     0.0172   \n",
       "4        0.0         0     425.0     430.0           0.0  ...     0.0098   \n",
       "\n",
       "   UGDS_NRA  UGDS_UNKN  PPTUG_EF  CURROPER  PCTPELL  PCTFLOAN  UG25ABV  \\\n",
       "0    0.0059     0.0138    0.0656         1   0.7356    0.8284   0.1049   \n",
       "1    0.0179     0.0100    0.2607         1   0.3460    0.5214   0.2422   \n",
       "2    0.0000     0.2715    0.4536         1   0.6801    0.7795   0.8540   \n",
       "3    0.0332     0.0350    0.2146         1   0.3072    0.4596   0.2640   \n",
       "4    0.0243     0.0137    0.0892         1   0.7347    0.7554   0.1270   \n",
       "\n",
       "   MD_EARN_WNE_P10  GRAD_DEBT_MDN_SUPP  \n",
       "0            30300               33888  \n",
       "1            39700             21941.5  \n",
       "2            40100               23370  \n",
       "3            45500               24097  \n",
       "4            26600             33118.5  \n",
       "\n",
       "[5 rows x 27 columns]"
      ]
     },
     "execution_count": 3,
     "metadata": {},
     "output_type": "execute_result"
    }
   ],
   "source": [
    "college = pd.read_csv('data/college.csv')\n",
    "college.head()"
   ]
  },
  {
   "cell_type": "code",
   "execution_count": 4,
   "id": "723519ce",
   "metadata": {},
   "outputs": [
    {
     "data": {
      "text/plain": [
       "(7535, 27)"
      ]
     },
     "execution_count": 4,
     "metadata": {},
     "output_type": "execute_result"
    }
   ],
   "source": [
    "college.shape"
   ]
  },
  {
   "cell_type": "code",
   "execution_count": 5,
   "id": "1d15679e",
   "metadata": {},
   "outputs": [
    {
     "name": "stdout",
     "output_type": "stream",
     "text": [
      "<class 'pandas.core.frame.DataFrame'>\n",
      "RangeIndex: 7535 entries, 0 to 7534\n",
      "Data columns (total 27 columns):\n",
      " #   Column              Non-Null Count  Dtype  \n",
      "---  ------              --------------  -----  \n",
      " 0   INSTNM              7535 non-null   object \n",
      " 1   CITY                7535 non-null   object \n",
      " 2   STABBR              7535 non-null   object \n",
      " 3   HBCU                7164 non-null   float64\n",
      " 4   MENONLY             7164 non-null   float64\n",
      " 5   WOMENONLY           7164 non-null   float64\n",
      " 6   RELAFFIL            7535 non-null   int64  \n",
      " 7   SATVRMID            1185 non-null   float64\n",
      " 8   SATMTMID            1196 non-null   float64\n",
      " 9   DISTANCEONLY        7164 non-null   float64\n",
      " 10  UGDS                6874 non-null   float64\n",
      " 11  UGDS_WHITE          6874 non-null   float64\n",
      " 12  UGDS_BLACK          6874 non-null   float64\n",
      " 13  UGDS_HISP           6874 non-null   float64\n",
      " 14  UGDS_ASIAN          6874 non-null   float64\n",
      " 15  UGDS_AIAN           6874 non-null   float64\n",
      " 16  UGDS_NHPI           6874 non-null   float64\n",
      " 17  UGDS_2MOR           6874 non-null   float64\n",
      " 18  UGDS_NRA            6874 non-null   float64\n",
      " 19  UGDS_UNKN           6874 non-null   float64\n",
      " 20  PPTUG_EF            6853 non-null   float64\n",
      " 21  CURROPER            7535 non-null   int64  \n",
      " 22  PCTPELL             6849 non-null   float64\n",
      " 23  PCTFLOAN            6849 non-null   float64\n",
      " 24  UG25ABV             6718 non-null   float64\n",
      " 25  MD_EARN_WNE_P10     6413 non-null   object \n",
      " 26  GRAD_DEBT_MDN_SUPP  7503 non-null   object \n",
      "dtypes: float64(20), int64(2), object(5)\n",
      "memory usage: 1.6+ MB\n"
     ]
    }
   ],
   "source": [
    "college.info()"
   ]
  },
  {
   "cell_type": "code",
   "execution_count": 6,
   "id": "44df9aa6",
   "metadata": {},
   "outputs": [
    {
     "data": {
      "text/html": [
       "<div>\n",
       "<style scoped>\n",
       "    .dataframe tbody tr th:only-of-type {\n",
       "        vertical-align: middle;\n",
       "    }\n",
       "\n",
       "    .dataframe tbody tr th {\n",
       "        vertical-align: top;\n",
       "    }\n",
       "\n",
       "    .dataframe thead th {\n",
       "        text-align: right;\n",
       "    }\n",
       "</style>\n",
       "<table border=\"1\" class=\"dataframe\">\n",
       "  <thead>\n",
       "    <tr style=\"text-align: right;\">\n",
       "      <th></th>\n",
       "      <th>count</th>\n",
       "      <th>mean</th>\n",
       "      <th>std</th>\n",
       "      <th>min</th>\n",
       "      <th>25%</th>\n",
       "      <th>50%</th>\n",
       "      <th>75%</th>\n",
       "      <th>max</th>\n",
       "    </tr>\n",
       "  </thead>\n",
       "  <tbody>\n",
       "    <tr>\n",
       "      <th>HBCU</th>\n",
       "      <td>7164.0</td>\n",
       "      <td>0.014238</td>\n",
       "      <td>0.118478</td>\n",
       "      <td>0.0</td>\n",
       "      <td>0.0</td>\n",
       "      <td>0.0</td>\n",
       "      <td>0.0</td>\n",
       "      <td>1.0</td>\n",
       "    </tr>\n",
       "    <tr>\n",
       "      <th>MENONLY</th>\n",
       "      <td>7164.0</td>\n",
       "      <td>0.009213</td>\n",
       "      <td>0.095546</td>\n",
       "      <td>0.0</td>\n",
       "      <td>0.0</td>\n",
       "      <td>0.0</td>\n",
       "      <td>0.0</td>\n",
       "      <td>1.0</td>\n",
       "    </tr>\n",
       "    <tr>\n",
       "      <th>WOMENONLY</th>\n",
       "      <td>7164.0</td>\n",
       "      <td>0.005304</td>\n",
       "      <td>0.072642</td>\n",
       "      <td>0.0</td>\n",
       "      <td>0.0</td>\n",
       "      <td>0.0</td>\n",
       "      <td>0.0</td>\n",
       "      <td>1.0</td>\n",
       "    </tr>\n",
       "    <tr>\n",
       "      <th>RELAFFIL</th>\n",
       "      <td>7535.0</td>\n",
       "      <td>0.190975</td>\n",
       "      <td>0.393096</td>\n",
       "      <td>0.0</td>\n",
       "      <td>0.0</td>\n",
       "      <td>0.0</td>\n",
       "      <td>0.0</td>\n",
       "      <td>1.0</td>\n",
       "    </tr>\n",
       "    <tr>\n",
       "      <th>SATVRMID</th>\n",
       "      <td>1185.0</td>\n",
       "      <td>522.819409</td>\n",
       "      <td>68.578862</td>\n",
       "      <td>290.0</td>\n",
       "      <td>475.0</td>\n",
       "      <td>510.0</td>\n",
       "      <td>555.0</td>\n",
       "      <td>765.0</td>\n",
       "    </tr>\n",
       "  </tbody>\n",
       "</table>\n",
       "</div>"
      ],
      "text/plain": [
       "            count        mean        std    min    25%    50%    75%    max\n",
       "HBCU       7164.0    0.014238   0.118478    0.0    0.0    0.0    0.0    1.0\n",
       "MENONLY    7164.0    0.009213   0.095546    0.0    0.0    0.0    0.0    1.0\n",
       "WOMENONLY  7164.0    0.005304   0.072642    0.0    0.0    0.0    0.0    1.0\n",
       "RELAFFIL   7535.0    0.190975   0.393096    0.0    0.0    0.0    0.0    1.0\n",
       "SATVRMID   1185.0  522.819409  68.578862  290.0  475.0  510.0  555.0  765.0"
      ]
     },
     "execution_count": 6,
     "metadata": {},
     "output_type": "execute_result"
    }
   ],
   "source": [
    "college.describe(include=[np.number]).T.head() "
   ]
  },
  {
   "cell_type": "code",
   "execution_count": 7,
   "id": "fdba59f1",
   "metadata": {},
   "outputs": [
    {
     "data": {
      "text/html": [
       "<div>\n",
       "<style scoped>\n",
       "    .dataframe tbody tr th:only-of-type {\n",
       "        vertical-align: middle;\n",
       "    }\n",
       "\n",
       "    .dataframe tbody tr th {\n",
       "        vertical-align: top;\n",
       "    }\n",
       "\n",
       "    .dataframe thead th {\n",
       "        text-align: right;\n",
       "    }\n",
       "</style>\n",
       "<table border=\"1\" class=\"dataframe\">\n",
       "  <thead>\n",
       "    <tr style=\"text-align: right;\">\n",
       "      <th></th>\n",
       "      <th>count</th>\n",
       "      <th>unique</th>\n",
       "      <th>top</th>\n",
       "      <th>freq</th>\n",
       "    </tr>\n",
       "  </thead>\n",
       "  <tbody>\n",
       "    <tr>\n",
       "      <th>INSTNM</th>\n",
       "      <td>7535</td>\n",
       "      <td>7535</td>\n",
       "      <td>American Indian OIC Inc</td>\n",
       "      <td>1</td>\n",
       "    </tr>\n",
       "    <tr>\n",
       "      <th>CITY</th>\n",
       "      <td>7535</td>\n",
       "      <td>2514</td>\n",
       "      <td>New York</td>\n",
       "      <td>87</td>\n",
       "    </tr>\n",
       "    <tr>\n",
       "      <th>STABBR</th>\n",
       "      <td>7535</td>\n",
       "      <td>59</td>\n",
       "      <td>CA</td>\n",
       "      <td>773</td>\n",
       "    </tr>\n",
       "    <tr>\n",
       "      <th>MD_EARN_WNE_P10</th>\n",
       "      <td>6413</td>\n",
       "      <td>598</td>\n",
       "      <td>PrivacySuppressed</td>\n",
       "      <td>822</td>\n",
       "    </tr>\n",
       "    <tr>\n",
       "      <th>GRAD_DEBT_MDN_SUPP</th>\n",
       "      <td>7503</td>\n",
       "      <td>2038</td>\n",
       "      <td>PrivacySuppressed</td>\n",
       "      <td>1510</td>\n",
       "    </tr>\n",
       "  </tbody>\n",
       "</table>\n",
       "</div>"
      ],
      "text/plain": [
       "                   count unique                      top  freq\n",
       "INSTNM              7535   7535  American Indian OIC Inc     1\n",
       "CITY                7535   2514                 New York    87\n",
       "STABBR              7535     59                       CA   773\n",
       "MD_EARN_WNE_P10     6413    598        PrivacySuppressed   822\n",
       "GRAD_DEBT_MDN_SUPP  7503   2038        PrivacySuppressed  1510"
      ]
     },
     "execution_count": 7,
     "metadata": {},
     "output_type": "execute_result"
    }
   ],
   "source": [
    "college.describe(include=[object, pd.Categorical]).T"
   ]
  },
  {
   "cell_type": "code",
   "execution_count": 8,
   "id": "96417aa1",
   "metadata": {},
   "outputs": [
    {
     "data": {
      "text/html": [
       "<div>\n",
       "<style scoped>\n",
       "    .dataframe tbody tr th:only-of-type {\n",
       "        vertical-align: middle;\n",
       "    }\n",
       "\n",
       "    .dataframe tbody tr th {\n",
       "        vertical-align: top;\n",
       "    }\n",
       "\n",
       "    .dataframe thead th {\n",
       "        text-align: right;\n",
       "    }\n",
       "</style>\n",
       "<table border=\"1\" class=\"dataframe\">\n",
       "  <thead>\n",
       "    <tr style=\"text-align: right;\">\n",
       "      <th></th>\n",
       "      <th>count</th>\n",
       "      <th>mean</th>\n",
       "      <th>std</th>\n",
       "      <th>min</th>\n",
       "      <th>1%</th>\n",
       "      <th>10%</th>\n",
       "      <th>25%</th>\n",
       "      <th>50%</th>\n",
       "      <th>75%</th>\n",
       "      <th>95%</th>\n",
       "      <th>99%</th>\n",
       "      <th>max</th>\n",
       "    </tr>\n",
       "  </thead>\n",
       "  <tbody>\n",
       "    <tr>\n",
       "      <th>HBCU</th>\n",
       "      <td>7164.0</td>\n",
       "      <td>0.014238</td>\n",
       "      <td>0.118478</td>\n",
       "      <td>0.0</td>\n",
       "      <td>0.0</td>\n",
       "      <td>0.0</td>\n",
       "      <td>0.0</td>\n",
       "      <td>0.0</td>\n",
       "      <td>0.0</td>\n",
       "      <td>0.0</td>\n",
       "      <td>1.0</td>\n",
       "      <td>1.0</td>\n",
       "    </tr>\n",
       "    <tr>\n",
       "      <th>MENONLY</th>\n",
       "      <td>7164.0</td>\n",
       "      <td>0.009213</td>\n",
       "      <td>0.095546</td>\n",
       "      <td>0.0</td>\n",
       "      <td>0.0</td>\n",
       "      <td>0.0</td>\n",
       "      <td>0.0</td>\n",
       "      <td>0.0</td>\n",
       "      <td>0.0</td>\n",
       "      <td>0.0</td>\n",
       "      <td>0.0</td>\n",
       "      <td>1.0</td>\n",
       "    </tr>\n",
       "    <tr>\n",
       "      <th>WOMENONLY</th>\n",
       "      <td>7164.0</td>\n",
       "      <td>0.005304</td>\n",
       "      <td>0.072642</td>\n",
       "      <td>0.0</td>\n",
       "      <td>0.0</td>\n",
       "      <td>0.0</td>\n",
       "      <td>0.0</td>\n",
       "      <td>0.0</td>\n",
       "      <td>0.0</td>\n",
       "      <td>0.0</td>\n",
       "      <td>0.0</td>\n",
       "      <td>1.0</td>\n",
       "    </tr>\n",
       "    <tr>\n",
       "      <th>RELAFFIL</th>\n",
       "      <td>7535.0</td>\n",
       "      <td>0.190975</td>\n",
       "      <td>0.393096</td>\n",
       "      <td>0.0</td>\n",
       "      <td>0.0</td>\n",
       "      <td>0.0</td>\n",
       "      <td>0.0</td>\n",
       "      <td>0.0</td>\n",
       "      <td>0.0</td>\n",
       "      <td>1.0</td>\n",
       "      <td>1.0</td>\n",
       "      <td>1.0</td>\n",
       "    </tr>\n",
       "    <tr>\n",
       "      <th>SATVRMID</th>\n",
       "      <td>1185.0</td>\n",
       "      <td>522.819409</td>\n",
       "      <td>68.578862</td>\n",
       "      <td>290.0</td>\n",
       "      <td>390.0</td>\n",
       "      <td>447.4</td>\n",
       "      <td>475.0</td>\n",
       "      <td>510.0</td>\n",
       "      <td>555.0</td>\n",
       "      <td>665.0</td>\n",
       "      <td>730.0</td>\n",
       "      <td>765.0</td>\n",
       "    </tr>\n",
       "  </tbody>\n",
       "</table>\n",
       "</div>"
      ],
      "text/plain": [
       "            count        mean        std    min     1%    10%    25%    50%  \\\n",
       "HBCU       7164.0    0.014238   0.118478    0.0    0.0    0.0    0.0    0.0   \n",
       "MENONLY    7164.0    0.009213   0.095546    0.0    0.0    0.0    0.0    0.0   \n",
       "WOMENONLY  7164.0    0.005304   0.072642    0.0    0.0    0.0    0.0    0.0   \n",
       "RELAFFIL   7535.0    0.190975   0.393096    0.0    0.0    0.0    0.0    0.0   \n",
       "SATVRMID   1185.0  522.819409  68.578862  290.0  390.0  447.4  475.0  510.0   \n",
       "\n",
       "             75%    95%    99%    max  \n",
       "HBCU         0.0    0.0    1.0    1.0  \n",
       "MENONLY      0.0    0.0    0.0    1.0  \n",
       "WOMENONLY    0.0    0.0    0.0    1.0  \n",
       "RELAFFIL     0.0    1.0    1.0    1.0  \n",
       "SATVRMID   555.0  665.0  730.0  765.0  "
      ]
     },
     "execution_count": 8,
     "metadata": {},
     "output_type": "execute_result"
    }
   ],
   "source": [
    "college.describe(include=[np.number],\n",
    "                percentiles=[.01, .10, .25, .75, .95, .99]).T.head()"
   ]
  },
  {
   "cell_type": "code",
   "execution_count": 9,
   "id": "173dfe08",
   "metadata": {},
   "outputs": [
    {
     "data": {
      "text/html": [
       "<div>\n",
       "<style scoped>\n",
       "    .dataframe tbody tr th:only-of-type {\n",
       "        vertical-align: middle;\n",
       "    }\n",
       "\n",
       "    .dataframe tbody tr th {\n",
       "        vertical-align: top;\n",
       "    }\n",
       "\n",
       "    .dataframe thead th {\n",
       "        text-align: right;\n",
       "    }\n",
       "</style>\n",
       "<table border=\"1\" class=\"dataframe\">\n",
       "  <thead>\n",
       "    <tr style=\"text-align: right;\">\n",
       "      <th></th>\n",
       "      <th>column_name</th>\n",
       "      <th>description</th>\n",
       "    </tr>\n",
       "  </thead>\n",
       "  <tbody>\n",
       "    <tr>\n",
       "      <th>0</th>\n",
       "      <td>INSTNM</td>\n",
       "      <td>Institution Name</td>\n",
       "    </tr>\n",
       "    <tr>\n",
       "      <th>1</th>\n",
       "      <td>CITY</td>\n",
       "      <td>City Location</td>\n",
       "    </tr>\n",
       "    <tr>\n",
       "      <th>2</th>\n",
       "      <td>STABBR</td>\n",
       "      <td>State Abbreviation</td>\n",
       "    </tr>\n",
       "    <tr>\n",
       "      <th>3</th>\n",
       "      <td>HBCU</td>\n",
       "      <td>Historically Black College or University</td>\n",
       "    </tr>\n",
       "    <tr>\n",
       "      <th>4</th>\n",
       "      <td>MENONLY</td>\n",
       "      <td>0/1 Men Only</td>\n",
       "    </tr>\n",
       "  </tbody>\n",
       "</table>\n",
       "</div>"
      ],
      "text/plain": [
       "  column_name                               description\n",
       "0      INSTNM                          Institution Name\n",
       "1        CITY                             City Location\n",
       "2      STABBR                        State Abbreviation\n",
       "3        HBCU  Historically Black College or University\n",
       "4     MENONLY                              0/1 Men Only"
      ]
     },
     "execution_count": 9,
     "metadata": {},
     "output_type": "execute_result"
    }
   ],
   "source": [
    "pd.read_csv('data/college_data_dictionary.csv').head()"
   ]
  },
  {
   "cell_type": "markdown",
   "id": "0b86560c",
   "metadata": {},
   "source": [
    "### memory reduction from dataset"
   ]
  },
  {
   "cell_type": "code",
   "execution_count": 10,
   "id": "00385fad",
   "metadata": {},
   "outputs": [
    {
     "data": {
      "text/html": [
       "<div>\n",
       "<style scoped>\n",
       "    .dataframe tbody tr th:only-of-type {\n",
       "        vertical-align: middle;\n",
       "    }\n",
       "\n",
       "    .dataframe tbody tr th {\n",
       "        vertical-align: top;\n",
       "    }\n",
       "\n",
       "    .dataframe thead th {\n",
       "        text-align: right;\n",
       "    }\n",
       "</style>\n",
       "<table border=\"1\" class=\"dataframe\">\n",
       "  <thead>\n",
       "    <tr style=\"text-align: right;\">\n",
       "      <th></th>\n",
       "      <th>RELAFFIL</th>\n",
       "      <th>SATMTMID</th>\n",
       "      <th>CURROPER</th>\n",
       "      <th>INSTNM</th>\n",
       "      <th>STABBR</th>\n",
       "    </tr>\n",
       "  </thead>\n",
       "  <tbody>\n",
       "    <tr>\n",
       "      <th>0</th>\n",
       "      <td>0</td>\n",
       "      <td>420.0</td>\n",
       "      <td>1</td>\n",
       "      <td>Alabama A &amp; M University</td>\n",
       "      <td>AL</td>\n",
       "    </tr>\n",
       "    <tr>\n",
       "      <th>1</th>\n",
       "      <td>0</td>\n",
       "      <td>565.0</td>\n",
       "      <td>1</td>\n",
       "      <td>University of Alabama at Birmingham</td>\n",
       "      <td>AL</td>\n",
       "    </tr>\n",
       "    <tr>\n",
       "      <th>2</th>\n",
       "      <td>1</td>\n",
       "      <td>NaN</td>\n",
       "      <td>1</td>\n",
       "      <td>Amridge University</td>\n",
       "      <td>AL</td>\n",
       "    </tr>\n",
       "    <tr>\n",
       "      <th>3</th>\n",
       "      <td>0</td>\n",
       "      <td>590.0</td>\n",
       "      <td>1</td>\n",
       "      <td>University of Alabama in Huntsville</td>\n",
       "      <td>AL</td>\n",
       "    </tr>\n",
       "    <tr>\n",
       "      <th>4</th>\n",
       "      <td>0</td>\n",
       "      <td>430.0</td>\n",
       "      <td>1</td>\n",
       "      <td>Alabama State University</td>\n",
       "      <td>AL</td>\n",
       "    </tr>\n",
       "  </tbody>\n",
       "</table>\n",
       "</div>"
      ],
      "text/plain": [
       "   RELAFFIL  SATMTMID  CURROPER                               INSTNM STABBR\n",
       "0         0     420.0         1             Alabama A & M University     AL\n",
       "1         0     565.0         1  University of Alabama at Birmingham     AL\n",
       "2         1       NaN         1                   Amridge University     AL\n",
       "3         0     590.0         1  University of Alabama in Huntsville     AL\n",
       "4         0     430.0         1             Alabama State University     AL"
      ]
     },
     "execution_count": 10,
     "metadata": {},
     "output_type": "execute_result"
    }
   ],
   "source": [
    "college = pd.read_csv('data/college.csv')\n",
    "different_cols = ['RELAFFIL', 'SATMTMID', 'CURROPER', 'INSTNM', 'STABBR']\n",
    "col2 = college.loc[:, different_cols]\n",
    "col2.head()"
   ]
  },
  {
   "cell_type": "code",
   "execution_count": 11,
   "id": "938efb5c",
   "metadata": {},
   "outputs": [
    {
     "data": {
      "text/plain": [
       "RELAFFIL      int64\n",
       "SATMTMID    float64\n",
       "CURROPER      int64\n",
       "INSTNM       object\n",
       "STABBR       object\n",
       "dtype: object"
      ]
     },
     "execution_count": 11,
     "metadata": {},
     "output_type": "execute_result"
    }
   ],
   "source": [
    "col2.dtypes"
   ]
  },
  {
   "cell_type": "code",
   "execution_count": 12,
   "id": "c3b00bd8",
   "metadata": {},
   "outputs": [
    {
     "data": {
      "text/plain": [
       "Index          128\n",
       "RELAFFIL     60280\n",
       "SATMTMID     60280\n",
       "CURROPER     60280\n",
       "INSTNM      660240\n",
       "STABBR      444565\n",
       "dtype: int64"
      ]
     },
     "execution_count": 12,
     "metadata": {},
     "output_type": "execute_result"
    }
   ],
   "source": [
    "mem_usage = col2.memory_usage(deep=True)\n",
    "mem_usage"
   ]
  },
  {
   "cell_type": "code",
   "execution_count": 13,
   "id": "b75ef25e",
   "metadata": {},
   "outputs": [],
   "source": [
    "col2['RELAFFIL'] = col2['RELAFFIL'].astype(np.int8)"
   ]
  },
  {
   "cell_type": "code",
   "execution_count": 14,
   "id": "6183a642",
   "metadata": {},
   "outputs": [
    {
     "data": {
      "text/plain": [
       "RELAFFIL       int8\n",
       "SATMTMID    float64\n",
       "CURROPER      int64\n",
       "INSTNM       object\n",
       "STABBR       object\n",
       "dtype: object"
      ]
     },
     "execution_count": 14,
     "metadata": {},
     "output_type": "execute_result"
    }
   ],
   "source": [
    "col2.dtypes"
   ]
  },
  {
   "cell_type": "code",
   "execution_count": 15,
   "id": "18c6166f",
   "metadata": {},
   "outputs": [
    {
     "data": {
      "text/plain": [
       "Index          128\n",
       "RELAFFIL      7535\n",
       "SATMTMID     60280\n",
       "CURROPER     60280\n",
       "INSTNM      660240\n",
       "STABBR      444565\n",
       "dtype: int64"
      ]
     },
     "execution_count": 15,
     "metadata": {},
     "output_type": "execute_result"
    }
   ],
   "source": [
    "col2.memory_usage(deep=True)"
   ]
  },
  {
   "cell_type": "code",
   "execution_count": 16,
   "id": "056e0b62",
   "metadata": {},
   "outputs": [
    {
     "data": {
      "text/plain": [
       "INSTNM    7535\n",
       "STABBR      59\n",
       "dtype: int64"
      ]
     },
     "execution_count": 16,
     "metadata": {},
     "output_type": "execute_result"
    }
   ],
   "source": [
    "col2.select_dtypes(include=['object']).nunique()"
   ]
  },
  {
   "cell_type": "code",
   "execution_count": 17,
   "id": "5e313f9d",
   "metadata": {},
   "outputs": [],
   "source": [
    "col2['STABBR'] = col2['STABBR'].astype('category')  # changing to caegory reduces memory"
   ]
  },
  {
   "cell_type": "code",
   "execution_count": 18,
   "id": "03e039c5",
   "metadata": {},
   "outputs": [
    {
     "data": {
      "text/plain": [
       "Index          128\n",
       "RELAFFIL      7535\n",
       "SATMTMID     60280\n",
       "CURROPER     60280\n",
       "INSTNM      660699\n",
       "STABBR       13120\n",
       "dtype: int64"
      ]
     },
     "execution_count": 18,
     "metadata": {},
     "output_type": "execute_result"
    }
   ],
   "source": [
    "new_mem = col2.memory_usage(deep=True)\n",
    "new_mem"
   ]
  },
  {
   "cell_type": "code",
   "execution_count": 19,
   "id": "7384b213",
   "metadata": {},
   "outputs": [
    {
     "data": {
      "text/plain": [
       "Index        0.000000\n",
       "RELAFFIL   -87.500000\n",
       "SATMTMID     0.000000\n",
       "CURROPER     0.000000\n",
       "INSTNM       0.069520\n",
       "STABBR     -97.048801\n",
       "dtype: float64"
      ]
     },
     "execution_count": 19,
     "metadata": {},
     "output_type": "execute_result"
    }
   ],
   "source": [
    "((new_mem - mem_usage) / mem_usage) * 100  # % reduction in the memory for columns"
   ]
  },
  {
   "cell_type": "code",
   "execution_count": 20,
   "id": "38c264ba",
   "metadata": {},
   "outputs": [
    {
     "data": {
      "text/plain": [
       "Index          128\n",
       "CURROPER     60280\n",
       "INSTNM      660699\n",
       "dtype: int64"
      ]
     },
     "execution_count": 20,
     "metadata": {},
     "output_type": "execute_result"
    }
   ],
   "source": [
    "college[['CURROPER', 'INSTNM']].memory_usage(deep=True)"
   ]
  },
  {
   "cell_type": "code",
   "execution_count": 21,
   "id": "d184e26d",
   "metadata": {},
   "outputs": [],
   "source": [
    "college.loc[0, 'CURROPER'] = 10000000\n",
    "college.loc[0, 'INSTNM'] = college.loc[0, 'INSTNM'] + 'a'"
   ]
  },
  {
   "cell_type": "code",
   "execution_count": 22,
   "id": "54a5fb08",
   "metadata": {},
   "outputs": [
    {
     "data": {
      "text/plain": [
       "Index          128\n",
       "CURROPER     60280\n",
       "INSTNM      660700\n",
       "dtype: int64"
      ]
     },
     "execution_count": 22,
     "metadata": {},
     "output_type": "execute_result"
    }
   ],
   "source": [
    "college[['CURROPER', 'INSTNM']].memory_usage(deep=True) # mem increase only for INSTNM"
   ]
  },
  {
   "cell_type": "code",
   "execution_count": 23,
   "id": "68ef92f3",
   "metadata": {},
   "outputs": [
    {
     "data": {
      "text/plain": [
       "128"
      ]
     },
     "execution_count": 23,
     "metadata": {},
     "output_type": "execute_result"
    }
   ],
   "source": [
    "college.index.memory_usage()"
   ]
  },
  {
   "cell_type": "code",
   "execution_count": 24,
   "id": "a6bcce2e",
   "metadata": {},
   "outputs": [
    {
     "data": {
      "text/plain": [
       "60280"
      ]
     },
     "execution_count": 24,
     "metadata": {},
     "output_type": "execute_result"
    }
   ],
   "source": [
    "pd.Int64Index(college.index).memory_usage()"
   ]
  },
  {
   "cell_type": "markdown",
   "id": "bf99685b",
   "metadata": {},
   "source": [
    "### getting smallest and largest data"
   ]
  },
  {
   "cell_type": "code",
   "execution_count": 25,
   "id": "9e8a180d",
   "metadata": {},
   "outputs": [
    {
     "data": {
      "text/html": [
       "<div>\n",
       "<style scoped>\n",
       "    .dataframe tbody tr th:only-of-type {\n",
       "        vertical-align: middle;\n",
       "    }\n",
       "\n",
       "    .dataframe tbody tr th {\n",
       "        vertical-align: top;\n",
       "    }\n",
       "\n",
       "    .dataframe thead th {\n",
       "        text-align: right;\n",
       "    }\n",
       "</style>\n",
       "<table border=\"1\" class=\"dataframe\">\n",
       "  <thead>\n",
       "    <tr style=\"text-align: right;\">\n",
       "      <th></th>\n",
       "      <th>movie_title</th>\n",
       "      <th>imdb_score</th>\n",
       "      <th>budget</th>\n",
       "    </tr>\n",
       "  </thead>\n",
       "  <tbody>\n",
       "    <tr>\n",
       "      <th>0</th>\n",
       "      <td>Avatar</td>\n",
       "      <td>7.9</td>\n",
       "      <td>237000000.0</td>\n",
       "    </tr>\n",
       "    <tr>\n",
       "      <th>1</th>\n",
       "      <td>Pirates of the Caribbean: At World's End</td>\n",
       "      <td>7.1</td>\n",
       "      <td>300000000.0</td>\n",
       "    </tr>\n",
       "    <tr>\n",
       "      <th>2</th>\n",
       "      <td>Spectre</td>\n",
       "      <td>6.8</td>\n",
       "      <td>245000000.0</td>\n",
       "    </tr>\n",
       "    <tr>\n",
       "      <th>3</th>\n",
       "      <td>The Dark Knight Rises</td>\n",
       "      <td>8.5</td>\n",
       "      <td>250000000.0</td>\n",
       "    </tr>\n",
       "    <tr>\n",
       "      <th>4</th>\n",
       "      <td>Star Wars: Episode VII - The Force Awakens</td>\n",
       "      <td>7.1</td>\n",
       "      <td>NaN</td>\n",
       "    </tr>\n",
       "  </tbody>\n",
       "</table>\n",
       "</div>"
      ],
      "text/plain": [
       "                                  movie_title  imdb_score       budget\n",
       "0                                      Avatar         7.9  237000000.0\n",
       "1    Pirates of the Caribbean: At World's End         7.1  300000000.0\n",
       "2                                     Spectre         6.8  245000000.0\n",
       "3                       The Dark Knight Rises         8.5  250000000.0\n",
       "4  Star Wars: Episode VII - The Force Awakens         7.1          NaN"
      ]
     },
     "execution_count": 25,
     "metadata": {},
     "output_type": "execute_result"
    }
   ],
   "source": [
    "movie = pd.read_csv('data/movie.csv')\n",
    "movie2 = movie[['movie_title', 'imdb_score', 'budget']]\n",
    "movie2.head()"
   ]
  },
  {
   "cell_type": "code",
   "execution_count": 26,
   "id": "1518db29",
   "metadata": {},
   "outputs": [
    {
     "data": {
      "text/html": [
       "<div>\n",
       "<style scoped>\n",
       "    .dataframe tbody tr th:only-of-type {\n",
       "        vertical-align: middle;\n",
       "    }\n",
       "\n",
       "    .dataframe tbody tr th {\n",
       "        vertical-align: top;\n",
       "    }\n",
       "\n",
       "    .dataframe thead th {\n",
       "        text-align: right;\n",
       "    }\n",
       "</style>\n",
       "<table border=\"1\" class=\"dataframe\">\n",
       "  <thead>\n",
       "    <tr style=\"text-align: right;\">\n",
       "      <th></th>\n",
       "      <th>movie_title</th>\n",
       "      <th>imdb_score</th>\n",
       "      <th>budget</th>\n",
       "    </tr>\n",
       "  </thead>\n",
       "  <tbody>\n",
       "    <tr>\n",
       "      <th>2725</th>\n",
       "      <td>Towering Inferno</td>\n",
       "      <td>9.5</td>\n",
       "      <td>NaN</td>\n",
       "    </tr>\n",
       "    <tr>\n",
       "      <th>1920</th>\n",
       "      <td>The Shawshank Redemption</td>\n",
       "      <td>9.3</td>\n",
       "      <td>25000000.0</td>\n",
       "    </tr>\n",
       "    <tr>\n",
       "      <th>3402</th>\n",
       "      <td>The Godfather</td>\n",
       "      <td>9.2</td>\n",
       "      <td>6000000.0</td>\n",
       "    </tr>\n",
       "    <tr>\n",
       "      <th>2779</th>\n",
       "      <td>Dekalog</td>\n",
       "      <td>9.1</td>\n",
       "      <td>NaN</td>\n",
       "    </tr>\n",
       "    <tr>\n",
       "      <th>4312</th>\n",
       "      <td>Kickboxer: Vengeance</td>\n",
       "      <td>9.1</td>\n",
       "      <td>17000000.0</td>\n",
       "    </tr>\n",
       "  </tbody>\n",
       "</table>\n",
       "</div>"
      ],
      "text/plain": [
       "                   movie_title  imdb_score      budget\n",
       "2725          Towering Inferno         9.5         NaN\n",
       "1920  The Shawshank Redemption         9.3  25000000.0\n",
       "3402             The Godfather         9.2   6000000.0\n",
       "2779                   Dekalog         9.1         NaN\n",
       "4312      Kickboxer: Vengeance         9.1  17000000.0"
      ]
     },
     "execution_count": 26,
     "metadata": {},
     "output_type": "execute_result"
    }
   ],
   "source": [
    "movie2.nlargest(100, 'imdb_score').head()    # best imdb score movie"
   ]
  },
  {
   "cell_type": "code",
   "execution_count": 27,
   "id": "660dc43b",
   "metadata": {},
   "outputs": [
    {
     "data": {
      "text/html": [
       "<div>\n",
       "<style scoped>\n",
       "    .dataframe tbody tr th:only-of-type {\n",
       "        vertical-align: middle;\n",
       "    }\n",
       "\n",
       "    .dataframe tbody tr th {\n",
       "        vertical-align: top;\n",
       "    }\n",
       "\n",
       "    .dataframe thead th {\n",
       "        text-align: right;\n",
       "    }\n",
       "</style>\n",
       "<table border=\"1\" class=\"dataframe\">\n",
       "  <thead>\n",
       "    <tr style=\"text-align: right;\">\n",
       "      <th></th>\n",
       "      <th>movie_title</th>\n",
       "      <th>imdb_score</th>\n",
       "      <th>budget</th>\n",
       "    </tr>\n",
       "  </thead>\n",
       "  <tbody>\n",
       "    <tr>\n",
       "      <th>4804</th>\n",
       "      <td>Butterfly Girl</td>\n",
       "      <td>8.7</td>\n",
       "      <td>180000.0</td>\n",
       "    </tr>\n",
       "    <tr>\n",
       "      <th>4801</th>\n",
       "      <td>Children of Heaven</td>\n",
       "      <td>8.5</td>\n",
       "      <td>180000.0</td>\n",
       "    </tr>\n",
       "    <tr>\n",
       "      <th>4706</th>\n",
       "      <td>12 Angry Men</td>\n",
       "      <td>8.9</td>\n",
       "      <td>350000.0</td>\n",
       "    </tr>\n",
       "    <tr>\n",
       "      <th>4550</th>\n",
       "      <td>A Separation</td>\n",
       "      <td>8.4</td>\n",
       "      <td>500000.0</td>\n",
       "    </tr>\n",
       "    <tr>\n",
       "      <th>4636</th>\n",
       "      <td>The Other Dream Team</td>\n",
       "      <td>8.4</td>\n",
       "      <td>500000.0</td>\n",
       "    </tr>\n",
       "  </tbody>\n",
       "</table>\n",
       "</div>"
      ],
      "text/plain": [
       "               movie_title  imdb_score    budget\n",
       "4804        Butterfly Girl         8.7  180000.0\n",
       "4801    Children of Heaven         8.5  180000.0\n",
       "4706          12 Angry Men         8.9  350000.0\n",
       "4550          A Separation         8.4  500000.0\n",
       "4636  The Other Dream Team         8.4  500000.0"
      ]
     },
     "execution_count": 27,
     "metadata": {},
     "output_type": "execute_result"
    }
   ],
   "source": [
    "movie2.nlargest(100, 'imdb_score').nsmallest(20, 'budget').head()   # top 100 imdb score with lowest budget"
   ]
  },
  {
   "cell_type": "markdown",
   "id": "19e7afc9",
   "metadata": {},
   "source": [
    "#### getting highest ranking mvoie for each year"
   ]
  },
  {
   "cell_type": "code",
   "execution_count": 31,
   "id": "1fd69c9f",
   "metadata": {},
   "outputs": [
    {
     "data": {
      "text/html": [
       "<div>\n",
       "<style scoped>\n",
       "    .dataframe tbody tr th:only-of-type {\n",
       "        vertical-align: middle;\n",
       "    }\n",
       "\n",
       "    .dataframe tbody tr th {\n",
       "        vertical-align: top;\n",
       "    }\n",
       "\n",
       "    .dataframe thead th {\n",
       "        text-align: right;\n",
       "    }\n",
       "</style>\n",
       "<table border=\"1\" class=\"dataframe\">\n",
       "  <thead>\n",
       "    <tr style=\"text-align: right;\">\n",
       "      <th></th>\n",
       "      <th>movie_title</th>\n",
       "      <th>imdb_score</th>\n",
       "      <th>title_year</th>\n",
       "    </tr>\n",
       "  </thead>\n",
       "  <tbody>\n",
       "    <tr>\n",
       "      <th>0</th>\n",
       "      <td>Avatar</td>\n",
       "      <td>7.9</td>\n",
       "      <td>2009.0</td>\n",
       "    </tr>\n",
       "    <tr>\n",
       "      <th>1</th>\n",
       "      <td>Pirates of the Caribbean: At World's End</td>\n",
       "      <td>7.1</td>\n",
       "      <td>2007.0</td>\n",
       "    </tr>\n",
       "    <tr>\n",
       "      <th>2</th>\n",
       "      <td>Spectre</td>\n",
       "      <td>6.8</td>\n",
       "      <td>2015.0</td>\n",
       "    </tr>\n",
       "    <tr>\n",
       "      <th>3</th>\n",
       "      <td>The Dark Knight Rises</td>\n",
       "      <td>8.5</td>\n",
       "      <td>2012.0</td>\n",
       "    </tr>\n",
       "    <tr>\n",
       "      <th>4</th>\n",
       "      <td>Star Wars: Episode VII - The Force Awakens</td>\n",
       "      <td>7.1</td>\n",
       "      <td>NaN</td>\n",
       "    </tr>\n",
       "  </tbody>\n",
       "</table>\n",
       "</div>"
      ],
      "text/plain": [
       "                                  movie_title  imdb_score  title_year\n",
       "0                                      Avatar         7.9      2009.0\n",
       "1    Pirates of the Caribbean: At World's End         7.1      2007.0\n",
       "2                                     Spectre         6.8      2015.0\n",
       "3                       The Dark Knight Rises         8.5      2012.0\n",
       "4  Star Wars: Episode VII - The Force Awakens         7.1         NaN"
      ]
     },
     "execution_count": 31,
     "metadata": {},
     "output_type": "execute_result"
    }
   ],
   "source": [
    "movie2 = movie[['movie_title', 'imdb_score', 'title_year']]\n",
    "movie2.head()"
   ]
  },
  {
   "cell_type": "code",
   "execution_count": 33,
   "id": "39367e94",
   "metadata": {},
   "outputs": [
    {
     "data": {
      "text/html": [
       "<div>\n",
       "<style scoped>\n",
       "    .dataframe tbody tr th:only-of-type {\n",
       "        vertical-align: middle;\n",
       "    }\n",
       "\n",
       "    .dataframe tbody tr th {\n",
       "        vertical-align: top;\n",
       "    }\n",
       "\n",
       "    .dataframe thead th {\n",
       "        text-align: right;\n",
       "    }\n",
       "</style>\n",
       "<table border=\"1\" class=\"dataframe\">\n",
       "  <thead>\n",
       "    <tr style=\"text-align: right;\">\n",
       "      <th></th>\n",
       "      <th>movie_title</th>\n",
       "      <th>imdb_score</th>\n",
       "      <th>title_year</th>\n",
       "    </tr>\n",
       "  </thead>\n",
       "  <tbody>\n",
       "    <tr>\n",
       "      <th>3884</th>\n",
       "      <td>The Veil</td>\n",
       "      <td>4.7</td>\n",
       "      <td>2016.0</td>\n",
       "    </tr>\n",
       "    <tr>\n",
       "      <th>2375</th>\n",
       "      <td>My Big Fat Greek Wedding 2</td>\n",
       "      <td>6.1</td>\n",
       "      <td>2016.0</td>\n",
       "    </tr>\n",
       "    <tr>\n",
       "      <th>2794</th>\n",
       "      <td>Miracles from Heaven</td>\n",
       "      <td>6.8</td>\n",
       "      <td>2016.0</td>\n",
       "    </tr>\n",
       "    <tr>\n",
       "      <th>92</th>\n",
       "      <td>Independence Day: Resurgence</td>\n",
       "      <td>5.5</td>\n",
       "      <td>2016.0</td>\n",
       "    </tr>\n",
       "    <tr>\n",
       "      <th>153</th>\n",
       "      <td>Kung Fu Panda 3</td>\n",
       "      <td>7.2</td>\n",
       "      <td>2016.0</td>\n",
       "    </tr>\n",
       "  </tbody>\n",
       "</table>\n",
       "</div>"
      ],
      "text/plain": [
       "                       movie_title  imdb_score  title_year\n",
       "3884                      The Veil         4.7      2016.0\n",
       "2375    My Big Fat Greek Wedding 2         6.1      2016.0\n",
       "2794          Miracles from Heaven         6.8      2016.0\n",
       "92    Independence Day: Resurgence         5.5      2016.0\n",
       "153                Kung Fu Panda 3         7.2      2016.0"
      ]
     },
     "execution_count": 33,
     "metadata": {},
     "output_type": "execute_result"
    }
   ],
   "source": [
    "movie2.sort_values('title_year', ascending=False).head()"
   ]
  },
  {
   "cell_type": "code",
   "execution_count": 35,
   "id": "e6b5c09f",
   "metadata": {},
   "outputs": [
    {
     "data": {
      "text/html": [
       "<div>\n",
       "<style scoped>\n",
       "    .dataframe tbody tr th:only-of-type {\n",
       "        vertical-align: middle;\n",
       "    }\n",
       "\n",
       "    .dataframe tbody tr th {\n",
       "        vertical-align: top;\n",
       "    }\n",
       "\n",
       "    .dataframe thead th {\n",
       "        text-align: right;\n",
       "    }\n",
       "</style>\n",
       "<table border=\"1\" class=\"dataframe\">\n",
       "  <thead>\n",
       "    <tr style=\"text-align: right;\">\n",
       "      <th></th>\n",
       "      <th>movie_title</th>\n",
       "      <th>imdb_score</th>\n",
       "      <th>title_year</th>\n",
       "    </tr>\n",
       "  </thead>\n",
       "  <tbody>\n",
       "    <tr>\n",
       "      <th>4312</th>\n",
       "      <td>Kickboxer: Vengeance</td>\n",
       "      <td>9.1</td>\n",
       "      <td>2016.0</td>\n",
       "    </tr>\n",
       "    <tr>\n",
       "      <th>4277</th>\n",
       "      <td>A Beginner's Guide to Snuff</td>\n",
       "      <td>8.7</td>\n",
       "      <td>2016.0</td>\n",
       "    </tr>\n",
       "    <tr>\n",
       "      <th>3798</th>\n",
       "      <td>Airlift</td>\n",
       "      <td>8.5</td>\n",
       "      <td>2016.0</td>\n",
       "    </tr>\n",
       "    <tr>\n",
       "      <th>27</th>\n",
       "      <td>Captain America: Civil War</td>\n",
       "      <td>8.2</td>\n",
       "      <td>2016.0</td>\n",
       "    </tr>\n",
       "    <tr>\n",
       "      <th>98</th>\n",
       "      <td>Godzilla Resurgence</td>\n",
       "      <td>8.2</td>\n",
       "      <td>2016.0</td>\n",
       "    </tr>\n",
       "  </tbody>\n",
       "</table>\n",
       "</div>"
      ],
      "text/plain": [
       "                      movie_title  imdb_score  title_year\n",
       "4312         Kickboxer: Vengeance         9.1      2016.0\n",
       "4277  A Beginner's Guide to Snuff         8.7      2016.0\n",
       "3798                      Airlift         8.5      2016.0\n",
       "27     Captain America: Civil War         8.2      2016.0\n",
       "98            Godzilla Resurgence         8.2      2016.0"
      ]
     },
     "execution_count": 35,
     "metadata": {},
     "output_type": "execute_result"
    }
   ],
   "source": [
    "movie3 = movie2.sort_values(['title_year', 'imdb_score'], ascending=False)\n",
    "movie3.head()"
   ]
  },
  {
   "cell_type": "code",
   "execution_count": 37,
   "id": "3da976be",
   "metadata": {},
   "outputs": [
    {
     "data": {
      "text/html": [
       "<div>\n",
       "<style scoped>\n",
       "    .dataframe tbody tr th:only-of-type {\n",
       "        vertical-align: middle;\n",
       "    }\n",
       "\n",
       "    .dataframe tbody tr th {\n",
       "        vertical-align: top;\n",
       "    }\n",
       "\n",
       "    .dataframe thead th {\n",
       "        text-align: right;\n",
       "    }\n",
       "</style>\n",
       "<table border=\"1\" class=\"dataframe\">\n",
       "  <thead>\n",
       "    <tr style=\"text-align: right;\">\n",
       "      <th></th>\n",
       "      <th>movie_title</th>\n",
       "      <th>imdb_score</th>\n",
       "      <th>title_year</th>\n",
       "    </tr>\n",
       "  </thead>\n",
       "  <tbody>\n",
       "    <tr>\n",
       "      <th>4312</th>\n",
       "      <td>Kickboxer: Vengeance</td>\n",
       "      <td>9.1</td>\n",
       "      <td>2016.0</td>\n",
       "    </tr>\n",
       "    <tr>\n",
       "      <th>3745</th>\n",
       "      <td>Running Forever</td>\n",
       "      <td>8.6</td>\n",
       "      <td>2015.0</td>\n",
       "    </tr>\n",
       "    <tr>\n",
       "      <th>4369</th>\n",
       "      <td>Queen of the Mountains</td>\n",
       "      <td>8.7</td>\n",
       "      <td>2014.0</td>\n",
       "    </tr>\n",
       "    <tr>\n",
       "      <th>3935</th>\n",
       "      <td>Batman: The Dark Knight Returns, Part 2</td>\n",
       "      <td>8.4</td>\n",
       "      <td>2013.0</td>\n",
       "    </tr>\n",
       "    <tr>\n",
       "      <th>3</th>\n",
       "      <td>The Dark Knight Rises</td>\n",
       "      <td>8.5</td>\n",
       "      <td>2012.0</td>\n",
       "    </tr>\n",
       "    <tr>\n",
       "      <th>...</th>\n",
       "      <td>...</td>\n",
       "      <td>...</td>\n",
       "      <td>...</td>\n",
       "    </tr>\n",
       "    <tr>\n",
       "      <th>2694</th>\n",
       "      <td>Metropolis</td>\n",
       "      <td>8.3</td>\n",
       "      <td>1927.0</td>\n",
       "    </tr>\n",
       "    <tr>\n",
       "      <th>4767</th>\n",
       "      <td>The Big Parade</td>\n",
       "      <td>8.3</td>\n",
       "      <td>1925.0</td>\n",
       "    </tr>\n",
       "    <tr>\n",
       "      <th>4833</th>\n",
       "      <td>Over the Hill to the Poorhouse</td>\n",
       "      <td>4.8</td>\n",
       "      <td>1920.0</td>\n",
       "    </tr>\n",
       "    <tr>\n",
       "      <th>4695</th>\n",
       "      <td>Intolerance: Love's Struggle Throughout the Ages</td>\n",
       "      <td>8.0</td>\n",
       "      <td>1916.0</td>\n",
       "    </tr>\n",
       "    <tr>\n",
       "      <th>2725</th>\n",
       "      <td>Towering Inferno</td>\n",
       "      <td>9.5</td>\n",
       "      <td>NaN</td>\n",
       "    </tr>\n",
       "  </tbody>\n",
       "</table>\n",
       "<p>92 rows × 3 columns</p>\n",
       "</div>"
      ],
      "text/plain": [
       "                                           movie_title  imdb_score  title_year\n",
       "4312                              Kickboxer: Vengeance         9.1      2016.0\n",
       "3745                                   Running Forever         8.6      2015.0\n",
       "4369                            Queen of the Mountains         8.7      2014.0\n",
       "3935           Batman: The Dark Knight Returns, Part 2         8.4      2013.0\n",
       "3                                The Dark Knight Rises         8.5      2012.0\n",
       "...                                                ...         ...         ...\n",
       "2694                                        Metropolis         8.3      1927.0\n",
       "4767                                    The Big Parade         8.3      1925.0\n",
       "4833                    Over the Hill to the Poorhouse         4.8      1920.0\n",
       "4695  Intolerance: Love's Struggle Throughout the Ages         8.0      1916.0\n",
       "2725                                  Towering Inferno         9.5         NaN\n",
       "\n",
       "[92 rows x 3 columns]"
      ]
     },
     "execution_count": 37,
     "metadata": {},
     "output_type": "execute_result"
    }
   ],
   "source": [
    "movie_top_year = movie3.drop_duplicates(subset='title_year')\n",
    "movie_top_year"
   ]
  },
  {
   "cell_type": "markdown",
   "id": "5a4d0b8e",
   "metadata": {},
   "source": [
    "#### getting highest budget movie for each year"
   ]
  },
  {
   "cell_type": "code",
   "execution_count": 51,
   "id": "488bb2a1",
   "metadata": {},
   "outputs": [],
   "source": [
    "movie4 = movie[['movie_title', 'budget', 'title_year', 'imdb_score']]\n",
    "movie4 = movie4.sort_values(\n",
    "                ['title_year', 'budget'], \n",
    "                ascending=[False, False])"
   ]
  },
  {
   "cell_type": "code",
   "execution_count": 53,
   "id": "d39c5316",
   "metadata": {},
   "outputs": [
    {
     "data": {
      "text/html": [
       "<div>\n",
       "<style scoped>\n",
       "    .dataframe tbody tr th:only-of-type {\n",
       "        vertical-align: middle;\n",
       "    }\n",
       "\n",
       "    .dataframe tbody tr th {\n",
       "        vertical-align: top;\n",
       "    }\n",
       "\n",
       "    .dataframe thead th {\n",
       "        text-align: right;\n",
       "    }\n",
       "</style>\n",
       "<table border=\"1\" class=\"dataframe\">\n",
       "  <thead>\n",
       "    <tr style=\"text-align: right;\">\n",
       "      <th></th>\n",
       "      <th>movie_title</th>\n",
       "      <th>budget</th>\n",
       "      <th>title_year</th>\n",
       "      <th>imdb_score</th>\n",
       "    </tr>\n",
       "  </thead>\n",
       "  <tbody>\n",
       "    <tr>\n",
       "      <th>10</th>\n",
       "      <td>Batman v Superman: Dawn of Justice</td>\n",
       "      <td>250000000.0</td>\n",
       "      <td>2016.0</td>\n",
       "      <td>6.9</td>\n",
       "    </tr>\n",
       "    <tr>\n",
       "      <th>8</th>\n",
       "      <td>Avengers: Age of Ultron</td>\n",
       "      <td>250000000.0</td>\n",
       "      <td>2015.0</td>\n",
       "      <td>7.5</td>\n",
       "    </tr>\n",
       "    <tr>\n",
       "      <th>20</th>\n",
       "      <td>The Hobbit: The Battle of the Five Armies</td>\n",
       "      <td>250000000.0</td>\n",
       "      <td>2014.0</td>\n",
       "      <td>7.5</td>\n",
       "    </tr>\n",
       "    <tr>\n",
       "      <th>15</th>\n",
       "      <td>Man of Steel</td>\n",
       "      <td>225000000.0</td>\n",
       "      <td>2013.0</td>\n",
       "      <td>7.2</td>\n",
       "    </tr>\n",
       "    <tr>\n",
       "      <th>5</th>\n",
       "      <td>John Carter</td>\n",
       "      <td>263700000.0</td>\n",
       "      <td>2012.0</td>\n",
       "      <td>6.6</td>\n",
       "    </tr>\n",
       "  </tbody>\n",
       "</table>\n",
       "</div>"
      ],
      "text/plain": [
       "                                  movie_title       budget  title_year  \\\n",
       "10         Batman v Superman: Dawn of Justice  250000000.0      2016.0   \n",
       "8                     Avengers: Age of Ultron  250000000.0      2015.0   \n",
       "20  The Hobbit: The Battle of the Five Armies  250000000.0      2014.0   \n",
       "15                               Man of Steel  225000000.0      2013.0   \n",
       "5                                 John Carter  263700000.0      2012.0   \n",
       "\n",
       "    imdb_score  \n",
       "10         6.9  \n",
       "8          7.5  \n",
       "20         7.5  \n",
       "15         7.2  \n",
       "5          6.6  "
      ]
     },
     "execution_count": 53,
     "metadata": {},
     "output_type": "execute_result"
    }
   ],
   "source": [
    "movie4 = movie4.drop_duplicates(subset=['title_year'])\n",
    "movie4.head()"
   ]
  },
  {
   "cell_type": "markdown",
   "id": "fcf666da",
   "metadata": {},
   "source": [
    "#### movie with highest budgest and least rating"
   ]
  },
  {
   "cell_type": "code",
   "execution_count": 54,
   "id": "4072ac96",
   "metadata": {},
   "outputs": [
    {
     "data": {
      "text/html": [
       "<div>\n",
       "<style scoped>\n",
       "    .dataframe tbody tr th:only-of-type {\n",
       "        vertical-align: middle;\n",
       "    }\n",
       "\n",
       "    .dataframe tbody tr th {\n",
       "        vertical-align: top;\n",
       "    }\n",
       "\n",
       "    .dataframe thead th {\n",
       "        text-align: right;\n",
       "    }\n",
       "</style>\n",
       "<table border=\"1\" class=\"dataframe\">\n",
       "  <thead>\n",
       "    <tr style=\"text-align: right;\">\n",
       "      <th></th>\n",
       "      <th>movie_title</th>\n",
       "      <th>budget</th>\n",
       "      <th>title_year</th>\n",
       "      <th>imdb_score</th>\n",
       "    </tr>\n",
       "  </thead>\n",
       "  <tbody>\n",
       "    <tr>\n",
       "      <th>3787</th>\n",
       "      <td>Lady Vengeance</td>\n",
       "      <td>4.200000e+09</td>\n",
       "      <td>2005.0</td>\n",
       "      <td>7.7</td>\n",
       "    </tr>\n",
       "    <tr>\n",
       "      <th>2294</th>\n",
       "      <td>Princess Mononoke</td>\n",
       "      <td>2.400000e+09</td>\n",
       "      <td>1997.0</td>\n",
       "      <td>8.4</td>\n",
       "    </tr>\n",
       "    <tr>\n",
       "      <th>2305</th>\n",
       "      <td>Steamboy</td>\n",
       "      <td>2.127520e+09</td>\n",
       "      <td>2004.0</td>\n",
       "      <td>6.9</td>\n",
       "    </tr>\n",
       "    <tr>\n",
       "      <th>3361</th>\n",
       "      <td>Akira</td>\n",
       "      <td>1.100000e+09</td>\n",
       "      <td>1988.0</td>\n",
       "      <td>8.1</td>\n",
       "    </tr>\n",
       "    <tr>\n",
       "      <th>4440</th>\n",
       "      <td>Godzilla 2000</td>\n",
       "      <td>1.000000e+09</td>\n",
       "      <td>1999.0</td>\n",
       "      <td>6.0</td>\n",
       "    </tr>\n",
       "  </tbody>\n",
       "</table>\n",
       "</div>"
      ],
      "text/plain": [
       "            movie_title        budget  title_year  imdb_score\n",
       "3787     Lady Vengeance  4.200000e+09      2005.0         7.7\n",
       "2294  Princess Mononoke  2.400000e+09      1997.0         8.4\n",
       "2305           Steamboy  2.127520e+09      2004.0         6.9\n",
       "3361              Akira  1.100000e+09      1988.0         8.1\n",
       "4440      Godzilla 2000  1.000000e+09      1999.0         6.0"
      ]
     },
     "execution_count": 54,
     "metadata": {},
     "output_type": "execute_result"
    }
   ],
   "source": [
    "movie4.sort_values(\n",
    "                ['budget', 'imdb_score'], \n",
    "                ascending=[False, True]).head()"
   ]
  },
  {
   "cell_type": "markdown",
   "id": "556bd80d",
   "metadata": {},
   "source": [
    "#### using sort_values vs nsmallest/nlargest"
   ]
  },
  {
   "cell_type": "code",
   "execution_count": 67,
   "id": "f31cad9f",
   "metadata": {},
   "outputs": [],
   "source": [
    "movie4 = movie[['movie_title', 'imdb_score', 'budget']]"
   ]
  },
  {
   "cell_type": "code",
   "execution_count": 68,
   "id": "77db17a7",
   "metadata": {},
   "outputs": [
    {
     "data": {
      "text/html": [
       "<div>\n",
       "<style scoped>\n",
       "    .dataframe tbody tr th:only-of-type {\n",
       "        vertical-align: middle;\n",
       "    }\n",
       "\n",
       "    .dataframe tbody tr th {\n",
       "        vertical-align: top;\n",
       "    }\n",
       "\n",
       "    .dataframe thead th {\n",
       "        text-align: right;\n",
       "    }\n",
       "</style>\n",
       "<table border=\"1\" class=\"dataframe\">\n",
       "  <thead>\n",
       "    <tr style=\"text-align: right;\">\n",
       "      <th></th>\n",
       "      <th>movie_title</th>\n",
       "      <th>imdb_score</th>\n",
       "      <th>budget</th>\n",
       "    </tr>\n",
       "  </thead>\n",
       "  <tbody>\n",
       "    <tr>\n",
       "      <th>4804</th>\n",
       "      <td>Butterfly Girl</td>\n",
       "      <td>8.7</td>\n",
       "      <td>180000.0</td>\n",
       "    </tr>\n",
       "    <tr>\n",
       "      <th>4801</th>\n",
       "      <td>Children of Heaven</td>\n",
       "      <td>8.5</td>\n",
       "      <td>180000.0</td>\n",
       "    </tr>\n",
       "    <tr>\n",
       "      <th>4706</th>\n",
       "      <td>12 Angry Men</td>\n",
       "      <td>8.9</td>\n",
       "      <td>350000.0</td>\n",
       "    </tr>\n",
       "    <tr>\n",
       "      <th>4550</th>\n",
       "      <td>A Separation</td>\n",
       "      <td>8.4</td>\n",
       "      <td>500000.0</td>\n",
       "    </tr>\n",
       "    <tr>\n",
       "      <th>4636</th>\n",
       "      <td>The Other Dream Team</td>\n",
       "      <td>8.4</td>\n",
       "      <td>500000.0</td>\n",
       "    </tr>\n",
       "  </tbody>\n",
       "</table>\n",
       "</div>"
      ],
      "text/plain": [
       "               movie_title  imdb_score    budget\n",
       "4804        Butterfly Girl         8.7  180000.0\n",
       "4801    Children of Heaven         8.5  180000.0\n",
       "4706          12 Angry Men         8.9  350000.0\n",
       "4550          A Separation         8.4  500000.0\n",
       "4636  The Other Dream Team         8.4  500000.0"
      ]
     },
     "execution_count": 68,
     "metadata": {},
     "output_type": "execute_result"
    }
   ],
   "source": [
    "res1 = movie4.nlargest(100, 'imdb_score').nsmallest(5, 'budget')\n",
    "res1.head()"
   ]
  },
  {
   "cell_type": "code",
   "execution_count": 70,
   "id": "41a38417",
   "metadata": {},
   "outputs": [
    {
     "data": {
      "text/html": [
       "<div>\n",
       "<style scoped>\n",
       "    .dataframe tbody tr th:only-of-type {\n",
       "        vertical-align: middle;\n",
       "    }\n",
       "\n",
       "    .dataframe tbody tr th {\n",
       "        vertical-align: top;\n",
       "    }\n",
       "\n",
       "    .dataframe thead th {\n",
       "        text-align: right;\n",
       "    }\n",
       "</style>\n",
       "<table border=\"1\" class=\"dataframe\">\n",
       "  <thead>\n",
       "    <tr style=\"text-align: right;\">\n",
       "      <th></th>\n",
       "      <th>movie_title</th>\n",
       "      <th>imdb_score</th>\n",
       "      <th>budget</th>\n",
       "    </tr>\n",
       "  </thead>\n",
       "  <tbody>\n",
       "    <tr>\n",
       "      <th>4815</th>\n",
       "      <td>A Charlie Brown Christmas</td>\n",
       "      <td>8.4</td>\n",
       "      <td>150000.0</td>\n",
       "    </tr>\n",
       "    <tr>\n",
       "      <th>4801</th>\n",
       "      <td>Children of Heaven</td>\n",
       "      <td>8.5</td>\n",
       "      <td>180000.0</td>\n",
       "    </tr>\n",
       "    <tr>\n",
       "      <th>4804</th>\n",
       "      <td>Butterfly Girl</td>\n",
       "      <td>8.7</td>\n",
       "      <td>180000.0</td>\n",
       "    </tr>\n",
       "    <tr>\n",
       "      <th>4706</th>\n",
       "      <td>12 Angry Men</td>\n",
       "      <td>8.9</td>\n",
       "      <td>350000.0</td>\n",
       "    </tr>\n",
       "    <tr>\n",
       "      <th>4636</th>\n",
       "      <td>The Other Dream Team</td>\n",
       "      <td>8.4</td>\n",
       "      <td>500000.0</td>\n",
       "    </tr>\n",
       "  </tbody>\n",
       "</table>\n",
       "</div>"
      ],
      "text/plain": [
       "                    movie_title  imdb_score    budget\n",
       "4815  A Charlie Brown Christmas         8.4  150000.0\n",
       "4801         Children of Heaven         8.5  180000.0\n",
       "4804             Butterfly Girl         8.7  180000.0\n",
       "4706               12 Angry Men         8.9  350000.0\n",
       "4636       The Other Dream Team         8.4  500000.0"
      ]
     },
     "execution_count": 70,
     "metadata": {},
     "output_type": "execute_result"
    }
   ],
   "source": [
    "res2 = movie4.sort_values('imdb_score', ascending=False)\n",
    "res2.head(100).sort_values('budget').head()"
   ]
  },
  {
   "cell_type": "code",
   "execution_count": null,
   "id": "5e2aff70",
   "metadata": {},
   "outputs": [],
   "source": []
  }
 ],
 "metadata": {
  "kernelspec": {
   "display_name": "Python 3",
   "language": "python",
   "name": "python3"
  },
  "language_info": {
   "codemirror_mode": {
    "name": "ipython",
    "version": 3
   },
   "file_extension": ".py",
   "mimetype": "text/x-python",
   "name": "python",
   "nbconvert_exporter": "python",
   "pygments_lexer": "ipython3",
   "version": "3.8.5"
  }
 },
 "nbformat": 4,
 "nbformat_minor": 5
}
