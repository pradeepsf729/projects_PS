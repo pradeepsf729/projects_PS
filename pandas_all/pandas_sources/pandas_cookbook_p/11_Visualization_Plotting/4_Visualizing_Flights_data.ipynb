{
 "cells": [
  {
   "cell_type": "code",
   "execution_count": 1,
   "id": "813d7251",
   "metadata": {},
   "outputs": [],
   "source": [
    "import pandas as pd\n",
    "import matplotlib.pyplot as plt"
   ]
  },
  {
   "cell_type": "code",
   "execution_count": 2,
   "id": "3403e7d3",
   "metadata": {},
   "outputs": [],
   "source": [
    "flights = pd.read_csv('data/flights.csv')"
   ]
  },
  {
   "cell_type": "code",
   "execution_count": 3,
   "id": "d169b605",
   "metadata": {},
   "outputs": [
    {
     "data": {
      "text/html": [
       "<div>\n",
       "<style scoped>\n",
       "    .dataframe tbody tr th:only-of-type {\n",
       "        vertical-align: middle;\n",
       "    }\n",
       "\n",
       "    .dataframe tbody tr th {\n",
       "        vertical-align: top;\n",
       "    }\n",
       "\n",
       "    .dataframe thead th {\n",
       "        text-align: right;\n",
       "    }\n",
       "</style>\n",
       "<table border=\"1\" class=\"dataframe\">\n",
       "  <thead>\n",
       "    <tr style=\"text-align: right;\">\n",
       "      <th></th>\n",
       "      <th>MONTH</th>\n",
       "      <th>DAY</th>\n",
       "      <th>WEEKDAY</th>\n",
       "      <th>AIRLINE</th>\n",
       "      <th>ORG_AIR</th>\n",
       "      <th>DEST_AIR</th>\n",
       "      <th>SCHED_DEP</th>\n",
       "      <th>DEP_DELAY</th>\n",
       "      <th>AIR_TIME</th>\n",
       "      <th>DIST</th>\n",
       "      <th>SCHED_ARR</th>\n",
       "      <th>ARR_DELAY</th>\n",
       "      <th>DIVERTED</th>\n",
       "      <th>CANCELLED</th>\n",
       "    </tr>\n",
       "  </thead>\n",
       "  <tbody>\n",
       "    <tr>\n",
       "      <th>0</th>\n",
       "      <td>1</td>\n",
       "      <td>1</td>\n",
       "      <td>4</td>\n",
       "      <td>WN</td>\n",
       "      <td>LAX</td>\n",
       "      <td>SLC</td>\n",
       "      <td>1625</td>\n",
       "      <td>58.0</td>\n",
       "      <td>94.0</td>\n",
       "      <td>590</td>\n",
       "      <td>1905</td>\n",
       "      <td>65.0</td>\n",
       "      <td>0</td>\n",
       "      <td>0</td>\n",
       "    </tr>\n",
       "    <tr>\n",
       "      <th>1</th>\n",
       "      <td>1</td>\n",
       "      <td>1</td>\n",
       "      <td>4</td>\n",
       "      <td>UA</td>\n",
       "      <td>DEN</td>\n",
       "      <td>IAD</td>\n",
       "      <td>823</td>\n",
       "      <td>7.0</td>\n",
       "      <td>154.0</td>\n",
       "      <td>1452</td>\n",
       "      <td>1333</td>\n",
       "      <td>-13.0</td>\n",
       "      <td>0</td>\n",
       "      <td>0</td>\n",
       "    </tr>\n",
       "    <tr>\n",
       "      <th>2</th>\n",
       "      <td>1</td>\n",
       "      <td>1</td>\n",
       "      <td>4</td>\n",
       "      <td>MQ</td>\n",
       "      <td>DFW</td>\n",
       "      <td>VPS</td>\n",
       "      <td>1305</td>\n",
       "      <td>36.0</td>\n",
       "      <td>85.0</td>\n",
       "      <td>641</td>\n",
       "      <td>1453</td>\n",
       "      <td>35.0</td>\n",
       "      <td>0</td>\n",
       "      <td>0</td>\n",
       "    </tr>\n",
       "    <tr>\n",
       "      <th>3</th>\n",
       "      <td>1</td>\n",
       "      <td>1</td>\n",
       "      <td>4</td>\n",
       "      <td>AA</td>\n",
       "      <td>DFW</td>\n",
       "      <td>DCA</td>\n",
       "      <td>1555</td>\n",
       "      <td>7.0</td>\n",
       "      <td>126.0</td>\n",
       "      <td>1192</td>\n",
       "      <td>1935</td>\n",
       "      <td>-7.0</td>\n",
       "      <td>0</td>\n",
       "      <td>0</td>\n",
       "    </tr>\n",
       "    <tr>\n",
       "      <th>4</th>\n",
       "      <td>1</td>\n",
       "      <td>1</td>\n",
       "      <td>4</td>\n",
       "      <td>WN</td>\n",
       "      <td>LAX</td>\n",
       "      <td>MCI</td>\n",
       "      <td>1720</td>\n",
       "      <td>48.0</td>\n",
       "      <td>166.0</td>\n",
       "      <td>1363</td>\n",
       "      <td>2225</td>\n",
       "      <td>39.0</td>\n",
       "      <td>0</td>\n",
       "      <td>0</td>\n",
       "    </tr>\n",
       "  </tbody>\n",
       "</table>\n",
       "</div>"
      ],
      "text/plain": [
       "   MONTH  DAY  WEEKDAY AIRLINE ORG_AIR DEST_AIR  SCHED_DEP  DEP_DELAY  \\\n",
       "0      1    1        4      WN     LAX      SLC       1625       58.0   \n",
       "1      1    1        4      UA     DEN      IAD        823        7.0   \n",
       "2      1    1        4      MQ     DFW      VPS       1305       36.0   \n",
       "3      1    1        4      AA     DFW      DCA       1555        7.0   \n",
       "4      1    1        4      WN     LAX      MCI       1720       48.0   \n",
       "\n",
       "   AIR_TIME  DIST  SCHED_ARR  ARR_DELAY  DIVERTED  CANCELLED  \n",
       "0      94.0   590       1905       65.0         0          0  \n",
       "1     154.0  1452       1333      -13.0         0          0  \n",
       "2      85.0   641       1453       35.0         0          0  \n",
       "3     126.0  1192       1935       -7.0         0          0  \n",
       "4     166.0  1363       2225       39.0         0          0  "
      ]
     },
     "execution_count": 3,
     "metadata": {},
     "output_type": "execute_result"
    }
   ],
   "source": [
    "flights.head(5)"
   ]
  },
  {
   "cell_type": "markdown",
   "id": "2a871f8f",
   "metadata": {},
   "source": [
    "#### get data about, delayed, cancelled, diverted and ontime"
   ]
  },
  {
   "cell_type": "code",
   "execution_count": 4,
   "id": "2e64647b",
   "metadata": {},
   "outputs": [],
   "source": [
    "flights['DELAYED'] = flights['ARR_DELAY'].ge(15).astype(int)"
   ]
  },
  {
   "cell_type": "code",
   "execution_count": 5,
   "id": "4ebf7835",
   "metadata": {},
   "outputs": [],
   "source": [
    "cols = ['DIVERTED', 'CANCELLED', 'DELAYED']"
   ]
  },
  {
   "cell_type": "code",
   "execution_count": 6,
   "id": "476c93ac",
   "metadata": {},
   "outputs": [],
   "source": [
    "flights['ON_TIME'] = 1 - flights[cols].any(axis=1)"
   ]
  },
  {
   "cell_type": "code",
   "execution_count": 7,
   "id": "a795682d",
   "metadata": {},
   "outputs": [],
   "source": [
    "cols.append('ON_TIME')"
   ]
  },
  {
   "cell_type": "code",
   "execution_count": 8,
   "id": "9b634fd4",
   "metadata": {},
   "outputs": [
    {
     "data": {
      "text/html": [
       "<div>\n",
       "<style scoped>\n",
       "    .dataframe tbody tr th:only-of-type {\n",
       "        vertical-align: middle;\n",
       "    }\n",
       "\n",
       "    .dataframe tbody tr th {\n",
       "        vertical-align: top;\n",
       "    }\n",
       "\n",
       "    .dataframe thead th {\n",
       "        text-align: right;\n",
       "    }\n",
       "</style>\n",
       "<table border=\"1\" class=\"dataframe\">\n",
       "  <thead>\n",
       "    <tr style=\"text-align: right;\">\n",
       "      <th></th>\n",
       "      <th>DIVERTED</th>\n",
       "      <th>CANCELLED</th>\n",
       "      <th>DELAYED</th>\n",
       "      <th>ON_TIME</th>\n",
       "    </tr>\n",
       "  </thead>\n",
       "  <tbody>\n",
       "    <tr>\n",
       "      <th>0</th>\n",
       "      <td>0</td>\n",
       "      <td>0</td>\n",
       "      <td>1</td>\n",
       "      <td>0</td>\n",
       "    </tr>\n",
       "    <tr>\n",
       "      <th>1</th>\n",
       "      <td>0</td>\n",
       "      <td>0</td>\n",
       "      <td>0</td>\n",
       "      <td>1</td>\n",
       "    </tr>\n",
       "    <tr>\n",
       "      <th>2</th>\n",
       "      <td>0</td>\n",
       "      <td>0</td>\n",
       "      <td>1</td>\n",
       "      <td>0</td>\n",
       "    </tr>\n",
       "    <tr>\n",
       "      <th>3</th>\n",
       "      <td>0</td>\n",
       "      <td>0</td>\n",
       "      <td>0</td>\n",
       "      <td>1</td>\n",
       "    </tr>\n",
       "    <tr>\n",
       "      <th>4</th>\n",
       "      <td>0</td>\n",
       "      <td>0</td>\n",
       "      <td>1</td>\n",
       "      <td>0</td>\n",
       "    </tr>\n",
       "    <tr>\n",
       "      <th>...</th>\n",
       "      <td>...</td>\n",
       "      <td>...</td>\n",
       "      <td>...</td>\n",
       "      <td>...</td>\n",
       "    </tr>\n",
       "    <tr>\n",
       "      <th>58487</th>\n",
       "      <td>0</td>\n",
       "      <td>0</td>\n",
       "      <td>0</td>\n",
       "      <td>1</td>\n",
       "    </tr>\n",
       "    <tr>\n",
       "      <th>58488</th>\n",
       "      <td>0</td>\n",
       "      <td>0</td>\n",
       "      <td>0</td>\n",
       "      <td>1</td>\n",
       "    </tr>\n",
       "    <tr>\n",
       "      <th>58489</th>\n",
       "      <td>0</td>\n",
       "      <td>0</td>\n",
       "      <td>0</td>\n",
       "      <td>1</td>\n",
       "    </tr>\n",
       "    <tr>\n",
       "      <th>58490</th>\n",
       "      <td>0</td>\n",
       "      <td>0</td>\n",
       "      <td>1</td>\n",
       "      <td>0</td>\n",
       "    </tr>\n",
       "    <tr>\n",
       "      <th>58491</th>\n",
       "      <td>0</td>\n",
       "      <td>0</td>\n",
       "      <td>0</td>\n",
       "      <td>1</td>\n",
       "    </tr>\n",
       "  </tbody>\n",
       "</table>\n",
       "<p>58492 rows × 4 columns</p>\n",
       "</div>"
      ],
      "text/plain": [
       "       DIVERTED  CANCELLED  DELAYED  ON_TIME\n",
       "0             0          0        1        0\n",
       "1             0          0        0        1\n",
       "2             0          0        1        0\n",
       "3             0          0        0        1\n",
       "4             0          0        1        0\n",
       "...         ...        ...      ...      ...\n",
       "58487         0          0        0        1\n",
       "58488         0          0        0        1\n",
       "58489         0          0        0        1\n",
       "58490         0          0        1        0\n",
       "58491         0          0        0        1\n",
       "\n",
       "[58492 rows x 4 columns]"
      ]
     },
     "execution_count": 8,
     "metadata": {},
     "output_type": "execute_result"
    }
   ],
   "source": [
    "flights[cols]"
   ]
  },
  {
   "cell_type": "code",
   "execution_count": 9,
   "id": "f0845be2",
   "metadata": {},
   "outputs": [
    {
     "data": {
      "text/plain": [
       "DIVERTED       137\n",
       "CANCELLED      881\n",
       "DELAYED      11685\n",
       "ON_TIME      45789\n",
       "dtype: int64"
      ]
     },
     "execution_count": 9,
     "metadata": {},
     "output_type": "execute_result"
    }
   ],
   "source": [
    "flights[cols].sum()"
   ]
  },
  {
   "cell_type": "code",
   "execution_count": 10,
   "id": "5f341c6c",
   "metadata": {},
   "outputs": [
    {
     "data": {
      "text/plain": [
       "RangeIndex(start=0, stop=58492, step=1)"
      ]
     },
     "execution_count": 10,
     "metadata": {},
     "output_type": "execute_result"
    }
   ],
   "source": [
    "flights.index"
   ]
  },
  {
   "cell_type": "code",
   "execution_count": 11,
   "id": "fcea5ba4",
   "metadata": {},
   "outputs": [
    {
     "data": {
      "text/plain": [
       "True"
      ]
     },
     "execution_count": 11,
     "metadata": {},
     "output_type": "execute_result"
    }
   ],
   "source": [
    "(flights.index.max() + 1) == flights[cols].sum().sum()"
   ]
  },
  {
   "cell_type": "code",
   "execution_count": 12,
   "id": "b9d9b2ce",
   "metadata": {},
   "outputs": [],
   "source": [
    "status = flights[cols].sum()"
   ]
  },
  {
   "cell_type": "code",
   "execution_count": 13,
   "id": "8c41b2c2",
   "metadata": {},
   "outputs": [
    {
     "data": {
      "image/png": "[encoded data removed]",
      "text/plain": [
       "<Figure size 1296x576 with 6 Axes>"
      ]
     },
     "metadata": {
      "needs_background": "light"
     },
     "output_type": "display_data"
    }
   ],
   "source": [
    "fig, axes = plt.subplots(2, 3, figsize=(18, 8))\n",
    "(ax1, ax2, ax3) = axes[0]\n",
    "(ax4, ax5, ax6) = axes[1]\n",
    "fig.suptitle('2015 US flights uivariate summary', size=20)\n",
    "\n",
    "ac = flights['AIRLINE'].value_counts()\n",
    "plt1 = ac.plot(kind='barh', ax=ax1, title='Airline')\n",
    "\n",
    "oc = flights['ORG_AIR'].value_counts()\n",
    "plt2 = oc.plot(kind='bar', ax=ax2, rot=0, title='Origin City')\n",
    "\n",
    "dc = flights['DEST_AIR'].value_counts().head(10)\n",
    "plt3 = dc.plot(kind='bar', ax=ax3, rot=0, title='Destination City')\n",
    "\n",
    "plt4 = status.plot(kind='bar', ax=ax4, rot=0, log=True, title='Flight Status')\n",
    "\n",
    "plt5 = flights['DIST'].plot(kind='kde', ax=ax5, xlim=(0, 3000), title='distane KDE')\n",
    "\n",
    "plt6 = flights['ARR_DELAY'].plot(kind='hist', ax=ax6, title='Arrival Delay', range=(0, 200))\n"
   ]
  },
  {
   "cell_type": "markdown",
   "id": "6faf7f1a",
   "metadata": {},
   "source": [
    "#### creating timestamp column for the filghts dataset , for timeseries data plotting"
   ]
  },
  {
   "cell_type": "code",
   "execution_count": 14,
   "id": "433bcebf",
   "metadata": {},
   "outputs": [
    {
     "data": {
      "text/plain": [
       "0    1625\n",
       "1     823\n",
       "2    1305\n",
       "3    1555\n",
       "4    1720\n",
       "5    1450\n",
       "6    1250\n",
       "7    1020\n",
       "8    1845\n",
       "9     925\n",
       "Name: SCHED_DEP, dtype: int64"
      ]
     },
     "execution_count": 14,
     "metadata": {},
     "output_type": "execute_result"
    }
   ],
   "source": [
    "flights['SCHED_DEP'].head(10)"
   ]
  },
  {
   "cell_type": "code",
   "execution_count": 15,
   "id": "99be6da4",
   "metadata": {},
   "outputs": [],
   "source": [
    "hour = flights['SCHED_DEP'] // 100\n",
    "minute = flights['SCHED_DEP'] % 100"
   ]
  },
  {
   "cell_type": "code",
   "execution_count": 16,
   "id": "435a16a3",
   "metadata": {},
   "outputs": [],
   "source": [
    "df_date = flights[['MONTH', 'DAY']].assign(YEAR=2015, HOUR=hour, MINUTE=minute)"
   ]
  },
  {
   "cell_type": "code",
   "execution_count": 17,
   "id": "9919a05d",
   "metadata": {},
   "outputs": [
    {
     "data": {
      "text/html": [
       "<div>\n",
       "<style scoped>\n",
       "    .dataframe tbody tr th:only-of-type {\n",
       "        vertical-align: middle;\n",
       "    }\n",
       "\n",
       "    .dataframe tbody tr th {\n",
       "        vertical-align: top;\n",
       "    }\n",
       "\n",
       "    .dataframe thead th {\n",
       "        text-align: right;\n",
       "    }\n",
       "</style>\n",
       "<table border=\"1\" class=\"dataframe\">\n",
       "  <thead>\n",
       "    <tr style=\"text-align: right;\">\n",
       "      <th></th>\n",
       "      <th>MONTH</th>\n",
       "      <th>DAY</th>\n",
       "      <th>YEAR</th>\n",
       "      <th>HOUR</th>\n",
       "      <th>MINUTE</th>\n",
       "    </tr>\n",
       "  </thead>\n",
       "  <tbody>\n",
       "    <tr>\n",
       "      <th>0</th>\n",
       "      <td>1</td>\n",
       "      <td>1</td>\n",
       "      <td>2015</td>\n",
       "      <td>16</td>\n",
       "      <td>25</td>\n",
       "    </tr>\n",
       "    <tr>\n",
       "      <th>1</th>\n",
       "      <td>1</td>\n",
       "      <td>1</td>\n",
       "      <td>2015</td>\n",
       "      <td>8</td>\n",
       "      <td>23</td>\n",
       "    </tr>\n",
       "    <tr>\n",
       "      <th>2</th>\n",
       "      <td>1</td>\n",
       "      <td>1</td>\n",
       "      <td>2015</td>\n",
       "      <td>13</td>\n",
       "      <td>5</td>\n",
       "    </tr>\n",
       "    <tr>\n",
       "      <th>3</th>\n",
       "      <td>1</td>\n",
       "      <td>1</td>\n",
       "      <td>2015</td>\n",
       "      <td>15</td>\n",
       "      <td>55</td>\n",
       "    </tr>\n",
       "    <tr>\n",
       "      <th>4</th>\n",
       "      <td>1</td>\n",
       "      <td>1</td>\n",
       "      <td>2015</td>\n",
       "      <td>17</td>\n",
       "      <td>20</td>\n",
       "    </tr>\n",
       "    <tr>\n",
       "      <th>...</th>\n",
       "      <td>...</td>\n",
       "      <td>...</td>\n",
       "      <td>...</td>\n",
       "      <td>...</td>\n",
       "      <td>...</td>\n",
       "    </tr>\n",
       "    <tr>\n",
       "      <th>58487</th>\n",
       "      <td>12</td>\n",
       "      <td>31</td>\n",
       "      <td>2015</td>\n",
       "      <td>5</td>\n",
       "      <td>15</td>\n",
       "    </tr>\n",
       "    <tr>\n",
       "      <th>58488</th>\n",
       "      <td>12</td>\n",
       "      <td>31</td>\n",
       "      <td>2015</td>\n",
       "      <td>19</td>\n",
       "      <td>10</td>\n",
       "    </tr>\n",
       "    <tr>\n",
       "      <th>58489</th>\n",
       "      <td>12</td>\n",
       "      <td>31</td>\n",
       "      <td>2015</td>\n",
       "      <td>18</td>\n",
       "      <td>46</td>\n",
       "    </tr>\n",
       "    <tr>\n",
       "      <th>58490</th>\n",
       "      <td>12</td>\n",
       "      <td>31</td>\n",
       "      <td>2015</td>\n",
       "      <td>5</td>\n",
       "      <td>25</td>\n",
       "    </tr>\n",
       "    <tr>\n",
       "      <th>58491</th>\n",
       "      <td>12</td>\n",
       "      <td>31</td>\n",
       "      <td>2015</td>\n",
       "      <td>8</td>\n",
       "      <td>59</td>\n",
       "    </tr>\n",
       "  </tbody>\n",
       "</table>\n",
       "<p>58492 rows × 5 columns</p>\n",
       "</div>"
      ],
      "text/plain": [
       "       MONTH  DAY  YEAR  HOUR  MINUTE\n",
       "0          1    1  2015    16      25\n",
       "1          1    1  2015     8      23\n",
       "2          1    1  2015    13       5\n",
       "3          1    1  2015    15      55\n",
       "4          1    1  2015    17      20\n",
       "...      ...  ...   ...   ...     ...\n",
       "58487     12   31  2015     5      15\n",
       "58488     12   31  2015    19      10\n",
       "58489     12   31  2015    18      46\n",
       "58490     12   31  2015     5      25\n",
       "58491     12   31  2015     8      59\n",
       "\n",
       "[58492 rows x 5 columns]"
      ]
     },
     "execution_count": 17,
     "metadata": {},
     "output_type": "execute_result"
    }
   ],
   "source": [
    "df_date"
   ]
  },
  {
   "cell_type": "code",
   "execution_count": 18,
   "id": "a80fbc27",
   "metadata": {},
   "outputs": [],
   "source": [
    "flights_dep = pd.to_datetime(df_date)   # converts to Timestamp index"
   ]
  },
  {
   "cell_type": "code",
   "execution_count": 19,
   "id": "26186fc8",
   "metadata": {},
   "outputs": [
    {
     "data": {
      "text/plain": [
       "0   2015-01-01 16:25:00\n",
       "1   2015-01-01 08:23:00\n",
       "2   2015-01-01 13:05:00\n",
       "3   2015-01-01 15:55:00\n",
       "4   2015-01-01 17:20:00\n",
       "dtype: datetime64[ns]"
      ]
     },
     "execution_count": 19,
     "metadata": {},
     "output_type": "execute_result"
    }
   ],
   "source": [
    "flights_dep.head()"
   ]
  },
  {
   "cell_type": "code",
   "execution_count": 20,
   "id": "7839f312",
   "metadata": {},
   "outputs": [],
   "source": [
    "flights.index = flights_dep"
   ]
  },
  {
   "cell_type": "code",
   "execution_count": 21,
   "id": "5e8b960e",
   "metadata": {},
   "outputs": [],
   "source": [
    "fc = flights.resample('W').size()   # getting weekly count"
   ]
  },
  {
   "cell_type": "code",
   "execution_count": 22,
   "id": "ecd8da22",
   "metadata": {},
   "outputs": [
    {
     "data": {
      "text/plain": [
       "2015-01-04     666\n",
       "2015-01-11    1088\n",
       "2015-01-18    1120\n",
       "2015-01-25    1169\n",
       "2015-02-01    1103\n",
       "Freq: W-SUN, dtype: int64"
      ]
     },
     "execution_count": 22,
     "metadata": {},
     "output_type": "execute_result"
    }
   ],
   "source": [
    "fc.head(5)"
   ]
  },
  {
   "cell_type": "code",
   "execution_count": 23,
   "id": "135d3db5",
   "metadata": {},
   "outputs": [
    {
     "data": {
      "text/plain": [
       "<AxesSubplot:title={'center':'Flights per Week'}>"
      ]
     },
     "execution_count": 23,
     "metadata": {},
     "output_type": "execute_result"
    },
    {
     "data": {
      "image/png": "[encoded data removed]",
      "text/plain": [
       "<Figure size 864x216 with 1 Axes>"
      ]
     },
     "metadata": {
      "needs_background": "light"
     },
     "output_type": "display_data"
    }
   ],
   "source": [
    "fc.plot(figsize=(12,3), title='Flights per Week', grid=True)  # data missing during oct - nov"
   ]
  },
  {
   "cell_type": "code",
   "execution_count": 24,
   "id": "aefd5244",
   "metadata": {},
   "outputs": [],
   "source": [
    "fc_miss = fc.where(fc > 1000)"
   ]
  },
  {
   "cell_type": "code",
   "execution_count": 25,
   "id": "97f3995d",
   "metadata": {},
   "outputs": [],
   "source": [
    "fc_intp = fc_miss.interpolate(limit_direction='both')"
   ]
  },
  {
   "cell_type": "code",
   "execution_count": 26,
   "id": "2a5f3934",
   "metadata": {},
   "outputs": [
    {
     "data": {
      "text/plain": [
       "Text(0.8, 0.77, 'missing data')"
      ]
     },
     "execution_count": 26,
     "metadata": {},
     "output_type": "execute_result"
    },
    {
     "data": {
      "image/png": "[encoded data removed]",
      "text/plain": [
       "<Figure size 1152x288 with 1 Axes>"
      ]
     },
     "metadata": {
      "needs_background": "light"
     },
     "output_type": "display_data"
    }
   ],
   "source": [
    "ax = fc_intp.plot(color='black', figsize=(16,4))\n",
    "\n",
    "# with more width, one more line will show where the data is missing.\n",
    "fc_intp[fc < 500].plot(linewidth=10, grid=True, color='.8', ax=ax)\n",
    "\n",
    "ax.annotate(xy=(.8, .55), xytext=(.8, .77), \n",
    "            xycoords='axes fraction', text='missing data', \n",
    "            ha='center', size=20, arrowprops=dict())"
   ]
  },
  {
   "cell_type": "markdown",
   "id": "548fdec2",
   "metadata": {},
   "source": [
    "### Plotting data for 10 airports that :\n",
    "#### 1) Have the longest average distance traveled for inbound flights\n",
    "#### 2) Have a minimum of 100 total flights:"
   ]
  },
  {
   "cell_type": "code",
   "execution_count": 27,
   "id": "7e0636ed",
   "metadata": {},
   "outputs": [],
   "source": [
    "data= flights.groupby('DEST_AIR')['DIST'] \\\n",
    "            .agg(['mean', 'count']) \\\n",
    "            .query('count > 100') \\\n",
    "            .sort_values('mean') \\\n",
    "            .tail(10)"
   ]
  },
  {
   "cell_type": "code",
   "execution_count": 28,
   "id": "70b0c3de",
   "metadata": {},
   "outputs": [
    {
     "data": {
      "text/html": [
       "<div>\n",
       "<style scoped>\n",
       "    .dataframe tbody tr th:only-of-type {\n",
       "        vertical-align: middle;\n",
       "    }\n",
       "\n",
       "    .dataframe tbody tr th {\n",
       "        vertical-align: top;\n",
       "    }\n",
       "\n",
       "    .dataframe thead th {\n",
       "        text-align: right;\n",
       "    }\n",
       "</style>\n",
       "<table border=\"1\" class=\"dataframe\">\n",
       "  <thead>\n",
       "    <tr style=\"text-align: right;\">\n",
       "      <th></th>\n",
       "      <th>mean</th>\n",
       "      <th>count</th>\n",
       "    </tr>\n",
       "    <tr>\n",
       "      <th>DEST_AIR</th>\n",
       "      <th></th>\n",
       "      <th></th>\n",
       "    </tr>\n",
       "  </thead>\n",
       "  <tbody>\n",
       "    <tr>\n",
       "      <th>FLL</th>\n",
       "      <td>1261.114875</td>\n",
       "      <td>679</td>\n",
       "    </tr>\n",
       "    <tr>\n",
       "      <th>PHL</th>\n",
       "      <td>1324.490153</td>\n",
       "      <td>914</td>\n",
       "    </tr>\n",
       "    <tr>\n",
       "      <th>MIA</th>\n",
       "      <td>1349.589552</td>\n",
       "      <td>670</td>\n",
       "    </tr>\n",
       "    <tr>\n",
       "      <th>IAD</th>\n",
       "      <td>1564.146865</td>\n",
       "      <td>606</td>\n",
       "    </tr>\n",
       "    <tr>\n",
       "      <th>BOS</th>\n",
       "      <td>1631.797669</td>\n",
       "      <td>944</td>\n",
       "    </tr>\n",
       "    <tr>\n",
       "      <th>EWR</th>\n",
       "      <td>1668.000000</td>\n",
       "      <td>921</td>\n",
       "    </tr>\n",
       "    <tr>\n",
       "      <th>SJU</th>\n",
       "      <td>1859.436090</td>\n",
       "      <td>133</td>\n",
       "    </tr>\n",
       "  </tbody>\n",
       "</table>\n",
       "</div>"
      ],
      "text/plain": [
       "                 mean  count\n",
       "DEST_AIR                    \n",
       "FLL       1261.114875    679\n",
       "PHL       1324.490153    914\n",
       "MIA       1349.589552    670\n",
       "IAD       1564.146865    606\n",
       "BOS       1631.797669    944\n",
       "EWR       1668.000000    921\n",
       "SJU       1859.436090    133"
      ]
     },
     "execution_count": 28,
     "metadata": {},
     "output_type": "execute_result"
    }
   ],
   "source": [
    "data.head(7)"
   ]
  },
  {
   "cell_type": "code",
   "execution_count": 29,
   "id": "b3395829",
   "metadata": {},
   "outputs": [
    {
     "data": {
      "text/plain": [
       "<AxesSubplot:title={'center':'Average Distance per Destination'}, xlabel='DEST_AIR'>"
      ]
     },
     "execution_count": 29,
     "metadata": {},
     "output_type": "execute_result"
    },
    {
     "data": {
      "image/png": "[encoded data removed]",
      "text/plain": [
       "<Figure size 432x288 with 1 Axes>"
      ]
     },
     "metadata": {
      "needs_background": "light"
     },
     "output_type": "display_data"
    }
   ],
   "source": [
    "data.plot(kind='bar', y='mean', rot=0, legend=False, title='Average Distance per Destination')"
   ]
  },
  {
   "cell_type": "markdown",
   "id": "d9c6cbb6",
   "metadata": {},
   "source": [
    "#### plotting the correlation between DIST and the AIR_TIME"
   ]
  },
  {
   "cell_type": "code",
   "execution_count": 30,
   "id": "a234c197",
   "metadata": {},
   "outputs": [],
   "source": [
    "fs = flights.reset_index(drop=True)[['DIST', 'AIR_TIME']] \\\n",
    "            .query('DIST <= 2000') \\\n",
    "            .dropna()"
   ]
  },
  {
   "cell_type": "code",
   "execution_count": 31,
   "id": "f977e3b7",
   "metadata": {},
   "outputs": [
    {
     "data": {
      "text/html": [
       "<div>\n",
       "<style scoped>\n",
       "    .dataframe tbody tr th:only-of-type {\n",
       "        vertical-align: middle;\n",
       "    }\n",
       "\n",
       "    .dataframe tbody tr th {\n",
       "        vertical-align: top;\n",
       "    }\n",
       "\n",
       "    .dataframe thead th {\n",
       "        text-align: right;\n",
       "    }\n",
       "</style>\n",
       "<table border=\"1\" class=\"dataframe\">\n",
       "  <thead>\n",
       "    <tr style=\"text-align: right;\">\n",
       "      <th></th>\n",
       "      <th>DIST</th>\n",
       "      <th>AIR_TIME</th>\n",
       "    </tr>\n",
       "  </thead>\n",
       "  <tbody>\n",
       "    <tr>\n",
       "      <th>0</th>\n",
       "      <td>590</td>\n",
       "      <td>94.0</td>\n",
       "    </tr>\n",
       "    <tr>\n",
       "      <th>1</th>\n",
       "      <td>1452</td>\n",
       "      <td>154.0</td>\n",
       "    </tr>\n",
       "    <tr>\n",
       "      <th>2</th>\n",
       "      <td>641</td>\n",
       "      <td>85.0</td>\n",
       "    </tr>\n",
       "    <tr>\n",
       "      <th>3</th>\n",
       "      <td>1192</td>\n",
       "      <td>126.0</td>\n",
       "    </tr>\n",
       "    <tr>\n",
       "      <th>4</th>\n",
       "      <td>1363</td>\n",
       "      <td>166.0</td>\n",
       "    </tr>\n",
       "    <tr>\n",
       "      <th>5</th>\n",
       "      <td>1303</td>\n",
       "      <td>178.0</td>\n",
       "    </tr>\n",
       "    <tr>\n",
       "      <th>6</th>\n",
       "      <td>447</td>\n",
       "      <td>64.0</td>\n",
       "    </tr>\n",
       "  </tbody>\n",
       "</table>\n",
       "</div>"
      ],
      "text/plain": [
       "   DIST  AIR_TIME\n",
       "0   590      94.0\n",
       "1  1452     154.0\n",
       "2   641      85.0\n",
       "3  1192     126.0\n",
       "4  1363     166.0\n",
       "5  1303     178.0\n",
       "6   447      64.0"
      ]
     },
     "execution_count": 31,
     "metadata": {},
     "output_type": "execute_result"
    }
   ],
   "source": [
    "fs.head(7)"
   ]
  },
  {
   "cell_type": "code",
   "execution_count": 32,
   "id": "b4b18360",
   "metadata": {},
   "outputs": [
    {
     "data": {
      "text/plain": [
       "<AxesSubplot:xlabel='DIST', ylabel='AIR_TIME'>"
      ]
     },
     "execution_count": 32,
     "metadata": {},
     "output_type": "execute_result"
    },
    {
     "data": {
      "image/png": "[encoded data removed]",
      "text/plain": [
       "<Figure size 1152x288 with 1 Axes>"
      ]
     },
     "metadata": {
      "needs_background": "light"
     },
     "output_type": "display_data"
    }
   ],
   "source": [
    "fs.plot(kind='scatter', x='DIST', y='AIR_TIME', s=1, figsize=(16, 4))"
   ]
  },
  {
   "cell_type": "code",
   "execution_count": 33,
   "id": "8aef9cb9",
   "metadata": {},
   "outputs": [
    {
     "data": {
      "text/plain": [
       "(67, 1999)"
      ]
     },
     "execution_count": 33,
     "metadata": {},
     "output_type": "execute_result"
    }
   ],
   "source": [
    "fs['DIST'].min(), fs['DIST'].max()"
   ]
  },
  {
   "cell_type": "code",
   "execution_count": 34,
   "id": "217b4d06",
   "metadata": {},
   "outputs": [],
   "source": [
    "fs['DIST_GROUP'] = pd.cut(fs['DIST'], bins=range(0, 2001, 250))"
   ]
  },
  {
   "cell_type": "code",
   "execution_count": 35,
   "id": "76cd5c37",
   "metadata": {},
   "outputs": [
    {
     "data": {
      "text/plain": [
       "(0, 250]         6529\n",
       "(250, 500]      12631\n",
       "(500, 750]      11506\n",
       "(750, 1000]      8832\n",
       "(1000, 1250]     5071\n",
       "(1250, 1500]     3198\n",
       "(1500, 1750]     3885\n",
       "(1750, 2000]     1815\n",
       "Name: DIST_GROUP, dtype: int64"
      ]
     },
     "execution_count": 35,
     "metadata": {},
     "output_type": "execute_result"
    }
   ],
   "source": [
    "fs['DIST_GROUP'].value_counts().sort_index()"
   ]
  },
  {
   "cell_type": "code",
   "execution_count": 36,
   "id": "59cc3b2a",
   "metadata": {},
   "outputs": [],
   "source": [
    "normalize = lambda value: (value - value.mean()) / value.std()"
   ]
  },
  {
   "cell_type": "code",
   "execution_count": 37,
   "id": "a450f88b",
   "metadata": {},
   "outputs": [
    {
     "data": {
      "text/html": [
       "<div>\n",
       "<style scoped>\n",
       "    .dataframe tbody tr th:only-of-type {\n",
       "        vertical-align: middle;\n",
       "    }\n",
       "\n",
       "    .dataframe tbody tr th {\n",
       "        vertical-align: top;\n",
       "    }\n",
       "\n",
       "    .dataframe thead th {\n",
       "        text-align: right;\n",
       "    }\n",
       "</style>\n",
       "<table border=\"1\" class=\"dataframe\">\n",
       "  <thead>\n",
       "    <tr style=\"text-align: right;\">\n",
       "      <th></th>\n",
       "      <th>DIST</th>\n",
       "      <th>AIR_TIME</th>\n",
       "      <th>DIST_GROUP</th>\n",
       "    </tr>\n",
       "  </thead>\n",
       "  <tbody>\n",
       "    <tr>\n",
       "      <th>0</th>\n",
       "      <td>590</td>\n",
       "      <td>94.0</td>\n",
       "      <td>(500, 750]</td>\n",
       "    </tr>\n",
       "    <tr>\n",
       "      <th>1</th>\n",
       "      <td>1452</td>\n",
       "      <td>154.0</td>\n",
       "      <td>(1250, 1500]</td>\n",
       "    </tr>\n",
       "    <tr>\n",
       "      <th>2</th>\n",
       "      <td>641</td>\n",
       "      <td>85.0</td>\n",
       "      <td>(500, 750]</td>\n",
       "    </tr>\n",
       "    <tr>\n",
       "      <th>3</th>\n",
       "      <td>1192</td>\n",
       "      <td>126.0</td>\n",
       "      <td>(1000, 1250]</td>\n",
       "    </tr>\n",
       "    <tr>\n",
       "      <th>4</th>\n",
       "      <td>1363</td>\n",
       "      <td>166.0</td>\n",
       "      <td>(1250, 1500]</td>\n",
       "    </tr>\n",
       "    <tr>\n",
       "      <th>5</th>\n",
       "      <td>1303</td>\n",
       "      <td>178.0</td>\n",
       "      <td>(1250, 1500]</td>\n",
       "    </tr>\n",
       "    <tr>\n",
       "      <th>6</th>\n",
       "      <td>447</td>\n",
       "      <td>64.0</td>\n",
       "      <td>(250, 500]</td>\n",
       "    </tr>\n",
       "    <tr>\n",
       "      <th>7</th>\n",
       "      <td>651</td>\n",
       "      <td>91.0</td>\n",
       "      <td>(500, 750]</td>\n",
       "    </tr>\n",
       "    <tr>\n",
       "      <th>8</th>\n",
       "      <td>258</td>\n",
       "      <td>44.0</td>\n",
       "      <td>(250, 500]</td>\n",
       "    </tr>\n",
       "    <tr>\n",
       "      <th>9</th>\n",
       "      <td>1608</td>\n",
       "      <td>215.0</td>\n",
       "      <td>(1500, 1750]</td>\n",
       "    </tr>\n",
       "  </tbody>\n",
       "</table>\n",
       "</div>"
      ],
      "text/plain": [
       "   DIST  AIR_TIME    DIST_GROUP\n",
       "0   590      94.0    (500, 750]\n",
       "1  1452     154.0  (1250, 1500]\n",
       "2   641      85.0    (500, 750]\n",
       "3  1192     126.0  (1000, 1250]\n",
       "4  1363     166.0  (1250, 1500]\n",
       "5  1303     178.0  (1250, 1500]\n",
       "6   447      64.0    (250, 500]\n",
       "7   651      91.0    (500, 750]\n",
       "8   258      44.0    (250, 500]\n",
       "9  1608     215.0  (1500, 1750]"
      ]
     },
     "execution_count": 37,
     "metadata": {},
     "output_type": "execute_result"
    }
   ],
   "source": [
    "fs.head(10)"
   ]
  },
  {
   "cell_type": "code",
   "execution_count": 38,
   "id": "c17097eb",
   "metadata": {},
   "outputs": [],
   "source": [
    "fs['TIME_SCORE'] = fs.groupby('DIST_GROUP')['AIR_TIME'].transform(normalize)"
   ]
  },
  {
   "cell_type": "code",
   "execution_count": 39,
   "id": "f4fdeec8",
   "metadata": {},
   "outputs": [
    {
     "data": {
      "text/html": [
       "<div>\n",
       "<style scoped>\n",
       "    .dataframe tbody tr th:only-of-type {\n",
       "        vertical-align: middle;\n",
       "    }\n",
       "\n",
       "    .dataframe tbody tr th {\n",
       "        vertical-align: top;\n",
       "    }\n",
       "\n",
       "    .dataframe thead th {\n",
       "        text-align: right;\n",
       "    }\n",
       "</style>\n",
       "<table border=\"1\" class=\"dataframe\">\n",
       "  <thead>\n",
       "    <tr style=\"text-align: right;\">\n",
       "      <th></th>\n",
       "      <th>DIST</th>\n",
       "      <th>AIR_TIME</th>\n",
       "      <th>DIST_GROUP</th>\n",
       "      <th>TIME_SCORE</th>\n",
       "    </tr>\n",
       "  </thead>\n",
       "  <tbody>\n",
       "    <tr>\n",
       "      <th>0</th>\n",
       "      <td>590</td>\n",
       "      <td>94.0</td>\n",
       "      <td>(500, 750]</td>\n",
       "      <td>0.490966</td>\n",
       "    </tr>\n",
       "    <tr>\n",
       "      <th>1</th>\n",
       "      <td>1452</td>\n",
       "      <td>154.0</td>\n",
       "      <td>(1250, 1500]</td>\n",
       "      <td>-1.267551</td>\n",
       "    </tr>\n",
       "    <tr>\n",
       "      <th>2</th>\n",
       "      <td>641</td>\n",
       "      <td>85.0</td>\n",
       "      <td>(500, 750]</td>\n",
       "      <td>-0.296749</td>\n",
       "    </tr>\n",
       "    <tr>\n",
       "      <th>3</th>\n",
       "      <td>1192</td>\n",
       "      <td>126.0</td>\n",
       "      <td>(1000, 1250]</td>\n",
       "      <td>-1.211020</td>\n",
       "    </tr>\n",
       "    <tr>\n",
       "      <th>4</th>\n",
       "      <td>1363</td>\n",
       "      <td>166.0</td>\n",
       "      <td>(1250, 1500]</td>\n",
       "      <td>-0.521999</td>\n",
       "    </tr>\n",
       "    <tr>\n",
       "      <th>5</th>\n",
       "      <td>1303</td>\n",
       "      <td>178.0</td>\n",
       "      <td>(1250, 1500]</td>\n",
       "      <td>0.223553</td>\n",
       "    </tr>\n",
       "    <tr>\n",
       "      <th>6</th>\n",
       "      <td>447</td>\n",
       "      <td>64.0</td>\n",
       "      <td>(250, 500]</td>\n",
       "      <td>0.639752</td>\n",
       "    </tr>\n",
       "    <tr>\n",
       "      <th>7</th>\n",
       "      <td>651</td>\n",
       "      <td>91.0</td>\n",
       "      <td>(500, 750]</td>\n",
       "      <td>0.228394</td>\n",
       "    </tr>\n",
       "    <tr>\n",
       "      <th>8</th>\n",
       "      <td>258</td>\n",
       "      <td>44.0</td>\n",
       "      <td>(250, 500]</td>\n",
       "      <td>-1.466326</td>\n",
       "    </tr>\n",
       "    <tr>\n",
       "      <th>9</th>\n",
       "      <td>1608</td>\n",
       "      <td>215.0</td>\n",
       "      <td>(1500, 1750]</td>\n",
       "      <td>0.508643</td>\n",
       "    </tr>\n",
       "  </tbody>\n",
       "</table>\n",
       "</div>"
      ],
      "text/plain": [
       "   DIST  AIR_TIME    DIST_GROUP  TIME_SCORE\n",
       "0   590      94.0    (500, 750]    0.490966\n",
       "1  1452     154.0  (1250, 1500]   -1.267551\n",
       "2   641      85.0    (500, 750]   -0.296749\n",
       "3  1192     126.0  (1000, 1250]   -1.211020\n",
       "4  1363     166.0  (1250, 1500]   -0.521999\n",
       "5  1303     178.0  (1250, 1500]    0.223553\n",
       "6   447      64.0    (250, 500]    0.639752\n",
       "7   651      91.0    (500, 750]    0.228394\n",
       "8   258      44.0    (250, 500]   -1.466326\n",
       "9  1608     215.0  (1500, 1750]    0.508643"
      ]
     },
     "execution_count": 39,
     "metadata": {},
     "output_type": "execute_result"
    }
   ],
   "source": [
    "fs.head(10)"
   ]
  },
  {
   "cell_type": "code",
   "execution_count": 40,
   "id": "b83c19bc",
   "metadata": {},
   "outputs": [
    {
     "data": {
      "text/plain": [
       "Text(0.5, 0.98, '')"
      ]
     },
     "execution_count": 40,
     "metadata": {},
     "output_type": "execute_result"
    },
    {
     "data": {
      "image/png": "[encoded data removed]",
      "text/plain": [
       "<Figure size 1152x288 with 1 Axes>"
      ]
     },
     "metadata": {
      "needs_background": "light"
     },
     "output_type": "display_data"
    }
   ],
   "source": [
    "ax = fs.boxplot(by='DIST_GROUP', column='TIME_SCORE', figsize = (16,4))\n",
    "ax.set_title('Z-Scores for Distance Groups')\n",
    "ax.figure.suptitle('')"
   ]
  },
  {
   "cell_type": "markdown",
   "id": "70a1e435",
   "metadata": {},
   "source": [
    "#### plotting the outliers from the above data"
   ]
  },
  {
   "cell_type": "code",
   "execution_count": 41,
   "id": "460bfc71",
   "metadata": {},
   "outputs": [
    {
     "data": {
      "text/html": [
       "<div>\n",
       "<style scoped>\n",
       "    .dataframe tbody tr th:only-of-type {\n",
       "        vertical-align: middle;\n",
       "    }\n",
       "\n",
       "    .dataframe tbody tr th {\n",
       "        vertical-align: top;\n",
       "    }\n",
       "\n",
       "    .dataframe thead th {\n",
       "        text-align: right;\n",
       "    }\n",
       "</style>\n",
       "<table border=\"1\" class=\"dataframe\">\n",
       "  <thead>\n",
       "    <tr style=\"text-align: right;\">\n",
       "      <th></th>\n",
       "      <th>DIST</th>\n",
       "      <th>AIR_TIME</th>\n",
       "      <th>DIST_GROUP</th>\n",
       "      <th>TIME_SCORE</th>\n",
       "    </tr>\n",
       "  </thead>\n",
       "  <tbody>\n",
       "    <tr>\n",
       "      <th>35564</th>\n",
       "      <td>991</td>\n",
       "      <td>185.0</td>\n",
       "      <td>(750, 1000]</td>\n",
       "      <td>5.216009</td>\n",
       "    </tr>\n",
       "    <tr>\n",
       "      <th>8662</th>\n",
       "      <td>236</td>\n",
       "      <td>79.0</td>\n",
       "      <td>(0, 250]</td>\n",
       "      <td>5.280413</td>\n",
       "    </tr>\n",
       "    <tr>\n",
       "      <th>22285</th>\n",
       "      <td>925</td>\n",
       "      <td>190.0</td>\n",
       "      <td>(750, 1000]</td>\n",
       "      <td>5.602977</td>\n",
       "    </tr>\n",
       "    <tr>\n",
       "      <th>57164</th>\n",
       "      <td>738</td>\n",
       "      <td>153.0</td>\n",
       "      <td>(500, 750]</td>\n",
       "      <td>5.654878</td>\n",
       "    </tr>\n",
       "    <tr>\n",
       "      <th>50167</th>\n",
       "      <td>731</td>\n",
       "      <td>154.0</td>\n",
       "      <td>(500, 750]</td>\n",
       "      <td>5.742402</td>\n",
       "    </tr>\n",
       "    <tr>\n",
       "      <th>24698</th>\n",
       "      <td>907</td>\n",
       "      <td>199.0</td>\n",
       "      <td>(750, 1000]</td>\n",
       "      <td>6.299519</td>\n",
       "    </tr>\n",
       "    <tr>\n",
       "      <th>54821</th>\n",
       "      <td>651</td>\n",
       "      <td>164.0</td>\n",
       "      <td>(500, 750]</td>\n",
       "      <td>6.617641</td>\n",
       "    </tr>\n",
       "    <tr>\n",
       "      <th>16429</th>\n",
       "      <td>373</td>\n",
       "      <td>121.0</td>\n",
       "      <td>(250, 500]</td>\n",
       "      <td>6.642075</td>\n",
       "    </tr>\n",
       "    <tr>\n",
       "      <th>57614</th>\n",
       "      <td>802</td>\n",
       "      <td>210.0</td>\n",
       "      <td>(750, 1000]</td>\n",
       "      <td>7.150847</td>\n",
       "    </tr>\n",
       "    <tr>\n",
       "      <th>44676</th>\n",
       "      <td>643</td>\n",
       "      <td>176.0</td>\n",
       "      <td>(500, 750]</td>\n",
       "      <td>7.667928</td>\n",
       "    </tr>\n",
       "  </tbody>\n",
       "</table>\n",
       "</div>"
      ],
      "text/plain": [
       "       DIST  AIR_TIME   DIST_GROUP  TIME_SCORE\n",
       "35564   991     185.0  (750, 1000]    5.216009\n",
       "8662    236      79.0     (0, 250]    5.280413\n",
       "22285   925     190.0  (750, 1000]    5.602977\n",
       "57164   738     153.0   (500, 750]    5.654878\n",
       "50167   731     154.0   (500, 750]    5.742402\n",
       "24698   907     199.0  (750, 1000]    6.299519\n",
       "54821   651     164.0   (500, 750]    6.617641\n",
       "16429   373     121.0   (250, 500]    6.642075\n",
       "57614   802     210.0  (750, 1000]    7.150847\n",
       "44676   643     176.0   (500, 750]    7.667928"
      ]
     },
     "execution_count": 41,
     "metadata": {},
     "output_type": "execute_result"
    }
   ],
   "source": [
    "fs.sort_values('TIME_SCORE').tail(10)"
   ]
  },
  {
   "cell_type": "code",
   "execution_count": 42,
   "id": "b4a43a57",
   "metadata": {},
   "outputs": [],
   "source": [
    "index_gt_6 = fs[fs['TIME_SCORE'] >6 ].index"
   ]
  },
  {
   "cell_type": "code",
   "execution_count": 43,
   "id": "dff1fe81",
   "metadata": {},
   "outputs": [
    {
     "data": {
      "text/plain": [
       "Int64Index([16429, 24698, 44676, 54821, 57614], dtype='int64')"
      ]
     },
     "execution_count": 43,
     "metadata": {},
     "output_type": "execute_result"
    }
   ],
   "source": [
    "index_gt_6"
   ]
  },
  {
   "cell_type": "code",
   "execution_count": 44,
   "id": "cc357d01",
   "metadata": {},
   "outputs": [],
   "source": [
    "outliers = flights.iloc[index_gt_6]"
   ]
  },
  {
   "cell_type": "code",
   "execution_count": 45,
   "id": "792c0870",
   "metadata": {},
   "outputs": [
    {
     "data": {
      "text/html": [
       "<div>\n",
       "<style scoped>\n",
       "    .dataframe tbody tr th:only-of-type {\n",
       "        vertical-align: middle;\n",
       "    }\n",
       "\n",
       "    .dataframe tbody tr th {\n",
       "        vertical-align: top;\n",
       "    }\n",
       "\n",
       "    .dataframe thead th {\n",
       "        text-align: right;\n",
       "    }\n",
       "</style>\n",
       "<table border=\"1\" class=\"dataframe\">\n",
       "  <thead>\n",
       "    <tr style=\"text-align: right;\">\n",
       "      <th></th>\n",
       "      <th>MONTH</th>\n",
       "      <th>DAY</th>\n",
       "      <th>WEEKDAY</th>\n",
       "      <th>AIRLINE</th>\n",
       "      <th>ORG_AIR</th>\n",
       "      <th>DEST_AIR</th>\n",
       "      <th>SCHED_DEP</th>\n",
       "      <th>DEP_DELAY</th>\n",
       "      <th>AIR_TIME</th>\n",
       "      <th>DIST</th>\n",
       "      <th>SCHED_ARR</th>\n",
       "      <th>ARR_DELAY</th>\n",
       "      <th>DIVERTED</th>\n",
       "      <th>CANCELLED</th>\n",
       "      <th>DELAYED</th>\n",
       "      <th>ON_TIME</th>\n",
       "    </tr>\n",
       "  </thead>\n",
       "  <tbody>\n",
       "    <tr>\n",
       "      <th>2015-04-08 09:40:00</th>\n",
       "      <td>4</td>\n",
       "      <td>8</td>\n",
       "      <td>3</td>\n",
       "      <td>DL</td>\n",
       "      <td>ATL</td>\n",
       "      <td>CVG</td>\n",
       "      <td>940</td>\n",
       "      <td>-2.0</td>\n",
       "      <td>121.0</td>\n",
       "      <td>373</td>\n",
       "      <td>1100</td>\n",
       "      <td>54.0</td>\n",
       "      <td>0</td>\n",
       "      <td>0</td>\n",
       "      <td>1</td>\n",
       "      <td>0</td>\n",
       "    </tr>\n",
       "    <tr>\n",
       "      <th>2015-05-25 16:30:00</th>\n",
       "      <td>5</td>\n",
       "      <td>25</td>\n",
       "      <td>1</td>\n",
       "      <td>F9</td>\n",
       "      <td>MSP</td>\n",
       "      <td>ATL</td>\n",
       "      <td>1630</td>\n",
       "      <td>-6.0</td>\n",
       "      <td>199.0</td>\n",
       "      <td>907</td>\n",
       "      <td>1955</td>\n",
       "      <td>79.0</td>\n",
       "      <td>0</td>\n",
       "      <td>0</td>\n",
       "      <td>1</td>\n",
       "      <td>0</td>\n",
       "    </tr>\n",
       "    <tr>\n",
       "      <th>2015-09-10 20:00:00</th>\n",
       "      <td>9</td>\n",
       "      <td>10</td>\n",
       "      <td>4</td>\n",
       "      <td>UA</td>\n",
       "      <td>IAH</td>\n",
       "      <td>MCI</td>\n",
       "      <td>2000</td>\n",
       "      <td>-2.0</td>\n",
       "      <td>176.0</td>\n",
       "      <td>643</td>\n",
       "      <td>2201</td>\n",
       "      <td>76.0</td>\n",
       "      <td>0</td>\n",
       "      <td>0</td>\n",
       "      <td>1</td>\n",
       "      <td>0</td>\n",
       "    </tr>\n",
       "  </tbody>\n",
       "</table>\n",
       "</div>"
      ],
      "text/plain": [
       "                     MONTH  DAY  WEEKDAY AIRLINE ORG_AIR DEST_AIR  SCHED_DEP  \\\n",
       "2015-04-08 09:40:00      4    8        3      DL     ATL      CVG        940   \n",
       "2015-05-25 16:30:00      5   25        1      F9     MSP      ATL       1630   \n",
       "2015-09-10 20:00:00      9   10        4      UA     IAH      MCI       2000   \n",
       "\n",
       "                     DEP_DELAY  AIR_TIME  DIST  SCHED_ARR  ARR_DELAY  \\\n",
       "2015-04-08 09:40:00       -2.0     121.0   373       1100       54.0   \n",
       "2015-05-25 16:30:00       -6.0     199.0   907       1955       79.0   \n",
       "2015-09-10 20:00:00       -2.0     176.0   643       2201       76.0   \n",
       "\n",
       "                     DIVERTED  CANCELLED  DELAYED  ON_TIME  \n",
       "2015-04-08 09:40:00         0          0        1        0  \n",
       "2015-05-25 16:30:00         0          0        1        0  \n",
       "2015-09-10 20:00:00         0          0        1        0  "
      ]
     },
     "execution_count": 45,
     "metadata": {},
     "output_type": "execute_result"
    }
   ],
   "source": [
    "outliers.head(3)"
   ]
  },
  {
   "cell_type": "code",
   "execution_count": 46,
   "id": "a711bda3",
   "metadata": {},
   "outputs": [],
   "source": [
    "outliers = outliers[['AIRLINE','ORG_AIR', \n",
    "                     'DEST_AIR', 'AIR_TIME',\n",
    "                     'DIST', 'ARR_DELAY', 'DIVERTED']]"
   ]
  },
  {
   "cell_type": "code",
   "execution_count": 47,
   "id": "f71a691c",
   "metadata": {},
   "outputs": [],
   "source": [
    "outliers['PLOT_NUM'] = range(1, len(outliers) + 1)"
   ]
  },
  {
   "cell_type": "code",
   "execution_count": 48,
   "id": "0e993967",
   "metadata": {},
   "outputs": [
    {
     "data": {
      "text/html": [
       "<div>\n",
       "<style scoped>\n",
       "    .dataframe tbody tr th:only-of-type {\n",
       "        vertical-align: middle;\n",
       "    }\n",
       "\n",
       "    .dataframe tbody tr th {\n",
       "        vertical-align: top;\n",
       "    }\n",
       "\n",
       "    .dataframe thead th {\n",
       "        text-align: right;\n",
       "    }\n",
       "</style>\n",
       "<table border=\"1\" class=\"dataframe\">\n",
       "  <thead>\n",
       "    <tr style=\"text-align: right;\">\n",
       "      <th></th>\n",
       "      <th>AIRLINE</th>\n",
       "      <th>ORG_AIR</th>\n",
       "      <th>DEST_AIR</th>\n",
       "      <th>AIR_TIME</th>\n",
       "      <th>DIST</th>\n",
       "      <th>ARR_DELAY</th>\n",
       "      <th>DIVERTED</th>\n",
       "      <th>PLOT_NUM</th>\n",
       "    </tr>\n",
       "  </thead>\n",
       "  <tbody>\n",
       "    <tr>\n",
       "      <th>2015-04-08 09:40:00</th>\n",
       "      <td>DL</td>\n",
       "      <td>ATL</td>\n",
       "      <td>CVG</td>\n",
       "      <td>121.0</td>\n",
       "      <td>373</td>\n",
       "      <td>54.0</td>\n",
       "      <td>0</td>\n",
       "      <td>1</td>\n",
       "    </tr>\n",
       "    <tr>\n",
       "      <th>2015-05-25 16:30:00</th>\n",
       "      <td>F9</td>\n",
       "      <td>MSP</td>\n",
       "      <td>ATL</td>\n",
       "      <td>199.0</td>\n",
       "      <td>907</td>\n",
       "      <td>79.0</td>\n",
       "      <td>0</td>\n",
       "      <td>2</td>\n",
       "    </tr>\n",
       "    <tr>\n",
       "      <th>2015-09-10 20:00:00</th>\n",
       "      <td>UA</td>\n",
       "      <td>IAH</td>\n",
       "      <td>MCI</td>\n",
       "      <td>176.0</td>\n",
       "      <td>643</td>\n",
       "      <td>76.0</td>\n",
       "      <td>0</td>\n",
       "      <td>3</td>\n",
       "    </tr>\n",
       "    <tr>\n",
       "      <th>2015-12-10 19:53:00</th>\n",
       "      <td>OO</td>\n",
       "      <td>PHX</td>\n",
       "      <td>SFO</td>\n",
       "      <td>164.0</td>\n",
       "      <td>651</td>\n",
       "      <td>146.0</td>\n",
       "      <td>0</td>\n",
       "      <td>4</td>\n",
       "    </tr>\n",
       "    <tr>\n",
       "      <th>2015-12-26 09:15:00</th>\n",
       "      <td>NK</td>\n",
       "      <td>ORD</td>\n",
       "      <td>DFW</td>\n",
       "      <td>210.0</td>\n",
       "      <td>802</td>\n",
       "      <td>98.0</td>\n",
       "      <td>0</td>\n",
       "      <td>5</td>\n",
       "    </tr>\n",
       "  </tbody>\n",
       "</table>\n",
       "</div>"
      ],
      "text/plain": [
       "                    AIRLINE ORG_AIR DEST_AIR  AIR_TIME  DIST  ARR_DELAY  \\\n",
       "2015-04-08 09:40:00      DL     ATL      CVG     121.0   373       54.0   \n",
       "2015-05-25 16:30:00      F9     MSP      ATL     199.0   907       79.0   \n",
       "2015-09-10 20:00:00      UA     IAH      MCI     176.0   643       76.0   \n",
       "2015-12-10 19:53:00      OO     PHX      SFO     164.0   651      146.0   \n",
       "2015-12-26 09:15:00      NK     ORD      DFW     210.0   802       98.0   \n",
       "\n",
       "                     DIVERTED  PLOT_NUM  \n",
       "2015-04-08 09:40:00         0         1  \n",
       "2015-05-25 16:30:00         0         2  \n",
       "2015-09-10 20:00:00         0         3  \n",
       "2015-12-10 19:53:00         0         4  \n",
       "2015-12-26 09:15:00         0         5  "
      ]
     },
     "execution_count": 48,
     "metadata": {},
     "output_type": "execute_result"
    }
   ],
   "source": [
    "outliers"
   ]
  },
  {
   "cell_type": "code",
   "execution_count": 54,
   "id": "b2f83561",
   "metadata": {},
   "outputs": [
    {
     "data": {
      "text/plain": [
       "Text(0.5, 1.0, 'Flight Time vs Distance with Outliers')"
      ]
     },
     "execution_count": 54,
     "metadata": {},
     "output_type": "execute_result"
    },
    {
     "data": {
      "image/png": "[encoded data removed]",
      "text/plain": [
       "<Figure size 1152x288 with 1 Axes>"
      ]
     },
     "metadata": {
      "needs_background": "light"
     },
     "output_type": "display_data"
    }
   ],
   "source": [
    "ax = fs.plot(x='DIST', y='AIR_TIME',\n",
    "             kind='scatter', s=1,\n",
    "             figsize=(16,4), table=outliers)\n",
    "\n",
    "# on same axes, plot the outliers\n",
    "outliers.plot(x='DIST', y='AIR_TIME',\n",
    "              kind='scatter', s=25,\n",
    "              ax=ax, grid=True)\n",
    "\n",
    "# Marking each outlier with number and highlighting\n",
    "outs = outliers[['AIR_TIME', 'DIST', 'PLOT_NUM']]\n",
    "\n",
    "for t, d, n in outs.itertuples(index=False):\n",
    "    ax.text(d + 5, t + 5, str(n))\n",
    "\n",
    "# to remove the overlap of plot and the table below.\n",
    "plt.setp(ax.get_xticklabels(), y=.1)\n",
    "plt.setp(ax.get_xticklines(), visible=False)\n",
    "ax.set_xlabel('')\n",
    "ax.set_title('Flight Time vs Distance with Outliers')"
   ]
  },
  {
   "cell_type": "code",
   "execution_count": null,
   "id": "6beb6f53",
   "metadata": {},
   "outputs": [],
   "source": []
  }
 ],
 "metadata": {
  "kernelspec": {
   "display_name": "Python 3",
   "language": "python",
   "name": "python3"
  },
  "language_info": {
   "codemirror_mode": {
    "name": "ipython",
    "version": 3
   },
   "file_extension": ".py",
   "mimetype": "text/x-python",
   "name": "python",
   "nbconvert_exporter": "python",
   "pygments_lexer": "ipython3",
   "version": "3.8.5"
  }
 },
 "nbformat": 4,
 "nbformat_minor": 5
}
