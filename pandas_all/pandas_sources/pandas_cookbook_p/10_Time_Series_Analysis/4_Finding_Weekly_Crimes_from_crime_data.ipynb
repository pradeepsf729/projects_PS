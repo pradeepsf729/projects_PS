{
 "cells": [
  {
   "cell_type": "code",
   "execution_count": 1,
   "id": "31d06f98",
   "metadata": {},
   "outputs": [],
   "source": [
    "import pandas as pd"
   ]
  },
  {
   "cell_type": "markdown",
   "id": "c5b7ffec",
   "metadata": {},
   "source": [
    "### Finding the number of crimes reported for each week"
   ]
  },
  {
   "cell_type": "markdown",
   "id": "496d5653",
   "metadata": {},
   "source": [
    "#### it can be done by groupbing the data on weekly time"
   ]
  },
  {
   "cell_type": "code",
   "execution_count": 2,
   "id": "061442a0",
   "metadata": {},
   "outputs": [],
   "source": [
    "crime = pd.read_hdf('data/crime.h5')"
   ]
  },
  {
   "cell_type": "markdown",
   "id": "a37c70e5",
   "metadata": {},
   "source": [
    "#### the respample method which we need to use works on dataframe which has Time as Index"
   ]
  },
  {
   "cell_type": "code",
   "execution_count": 3,
   "id": "a1289157",
   "metadata": {},
   "outputs": [
    {
     "data": {
      "text/plain": [
       "pandas.core.indexes.numeric.Int64Index"
      ]
     },
     "execution_count": 3,
     "metadata": {},
     "output_type": "execute_result"
    }
   ],
   "source": [
    "type(crime.index)"
   ]
  },
  {
   "cell_type": "code",
   "execution_count": 4,
   "id": "d2c52502",
   "metadata": {},
   "outputs": [],
   "source": [
    "crime = crime.set_index('REPORTED_DATE')"
   ]
  },
  {
   "cell_type": "code",
   "execution_count": 5,
   "id": "37993ee1",
   "metadata": {},
   "outputs": [],
   "source": [
    "crime_sort = crime.sort_index()"
   ]
  },
  {
   "cell_type": "code",
   "execution_count": 6,
   "id": "81360c20",
   "metadata": {},
   "outputs": [
    {
     "data": {
      "text/plain": [
       "pandas.core.indexes.datetimes.DatetimeIndex"
      ]
     },
     "execution_count": 6,
     "metadata": {},
     "output_type": "execute_result"
    }
   ],
   "source": [
    "type(crime_sort.index)"
   ]
  },
  {
   "cell_type": "code",
   "execution_count": 7,
   "id": "7a00c024",
   "metadata": {},
   "outputs": [],
   "source": [
    "sampled_weekly = crime_sort.resample('W')"
   ]
  },
  {
   "cell_type": "code",
   "execution_count": 8,
   "id": "3403491a",
   "metadata": {},
   "outputs": [
    {
     "name": "stdout",
     "output_type": "stream",
     "text": [
      "DatetimeIndexResampler [freq=<Week: weekday=6>, axis=0, closed=right, label=right, convention=start, origin=start_day]\n"
     ]
    }
   ],
   "source": [
    "print(sampled_weekly)"
   ]
  },
  {
   "cell_type": "code",
   "execution_count": 9,
   "id": "e50fba41",
   "metadata": {},
   "outputs": [],
   "source": [
    "weekly_crimes = sampled_weekly.size()"
   ]
  },
  {
   "cell_type": "code",
   "execution_count": 10,
   "id": "767f23e9",
   "metadata": {},
   "outputs": [
    {
     "data": {
      "text/plain": [
       "REPORTED_DATE\n",
       "2012-01-08     877\n",
       "2012-01-15    1071\n",
       "2012-01-22     991\n",
       "2012-01-29     988\n",
       "2012-02-05     888\n",
       "2012-02-12    1013\n",
       "2012-02-19     982\n",
       "2012-02-26     974\n",
       "2012-03-04     921\n",
       "2012-03-11     929\n",
       "Freq: W-SUN, dtype: int64"
      ]
     },
     "execution_count": 10,
     "metadata": {},
     "output_type": "execute_result"
    }
   ],
   "source": [
    "weekly_crimes.head(10)  # index is already sorted, so get sorted based on the time"
   ]
  },
  {
   "cell_type": "markdown",
   "id": "06723f5d",
   "metadata": {},
   "source": [
    "#### verifying with original data"
   ]
  },
  {
   "cell_type": "code",
   "execution_count": 11,
   "id": "fab0c5f5",
   "metadata": {},
   "outputs": [
    {
     "data": {
      "text/plain": [
       "877"
      ]
     },
     "execution_count": 11,
     "metadata": {},
     "output_type": "execute_result"
    }
   ],
   "source": [
    "len(crime_sort.loc[: '2012-01-08'])  # crime upto Jan 8th 2012"
   ]
  },
  {
   "cell_type": "code",
   "execution_count": 12,
   "id": "73916f69",
   "metadata": {},
   "outputs": [
    {
     "data": {
      "text/plain": [
       "1071"
      ]
     },
     "execution_count": 12,
     "metadata": {},
     "output_type": "execute_result"
    }
   ],
   "source": [
    "len(crime_sort.loc['2012-1-9':'2012-1-15'])  # jan 9th - 15th (next week)"
   ]
  },
  {
   "cell_type": "code",
   "execution_count": 13,
   "id": "d9b76c3e",
   "metadata": {},
   "outputs": [],
   "source": [
    "weekly_sample_ending_thu = crime_sort.resample('W-THU').size()"
   ]
  },
  {
   "cell_type": "code",
   "execution_count": 14,
   "id": "2e91f0f6",
   "metadata": {},
   "outputs": [
    {
     "data": {
      "text/plain": [
       "REPORTED_DATE\n",
       "2012-01-05     462\n",
       "2012-01-12    1116\n",
       "2012-01-19     924\n",
       "2012-01-26    1061\n",
       "2012-02-02     926\n",
       "Freq: W-THU, dtype: int64"
      ]
     },
     "execution_count": 14,
     "metadata": {},
     "output_type": "execute_result"
    }
   ],
   "source": [
    "weekly_sample_ending_thu.head()"
   ]
  },
  {
   "cell_type": "code",
   "execution_count": 15,
   "id": "b3dafd96",
   "metadata": {},
   "outputs": [
    {
     "data": {
      "text/plain": [
       "462"
      ]
     },
     "execution_count": 15,
     "metadata": {},
     "output_type": "execute_result"
    }
   ],
   "source": [
    "len(crime_sort.loc[: '2012-01-05'])  # crime upto Jan 5th 2012"
   ]
  },
  {
   "cell_type": "markdown",
   "id": "17b699b0",
   "metadata": {},
   "source": [
    "#### getting the same with groupby method of the data frame."
   ]
  },
  {
   "cell_type": "code",
   "execution_count": 16,
   "id": "77051cc6",
   "metadata": {},
   "outputs": [],
   "source": [
    "weekly_crimes_gby = crime_sort.groupby(pd.Grouper(freq='W')).size()"
   ]
  },
  {
   "cell_type": "code",
   "execution_count": 17,
   "id": "49765804",
   "metadata": {},
   "outputs": [
    {
     "data": {
      "text/plain": [
       "REPORTED_DATE\n",
       "2012-01-08     877\n",
       "2012-01-15    1071\n",
       "2012-01-22     991\n",
       "2012-01-29     988\n",
       "2012-02-05     888\n",
       "Freq: W-SUN, dtype: int64"
      ]
     },
     "execution_count": 17,
     "metadata": {},
     "output_type": "execute_result"
    }
   ],
   "source": [
    "weekly_crimes_gby.head()"
   ]
  },
  {
   "cell_type": "markdown",
   "id": "a7653587",
   "metadata": {},
   "source": [
    "#### using resample method, when the df dont have TimeStamp as indexx"
   ]
  },
  {
   "cell_type": "code",
   "execution_count": 18,
   "id": "082ca7a8",
   "metadata": {},
   "outputs": [],
   "source": [
    "crime = pd.read_hdf('data/crime.h5')"
   ]
  },
  {
   "cell_type": "code",
   "execution_count": 19,
   "id": "98f6b6dc",
   "metadata": {},
   "outputs": [],
   "source": [
    "weekly_crimes2 = crime.resample('W', on='REPORTED_DATE').size()"
   ]
  },
  {
   "cell_type": "code",
   "execution_count": 20,
   "id": "14745017",
   "metadata": {},
   "outputs": [
    {
     "data": {
      "text/plain": [
       "True"
      ]
     },
     "execution_count": 20,
     "metadata": {},
     "output_type": "execute_result"
    }
   ],
   "source": [
    "weekly_crimes2.equals(weekly_crimes)"
   ]
  },
  {
   "cell_type": "code",
   "execution_count": 21,
   "id": "a06e8b1a",
   "metadata": {},
   "outputs": [],
   "source": [
    "weekly_crimes_gby_2 = crime.groupby(pd.Grouper(key='REPORTED_DATE', freq='W')).size()"
   ]
  },
  {
   "cell_type": "code",
   "execution_count": 22,
   "id": "297b640c",
   "metadata": {},
   "outputs": [
    {
     "data": {
      "text/plain": [
       "True"
      ]
     },
     "execution_count": 22,
     "metadata": {},
     "output_type": "execute_result"
    }
   ],
   "source": [
    "weekly_crimes_gby_2.equals(weekly_crimes_gby)"
   ]
  },
  {
   "cell_type": "code",
   "execution_count": 23,
   "id": "8ea2bb5e",
   "metadata": {},
   "outputs": [
    {
     "data": {
      "text/plain": [
       "True"
      ]
     },
     "execution_count": 23,
     "metadata": {},
     "output_type": "execute_result"
    }
   ],
   "source": [
    "weekly_crimes_gby_2.equals(weekly_crimes2)"
   ]
  },
  {
   "cell_type": "code",
   "execution_count": 24,
   "id": "03a2980c",
   "metadata": {},
   "outputs": [
    {
     "data": {
      "image/png": "[encoded data removed]",
      "text/plain": [
       "<Figure size 1152x288 with 1 Axes>"
      ]
     },
     "metadata": {
      "needs_background": "light"
     },
     "output_type": "display_data"
    }
   ],
   "source": [
    "plot = weekly_crimes.plot(figsize=(16, 4), title='Crimes in denver')"
   ]
  },
  {
   "cell_type": "code",
   "execution_count": null,
   "id": "671b9b1f",
   "metadata": {},
   "outputs": [],
   "source": []
  }
 ],
 "metadata": {
  "kernelspec": {
   "display_name": "Python 3",
   "language": "python",
   "name": "python3"
  },
  "language_info": {
   "codemirror_mode": {
    "name": "ipython",
    "version": 3
   },
   "file_extension": ".py",
   "mimetype": "text/x-python",
   "name": "python",
   "nbconvert_exporter": "python",
   "pygments_lexer": "ipython3",
   "version": "3.8.5"
  }
 },
 "nbformat": 4,
 "nbformat_minor": 5
}
