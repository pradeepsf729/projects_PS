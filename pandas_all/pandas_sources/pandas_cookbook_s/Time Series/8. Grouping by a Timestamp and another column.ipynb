{
 "cells": [
  {
   "cell_type": "code",
   "execution_count": 44,
   "metadata": {},
   "outputs": [],
   "source": [
    "import pandas as pd \n",
    "import numpy as np"
   ]
  },
  {
   "cell_type": "code",
   "execution_count": 45,
   "metadata": {},
   "outputs": [],
   "source": [
    "employee = pd.read_csv('../data/employee.csv',\n",
    "parse_dates=['JOB_DATE', 'HIRE_DATE'],\n",
    "index_col='HIRE_DATE')"
   ]
  },
  {
   "cell_type": "code",
   "execution_count": 46,
   "metadata": {},
   "outputs": [
    {
     "data": {
      "text/html": [
       "<div>\n",
       "<style scoped>\n",
       "    .dataframe tbody tr th:only-of-type {\n",
       "        vertical-align: middle;\n",
       "    }\n",
       "\n",
       "    .dataframe tbody tr th {\n",
       "        vertical-align: top;\n",
       "    }\n",
       "\n",
       "    .dataframe thead th {\n",
       "        text-align: right;\n",
       "    }\n",
       "</style>\n",
       "<table border=\"1\" class=\"dataframe\">\n",
       "  <thead>\n",
       "    <tr style=\"text-align: right;\">\n",
       "      <th></th>\n",
       "      <th>UNIQUE_ID</th>\n",
       "      <th>POSITION_TITLE</th>\n",
       "      <th>DEPARTMENT</th>\n",
       "      <th>BASE_SALARY</th>\n",
       "      <th>RACE</th>\n",
       "      <th>EMPLOYMENT_TYPE</th>\n",
       "      <th>GENDER</th>\n",
       "      <th>EMPLOYMENT_STATUS</th>\n",
       "      <th>JOB_DATE</th>\n",
       "    </tr>\n",
       "    <tr>\n",
       "      <th>HIRE_DATE</th>\n",
       "      <th></th>\n",
       "      <th></th>\n",
       "      <th></th>\n",
       "      <th></th>\n",
       "      <th></th>\n",
       "      <th></th>\n",
       "      <th></th>\n",
       "      <th></th>\n",
       "      <th></th>\n",
       "    </tr>\n",
       "  </thead>\n",
       "  <tbody>\n",
       "    <tr>\n",
       "      <th>2006-06-12</th>\n",
       "      <td>0</td>\n",
       "      <td>ASSISTANT DIRECTOR (EX LVL)</td>\n",
       "      <td>Municipal Courts Department</td>\n",
       "      <td>121862.0</td>\n",
       "      <td>Hispanic/Latino</td>\n",
       "      <td>Full Time</td>\n",
       "      <td>Female</td>\n",
       "      <td>Active</td>\n",
       "      <td>2012-10-13</td>\n",
       "    </tr>\n",
       "    <tr>\n",
       "      <th>2000-07-19</th>\n",
       "      <td>1</td>\n",
       "      <td>LIBRARY ASSISTANT</td>\n",
       "      <td>Library</td>\n",
       "      <td>26125.0</td>\n",
       "      <td>Hispanic/Latino</td>\n",
       "      <td>Full Time</td>\n",
       "      <td>Female</td>\n",
       "      <td>Active</td>\n",
       "      <td>2010-09-18</td>\n",
       "    </tr>\n",
       "    <tr>\n",
       "      <th>2015-02-03</th>\n",
       "      <td>2</td>\n",
       "      <td>POLICE OFFICER</td>\n",
       "      <td>Houston Police Department-HPD</td>\n",
       "      <td>45279.0</td>\n",
       "      <td>White</td>\n",
       "      <td>Full Time</td>\n",
       "      <td>Male</td>\n",
       "      <td>Active</td>\n",
       "      <td>2015-02-03</td>\n",
       "    </tr>\n",
       "    <tr>\n",
       "      <th>1982-02-08</th>\n",
       "      <td>3</td>\n",
       "      <td>ENGINEER/OPERATOR</td>\n",
       "      <td>Houston Fire Department (HFD)</td>\n",
       "      <td>63166.0</td>\n",
       "      <td>White</td>\n",
       "      <td>Full Time</td>\n",
       "      <td>Male</td>\n",
       "      <td>Active</td>\n",
       "      <td>1991-05-25</td>\n",
       "    </tr>\n",
       "    <tr>\n",
       "      <th>1989-06-19</th>\n",
       "      <td>4</td>\n",
       "      <td>ELECTRICIAN</td>\n",
       "      <td>General Services Department</td>\n",
       "      <td>56347.0</td>\n",
       "      <td>White</td>\n",
       "      <td>Full Time</td>\n",
       "      <td>Male</td>\n",
       "      <td>Active</td>\n",
       "      <td>1994-10-22</td>\n",
       "    </tr>\n",
       "  </tbody>\n",
       "</table>\n",
       "</div>"
      ],
      "text/plain": [
       "            UNIQUE_ID               POSITION_TITLE  \\\n",
       "HIRE_DATE                                            \n",
       "2006-06-12          0  ASSISTANT DIRECTOR (EX LVL)   \n",
       "2000-07-19          1            LIBRARY ASSISTANT   \n",
       "2015-02-03          2               POLICE OFFICER   \n",
       "1982-02-08          3            ENGINEER/OPERATOR   \n",
       "1989-06-19          4                  ELECTRICIAN   \n",
       "\n",
       "                               DEPARTMENT  BASE_SALARY             RACE  \\\n",
       "HIRE_DATE                                                                 \n",
       "2006-06-12    Municipal Courts Department     121862.0  Hispanic/Latino   \n",
       "2000-07-19                        Library      26125.0  Hispanic/Latino   \n",
       "2015-02-03  Houston Police Department-HPD      45279.0            White   \n",
       "1982-02-08  Houston Fire Department (HFD)      63166.0            White   \n",
       "1989-06-19    General Services Department      56347.0            White   \n",
       "\n",
       "           EMPLOYMENT_TYPE  GENDER EMPLOYMENT_STATUS   JOB_DATE  \n",
       "HIRE_DATE                                                        \n",
       "2006-06-12       Full Time  Female            Active 2012-10-13  \n",
       "2000-07-19       Full Time  Female            Active 2010-09-18  \n",
       "2015-02-03       Full Time    Male            Active 2015-02-03  \n",
       "1982-02-08       Full Time    Male            Active 1991-05-25  \n",
       "1989-06-19       Full Time    Male            Active 1994-10-22  "
      ]
     },
     "execution_count": 46,
     "metadata": {},
     "output_type": "execute_result"
    }
   ],
   "source": [
    "employee.head()"
   ]
  },
  {
   "cell_type": "code",
   "execution_count": 47,
   "metadata": {},
   "outputs": [
    {
     "data": {
      "text/plain": [
       "GENDER\n",
       "Female    52200.0\n",
       "Male      57400.0\n",
       "Name: BASE_SALARY, dtype: float64"
      ]
     },
     "execution_count": 47,
     "metadata": {},
     "output_type": "execute_result"
    }
   ],
   "source": [
    "employee.groupby('GENDER')['BASE_SALARY'].mean().round(-2)"
   ]
  },
  {
   "cell_type": "code",
   "execution_count": 48,
   "metadata": {},
   "outputs": [
    {
     "data": {
      "text/plain": [
       "HIRE_DATE\n",
       "1958-01-01     81200.0\n",
       "1968-01-01    106500.0\n",
       "1978-01-01     69600.0\n",
       "1988-01-01     62300.0\n",
       "1998-01-01     58200.0\n",
       "2008-01-01     47200.0\n",
       "Freq: 10AS-JAN, Name: BASE_SALARY, dtype: float64"
      ]
     },
     "execution_count": 48,
     "metadata": {},
     "output_type": "execute_result"
    }
   ],
   "source": [
    "employee.resample('10AS')['BASE_SALARY'].mean().round(-2)"
   ]
  },
  {
   "cell_type": "code",
   "execution_count": 49,
   "metadata": {},
   "outputs": [
    {
     "data": {
      "text/plain": [
       "GENDER  HIRE_DATE \n",
       "Female  1975-01-01     51600.0\n",
       "        1985-01-01     57600.0\n",
       "        1995-01-01     55500.0\n",
       "        2005-01-01     51700.0\n",
       "        2015-01-01     38600.0\n",
       "Male    1958-01-01     81200.0\n",
       "        1968-01-01    106500.0\n",
       "        1978-01-01     72300.0\n",
       "        1988-01-01     64600.0\n",
       "        1998-01-01     59700.0\n",
       "        2008-01-01     47200.0\n",
       "Name: BASE_SALARY, dtype: float64"
      ]
     },
     "execution_count": 49,
     "metadata": {},
     "output_type": "execute_result"
    }
   ],
   "source": [
    "employee.groupby('GENDER').resample('10AS')['BASE_SALARY'].mean().round(-2)"
   ]
  },
  {
   "cell_type": "code",
   "execution_count": 50,
   "metadata": {},
   "outputs": [],
   "source": [
    "sal_avg = employee.groupby('GENDER').resample('10AS')['BASE_SALARY'].mean().round(-2)"
   ]
  },
  {
   "cell_type": "code",
   "execution_count": 51,
   "metadata": {},
   "outputs": [
    {
     "data": {
      "text/plain": [
       "GENDER  HIRE_DATE \n",
       "Female  1975-01-01     51600.0\n",
       "        1985-01-01     57600.0\n",
       "        1995-01-01     55500.0\n",
       "        2005-01-01     51700.0\n",
       "        2015-01-01     38600.0\n",
       "Male    1958-01-01     81200.0\n",
       "        1968-01-01    106500.0\n",
       "        1978-01-01     72300.0\n",
       "        1988-01-01     64600.0\n",
       "        1998-01-01     59700.0\n",
       "        2008-01-01     47200.0\n",
       "Name: BASE_SALARY, dtype: float64"
      ]
     },
     "execution_count": 51,
     "metadata": {},
     "output_type": "execute_result"
    }
   ],
   "source": [
    "sal_avg"
   ]
  },
  {
   "cell_type": "code",
   "execution_count": 52,
   "metadata": {},
   "outputs": [
    {
     "data": {
      "text/html": [
       "<div>\n",
       "<style scoped>\n",
       "    .dataframe tbody tr th:only-of-type {\n",
       "        vertical-align: middle;\n",
       "    }\n",
       "\n",
       "    .dataframe tbody tr th {\n",
       "        vertical-align: top;\n",
       "    }\n",
       "\n",
       "    .dataframe thead th {\n",
       "        text-align: right;\n",
       "    }\n",
       "</style>\n",
       "<table border=\"1\" class=\"dataframe\">\n",
       "  <thead>\n",
       "    <tr style=\"text-align: right;\">\n",
       "      <th>GENDER</th>\n",
       "      <th>Female</th>\n",
       "      <th>Male</th>\n",
       "    </tr>\n",
       "    <tr>\n",
       "      <th>HIRE_DATE</th>\n",
       "      <th></th>\n",
       "      <th></th>\n",
       "    </tr>\n",
       "  </thead>\n",
       "  <tbody>\n",
       "    <tr>\n",
       "      <th>1958-01-01</th>\n",
       "      <td>NaN</td>\n",
       "      <td>81200.0</td>\n",
       "    </tr>\n",
       "    <tr>\n",
       "      <th>1968-01-01</th>\n",
       "      <td>NaN</td>\n",
       "      <td>106500.0</td>\n",
       "    </tr>\n",
       "    <tr>\n",
       "      <th>1975-01-01</th>\n",
       "      <td>51600.0</td>\n",
       "      <td>NaN</td>\n",
       "    </tr>\n",
       "    <tr>\n",
       "      <th>1978-01-01</th>\n",
       "      <td>NaN</td>\n",
       "      <td>72300.0</td>\n",
       "    </tr>\n",
       "    <tr>\n",
       "      <th>1985-01-01</th>\n",
       "      <td>57600.0</td>\n",
       "      <td>NaN</td>\n",
       "    </tr>\n",
       "    <tr>\n",
       "      <th>1988-01-01</th>\n",
       "      <td>NaN</td>\n",
       "      <td>64600.0</td>\n",
       "    </tr>\n",
       "    <tr>\n",
       "      <th>1995-01-01</th>\n",
       "      <td>55500.0</td>\n",
       "      <td>NaN</td>\n",
       "    </tr>\n",
       "    <tr>\n",
       "      <th>1998-01-01</th>\n",
       "      <td>NaN</td>\n",
       "      <td>59700.0</td>\n",
       "    </tr>\n",
       "    <tr>\n",
       "      <th>2005-01-01</th>\n",
       "      <td>51700.0</td>\n",
       "      <td>NaN</td>\n",
       "    </tr>\n",
       "    <tr>\n",
       "      <th>2008-01-01</th>\n",
       "      <td>NaN</td>\n",
       "      <td>47200.0</td>\n",
       "    </tr>\n",
       "    <tr>\n",
       "      <th>2015-01-01</th>\n",
       "      <td>38600.0</td>\n",
       "      <td>NaN</td>\n",
       "    </tr>\n",
       "  </tbody>\n",
       "</table>\n",
       "</div>"
      ],
      "text/plain": [
       "GENDER       Female      Male\n",
       "HIRE_DATE                    \n",
       "1958-01-01      NaN   81200.0\n",
       "1968-01-01      NaN  106500.0\n",
       "1975-01-01  51600.0       NaN\n",
       "1978-01-01      NaN   72300.0\n",
       "1985-01-01  57600.0       NaN\n",
       "1988-01-01      NaN   64600.0\n",
       "1995-01-01  55500.0       NaN\n",
       "1998-01-01      NaN   59700.0\n",
       "2005-01-01  51700.0       NaN\n",
       "2008-01-01      NaN   47200.0\n",
       "2015-01-01  38600.0       NaN"
      ]
     },
     "execution_count": 52,
     "metadata": {},
     "output_type": "execute_result"
    }
   ],
   "source": [
    "sal_avg.unstack('GENDER')"
   ]
  },
  {
   "cell_type": "code",
   "execution_count": 53,
   "metadata": {},
   "outputs": [
    {
     "data": {
      "text/plain": [
       "Timestamp('1958-12-29 00:00:00')"
      ]
     },
     "execution_count": 53,
     "metadata": {},
     "output_type": "execute_result"
    }
   ],
   "source": [
    "employee[employee['GENDER'] == 'Male'].index.min()"
   ]
  },
  {
   "cell_type": "code",
   "execution_count": 54,
   "metadata": {},
   "outputs": [
    {
     "data": {
      "text/plain": [
       "Timestamp('1975-06-09 00:00:00')"
      ]
     },
     "execution_count": 54,
     "metadata": {},
     "output_type": "execute_result"
    }
   ],
   "source": [
    "employee[employee['GENDER'] == 'Female'].index.min()"
   ]
  },
  {
   "cell_type": "code",
   "execution_count": 55,
   "metadata": {},
   "outputs": [],
   "source": [
    "sal_avg2 = employee.groupby(['GENDER',\n",
    " pd.Grouper(freq='10AS')]) \\\n",
    " ['BASE_SALARY'].mean().round(-2)"
   ]
  },
  {
   "cell_type": "code",
   "execution_count": 56,
   "metadata": {},
   "outputs": [
    {
     "data": {
      "text/plain": [
       "GENDER  HIRE_DATE \n",
       "Female  1968-01-01         NaN\n",
       "        1978-01-01     57100.0\n",
       "        1988-01-01     57100.0\n",
       "        1998-01-01     54700.0\n",
       "        2008-01-01     47300.0\n",
       "Male    1958-01-01     81200.0\n",
       "        1968-01-01    106500.0\n",
       "        1978-01-01     72300.0\n",
       "        1988-01-01     64600.0\n",
       "        1998-01-01     59700.0\n",
       "        2008-01-01     47200.0\n",
       "Name: BASE_SALARY, dtype: float64"
      ]
     },
     "execution_count": 56,
     "metadata": {},
     "output_type": "execute_result"
    }
   ],
   "source": [
    "sal_avg2"
   ]
  },
  {
   "cell_type": "code",
   "execution_count": 57,
   "metadata": {},
   "outputs": [
    {
     "data": {
      "text/html": [
       "<div>\n",
       "<style scoped>\n",
       "    .dataframe tbody tr th:only-of-type {\n",
       "        vertical-align: middle;\n",
       "    }\n",
       "\n",
       "    .dataframe tbody tr th {\n",
       "        vertical-align: top;\n",
       "    }\n",
       "\n",
       "    .dataframe thead th {\n",
       "        text-align: right;\n",
       "    }\n",
       "</style>\n",
       "<table border=\"1\" class=\"dataframe\">\n",
       "  <thead>\n",
       "    <tr style=\"text-align: right;\">\n",
       "      <th>GENDER</th>\n",
       "      <th>Female</th>\n",
       "      <th>Male</th>\n",
       "    </tr>\n",
       "    <tr>\n",
       "      <th>HIRE_DATE</th>\n",
       "      <th></th>\n",
       "      <th></th>\n",
       "    </tr>\n",
       "  </thead>\n",
       "  <tbody>\n",
       "    <tr>\n",
       "      <th>1958-01-01</th>\n",
       "      <td>NaN</td>\n",
       "      <td>81200.0</td>\n",
       "    </tr>\n",
       "    <tr>\n",
       "      <th>1968-01-01</th>\n",
       "      <td>NaN</td>\n",
       "      <td>106500.0</td>\n",
       "    </tr>\n",
       "    <tr>\n",
       "      <th>1978-01-01</th>\n",
       "      <td>57100.0</td>\n",
       "      <td>72300.0</td>\n",
       "    </tr>\n",
       "    <tr>\n",
       "      <th>1988-01-01</th>\n",
       "      <td>57100.0</td>\n",
       "      <td>64600.0</td>\n",
       "    </tr>\n",
       "    <tr>\n",
       "      <th>1998-01-01</th>\n",
       "      <td>54700.0</td>\n",
       "      <td>59700.0</td>\n",
       "    </tr>\n",
       "    <tr>\n",
       "      <th>2008-01-01</th>\n",
       "      <td>47300.0</td>\n",
       "      <td>47200.0</td>\n",
       "    </tr>\n",
       "  </tbody>\n",
       "</table>\n",
       "</div>"
      ],
      "text/plain": [
       "GENDER       Female      Male\n",
       "HIRE_DATE                    \n",
       "1958-01-01      NaN   81200.0\n",
       "1968-01-01      NaN  106500.0\n",
       "1978-01-01  57100.0   72300.0\n",
       "1988-01-01  57100.0   64600.0\n",
       "1998-01-01  54700.0   59700.0\n",
       "2008-01-01  47300.0   47200.0"
      ]
     },
     "execution_count": 57,
     "metadata": {},
     "output_type": "execute_result"
    }
   ],
   "source": [
    "sal_final = sal_avg2.unstack('GENDER')\n",
    "sal_final"
   ]
  },
  {
   "cell_type": "code",
   "execution_count": 58,
   "metadata": {
    "scrolled": false
   },
   "outputs": [
    {
     "data": {
      "text/plain": [
       "['BASE_SALARY',\n",
       " 'DEPARTMENT',\n",
       " 'EMPLOYMENT_STATUS',\n",
       " 'EMPLOYMENT_TYPE',\n",
       " 'GENDER',\n",
       " 'JOB_DATE',\n",
       " 'POSITION_TITLE',\n",
       " 'RACE',\n",
       " 'UNIQUE_ID',\n",
       " '__annotations__',\n",
       " '__class__',\n",
       " '__delattr__',\n",
       " '__dict__',\n",
       " '__dir__',\n",
       " '__doc__',\n",
       " '__eq__',\n",
       " '__format__',\n",
       " '__ge__',\n",
       " '__getattr__',\n",
       " '__getattribute__',\n",
       " '__getitem__',\n",
       " '__gt__',\n",
       " '__hash__',\n",
       " '__init__',\n",
       " '__init_subclass__',\n",
       " '__iter__',\n",
       " '__le__',\n",
       " '__len__',\n",
       " '__lt__',\n",
       " '__module__',\n",
       " '__ne__',\n",
       " '__new__',\n",
       " '__reduce__',\n",
       " '__reduce_ex__',\n",
       " '__repr__',\n",
       " '__setattr__',\n",
       " '__sizeof__',\n",
       " '__str__',\n",
       " '__subclasshook__',\n",
       " '__weakref__',\n",
       " '_accessors',\n",
       " '_add_numeric_operations',\n",
       " '_agg_examples_doc',\n",
       " '_agg_see_also_doc',\n",
       " '_aggregate',\n",
       " '_aggregate_frame',\n",
       " '_aggregate_item_by_item',\n",
       " '_aggregate_multiple_funcs',\n",
       " '_apply_filter',\n",
       " '_apply_to_column_groupbys',\n",
       " '_apply_whitelist',\n",
       " '_assure_grouper',\n",
       " '_bool_agg',\n",
       " '_builtin_table',\n",
       " '_choose_path',\n",
       " '_concat_objects',\n",
       " '_constructor',\n",
       " '_cumcount_array',\n",
       " '_cython_agg_blocks',\n",
       " '_cython_agg_general',\n",
       " '_cython_table',\n",
       " '_cython_transform',\n",
       " '_define_paths',\n",
       " '_deprecations',\n",
       " '_dir_additions',\n",
       " '_dir_deletions',\n",
       " '_fill',\n",
       " '_get_cython_func',\n",
       " '_get_cythonized_result',\n",
       " '_get_data_to_aggregate',\n",
       " '_get_index',\n",
       " '_get_indices',\n",
       " '_gotitem',\n",
       " '_group_selection',\n",
       " '_insert_inaxis_grouper_inplace',\n",
       " '_internal_names',\n",
       " '_internal_names_set',\n",
       " '_is_builtin_func',\n",
       " '_iterate_column_groupbys',\n",
       " '_iterate_slices',\n",
       " '_make_wrapper',\n",
       " '_obj_with_exclusions',\n",
       " '_python_agg_general',\n",
       " '_python_apply_general',\n",
       " '_reindex_output',\n",
       " '_reset_cache',\n",
       " '_reset_group_selection',\n",
       " '_selected_obj',\n",
       " '_selection',\n",
       " '_selection_list',\n",
       " '_selection_name',\n",
       " '_set_group_selection',\n",
       " '_set_result_index_ordered',\n",
       " '_transform_fast',\n",
       " '_transform_general',\n",
       " '_transform_item_by_item',\n",
       " '_transform_should_cast',\n",
       " '_try_aggregate_string_function',\n",
       " '_try_cast',\n",
       " '_wrap_agged_blocks',\n",
       " '_wrap_aggregated_output',\n",
       " '_wrap_applied_output',\n",
       " '_wrap_frame_output',\n",
       " '_wrap_transformed_output',\n",
       " 'agg',\n",
       " 'aggregate',\n",
       " 'all',\n",
       " 'any',\n",
       " 'apply',\n",
       " 'backfill',\n",
       " 'bfill',\n",
       " 'boxplot',\n",
       " 'corr',\n",
       " 'corrwith',\n",
       " 'count',\n",
       " 'cov',\n",
       " 'cumcount',\n",
       " 'cummax',\n",
       " 'cummin',\n",
       " 'cumprod',\n",
       " 'cumsum',\n",
       " 'describe',\n",
       " 'diff',\n",
       " 'dtypes',\n",
       " 'expanding',\n",
       " 'ffill',\n",
       " 'fillna',\n",
       " 'filter',\n",
       " 'first',\n",
       " 'get_group',\n",
       " 'groups',\n",
       " 'head',\n",
       " 'hist',\n",
       " 'idxmax',\n",
       " 'idxmin',\n",
       " 'indices',\n",
       " 'last',\n",
       " 'mad',\n",
       " 'max',\n",
       " 'mean',\n",
       " 'median',\n",
       " 'min',\n",
       " 'ndim',\n",
       " 'ngroup',\n",
       " 'ngroups',\n",
       " 'nth',\n",
       " 'nunique',\n",
       " 'ohlc',\n",
       " 'pad',\n",
       " 'pct_change',\n",
       " 'pipe',\n",
       " 'plot',\n",
       " 'prod',\n",
       " 'quantile',\n",
       " 'rank',\n",
       " 'resample',\n",
       " 'rolling',\n",
       " 'sem',\n",
       " 'shift',\n",
       " 'size',\n",
       " 'skew',\n",
       " 'std',\n",
       " 'sum',\n",
       " 'tail',\n",
       " 'take',\n",
       " 'transform',\n",
       " 'tshift',\n",
       " 'var']"
      ]
     },
     "execution_count": 58,
     "metadata": {},
     "output_type": "execute_result"
    }
   ],
   "source": [
    "dir(employee.groupby('GENDER'))"
   ]
  },
  {
   "cell_type": "code",
   "execution_count": 59,
   "metadata": {},
   "outputs": [
    {
     "data": {
      "text/plain": [
       "True"
      ]
     },
     "execution_count": 59,
     "metadata": {},
     "output_type": "execute_result"
    }
   ],
   "source": [
    "'resample' in dir(employee.groupby('GENDER'))"
   ]
  },
  {
   "cell_type": "code",
   "execution_count": 60,
   "metadata": {},
   "outputs": [
    {
     "data": {
      "text/plain": [
       "True"
      ]
     },
     "execution_count": 60,
     "metadata": {},
     "output_type": "execute_result"
    }
   ],
   "source": [
    "'resample' in dir(employee.groupby('GENDER'))"
   ]
  },
  {
   "cell_type": "code",
   "execution_count": 61,
   "metadata": {},
   "outputs": [
    {
     "data": {
      "text/plain": [
       "Int64Index([1958, 1968, 1978, 1988, 1998, 2008], dtype='int64', name='HIRE_DATE')"
      ]
     },
     "execution_count": 61,
     "metadata": {},
     "output_type": "execute_result"
    }
   ],
   "source": [
    "years = sal_final.index.year\n",
    "years"
   ]
  },
  {
   "cell_type": "code",
   "execution_count": 62,
   "metadata": {},
   "outputs": [
    {
     "data": {
      "text/plain": [
       "Int64Index([1967, 1977, 1987, 1997, 2007, 2017], dtype='int64', name='HIRE_DATE')"
      ]
     },
     "execution_count": 62,
     "metadata": {},
     "output_type": "execute_result"
    }
   ],
   "source": [
    "years_right = years + 9\n",
    "years_right"
   ]
  },
  {
   "cell_type": "code",
   "execution_count": 63,
   "metadata": {},
   "outputs": [
    {
     "data": {
      "text/html": [
       "<div>\n",
       "<style scoped>\n",
       "    .dataframe tbody tr th:only-of-type {\n",
       "        vertical-align: middle;\n",
       "    }\n",
       "\n",
       "    .dataframe tbody tr th {\n",
       "        vertical-align: top;\n",
       "    }\n",
       "\n",
       "    .dataframe thead th {\n",
       "        text-align: right;\n",
       "    }\n",
       "</style>\n",
       "<table border=\"1\" class=\"dataframe\">\n",
       "  <thead>\n",
       "    <tr style=\"text-align: right;\">\n",
       "      <th>GENDER</th>\n",
       "      <th>Female</th>\n",
       "      <th>Male</th>\n",
       "    </tr>\n",
       "    <tr>\n",
       "      <th>HIRE_DATE</th>\n",
       "      <th></th>\n",
       "      <th></th>\n",
       "    </tr>\n",
       "  </thead>\n",
       "  <tbody>\n",
       "    <tr>\n",
       "      <th>1958-1967</th>\n",
       "      <td>NaN</td>\n",
       "      <td>81200.0</td>\n",
       "    </tr>\n",
       "    <tr>\n",
       "      <th>1968-1977</th>\n",
       "      <td>NaN</td>\n",
       "      <td>106500.0</td>\n",
       "    </tr>\n",
       "    <tr>\n",
       "      <th>1978-1987</th>\n",
       "      <td>57100.0</td>\n",
       "      <td>72300.0</td>\n",
       "    </tr>\n",
       "    <tr>\n",
       "      <th>1988-1997</th>\n",
       "      <td>57100.0</td>\n",
       "      <td>64600.0</td>\n",
       "    </tr>\n",
       "    <tr>\n",
       "      <th>1998-2007</th>\n",
       "      <td>54700.0</td>\n",
       "      <td>59700.0</td>\n",
       "    </tr>\n",
       "    <tr>\n",
       "      <th>2008-2017</th>\n",
       "      <td>47300.0</td>\n",
       "      <td>47200.0</td>\n",
       "    </tr>\n",
       "  </tbody>\n",
       "</table>\n",
       "</div>"
      ],
      "text/plain": [
       "GENDER      Female      Male\n",
       "HIRE_DATE                   \n",
       "1958-1967      NaN   81200.0\n",
       "1968-1977      NaN  106500.0\n",
       "1978-1987  57100.0   72300.0\n",
       "1988-1997  57100.0   64600.0\n",
       "1998-2007  54700.0   59700.0\n",
       "2008-2017  47300.0   47200.0"
      ]
     },
     "execution_count": 63,
     "metadata": {},
     "output_type": "execute_result"
    }
   ],
   "source": [
    "sal_final.index = years.astype(str) + '-' + years_right.astype(str)\n",
    "sal_final"
   ]
  },
  {
   "cell_type": "code",
   "execution_count": 68,
   "metadata": {},
   "outputs": [],
   "source": [
    "from pprint import pprint"
   ]
  },
  {
   "cell_type": "code",
   "execution_count": 71,
   "metadata": {
    "scrolled": true
   },
   "outputs": [
    {
     "data": {
      "text/plain": [
       "[(2004.0, 2016.0], (1993.0, 2004.0], (2004.0, 2016.0], (1981.0, 1993.0], (1981.0, 1993.0], ..., (2004.0, 2016.0], (1993.0, 2004.0], (2004.0, 2016.0], (2004.0, 2016.0], (2004.0, 2016.0]]\n",
       "Length: 2000\n",
       "Categories (5, interval[float64]): [(1958.0, 1970.0] < (1970.0, 1981.0] < (1981.0, 1993.0] < (1993.0, 2004.0] < (2004.0, 2016.0]]"
      ]
     },
     "execution_count": 71,
     "metadata": {},
     "output_type": "execute_result"
    }
   ],
   "source": [
    "cuts = pd.cut(employee.index.year, bins=5, precision=0)\n",
    "cuts"
   ]
  },
  {
   "cell_type": "code",
   "execution_count": 72,
   "metadata": {},
   "outputs": [
    {
     "data": {
      "text/plain": [
       "<IntervalArray>\n",
       "[(1958.0, 1970.0], (1970.0, 1981.0], (1981.0, 1993.0], (1993.0, 2004.0], (2004.0, 2016.0]]\n",
       "Length: 5, closed: right, dtype: interval[float64]"
      ]
     },
     "execution_count": 72,
     "metadata": {},
     "output_type": "execute_result"
    }
   ],
   "source": [
    "cuts.categories.values"
   ]
  },
  {
   "cell_type": "code",
   "execution_count": 73,
   "metadata": {},
   "outputs": [
    {
     "data": {
      "text/html": [
       "<div>\n",
       "<style scoped>\n",
       "    .dataframe tbody tr th:only-of-type {\n",
       "        vertical-align: middle;\n",
       "    }\n",
       "\n",
       "    .dataframe tbody tr th {\n",
       "        vertical-align: top;\n",
       "    }\n",
       "\n",
       "    .dataframe thead th {\n",
       "        text-align: right;\n",
       "    }\n",
       "</style>\n",
       "<table border=\"1\" class=\"dataframe\">\n",
       "  <thead>\n",
       "    <tr style=\"text-align: right;\">\n",
       "      <th>GENDER</th>\n",
       "      <th>Female</th>\n",
       "      <th>Male</th>\n",
       "    </tr>\n",
       "  </thead>\n",
       "  <tbody>\n",
       "    <tr>\n",
       "      <th>(1958.0, 1970.0]</th>\n",
       "      <td>NaN</td>\n",
       "      <td>85400.0</td>\n",
       "    </tr>\n",
       "    <tr>\n",
       "      <th>(1970.0, 1981.0]</th>\n",
       "      <td>54400.0</td>\n",
       "      <td>72700.0</td>\n",
       "    </tr>\n",
       "    <tr>\n",
       "      <th>(1981.0, 1993.0]</th>\n",
       "      <td>55700.0</td>\n",
       "      <td>69300.0</td>\n",
       "    </tr>\n",
       "    <tr>\n",
       "      <th>(1993.0, 2004.0]</th>\n",
       "      <td>56500.0</td>\n",
       "      <td>62300.0</td>\n",
       "    </tr>\n",
       "    <tr>\n",
       "      <th>(2004.0, 2016.0]</th>\n",
       "      <td>49100.0</td>\n",
       "      <td>49800.0</td>\n",
       "    </tr>\n",
       "  </tbody>\n",
       "</table>\n",
       "</div>"
      ],
      "text/plain": [
       "GENDER             Female     Male\n",
       "(1958.0, 1970.0]      NaN  85400.0\n",
       "(1970.0, 1981.0]  54400.0  72700.0\n",
       "(1981.0, 1993.0]  55700.0  69300.0\n",
       "(1993.0, 2004.0]  56500.0  62300.0\n",
       "(2004.0, 2016.0]  49100.0  49800.0"
      ]
     },
     "execution_count": 73,
     "metadata": {},
     "output_type": "execute_result"
    }
   ],
   "source": [
    "employee.groupby([cuts, 'GENDER'])['BASE_SALARY'] \\\n",
    " .mean().unstack('GENDER').round(-2)"
   ]
  },
  {
   "cell_type": "code",
   "execution_count": null,
   "metadata": {},
   "outputs": [],
   "source": []
  }
 ],
 "metadata": {
  "kernelspec": {
   "display_name": "Python 3",
   "language": "python",
   "name": "python3"
  },
  "language_info": {
   "codemirror_mode": {
    "name": "ipython",
    "version": 3
   },
   "file_extension": ".py",
   "mimetype": "text/x-python",
   "name": "python",
   "nbconvert_exporter": "python",
   "pygments_lexer": "ipython3",
   "version": "3.8.3"
  }
 },
 "nbformat": 4,
 "nbformat_minor": 4
}
