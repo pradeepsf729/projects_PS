{
 "cells": [
  {
   "cell_type": "markdown",
   "id": "binding-today",
   "metadata": {},
   "source": [
    "### %time - shows the time execution of a single statement"
   ]
  },
  {
   "cell_type": "code",
   "execution_count": 1,
   "id": "parliamentary-native",
   "metadata": {},
   "outputs": [
    {
     "name": "stdout",
     "output_type": "stream",
     "text": [
      "Wall time: 29.9 ms\n"
     ]
    },
    {
     "data": {
      "text/plain": [
       "499999500000"
      ]
     },
     "execution_count": 1,
     "metadata": {},
     "output_type": "execute_result"
    }
   ],
   "source": [
    "%time sum(range(1000000))"
   ]
  },
  {
   "cell_type": "code",
   "execution_count": 2,
   "id": "ecological-aspect",
   "metadata": {},
   "outputs": [
    {
     "name": "stdout",
     "output_type": "stream",
     "text": [
      "sorting an unsorted list:\n",
      "Wall time: 16 ms\n"
     ]
    }
   ],
   "source": [
    "import random\n",
    "L = [random.random() for i in range(100000)]\n",
    "print(\"sorting an unsorted list:\")\n",
    "%time L.sort()"
   ]
  },
  {
   "cell_type": "code",
   "execution_count": 3,
   "id": "tested-violin",
   "metadata": {},
   "outputs": [
    {
     "name": "stdout",
     "output_type": "stream",
     "text": [
      "sorting an already sorted list:\n",
      "Wall time: 997 µs\n"
     ]
    }
   ],
   "source": [
    "print(\"sorting an already sorted list:\")\n",
    "%time L.sort()"
   ]
  },
  {
   "cell_type": "markdown",
   "id": "according-cornwall",
   "metadata": {},
   "source": [
    "### %timeit - shows time taken for a single statement (with repeatedly executing it for more accuracy)"
   ]
  },
  {
   "cell_type": "code",
   "execution_count": 4,
   "id": "turkish-logistics",
   "metadata": {},
   "outputs": [
    {
     "name": "stdout",
     "output_type": "stream",
     "text": [
      "25.7 ms ± 1.17 ms per loop (mean ± std. dev. of 7 runs, 10 loops each)\n"
     ]
    }
   ],
   "source": [
    "%timeit sum(range(1000000))"
   ]
  },
  {
   "cell_type": "markdown",
   "id": "expensive-baking",
   "metadata": {},
   "source": [
    "### %%timeit - Use double % when working with multiple lines of code"
   ]
  },
  {
   "cell_type": "code",
   "execution_count": 5,
   "id": "atmospheric-victim",
   "metadata": {},
   "outputs": [
    {
     "name": "stdout",
     "output_type": "stream",
     "text": [
      "244 ms ± 6.83 ms per loop (mean ± std. dev. of 7 runs, 1 loop each)\n"
     ]
    }
   ],
   "source": [
    "%%timeit\n",
    "total = 0\n",
    "for i in range(1000):\n",
    "    for j in range(1000):\n",
    "        total += i * (-1) ** j"
   ]
  },
  {
   "cell_type": "markdown",
   "id": "martial-medicare",
   "metadata": {},
   "source": [
    "### %prun - profiling given method"
   ]
  },
  {
   "cell_type": "code",
   "execution_count": 6,
   "id": "voluntary-laugh",
   "metadata": {},
   "outputs": [],
   "source": [
    "def sum_of_lists(N):           \n",
    "    total = 0           \n",
    "    for i in range(5):               \n",
    "        L = [j ^ (j >> i) for j in range(N)]               \n",
    "        total += sum(L)           \n",
    "    return total"
   ]
  },
  {
   "cell_type": "code",
   "execution_count": 7,
   "id": "attempted-biodiversity",
   "metadata": {},
   "outputs": [
    {
     "name": "stdout",
     "output_type": "stream",
     "text": [
      " "
     ]
    }
   ],
   "source": [
    "%prun sum_of_lists(1000000)"
   ]
  },
  {
   "cell_type": "markdown",
   "id": "pretty-typing",
   "metadata": {},
   "source": [
    "### few other profiler commands, the package 'line-profiler' needs to be installed"
   ]
  },
  {
   "cell_type": "code",
   "execution_count": 8,
   "id": "humanitarian-hurricane",
   "metadata": {},
   "outputs": [],
   "source": [
    "%load_ext line_profiler"
   ]
  },
  {
   "cell_type": "markdown",
   "id": "incomplete-parking",
   "metadata": {},
   "source": [
    "### %lprun - line profiling for the given function"
   ]
  },
  {
   "cell_type": "code",
   "execution_count": 9,
   "id": "hidden-plasma",
   "metadata": {},
   "outputs": [],
   "source": [
    "%lprun -f sum_of_lists sum_of_lists(5000)"
   ]
  },
  {
   "cell_type": "markdown",
   "id": "center-venue",
   "metadata": {},
   "source": [
    "### for memory profiling, the package 'memory_profiler' needs to be installed"
   ]
  },
  {
   "cell_type": "code",
   "execution_count": 10,
   "id": "photographic-ballot",
   "metadata": {},
   "outputs": [],
   "source": [
    "%load_ext memory_profiler"
   ]
  },
  {
   "cell_type": "markdown",
   "id": "nearby-jaguar",
   "metadata": {},
   "source": [
    "### %memit - provides memory consumtion for total method"
   ]
  },
  {
   "cell_type": "code",
   "execution_count": 11,
   "id": "coastal-retrieval",
   "metadata": {},
   "outputs": [
    {
     "name": "stdout",
     "output_type": "stream",
     "text": [
      "peak memory: 124.55 MiB, increment: 69.50 MiB\n"
     ]
    }
   ],
   "source": [
    "%memit sum_of_lists(1000000)"
   ]
  },
  {
   "cell_type": "code",
   "execution_count": 12,
   "id": "included-coalition",
   "metadata": {},
   "outputs": [
    {
     "name": "stdout",
     "output_type": "stream",
     "text": [
      "Overwriting mprun_demo.py\n"
     ]
    }
   ],
   "source": [
    "%%file mprun_demo.py\n",
    "def sum_of_lists(N):\n",
    "    total = 0\n",
    "    for i in range(5):\n",
    "        L = [j ^ (j >> i) for j in range(N)]\n",
    "        total += sum(L)\n",
    "        del L # remove reference to L\n",
    "    return total"
   ]
  },
  {
   "cell_type": "markdown",
   "id": "greenhouse-extra",
   "metadata": {},
   "source": [
    "### %mprun - provides line-by-line memory usage."
   ]
  },
  {
   "cell_type": "code",
   "execution_count": 13,
   "id": "motivated-patrick",
   "metadata": {},
   "outputs": [
    {
     "name": "stdout",
     "output_type": "stream",
     "text": [
      "\n"
     ]
    }
   ],
   "source": [
    "from mprun_demo import sum_of_lists\n",
    "%mprun -f sum_of_lists sum_of_lists(1000000)"
   ]
  },
  {
   "cell_type": "code",
   "execution_count": null,
   "id": "electoral-fluid",
   "metadata": {},
   "outputs": [],
   "source": []
  }
 ],
 "metadata": {
  "kernelspec": {
   "display_name": "Python 3",
   "language": "python",
   "name": "python3"
  },
  "language_info": {
   "codemirror_mode": {
    "name": "ipython",
    "version": 3
   },
   "file_extension": ".py",
   "mimetype": "text/x-python",
   "name": "python",
   "nbconvert_exporter": "python",
   "pygments_lexer": "ipython3",
   "version": "3.8.3"
  }
 },
 "nbformat": 4,
 "nbformat_minor": 5
}
